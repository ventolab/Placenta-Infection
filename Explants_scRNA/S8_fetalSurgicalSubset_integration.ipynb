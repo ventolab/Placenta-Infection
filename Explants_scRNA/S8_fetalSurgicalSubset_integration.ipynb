{
 "cells": [
  {
   "cell_type": "markdown",
   "id": "corporate-phase",
   "metadata": {},
   "source": [
    "**Author:** Elias Rafael Ruiz-Morales\n",
    "\n",
    "**Institution:** Wellcome Sanger institute\n",
    "\n",
    "**May, 2022**\n",
    "\n",
    "Re-integration of cleaned data\n"
   ]
  },
  {
   "cell_type": "markdown",
   "id": "varied-translation",
   "metadata": {},
   "source": [
    "----"
   ]
  },
  {
   "cell_type": "markdown",
   "id": "compatible-phase",
   "metadata": {},
   "source": [
    "# Re-integration of cleaned surgical data\n"
   ]
  },
  {
   "cell_type": "code",
   "execution_count": 1,
   "id": "sapphire-princeton",
   "metadata": {},
   "outputs": [],
   "source": [
    "from __future__ import print_function\n",
    "import torch\n",
    "\n",
    "import sys, os\n",
    "data_type = 'float32'\n",
    "os.environ[\"THEANO_FLAGS\"] = 'device=cuda,floatX=' + data_type + ',force_device=True'\n",
    "sys.path.insert(1, '../results/scVI/')"
   ]
  },
  {
   "cell_type": "code",
   "execution_count": 2,
   "id": "referenced-peoples",
   "metadata": {},
   "outputs": [
    {
     "name": "stderr",
     "output_type": "stream",
     "text": [
      "WARNING: If you miss a compact list, please try `print_header`!\n"
     ]
    },
    {
     "name": "stdout",
     "output_type": "stream",
     "text": [
      "-----\n",
      "anndata     0.7.6\n",
      "scanpy      1.7.0\n",
      "sinfo       0.3.1\n",
      "-----\n",
      "PIL                 8.3.0\n",
      "absl                NA\n",
      "anndata             0.7.6\n",
      "anyio               NA\n",
      "attr                21.2.0\n",
      "babel               2.9.1\n",
      "backcall            0.2.0\n",
      "beta_ufunc          NA\n",
      "binom_ufunc         NA\n",
      "brotli              NA\n",
      "cairo               1.20.1\n",
      "certifi             2021.05.30\n",
      "cffi                1.14.4\n",
      "chardet             4.0.0\n",
      "colorama            0.4.4\n",
      "cycler              0.10.0\n",
      "cython_runtime      NA\n",
      "dateutil            2.8.1\n",
      "debugpy             1.3.0\n",
      "decorator           5.0.9\n",
      "defusedxml          0.7.1\n",
      "dunamai             1.5.5\n",
      "fsspec              2021.06.1\n",
      "get_version         3.2\n",
      "google              NA\n",
      "h5py                3.3.0\n",
      "idna                2.10\n",
      "igraph              0.8.3\n",
      "ipykernel           6.0.0\n",
      "ipython_genutils    0.2.0\n",
      "ipywidgets          7.6.3\n",
      "jedi                0.18.0\n",
      "jinja2              3.0.1\n",
      "joblib              1.0.1\n",
      "json5               NA\n",
      "jsonschema          3.2.0\n",
      "jupyter_server      1.9.0\n",
      "jupyterlab_server   2.6.0\n",
      "kiwisolver          1.3.1\n",
      "legacy_api_wrap     0.0.0\n",
      "leidenalg           0.8.3\n",
      "llvmlite            0.34.0\n",
      "louvain             0.7.0\n",
      "markupsafe          2.0.1\n",
      "matplotlib          3.4.2\n",
      "matplotlib_inline   NA\n",
      "mpl_toolkits        NA\n",
      "natsort             7.1.1\n",
      "nbclassic           NA\n",
      "nbformat            5.1.3\n",
      "nbinom_ufunc        NA\n",
      "numba               0.51.2\n",
      "numexpr             2.7.3\n",
      "numpy               1.19.5\n",
      "opt_einsum          v3.3.0\n",
      "packaging           20.9\n",
      "pandas              1.2.4\n",
      "parso               0.8.2\n",
      "pexpect             4.8.0\n",
      "pickleshare         0.7.5\n",
      "pkg_resources       NA\n",
      "prometheus_client   NA\n",
      "prompt_toolkit      3.0.19\n",
      "ptyprocess          0.7.0\n",
      "pvectorc            NA\n",
      "pycparser           2.20\n",
      "pygments            2.9.0\n",
      "pyparsing           2.4.7\n",
      "pyro                1.5.2\n",
      "pyrsistent          NA\n",
      "pytorch_lightning   1.2.10\n",
      "pytz                2021.1\n",
      "requests            2.25.1\n",
      "rich                NA\n",
      "scanpy              1.7.0\n",
      "scipy               1.7.0\n",
      "scvi                0.10.1\n",
      "send2trash          NA\n",
      "setuptools_scm      NA\n",
      "sinfo               0.3.1\n",
      "six                 1.16.0\n",
      "sklearn             0.24.2\n",
      "sniffio             1.2.0\n",
      "socks               1.7.1\n",
      "sphinxcontrib       NA\n",
      "storemagic          NA\n",
      "tables              3.6.1\n",
      "tensorboard         2.5.0\n",
      "terminado           0.10.1\n",
      "texttable           1.6.3\n",
      "threadpoolctl       2.1.0\n",
      "torch               1.8.1+cu102\n",
      "torchmetrics        0.4.0\n",
      "tornado             6.1\n",
      "tqdm                4.61.1\n",
      "traitlets           5.0.5\n",
      "typing_extensions   NA\n",
      "urllib3             1.26.6\n",
      "wcwidth             0.2.5\n",
      "websocket           0.57.0\n",
      "yaml                5.4.1\n",
      "zmq                 22.1.0\n",
      "-----\n",
      "IPython             7.25.0\n",
      "jupyter_client      6.1.12\n",
      "jupyter_core        4.7.1\n",
      "jupyterlab          3.0.16\n",
      "notebook            6.4.0\n",
      "-----\n",
      "Python 3.8.0 | packaged by conda-forge | (default, Nov 22 2019, 19:11:38) [GCC 7.3.0]\n",
      "Linux-4.15.0-176-generic-x86_64-with-glibc2.10\n",
      "64 logical CPU cores, x86_64\n",
      "-----\n",
      "Session information updated at 2022-05-27 02:04\n",
      "\n"
     ]
    },
    {
     "data": {
      "text/plain": [
       "'/opt/conda/envs/scvi-singularity/bin/python'"
      ]
     },
     "execution_count": 2,
     "metadata": {},
     "output_type": "execute_result"
    }
   ],
   "source": [
    "# Seed for reproducibility\n",
    "import numpy as np\n",
    "import pandas as pd\n",
    "import scanpy as sc\n",
    "from typing import Tuple\n",
    "\n",
    "# scVI imports\n",
    "import scvi\n",
    "from scvi.dataset import AnnDatasetFromAnnData\n",
    "from scvi.inference import UnsupervisedTrainer\n",
    "from scvi.models.vae import VAE\n",
    "\n",
    "torch.manual_seed(0)\n",
    "np.random.seed(0)\n",
    "sc.settings.verbosity = 0  # verbosity: errors (0), warnings (1), info (2), hints (3)\n",
    "\n",
    "\n",
    "\n",
    "def MovePlots(plotpattern, subplotdir):\n",
    "    os.system('mkdir -p '+str(sc.settings.figdir)+'/'+subplotdir)\n",
    "    os.system('mv '+str(sc.settings.figdir)+'/*'+plotpattern+'** '+str(sc.settings.figdir)+'/'+subplotdir)\n",
    "\n",
    "sc.settings.verbosity = 3  # verbosity: errors (0), warnings (1), info (2), hints (3)\n",
    "sc.settings.figdir = '../results/images/scVI_integration'\n",
    "sc.logging.print_versions()\n",
    "sc.settings.set_figure_params(dpi=80)  # low dpi (dots per inch) yields small inline figures\n",
    "\n",
    "sys.executable"
   ]
  },
  {
   "cell_type": "markdown",
   "id": "italic-porcelain",
   "metadata": {},
   "source": [
    "## Loading data"
   ]
  },
  {
   "cell_type": "code",
   "execution_count": 3,
   "id": "continental-reconstruction",
   "metadata": {},
   "outputs": [],
   "source": [
    "adata = sc.read('../results/scVI/S7_scVIintegrated_adata_latent30_cleanV4_fetalSurgical_20220523.h5ad')"
   ]
  },
  {
   "cell_type": "code",
   "execution_count": 4,
   "id": "federal-germany",
   "metadata": {},
   "outputs": [
    {
     "data": {
      "text/plain": [
       "array(['Hrv100', 'Hrv107', 'Hrv124', 'Hrv141', 'Hrv142', 'Hrv98'],\n",
       "      dtype=object)"
      ]
     },
     "execution_count": 4,
     "metadata": {},
     "output_type": "execute_result"
    }
   ],
   "source": [
    "np.unique(adata.obs['donor_souporcell'])"
   ]
  },
  {
   "cell_type": "code",
   "execution_count": 5,
   "id": "solved-venice",
   "metadata": {},
   "outputs": [
    {
     "data": {
      "text/plain": [
       "Pla_HDBR10917730_AAACCCACATGATGCT    Pla_HDBR10917730\n",
       "Pla_HDBR10917730_AAACGAACATTGACCA    Pla_HDBR10917730\n",
       "Pla_HDBR10917730_AAACGCTAGAATCTAG    Pla_HDBR10917730\n",
       "Pla_HDBR10917730_AAACGCTAGCTGAAGC    Pla_HDBR10917730\n",
       "Pla_HDBR10917730_AAACGCTTCACCTTAT    Pla_HDBR10917730\n",
       "                                           ...       \n",
       "Pla_HDBR12808831_TTTGGAGTCGCCATAA    Pla_HDBR12808831\n",
       "Pla_HDBR12808831_TTTGGTTGTTTGGGTT    Pla_HDBR12808831\n",
       "Pla_HDBR12808831_TTTGGTTTCGTTCTAT    Pla_HDBR12808831\n",
       "Pla_HDBR12808831_TTTGTTGCAAGATTGA    Pla_HDBR12808831\n",
       "Pla_HDBR12808831_TTTGTTGGTGCTGATT    Pla_HDBR12808831\n",
       "Name: sample, Length: 72027, dtype: category\n",
       "Categories (12, object): ['Pla_HDBR10917730', 'Pla_HDBR10917732', 'Pla_HDBR10917733', 'Pla_HDBR10917734', ..., 'Pla_HDBR12808826', 'Pla_HDBR12808827', 'Pla_HDBR12808829', 'Pla_HDBR12808831']"
      ]
     },
     "execution_count": 5,
     "metadata": {},
     "output_type": "execute_result"
    }
   ],
   "source": [
    "adata.obs['sample']"
   ]
  },
  {
   "cell_type": "code",
   "execution_count": null,
   "id": "incoming-stress",
   "metadata": {},
   "outputs": [],
   "source": []
  },
  {
   "cell_type": "code",
   "execution_count": 6,
   "id": "fluid-packet",
   "metadata": {},
   "outputs": [
    {
     "name": "stdout",
     "output_type": "stream",
     "text": [
      "\u001b[34mINFO    \u001b[0m Using batches from adata.obs\u001b[1m[\u001b[0m\u001b[32m\"donor_souporcell\"\u001b[0m\u001b[1m]\u001b[0m                                    \n"
     ]
    },
    {
     "name": "stderr",
     "output_type": "stream",
     "text": [
      "Using batches from adata.obs[\"donor_souporcell\"]\n"
     ]
    },
    {
     "name": "stdout",
     "output_type": "stream",
     "text": [
      "\u001b[34mINFO    \u001b[0m No label_key inputted, assuming all cells have same label                           \n"
     ]
    },
    {
     "name": "stderr",
     "output_type": "stream",
     "text": [
      "No label_key inputted, assuming all cells have same label\n"
     ]
    },
    {
     "name": "stdout",
     "output_type": "stream",
     "text": [
      "\u001b[34mINFO    \u001b[0m Using data from adata.layers\u001b[1m[\u001b[0m\u001b[32m\"raw_counts\"\u001b[0m\u001b[1m]\u001b[0m                                          \n"
     ]
    },
    {
     "name": "stderr",
     "output_type": "stream",
     "text": [
      "Using data from adata.layers[\"raw_counts\"]\n"
     ]
    },
    {
     "name": "stdout",
     "output_type": "stream",
     "text": [
      "\u001b[34mINFO    \u001b[0m Computing library size prior per batch                                              \n"
     ]
    },
    {
     "name": "stderr",
     "output_type": "stream",
     "text": [
      "Computing library size prior per batch\n"
     ]
    },
    {
     "name": "stdout",
     "output_type": "stream",
     "text": [
      "\u001b[34mINFO    \u001b[0m Successfully registered anndata object containing \u001b[1;36m72027\u001b[0m cells, \u001b[1;36m32743\u001b[0m vars, \u001b[1;36m6\u001b[0m        \n",
      "         batches, \u001b[1;36m1\u001b[0m labels, and \u001b[1;36m0\u001b[0m proteins. Also registered \u001b[1;36m1\u001b[0m extra categorical covariates   \n",
      "         and \u001b[1;36m0\u001b[0m extra continuous covariates.                                                  \n"
     ]
    },
    {
     "name": "stderr",
     "output_type": "stream",
     "text": [
      "Successfully registered anndata object containing 72027 cells, 32743 vars, 6 batches, 1 labels, and 0 proteins. Also registered 1 extra categorical covariates and 0 extra continuous covariates.\n"
     ]
    },
    {
     "name": "stdout",
     "output_type": "stream",
     "text": [
      "\u001b[34mINFO    \u001b[0m Please do not further modify adata until model is trained.                          \n"
     ]
    },
    {
     "name": "stderr",
     "output_type": "stream",
     "text": [
      "Please do not further modify adata until model is trained.\n"
     ]
    }
   ],
   "source": [
    "scvi.data.setup_anndata(\n",
    "    adata,\n",
    "    layer=\"raw_counts\",\n",
    "    batch_key=\"donor_souporcell\", #samples as a batch\n",
    "    categorical_covariate_keys=['sample'] #donor as a covariate of the cells\n",
    ")"
   ]
  },
  {
   "cell_type": "code",
   "execution_count": 7,
   "id": "helpful-legend",
   "metadata": {},
   "outputs": [
    {
     "name": "stdout",
     "output_type": "stream",
     "text": [
      "n_latent_value 10\n",
      "n_latent_value 20\n",
      "n_latent_value 30\n"
     ]
    }
   ],
   "source": [
    "models = {}\n",
    "\n",
    "# let's try a few values\n",
    "n_latent_values = [10, 20, 30]\n",
    "\n",
    "for n_latent_value in n_latent_values:\n",
    "    print('n_latent_value', n_latent_value)\n",
    "    models[n_latent_value] = scvi.model.SCVI(adata, n_latent = n_latent_value)"
   ]
  },
  {
   "cell_type": "code",
   "execution_count": 8,
   "id": "disturbed-seafood",
   "metadata": {},
   "outputs": [
    {
     "name": "stderr",
     "output_type": "stream",
     "text": [
      "GPU available: True, used: True\n",
      "TPU available: False, using: 0 TPU cores\n",
      "LOCAL_RANK: 0 - CUDA_VISIBLE_DEVICES: [0]\n"
     ]
    },
    {
     "name": "stdout",
     "output_type": "stream",
     "text": [
      "training model for n_latent_value: 10\n",
      "Epoch 111/111: 100%|██████████████████████████| 111/111 [23:07<00:00, 12.50s/it, loss=1.25e+04, v_num=1]\n"
     ]
    },
    {
     "name": "stderr",
     "output_type": "stream",
     "text": [
      "GPU available: True, used: True\n",
      "TPU available: False, using: 0 TPU cores\n",
      "LOCAL_RANK: 0 - CUDA_VISIBLE_DEVICES: [0]\n"
     ]
    },
    {
     "name": "stdout",
     "output_type": "stream",
     "text": [
      "training model for n_latent_value: 20\n",
      "Epoch 111/111: 100%|██████████████████████████| 111/111 [23:16<00:00, 12.58s/it, loss=1.23e+04, v_num=1]\n"
     ]
    },
    {
     "name": "stderr",
     "output_type": "stream",
     "text": [
      "GPU available: True, used: True\n",
      "TPU available: False, using: 0 TPU cores\n",
      "LOCAL_RANK: 0 - CUDA_VISIBLE_DEVICES: [0]\n"
     ]
    },
    {
     "name": "stdout",
     "output_type": "stream",
     "text": [
      "training model for n_latent_value: 30\n",
      "Epoch 111/111: 100%|██████████████████████████| 111/111 [23:15<00:00, 12.57s/it, loss=1.23e+04, v_num=1]\n"
     ]
    }
   ],
   "source": [
    "latent_representations = {}\n",
    "\n",
    "for n_latent_value in n_latent_values:\n",
    "    print('training model for n_latent_value:', n_latent_value)\n",
    "    models[n_latent_value].train()\n",
    "    \n",
    "    latent_representations[n_latent_value] = models[n_latent_value].get_latent_representation()\n",
    "    \n",
    "    adata.obsm[\"X_scVI_n_latent_\" + str(n_latent_value)] = latent_representations[n_latent_value]\n",
    "    \n",
    "    curr_df = pd.DataFrame(adata.obsm[\"X_scVI_n_latent_\" + str(n_latent_value)])\n",
    "    curr_df.to_csv('../results/scVI/20220523_obsm_with_scVI_latent_representation_n_' + str(n_latent_value) + '_fetalSurgSubset_corrected_by_donor.csv')"
   ]
  },
  {
   "cell_type": "code",
   "execution_count": null,
   "id": "thick-brake",
   "metadata": {},
   "outputs": [],
   "source": []
  },
  {
   "cell_type": "markdown",
   "id": "mounted-softball",
   "metadata": {},
   "source": [
    "## Saving data"
   ]
  },
  {
   "cell_type": "code",
   "execution_count": 9,
   "id": "spanish-connection",
   "metadata": {},
   "outputs": [],
   "source": [
    "adata.write('../results/scVI/S8_scVIintegrated_fetalSurgSubset_adata_20220523.h5ad')"
   ]
  },
  {
   "cell_type": "code",
   "execution_count": 10,
   "id": "established-virus",
   "metadata": {},
   "outputs": [
    {
     "data": {
      "text/plain": [
       "AnnData object with n_obs × n_vars = 72027 × 32743\n",
       "    obs: 'sample', 'donor', 'termination', 'day', 'pcw', 'percent_mito', 'n_counts', 'batch', 'n_genes', 'sample_barcode', 'souporcell_id', 'donor_deconv', 'donor_souporcell', 'scrublet_score', 'scrublet_cluster_score', 'zscore', 'bh_pval', 'bonf_pval', 'is_doublet', 'S_score', 'G2M_score', 'phase', '_scvi_batch', '_scvi_labels', '_scvi_local_l_mean', '_scvi_local_l_var', 'scrublet_doublet', 'leiden_scvi', 'celltype_predictions', 'probabilities', 'souporcell_MFgenotype', 'identity', 'souporcell_MFidentity'\n",
       "    var: 'gene_ids', 'feature_types', 'n_cells'\n",
       "    uns: 'donor_souporcell_colors', 'log1p', '_scvi'\n",
       "    obsm: '_scvi_extra_categoricals', 'X_scVI_n_latent_10', 'X_scVI_n_latent_20', 'X_scVI_n_latent_30'\n",
       "    layers: 'raw_counts'"
      ]
     },
     "execution_count": 10,
     "metadata": {},
     "output_type": "execute_result"
    }
   ],
   "source": [
    "adata"
   ]
  },
  {
   "cell_type": "code",
   "execution_count": null,
   "id": "satisfied-father",
   "metadata": {},
   "outputs": [],
   "source": []
  }
 ],
 "metadata": {
  "kernelspec": {
   "display_name": "Python 3",
   "language": "python",
   "name": "python3"
  },
  "language_info": {
   "codemirror_mode": {
    "name": "ipython",
    "version": 3
   },
   "file_extension": ".py",
   "mimetype": "text/x-python",
   "name": "python",
   "nbconvert_exporter": "python",
   "pygments_lexer": "ipython3",
   "version": "3.8.8"
  }
 },
 "nbformat": 4,
 "nbformat_minor": 5
}
