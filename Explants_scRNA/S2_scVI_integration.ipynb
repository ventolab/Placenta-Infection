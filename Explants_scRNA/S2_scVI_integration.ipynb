{
 "cells": [
  {
   "cell_type": "markdown",
   "id": "clean-significance",
   "metadata": {},
   "source": [
    "def allow_notebook_for_test():\n",
    "    print(\"Testing the scanpy pbmc3k notebook\")\n",
    "\n",
    "import sys, os\n",
    "\n",
    "n_epochs_all = None\n",
    "test_mode = False\n",
    "show_plot = True\n",
    "\n",
    "def if_not_test_else(x, y):\n",
    "    if not test_mode:\n",
    "        return x\n",
    "    else:\n",
    "        return y\n",
    "\n",
    "IN_COLAB = \"google.colab\" in sys.modules\n",
    "\n",
    "show_plot = True\n",
    "test_mode = False\n",
    "n_epochs_all = None\n",
    "save_path = \"data/\"\n",
    "\n",
    "if not test_mode and not IN_COLAB:\n",
    "    save_path = \"../data\"\n"
   ]
  },
  {
   "cell_type": "markdown",
   "id": "frank-school",
   "metadata": {},
   "source": [
    "\n",
    "import sys, os\n",
    "\n",
    "n_epochs_all = None\n",
    "test_mode = False\n",
    "show_plot = True\n",
    "\n",
    "def if_not_test_else(x, y):\n",
    "    if not test_mode:\n",
    "        return x\n",
    "    else:\n",
    "        return y\n",
    "\n",
    "IN_COLAB = \"google.colab\" in sys.modules\n",
    "\n",
    "show_plot = True\n",
    "test_mode = False\n",
    "n_epochs_all = None\n",
    "save_path = \"data/\""
   ]
  },
  {
   "cell_type": "code",
   "execution_count": 1,
   "id": "geological-while",
   "metadata": {},
   "outputs": [],
   "source": [
    "from __future__ import print_function\n",
    "import torch\n",
    "\n",
    "import sys, os\n",
    "data_type = 'float32'\n",
    "os.environ[\"THEANO_FLAGS\"] = 'device=cuda,floatX=' + data_type + ',force_device=True'\n",
    "sys.path.insert(1, '../results/scVI/')"
   ]
  },
  {
   "cell_type": "code",
   "execution_count": 2,
   "id": "timely-travel",
   "metadata": {
    "collapsed": true,
    "jupyter": {
     "outputs_hidden": true
    },
    "tags": []
   },
   "outputs": [
    {
     "name": "stderr",
     "output_type": "stream",
     "text": [
      "WARNING: If you miss a compact list, please try `print_header`!\n"
     ]
    },
    {
     "name": "stdout",
     "output_type": "stream",
     "text": [
      "-----\n",
      "anndata     0.7.6\n",
      "scanpy      1.7.0\n",
      "sinfo       0.3.1\n",
      "-----\n",
      "PIL                 8.3.0\n",
      "absl                NA\n",
      "anndata             0.7.6\n",
      "anyio               NA\n",
      "attr                21.2.0\n",
      "babel               2.9.1\n",
      "backcall            0.2.0\n",
      "beta_ufunc          NA\n",
      "binom_ufunc         NA\n",
      "brotli              NA\n",
      "cairo               1.20.1\n",
      "certifi             2021.05.30\n",
      "cffi                1.14.4\n",
      "chardet             4.0.0\n",
      "colorama            0.4.4\n",
      "cycler              0.10.0\n",
      "cython_runtime      NA\n",
      "dateutil            2.8.1\n",
      "debugpy             1.3.0\n",
      "decorator           5.0.9\n",
      "defusedxml          0.7.1\n",
      "dunamai             1.5.5\n",
      "fsspec              2021.06.1\n",
      "get_version         3.2\n",
      "google              NA\n",
      "h5py                3.3.0\n",
      "idna                2.10\n",
      "igraph              0.8.3\n",
      "ipykernel           6.0.0\n",
      "ipython_genutils    0.2.0\n",
      "ipywidgets          7.6.3\n",
      "jedi                0.18.0\n",
      "jinja2              3.0.1\n",
      "joblib              1.0.1\n",
      "json5               NA\n",
      "jsonschema          3.2.0\n",
      "jupyter_server      1.9.0\n",
      "jupyterlab_server   2.6.0\n",
      "kiwisolver          1.3.1\n",
      "legacy_api_wrap     0.0.0\n",
      "leidenalg           0.8.3\n",
      "llvmlite            0.34.0\n",
      "louvain             0.7.0\n",
      "markupsafe          2.0.1\n",
      "matplotlib          3.4.2\n",
      "matplotlib_inline   NA\n",
      "mpl_toolkits        NA\n",
      "natsort             7.1.1\n",
      "nbclassic           NA\n",
      "nbformat            5.1.3\n",
      "nbinom_ufunc        NA\n",
      "numba               0.51.2\n",
      "numexpr             2.7.3\n",
      "numpy               1.19.5\n",
      "opt_einsum          v3.3.0\n",
      "packaging           20.9\n",
      "pandas              1.2.4\n",
      "parso               0.8.2\n",
      "pexpect             4.8.0\n",
      "pickleshare         0.7.5\n",
      "pkg_resources       NA\n",
      "prometheus_client   NA\n",
      "prompt_toolkit      3.0.19\n",
      "ptyprocess          0.7.0\n",
      "pvectorc            NA\n",
      "pycparser           2.20\n",
      "pygments            2.9.0\n",
      "pyparsing           2.4.7\n",
      "pyro                1.5.2\n",
      "pyrsistent          NA\n",
      "pytorch_lightning   1.2.10\n",
      "pytz                2021.1\n",
      "requests            2.25.1\n",
      "rich                NA\n",
      "scanpy              1.7.0\n",
      "scipy               1.7.0\n",
      "scvi                0.10.1\n",
      "send2trash          NA\n",
      "setuptools_scm      NA\n",
      "sinfo               0.3.1\n",
      "six                 1.16.0\n",
      "sklearn             0.24.2\n",
      "sniffio             1.2.0\n",
      "socks               1.7.1\n",
      "sphinxcontrib       NA\n",
      "storemagic          NA\n",
      "tables              3.6.1\n",
      "tensorboard         2.5.0\n",
      "terminado           0.10.1\n",
      "texttable           1.6.3\n",
      "threadpoolctl       2.1.0\n",
      "torch               1.8.1+cu102\n",
      "torchmetrics        0.4.0\n",
      "tornado             6.1\n",
      "tqdm                4.61.1\n",
      "traitlets           5.0.5\n",
      "typing_extensions   NA\n",
      "urllib3             1.26.6\n",
      "wcwidth             0.2.5\n",
      "websocket           0.57.0\n",
      "yaml                5.4.1\n",
      "zmq                 22.1.0\n",
      "-----\n",
      "IPython             7.25.0\n",
      "jupyter_client      6.1.12\n",
      "jupyter_core        4.7.1\n",
      "jupyterlab          3.0.16\n",
      "notebook            6.4.0\n",
      "-----\n",
      "Python 3.8.0 | packaged by conda-forge | (default, Nov 22 2019, 19:11:38) [GCC 7.3.0]\n",
      "Linux-4.15.0-151-generic-x86_64-with-glibc2.10\n",
      "64 logical CPU cores, x86_64\n",
      "-----\n",
      "Session information updated at 2022-01-19 18:36\n",
      "\n"
     ]
    },
    {
     "data": {
      "text/plain": [
       "'/opt/conda/envs/scvi-singularity/bin/python'"
      ]
     },
     "execution_count": 2,
     "metadata": {},
     "output_type": "execute_result"
    }
   ],
   "source": [
    "# Seed for reproducibility\n",
    "import numpy as np\n",
    "import pandas as pd\n",
    "import scanpy as sc\n",
    "from typing import Tuple\n",
    "\n",
    "# scVI imports\n",
    "import scvi\n",
    "from scvi.dataset import AnnDatasetFromAnnData\n",
    "from scvi.inference import UnsupervisedTrainer\n",
    "from scvi.models.vae import VAE\n",
    "\n",
    "torch.manual_seed(0)\n",
    "np.random.seed(0)\n",
    "sc.settings.verbosity = 0  # verbosity: errors (0), warnings (1), info (2), hints (3)\n",
    "\n",
    "\n",
    "\n",
    "def MovePlots(plotpattern, subplotdir):\n",
    "    os.system('mkdir -p '+str(sc.settings.figdir)+'/'+subplotdir)\n",
    "    os.system('mv '+str(sc.settings.figdir)+'/*'+plotpattern+'** '+str(sc.settings.figdir)+'/'+subplotdir)\n",
    "\n",
    "sc.settings.verbosity = 3  # verbosity: errors (0), warnings (1), info (2), hints (3)\n",
    "sc.settings.figdir = '../results/images/scVI_integration'\n",
    "sc.logging.print_versions()\n",
    "sc.settings.set_figure_params(dpi=80)  # low dpi (dots per inch) yields small inline figures\n",
    "\n",
    "sys.executable"
   ]
  },
  {
   "cell_type": "code",
   "execution_count": 14,
   "id": "comfortable-sight",
   "metadata": {},
   "outputs": [
    {
     "ename": "NameError",
     "evalue": "name 'latent_representations' is not defined",
     "output_type": "error",
     "traceback": [
      "\u001b[0;31m---------------------------------------------------------------------------\u001b[0m",
      "\u001b[0;31mNameError\u001b[0m                                 Traceback (most recent call last)",
      "\u001b[0;32m/tmp/ipykernel_41061/486815256.py\u001b[0m in \u001b[0;36m<module>\u001b[0;34m\u001b[0m\n\u001b[0;32m----> 1\u001b[0;31m \u001b[0mlatent_representations\u001b[0m\u001b[0;34m\u001b[0m\u001b[0;34m\u001b[0m\u001b[0m\n\u001b[0m",
      "\u001b[0;31mNameError\u001b[0m: name 'latent_representations' is not defined"
     ]
    }
   ],
   "source": []
  },
  {
   "cell_type": "markdown",
   "id": "orange-scotland",
   "metadata": {},
   "source": [
    "### Loading non-normalized data"
   ]
  },
  {
   "cell_type": "code",
   "execution_count": 3,
   "id": "herbal-invite",
   "metadata": {},
   "outputs": [
    {
     "data": {
      "text/plain": [
       "(149617, 31625)"
      ]
     },
     "execution_count": 3,
     "metadata": {},
     "output_type": "execute_result"
    }
   ],
   "source": [
    "adata_original = sc.read('../data/S1_preprocessed_noNormalized_adata.h5ad')\n",
    "adata_original.X.shape"
   ]
  },
  {
   "cell_type": "code",
   "execution_count": 4,
   "id": "loved-gossip",
   "metadata": {
    "scrolled": true
   },
   "outputs": [
    {
     "ename": "FileNotFoundError",
     "evalue": "[Errno 2] Unable to open file (unable to open file: name = '../data/S1_preprocessed_adata.h5ad', errno = 2, error message = 'No such file or directory', flags = 0, o_flags = 0)",
     "output_type": "error",
     "traceback": [
      "\u001b[0;31m---------------------------------------------------------------------------\u001b[0m",
      "\u001b[0;31mFileNotFoundError\u001b[0m                         Traceback (most recent call last)",
      "\u001b[0;32m/tmp/ipykernel_41061/2959054315.py\u001b[0m in \u001b[0;36m<module>\u001b[0;34m\u001b[0m\n\u001b[0;32m----> 1\u001b[0;31m \u001b[0madata\u001b[0m \u001b[0;34m=\u001b[0m \u001b[0msc\u001b[0m\u001b[0;34m.\u001b[0m\u001b[0mread\u001b[0m\u001b[0;34m(\u001b[0m\u001b[0;34m'../data/S1_preprocessed_adata.h5ad'\u001b[0m\u001b[0;34m)\u001b[0m\u001b[0;34m\u001b[0m\u001b[0;34m\u001b[0m\u001b[0m\n\u001b[0m\u001b[1;32m      2\u001b[0m \u001b[0madata\u001b[0m\u001b[0;34m.\u001b[0m\u001b[0mX\u001b[0m\u001b[0;34m.\u001b[0m\u001b[0mshape\u001b[0m\u001b[0;34m\u001b[0m\u001b[0;34m\u001b[0m\u001b[0m\n",
      "\u001b[0;32m/opt/conda/envs/scvi-singularity/lib/python3.8/site-packages/scanpy/readwrite.py\u001b[0m in \u001b[0;36mread\u001b[0;34m(filename, backed, sheet, ext, delimiter, first_column_names, backup_url, cache, cache_compression, **kwargs)\u001b[0m\n\u001b[1;32m    110\u001b[0m     \u001b[0mfilename\u001b[0m \u001b[0;34m=\u001b[0m \u001b[0mPath\u001b[0m\u001b[0;34m(\u001b[0m\u001b[0mfilename\u001b[0m\u001b[0;34m)\u001b[0m  \u001b[0;31m# allow passing strings\u001b[0m\u001b[0;34m\u001b[0m\u001b[0;34m\u001b[0m\u001b[0m\n\u001b[1;32m    111\u001b[0m     \u001b[0;32mif\u001b[0m \u001b[0mis_valid_filename\u001b[0m\u001b[0;34m(\u001b[0m\u001b[0mfilename\u001b[0m\u001b[0;34m)\u001b[0m\u001b[0;34m:\u001b[0m\u001b[0;34m\u001b[0m\u001b[0;34m\u001b[0m\u001b[0m\n\u001b[0;32m--> 112\u001b[0;31m         return _read(\n\u001b[0m\u001b[1;32m    113\u001b[0m             \u001b[0mfilename\u001b[0m\u001b[0;34m,\u001b[0m\u001b[0;34m\u001b[0m\u001b[0;34m\u001b[0m\u001b[0m\n\u001b[1;32m    114\u001b[0m             \u001b[0mbacked\u001b[0m\u001b[0;34m=\u001b[0m\u001b[0mbacked\u001b[0m\u001b[0;34m,\u001b[0m\u001b[0;34m\u001b[0m\u001b[0;34m\u001b[0m\u001b[0m\n",
      "\u001b[0;32m/opt/conda/envs/scvi-singularity/lib/python3.8/site-packages/scanpy/readwrite.py\u001b[0m in \u001b[0;36m_read\u001b[0;34m(filename, backed, sheet, ext, delimiter, first_column_names, backup_url, cache, cache_compression, suppress_cache_warning, **kwargs)\u001b[0m\n\u001b[1;32m    711\u001b[0m     \u001b[0;32mif\u001b[0m \u001b[0mext\u001b[0m \u001b[0;32min\u001b[0m \u001b[0;34m{\u001b[0m\u001b[0;34m'h5'\u001b[0m\u001b[0;34m,\u001b[0m \u001b[0;34m'h5ad'\u001b[0m\u001b[0;34m}\u001b[0m\u001b[0;34m:\u001b[0m\u001b[0;34m\u001b[0m\u001b[0;34m\u001b[0m\u001b[0m\n\u001b[1;32m    712\u001b[0m         \u001b[0;32mif\u001b[0m \u001b[0msheet\u001b[0m \u001b[0;32mis\u001b[0m \u001b[0;32mNone\u001b[0m\u001b[0;34m:\u001b[0m\u001b[0;34m\u001b[0m\u001b[0;34m\u001b[0m\u001b[0m\n\u001b[0;32m--> 713\u001b[0;31m             \u001b[0;32mreturn\u001b[0m \u001b[0mread_h5ad\u001b[0m\u001b[0;34m(\u001b[0m\u001b[0mfilename\u001b[0m\u001b[0;34m,\u001b[0m \u001b[0mbacked\u001b[0m\u001b[0;34m=\u001b[0m\u001b[0mbacked\u001b[0m\u001b[0;34m)\u001b[0m\u001b[0;34m\u001b[0m\u001b[0;34m\u001b[0m\u001b[0m\n\u001b[0m\u001b[1;32m    714\u001b[0m         \u001b[0;32melse\u001b[0m\u001b[0;34m:\u001b[0m\u001b[0;34m\u001b[0m\u001b[0;34m\u001b[0m\u001b[0m\n\u001b[1;32m    715\u001b[0m             \u001b[0mlogg\u001b[0m\u001b[0;34m.\u001b[0m\u001b[0mdebug\u001b[0m\u001b[0;34m(\u001b[0m\u001b[0;34mf'reading sheet {sheet} from file {filename}'\u001b[0m\u001b[0;34m)\u001b[0m\u001b[0;34m\u001b[0m\u001b[0;34m\u001b[0m\u001b[0m\n",
      "\u001b[0;32m/opt/conda/envs/scvi-singularity/lib/python3.8/site-packages/anndata/_io/h5ad.py\u001b[0m in \u001b[0;36mread_h5ad\u001b[0;34m(filename, backed, as_sparse, as_sparse_fmt, chunk_size)\u001b[0m\n\u001b[1;32m    406\u001b[0m     )\n\u001b[1;32m    407\u001b[0m \u001b[0;34m\u001b[0m\u001b[0m\n\u001b[0;32m--> 408\u001b[0;31m     \u001b[0;32mwith\u001b[0m \u001b[0mh5py\u001b[0m\u001b[0;34m.\u001b[0m\u001b[0mFile\u001b[0m\u001b[0;34m(\u001b[0m\u001b[0mfilename\u001b[0m\u001b[0;34m,\u001b[0m \u001b[0;34m\"r\"\u001b[0m\u001b[0;34m)\u001b[0m \u001b[0;32mas\u001b[0m \u001b[0mf\u001b[0m\u001b[0;34m:\u001b[0m\u001b[0;34m\u001b[0m\u001b[0;34m\u001b[0m\u001b[0m\n\u001b[0m\u001b[1;32m    409\u001b[0m         \u001b[0md\u001b[0m \u001b[0;34m=\u001b[0m \u001b[0;34m{\u001b[0m\u001b[0;34m}\u001b[0m\u001b[0;34m\u001b[0m\u001b[0;34m\u001b[0m\u001b[0m\n\u001b[1;32m    410\u001b[0m         \u001b[0;32mfor\u001b[0m \u001b[0mk\u001b[0m \u001b[0;32min\u001b[0m \u001b[0mf\u001b[0m\u001b[0;34m.\u001b[0m\u001b[0mkeys\u001b[0m\u001b[0;34m(\u001b[0m\u001b[0;34m)\u001b[0m\u001b[0;34m:\u001b[0m\u001b[0;34m\u001b[0m\u001b[0;34m\u001b[0m\u001b[0m\n",
      "\u001b[0;32m/opt/conda/envs/scvi-singularity/lib/python3.8/site-packages/h5py/_hl/files.py\u001b[0m in \u001b[0;36m__init__\u001b[0;34m(self, name, mode, driver, libver, userblock_size, swmr, rdcc_nslots, rdcc_nbytes, rdcc_w0, track_order, fs_strategy, fs_persist, fs_threshold, **kwds)\u001b[0m\n\u001b[1;32m    442\u001b[0m             \u001b[0;32mwith\u001b[0m \u001b[0mphil\u001b[0m\u001b[0;34m:\u001b[0m\u001b[0;34m\u001b[0m\u001b[0;34m\u001b[0m\u001b[0m\n\u001b[1;32m    443\u001b[0m                 \u001b[0mfapl\u001b[0m \u001b[0;34m=\u001b[0m \u001b[0mmake_fapl\u001b[0m\u001b[0;34m(\u001b[0m\u001b[0mdriver\u001b[0m\u001b[0;34m,\u001b[0m \u001b[0mlibver\u001b[0m\u001b[0;34m,\u001b[0m \u001b[0mrdcc_nslots\u001b[0m\u001b[0;34m,\u001b[0m \u001b[0mrdcc_nbytes\u001b[0m\u001b[0;34m,\u001b[0m \u001b[0mrdcc_w0\u001b[0m\u001b[0;34m,\u001b[0m \u001b[0;34m**\u001b[0m\u001b[0mkwds\u001b[0m\u001b[0;34m)\u001b[0m\u001b[0;34m\u001b[0m\u001b[0;34m\u001b[0m\u001b[0m\n\u001b[0;32m--> 444\u001b[0;31m                 fid = make_fid(name, mode, userblock_size,\n\u001b[0m\u001b[1;32m    445\u001b[0m                                fapl, fcpl=make_fcpl(track_order=track_order, fs_strategy=fs_strategy,\n\u001b[1;32m    446\u001b[0m                                fs_persist=fs_persist, fs_threshold=fs_threshold),\n",
      "\u001b[0;32m/opt/conda/envs/scvi-singularity/lib/python3.8/site-packages/h5py/_hl/files.py\u001b[0m in \u001b[0;36mmake_fid\u001b[0;34m(name, mode, userblock_size, fapl, fcpl, swmr)\u001b[0m\n\u001b[1;32m    197\u001b[0m         \u001b[0;32mif\u001b[0m \u001b[0mswmr\u001b[0m \u001b[0;32mand\u001b[0m \u001b[0mswmr_support\u001b[0m\u001b[0;34m:\u001b[0m\u001b[0;34m\u001b[0m\u001b[0;34m\u001b[0m\u001b[0m\n\u001b[1;32m    198\u001b[0m             \u001b[0mflags\u001b[0m \u001b[0;34m|=\u001b[0m \u001b[0mh5f\u001b[0m\u001b[0;34m.\u001b[0m\u001b[0mACC_SWMR_READ\u001b[0m\u001b[0;34m\u001b[0m\u001b[0;34m\u001b[0m\u001b[0m\n\u001b[0;32m--> 199\u001b[0;31m         \u001b[0mfid\u001b[0m \u001b[0;34m=\u001b[0m \u001b[0mh5f\u001b[0m\u001b[0;34m.\u001b[0m\u001b[0mopen\u001b[0m\u001b[0;34m(\u001b[0m\u001b[0mname\u001b[0m\u001b[0;34m,\u001b[0m \u001b[0mflags\u001b[0m\u001b[0;34m,\u001b[0m \u001b[0mfapl\u001b[0m\u001b[0;34m=\u001b[0m\u001b[0mfapl\u001b[0m\u001b[0;34m)\u001b[0m\u001b[0;34m\u001b[0m\u001b[0;34m\u001b[0m\u001b[0m\n\u001b[0m\u001b[1;32m    200\u001b[0m     \u001b[0;32melif\u001b[0m \u001b[0mmode\u001b[0m \u001b[0;34m==\u001b[0m \u001b[0;34m'r+'\u001b[0m\u001b[0;34m:\u001b[0m\u001b[0;34m\u001b[0m\u001b[0;34m\u001b[0m\u001b[0m\n\u001b[1;32m    201\u001b[0m         \u001b[0mfid\u001b[0m \u001b[0;34m=\u001b[0m \u001b[0mh5f\u001b[0m\u001b[0;34m.\u001b[0m\u001b[0mopen\u001b[0m\u001b[0;34m(\u001b[0m\u001b[0mname\u001b[0m\u001b[0;34m,\u001b[0m \u001b[0mh5f\u001b[0m\u001b[0;34m.\u001b[0m\u001b[0mACC_RDWR\u001b[0m\u001b[0;34m,\u001b[0m \u001b[0mfapl\u001b[0m\u001b[0;34m=\u001b[0m\u001b[0mfapl\u001b[0m\u001b[0;34m)\u001b[0m\u001b[0;34m\u001b[0m\u001b[0;34m\u001b[0m\u001b[0m\n",
      "\u001b[0;32mh5py/_objects.pyx\u001b[0m in \u001b[0;36mh5py._objects.with_phil.wrapper\u001b[0;34m()\u001b[0m\n",
      "\u001b[0;32mh5py/_objects.pyx\u001b[0m in \u001b[0;36mh5py._objects.with_phil.wrapper\u001b[0;34m()\u001b[0m\n",
      "\u001b[0;32mh5py/h5f.pyx\u001b[0m in \u001b[0;36mh5py.h5f.open\u001b[0;34m()\u001b[0m\n",
      "\u001b[0;31mFileNotFoundError\u001b[0m: [Errno 2] Unable to open file (unable to open file: name = '../data/S1_preprocessed_adata.h5ad', errno = 2, error message = 'No such file or directory', flags = 0, o_flags = 0)"
     ]
    }
   ],
   "source": [
    "adata = sc.read('../data/S1_preprocessed_normalized_adata.h5ad')\n",
    "adata.X.shape"
   ]
  },
  {
   "cell_type": "markdown",
   "id": "technical-complexity",
   "metadata": {},
   "source": [
    "### Compute the scVI latent space\n",
    "\n",
    "Based on the scVI documentation. Tutorial 3K PBMCs"
   ]
  },
  {
   "cell_type": "code",
   "execution_count": 5,
   "id": "identified-coach",
   "metadata": {},
   "outputs": [],
   "source": [
    "adata = sc.read('../data/S1_preprocessed_noNormalized_adata.h5ad')"
   ]
  },
  {
   "cell_type": "code",
   "execution_count": 6,
   "id": "descending-elimination",
   "metadata": {},
   "outputs": [
    {
     "name": "stderr",
     "output_type": "stream",
     "text": [
      "normalizing counts per cell\n",
      "    finished (0:00:02)\n"
     ]
    }
   ],
   "source": [
    "# do some basic preprocessing\n",
    "adata.layers[\"raw_counts\"] = adata.X.copy() # preserve counts\n",
    "sc.pp.normalize_total(adata, target_sum=1e4)\n",
    "sc.pp.log1p(adata)\n",
    "adata.raw = adata.copy()"
   ]
  },
  {
   "cell_type": "code",
   "execution_count": 7,
   "id": "chemical-thread",
   "metadata": {},
   "outputs": [
    {
     "data": {
      "text/plain": [
       "array(['Hrv100', 'Hrv106', 'Hrv107', 'Hrv111', 'Hrv124', 'Hrv97', 'Hrv98',\n",
       "       'Hrv99', 'souporcell_doublet'], dtype=object)"
      ]
     },
     "execution_count": 7,
     "metadata": {},
     "output_type": "execute_result"
    }
   ],
   "source": [
    "np.unique(adata.obs['donor_souporcell'])"
   ]
  },
  {
   "cell_type": "code",
   "execution_count": 8,
   "id": "miniature-explanation",
   "metadata": {},
   "outputs": [
    {
     "data": {
      "text/plain": [
       "Pla_HDBR10917729_AAACCCACATCGAACT    Pla_HDBR10917729\n",
       "Pla_HDBR10917729_AAACCCAGTAAGACCG    Pla_HDBR10917729\n",
       "Pla_HDBR10917729_AAACCCAGTGGGATTG    Pla_HDBR10917729\n",
       "Pla_HDBR10917729_AAACGAAAGCCTAACT    Pla_HDBR10917729\n",
       "Pla_HDBR10917729_AAACGAAAGCCTGGAA    Pla_HDBR10917729\n",
       "                                           ...       \n",
       "Pla_HDBR11345033_TTTGTTGGTAAGATAC    Pla_HDBR11345033\n",
       "Pla_HDBR11345033_TTTGTTGGTCCCTGTT    Pla_HDBR11345033\n",
       "Pla_HDBR11345033_TTTGTTGGTCGGCACT    Pla_HDBR11345033\n",
       "Pla_HDBR11345033_TTTGTTGGTCTCCCTA    Pla_HDBR11345033\n",
       "Pla_HDBR11345033_TTTGTTGGTTGTTGCA    Pla_HDBR11345033\n",
       "Name: sample, Length: 149617, dtype: category\n",
       "Categories (12, object): ['Pla_HDBR10917729', 'Pla_HDBR10917730', 'Pla_HDBR10917731', 'Pla_HDBR10917732', ..., 'Pla_HDBR11345029', 'Pla_HDBR11345031', 'Pla_HDBR11345032', 'Pla_HDBR11345033']"
      ]
     },
     "execution_count": 8,
     "metadata": {},
     "output_type": "execute_result"
    }
   ],
   "source": [
    "adata.obs['sample']"
   ]
  },
  {
   "cell_type": "code",
   "execution_count": null,
   "id": "organizational-efficiency",
   "metadata": {},
   "outputs": [],
   "source": []
  },
  {
   "cell_type": "code",
   "execution_count": null,
   "id": "reflected-amino",
   "metadata": {},
   "outputs": [],
   "source": []
  },
  {
   "cell_type": "code",
   "execution_count": 9,
   "id": "restricted-cathedral",
   "metadata": {},
   "outputs": [
    {
     "name": "stdout",
     "output_type": "stream",
     "text": [
      "\u001b[34mINFO    \u001b[0m Using batches from adata.obs\u001b[1m[\u001b[0m\u001b[32m\"sample\"\u001b[0m\u001b[1m]\u001b[0m                                              \n"
     ]
    },
    {
     "name": "stderr",
     "output_type": "stream",
     "text": [
      "Using batches from adata.obs[\"sample\"]\n"
     ]
    },
    {
     "name": "stdout",
     "output_type": "stream",
     "text": [
      "\u001b[34mINFO    \u001b[0m No label_key inputted, assuming all cells have same label                           \n"
     ]
    },
    {
     "name": "stderr",
     "output_type": "stream",
     "text": [
      "No label_key inputted, assuming all cells have same label\n"
     ]
    },
    {
     "name": "stdout",
     "output_type": "stream",
     "text": [
      "\u001b[34mINFO    \u001b[0m Using data from adata.layers\u001b[1m[\u001b[0m\u001b[32m\"raw_counts\"\u001b[0m\u001b[1m]\u001b[0m                                          \n"
     ]
    },
    {
     "name": "stderr",
     "output_type": "stream",
     "text": [
      "Using data from adata.layers[\"raw_counts\"]\n"
     ]
    },
    {
     "name": "stdout",
     "output_type": "stream",
     "text": [
      "\u001b[34mINFO    \u001b[0m Computing library size prior per batch                                              \n"
     ]
    },
    {
     "name": "stderr",
     "output_type": "stream",
     "text": [
      "Computing library size prior per batch\n"
     ]
    },
    {
     "name": "stdout",
     "output_type": "stream",
     "text": [
      "\u001b[34mINFO    \u001b[0m Successfully registered anndata object containing \u001b[1;36m149617\u001b[0m cells, \u001b[1;36m31625\u001b[0m vars, \u001b[1;36m12\u001b[0m      \n",
      "         batches, \u001b[1;36m1\u001b[0m labels, and \u001b[1;36m0\u001b[0m proteins. Also registered \u001b[1;36m1\u001b[0m extra categorical covariates   \n",
      "         and \u001b[1;36m0\u001b[0m extra continuous covariates.                                                  \n"
     ]
    },
    {
     "name": "stderr",
     "output_type": "stream",
     "text": [
      "Successfully registered anndata object containing 149617 cells, 31625 vars, 12 batches, 1 labels, and 0 proteins. Also registered 1 extra categorical covariates and 0 extra continuous covariates.\n"
     ]
    },
    {
     "name": "stdout",
     "output_type": "stream",
     "text": [
      "\u001b[34mINFO    \u001b[0m Please do not further modify adata until model is trained.                          \n"
     ]
    },
    {
     "name": "stderr",
     "output_type": "stream",
     "text": [
      "Please do not further modify adata until model is trained.\n"
     ]
    }
   ],
   "source": [
    "scvi.data.setup_anndata(\n",
    "    adata,\n",
    "    layer=\"raw_counts\",\n",
    "    batch_key=\"sample\", #samples as a batch\n",
    "    #donor as a covariate of the cells\n",
    "    categorical_covariate_keys=['donor_souporcell'] \n",
    "    #categorical_covariate_keys=['donor_souporcell',], #used in attemp 15/nov\n",
    "    #continuous_covariate_keys=[\"\"]\n",
    ")"
   ]
  },
  {
   "cell_type": "code",
   "execution_count": 10,
   "id": "portable-namibia",
   "metadata": {},
   "outputs": [],
   "source": [
    "#---- check #layers"
   ]
  },
  {
   "cell_type": "code",
   "execution_count": 11,
   "id": "alpine-thickness",
   "metadata": {},
   "outputs": [
    {
     "name": "stdout",
     "output_type": "stream",
     "text": [
      "n_latent_value 10\n",
      "n_latent_value 20\n",
      "n_latent_value 30\n",
      "n_latent_value 40\n",
      "n_latent_value 50\n"
     ]
    }
   ],
   "source": [
    "models = {}\n",
    "\n",
    "# Valentina said n_latent = 10 worked for her well, let's try a few values\n",
    "n_latent_values = [10, 20, 30, 40, 50]\n",
    "\n",
    "for n_latent_value in n_latent_values:\n",
    "    print('n_latent_value', n_latent_value)\n",
    "    models[n_latent_value] = scvi.model.SCVI(adata, n_latent = n_latent_value)"
   ]
  },
  {
   "cell_type": "code",
   "execution_count": 12,
   "id": "exposed-florence",
   "metadata": {},
   "outputs": [
    {
     "data": {
      "text/html": [
       "<pre style=\"white-space:pre;overflow-x:auto;line-height:normal;font-family:Menlo,'DejaVu Sans Mono',consolas,'Courier New',monospace\">SCVI Model with the following params: \n",
       "n_hidden: <span style=\"color: #008080; text-decoration-color: #008080; font-weight: bold\">128</span>, n_latent: <span style=\"color: #008080; text-decoration-color: #008080; font-weight: bold\">10</span>, n_layers: <span style=\"color: #008080; text-decoration-color: #008080; font-weight: bold\">1</span>, dropout_rate: <span style=\"color: #008080; text-decoration-color: #008080; font-weight: bold\">0.1</span>, dispersion: gene, \n",
       "gene_likelihood: zinb, latent_distribution: normal\n",
       "Training status: Not Trained\n",
       "</pre>\n"
      ],
      "text/plain": [
       "SCVI Model with the following params: \n",
       "n_hidden: \u001b[1;36m128\u001b[0m, n_latent: \u001b[1;36m10\u001b[0m, n_layers: \u001b[1;36m1\u001b[0m, dropout_rate: \u001b[1;36m0.1\u001b[0m, dispersion: gene, \n",
       "gene_likelihood: zinb, latent_distribution: normal\n",
       "Training status: Not Trained\n"
      ]
     },
     "metadata": {},
     "output_type": "display_data"
    },
    {
     "data": {
      "text/html": [
       "<pre style=\"white-space:pre;overflow-x:auto;line-height:normal;font-family:Menlo,'DejaVu Sans Mono',consolas,'Courier New',monospace\">\n",
       "\n",
       "To print summary of associated AnnData, use: <span style=\"color: #af00d7; text-decoration-color: #af00d7\">scvi.data.view_anndata_setup(model.adata)</span>\n",
       "</pre>\n"
      ],
      "text/plain": [
       "\n",
       "\n",
       "To print summary of associated AnnData, use: \u001b[38;5;128mscvi.data.view_anndata_setup(model.adata)\u001b[0m\n"
      ]
     },
     "metadata": {},
     "output_type": "display_data"
    },
    {
     "data": {
      "text/plain": []
     },
     "execution_count": 12,
     "metadata": {},
     "output_type": "execute_result"
    }
   ],
   "source": [
    "models[10]"
   ]
  },
  {
   "cell_type": "code",
   "execution_count": 15,
   "id": "foster-headquarters",
   "metadata": {},
   "outputs": [
    {
     "name": "stderr",
     "output_type": "stream",
     "text": [
      "GPU available: True, used: True\n",
      "TPU available: False, using: 0 TPU cores\n",
      "LOCAL_RANK: 0 - CUDA_VISIBLE_DEVICES: [0]\n"
     ]
    },
    {
     "name": "stdout",
     "output_type": "stream",
     "text": [
      "training model for n_latent_value: 10\n",
      "Epoch 53/53: 100%|██████████████| 53/53 [21:13<00:00, 24.03s/it, loss=1.01e+04, v_num=1]\n"
     ]
    },
    {
     "name": "stderr",
     "output_type": "stream",
     "text": [
      "GPU available: True, used: True\n",
      "TPU available: False, using: 0 TPU cores\n",
      "LOCAL_RANK: 0 - CUDA_VISIBLE_DEVICES: [0]\n"
     ]
    },
    {
     "name": "stdout",
     "output_type": "stream",
     "text": [
      "training model for n_latent_value: 20\n",
      "Epoch 53/53: 100%|██████████████| 53/53 [21:12<00:00, 24.02s/it, loss=9.87e+03, v_num=1]\n"
     ]
    },
    {
     "name": "stderr",
     "output_type": "stream",
     "text": [
      "GPU available: True, used: True\n",
      "TPU available: False, using: 0 TPU cores\n",
      "LOCAL_RANK: 0 - CUDA_VISIBLE_DEVICES: [0]\n"
     ]
    },
    {
     "name": "stdout",
     "output_type": "stream",
     "text": [
      "training model for n_latent_value: 30\n",
      "Epoch 53/53: 100%|██████████████| 53/53 [21:14<00:00, 24.04s/it, loss=9.82e+03, v_num=1]\n"
     ]
    },
    {
     "name": "stderr",
     "output_type": "stream",
     "text": [
      "GPU available: True, used: True\n",
      "TPU available: False, using: 0 TPU cores\n",
      "LOCAL_RANK: 0 - CUDA_VISIBLE_DEVICES: [0]\n"
     ]
    },
    {
     "name": "stdout",
     "output_type": "stream",
     "text": [
      "training model for n_latent_value: 40\n",
      "Epoch 53/53: 100%|██████████████| 53/53 [21:16<00:00, 24.09s/it, loss=9.89e+03, v_num=1]\n"
     ]
    },
    {
     "name": "stderr",
     "output_type": "stream",
     "text": [
      "GPU available: True, used: True\n",
      "TPU available: False, using: 0 TPU cores\n",
      "LOCAL_RANK: 0 - CUDA_VISIBLE_DEVICES: [0]\n"
     ]
    },
    {
     "name": "stdout",
     "output_type": "stream",
     "text": [
      "training model for n_latent_value: 50\n",
      "Epoch 53/53: 100%|██████████████| 53/53 [21:15<00:00, 24.07s/it, loss=9.86e+03, v_num=1]\n"
     ]
    }
   ],
   "source": [
    "latent_representations = {}\n",
    "\n",
    "for n_latent_value in n_latent_values:\n",
    "    print('training model for n_latent_value:', n_latent_value)\n",
    "    models[n_latent_value].train()\n",
    "    \n",
    "    latent_representations[n_latent_value] = models[n_latent_value].get_latent_representation()\n",
    "    \n",
    "    adata.obsm[\"X_scVI_n_latent_\" + str(n_latent_value)] = latent_representations[n_latent_value]\n",
    "    \n",
    "    curr_df = pd.DataFrame(adata.obsm[\"X_scVI_n_latent_\" + str(n_latent_value)])\n",
    "    curr_df.to_csv('../results/scVI/20220120_obsm_with_scVI_latent_representation_n_' + str(n_latent_value) + '_corrected_by_donor.csv')"
   ]
  },
  {
   "cell_type": "code",
   "execution_count": 16,
   "id": "compatible-cedar",
   "metadata": {},
   "outputs": [
    {
     "data": {
      "text/plain": [
       "Gene Expression    28233\n",
       "nan                 3392\n",
       "Name: feature_types-0, dtype: int64"
      ]
     },
     "execution_count": 16,
     "metadata": {},
     "output_type": "execute_result"
    }
   ],
   "source": [
    "adata.var[\"feature_types-0\"].value_counts()\n"
   ]
  },
  {
   "cell_type": "code",
   "execution_count": 17,
   "id": "structured-briefs",
   "metadata": {},
   "outputs": [
    {
     "data": {
      "text/plain": [
       "Gene Expression    28477\n",
       "nan                 3148\n",
       "Name: feature_types-1, dtype: int64"
      ]
     },
     "execution_count": 17,
     "metadata": {},
     "output_type": "execute_result"
    }
   ],
   "source": [
    "adata.var[\"feature_types-1\"].value_counts()"
   ]
  },
  {
   "cell_type": "code",
   "execution_count": 18,
   "id": "refined-wrist",
   "metadata": {},
   "outputs": [],
   "source": [
    "adata.write('../results/scVI/S2_scVIintegrated_adata.h5ad')"
   ]
  },
  {
   "cell_type": "code",
   "execution_count": null,
   "id": "relative-fourth",
   "metadata": {},
   "outputs": [],
   "source": []
  },
  {
   "cell_type": "code",
   "execution_count": null,
   "id": "defensive-observation",
   "metadata": {},
   "outputs": [],
   "source": []
  },
  {
   "cell_type": "code",
   "execution_count": null,
   "id": "phantom-colonial",
   "metadata": {},
   "outputs": [],
   "source": []
  },
  {
   "cell_type": "raw",
   "id": "bridal-album",
   "metadata": {},
   "source": [
    "def compute_scvi_latent(\n",
    "    adata: sc.AnnData,\n",
    "    n_latent: int = 5,\n",
    "    n_epochs: int = 100,\n",
    "    lr: float = 1e-3,\n",
    "    use_batches: bool = False,\n",
    "    use_cuda: bool = False,\n",
    ") -> Tuple[scvi.inference.Posterior, np.ndarray]:\n",
    "    \"\"\"Train and return a scVI model and sample a latent space\n",
    "\n",
    "    :param adata: sc.AnnData object non-normalized\n",
    "    :param n_latent: dimension of the latent space\n",
    "    :param n_epochs: number of training epochs\n",
    "    :param lr: learning rate\n",
    "    :param use_batches\n",
    "    :param use_cuda\n",
    "    :return: (scvi.Posterior, latent_space)\n",
    "    \"\"\"\n",
    "    # Convert easily to scvi dataset\n",
    "    scviDataset = AnnDatasetFromAnnData(adata)\n",
    "\n",
    "    # Train a model\n",
    "    vae = VAE(\n",
    "        scviDataset.nb_genes,\n",
    "        n_batch=scviDataset.n_batches * use_batches,\n",
    "        n_latent=n_latent,\n",
    "    )\n",
    "    trainer = UnsupervisedTrainer(vae, scviDataset, train_size=1.0, use_cuda=use_cuda)\n",
    "    trainer.train(n_epochs=n_epochs, lr=lr)\n",
    "    ####\n",
    "\n",
    "    # Extract latent space\n",
    "    posterior = trainer.create_posterior(\n",
    "        trainer.model, scviDataset, indices=np.arange(len(scviDataset))\n",
    "    ).sequential()\n",
    "\n",
    "    latent, _, _ = posterior.get_latent()\n",
    "\n",
    "    return posterior, latent"
   ]
  },
  {
   "cell_type": "raw",
   "id": "major-scheme",
   "metadata": {},
   "source": [
    "n_epochs = 400 if n_epochs_all is None else n_epochs_all\n",
    "\n",
    "# use_cuda to use GPU\n",
    "use_cuda = True if IN_COLAB else False\n",
    "\n",
    "scvi_posterior, scvi_latent = compute_scvi_latent(\n",
    "    adata_original, n_epochs=n_epochs, n_latent=10, use_cuda=use_cuda\n",
    ")\n",
    "adata.obsm[\"X_scvi\"] = scvi_latent\n",
    "\n",
    "# store scvi imputed expression\n",
    "scale = scvi_posterior.get_sample_scale()\n",
    "for _ in range(9):\n",
    "    scale += scvi_posterior.get_sample_scale()\n",
    "scale /= 10\n",
    "\n",
    "for gene, gene_scale in zip(adata.var.index, np.squeeze(scale).T):\n",
    "    adata.obs[\"scale_\" + gene] = gene_scale"
   ]
  },
  {
   "cell_type": "code",
   "execution_count": null,
   "id": "meaning-healthcare",
   "metadata": {},
   "outputs": [],
   "source": []
  }
 ],
 "metadata": {
  "kernelspec": {
   "display_name": "Python 3",
   "language": "python",
   "name": "python3"
  },
  "language_info": {
   "codemirror_mode": {
    "name": "ipython",
    "version": 3
   },
   "file_extension": ".py",
   "mimetype": "text/x-python",
   "name": "python",
   "nbconvert_exporter": "python",
   "pygments_lexer": "ipython3",
   "version": "3.8.8"
  }
 },
 "nbformat": 4,
 "nbformat_minor": 5
}
