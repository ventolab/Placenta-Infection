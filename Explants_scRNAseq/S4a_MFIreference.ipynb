{
 "cells": [
  {
   "cell_type": "markdown",
   "id": "instructional-aside",
   "metadata": {},
   "source": [
    "**Author:** Elias Rafael Ruiz-Morales\n",
    "\n",
    "**Institution:** Wellcome Sanger institute\n",
    "\n",
    "**May, 2022**\n",
    "\n",
    "Notebook to get the Maternal-Fetal Interface reference done by Anna Arutyunyan. TO be used for logistic regression\n"
   ]
  },
  {
   "cell_type": "markdown",
   "id": "pregnant-maintenance",
   "metadata": {},
   "source": [
    "----"
   ]
  },
  {
   "cell_type": "markdown",
   "id": "rising-criterion",
   "metadata": {},
   "source": [
    "# Maternal-Fetal interface reference by Anna Arutyunyan.\n"
   ]
  },
  {
   "cell_type": "code",
   "execution_count": 1,
   "id": "speaking-fault",
   "metadata": {},
   "outputs": [],
   "source": [
    "import numpy as np\n",
    "import pandas as pd\n",
    "import scanpy as sc\n",
    "import os\n",
    "import sys\n",
    "import anndata\n",
    "import scvi\n"
   ]
  },
  {
   "cell_type": "code",
   "execution_count": null,
   "id": "present-neighbor",
   "metadata": {},
   "outputs": [],
   "source": []
  },
  {
   "cell_type": "markdown",
   "id": "black-mexico",
   "metadata": {},
   "source": [
    "#### Loading the object and annotation"
   ]
  },
  {
   "cell_type": "code",
   "execution_count": 2,
   "id": "opposed-lightning",
   "metadata": {},
   "outputs": [],
   "source": [
    "adata= sc.read('../../MFIdata_anna/adata_raw_filtered.h5ad')\n",
    "annotation = pd.read_csv('../../MFIdata_anna/final_annotation_all_cells_and_nulcei_20211123.csv',index_col=0)"
   ]
  },
  {
   "cell_type": "code",
   "execution_count": 11,
   "id": "functional-nitrogen",
   "metadata": {},
   "outputs": [],
   "source": [
    "ids=list(annotation.index)"
   ]
  },
  {
   "cell_type": "code",
   "execution_count": 15,
   "id": "engaging-darwin",
   "metadata": {},
   "outputs": [],
   "source": [
    "#Subsetting the cells that made it into the final annotation\n",
    "adata= adata[ids]"
   ]
  },
  {
   "cell_type": "code",
   "execution_count": 18,
   "id": "accessory-planet",
   "metadata": {
    "tags": []
   },
   "outputs": [
    {
     "data": {
      "text/plain": [
       "barcode_sample\n",
       "AAACGGGCATTGGCGC-1_FCA7167219              dNK1\n",
       "AAACGGGTCGCGATCG-1_FCA7167219          dT_cells\n",
       "AAAGATGAGCAATATG-1_FCA7167219           T_cells\n",
       "AAAGATGAGTTCGCGC-1_FCA7167219              dNK1\n",
       "AAAGATGCATGTCGAT-1_FCA7167219           T_cells\n",
       "                                         ...   \n",
       "TTTGTGTTCGTCAAGT-1_Pla_Camb10714920        uSMC\n",
       "TTTGTGTTCTTAGTCT-1_Pla_Camb10714920         SCT\n",
       "TTTGTTGGTCACAGCG-1_Pla_Camb10714920        HOFB\n",
       "TTTGTTGGTTTACTTG-1_Pla_Camb10714920         SCT\n",
       "TTTGTTGGTTTGAGCA-1_Pla_Camb10714920         SCT\n",
       "Name: cell_type, Length: 350815, dtype: object"
      ]
     },
     "execution_count": 18,
     "metadata": {},
     "output_type": "execute_result"
    }
   ],
   "source": []
  },
  {
   "cell_type": "code",
   "execution_count": 22,
   "id": "historic-radical",
   "metadata": {},
   "outputs": [
    {
     "name": "stderr",
     "output_type": "stream",
     "text": [
      "... storing 'cell_type' as categorical\n"
     ]
    }
   ],
   "source": [
    "adata.write('../../MFIdata_anna/adata_raw_filtered_annotated.h5ad')"
   ]
  },
  {
   "cell_type": "code",
   "execution_count": 20,
   "id": "secondary-assessment",
   "metadata": {},
   "outputs": [
    {
     "name": "stderr",
     "output_type": "stream",
     "text": [
      "Trying to set attribute `.obs` of view, copying.\n"
     ]
    }
   ],
   "source": [
    "#Adding the annotation\n",
    "adata.obs['cell_type']= annotation['cell_type']"
   ]
  },
  {
   "cell_type": "code",
   "execution_count": null,
   "id": "defensive-flood",
   "metadata": {},
   "outputs": [],
   "source": [
    "adata.write('../../MFIdata_anna/adata_raw_filtered_annotated.h5ad')"
   ]
  }
 ],
 "metadata": {
  "kernelspec": {
   "display_name": "Python 3",
   "language": "python",
   "name": "python3"
  },
  "language_info": {
   "codemirror_mode": {
    "name": "ipython",
    "version": 3
   },
   "file_extension": ".py",
   "mimetype": "text/x-python",
   "name": "python",
   "nbconvert_exporter": "python",
   "pygments_lexer": "ipython3",
   "version": "3.8.8"
  }
 },
 "nbformat": 4,
 "nbformat_minor": 5
}
