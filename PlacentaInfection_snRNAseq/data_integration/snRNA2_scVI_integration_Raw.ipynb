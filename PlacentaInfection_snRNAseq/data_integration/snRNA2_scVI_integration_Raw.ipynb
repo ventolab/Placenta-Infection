{
 "cells": [
  {
   "cell_type": "markdown",
   "id": "considerable-month",
   "metadata": {},
   "source": [
    "**Author:** Elias Rafael Ruiz-Morales\n",
    "\n",
    "**Institution:** Wellcome Sanger institute\n",
    "\n",
    "**August, 2023**\n"
   ]
  },
  {
   "cell_type": "markdown",
   "id": "juvenile-master",
   "metadata": {},
   "source": [
    "---"
   ]
  },
  {
   "cell_type": "markdown",
   "id": "collected-balloon",
   "metadata": {},
   "source": [
    "# Integration of single-nuclei data using scVI\n",
    "\n",
    "snRNA-Seq of Placental explants"
   ]
  },
  {
   "cell_type": "code",
   "execution_count": 1,
   "id": "aboriginal-healthcare",
   "metadata": {},
   "outputs": [],
   "source": [
    "from __future__ import print_function\n",
    "import torch\n",
    "\n",
    "import sys, os\n",
    "data_type = 'float32'\n",
    "os.environ[\"THEANO_FLAGS\"] = 'device=cuda,floatX=' + data_type + ',force_device=True'\n",
    "sys.path.insert(1, './')"
   ]
  },
  {
   "cell_type": "code",
   "execution_count": 2,
   "id": "dangerous-translator",
   "metadata": {
    "tags": []
   },
   "outputs": [
    {
     "name": "stderr",
     "output_type": "stream",
     "text": [
      "WARNING: If you miss a compact list, please try `print_header`!\n"
     ]
    },
    {
     "name": "stdout",
     "output_type": "stream",
     "text": [
      "-----\n",
      "anndata     0.7.6\n",
      "scanpy      1.7.0\n",
      "sinfo       0.3.1\n",
      "-----\n",
      "PIL                 8.3.0\n",
      "absl                NA\n",
      "anndata             0.7.6\n",
      "anyio               NA\n",
      "attr                21.2.0\n",
      "babel               2.9.1\n",
      "backcall            0.2.0\n",
      "beta_ufunc          NA\n",
      "binom_ufunc         NA\n",
      "brotli              NA\n",
      "cairo               1.20.1\n",
      "certifi             2021.05.30\n",
      "cffi                1.14.4\n",
      "chardet             4.0.0\n",
      "colorama            0.4.4\n",
      "cycler              0.10.0\n",
      "cython_runtime      NA\n",
      "dateutil            2.8.1\n",
      "debugpy             1.3.0\n",
      "decorator           5.0.9\n",
      "defusedxml          0.7.1\n",
      "dunamai             1.5.5\n",
      "fsspec              2021.06.1\n",
      "get_version         3.2\n",
      "google              NA\n",
      "h5py                3.3.0\n",
      "idna                2.10\n",
      "igraph              0.8.3\n",
      "ipykernel           6.0.0\n",
      "ipython_genutils    0.2.0\n",
      "ipywidgets          7.6.3\n",
      "jedi                0.18.0\n",
      "jinja2              3.0.1\n",
      "joblib              1.0.1\n",
      "json5               NA\n",
      "jsonschema          3.2.0\n",
      "jupyter_server      1.9.0\n",
      "jupyterlab_server   2.6.0\n",
      "kiwisolver          1.3.1\n",
      "legacy_api_wrap     0.0.0\n",
      "leidenalg           0.8.3\n",
      "llvmlite            0.34.0\n",
      "louvain             0.7.0\n",
      "markupsafe          2.0.1\n",
      "matplotlib          3.4.2\n",
      "matplotlib_inline   NA\n",
      "mpl_toolkits        NA\n",
      "natsort             7.1.1\n",
      "nbclassic           NA\n",
      "nbformat            5.1.3\n",
      "nbinom_ufunc        NA\n",
      "numba               0.51.2\n",
      "numexpr             2.7.3\n",
      "numpy               1.19.5\n",
      "opt_einsum          v3.3.0\n",
      "packaging           20.9\n",
      "pandas              1.2.4\n",
      "parso               0.8.2\n",
      "pexpect             4.8.0\n",
      "pickleshare         0.7.5\n",
      "pkg_resources       NA\n",
      "prometheus_client   NA\n",
      "prompt_toolkit      3.0.19\n",
      "ptyprocess          0.7.0\n",
      "pvectorc            NA\n",
      "pycparser           2.20\n",
      "pygments            2.9.0\n",
      "pyparsing           2.4.7\n",
      "pyro                1.5.2\n",
      "pyrsistent          NA\n",
      "pytorch_lightning   1.2.10\n",
      "pytz                2021.1\n",
      "requests            2.25.1\n",
      "rich                NA\n",
      "scanpy              1.7.0\n",
      "scipy               1.7.0\n",
      "scvi                0.10.1\n",
      "send2trash          NA\n",
      "setuptools_scm      NA\n",
      "sinfo               0.3.1\n",
      "six                 1.16.0\n",
      "sklearn             0.24.2\n",
      "sniffio             1.2.0\n",
      "socks               1.7.1\n",
      "sphinxcontrib       NA\n",
      "storemagic          NA\n",
      "tables              3.6.1\n",
      "tensorboard         2.5.0\n",
      "terminado           0.10.1\n",
      "texttable           1.6.3\n",
      "threadpoolctl       2.1.0\n",
      "torch               1.8.1+cu102\n",
      "torchmetrics        0.4.0\n",
      "tornado             6.1\n",
      "tqdm                4.61.1\n",
      "traitlets           5.0.5\n",
      "typing_extensions   NA\n",
      "urllib3             1.26.6\n",
      "wcwidth             0.2.5\n",
      "websocket           0.57.0\n",
      "yaml                5.4.1\n",
      "zmq                 22.1.0\n",
      "-----\n",
      "IPython             7.25.0\n",
      "jupyter_client      6.1.12\n",
      "jupyter_core        4.7.1\n",
      "jupyterlab          3.0.16\n",
      "notebook            6.4.0\n",
      "-----\n",
      "Python 3.8.0 | packaged by conda-forge | (default, Nov 22 2019, 19:11:38) [GCC 7.3.0]\n",
      "Linux-4.15.0-219-generic-x86_64-with-glibc2.10\n",
      "64 logical CPU cores, x86_64\n",
      "-----\n",
      "Session information updated at 2023-11-22 07:28\n",
      "\n"
     ]
    },
    {
     "data": {
      "text/plain": [
       "'/opt/conda/envs/scvi-singularity/bin/python'"
      ]
     },
     "execution_count": 2,
     "metadata": {},
     "output_type": "execute_result"
    }
   ],
   "source": [
    "# Seed for reproducibility\n",
    "import numpy as np\n",
    "import pandas as pd\n",
    "import scanpy as sc\n",
    "from typing import Tuple\n",
    "\n",
    "# scVI imports\n",
    "import scvi\n",
    "from scvi.dataset import AnnDatasetFromAnnData\n",
    "from scvi.inference import UnsupervisedTrainer\n",
    "from scvi.models.vae import VAE\n",
    "\n",
    "torch.manual_seed(0)\n",
    "np.random.seed(0)\n",
    "sc.settings.verbosity = 0  # verbosity: errors (0), warnings (1), info (2), hints (3)\n",
    "\n",
    "\n",
    "\n",
    "def MovePlots(plotpattern, subplotdir):\n",
    "    os.system('mkdir -p '+str(sc.settings.figdir)+'/'+subplotdir)\n",
    "    os.system('mv '+str(sc.settings.figdir)+'/*'+plotpattern+'** '+str(sc.settings.figdir)+'/'+subplotdir)\n",
    "\n",
    "sc.settings.verbosity = 3  # verbosity: errors (0), warnings (1), info (2), hints (3)\n",
    "sc.settings.figdir = '../results/scVI/'\n",
    "sc.logging.print_versions()\n",
    "sc.settings.set_figure_params(dpi=80)  # low dpi (dots per inch) yields small inline figures\n",
    "\n",
    "sys.executable"
   ]
  },
  {
   "cell_type": "code",
   "execution_count": 3,
   "id": "cognitive-offering",
   "metadata": {},
   "outputs": [],
   "source": [
    "def identityTransfer(adata_CellsNewID, adata, field='identity'):\n",
    "    \n",
    "    '''\n",
    "    Function to transfer the value in a .obs column, modifying only the cells included in adata_CellsNewID\n",
    "    \n",
    "    Parameters:\n",
    "        adata_CellsNewID: anndata object with cells. These should have in their .obs[field] the new values to be transfer to adata\n",
    "        adata: anndata object to modify. The value in .obs[field] will be modifies for all the cells in adata_CellsNewID\n",
    "        field: column name in .obs to operate in.\n",
    "        \n",
    "     Return:\n",
    "        anndata object with the metadata modified\n",
    "        \n",
    "    '''\n",
    "    \n",
    "    #converting categorical into strings to introduce new categories\n",
    "    adata.obs[field]=adata.obs[field].astype(\"string\")\n",
    "\n",
    "\n",
    "    #assigning the new categories to the cells in adata\n",
    "    for cell in adata_CellsNewID.obs.index:\n",
    "        adata.obs[field][cell] = adata_CellsNewID.obs[field][cell]\n",
    "\n",
    "    #Returning strings into categorical \n",
    "    adata.obs[field]=adata.obs[field].astype(\"category\")\n",
    "    \n",
    "    return(adata)"
   ]
  },
  {
   "cell_type": "code",
   "execution_count": 4,
   "id": "composite-speaker",
   "metadata": {},
   "outputs": [],
   "source": [
    "def loadCounts( meta, data_dir):\n",
    "    '''\n",
    "    meta: pandas dataframe with metadata.\n",
    "    data_dir: path to the data\n",
    "    \n",
    "    '''\n",
    "\n",
    "    for sample in meta.index:\n",
    "        print(sample)\n",
    "        # Load 10x data as AnnData\n",
    "\n",
    "        holder.append(sc.read_10x_mtx(data_dir+sample+'/filtered_feature_bc_matrix/',var_names='gene_symbols',cache=True)) \n",
    "        print('Original number of cells: {:d}'.format(holder[-1].n_obs))\n",
    "\n",
    "        holder[-1].var_names_make_unique()\n",
    "        #holder[-1].obs_names = [sample+'_'+i.split('-')[0] for i in holder[-1].obs_names]\n",
    "\n",
    "\n",
    "        # add in metadata\n",
    "        holder[-1].obs['sample'] = sample\n",
    "        for val in meta.columns:\n",
    "            holder[-1].obs[val] = meta[val][sample]\n",
    "\n",
    "        # Extract mitochondial genes\n",
    "        mito_genes = [name for name in holder[-1].var_names if name.startswith('MT-')]\n",
    "        #for each cell compute fraction of counts in mito genes vs. all genes\n",
    "        #the `.A1` is only necessary, as X is sparse - it transform to a dense array after summing\n",
    "        holder[-1].obs['percent_mito'] = np.sum(\n",
    "             holder[-1][:, mito_genes].X, axis=1).A1 / np.sum(holder[-1].X, axis=1).A1\n",
    "\n",
    "        #add the total counts per cell as observations-annotation to adata\n",
    "        holder[-1].obs['n_counts'] = holder[-1].X.sum(axis=1).A1\n",
    "\n",
    "        print('Total number of cells: {:d}'.format(holder[-1].n_obs))\n",
    "        print('Total number of genes: {:d}'.format(holder[-1].n_vars))"
   ]
  },
  {
   "cell_type": "code",
   "execution_count": null,
   "id": "atmospheric-feeling",
   "metadata": {},
   "outputs": [],
   "source": []
  },
  {
   "cell_type": "markdown",
   "id": "tracked-department",
   "metadata": {},
   "source": [
    "### Loading denoised data"
   ]
  },
  {
   "cell_type": "code",
   "execution_count": 5,
   "id": "greatest-courage",
   "metadata": {},
   "outputs": [],
   "source": [
    "adata=sc.read('../data/snRNA1_counts_preprocessed_All_adata.h5ad')"
   ]
  },
  {
   "cell_type": "code",
   "execution_count": 6,
   "id": "generous-muscle",
   "metadata": {},
   "outputs": [
    {
     "data": {
      "text/plain": [
       "AnnData object with n_obs × n_vars = 66209 × 36601\n",
       "    obs: 'sample', 'stage', 'donor', 'hpi', 'infection', 'percent_mito', 'n_counts', 'batch', 'n_genes', 'sample_barcode', 'assignment_SoC', 'donor_deconv', 'donor_souporcell', 'donor_id', 'scrublet_score', 'scrublet_cluster_score', 'zscore', 'bh_pval', 'bonf_pval', 'is_doublet', 'infection_stage', 'S_score', 'G2M_score', 'phase'\n",
       "    var: 'gene_ids', 'feature_types', 'mean', 'std', 'highly_variable', 'highly_variable_rank', 'means', 'variances', 'variances_norm'\n",
       "    uns: 'donor_id_colors', 'hvg', 'infection_colors', 'sample_colors'\n",
       "    layers: 'raw_counts'"
      ]
     },
     "execution_count": 6,
     "metadata": {},
     "output_type": "execute_result"
    }
   ],
   "source": [
    "adata"
   ]
  },
  {
   "cell_type": "code",
   "execution_count": 7,
   "id": "treated-camera",
   "metadata": {},
   "outputs": [],
   "source": [
    "adata.layers['raw_counts']= adata.X.copy()"
   ]
  },
  {
   "cell_type": "code",
   "execution_count": null,
   "id": "german-complexity",
   "metadata": {},
   "outputs": [],
   "source": []
  },
  {
   "cell_type": "code",
   "execution_count": null,
   "id": "normal-cassette",
   "metadata": {},
   "outputs": [],
   "source": []
  },
  {
   "cell_type": "markdown",
   "id": "animal-villa",
   "metadata": {},
   "source": [
    "### Compute the scVI latent space\n",
    "\n",
    "Based on the scVI documentation."
   ]
  },
  {
   "cell_type": "code",
   "execution_count": 8,
   "id": "opposite-intention",
   "metadata": {},
   "outputs": [
    {
     "data": {
      "text/plain": [
       "array(['donor_doublets', 'snDonor_Pf0', 'snDonor_Pf1', 'snDonor_Pf2',\n",
       "       'snDonor_Pf3', 'snDonor_Pf5', 'snDonor_Pf6'], dtype=object)"
      ]
     },
     "execution_count": 8,
     "metadata": {},
     "output_type": "execute_result"
    }
   ],
   "source": [
    "np.unique(adata.obs['donor_id'])"
   ]
  },
  {
   "cell_type": "code",
   "execution_count": 9,
   "id": "completed-witness",
   "metadata": {},
   "outputs": [
    {
     "data": {
      "text/plain": [
       "Pla_HDBR11923126_AAACCCAAGACCAACG    Pla_HDBR11923126\n",
       "Pla_HDBR11923126_AAACCCAAGAGAGGGC    Pla_HDBR11923126\n",
       "Pla_HDBR11923126_AAACCCAAGCGAACTG    Pla_HDBR11923126\n",
       "Pla_HDBR11923126_AAACCCAAGGATTTGA    Pla_HDBR11923126\n",
       "Pla_HDBR11923126_AAACCCAAGTACTGTC    Pla_HDBR11923126\n",
       "                                           ...       \n",
       "Pla_HDBR13661578_TTTCATGGTATGCTTG    Pla_HDBR13661578\n",
       "Pla_HDBR13661578_TTTCCTCAGTCCTGTA    Pla_HDBR13661578\n",
       "Pla_HDBR13661578_TTTGATCTCCAGCCTT    Pla_HDBR13661578\n",
       "Pla_HDBR13661578_TTTGGAGAGAGCATAT    Pla_HDBR13661578\n",
       "Pla_HDBR13661578_TTTGTTGGTTAAGTCC    Pla_HDBR13661578\n",
       "Name: sample, Length: 66209, dtype: category\n",
       "Categories (8, object): ['Pla_HDBR11923126', 'Pla_HDBR11923127', 'Pla_HDBR13026230', 'Pla_HDBR13026231', 'Pla_HDBR13026232', 'Pla_HDBR13026233', 'Pla_HDBR13661577', 'Pla_HDBR13661578']"
      ]
     },
     "execution_count": 9,
     "metadata": {},
     "output_type": "execute_result"
    }
   ],
   "source": [
    "adata.obs['sample']"
   ]
  },
  {
   "cell_type": "code",
   "execution_count": null,
   "id": "cathedral-commons",
   "metadata": {},
   "outputs": [],
   "source": []
  },
  {
   "cell_type": "code",
   "execution_count": 10,
   "id": "valid-transcription",
   "metadata": {},
   "outputs": [
    {
     "name": "stdout",
     "output_type": "stream",
     "text": [
      "\u001b[34mINFO    \u001b[0m Using batches from adata.obs\u001b[1m[\u001b[0m\u001b[32m\"donor_id\"\u001b[0m\u001b[1m]\u001b[0m                                            \n"
     ]
    },
    {
     "name": "stderr",
     "output_type": "stream",
     "text": [
      "Using batches from adata.obs[\"donor_id\"]\n"
     ]
    },
    {
     "name": "stdout",
     "output_type": "stream",
     "text": [
      "\u001b[34mINFO    \u001b[0m No label_key inputted, assuming all cells have same label                           \n"
     ]
    },
    {
     "name": "stderr",
     "output_type": "stream",
     "text": [
      "No label_key inputted, assuming all cells have same label\n"
     ]
    },
    {
     "name": "stdout",
     "output_type": "stream",
     "text": [
      "\u001b[34mINFO    \u001b[0m Using data from adata.layers\u001b[1m[\u001b[0m\u001b[32m\"raw_counts\"\u001b[0m\u001b[1m]\u001b[0m                                          \n"
     ]
    },
    {
     "name": "stderr",
     "output_type": "stream",
     "text": [
      "Using data from adata.layers[\"raw_counts\"]\n"
     ]
    },
    {
     "name": "stdout",
     "output_type": "stream",
     "text": [
      "\u001b[34mINFO    \u001b[0m Computing library size prior per batch                                              \n"
     ]
    },
    {
     "name": "stderr",
     "output_type": "stream",
     "text": [
      "Computing library size prior per batch\n"
     ]
    },
    {
     "name": "stdout",
     "output_type": "stream",
     "text": [
      "\u001b[34mINFO    \u001b[0m Successfully registered anndata object containing \u001b[1;36m66209\u001b[0m cells, \u001b[1;36m36601\u001b[0m vars, \u001b[1;36m7\u001b[0m        \n",
      "         batches, \u001b[1;36m1\u001b[0m labels, and \u001b[1;36m0\u001b[0m proteins. Also registered \u001b[1;36m1\u001b[0m extra categorical covariates   \n",
      "         and \u001b[1;36m0\u001b[0m extra continuous covariates.                                                  \n"
     ]
    },
    {
     "name": "stderr",
     "output_type": "stream",
     "text": [
      "Successfully registered anndata object containing 66209 cells, 36601 vars, 7 batches, 1 labels, and 0 proteins. Also registered 1 extra categorical covariates and 0 extra continuous covariates.\n"
     ]
    },
    {
     "name": "stdout",
     "output_type": "stream",
     "text": [
      "\u001b[34mINFO    \u001b[0m Please do not further modify adata until model is trained.                          \n"
     ]
    },
    {
     "name": "stderr",
     "output_type": "stream",
     "text": [
      "Please do not further modify adata until model is trained.\n"
     ]
    }
   ],
   "source": [
    "scvi.data.setup_anndata(\n",
    "    adata,\n",
    "    layer=\"raw_counts\",\n",
    "    batch_key='donor_id', #samples as a batch\n",
    "    #donor as a covariate of the cells\n",
    "    categorical_covariate_keys=[\"sample\"] \n",
    "    #categorical_covariate_keys=['donor_souporcell',], #\n",
    "    #continuous_covariate_keys=[\"\"]\n",
    ")"
   ]
  },
  {
   "cell_type": "code",
   "execution_count": 11,
   "id": "still-minimum",
   "metadata": {},
   "outputs": [],
   "source": [
    "#---- check #layers"
   ]
  },
  {
   "cell_type": "code",
   "execution_count": 12,
   "id": "special-pacific",
   "metadata": {},
   "outputs": [
    {
     "name": "stdout",
     "output_type": "stream",
     "text": [
      "n_latent_value 15\n",
      "n_latent_value 20\n",
      "n_latent_value 30\n"
     ]
    }
   ],
   "source": [
    "models = {}\n",
    "\n",
    "# let's try a few values\n",
    "n_latent_values = [15, 20, 30]\n",
    "\n",
    "for n_latent_value in n_latent_values:\n",
    "    print('n_latent_value', n_latent_value)\n",
    "    models[n_latent_value] = scvi.model.SCVI(adata, n_latent = n_latent_value)"
   ]
  },
  {
   "cell_type": "code",
   "execution_count": 13,
   "id": "failing-pepper",
   "metadata": {},
   "outputs": [
    {
     "data": {
      "text/html": [
       "<pre style=\"white-space:pre;overflow-x:auto;line-height:normal;font-family:Menlo,'DejaVu Sans Mono',consolas,'Courier New',monospace\">SCVI Model with the following params: \n",
       "n_hidden: <span style=\"color: #008080; text-decoration-color: #008080; font-weight: bold\">128</span>, n_latent: <span style=\"color: #008080; text-decoration-color: #008080; font-weight: bold\">30</span>, n_layers: <span style=\"color: #008080; text-decoration-color: #008080; font-weight: bold\">1</span>, dropout_rate: <span style=\"color: #008080; text-decoration-color: #008080; font-weight: bold\">0.1</span>, dispersion: gene, \n",
       "gene_likelihood: zinb, latent_distribution: normal\n",
       "Training status: Not Trained\n",
       "</pre>\n"
      ],
      "text/plain": [
       "SCVI Model with the following params: \n",
       "n_hidden: \u001b[1;36m128\u001b[0m, n_latent: \u001b[1;36m30\u001b[0m, n_layers: \u001b[1;36m1\u001b[0m, dropout_rate: \u001b[1;36m0.1\u001b[0m, dispersion: gene, \n",
       "gene_likelihood: zinb, latent_distribution: normal\n",
       "Training status: Not Trained\n"
      ]
     },
     "metadata": {},
     "output_type": "display_data"
    },
    {
     "data": {
      "text/html": [
       "<pre style=\"white-space:pre;overflow-x:auto;line-height:normal;font-family:Menlo,'DejaVu Sans Mono',consolas,'Courier New',monospace\">\n",
       "\n",
       "To print summary of associated AnnData, use: <span style=\"color: #af00d7; text-decoration-color: #af00d7\">scvi.data.view_anndata_setup(model.adata)</span>\n",
       "</pre>\n"
      ],
      "text/plain": [
       "\n",
       "\n",
       "To print summary of associated AnnData, use: \u001b[38;5;128mscvi.data.view_anndata_setup(model.adata)\u001b[0m\n"
      ]
     },
     "metadata": {},
     "output_type": "display_data"
    },
    {
     "data": {
      "text/plain": []
     },
     "execution_count": 13,
     "metadata": {},
     "output_type": "execute_result"
    }
   ],
   "source": [
    "models[30]"
   ]
  },
  {
   "cell_type": "code",
   "execution_count": 14,
   "id": "senior-belgium",
   "metadata": {},
   "outputs": [
    {
     "name": "stderr",
     "output_type": "stream",
     "text": [
      "GPU available: True, used: True\n",
      "TPU available: False, using: 0 TPU cores\n",
      "LOCAL_RANK: 0 - CUDA_VISIBLE_DEVICES: [0]\n"
     ]
    },
    {
     "name": "stdout",
     "output_type": "stream",
     "text": [
      "training model for n_latent_value: 15\n",
      "Epoch 121/121: 100%|████████████████████████████████████████| 121/121 [25:04<00:00, 12.43s/it, loss=7.86e+03, v_num=1]\n"
     ]
    },
    {
     "name": "stderr",
     "output_type": "stream",
     "text": [
      "GPU available: True, used: True\n",
      "TPU available: False, using: 0 TPU cores\n",
      "LOCAL_RANK: 0 - CUDA_VISIBLE_DEVICES: [0]\n"
     ]
    },
    {
     "name": "stdout",
     "output_type": "stream",
     "text": [
      "training model for n_latent_value: 20\n",
      "Epoch 121/121: 100%|████████████████████████████████████████| 121/121 [25:06<00:00, 12.45s/it, loss=7.83e+03, v_num=1]\n"
     ]
    },
    {
     "name": "stderr",
     "output_type": "stream",
     "text": [
      "GPU available: True, used: True\n",
      "TPU available: False, using: 0 TPU cores\n",
      "LOCAL_RANK: 0 - CUDA_VISIBLE_DEVICES: [0]\n"
     ]
    },
    {
     "name": "stdout",
     "output_type": "stream",
     "text": [
      "training model for n_latent_value: 30\n",
      "Epoch 121/121: 100%|█████████████████████████████████████████████████████████████████████████████████████████████████████████████| 121/121 [25:09<00:00, 12.47s/it, loss=7.86e+03, v_num=1]\n"
     ]
    }
   ],
   "source": [
    "latent_representations = {}\n",
    "\n",
    "for n_latent_value in n_latent_values:\n",
    "    print('training model for n_latent_value:', n_latent_value)\n",
    "    models[n_latent_value].train()\n",
    "    \n",
    "    latent_representations[n_latent_value] = models[n_latent_value].get_latent_representation()\n",
    "    \n",
    "    adata.obsm[\"X_scVI_n_latent_\" + str(n_latent_value)] = latent_representations[n_latent_value]\n",
    "    \n",
    "    curr_df = pd.DataFrame(adata.obsm[\"X_scVI_n_latent_\" + str(n_latent_value)])\n",
    "    curr_df.to_csv('../results/scVI/20230924_obsm_with_scVI_latent_representation_n_' + str(n_latent_value) + '_allSamples.csv')"
   ]
  },
  {
   "cell_type": "code",
   "execution_count": null,
   "id": "demanding-inflation",
   "metadata": {},
   "outputs": [],
   "source": []
  },
  {
   "cell_type": "code",
   "execution_count": 15,
   "id": "steady-nursery",
   "metadata": {},
   "outputs": [],
   "source": [
    "#adata.X= adata.layers[\"denoised\"].copy()"
   ]
  },
  {
   "cell_type": "code",
   "execution_count": 16,
   "id": "latter-learning",
   "metadata": {},
   "outputs": [],
   "source": [
    "adata.write('../results/scVI/snRNA2_scVIintegrated_AllDataRaw.h5ad')"
   ]
  },
  {
   "cell_type": "code",
   "execution_count": 17,
   "id": "ceramic-browser",
   "metadata": {},
   "outputs": [
    {
     "data": {
      "text/plain": [
       "Gene Expression    36601\n",
       "Name: feature_types, dtype: int64"
      ]
     },
     "execution_count": 17,
     "metadata": {},
     "output_type": "execute_result"
    }
   ],
   "source": [
    "adata.var[\"feature_types\"].value_counts()\n"
   ]
  },
  {
   "cell_type": "code",
   "execution_count": null,
   "id": "incoming-seeking",
   "metadata": {},
   "outputs": [],
   "source": []
  }
 ],
 "metadata": {
  "kernelspec": {
   "display_name": "Python 3",
   "language": "python",
   "name": "python3"
  },
  "language_info": {
   "codemirror_mode": {
    "name": "ipython",
    "version": 3
   },
   "file_extension": ".py",
   "mimetype": "text/x-python",
   "name": "python",
   "nbconvert_exporter": "python",
   "pygments_lexer": "ipython3",
   "version": "3.8.8"
  }
 },
 "nbformat": 4,
 "nbformat_minor": 5
}
