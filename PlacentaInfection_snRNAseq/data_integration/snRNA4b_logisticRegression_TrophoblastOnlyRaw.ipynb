{
 "cells": [
  {
   "cell_type": "markdown",
   "id": "naughty-sapphire",
   "metadata": {},
   "source": [
    "**Author:** Elias Rafael Ruiz-Morales\n",
    "\n",
    "**Institution:** Wellcome Sanger institute\n",
    "\n",
    "**September, 2023**"
   ]
  },
  {
   "cell_type": "markdown",
   "id": "obvious-dependence",
   "metadata": {},
   "source": [
    "---"
   ]
  },
  {
   "cell_type": "markdown",
   "id": "worse-calvin",
   "metadata": {},
   "source": [
    "# Logistic regression to do trophoblast annotation\n",
    "\n",
    "Uses the annotation in the Maternal-Fetal Interface reference done by Anna Arutyunyan:\n",
    "\n",
    "\n",
    "*Arutyunyan, A., Roberts, K., Troulé, K., Wong, F. C., Sheridan, M. A., Kats, I., ... & Vento-Tormo, R. (2023). Spatial multiomics map of trophoblast development in early pregnancy. Nature, 616(7955), 143-151.*"
   ]
  },
  {
   "cell_type": "code",
   "execution_count": 5,
   "id": "bronze-ultimate",
   "metadata": {},
   "outputs": [],
   "source": [
    "%matplotlib inline\n",
    "%config InlineBackend.figure_format = 'retina'\n",
    "\n",
    "import numpy as np\n",
    "import pandas as pd\n",
    "import seaborn as sns\n",
    "import scanpy as sc\n",
    "import anndata\n",
    "import os\n",
    "import sklearn\n",
    "from sklearn.linear_model import LogisticRegression\n",
    "import matplotlib as mpl\n",
    "import scipy\n",
    "import matplotlib.pyplot as plt\n",
    "import pickle"
   ]
  },
  {
   "cell_type": "code",
   "execution_count": 6,
   "id": "psychological-stadium",
   "metadata": {},
   "outputs": [],
   "source": [
    "np.random.seed(0)"
   ]
  },
  {
   "cell_type": "code",
   "execution_count": 7,
   "id": "nonprofit-branch",
   "metadata": {
    "collapsed": true,
    "jupyter": {
     "outputs_hidden": true
    },
    "scrolled": true,
    "tags": []
   },
   "outputs": [
    {
     "name": "stderr",
     "output_type": "stream",
     "text": [
      "WARNING: If you miss a compact list, please try `print_header`!\n"
     ]
    },
    {
     "name": "stdout",
     "output_type": "stream",
     "text": [
      "-----\n",
      "anndata     0.7.6\n",
      "scanpy      1.7.0\n",
      "sinfo       0.3.1\n",
      "-----\n",
      "PIL                 8.3.0\n",
      "anndata             0.7.6\n",
      "anyio               NA\n",
      "attr                21.2.0\n",
      "babel               2.9.1\n",
      "backcall            0.2.0\n",
      "beta_ufunc          NA\n",
      "binom_ufunc         NA\n",
      "brotli              NA\n",
      "cairo               1.20.1\n",
      "certifi             2021.05.30\n",
      "cffi                1.14.4\n",
      "chardet             4.0.0\n",
      "colorama            0.4.4\n",
      "cycler              0.10.0\n",
      "cython_runtime      NA\n",
      "dateutil            2.8.1\n",
      "debugpy             1.3.0\n",
      "decorator           5.0.9\n",
      "defusedxml          0.7.1\n",
      "dunamai             1.5.5\n",
      "get_version         3.2\n",
      "google              NA\n",
      "h5py                3.3.0\n",
      "idna                2.10\n",
      "igraph              0.8.3\n",
      "ipykernel           6.0.0\n",
      "ipython_genutils    0.2.0\n",
      "ipywidgets          7.6.3\n",
      "jedi                0.18.0\n",
      "jinja2              3.0.1\n",
      "joblib              1.0.1\n",
      "json5               NA\n",
      "jsonschema          3.2.0\n",
      "jupyter_server      1.9.0\n",
      "jupyterlab_server   2.6.0\n",
      "kiwisolver          1.3.1\n",
      "legacy_api_wrap     0.0.0\n",
      "leidenalg           0.8.3\n",
      "llvmlite            0.34.0\n",
      "louvain             0.7.0\n",
      "markupsafe          2.0.1\n",
      "matplotlib          3.4.2\n",
      "matplotlib_inline   NA\n",
      "mpl_toolkits        NA\n",
      "natsort             7.1.1\n",
      "nbclassic           NA\n",
      "nbformat            5.1.3\n",
      "nbinom_ufunc        NA\n",
      "numba               0.51.2\n",
      "numexpr             2.7.3\n",
      "numpy               1.19.5\n",
      "packaging           20.9\n",
      "pandas              1.2.4\n",
      "parso               0.8.2\n",
      "pexpect             4.8.0\n",
      "pickleshare         0.7.5\n",
      "pkg_resources       NA\n",
      "prometheus_client   NA\n",
      "prompt_toolkit      3.0.19\n",
      "ptyprocess          0.7.0\n",
      "pvectorc            NA\n",
      "pygments            2.9.0\n",
      "pyparsing           2.4.7\n",
      "pyrsistent          NA\n",
      "pytz                2021.1\n",
      "requests            2.25.1\n",
      "scanpy              1.7.0\n",
      "scipy               1.7.0\n",
      "seaborn             0.11.1\n",
      "send2trash          NA\n",
      "setuptools_scm      NA\n",
      "sinfo               0.3.1\n",
      "six                 1.16.0\n",
      "sklearn             0.24.2\n",
      "sniffio             1.2.0\n",
      "socks               1.7.1\n",
      "sphinxcontrib       NA\n",
      "statsmodels         0.12.2\n",
      "storemagic          NA\n",
      "tables              3.6.1\n",
      "terminado           0.10.1\n",
      "texttable           1.6.3\n",
      "tornado             6.1\n",
      "traitlets           5.0.5\n",
      "typing_extensions   NA\n",
      "urllib3             1.26.6\n",
      "wcwidth             0.2.5\n",
      "websocket           0.57.0\n",
      "yaml                5.4.1\n",
      "zmq                 22.1.0\n",
      "-----\n",
      "IPython             7.25.0\n",
      "jupyter_client      6.1.12\n",
      "jupyter_core        4.7.1\n",
      "jupyterlab          3.0.16\n",
      "notebook            6.4.0\n",
      "-----\n",
      "Python 3.8.0 | packaged by conda-forge | (default, Nov 22 2019, 19:11:38) [GCC 7.3.0]\n",
      "Linux-4.15.0-219-generic-x86_64-with-glibc2.10\n",
      "64 logical CPU cores, x86_64\n",
      "-----\n",
      "Session information updated at 2023-11-22 10:58\n",
      "\n"
     ]
    }
   ],
   "source": [
    "sc.settings.verbosity = 3  # verbosity: errors (0), warnings (1), info (2), hints (3)\n",
    "sc.logging.print_versions()\n",
    "sc.settings.set_figure_params(dpi=80)  # low dpi (dots per inch) yields small inline figures"
   ]
  },
  {
   "cell_type": "code",
   "execution_count": 8,
   "id": "assured-timber",
   "metadata": {},
   "outputs": [],
   "source": [
    "save_path= '../results/log_regression/'"
   ]
  },
  {
   "cell_type": "code",
   "execution_count": null,
   "id": "hearing-livestock",
   "metadata": {},
   "outputs": [],
   "source": []
  },
  {
   "cell_type": "code",
   "execution_count": 9,
   "id": "descending-conspiracy",
   "metadata": {},
   "outputs": [],
   "source": [
    "# my train data\n",
    "#adata_P13 = sc.read('../../cellranger/data/adata_raw_sc_and_sn_with_unified_annotation_upd_20210914.h5ad')\n",
    "adata_MFIRef = sc.read('../../../scRNAseq/data_integration/data/adata_raw_MFIdata_annotated.h5ad')"
   ]
  },
  {
   "cell_type": "code",
   "execution_count": 10,
   "id": "iraqi-enemy",
   "metadata": {},
   "outputs": [],
   "source": [
    "# my test data\n",
    "Trophoblasts = sc.read('../results/scVI/snRNA4_raw_scVIintegrated_Trophoblastonly.h5ad')#'../results/scVI/snRNA5_denoised_scVIintegrated_Trophoblastonly.h5ad')\n"
   ]
  },
  {
   "cell_type": "code",
   "execution_count": null,
   "id": "thirty-european",
   "metadata": {},
   "outputs": [],
   "source": []
  },
  {
   "cell_type": "markdown",
   "id": "regional-toolbox",
   "metadata": {},
   "source": [
    "# Highly variable genes of Trophoblasts\n",
    "\n"
   ]
  },
  {
   "cell_type": "code",
   "execution_count": 11,
   "id": "closing-northern",
   "metadata": {},
   "outputs": [],
   "source": [
    "Trophoblasts.X = Trophoblasts.layers[\"raw_counts\"].copy()"
   ]
  },
  {
   "cell_type": "code",
   "execution_count": 12,
   "id": "necessary-sterling",
   "metadata": {},
   "outputs": [
    {
     "data": {
      "text/plain": [
       "AnnData object with n_obs × n_vars = 28040 × 36601\n",
       "    obs: 'sample', 'stage', 'donor', 'hpi', 'infection', 'percent_mito', 'n_counts', 'batch', 'n_genes', 'sample_barcode', 'assignment_SoC', 'donor_deconv', 'donor_souporcell', 'donor_id', 'scrublet_score', 'scrublet_cluster_score', 'zscore', 'bh_pval', 'bonf_pval', 'is_doublet', 'infection_stage', 'S_score', 'G2M_score', 'phase', '_scvi_batch', '_scvi_labels', '_scvi_local_l_mean', '_scvi_local_l_var', 'leiden_scvi', 'cell_typeAll', 'stage_perInfection'\n",
       "    var: 'gene_ids', 'feature_types', 'mean', 'std', 'highly_variable', 'highly_variable_rank', 'means', 'variances', 'variances_norm'\n",
       "    uns: '_scvi', 'donor_id_colors', 'hpi_colors', 'hvg', 'infection_colors', 'is_doublet_colors', 'leiden', 'neighbors', 'sample_colors', 'stage_perInfection_colors', 'umap'\n",
       "    obsm: 'X_scVI_n_latent_15', 'X_scVI_n_latent_20', 'X_scVI_n_latent_30', 'X_umap', '_scvi_extra_categoricals'\n",
       "    layers: 'raw_counts'\n",
       "    obsp: 'connectivities', 'distances'"
      ]
     },
     "execution_count": 12,
     "metadata": {},
     "output_type": "execute_result"
    }
   ],
   "source": [
    "Trophoblasts"
   ]
  },
  {
   "cell_type": "code",
   "execution_count": 13,
   "id": "severe-minister",
   "metadata": {},
   "outputs": [],
   "source": [
    "#neede only when using flavor='seurat'\n",
    "#sc.pp.normalize_per_cell(Trophoblasts, counts_per_cell_after=1e4)\n",
    "#sc.pp.log1p(Trophoblasts)"
   ]
  },
  {
   "cell_type": "code",
   "execution_count": 14,
   "id": "individual-louisiana",
   "metadata": {},
   "outputs": [
    {
     "name": "stderr",
     "output_type": "stream",
     "text": [
      "If you pass `n_top_genes`, all cutoffs are ignored.\n",
      "extracting highly variable genes\n",
      "/opt/conda/envs/scvi-singularity/lib/python3.8/site-packages/scanpy/preprocessing/_highly_variable_genes.py:144: FutureWarning: Slicing a positional slice with .loc is not supported, and will raise TypeError in a future version.  Use .loc with labels or .iloc with positions instead.\n",
      "  df.loc[: int(n_top_genes), 'highly_variable'] = True\n",
      "--> added\n",
      "    'highly_variable', boolean vector (adata.var)\n",
      "    'highly_variable_rank', float vector (adata.var)\n",
      "    'means', float vector (adata.var)\n",
      "    'variances', float vector (adata.var)\n",
      "    'variances_norm', float vector (adata.var)\n"
     ]
    },
    {
     "data": {
      "image/png": "[encoded data removed]",
      "text/plain": [
       "<Figure size 640x320 with 2 Axes>"
      ]
     },
     "metadata": {
      "image/png": {
       "height": 321,
       "width": 562
      },
      "needs_background": "light"
     },
     "output_type": "display_data"
    },
    {
     "name": "stdout",
     "output_type": "stream",
     "text": [
      "Total number of cells: 28040\n",
      "Total number of genes: 3000\n"
     ]
    }
   ],
   "source": [
    "#  HVGs. Seurat 3 expects non-normalized counts\n",
    "sc.pp.highly_variable_genes(Trophoblasts, n_top_genes=3000, flavor='seurat_v3')\n",
    "sc.pl.highly_variable_genes(Trophoblasts)\n",
    "\n",
    "#saving the highl variable genes\n",
    "highly_variable_genesTrophoblasts = Trophoblasts.var[\"highly_variable\"]\n",
    "Trophoblasts = Trophoblasts[:, highly_variable_genesTrophoblasts]\n",
    "\n",
    "print('Total number of cells: {:d}'.format(Trophoblasts.n_obs))\n",
    "print('Total number of genes: {:d}'.format(Trophoblasts.n_vars))"
   ]
  },
  {
   "cell_type": "code",
   "execution_count": 15,
   "id": "miniature-dressing",
   "metadata": {},
   "outputs": [],
   "source": [
    "Trophoblasts.X = Trophoblasts.layers[\"raw_counts\"].copy()"
   ]
  },
  {
   "cell_type": "code",
   "execution_count": 16,
   "id": "turkish-oxygen",
   "metadata": {},
   "outputs": [],
   "source": [
    "#Trophoblasts.var.to_csv('../results/exp_infection/tables/highlyVariable_genesTrophoblasts.csv')"
   ]
  },
  {
   "cell_type": "markdown",
   "id": "isolated-break",
   "metadata": {},
   "source": [
    "# Subsetting the trophoblasts\n",
    "\n"
   ]
  },
  {
   "cell_type": "code",
   "execution_count": 17,
   "id": "painted-allocation",
   "metadata": {},
   "outputs": [],
   "source": [
    "#set(adata_MFIRef.obs['cell_type'])"
   ]
  },
  {
   "cell_type": "code",
   "execution_count": 18,
   "id": "indie-synthetic",
   "metadata": {},
   "outputs": [],
   "source": [
    "MFI_sub = adata_MFIRef[adata_MFIRef.obs['cell_type'].isin(['SCT', 'VCT_CCC', 'VCT_fusing', 'VCT_p', 'VCT', \n",
    "                                                           'EVT_1','EVT_2','iEVT','eEVT'])]\n"
   ]
  },
  {
   "cell_type": "code",
   "execution_count": 19,
   "id": "dying-checklist",
   "metadata": {},
   "outputs": [
    {
     "data": {
      "text/plain": [
       "View of AnnData object with n_obs × n_vars = 75023 × 30800\n",
       "    obs: 'n_genes', 'sample', 'technology', 'tissue', 'dev_age', 'donor', 'dataset', 'run', 'number_of_individuals_multiplexed', 'batch', 'percent_mito', 'n_counts', 'scrublet_score', 'scrublet_cluster_score', 'bh_pval', 'is_doublet', 'cell_type'\n",
       "    var: 'gene_ids-0', 'feature_types-0', 'genome-0', 'n_cells-0', 'gene_ids-1', 'feature_types-1', 'genome-1', 'n_cells-1', 'gene_ids-10', 'feature_types-10', 'genome-10', 'n_cells-10', 'gene_ids-11', 'feature_types-11', 'genome-11', 'n_cells-11', 'gene_ids-12', 'feature_types-12', 'genome-12', 'n_cells-12', 'gene_ids-13', 'feature_types-13', 'genome-13', 'n_cells-13', 'gene_ids-14', 'feature_types-14', 'genome-14', 'n_cells-14', 'gene_ids-15', 'feature_types-15', 'genome-15', 'n_cells-15', 'gene_ids-16', 'feature_types-16', 'genome-16', 'n_cells-16', 'gene_ids-17', 'feature_types-17', 'genome-17', 'n_cells-17', 'gene_ids-18', 'feature_types-18', 'genome-18', 'n_cells-18', 'gene_ids-19', 'feature_types-19', 'genome-19', 'n_cells-19', 'gene_ids-2', 'feature_types-2', 'genome-2', 'n_cells-2', 'gene_ids-20', 'feature_types-20', 'genome-20', 'n_cells-20', 'gene_ids-21', 'feature_types-21', 'genome-21', 'n_cells-21', 'gene_ids-22', 'feature_types-22', 'genome-22', 'n_cells-22', 'gene_ids-23', 'feature_types-23', 'genome-23', 'n_cells-23', 'gene_ids-24', 'feature_types-24', 'genome-24', 'n_cells-24', 'gene_ids-25', 'feature_types-25', 'genome-25', 'n_cells-25', 'gene_ids-26', 'feature_types-26', 'genome-26', 'n_cells-26', 'gene_ids-27', 'feature_types-27', 'genome-27', 'n_cells-27', 'gene_ids-28', 'feature_types-28', 'genome-28', 'n_cells-28', 'gene_ids-29', 'feature_types-29', 'genome-29', 'n_cells-29', 'gene_ids-3', 'feature_types-3', 'genome-3', 'n_cells-3', 'gene_ids-30', 'feature_types-30', 'genome-30', 'n_cells-30', 'gene_ids-31', 'feature_types-31', 'genome-31', 'n_cells-31', 'gene_ids-32', 'feature_types-32', 'genome-32', 'n_cells-32', 'gene_ids-33', 'feature_types-33', 'genome-33', 'n_cells-33', 'gene_ids-34', 'feature_types-34', 'genome-34', 'n_cells-34', 'gene_ids-35', 'feature_types-35', 'genome-35', 'n_cells-35', 'gene_ids-36', 'feature_types-36', 'genome-36', 'n_cells-36', 'gene_ids-37', 'feature_types-37', 'genome-37', 'n_cells-37', 'gene_ids-38', 'feature_types-38', 'genome-38', 'n_cells-38', 'gene_ids-39', 'feature_types-39', 'genome-39', 'n_cells-39', 'gene_ids-4', 'feature_types-4', 'genome-4', 'n_cells-4', 'gene_ids-40', 'feature_types-40', 'genome-40', 'n_cells-40', 'gene_ids-41', 'feature_types-41', 'genome-41', 'n_cells-41', 'gene_ids-42', 'feature_types-42', 'genome-42', 'n_cells-42', 'gene_ids-43', 'feature_types-43', 'genome-43', 'n_cells-43', 'gene_ids-44', 'feature_types-44', 'genome-44', 'n_cells-44', 'gene_ids-45', 'feature_types-45', 'genome-45', 'n_cells-45', 'gene_ids-46', 'feature_types-46', 'genome-46', 'n_cells-46', 'gene_ids-47', 'feature_types-47', 'genome-47', 'n_cells-47', 'gene_ids-48', 'feature_types-48', 'genome-48', 'n_cells-48', 'gene_ids-49', 'feature_types-49', 'genome-49', 'n_cells-49', 'gene_ids-5', 'feature_types-5', 'genome-5', 'n_cells-5', 'gene_ids-50', 'feature_types-50', 'genome-50', 'n_cells-50', 'gene_ids-51', 'feature_types-51', 'genome-51', 'n_cells-51', 'gene_ids-52', 'feature_types-52', 'genome-52', 'n_cells-52', 'gene_ids-53', 'feature_types-53', 'genome-53', 'n_cells-53', 'gene_ids-54', 'feature_types-54', 'genome-54', 'n_cells-54', 'gene_ids-55', 'feature_types-55', 'genome-55', 'n_cells-55', 'gene_ids-56', 'feature_types-56', 'genome-56', 'n_cells-56', 'gene_ids-57', 'feature_types-57', 'genome-57', 'n_cells-57', 'gene_ids-58', 'feature_types-58', 'genome-58', 'n_cells-58', 'gene_ids-59', 'feature_types-59', 'genome-59', 'n_cells-59', 'gene_ids-6', 'feature_types-6', 'genome-6', 'n_cells-6', 'gene_ids-60', 'feature_types-60', 'genome-60', 'n_cells-60', 'gene_ids-61', 'feature_types-61', 'genome-61', 'n_cells-61', 'gene_ids-7', 'feature_types-7', 'genome-7', 'n_cells-7', 'gene_ids-8', 'feature_types-8', 'genome-8', 'n_cells-8', 'gene_ids-9', 'feature_types-9', 'genome-9', 'n_cells-9'"
      ]
     },
     "execution_count": 19,
     "metadata": {},
     "output_type": "execute_result"
    }
   ],
   "source": [
    "MFI_sub"
   ]
  },
  {
   "cell_type": "code",
   "execution_count": 20,
   "id": "driving-method",
   "metadata": {},
   "outputs": [],
   "source": [
    "MFI_sub.layers['raw_counts']= MFI_sub.X.copy()"
   ]
  },
  {
   "cell_type": "code",
   "execution_count": null,
   "id": "superior-blues",
   "metadata": {},
   "outputs": [],
   "source": []
  },
  {
   "cell_type": "markdown",
   "id": "fifteen-rental",
   "metadata": {},
   "source": [
    "# LOGISTIC REGRESSION\n",
    "\n",
    "### Subsetting both datasets' copies to common genes only\n",
    "\n",
    "Can be either overlap of all genes that passed QC or HVG overlap"
   ]
  },
  {
   "cell_type": "code",
   "execution_count": 21,
   "id": "potential-graphic",
   "metadata": {},
   "outputs": [
    {
     "data": {
      "text/html": [
       "<div>\n",
       "<style scoped>\n",
       "    .dataframe tbody tr th:only-of-type {\n",
       "        vertical-align: middle;\n",
       "    }\n",
       "\n",
       "    .dataframe tbody tr th {\n",
       "        vertical-align: top;\n",
       "    }\n",
       "\n",
       "    .dataframe thead th {\n",
       "        text-align: right;\n",
       "    }\n",
       "</style>\n",
       "<table border=\"1\" class=\"dataframe\">\n",
       "  <thead>\n",
       "    <tr style=\"text-align: right;\">\n",
       "      <th></th>\n",
       "      <th>gene_ids-0</th>\n",
       "      <th>feature_types-0</th>\n",
       "      <th>genome-0</th>\n",
       "      <th>n_cells-0</th>\n",
       "      <th>gene_ids-1</th>\n",
       "      <th>feature_types-1</th>\n",
       "      <th>genome-1</th>\n",
       "      <th>n_cells-1</th>\n",
       "      <th>gene_ids-10</th>\n",
       "      <th>feature_types-10</th>\n",
       "      <th>...</th>\n",
       "      <th>genome-7</th>\n",
       "      <th>n_cells-7</th>\n",
       "      <th>gene_ids-8</th>\n",
       "      <th>feature_types-8</th>\n",
       "      <th>genome-8</th>\n",
       "      <th>n_cells-8</th>\n",
       "      <th>gene_ids-9</th>\n",
       "      <th>feature_types-9</th>\n",
       "      <th>genome-9</th>\n",
       "      <th>n_cells-9</th>\n",
       "    </tr>\n",
       "  </thead>\n",
       "  <tbody>\n",
       "    <tr>\n",
       "      <th>A1BG</th>\n",
       "      <td>ENSG00000121410</td>\n",
       "      <td>Gene Expression</td>\n",
       "      <td>GRCh38</td>\n",
       "      <td>58.0</td>\n",
       "      <td>ENSG00000121410</td>\n",
       "      <td>Gene Expression</td>\n",
       "      <td>GRCh38</td>\n",
       "      <td>118.0</td>\n",
       "      <td>ENSG00000121410</td>\n",
       "      <td>Gene Expression</td>\n",
       "      <td>...</td>\n",
       "      <td>GRCh38</td>\n",
       "      <td>140.0</td>\n",
       "      <td>ENSG00000121410</td>\n",
       "      <td>Gene Expression</td>\n",
       "      <td>GRCh38</td>\n",
       "      <td>185.0</td>\n",
       "      <td>ENSG00000121410</td>\n",
       "      <td>Gene Expression</td>\n",
       "      <td>GRCh38</td>\n",
       "      <td>608.0</td>\n",
       "    </tr>\n",
       "    <tr>\n",
       "      <th>A1BG-AS1</th>\n",
       "      <td>ENSG00000268895</td>\n",
       "      <td>Gene Expression</td>\n",
       "      <td>GRCh38</td>\n",
       "      <td>7.0</td>\n",
       "      <td>ENSG00000268895</td>\n",
       "      <td>Gene Expression</td>\n",
       "      <td>GRCh38</td>\n",
       "      <td>21.0</td>\n",
       "      <td>ENSG00000268895</td>\n",
       "      <td>Gene Expression</td>\n",
       "      <td>...</td>\n",
       "      <td>GRCh38</td>\n",
       "      <td>14.0</td>\n",
       "      <td>ENSG00000268895</td>\n",
       "      <td>Gene Expression</td>\n",
       "      <td>GRCh38</td>\n",
       "      <td>20.0</td>\n",
       "      <td>ENSG00000268895</td>\n",
       "      <td>Gene Expression</td>\n",
       "      <td>GRCh38</td>\n",
       "      <td>91.0</td>\n",
       "    </tr>\n",
       "    <tr>\n",
       "      <th>A1CF</th>\n",
       "      <td>nan</td>\n",
       "      <td>nan</td>\n",
       "      <td>nan</td>\n",
       "      <td>NaN</td>\n",
       "      <td>nan</td>\n",
       "      <td>nan</td>\n",
       "      <td>nan</td>\n",
       "      <td>NaN</td>\n",
       "      <td>nan</td>\n",
       "      <td>nan</td>\n",
       "      <td>...</td>\n",
       "      <td>nan</td>\n",
       "      <td>NaN</td>\n",
       "      <td>nan</td>\n",
       "      <td>nan</td>\n",
       "      <td>nan</td>\n",
       "      <td>NaN</td>\n",
       "      <td>nan</td>\n",
       "      <td>nan</td>\n",
       "      <td>nan</td>\n",
       "      <td>NaN</td>\n",
       "    </tr>\n",
       "    <tr>\n",
       "      <th>A2M</th>\n",
       "      <td>ENSG00000175899</td>\n",
       "      <td>Gene Expression</td>\n",
       "      <td>GRCh38</td>\n",
       "      <td>66.0</td>\n",
       "      <td>ENSG00000175899</td>\n",
       "      <td>Gene Expression</td>\n",
       "      <td>GRCh38</td>\n",
       "      <td>171.0</td>\n",
       "      <td>ENSG00000175899</td>\n",
       "      <td>Gene Expression</td>\n",
       "      <td>...</td>\n",
       "      <td>nan</td>\n",
       "      <td>NaN</td>\n",
       "      <td>ENSG00000175899</td>\n",
       "      <td>Gene Expression</td>\n",
       "      <td>GRCh38</td>\n",
       "      <td>5.0</td>\n",
       "      <td>ENSG00000175899</td>\n",
       "      <td>Gene Expression</td>\n",
       "      <td>GRCh38</td>\n",
       "      <td>2117.0</td>\n",
       "    </tr>\n",
       "    <tr>\n",
       "      <th>A2M-AS1</th>\n",
       "      <td>ENSG00000245105</td>\n",
       "      <td>Gene Expression</td>\n",
       "      <td>GRCh38</td>\n",
       "      <td>6.0</td>\n",
       "      <td>ENSG00000245105</td>\n",
       "      <td>Gene Expression</td>\n",
       "      <td>GRCh38</td>\n",
       "      <td>5.0</td>\n",
       "      <td>ENSG00000245105</td>\n",
       "      <td>Gene Expression</td>\n",
       "      <td>...</td>\n",
       "      <td>GRCh38</td>\n",
       "      <td>59.0</td>\n",
       "      <td>ENSG00000245105</td>\n",
       "      <td>Gene Expression</td>\n",
       "      <td>GRCh38</td>\n",
       "      <td>61.0</td>\n",
       "      <td>ENSG00000245105</td>\n",
       "      <td>Gene Expression</td>\n",
       "      <td>GRCh38</td>\n",
       "      <td>13.0</td>\n",
       "    </tr>\n",
       "    <tr>\n",
       "      <th>...</th>\n",
       "      <td>...</td>\n",
       "      <td>...</td>\n",
       "      <td>...</td>\n",
       "      <td>...</td>\n",
       "      <td>...</td>\n",
       "      <td>...</td>\n",
       "      <td>...</td>\n",
       "      <td>...</td>\n",
       "      <td>...</td>\n",
       "      <td>...</td>\n",
       "      <td>...</td>\n",
       "      <td>...</td>\n",
       "      <td>...</td>\n",
       "      <td>...</td>\n",
       "      <td>...</td>\n",
       "      <td>...</td>\n",
       "      <td>...</td>\n",
       "      <td>...</td>\n",
       "      <td>...</td>\n",
       "      <td>...</td>\n",
       "      <td>...</td>\n",
       "    </tr>\n",
       "    <tr>\n",
       "      <th>ZXDC</th>\n",
       "      <td>ENSG00000070476</td>\n",
       "      <td>Gene Expression</td>\n",
       "      <td>GRCh38</td>\n",
       "      <td>11.0</td>\n",
       "      <td>ENSG00000070476</td>\n",
       "      <td>Gene Expression</td>\n",
       "      <td>GRCh38</td>\n",
       "      <td>21.0</td>\n",
       "      <td>ENSG00000070476</td>\n",
       "      <td>Gene Expression</td>\n",
       "      <td>...</td>\n",
       "      <td>GRCh38</td>\n",
       "      <td>26.0</td>\n",
       "      <td>ENSG00000070476</td>\n",
       "      <td>Gene Expression</td>\n",
       "      <td>GRCh38</td>\n",
       "      <td>32.0</td>\n",
       "      <td>ENSG00000070476</td>\n",
       "      <td>Gene Expression</td>\n",
       "      <td>GRCh38</td>\n",
       "      <td>122.0</td>\n",
       "    </tr>\n",
       "    <tr>\n",
       "      <th>ZYG11A</th>\n",
       "      <td>nan</td>\n",
       "      <td>nan</td>\n",
       "      <td>nan</td>\n",
       "      <td>NaN</td>\n",
       "      <td>nan</td>\n",
       "      <td>nan</td>\n",
       "      <td>nan</td>\n",
       "      <td>NaN</td>\n",
       "      <td>nan</td>\n",
       "      <td>nan</td>\n",
       "      <td>...</td>\n",
       "      <td>nan</td>\n",
       "      <td>NaN</td>\n",
       "      <td>nan</td>\n",
       "      <td>nan</td>\n",
       "      <td>nan</td>\n",
       "      <td>NaN</td>\n",
       "      <td>nan</td>\n",
       "      <td>nan</td>\n",
       "      <td>nan</td>\n",
       "      <td>NaN</td>\n",
       "    </tr>\n",
       "    <tr>\n",
       "      <th>ZYG11B</th>\n",
       "      <td>ENSG00000162378</td>\n",
       "      <td>Gene Expression</td>\n",
       "      <td>GRCh38</td>\n",
       "      <td>15.0</td>\n",
       "      <td>ENSG00000162378</td>\n",
       "      <td>Gene Expression</td>\n",
       "      <td>GRCh38</td>\n",
       "      <td>41.0</td>\n",
       "      <td>ENSG00000162378</td>\n",
       "      <td>Gene Expression</td>\n",
       "      <td>...</td>\n",
       "      <td>GRCh38</td>\n",
       "      <td>22.0</td>\n",
       "      <td>ENSG00000162378</td>\n",
       "      <td>Gene Expression</td>\n",
       "      <td>GRCh38</td>\n",
       "      <td>47.0</td>\n",
       "      <td>ENSG00000162378</td>\n",
       "      <td>Gene Expression</td>\n",
       "      <td>GRCh38</td>\n",
       "      <td>183.0</td>\n",
       "    </tr>\n",
       "    <tr>\n",
       "      <th>ZYX</th>\n",
       "      <td>ENSG00000159840</td>\n",
       "      <td>Gene Expression</td>\n",
       "      <td>GRCh38</td>\n",
       "      <td>134.0</td>\n",
       "      <td>ENSG00000159840</td>\n",
       "      <td>Gene Expression</td>\n",
       "      <td>GRCh38</td>\n",
       "      <td>284.0</td>\n",
       "      <td>ENSG00000159840</td>\n",
       "      <td>Gene Expression</td>\n",
       "      <td>...</td>\n",
       "      <td>GRCh38</td>\n",
       "      <td>265.0</td>\n",
       "      <td>ENSG00000159840</td>\n",
       "      <td>Gene Expression</td>\n",
       "      <td>GRCh38</td>\n",
       "      <td>319.0</td>\n",
       "      <td>ENSG00000159840</td>\n",
       "      <td>Gene Expression</td>\n",
       "      <td>GRCh38</td>\n",
       "      <td>2351.0</td>\n",
       "    </tr>\n",
       "    <tr>\n",
       "      <th>ZZEF1</th>\n",
       "      <td>ENSG00000074755</td>\n",
       "      <td>Gene Expression</td>\n",
       "      <td>GRCh38</td>\n",
       "      <td>41.0</td>\n",
       "      <td>ENSG00000074755</td>\n",
       "      <td>Gene Expression</td>\n",
       "      <td>GRCh38</td>\n",
       "      <td>88.0</td>\n",
       "      <td>ENSG00000074755</td>\n",
       "      <td>Gene Expression</td>\n",
       "      <td>...</td>\n",
       "      <td>GRCh38</td>\n",
       "      <td>58.0</td>\n",
       "      <td>ENSG00000074755</td>\n",
       "      <td>Gene Expression</td>\n",
       "      <td>GRCh38</td>\n",
       "      <td>46.0</td>\n",
       "      <td>ENSG00000074755</td>\n",
       "      <td>Gene Expression</td>\n",
       "      <td>GRCh38</td>\n",
       "      <td>299.0</td>\n",
       "    </tr>\n",
       "  </tbody>\n",
       "</table>\n",
       "<p>30800 rows × 248 columns</p>\n",
       "</div>"
      ],
      "text/plain": [
       "               gene_ids-0  feature_types-0 genome-0  n_cells-0  \\\n",
       "A1BG      ENSG00000121410  Gene Expression   GRCh38       58.0   \n",
       "A1BG-AS1  ENSG00000268895  Gene Expression   GRCh38        7.0   \n",
       "A1CF                  nan              nan      nan        NaN   \n",
       "A2M       ENSG00000175899  Gene Expression   GRCh38       66.0   \n",
       "A2M-AS1   ENSG00000245105  Gene Expression   GRCh38        6.0   \n",
       "...                   ...              ...      ...        ...   \n",
       "ZXDC      ENSG00000070476  Gene Expression   GRCh38       11.0   \n",
       "ZYG11A                nan              nan      nan        NaN   \n",
       "ZYG11B    ENSG00000162378  Gene Expression   GRCh38       15.0   \n",
       "ZYX       ENSG00000159840  Gene Expression   GRCh38      134.0   \n",
       "ZZEF1     ENSG00000074755  Gene Expression   GRCh38       41.0   \n",
       "\n",
       "               gene_ids-1  feature_types-1 genome-1  n_cells-1  \\\n",
       "A1BG      ENSG00000121410  Gene Expression   GRCh38      118.0   \n",
       "A1BG-AS1  ENSG00000268895  Gene Expression   GRCh38       21.0   \n",
       "A1CF                  nan              nan      nan        NaN   \n",
       "A2M       ENSG00000175899  Gene Expression   GRCh38      171.0   \n",
       "A2M-AS1   ENSG00000245105  Gene Expression   GRCh38        5.0   \n",
       "...                   ...              ...      ...        ...   \n",
       "ZXDC      ENSG00000070476  Gene Expression   GRCh38       21.0   \n",
       "ZYG11A                nan              nan      nan        NaN   \n",
       "ZYG11B    ENSG00000162378  Gene Expression   GRCh38       41.0   \n",
       "ZYX       ENSG00000159840  Gene Expression   GRCh38      284.0   \n",
       "ZZEF1     ENSG00000074755  Gene Expression   GRCh38       88.0   \n",
       "\n",
       "              gene_ids-10 feature_types-10  ... genome-7  n_cells-7  \\\n",
       "A1BG      ENSG00000121410  Gene Expression  ...   GRCh38      140.0   \n",
       "A1BG-AS1  ENSG00000268895  Gene Expression  ...   GRCh38       14.0   \n",
       "A1CF                  nan              nan  ...      nan        NaN   \n",
       "A2M       ENSG00000175899  Gene Expression  ...      nan        NaN   \n",
       "A2M-AS1   ENSG00000245105  Gene Expression  ...   GRCh38       59.0   \n",
       "...                   ...              ...  ...      ...        ...   \n",
       "ZXDC      ENSG00000070476  Gene Expression  ...   GRCh38       26.0   \n",
       "ZYG11A                nan              nan  ...      nan        NaN   \n",
       "ZYG11B    ENSG00000162378  Gene Expression  ...   GRCh38       22.0   \n",
       "ZYX       ENSG00000159840  Gene Expression  ...   GRCh38      265.0   \n",
       "ZZEF1     ENSG00000074755  Gene Expression  ...   GRCh38       58.0   \n",
       "\n",
       "               gene_ids-8  feature_types-8 genome-8  n_cells-8  \\\n",
       "A1BG      ENSG00000121410  Gene Expression   GRCh38      185.0   \n",
       "A1BG-AS1  ENSG00000268895  Gene Expression   GRCh38       20.0   \n",
       "A1CF                  nan              nan      nan        NaN   \n",
       "A2M       ENSG00000175899  Gene Expression   GRCh38        5.0   \n",
       "A2M-AS1   ENSG00000245105  Gene Expression   GRCh38       61.0   \n",
       "...                   ...              ...      ...        ...   \n",
       "ZXDC      ENSG00000070476  Gene Expression   GRCh38       32.0   \n",
       "ZYG11A                nan              nan      nan        NaN   \n",
       "ZYG11B    ENSG00000162378  Gene Expression   GRCh38       47.0   \n",
       "ZYX       ENSG00000159840  Gene Expression   GRCh38      319.0   \n",
       "ZZEF1     ENSG00000074755  Gene Expression   GRCh38       46.0   \n",
       "\n",
       "               gene_ids-9  feature_types-9 genome-9  n_cells-9  \n",
       "A1BG      ENSG00000121410  Gene Expression   GRCh38      608.0  \n",
       "A1BG-AS1  ENSG00000268895  Gene Expression   GRCh38       91.0  \n",
       "A1CF                  nan              nan      nan        NaN  \n",
       "A2M       ENSG00000175899  Gene Expression   GRCh38     2117.0  \n",
       "A2M-AS1   ENSG00000245105  Gene Expression   GRCh38       13.0  \n",
       "...                   ...              ...      ...        ...  \n",
       "ZXDC      ENSG00000070476  Gene Expression   GRCh38      122.0  \n",
       "ZYG11A                nan              nan      nan        NaN  \n",
       "ZYG11B    ENSG00000162378  Gene Expression   GRCh38      183.0  \n",
       "ZYX       ENSG00000159840  Gene Expression   GRCh38     2351.0  \n",
       "ZZEF1     ENSG00000074755  Gene Expression   GRCh38      299.0  \n",
       "\n",
       "[30800 rows x 248 columns]"
      ]
     },
     "execution_count": 21,
     "metadata": {},
     "output_type": "execute_result"
    }
   ],
   "source": [
    "MFI_sub.var"
   ]
  },
  {
   "cell_type": "code",
   "execution_count": null,
   "id": "worthy-better",
   "metadata": {},
   "outputs": [],
   "source": []
  },
  {
   "cell_type": "code",
   "execution_count": 22,
   "id": "demanding-execution",
   "metadata": {},
   "outputs": [],
   "source": [
    "##-- needed only when using flavor='seurat'\n",
    "#sc.pp.normalize_per_cell(MFI_sub, counts_per_cell_after=1e4)\n",
    "#sc.pp.log1p(MFI_sub)"
   ]
  },
  {
   "cell_type": "code",
   "execution_count": 23,
   "id": "prompt-forest",
   "metadata": {},
   "outputs": [
    {
     "name": "stderr",
     "output_type": "stream",
     "text": [
      "If you pass `n_top_genes`, all cutoffs are ignored.\n",
      "extracting highly variable genes\n",
      "/opt/conda/envs/scvi-singularity/lib/python3.8/site-packages/scanpy/preprocessing/_highly_variable_genes.py:144: FutureWarning: Slicing a positional slice with .loc is not supported, and will raise TypeError in a future version.  Use .loc with labels or .iloc with positions instead.\n",
      "  df.loc[: int(n_top_genes), 'highly_variable'] = True\n",
      "--> added\n",
      "    'highly_variable', boolean vector (adata.var)\n",
      "    'highly_variable_rank', float vector (adata.var)\n",
      "    'means', float vector (adata.var)\n",
      "    'variances', float vector (adata.var)\n",
      "    'variances_norm', float vector (adata.var)\n"
     ]
    },
    {
     "data": {
      "image/png": "[encoded data removed]",
      "text/plain": [
       "<Figure size 640x320 with 2 Axes>"
      ]
     },
     "metadata": {
      "image/png": {
       "height": 321,
       "width": 562
      },
      "needs_background": "light"
     },
     "output_type": "display_data"
    }
   ],
   "source": [
    "sc.pp.highly_variable_genes(MFI_sub, n_top_genes=3000, flavor='seurat_v3')\n",
    "sc.pl.highly_variable_genes(MFI_sub)\n"
   ]
  },
  {
   "cell_type": "code",
   "execution_count": 24,
   "id": "found-stewart",
   "metadata": {},
   "outputs": [
    {
     "name": "stdout",
     "output_type": "stream",
     "text": [
      "Total number of cells: 75023\n",
      "Total number of genes: 3000\n"
     ]
    }
   ],
   "source": [
    "#saving the highl variable genes\n",
    "highly_variable_genes = MFI_sub.var[\"highly_variable\"]\n",
    "MFI_downsampled = MFI_sub[:, highly_variable_genes]\n",
    "\n",
    "print('Total number of cells: {:d}'.format(MFI_downsampled.n_obs))\n",
    "print('Total number of genes: {:d}'.format(MFI_downsampled.n_vars))"
   ]
  },
  {
   "cell_type": "code",
   "execution_count": 25,
   "id": "falling-conditions",
   "metadata": {},
   "outputs": [],
   "source": [
    "MFI_downsampled.X = MFI_downsampled.layers[\"raw_counts\"].copy()"
   ]
  },
  {
   "cell_type": "raw",
   "id": "sustained-proposition",
   "metadata": {},
   "source": []
  },
  {
   "cell_type": "code",
   "execution_count": null,
   "id": "preceding-improvement",
   "metadata": {},
   "outputs": [],
   "source": []
  },
  {
   "cell_type": "code",
   "execution_count": 26,
   "id": "global-integrity",
   "metadata": {},
   "outputs": [
    {
     "name": "stdout",
     "output_type": "stream",
     "text": [
      "Total number of cells: 28040\n",
      "Total number of genes: 3000\n"
     ]
    }
   ],
   "source": [
    "\n",
    "print('Total number of cells: {:d}'.format(Trophoblasts.n_obs))\n",
    "print('Total number of genes: {:d}'.format(Trophoblasts.n_vars))"
   ]
  },
  {
   "cell_type": "code",
   "execution_count": 27,
   "id": "published-bedroom",
   "metadata": {},
   "outputs": [
    {
     "name": "stderr",
     "output_type": "stream",
     "text": [
      "normalizing counts per cell\n",
      "    finished (0:00:00)\n",
      "... as `zero_center=True`, sparse input is densified and may lead to large memory consumption\n",
      "normalizing counts per cell\n",
      "    finished (0:00:00)\n",
      "... as `zero_center=True`, sparse input is densified and may lead to large memory consumption\n"
     ]
    }
   ],
   "source": [
    "# here using only HVG overlap\n",
    "\n",
    "# normlog, scaled and HVG subsetted \n",
    "adata_train = MFI_downsampled.copy()\n",
    "sc.pp.normalize_total(adata_train, target_sum=1e4)\n",
    "sc.pp.scale(adata_train, max_value=10)\n",
    "\n",
    "# normlog, scaled and HVG subsetted \n",
    "adata_test = Trophoblasts.copy()\n",
    "sc.pp.normalize_total(adata_test, target_sum=1e4)\n",
    "sc.pp.scale(adata_test, max_value=10)"
   ]
  },
  {
   "cell_type": "code",
   "execution_count": 28,
   "id": "ideal-israel",
   "metadata": {},
   "outputs": [
    {
     "name": "stdout",
     "output_type": "stream",
     "text": [
      "1159 genes are shared between annotated train and our joint data \n",
      " 3000 genes in training data \n",
      " 3000 genes in test joint data \n",
      "\n"
     ]
    }
   ],
   "source": [
    "# list of genes shared between blood and bone marrow data\n",
    "# doing sorted on the overall list is VERY important for consistent ordering of the genes\n",
    "common_genes = sorted(list(set(adata_train.var_names) & set(adata_test.var_names)))\n",
    "print(len(common_genes),\"genes are shared between annotated train and our joint data \\n\",\n",
    "      len(set(adata_train.var_names)), 'genes in training data \\n',\n",
    "      len((set(adata_test.var_names))), 'genes in test joint data \\n')"
   ]
  },
  {
   "cell_type": "code",
   "execution_count": 29,
   "id": "national-antarctica",
   "metadata": {},
   "outputs": [
    {
     "data": {
      "text/plain": [
       "Index(['A2M', 'AADACL2-AS1', 'AADACL3', 'ABCA1', 'ABCA12', 'ABCB1', 'ABCC11',\n",
       "       'ABCC9', 'ABHD17C', 'ABHD5',\n",
       "       ...\n",
       "       'ZFAND2A', 'ZFP36', 'ZNF114', 'ZNF365', 'ZNF516', 'ZNF521', 'ZNF703',\n",
       "       'ZNF704', 'ZNF804A', 'ZPLD1'],\n",
       "      dtype='object', length=1159)"
      ]
     },
     "execution_count": 29,
     "metadata": {},
     "output_type": "execute_result"
    }
   ],
   "source": [
    "#Subseting the datasets\n",
    "adata_train_copy = adata_train[:,common_genes]\n",
    "adata_train_copy.var_names"
   ]
  },
  {
   "cell_type": "code",
   "execution_count": 30,
   "id": "legendary-stuart",
   "metadata": {},
   "outputs": [
    {
     "data": {
      "text/plain": [
       "Index(['A2M', 'AADACL2-AS1', 'AADACL3', 'ABCA1', 'ABCA12', 'ABCB1', 'ABCC11',\n",
       "       'ABCC9', 'ABHD17C', 'ABHD5',\n",
       "       ...\n",
       "       'ZFAND2A', 'ZFP36', 'ZNF114', 'ZNF365', 'ZNF516', 'ZNF521', 'ZNF703',\n",
       "       'ZNF704', 'ZNF804A', 'ZPLD1'],\n",
       "      dtype='object', length=1159)"
      ]
     },
     "execution_count": 30,
     "metadata": {},
     "output_type": "execute_result"
    }
   ],
   "source": [
    "#Subseting the datasets\n",
    "adata_test_copy = adata_test[:,common_genes]\n",
    "adata_test_copy.var_names"
   ]
  },
  {
   "cell_type": "code",
   "execution_count": 31,
   "id": "single-institution",
   "metadata": {},
   "outputs": [
    {
     "data": {
      "text/plain": [
       "True"
      ]
     },
     "execution_count": 31,
     "metadata": {},
     "output_type": "execute_result"
    }
   ],
   "source": [
    "# checking gene correspondence - important!\n",
    "list(adata_test_copy.var_names) == list(adata_train_copy.var_names)"
   ]
  },
  {
   "cell_type": "code",
   "execution_count": 32,
   "id": "involved-taxation",
   "metadata": {},
   "outputs": [
    {
     "data": {
      "text/html": [
       "<div>\n",
       "<style scoped>\n",
       "    .dataframe tbody tr th:only-of-type {\n",
       "        vertical-align: middle;\n",
       "    }\n",
       "\n",
       "    .dataframe tbody tr th {\n",
       "        vertical-align: top;\n",
       "    }\n",
       "\n",
       "    .dataframe thead th {\n",
       "        text-align: right;\n",
       "    }\n",
       "</style>\n",
       "<table border=\"1\" class=\"dataframe\">\n",
       "  <thead>\n",
       "    <tr style=\"text-align: right;\">\n",
       "      <th></th>\n",
       "      <th>n_genes</th>\n",
       "      <th>sample</th>\n",
       "      <th>technology</th>\n",
       "      <th>tissue</th>\n",
       "      <th>dev_age</th>\n",
       "      <th>donor</th>\n",
       "      <th>dataset</th>\n",
       "      <th>run</th>\n",
       "      <th>number_of_individuals_multiplexed</th>\n",
       "      <th>batch</th>\n",
       "      <th>percent_mito</th>\n",
       "      <th>n_counts</th>\n",
       "      <th>scrublet_score</th>\n",
       "      <th>scrublet_cluster_score</th>\n",
       "      <th>bh_pval</th>\n",
       "      <th>is_doublet</th>\n",
       "      <th>cell_type</th>\n",
       "    </tr>\n",
       "    <tr>\n",
       "      <th>barcode_sample</th>\n",
       "      <th></th>\n",
       "      <th></th>\n",
       "      <th></th>\n",
       "      <th></th>\n",
       "      <th></th>\n",
       "      <th></th>\n",
       "      <th></th>\n",
       "      <th></th>\n",
       "      <th></th>\n",
       "      <th></th>\n",
       "      <th></th>\n",
       "      <th></th>\n",
       "      <th></th>\n",
       "      <th></th>\n",
       "      <th></th>\n",
       "      <th></th>\n",
       "      <th></th>\n",
       "    </tr>\n",
       "  </thead>\n",
       "  <tbody>\n",
       "    <tr>\n",
       "      <th>AGGGTGAGTAAAGGAG-1_FCA7167219</th>\n",
       "      <td>5291</td>\n",
       "      <td>FCA7167219</td>\n",
       "      <td>10X_3'_scRNA-seq</td>\n",
       "      <td>decidua_immune</td>\n",
       "      <td>13_PCW</td>\n",
       "      <td>6</td>\n",
       "      <td>Vento_Nature</td>\n",
       "      <td>NaN</td>\n",
       "      <td>1</td>\n",
       "      <td>0</td>\n",
       "      <td>0.019406</td>\n",
       "      <td>35504.0</td>\n",
       "      <td>0.186441</td>\n",
       "      <td>0.118367</td>\n",
       "      <td>0.857143</td>\n",
       "      <td>False</td>\n",
       "      <td>VCT</td>\n",
       "    </tr>\n",
       "    <tr>\n",
       "      <th>CTGATAGAGCCCAGCT-1_FCA7167219</th>\n",
       "      <td>4070</td>\n",
       "      <td>FCA7167219</td>\n",
       "      <td>10X_3'_scRNA-seq</td>\n",
       "      <td>decidua_immune</td>\n",
       "      <td>13_PCW</td>\n",
       "      <td>6</td>\n",
       "      <td>Vento_Nature</td>\n",
       "      <td>NaN</td>\n",
       "      <td>1</td>\n",
       "      <td>0</td>\n",
       "      <td>0.027002</td>\n",
       "      <td>14851.0</td>\n",
       "      <td>0.186441</td>\n",
       "      <td>0.118367</td>\n",
       "      <td>0.857143</td>\n",
       "      <td>False</td>\n",
       "      <td>EVT_2</td>\n",
       "    </tr>\n",
       "    <tr>\n",
       "      <th>GCGCGATAGATATGGT-1_FCA7167219</th>\n",
       "      <td>506</td>\n",
       "      <td>FCA7167219</td>\n",
       "      <td>10X_3'_scRNA-seq</td>\n",
       "      <td>decidua_immune</td>\n",
       "      <td>13_PCW</td>\n",
       "      <td>6</td>\n",
       "      <td>Vento_Nature</td>\n",
       "      <td>NaN</td>\n",
       "      <td>1</td>\n",
       "      <td>0</td>\n",
       "      <td>0.005571</td>\n",
       "      <td>1077.0</td>\n",
       "      <td>0.212500</td>\n",
       "      <td>0.118367</td>\n",
       "      <td>0.857143</td>\n",
       "      <td>False</td>\n",
       "      <td>SCT</td>\n",
       "    </tr>\n",
       "    <tr>\n",
       "      <th>ATTACTCTCTGCGGCA-1_FCA7167221</th>\n",
       "      <td>655</td>\n",
       "      <td>FCA7167221</td>\n",
       "      <td>10X_3'_scRNA-seq</td>\n",
       "      <td>decidua_immune</td>\n",
       "      <td>11_PCW</td>\n",
       "      <td>7</td>\n",
       "      <td>Vento_Nature</td>\n",
       "      <td>NaN</td>\n",
       "      <td>1</td>\n",
       "      <td>1</td>\n",
       "      <td>0.003621</td>\n",
       "      <td>1657.0</td>\n",
       "      <td>0.175000</td>\n",
       "      <td>0.167267</td>\n",
       "      <td>0.242677</td>\n",
       "      <td>False</td>\n",
       "      <td>iEVT</td>\n",
       "    </tr>\n",
       "    <tr>\n",
       "      <th>CTGATAGAGCCCAGCT-1_FCA7167221</th>\n",
       "      <td>412</td>\n",
       "      <td>FCA7167221</td>\n",
       "      <td>10X_3'_scRNA-seq</td>\n",
       "      <td>decidua_immune</td>\n",
       "      <td>11_PCW</td>\n",
       "      <td>7</td>\n",
       "      <td>Vento_Nature</td>\n",
       "      <td>NaN</td>\n",
       "      <td>1</td>\n",
       "      <td>1</td>\n",
       "      <td>0.044892</td>\n",
       "      <td>646.0</td>\n",
       "      <td>0.090426</td>\n",
       "      <td>0.167267</td>\n",
       "      <td>0.242677</td>\n",
       "      <td>False</td>\n",
       "      <td>EVT_2</td>\n",
       "    </tr>\n",
       "  </tbody>\n",
       "</table>\n",
       "</div>"
      ],
      "text/plain": [
       "                               n_genes      sample        technology  \\\n",
       "barcode_sample                                                         \n",
       "AGGGTGAGTAAAGGAG-1_FCA7167219     5291  FCA7167219  10X_3'_scRNA-seq   \n",
       "CTGATAGAGCCCAGCT-1_FCA7167219     4070  FCA7167219  10X_3'_scRNA-seq   \n",
       "GCGCGATAGATATGGT-1_FCA7167219      506  FCA7167219  10X_3'_scRNA-seq   \n",
       "ATTACTCTCTGCGGCA-1_FCA7167221      655  FCA7167221  10X_3'_scRNA-seq   \n",
       "CTGATAGAGCCCAGCT-1_FCA7167221      412  FCA7167221  10X_3'_scRNA-seq   \n",
       "\n",
       "                                       tissue dev_age donor       dataset  \\\n",
       "barcode_sample                                                              \n",
       "AGGGTGAGTAAAGGAG-1_FCA7167219  decidua_immune  13_PCW     6  Vento_Nature   \n",
       "CTGATAGAGCCCAGCT-1_FCA7167219  decidua_immune  13_PCW     6  Vento_Nature   \n",
       "GCGCGATAGATATGGT-1_FCA7167219  decidua_immune  13_PCW     6  Vento_Nature   \n",
       "ATTACTCTCTGCGGCA-1_FCA7167221  decidua_immune  11_PCW     7  Vento_Nature   \n",
       "CTGATAGAGCCCAGCT-1_FCA7167221  decidua_immune  11_PCW     7  Vento_Nature   \n",
       "\n",
       "                               run  number_of_individuals_multiplexed batch  \\\n",
       "barcode_sample                                                                \n",
       "AGGGTGAGTAAAGGAG-1_FCA7167219  NaN                                  1     0   \n",
       "CTGATAGAGCCCAGCT-1_FCA7167219  NaN                                  1     0   \n",
       "GCGCGATAGATATGGT-1_FCA7167219  NaN                                  1     0   \n",
       "ATTACTCTCTGCGGCA-1_FCA7167221  NaN                                  1     1   \n",
       "CTGATAGAGCCCAGCT-1_FCA7167221  NaN                                  1     1   \n",
       "\n",
       "                               percent_mito  n_counts  scrublet_score  \\\n",
       "barcode_sample                                                          \n",
       "AGGGTGAGTAAAGGAG-1_FCA7167219      0.019406   35504.0        0.186441   \n",
       "CTGATAGAGCCCAGCT-1_FCA7167219      0.027002   14851.0        0.186441   \n",
       "GCGCGATAGATATGGT-1_FCA7167219      0.005571    1077.0        0.212500   \n",
       "ATTACTCTCTGCGGCA-1_FCA7167221      0.003621    1657.0        0.175000   \n",
       "CTGATAGAGCCCAGCT-1_FCA7167221      0.044892     646.0        0.090426   \n",
       "\n",
       "                               scrublet_cluster_score   bh_pval  is_doublet  \\\n",
       "barcode_sample                                                                \n",
       "AGGGTGAGTAAAGGAG-1_FCA7167219                0.118367  0.857143       False   \n",
       "CTGATAGAGCCCAGCT-1_FCA7167219                0.118367  0.857143       False   \n",
       "GCGCGATAGATATGGT-1_FCA7167219                0.118367  0.857143       False   \n",
       "ATTACTCTCTGCGGCA-1_FCA7167221                0.167267  0.242677       False   \n",
       "CTGATAGAGCCCAGCT-1_FCA7167221                0.167267  0.242677       False   \n",
       "\n",
       "                              cell_type  \n",
       "barcode_sample                           \n",
       "AGGGTGAGTAAAGGAG-1_FCA7167219       VCT  \n",
       "CTGATAGAGCCCAGCT-1_FCA7167219     EVT_2  \n",
       "GCGCGATAGATATGGT-1_FCA7167219       SCT  \n",
       "ATTACTCTCTGCGGCA-1_FCA7167221      iEVT  \n",
       "CTGATAGAGCCCAGCT-1_FCA7167221     EVT_2  "
      ]
     },
     "execution_count": 32,
     "metadata": {},
     "output_type": "execute_result"
    }
   ],
   "source": [
    "adata_train_copy.obs.head()"
   ]
  },
  {
   "cell_type": "code",
   "execution_count": 33,
   "id": "loved-equilibrium",
   "metadata": {},
   "outputs": [
    {
     "data": {
      "text/plain": [
       "(array(['EVT_1', 'EVT_2', 'SCT', 'VCT', 'VCT_CCC', 'VCT_fusing', 'VCT_p',\n",
       "        'eEVT', 'iEVT'], dtype=object),\n",
       " array([ 5289,  2358, 28177, 23472,  3373,  1971,  6679,    28,  3676]))"
      ]
     },
     "execution_count": 33,
     "metadata": {},
     "output_type": "execute_result"
    }
   ],
   "source": [
    "np.unique(adata_train_copy.obs['cell_type'],return_counts=True)"
   ]
  },
  {
   "cell_type": "code",
   "execution_count": null,
   "id": "naked-extra",
   "metadata": {},
   "outputs": [],
   "source": []
  },
  {
   "cell_type": "code",
   "execution_count": null,
   "id": "sustainable-honey",
   "metadata": {},
   "outputs": [],
   "source": []
  },
  {
   "cell_type": "code",
   "execution_count": null,
   "id": "bronze-stylus",
   "metadata": {},
   "outputs": [],
   "source": []
  },
  {
   "cell_type": "markdown",
   "id": "active-withdrawal",
   "metadata": {},
   "source": [
    "# Training a logistic regression model on previously annotated 10X data Arutyunyan, et al. 2023"
   ]
  },
  {
   "cell_type": "code",
   "execution_count": 34,
   "id": "foster-economy",
   "metadata": {},
   "outputs": [
    {
     "data": {
      "text/plain": [
       "barcode_sample\n",
       "AGGGTGAGTAAAGGAG-1_FCA7167219      VCT\n",
       "CTGATAGAGCCCAGCT-1_FCA7167219    EVT_2\n",
       "GCGCGATAGATATGGT-1_FCA7167219      SCT\n",
       "ATTACTCTCTGCGGCA-1_FCA7167221     iEVT\n",
       "CTGATAGAGCCCAGCT-1_FCA7167221    EVT_2\n",
       "Name: cell_type, dtype: category\n",
       "Categories (9, object): ['EVT_1', 'EVT_2', 'SCT', 'VCT', ..., 'VCT_fusing', 'VCT_p', 'eEVT', 'iEVT']"
      ]
     },
     "execution_count": 34,
     "metadata": {},
     "output_type": "execute_result"
    }
   ],
   "source": [
    "adata_train_copy.obs['cell_type'].head()"
   ]
  },
  {
   "cell_type": "code",
   "execution_count": 35,
   "id": "happy-sculpture",
   "metadata": {},
   "outputs": [],
   "source": [
    "celltypes_train = adata_train_copy.obs['cell_type']"
   ]
  },
  {
   "cell_type": "code",
   "execution_count": 36,
   "id": "biblical-triumph",
   "metadata": {},
   "outputs": [
    {
     "data": {
      "text/plain": [
       "(75023, 1159)"
      ]
     },
     "execution_count": 36,
     "metadata": {},
     "output_type": "execute_result"
    }
   ],
   "source": [
    "adata_train_copy.X.shape"
   ]
  },
  {
   "cell_type": "markdown",
   "id": "opposed-participant",
   "metadata": {},
   "source": [
    "### The following cell actually trains the model and may require quite a bit of time if you are using a big training dataset"
   ]
  },
  {
   "cell_type": "code",
   "execution_count": 37,
   "id": "dried-separate",
   "metadata": {},
   "outputs": [
    {
     "name": "stdout",
     "output_type": "stream",
     "text": [
      "CPU times: user 4 µs, sys: 0 ns, total: 4 µs\n",
      "Wall time: 6.68 µs\n"
     ]
    },
    {
     "data": {
      "text/plain": [
       "LogisticRegression(C=0.2, max_iter=5000, n_jobs=-1, random_state=0)"
      ]
     },
     "execution_count": 37,
     "metadata": {},
     "output_type": "execute_result"
    }
   ],
   "source": [
    "#12:15\n",
    "%time\n",
    "# training a logistic regression model on scRNA-seq data\n",
    "# takes about 15min for HVGs intersection of trophoblasts (~12k cells)\n",
    "logisticRegr_sc = LogisticRegression(max_iter = 5000, n_jobs = -1, random_state = 0, C=0.2)\n",
    "logisticRegr_sc.fit(adata_train_copy.X, celltypes_train)"
   ]
  },
  {
   "cell_type": "code",
   "execution_count": 38,
   "id": "ready-hacker",
   "metadata": {},
   "outputs": [],
   "source": [
    "# Saving model\n",
    "\n",
    "#pkl_filename = \"./logreg_from_P13_downsampled_no_soupy_genes_coarse_troph_to_all_troph_organoids_premrna_HVGs.pkl\"\n",
    "pkl_filename = \"../results/log_regression/logreg_trophoblastOnly_to_explant_HVGs_20230825.pkl\"\n",
    "\n",
    "\n",
    "\n",
    "with open(pkl_filename, 'wb') as file:  \n",
    "    pickle.dump(logisticRegr_sc, file)"
   ]
  },
  {
   "cell_type": "code",
   "execution_count": 39,
   "id": "lovely-bridal",
   "metadata": {},
   "outputs": [],
   "source": [
    "# Load model (scRNA-seq) from file\n",
    "\n",
    "# which one?\n",
    "#pkl_filename = \"../results/log_regression/logreg_trophoblastOnly_to_explant_premrna_HVGs_20220523.pkl\"\n",
    "\n",
    "#with open(pkl_filename, 'rb') as file:  \n",
    "#    logisticRegr_sc = pickle.load(file)"
   ]
  },
  {
   "cell_type": "code",
   "execution_count": 40,
   "id": "processed-irrigation",
   "metadata": {},
   "outputs": [
    {
     "data": {
      "text/plain": [
       "LogisticRegression(C=0.2, max_iter=5000, n_jobs=-1, random_state=0)"
      ]
     },
     "execution_count": 40,
     "metadata": {},
     "output_type": "execute_result"
    }
   ],
   "source": [
    "logisticRegr_sc"
   ]
  },
  {
   "cell_type": "code",
   "execution_count": 41,
   "id": "complimentary-windows",
   "metadata": {},
   "outputs": [
    {
     "name": "stderr",
     "output_type": "stream",
     "text": [
      "Trying to set attribute `.obs` of view, copying.\n"
     ]
    },
    {
     "name": "stdout",
     "output_type": "stream",
     "text": [
      "CPU times: user 1.04 s, sys: 219 ms, total: 1.26 s\n",
      "Wall time: 1.27 s\n"
     ]
    }
   ],
   "source": [
    "%%time\n",
    "predictions = logisticRegr_sc.predict(adata_test_copy.X)\n",
    "adata_test_copy.obs['celltype_predictions'] = predictions"
   ]
  },
  {
   "cell_type": "code",
   "execution_count": 42,
   "id": "forward-welding",
   "metadata": {},
   "outputs": [
    {
     "name": "stdout",
     "output_type": "stream",
     "text": [
      "CPU times: user 380 ms, sys: 67.7 ms, total: 448 ms\n",
      "Wall time: 454 ms\n"
     ]
    }
   ],
   "source": [
    "%%time\n",
    "# probabilities\n",
    "probabilities = logisticRegr_sc.predict_proba(adata_test_copy.X)\n",
    "probs_adata = []\n",
    "for i,clus in enumerate(adata_test_copy.obs['celltype_predictions']):\n",
    "    probs_adata.append(probabilities[i,logisticRegr_sc.classes_==clus][0])\n",
    "\n"
   ]
  },
  {
   "cell_type": "code",
   "execution_count": 44,
   "id": "comprehensive-admission",
   "metadata": {},
   "outputs": [
    {
     "data": {
      "text/plain": [
       "Pla_HDBR11923126_AAACCCAGTGGACAGT    VCT_p\n",
       "Pla_HDBR11923126_AAACCCATCGTCTACC      SCT\n",
       "Pla_HDBR11923126_AAACGAAGTGGACTGA      SCT\n",
       "Pla_HDBR11923126_AAACGAATCGCAACAT      VCT\n",
       "Pla_HDBR11923126_AAACGCTAGAGTCAAT      SCT\n",
       "                                     ...  \n",
       "Pla_HDBR13661578_TTTCATGAGTCTAGAA      VCT\n",
       "Pla_HDBR13661578_TTTCATGCATTAGGCT      SCT\n",
       "Pla_HDBR13661578_TTTCATGGTATGCTTG      SCT\n",
       "Pla_HDBR13661578_TTTGGAGAGAGCATAT      VCT\n",
       "Pla_HDBR13661578_TTTGTTGGTTAAGTCC      VCT\n",
       "Name: celltype_predictions, Length: 28040, dtype: object"
      ]
     },
     "execution_count": 44,
     "metadata": {},
     "output_type": "execute_result"
    }
   ],
   "source": [
    "adata_test_copy.obs['celltype_predictions']"
   ]
  },
  {
   "cell_type": "code",
   "execution_count": 45,
   "id": "italian-calendar",
   "metadata": {},
   "outputs": [
    {
     "name": "stderr",
     "output_type": "stream",
     "text": [
      "Trying to set attribute `.obs` of view, copying.\n"
     ]
    }
   ],
   "source": [
    "# now you can return to your object transferring celltype predictions and their probabilities from training\n",
    "\n",
    "# my test object\n",
    "Trophoblasts.obs['celltype_predictions'] = adata_test_copy.obs.loc[Trophoblasts.obs_names,'celltype_predictions']\n",
    "Trophoblasts.obs['probabilities'] = probs_adata"
   ]
  },
  {
   "cell_type": "code",
   "execution_count": 46,
   "id": "flying-military",
   "metadata": {},
   "outputs": [],
   "source": [
    "# you may want to save results at this point\n",
    "Trophoblasts.obs.loc[:,['celltype_predictions','probabilities']].to_csv('../results/log_regression/logreg_trophoblastOnly_to_explant_HVGs_predictions_20230825.csv')\n",
    "\n"
   ]
  },
  {
   "cell_type": "code",
   "execution_count": null,
   "id": "announced-wichita",
   "metadata": {},
   "outputs": [],
   "source": []
  },
  {
   "cell_type": "code",
   "execution_count": null,
   "id": "congressional-spirit",
   "metadata": {},
   "outputs": [],
   "source": []
  },
  {
   "cell_type": "code",
   "execution_count": null,
   "id": "published-keeping",
   "metadata": {},
   "outputs": [],
   "source": []
  }
 ],
 "metadata": {
  "kernelspec": {
   "display_name": "Python 3",
   "language": "python",
   "name": "python3"
  },
  "language_info": {
   "codemirror_mode": {
    "name": "ipython",
    "version": 3
   },
   "file_extension": ".py",
   "mimetype": "text/x-python",
   "name": "python",
   "nbconvert_exporter": "python",
   "pygments_lexer": "ipython3",
   "version": "3.8.8"
  }
 },
 "nbformat": 4,
 "nbformat_minor": 5
}
