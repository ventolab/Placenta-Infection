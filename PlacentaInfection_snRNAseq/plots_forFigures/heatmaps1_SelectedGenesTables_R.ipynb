{
 "cells": [
  {
   "cell_type": "markdown",
   "id": "parliamentary-diving",
   "metadata": {},
   "source": [
    "**Author:** Elias Rafael Ruiz-Morales\n",
    "\n",
    "**Institution:** Wellcome Sanger institute\n",
    "\n",
    "**September, 2023**"
   ]
  },
  {
   "cell_type": "markdown",
   "id": "perfect-possible",
   "metadata": {},
   "source": [
    "---"
   ]
  },
  {
   "cell_type": "markdown",
   "id": "solid-automation",
   "metadata": {},
   "source": [
    "# Creation of tables to generate differential gene expression heatmaps - Trophoblasts"
   ]
  },
  {
   "cell_type": "code",
   "execution_count": null,
   "id": "dominant-mining",
   "metadata": {},
   "outputs": [],
   "source": []
  },
  {
   "cell_type": "code",
   "execution_count": 3,
   "id": "unavailable-painting",
   "metadata": {},
   "outputs": [],
   "source": [
    "recoverPvalLog2FC <- function(files, columns, genes, outdir, suffix){\n",
    "    # Function to get the Pvalues and log2FC values from the Differential expression results.\n",
    "    # Useful to make plots for downstream analysis.\n",
    "    \n",
    "    # files= files from the differential expression results\n",
    "    # columns= column names, each column name MUST MATCH to a file in the same position\n",
    "    # genes= query genes to recover their values\n",
    "    # outdir= output directory\n",
    "    # suffix= suffix to add to the file names.\n",
    "    #-------------------------------------------\n",
    "    \n",
    "    \n",
    "    ## Building the OUTPUT dataframes\n",
    "    ##\n",
    "\n",
    "    #dimensions= columns * genes\n",
    "    pval= matrix(data = rep(x = NA,(length(columns)*length(genes))),ncol = length(columns) )\n",
    "    rownames(pval)=genes\n",
    "    colnames(pval)=columns\n",
    "\n",
    "    #Same structure for the log2FC datafram\n",
    "    log2FC= pval\n",
    "    \n",
    "    ## Filling up the empty data frames\n",
    "    ##\n",
    "    for(i in 1:length(columns)){\n",
    "\n",
    "        #column and file names that MUST be in the same position in both vectors\n",
    "\n",
    "        file= files[i] #DE file to read\n",
    "        column=columns[i] #column to fill\n",
    "\n",
    "        #reading DE dataframe\n",
    "        df= read.csv(file, sep = '\\t')\n",
    "        rownames(df)=df[,1] #rownames (genes) and deleting extra column with the rownames\n",
    "        df[,1]=NULL\n",
    "\n",
    "\n",
    "        ## Filling up the column, gene by gene\n",
    "        ##\n",
    "        for(gene in genes){  \n",
    "            #checking if a gene is in the DE dataframe \n",
    "            if (gene%in%rownames(df)){\n",
    "\n",
    "                    pval[gene,column]= df[gene,'p_val_adj']\n",
    "                    log2FC[gene,column]= df[gene,'logFC']   \n",
    "\n",
    "   \n",
    "            }\n",
    "            else{\n",
    "                #gene is not in DE dataframe, place a pvalue=1 and log2FC=0\n",
    "                pval[gene,column]= 1\n",
    "                log2FC[gene,column]=0\n",
    "            }\n",
    "        }\n",
    "    }\n",
    "\n",
    "    if(missing(suffix)){\n",
    "        file_name= paste0(outdir,'padj_selectedGenes.csv', collapse = '')\n",
    "        write.csv(pval, file=file_name, quote=FALSE, row.names=TRUE)\n",
    "        \n",
    "        file_name= paste0(outdir,'log2FC_selectedGenes.csv', collapse = '')\n",
    "        write.csv(log2FC, file=file_name, quote=FALSE, row.names=TRUE)\n",
    "    }\n",
    "    else{\n",
    "        file_name= paste0(outdir,'padj_selectedGenes',suffix, collapse = '')\n",
    "        write.csv(pval,file=file_name, quote=FALSE, row.names=TRUE)\n",
    "        \n",
    "        file_name= paste0(outdir,'log2FC_selectedGenes',suffix, collapse = '')\n",
    "        write.csv(log2FC,file=file_name, quote=FALSE, row.names=TRUE)\n",
    "    }\n",
    "  \n",
    "    \n",
    "}\n"
   ]
  },
  {
   "cell_type": "code",
   "execution_count": null,
   "id": "fourth-vision",
   "metadata": {},
   "outputs": [],
   "source": []
  },
  {
   "cell_type": "code",
   "execution_count": null,
   "id": "mineral-vermont",
   "metadata": {},
   "outputs": [],
   "source": []
  },
  {
   "cell_type": "markdown",
   "id": "organizational-limitation",
   "metadata": {},
   "source": [
    "## FLT1/PGF, specific to P. falciparum infection - Figure 3"
   ]
  },
  {
   "cell_type": "code",
   "execution_count": 6,
   "id": "pressing-massachusetts",
   "metadata": {},
   "outputs": [],
   "source": [
    "files= c('../../diffGeneExpression/results/SN_limma_Trophoblast_MAL_24h/1_DEGs_SN_MAL_24h_SCT.tsv',\n",
    "           '../../diffGeneExpression/results/SN_limma_Trophoblast_MAL_24h/2_DEGs_SN_MAL_24h_VCT_fusing.tsv',\n",
    "           '../../diffGeneExpression/results/SN_limma_Trophoblast_MAL_24h/3_DEGs_SN_MAL_24h_VCT.tsv')\n",
    "\n",
    "\n",
    "\n",
    "columns=c(\"PF_SCT\",\"PF_VCT_fusing\",\"PF_VCT\")"
   ]
  },
  {
   "cell_type": "code",
   "execution_count": 7,
   "id": "suspended-resource",
   "metadata": {},
   "outputs": [],
   "source": [
    "genes_input= c(\n",
    "    #-- FLT1/PGF balance\n",
    "    \"FLT1\",\"PGF\"\n",
    ")\n",
    "\n",
    "recoverPvalLog2FC(files, columns, genes=genes_input, outdir='../results/tables_limma/', suffix = '_selectedFLT1PGF_Pf.csv')\n"
   ]
  },
  {
   "cell_type": "code",
   "execution_count": null,
   "id": "inappropriate-exclusion",
   "metadata": {},
   "outputs": [],
   "source": []
  },
  {
   "cell_type": "code",
   "execution_count": 8,
   "id": "twenty-genius",
   "metadata": {},
   "outputs": [
    {
     "data": {
      "text/plain": [
       "R version 4.0.4 (2021-02-15)\n",
       "Platform: x86_64-pc-linux-gnu (64-bit)\n",
       "Running under: Ubuntu 20.04.1 LTS\n",
       "\n",
       "Matrix products: default\n",
       "BLAS:   /usr/lib/x86_64-linux-gnu/blas/libblas.so.3.9.0\n",
       "LAPACK: /usr/lib/x86_64-linux-gnu/lapack/liblapack.so.3.9.0\n",
       "\n",
       "locale:\n",
       " [1] LC_CTYPE=en_US.UTF-8       LC_NUMERIC=C              \n",
       " [3] LC_TIME=en_US.UTF-8        LC_COLLATE=en_US.UTF-8    \n",
       " [5] LC_MONETARY=en_US.UTF-8    LC_MESSAGES=en_US.UTF-8   \n",
       " [7] LC_PAPER=en_US.UTF-8       LC_NAME=C                 \n",
       " [9] LC_ADDRESS=C               LC_TELEPHONE=C            \n",
       "[11] LC_MEASUREMENT=en_US.UTF-8 LC_IDENTIFICATION=C       \n",
       "\n",
       "attached base packages:\n",
       "[1] stats     graphics  grDevices utils     datasets  methods   base     \n",
       "\n",
       "loaded via a namespace (and not attached):\n",
       " [1] fansi_1.0.4       digest_0.6.33     utf8_1.2.3        crayon_1.5.2     \n",
       " [5] IRdisplay_1.0     repr_1.1.3        lifecycle_1.0.3   jsonlite_1.8.7   \n",
       " [9] evaluate_0.21     pillar_1.5.1      rlang_1.1.1       cli_3.6.1        \n",
       "[13] uuid_0.1-4        ellipsis_0.3.1    IRkernel_1.1.1    tools_4.0.4      \n",
       "[17] compiler_4.0.4    base64enc_0.1-3   pbdZMQ_0.3-5      htmltools_0.5.1.1"
      ]
     },
     "metadata": {},
     "output_type": "display_data"
    }
   ],
   "source": [
    "sessionInfo()"
   ]
  },
  {
   "cell_type": "code",
   "execution_count": null,
   "id": "sitting-diversity",
   "metadata": {},
   "outputs": [],
   "source": []
  }
 ],
 "metadata": {
  "kernelspec": {
   "display_name": "R",
   "language": "R",
   "name": "ir"
  },
  "language_info": {
   "codemirror_mode": "r",
   "file_extension": ".r",
   "mimetype": "text/x-r-source",
   "name": "R",
   "pygments_lexer": "r",
   "version": "4.0.4"
  }
 },
 "nbformat": 4,
 "nbformat_minor": 5
}
