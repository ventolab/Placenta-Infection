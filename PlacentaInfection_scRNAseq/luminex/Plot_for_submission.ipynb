{
 "cells": [
  {
   "cell_type": "markdown",
   "id": "varied-companion",
   "metadata": {},
   "source": [
    "**Author:** Regina Hoo\n",
    "\n",
    "**Institution:** Wellcome Sanger institute\n",
    "\n",
    "**April, 2023**\n",
    "\n"
   ]
  },
  {
   "cell_type": "markdown",
   "id": "boxed-house",
   "metadata": {},
   "source": [
    "---"
   ]
  },
  {
   "cell_type": "markdown",
   "id": "consistent-register",
   "metadata": {},
   "source": [
    "# Luminex analysis"
   ]
  },
  {
   "cell_type": "code",
   "execution_count": null,
   "id": "funny-crazy",
   "metadata": {},
   "outputs": [],
   "source": []
  },
  {
   "cell_type": "code",
   "execution_count": 1,
   "id": "beneficial-florist",
   "metadata": {
    "collapsed": true,
    "jupyter": {
     "outputs_hidden": true
    },
    "tags": []
   },
   "outputs": [
    {
     "name": "stdout",
     "output_type": "stream",
     "text": [
      "Requirement already satisfied: anndata2ri in /opt/conda/lib/python3.8/site-packages (1.1)\n",
      "Requirement already satisfied: tzlocal in /opt/conda/lib/python3.8/site-packages (from anndata2ri) (2.1)\n",
      "Requirement already satisfied: get-version in /opt/conda/lib/python3.8/site-packages (from anndata2ri) (2.1)\n",
      "Requirement already satisfied: anndata in /opt/conda/lib/python3.8/site-packages (from anndata2ri) (0.7.5)\n",
      "Requirement already satisfied: rpy2>=3.4.3 in /opt/conda/lib/python3.8/site-packages (from anndata2ri) (3.4.3)\n",
      "Requirement already satisfied: jinja2 in /opt/conda/lib/python3.8/site-packages (from rpy2>=3.4.3->anndata2ri) (2.11.3)\n",
      "Requirement already satisfied: cffi>=1.10.0 in /opt/conda/lib/python3.8/site-packages (from rpy2>=3.4.3->anndata2ri) (1.14.5)\n",
      "Requirement already satisfied: pytz in /opt/conda/lib/python3.8/site-packages (from rpy2>=3.4.3->anndata2ri) (2021.1)\n",
      "Requirement already satisfied: pycparser in /opt/conda/lib/python3.8/site-packages (from cffi>=1.10.0->rpy2>=3.4.3->anndata2ri) (2.20)\n",
      "Requirement already satisfied: numpy>=1.15 in /opt/conda/lib/python3.8/site-packages (from anndata->anndata2ri) (1.20.1)\n",
      "Requirement already satisfied: scipy~=1.0 in /opt/conda/lib/python3.8/site-packages (from anndata->anndata2ri) (1.6.1)\n",
      "Requirement already satisfied: packaging in /opt/conda/lib/python3.8/site-packages (from anndata->anndata2ri) (20.9)\n",
      "Requirement already satisfied: natsort in /opt/conda/lib/python3.8/site-packages (from anndata->anndata2ri) (7.1.1)\n",
      "Requirement already satisfied: h5py in /opt/conda/lib/python3.8/site-packages (from anndata->anndata2ri) (3.1.0)\n",
      "Requirement already satisfied: pandas!=1.1,>=1.0 in /opt/conda/lib/python3.8/site-packages (from anndata->anndata2ri) (1.2.3)\n",
      "Requirement already satisfied: python-dateutil>=2.7.3 in /opt/conda/lib/python3.8/site-packages (from pandas!=1.1,>=1.0->anndata->anndata2ri) (2.8.1)\n",
      "Requirement already satisfied: six>=1.5 in /opt/conda/lib/python3.8/site-packages (from python-dateutil>=2.7.3->pandas!=1.1,>=1.0->anndata->anndata2ri) (1.15.0)\n",
      "Requirement already satisfied: setuptools in /opt/conda/lib/python3.8/site-packages (from get-version->anndata2ri) (49.6.0.post20210108)\n",
      "Requirement already satisfied: MarkupSafe>=0.23 in /opt/conda/lib/python3.8/site-packages (from jinja2->rpy2>=3.4.3->anndata2ri) (1.1.1)\n",
      "Requirement already satisfied: pyparsing>=2.0.2 in /opt/conda/lib/python3.8/site-packages (from packaging->anndata->anndata2ri) (2.4.7)\n",
      "Note: you may need to restart the kernel to use updated packages.\n"
     ]
    }
   ],
   "source": [
    "#pip install anndata2ri"
   ]
  },
  {
   "cell_type": "code",
   "execution_count": 2,
   "id": "removed-display",
   "metadata": {},
   "outputs": [],
   "source": [
    "import rpy2.robjects as ro\n",
    "import rpy2.robjects.numpy2ri\n",
    "\n",
    "import rpy2.rinterface_lib.callbacks\n",
    "import logging\n",
    "# Itoliste R warning messages\n",
    "#Note: this can be commented out to get more verbose R output\n",
    "rpy2.rinterface_lib.callbacks.logger.setLevel(logging.ERROR)\n",
    "import anndata2ri\n",
    "anndata2ri.activate()\n",
    "%load_ext rpy2.ipython"
   ]
  },
  {
   "cell_type": "code",
   "execution_count": 3,
   "id": "joint-gasoline",
   "metadata": {},
   "outputs": [],
   "source": [
    "%%R\n",
    "library(RColorBrewer)\n",
    "library(pheatmap)\n",
    "library(ggplot2)"
   ]
  },
  {
   "cell_type": "code",
   "execution_count": null,
   "id": "understanding-blair",
   "metadata": {},
   "outputs": [],
   "source": []
  },
  {
   "cell_type": "markdown",
   "id": "interior-retreat",
   "metadata": {},
   "source": [
    "## Luminex 24h"
   ]
  },
  {
   "cell_type": "code",
   "execution_count": 10,
   "id": "essential-yugoslavia",
   "metadata": {},
   "outputs": [
    {
     "name": "stdout",
     "output_type": "stream",
     "text": [
      "       Hrv171.Tox.24H Hrv172.Tox.24H Hrv135.Lis.24H Hrv136.Lis.24H\n",
      "GM-CSF     1.41179229    0.368330323     3.72031831     1.35143375\n",
      "IL-1b     -0.32706458   -1.325600999     3.45578947     1.00782420\n",
      "MIP-1a     0.68310185    0.581342523     2.92686347     1.10594903\n",
      "IL-10      0.09597411    0.412125706     1.71956683    -0.23659262\n",
      "G-CSF      1.41123145    0.743397371     1.01200903     0.50559463\n",
      "IL-1RA     0.55139139   -0.659686280     2.57091486     1.46829473\n",
      "RANTES    -0.39263366   -0.142554409     1.42577612     0.47811206\n",
      "MIP-1b     1.62237644    1.515908140     3.15934834     0.47379881\n",
      "IL1-a      0.00000000   -2.924910525     1.33372541     0.61782835\n",
      "IP-10      2.97885819    4.533038182     0.66197469     0.18266940\n",
      "GRO        0.32958585    0.064138462     0.11693243     0.06049040\n",
      "IL-6       0.36871949   -0.004757364    -0.03359010    -0.40899979\n",
      "IL-8       0.33231815    0.014064356     0.27337863    -0.09460290\n",
      "MCP-1      2.52120446    0.946429153     0.08596515    -0.04457828\n",
      "MCP-3      3.10073702    3.181276407     0.14064824    -0.28231828\n",
      "MDC        2.15502866    3.225557131    -0.83914447    -0.70720045\n",
      "       Hrv107.2D9.24H Hrv124.2D9.24H Hrv168.2D9.24H\n",
      "GM-CSF    0.849245094    2.059600772     2.84577160\n",
      "IL-1b     1.346741959    2.791707421     0.15636764\n",
      "MIP-1a    0.237058633    1.036291772     0.50735118\n",
      "IL-10     0.752368095    0.532311175     1.81316746\n",
      "G-CSF     0.222492599   -1.487969499     1.06326907\n",
      "IL-1RA   -1.186944544    0.488537933    -1.50522003\n",
      "RANTES    0.631392883   -0.306654176     0.25830096\n",
      "MIP-1b    0.201635104    0.414138890     0.61834333\n",
      "IL1-a     0.316183287    0.000000000     0.00000000\n",
      "IP-10    -0.241629499   -0.097434854     2.09004473\n",
      "GRO      -0.017205277    0.003667509     0.07680596\n",
      "IL-6      0.035678596   -0.007416114     0.04787575\n",
      "IL-8     -0.007517568   -0.044109857     0.05674533\n",
      "MCP-1    -0.357040361   -0.032136520     0.68571395\n",
      "MCP-3    -0.596850042   -0.345778075     1.32682868\n",
      "MDC       0.911755630   -0.400493477     1.09226437\n"
     ]
    }
   ],
   "source": [
    "%%R\n",
    "# Luminex\n",
    "df_lum=read.csv(\"luminex_24hpi_log2FC_pg_per_ml.csv\", header=T, row.names=1 )\n",
    "df_lum"
   ]
  },
  {
   "cell_type": "code",
   "execution_count": 11,
   "id": "restricted-wrestling",
   "metadata": {},
   "outputs": [
    {
     "data": {
      "image/png": "[encoded data removed]"
     },
     "metadata": {},
     "output_type": "display_data"
    }
   ],
   "source": [
    "%%R\n",
    "numberColors <- 26 #number of colors/ to include\n",
    "colours <- colorRampPalette(rev(brewer.pal(n = 10, name = \"RdGy\")))(numberColors)  \n",
    "#creating the colour palette\n",
    "breaks <- c(seq(-4, 0, length.out=ceiling(numberColors/2) + 1), #setting Minimum for scale\n",
    "            seq(max(df_lum)/numberColors, \n",
    "          4, length.out=floor(numberColors/2))) #setting Maximum for scale\n",
    "\n",
    "\n",
    "# Plot the  heatmap with the color and break options\n",
    "df_lum<-pheatmap(df_lum,cellwidth = 10,cellheight=10, cluster_cols = FALSE, cluster_rows = TRUE,\n",
    "         color = colours, breaks = breaks)\n",
    "\n",
    "ggsave(df_lum, filename = paste0('luminex_24hpi_log2FC_pg_per_ml_.pdf'), width = 8, height = 8,\n",
    "       dpi = 300)"
   ]
  },
  {
   "cell_type": "code",
   "execution_count": null,
   "id": "outside-addiction",
   "metadata": {},
   "outputs": [],
   "source": []
  },
  {
   "cell_type": "code",
   "execution_count": null,
   "id": "accredited-behavior",
   "metadata": {},
   "outputs": [],
   "source": []
  }
 ],
 "metadata": {
  "kernelspec": {
   "display_name": "Python 3",
   "language": "python",
   "name": "python3"
  },
  "language_info": {
   "codemirror_mode": {
    "name": "ipython",
    "version": 3
   },
   "file_extension": ".py",
   "mimetype": "text/x-python",
   "name": "python",
   "nbconvert_exporter": "python",
   "pygments_lexer": "ipython3",
   "version": "3.8.8"
  }
 },
 "nbformat": 4,
 "nbformat_minor": 5
}
