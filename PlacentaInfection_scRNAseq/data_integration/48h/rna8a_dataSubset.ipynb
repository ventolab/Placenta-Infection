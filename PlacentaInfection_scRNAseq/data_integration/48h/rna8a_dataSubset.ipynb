{
 "cells": [
  {
   "cell_type": "markdown",
   "id": "comparable-handling",
   "metadata": {},
   "source": [
    "**Author:** Elias Rafael Ruiz-Morales\n",
    "\n",
    "**Institution:** Wellcome Sanger institute\n",
    "\n",
    "**September, 2023**\n",
    "\n"
   ]
  },
  {
   "cell_type": "markdown",
   "id": "incoming-personality",
   "metadata": {},
   "source": [
    "---"
   ]
  },
  {
   "cell_type": "markdown",
   "id": "reserved-value",
   "metadata": {},
   "source": [
    "# Subset of data per infection\n",
    "\n",
    "Subsets will be necessary for plots and cellphoneDB v4 "
   ]
  },
  {
   "cell_type": "code",
   "execution_count": 1,
   "id": "vocal-hunger",
   "metadata": {},
   "outputs": [],
   "source": [
    "import numpy as np\n",
    "import pandas as pd\n",
    "import scanpy as sc\n",
    "import os\n",
    "import sys\n",
    "import anndata\n",
    "\n",
    "import seaborn as sns \n",
    "\n",
    "import matplotlib.pyplot as plt\n",
    "import matplotlib as mpl\n",
    "import gc"
   ]
  },
  {
   "cell_type": "code",
   "execution_count": 2,
   "id": "macro-netscape",
   "metadata": {
    "tags": []
   },
   "outputs": [
    {
     "name": "stderr",
     "output_type": "stream",
     "text": [
      "WARNING: If you miss a compact list, please try `print_header`!\n"
     ]
    },
    {
     "name": "stdout",
     "output_type": "stream",
     "text": [
      "-----\n",
      "anndata     0.7.5\n",
      "scanpy      1.7.1\n",
      "sinfo       0.3.1\n",
      "-----\n",
      "PIL                 8.1.2\n",
      "anndata             0.7.5\n",
      "anyio               NA\n",
      "attr                20.3.0\n",
      "babel               2.9.0\n",
      "backcall            0.2.0\n",
      "brotli              NA\n",
      "cairo               1.20.0\n",
      "certifi             2020.12.05\n",
      "cffi                1.14.5\n",
      "chardet             4.0.0\n",
      "cloudpickle         1.6.0\n",
      "colorama            0.4.4\n",
      "cycler              0.10.0\n",
      "cython_runtime      NA\n",
      "cytoolz             0.11.0\n",
      "dask                2021.03.1\n",
      "dateutil            2.8.1\n",
      "decorator           4.4.2\n",
      "fsspec              0.8.7\n",
      "get_version         2.1\n",
      "google              NA\n",
      "h5py                3.1.0\n",
      "idna                2.10\n",
      "igraph              0.8.3\n",
      "ipykernel           5.5.0\n",
      "ipython_genutils    0.2.0\n",
      "ipywidgets          7.6.3\n",
      "jedi                0.18.0\n",
      "jinja2              2.11.3\n",
      "joblib              1.0.1\n",
      "json5               NA\n",
      "jsonschema          3.2.0\n",
      "jupyter_server      1.4.1\n",
      "jupyterlab_server   2.3.0\n",
      "kiwisolver          1.3.1\n",
      "legacy_api_wrap     0.0.0\n",
      "leidenalg           0.8.3\n",
      "llvmlite            0.34.0\n",
      "louvain             0.7.0\n",
      "markupsafe          1.1.1\n",
      "matplotlib          3.3.4\n",
      "mpl_toolkits        NA\n",
      "natsort             7.1.1\n",
      "nbclassic           NA\n",
      "nbformat            5.1.2\n",
      "numba               0.51.2\n",
      "numexpr             2.7.3\n",
      "numpy               1.20.1\n",
      "packaging           20.9\n",
      "pandas              1.2.3\n",
      "parso               0.8.1\n",
      "pexpect             4.8.0\n",
      "pickleshare         0.7.5\n",
      "pkg_resources       NA\n",
      "prometheus_client   NA\n",
      "prompt_toolkit      3.0.16\n",
      "psutil              5.8.0\n",
      "ptyprocess          0.7.0\n",
      "pvectorc            NA\n",
      "pyarrow             0.16.0\n",
      "pygments            2.8.0\n",
      "pyparsing           2.4.7\n",
      "pyrsistent          NA\n",
      "pytoml              NA\n",
      "pytz                2021.1\n",
      "requests            2.25.1\n",
      "ruamel              NA\n",
      "scanpy              1.7.1\n",
      "scipy               1.6.1\n",
      "seaborn             0.11.1\n",
      "send2trash          NA\n",
      "setuptools_scm      NA\n",
      "sinfo               0.3.1\n",
      "six                 1.15.0\n",
      "sklearn             0.24.1\n",
      "sniffio             1.2.0\n",
      "socks               1.7.1\n",
      "sphinxcontrib       NA\n",
      "statsmodels         0.12.2\n",
      "storemagic          NA\n",
      "tables              3.6.1\n",
      "tblib               1.7.0\n",
      "texttable           1.6.3\n",
      "tlz                 0.11.0\n",
      "toolz               0.11.1\n",
      "tornado             6.1\n",
      "traitlets           5.0.5\n",
      "typing_extensions   NA\n",
      "urllib3             1.26.3\n",
      "wcwidth             0.2.5\n",
      "yaml                5.3.1\n",
      "zmq                 22.0.3\n",
      "-----\n",
      "IPython             7.21.0\n",
      "jupyter_client      6.1.11\n",
      "jupyter_core        4.7.1\n",
      "jupyterlab          3.0.9\n",
      "notebook            6.2.0\n",
      "-----\n",
      "Python 3.8.8 | packaged by conda-forge | (default, Feb 20 2021, 16:22:27) [GCC 9.3.0]\n",
      "Linux-4.15.0-213-generic-x86_64-with-glibc2.10\n",
      "26 logical CPU cores, x86_64\n",
      "-----\n",
      "Session information updated at 2023-11-29 14:13\n",
      "\n"
     ]
    },
    {
     "data": {
      "text/plain": [
       "'/opt/conda/bin/python'"
      ]
     },
     "execution_count": 2,
     "metadata": {},
     "output_type": "execute_result"
    }
   ],
   "source": [
    "def MovePlots(plotpattern, subplotdir):\n",
    "    os.system('mkdir -p '+str(sc.settings.figdir)+'/'+subplotdir)\n",
    "    os.system('mv '+str(sc.settings.figdir)+'/*'+plotpattern+'** '+str(sc.settings.figdir)+'/'+subplotdir)\n",
    "\n",
    "sc.settings.verbosity = 3  # verbosity: errors (0), warnings (1), info (2), hints (3)\n",
    "sc.logging.print_versions()\n",
    "sc.settings.set_figure_params(dpi=80)  # low dpi (dots per inch) yields small inline figures\n",
    "\n",
    "sys.executable"
   ]
  },
  {
   "cell_type": "markdown",
   "id": "large-greeting",
   "metadata": {},
   "source": [
    "### Note \n",
    "To run this chunk you need:\n",
    "\n",
    "*rpy2==3.4.2  ///  anndata2ri==1.0.6*"
   ]
  },
  {
   "cell_type": "code",
   "execution_count": 4,
   "id": "proprietary-frontier",
   "metadata": {},
   "outputs": [
    {
     "name": "stderr",
     "output_type": "stream",
     "text": [
      "dirname: Trying to get version of anndata2ri from dirname /opt/conda/lib/python3.8/site-packages\n",
      "dirname: Failed; Does not match re.compile('anndata2ri-([\\\\d.]+?)(?:\\\\.dev(\\\\d+))?(?:[_+-]([0-9a-zA-Z.]+))?$')\n",
      "git: Trying to get version from git in directory /opt/conda/lib/python3.8/site-packages\n",
      "git: Failed; directory is not managed by git\n",
      "metadata: Trying to get version for anndata2ri in dir /opt/conda/lib/python3.8/site-packages\n",
      "metadata: Succeeded\n"
     ]
    }
   ],
   "source": [
    "import rpy2.robjects as ro\n",
    "import rpy2.robjects.numpy2ri\n",
    "\n",
    "import rpy2.rinterface_lib.callbacks\n",
    "import logging\n",
    "# Itoliste R warning messages\n",
    "#Note: this can be commented out to get more verbose R output\n",
    "rpy2.rinterface_lib.callbacks.logger.setLevel(logging.ERROR)\n",
    "import anndata2ri\n",
    "anndata2ri.activate()\n",
    "%load_ext rpy2.ipython"
   ]
  },
  {
   "cell_type": "markdown",
   "id": "supported-security",
   "metadata": {},
   "source": [
    "## Loading data"
   ]
  },
  {
   "cell_type": "code",
   "execution_count": 5,
   "id": "rubber-turning",
   "metadata": {},
   "outputs": [],
   "source": [
    "adata= sc.read('../results/scVI/rna8_scVIintegrated_latent30_All_20230707_48h.h5ad')\n"
   ]
  },
  {
   "cell_type": "code",
   "execution_count": 6,
   "id": "established-dayton",
   "metadata": {},
   "outputs": [
    {
     "data": {
      "text/plain": [
       "AnnData object with n_obs × n_vars = 45950 × 36601\n",
       "    obs: 'sample', 'stage', 'hpi', 'infection', 'percent_mito', 'n_counts', 'sample_barcode', 'assignment_SoC', 'donor_id', 'scrublet_score', 'scrublet_cluster_score', 'zscore', 'bh_pval', 'bonf_pval', 'S_score', 'G2M_score', 'phase', 'n_genes_by_counts', 'total_counts', 'total_counts_hs', 'pct_counts_hs', 'total_counts_tg', 'pct_counts_tg', 'Tg_infected', 'n_genes', '_scvi_batch', '_scvi_labels', '_scvi_local_l_mean', '_scvi_local_l_var', 'leiden_scvi', 'celltype_predictions', 'probabilities', 'scrublet_doublet', 'cell_type', 'souporcell_MFgenotype', 'MFgenotype', 'cell_type_broad', 'stage_perInfection', 'celltype-Stage', 'Tg_intracellular', 'celltype-Intracellular', 'Dev_Stage'\n",
       "    var: 'gene_ids', 'feature_types', 'mean-0', 'std-0', 'mean-1', 'std-1', 'mean-2', 'std-2', 'highly_variable', 'highly_variable_rank', 'means', 'variances', 'variances_norm'\n",
       "    uns: 'Dev_Stage_colors', 'MFgenotype_colors', '_scvi', 'cell_type_broad_colors', 'cell_type_colors', 'celltype_predictions_colors', 'donor_id_colors', 'hpi_colors', 'hvg', 'infection_colors', 'leiden', 'neighbors', 'sample_colors', 'umap'\n",
       "    obsm: 'X_scVI_n_latent_20', 'X_scVI_n_latent_30', 'X_scVI_n_latent_40', 'X_umap', '_scvi_extra_categoricals'\n",
       "    layers: 'raw_counts'\n",
       "    obsp: 'connectivities', 'distances'"
      ]
     },
     "execution_count": 6,
     "metadata": {},
     "output_type": "execute_result"
    }
   ],
   "source": [
    "adata"
   ]
  },
  {
   "cell_type": "markdown",
   "id": "experienced-initial",
   "metadata": {},
   "source": [
    "### Setting up color palette for future plots"
   ]
  },
  {
   "cell_type": "code",
   "execution_count": 7,
   "id": "aboriginal-reduction",
   "metadata": {},
   "outputs": [],
   "source": [
    "sc.set_figure_params(figsize=(5,5))"
   ]
  },
  {
   "cell_type": "code",
   "execution_count": 8,
   "id": "interim-reconstruction",
   "metadata": {},
   "outputs": [
    {
     "data": {
      "image/png": "[encoded data removed]",
      "text/plain": [
       "<Figure size 400x400 with 1 Axes>"
      ]
     },
     "metadata": {},
     "output_type": "display_data"
    }
   ],
   "source": [
    "sc.pl.umap(adata, color=['cell_type'], size=5,\n",
    "            title='', legend_loc='on data',legend_fontsize='x-small')"
   ]
  },
  {
   "cell_type": "code",
   "execution_count": null,
   "id": "moderate-heating",
   "metadata": {},
   "outputs": [],
   "source": []
  },
  {
   "cell_type": "code",
   "execution_count": null,
   "id": "moved-cocktail",
   "metadata": {},
   "outputs": [],
   "source": []
  },
  {
   "cell_type": "markdown",
   "id": "chronic-testament",
   "metadata": {},
   "source": [
    "# Preparing subset objects for downstream analysis"
   ]
  },
  {
   "cell_type": "markdown",
   "id": "after-nurse",
   "metadata": {},
   "source": [
    "## Subset Listeria infection assay only"
   ]
  },
  {
   "cell_type": "code",
   "execution_count": 9,
   "id": "signal-attribute",
   "metadata": {},
   "outputs": [
    {
     "name": "stderr",
     "output_type": "stream",
     "text": [
      "/opt/conda/lib/python3.8/site-packages/pandas/core/arrays/categorical.py:2487: FutureWarning: The `inplace` parameter in pandas.Categorical.remove_unused_categories is deprecated and will be removed in a future version.\n",
      "  res = method(*args, **kwargs)\n"
     ]
    }
   ],
   "source": [
    "#taking alldonors first for DEGs\n",
    "adata_subset= adata[[ i in ['Pla_HDBR12330714','Pla_HDBR12330715',\n",
    " 'Pla_HDBR13661575', 'Pla_HDBR13661576']\n",
    "  for i in adata.obs['sample']  ]]"
   ]
  },
  {
   "cell_type": "code",
   "execution_count": 10,
   "id": "united-mouth",
   "metadata": {},
   "outputs": [
    {
     "data": {
      "text/plain": [
       "Pla_HDBR12330714_AAACCCATCCACGAAT    48h\n",
       "Pla_HDBR12330714_AAACCCATCGAGTCTA    48h\n",
       "Pla_HDBR12330714_AAACCCATCGATAACC    48h\n",
       "Pla_HDBR12330714_AAACCCATCGCACGAC    48h\n",
       "Pla_HDBR12330714_AAACGAATCTAGATCG    48h\n",
       "                                    ... \n",
       "Pla_HDBR13661576_TTTGTTGAGAGTACCG    48h\n",
       "Pla_HDBR13661576_TTTGTTGAGCATATGA    48h\n",
       "Pla_HDBR13661576_TTTGTTGCATCCCGTT    48h\n",
       "Pla_HDBR13661576_TTTGTTGTCAGCTGAT    48h\n",
       "Pla_HDBR13661576_TTTGTTGTCTGGTTGA    48h\n",
       "Name: hpi, Length: 18752, dtype: category\n",
       "Categories (1, object): ['48h']"
      ]
     },
     "execution_count": 10,
     "metadata": {},
     "output_type": "execute_result"
    }
   ],
   "source": [
    "adata_subset.obs.hpi"
   ]
  },
  {
   "cell_type": "markdown",
   "id": "domestic-phenomenon",
   "metadata": {},
   "source": [
    "#### Subset 24h"
   ]
  },
  {
   "cell_type": "code",
   "execution_count": 11,
   "id": "approximate-quest",
   "metadata": {},
   "outputs": [],
   "source": [
    "adata_d1 =adata_subset[[ i in ['48h'] for i in adata_subset.obs.hpi ]]\n",
    "adata_d1.write ('../results/scVI/listeria_singleCell_48h.h5ad')"
   ]
  },
  {
   "cell_type": "code",
   "execution_count": 12,
   "id": "smooth-primary",
   "metadata": {
    "tags": []
   },
   "outputs": [
    {
     "data": {
      "text/html": [
       "<div>\n",
       "<style scoped>\n",
       "    .dataframe tbody tr th:only-of-type {\n",
       "        vertical-align: middle;\n",
       "    }\n",
       "\n",
       "    .dataframe tbody tr th {\n",
       "        vertical-align: top;\n",
       "    }\n",
       "\n",
       "    .dataframe thead th {\n",
       "        text-align: right;\n",
       "    }\n",
       "</style>\n",
       "<table border=\"1\" class=\"dataframe\">\n",
       "  <thead>\n",
       "    <tr style=\"text-align: right;\">\n",
       "      <th></th>\n",
       "      <th>counts</th>\n",
       "      <th>freqs</th>\n",
       "    </tr>\n",
       "    <tr>\n",
       "      <th>categories</th>\n",
       "      <th></th>\n",
       "      <th></th>\n",
       "    </tr>\n",
       "  </thead>\n",
       "  <tbody>\n",
       "    <tr>\n",
       "      <th>Lm_48h</th>\n",
       "      <td>10459</td>\n",
       "      <td>0.557754</td>\n",
       "    </tr>\n",
       "    <tr>\n",
       "      <th>UI_Lm_48h</th>\n",
       "      <td>8293</td>\n",
       "      <td>0.442246</td>\n",
       "    </tr>\n",
       "  </tbody>\n",
       "</table>\n",
       "</div>"
      ],
      "text/plain": [
       "            counts     freqs\n",
       "categories                  \n",
       "Lm_48h       10459  0.557754\n",
       "UI_Lm_48h     8293  0.442246"
      ]
     },
     "execution_count": 12,
     "metadata": {},
     "output_type": "execute_result"
    }
   ],
   "source": [
    "adata_d1.obs['stage_perInfection'].values.describe()"
   ]
  },
  {
   "cell_type": "code",
   "execution_count": 13,
   "id": "accurate-bookmark",
   "metadata": {},
   "outputs": [
    {
     "data": {
      "text/html": [
       "<div>\n",
       "<style scoped>\n",
       "    .dataframe tbody tr th:only-of-type {\n",
       "        vertical-align: middle;\n",
       "    }\n",
       "\n",
       "    .dataframe tbody tr th {\n",
       "        vertical-align: top;\n",
       "    }\n",
       "\n",
       "    .dataframe thead th {\n",
       "        text-align: right;\n",
       "    }\n",
       "</style>\n",
       "<table border=\"1\" class=\"dataframe\">\n",
       "  <thead>\n",
       "    <tr style=\"text-align: right;\">\n",
       "      <th></th>\n",
       "      <th>counts</th>\n",
       "      <th>freqs</th>\n",
       "    </tr>\n",
       "    <tr>\n",
       "      <th>categories</th>\n",
       "      <th></th>\n",
       "      <th></th>\n",
       "    </tr>\n",
       "  </thead>\n",
       "  <tbody>\n",
       "    <tr>\n",
       "      <th>Hrv136</th>\n",
       "      <td>5590</td>\n",
       "      <td>0.298102</td>\n",
       "    </tr>\n",
       "    <tr>\n",
       "      <th>Hrv236</th>\n",
       "      <td>13162</td>\n",
       "      <td>0.701898</td>\n",
       "    </tr>\n",
       "  </tbody>\n",
       "</table>\n",
       "</div>"
      ],
      "text/plain": [
       "            counts     freqs\n",
       "categories                  \n",
       "Hrv136        5590  0.298102\n",
       "Hrv236       13162  0.701898"
      ]
     },
     "execution_count": 13,
     "metadata": {},
     "output_type": "execute_result"
    }
   ],
   "source": [
    "adata_d1.obs['donor_id'].values.describe()"
   ]
  },
  {
   "cell_type": "code",
   "execution_count": 14,
   "id": "enabling-rabbit",
   "metadata": {},
   "outputs": [
    {
     "name": "stderr",
     "output_type": "stream",
     "text": [
      "Trying to set attribute `.obs` of view, copying.\n"
     ]
    }
   ],
   "source": [
    "#code to remove un-needed columns in obs. Helps to speed up the operability with R\n",
    "idx = ['sample', 'hpi', 'stage', '_scvi_labels', 'Tg_infected', 'leiden_scvi', 'souporcell_MFgenotype', 'MFgenotype', 'cell_type_broad','scrublet_score', 'scrublet_cluster_score', 'zscore', \n",
    "       'bh_pval', 'bonf_pval',  'percent_mito', 'n_counts', 'sample_barcode', 'assignment_SoC',\n",
    "     'celltype_predictions', 'probabilities', 'scrublet_doublet', 'S_score', 'G2M_score', 'phase', 'n_genes', '_scvi_batch',\n",
    "       '_scvi_local_l_mean', '_scvi_local_l_var',  'n_genes_by_counts', 'total_counts', 'total_counts_hs', 'pct_counts_hs', \n",
    "       'total_counts_tg', 'pct_counts_tg', 'Tg_intracellular', 'cell_type_2022']\n",
    "for i in idx:\n",
    "    try:\n",
    "        del adata_d1.obs[i]\n",
    "    except:\n",
    "        continue\n",
    "    \n",
    "adata_d1.obs['infection'] = adata_d1.obs['infection'].astype(str)\n",
    "\n",
    "del adata_d1.obsm\n",
    "del adata_d1.obsp\n",
    "del adata_d1.layers\n",
    "del adata_d1.uns"
   ]
  },
  {
   "cell_type": "code",
   "execution_count": 15,
   "id": "purple-fifty",
   "metadata": {},
   "outputs": [],
   "source": [
    "adata_d1.X = adata_d1.X.toarray()"
   ]
  },
  {
   "cell_type": "code",
   "execution_count": 16,
   "id": "adjusted-potato",
   "metadata": {},
   "outputs": [],
   "source": [
    "%%R -i adata_d1\n",
    "\n",
    "library(Seurat)\n",
    "so = as.Seurat(adata_d1, counts = \"X\", data = \"X\")\n",
    "\n",
    "saveRDS(so, file = \"../results/scVI/listeria_singleCell_48h.rds\")"
   ]
  },
  {
   "cell_type": "code",
   "execution_count": null,
   "id": "painted-hacker",
   "metadata": {},
   "outputs": [],
   "source": []
  },
  {
   "cell_type": "code",
   "execution_count": null,
   "id": "narrow-automation",
   "metadata": {},
   "outputs": [],
   "source": []
  },
  {
   "cell_type": "markdown",
   "id": "mineral-diesel",
   "metadata": {},
   "source": [
    "## Subset Malaria infection assay only"
   ]
  },
  {
   "cell_type": "code",
   "execution_count": 17,
   "id": "quality-spyware",
   "metadata": {},
   "outputs": [
    {
     "name": "stderr",
     "output_type": "stream",
     "text": [
      "/opt/conda/lib/python3.8/site-packages/pandas/core/arrays/categorical.py:2487: FutureWarning: The `inplace` parameter in pandas.Categorical.remove_unused_categories is deprecated and will be removed in a future version.\n",
      "  res = method(*args, **kwargs)\n"
     ]
    }
   ],
   "source": [
    "adata_subset= adata[[ i in [\n",
    "    'Pla_HDBR13661567', 'Pla_HDBR13661568', \n",
    "    'Pla_HDBR13661573','Pla_HDBR13661574']\n",
    "    for i in adata.obs['sample']  ]]"
   ]
  },
  {
   "cell_type": "code",
   "execution_count": 18,
   "id": "stone-chaos",
   "metadata": {},
   "outputs": [
    {
     "data": {
      "text/plain": [
       "Pla_HDBR13661567_AAACCCACAGCTACCG    Hrv232\n",
       "Pla_HDBR13661567_AAACCCACAGCTTCGG    Hrv232\n",
       "Pla_HDBR13661567_AAACCCAGTGCCTGCA    Hrv232\n",
       "Pla_HDBR13661567_AAACGAAGTGACCGAA    Hrv232\n",
       "Pla_HDBR13661567_AAACGCTCAAACACCT    Hrv232\n",
       "                                      ...  \n",
       "Pla_HDBR13661574_TTGAACGAGATCCCGC    Hrv236\n",
       "Pla_HDBR13661574_TTGGGCGTCCATCTAT    Hrv236\n",
       "Pla_HDBR13661574_TTTACTGAGCCTTCTC    Hrv236\n",
       "Pla_HDBR13661574_TTTAGTCAGATTGGGC    Hrv236\n",
       "Pla_HDBR13661574_TTTGATCAGCTTGTGT    Hrv236\n",
       "Name: donor_id, Length: 2719, dtype: category\n",
       "Categories (2, object): ['Hrv232', 'Hrv236']"
      ]
     },
     "execution_count": 18,
     "metadata": {},
     "output_type": "execute_result"
    }
   ],
   "source": [
    "adata_subset.obs.donor_id"
   ]
  },
  {
   "cell_type": "markdown",
   "id": "loved-editing",
   "metadata": {},
   "source": [
    "#### Subset 24h"
   ]
  },
  {
   "cell_type": "code",
   "execution_count": 19,
   "id": "headed-senate",
   "metadata": {},
   "outputs": [],
   "source": [
    "adata_d1 =adata_subset[[ i in ['48h'] for i in adata_subset.obs.hpi ]]\n",
    "adata_d1.write ('../results/scVI/malaria_singleCell_48h.h5ad')"
   ]
  },
  {
   "cell_type": "code",
   "execution_count": 20,
   "id": "removed-termination",
   "metadata": {
    "tags": []
   },
   "outputs": [
    {
     "data": {
      "text/html": [
       "<div>\n",
       "<style scoped>\n",
       "    .dataframe tbody tr th:only-of-type {\n",
       "        vertical-align: middle;\n",
       "    }\n",
       "\n",
       "    .dataframe tbody tr th {\n",
       "        vertical-align: top;\n",
       "    }\n",
       "\n",
       "    .dataframe thead th {\n",
       "        text-align: right;\n",
       "    }\n",
       "</style>\n",
       "<table border=\"1\" class=\"dataframe\">\n",
       "  <thead>\n",
       "    <tr style=\"text-align: right;\">\n",
       "      <th></th>\n",
       "      <th>counts</th>\n",
       "      <th>freqs</th>\n",
       "    </tr>\n",
       "    <tr>\n",
       "      <th>categories</th>\n",
       "      <th></th>\n",
       "      <th></th>\n",
       "    </tr>\n",
       "  </thead>\n",
       "  <tbody>\n",
       "    <tr>\n",
       "      <th>Pf_48h</th>\n",
       "      <td>858</td>\n",
       "      <td>0.315557</td>\n",
       "    </tr>\n",
       "    <tr>\n",
       "      <th>UI_Pf_48h</th>\n",
       "      <td>1861</td>\n",
       "      <td>0.684443</td>\n",
       "    </tr>\n",
       "  </tbody>\n",
       "</table>\n",
       "</div>"
      ],
      "text/plain": [
       "            counts     freqs\n",
       "categories                  \n",
       "Pf_48h         858  0.315557\n",
       "UI_Pf_48h     1861  0.684443"
      ]
     },
     "execution_count": 20,
     "metadata": {},
     "output_type": "execute_result"
    }
   ],
   "source": [
    "adata_d1.obs['stage_perInfection'].values.describe()"
   ]
  },
  {
   "cell_type": "code",
   "execution_count": 21,
   "id": "promotional-harvest",
   "metadata": {},
   "outputs": [
    {
     "data": {
      "text/html": [
       "<div>\n",
       "<style scoped>\n",
       "    .dataframe tbody tr th:only-of-type {\n",
       "        vertical-align: middle;\n",
       "    }\n",
       "\n",
       "    .dataframe tbody tr th {\n",
       "        vertical-align: top;\n",
       "    }\n",
       "\n",
       "    .dataframe thead th {\n",
       "        text-align: right;\n",
       "    }\n",
       "</style>\n",
       "<table border=\"1\" class=\"dataframe\">\n",
       "  <thead>\n",
       "    <tr style=\"text-align: right;\">\n",
       "      <th></th>\n",
       "      <th>counts</th>\n",
       "      <th>freqs</th>\n",
       "    </tr>\n",
       "    <tr>\n",
       "      <th>categories</th>\n",
       "      <th></th>\n",
       "      <th></th>\n",
       "    </tr>\n",
       "  </thead>\n",
       "  <tbody>\n",
       "    <tr>\n",
       "      <th>Hrv232</th>\n",
       "      <td>2508</td>\n",
       "      <td>0.922398</td>\n",
       "    </tr>\n",
       "    <tr>\n",
       "      <th>Hrv236</th>\n",
       "      <td>211</td>\n",
       "      <td>0.077602</td>\n",
       "    </tr>\n",
       "  </tbody>\n",
       "</table>\n",
       "</div>"
      ],
      "text/plain": [
       "            counts     freqs\n",
       "categories                  \n",
       "Hrv232        2508  0.922398\n",
       "Hrv236         211  0.077602"
      ]
     },
     "execution_count": 21,
     "metadata": {},
     "output_type": "execute_result"
    }
   ],
   "source": [
    "adata_d1.obs['donor_id'].values.describe()"
   ]
  },
  {
   "cell_type": "code",
   "execution_count": null,
   "id": "worldwide-chicken",
   "metadata": {},
   "outputs": [],
   "source": []
  },
  {
   "cell_type": "code",
   "execution_count": 12,
   "id": "confidential-grenada",
   "metadata": {},
   "outputs": [
    {
     "data": {
      "text/plain": [
       "776"
      ]
     },
     "execution_count": 12,
     "metadata": {},
     "output_type": "execute_result"
    }
   ],
   "source": [
    "del(adata_subset)\n",
    "del(adata)\n",
    "\n",
    "gc.collect()"
   ]
  },
  {
   "cell_type": "code",
   "execution_count": 22,
   "id": "handmade-patch",
   "metadata": {},
   "outputs": [
    {
     "name": "stderr",
     "output_type": "stream",
     "text": [
      "Trying to set attribute `.obs` of view, copying.\n"
     ]
    }
   ],
   "source": [
    "#code to remove un-needed columns in obs. Helps to speed up the operability with R\n",
    "idx = ['sample', 'hpi', 'stage', '_scvi_labels', 'Tg_infected', 'leiden_scvi', 'souporcell_MFgenotype', 'MFgenotype', 'cell_type_broad','scrublet_score', 'scrublet_cluster_score', 'zscore', \n",
    "       'bh_pval', 'bonf_pval',  'percent_mito', 'n_counts', 'sample_barcode', 'assignment_SoC',\n",
    "     'celltype_predictions', 'probabilities', 'scrublet_doublet', 'S_score', 'G2M_score', 'phase', 'n_genes', '_scvi_batch',\n",
    "       '_scvi_local_l_mean', '_scvi_local_l_var',  'n_genes_by_counts', 'total_counts', 'total_counts_hs', 'pct_counts_hs', \n",
    "       'total_counts_tg', 'pct_counts_tg', 'Tg_intracellular', 'cell_type_2022']\n",
    "for i in idx:\n",
    "    try:\n",
    "        del adata_d1.obs[i]\n",
    "    except:\n",
    "        continue\n",
    "    \n",
    "adata_d1.obs['infection'] = adata_d1.obs['infection'].astype(str)\n",
    "\n",
    "del adata_d1.obsm\n",
    "del adata_d1.obsp\n",
    "del adata_d1.layers\n",
    "del adata_d1.uns"
   ]
  },
  {
   "cell_type": "code",
   "execution_count": 23,
   "id": "alpine-genre",
   "metadata": {},
   "outputs": [],
   "source": [
    "adata_d1.X = adata_d1.X.toarray()"
   ]
  },
  {
   "cell_type": "code",
   "execution_count": 24,
   "id": "wired-stomach",
   "metadata": {},
   "outputs": [
    {
     "data": {
      "text/plain": [
       "973"
      ]
     },
     "execution_count": 24,
     "metadata": {},
     "output_type": "execute_result"
    }
   ],
   "source": [
    "gc.collect()"
   ]
  },
  {
   "cell_type": "code",
   "execution_count": 25,
   "id": "personal-growth",
   "metadata": {},
   "outputs": [],
   "source": [
    "%%R -i adata_d1\n",
    "\n",
    "library(Seurat)\n",
    "so = as.Seurat(adata_d1, counts = \"X\", data = \"X\")\n",
    "\n",
    "saveRDS(so, file = \"../results/scVI/malaria_singleCell_48h.rds\")"
   ]
  },
  {
   "cell_type": "code",
   "execution_count": null,
   "id": "wireless-trader",
   "metadata": {},
   "outputs": [],
   "source": []
  },
  {
   "cell_type": "code",
   "execution_count": null,
   "id": "irish-oasis",
   "metadata": {},
   "outputs": [],
   "source": []
  },
  {
   "cell_type": "code",
   "execution_count": null,
   "id": "missing-touch",
   "metadata": {},
   "outputs": [],
   "source": []
  },
  {
   "cell_type": "markdown",
   "id": "ancient-zealand",
   "metadata": {},
   "source": [
    "## Subset Toxoplasma infection assay only"
   ]
  },
  {
   "cell_type": "code",
   "execution_count": 26,
   "id": "favorite-intent",
   "metadata": {},
   "outputs": [
    {
     "name": "stderr",
     "output_type": "stream",
     "text": [
      "/opt/conda/lib/python3.8/site-packages/pandas/core/arrays/categorical.py:2487: FutureWarning: The `inplace` parameter in pandas.Categorical.remove_unused_categories is deprecated and will be removed in a future version.\n",
      "  res = method(*args, **kwargs)\n"
     ]
    }
   ],
   "source": [
    "#taking all 2 donors first for DEGs\n",
    "adata_subset= adata[[ i in ['Pla_HDBR13007976', 'Pla_HDBR13007977',\n",
    "                            'Pla_HDBR13798225', 'Pla_HDBR13798226'] \n",
    "                     for i in adata.obs['sample'] ]]"
   ]
  },
  {
   "cell_type": "markdown",
   "id": "bacterial-mambo",
   "metadata": {},
   "source": [
    "#### Subset 24h"
   ]
  },
  {
   "cell_type": "code",
   "execution_count": 33,
   "id": "bulgarian-hearing",
   "metadata": {},
   "outputs": [
    {
     "name": "stderr",
     "output_type": "stream",
     "text": [
      "/opt/conda/lib/python3.8/site-packages/pandas/core/arrays/categorical.py:2487: FutureWarning: The `inplace` parameter in pandas.Categorical.remove_unused_categories is deprecated and will be removed in a future version.\n",
      "  res = method(*args, **kwargs)\n"
     ]
    }
   ],
   "source": [
    "adata_d1 =adata_subset[[ i in ['48h'] for i in adata_subset.obs.hpi ]]\n",
    "adata_d1.write ('../results/scVI/toxoplasma_singleCell_48h.h5ad')"
   ]
  },
  {
   "cell_type": "code",
   "execution_count": 34,
   "id": "bound-breed",
   "metadata": {
    "tags": []
   },
   "outputs": [
    {
     "data": {
      "text/html": [
       "<div>\n",
       "<style scoped>\n",
       "    .dataframe tbody tr th:only-of-type {\n",
       "        vertical-align: middle;\n",
       "    }\n",
       "\n",
       "    .dataframe tbody tr th {\n",
       "        vertical-align: top;\n",
       "    }\n",
       "\n",
       "    .dataframe thead th {\n",
       "        text-align: right;\n",
       "    }\n",
       "</style>\n",
       "<table border=\"1\" class=\"dataframe\">\n",
       "  <thead>\n",
       "    <tr style=\"text-align: right;\">\n",
       "      <th></th>\n",
       "      <th>counts</th>\n",
       "      <th>freqs</th>\n",
       "    </tr>\n",
       "    <tr>\n",
       "      <th>categories</th>\n",
       "      <th></th>\n",
       "      <th></th>\n",
       "    </tr>\n",
       "  </thead>\n",
       "  <tbody>\n",
       "    <tr>\n",
       "      <th>Tg_48h</th>\n",
       "      <td>11292</td>\n",
       "      <td>0.461293</td>\n",
       "    </tr>\n",
       "    <tr>\n",
       "      <th>UI_Tg_48h</th>\n",
       "      <td>13187</td>\n",
       "      <td>0.538707</td>\n",
       "    </tr>\n",
       "  </tbody>\n",
       "</table>\n",
       "</div>"
      ],
      "text/plain": [
       "            counts     freqs\n",
       "categories                  \n",
       "Tg_48h       11292  0.461293\n",
       "UI_Tg_48h    13187  0.538707"
      ]
     },
     "execution_count": 34,
     "metadata": {},
     "output_type": "execute_result"
    }
   ],
   "source": [
    "adata_d1.obs['stage_perInfection'].values.describe()"
   ]
  },
  {
   "cell_type": "code",
   "execution_count": 35,
   "id": "agricultural-canvas",
   "metadata": {},
   "outputs": [
    {
     "data": {
      "text/html": [
       "<div>\n",
       "<style scoped>\n",
       "    .dataframe tbody tr th:only-of-type {\n",
       "        vertical-align: middle;\n",
       "    }\n",
       "\n",
       "    .dataframe tbody tr th {\n",
       "        vertical-align: top;\n",
       "    }\n",
       "\n",
       "    .dataframe thead th {\n",
       "        text-align: right;\n",
       "    }\n",
       "</style>\n",
       "<table border=\"1\" class=\"dataframe\">\n",
       "  <thead>\n",
       "    <tr style=\"text-align: right;\">\n",
       "      <th></th>\n",
       "      <th>counts</th>\n",
       "      <th>freqs</th>\n",
       "    </tr>\n",
       "    <tr>\n",
       "      <th>categories</th>\n",
       "      <th></th>\n",
       "      <th></th>\n",
       "    </tr>\n",
       "  </thead>\n",
       "  <tbody>\n",
       "    <tr>\n",
       "      <th>scDonor_Tg1</th>\n",
       "      <td>4985</td>\n",
       "      <td>0.203644</td>\n",
       "    </tr>\n",
       "    <tr>\n",
       "      <th>scDonor_Tg2</th>\n",
       "      <td>5200</td>\n",
       "      <td>0.212427</td>\n",
       "    </tr>\n",
       "    <tr>\n",
       "      <th>scDonor_Tg3</th>\n",
       "      <td>6474</td>\n",
       "      <td>0.264472</td>\n",
       "    </tr>\n",
       "    <tr>\n",
       "      <th>scDonor_Tg4</th>\n",
       "      <td>7820</td>\n",
       "      <td>0.319457</td>\n",
       "    </tr>\n",
       "  </tbody>\n",
       "</table>\n",
       "</div>"
      ],
      "text/plain": [
       "             counts     freqs\n",
       "categories                   \n",
       "scDonor_Tg1    4985  0.203644\n",
       "scDonor_Tg2    5200  0.212427\n",
       "scDonor_Tg3    6474  0.264472\n",
       "scDonor_Tg4    7820  0.319457"
      ]
     },
     "execution_count": 35,
     "metadata": {},
     "output_type": "execute_result"
    }
   ],
   "source": [
    "adata_d1.obs['donor_id'].values.describe()"
   ]
  },
  {
   "cell_type": "code",
   "execution_count": null,
   "id": "cleared-magic",
   "metadata": {},
   "outputs": [],
   "source": []
  },
  {
   "cell_type": "code",
   "execution_count": null,
   "id": "numerous-nancy",
   "metadata": {},
   "outputs": [],
   "source": []
  },
  {
   "cell_type": "code",
   "execution_count": 40,
   "id": "assisted-prediction",
   "metadata": {},
   "outputs": [
    {
     "data": {
      "text/plain": [
       "34"
      ]
     },
     "execution_count": 40,
     "metadata": {},
     "output_type": "execute_result"
    }
   ],
   "source": [
    "gc.collect()"
   ]
  },
  {
   "cell_type": "code",
   "execution_count": 39,
   "id": "cross-source",
   "metadata": {},
   "outputs": [],
   "source": [
    "#code to remove un-needed columns in obs. Helps to speed up the operability with R\n",
    "idx = ['sample', 'hpi', 'stage', '_scvi_labels', 'Tg_infected', 'leiden_scvi', 'souporcell_MFgenotype', 'MFgenotype', 'cell_type_broad','scrublet_score', 'scrublet_cluster_score', 'zscore', \n",
    "       'bh_pval', 'bonf_pval',  'percent_mito', 'n_counts', 'sample_barcode', 'assignment_SoC',\n",
    "     'celltype_predictions', 'probabilities', 'scrublet_doublet', 'S_score', 'G2M_score', 'phase', 'n_genes', '_scvi_batch',\n",
    "       '_scvi_local_l_mean', '_scvi_local_l_var',  'n_genes_by_counts', 'total_counts', 'total_counts_hs', 'pct_counts_hs', \n",
    "       'total_counts_tg', 'pct_counts_tg', 'Tg_intracellular', 'cell_type_2022']\n",
    "for i in idx:\n",
    "    try:\n",
    "        del adata_d1.obs[i]\n",
    "    except:\n",
    "        continue\n",
    "    \n",
    "adata_d1.obs['infection'] = adata_d1.obs['infection'].astype(str)\n",
    "\n",
    "del adata_d1.obsm\n",
    "del adata_d1.obsp\n",
    "del adata_d1.layers\n",
    "del adata_d1.uns"
   ]
  },
  {
   "cell_type": "code",
   "execution_count": 41,
   "id": "informed-paper",
   "metadata": {},
   "outputs": [],
   "source": [
    "adata_d1.X = adata_d1.X.toarray()"
   ]
  },
  {
   "cell_type": "code",
   "execution_count": 42,
   "id": "trying-maria",
   "metadata": {},
   "outputs": [],
   "source": [
    "%%R -i adata_d1\n",
    "\n",
    "library(Seurat)\n",
    "so = as.Seurat(adata_d1, counts = \"X\", data = \"X\")\n",
    "\n",
    "saveRDS(so, file = \"../results/scVI/toxoplasma_singleCell_48h.rds\")"
   ]
  },
  {
   "cell_type": "code",
   "execution_count": null,
   "id": "pleased-empire",
   "metadata": {},
   "outputs": [],
   "source": []
  }
 ],
 "metadata": {
  "kernelspec": {
   "display_name": "Python 3",
   "language": "python",
   "name": "python3"
  },
  "language_info": {
   "codemirror_mode": {
    "name": "ipython",
    "version": 3
   },
   "file_extension": ".py",
   "mimetype": "text/x-python",
   "name": "python",
   "nbconvert_exporter": "python",
   "pygments_lexer": "ipython3",
   "version": "3.8.8"
  }
 },
 "nbformat": 4,
 "nbformat_minor": 5
}
