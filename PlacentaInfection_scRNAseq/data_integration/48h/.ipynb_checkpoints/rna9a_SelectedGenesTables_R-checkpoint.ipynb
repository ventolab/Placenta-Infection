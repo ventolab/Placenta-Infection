{
 "cells": [
  {
   "cell_type": "markdown",
   "id": "existing-neighborhood",
   "metadata": {},
   "source": [
    "## title: \"plotsForFigures.RmD\"\n",
    "## date: '2023-02-16'\n"
   ]
  },
  {
   "cell_type": "code",
   "execution_count": null,
   "id": "communist-bikini",
   "metadata": {},
   "outputs": [],
   "source": []
  },
  {
   "cell_type": "code",
   "execution_count": null,
   "id": "experimental-carter",
   "metadata": {},
   "outputs": [],
   "source": []
  },
  {
   "cell_type": "code",
   "execution_count": 1,
   "id": "backed-arcade",
   "metadata": {},
   "outputs": [],
   "source": [
    "averagePvalLog2FC <- function(files, columns, genes, outdir, suffix){\n",
    "    # files= DE tables to read. Must contain the columns 'd1_p_val_adj', 'd2_p_val_adj',\n",
    "    #  'd1_avg_log2FC', 'd2_avg_log2FC'\n",
    "    \n",
    "    # columns= column names, each column must correspond to file in the same position\n",
    "    \n",
    "    # outdir= output directory\n",
    "    # suffix= suffix to add to the file names.\n",
    "    #-------------------------------------------\n",
    "    \n",
    "    \n",
    "    ## Building the OUTPUT dataframes\n",
    "    ##\n",
    "\n",
    "    #dimensions= columns * genes\n",
    "    pval= matrix(data = rep(x = NA,(length(columns)*length(genes))),ncol = length(columns) )\n",
    "    rownames(pval)=genes\n",
    "    colnames(pval)=columns\n",
    "\n",
    "    #Same structure for the log2FC datafram\n",
    "    log2FC= pval\n",
    "    \n",
    "    ## Filling up the empty data frames\n",
    "    ##\n",
    "    for(i in 1:length(columns)){\n",
    "\n",
    "        #column and file names that MUST be in the same position in both vectors\n",
    "\n",
    "        file= files[i] #DE file to read\n",
    "        column=columns[i] #column to fill\n",
    "\n",
    "        #reading DE dataframe\n",
    "        df= read.csv(file, sep = '\\t' )\n",
    "        rownames(df)=df[,1] #rownames (genes) and deleting extra column with the rownames\n",
    "        df[,1]=NULL\n",
    "\n",
    "\n",
    "        ## Filling up the column, gene by gene\n",
    "        ##\n",
    "        for(gene in genes){  \n",
    "            #checking if a gene is in the DE dataframe \n",
    "            if (gene%in%rownames(df)){\n",
    "                #Mean p_adj_val from both donors\n",
    "                pval[gene,column]= mean(c(df[gene,'d1_p_val_adj'],df[gene,'d2_p_val_adj']))\n",
    "                log2FC[gene,column]= mean(c(df[gene,'d1_avg_log2FC'],df[gene,'d2_avg_log2FC']))      \n",
    "            }\n",
    "            else{\n",
    "                #gene is not in DE dataframe, place a pvalue=1 and log2FC=0\n",
    "                pval[gene,column]= 1\n",
    "                log2FC[gene,column]=0\n",
    "            }\n",
    "        }\n",
    "    }\n",
    "\n",
    "    if(missing(suffix)){\n",
    "        file_name= paste0(outdir,'padj_selectedGenes.csv', collapse = '')\n",
    "        write.csv(pval, file=file_name, quote=FALSE, row.names=TRUE)\n",
    "        \n",
    "        file_name= paste0(outdir,'log2FC_selectedGenes.csv', collapse = '')\n",
    "        write.csv(log2FC, file=file_name, quote=FALSE, row.names=TRUE)\n",
    "    }\n",
    "    else{\n",
    "        file_name= paste0(outdir,'padj_selectedGenes',suffix, collapse = '')\n",
    "        write.csv(pval,file=file_name, quote=FALSE, row.names=TRUE)\n",
    "        \n",
    "        file_name= paste0(outdir,'log2FC_selectedGenes',suffix, collapse = '')\n",
    "        write.csv(log2FC,file=file_name, quote=FALSE, row.names=TRUE)\n",
    "    }\n",
    "  \n",
    "    \n",
    "}\n"
   ]
  },
  {
   "cell_type": "code",
   "execution_count": 2,
   "id": "universal-slope",
   "metadata": {},
   "outputs": [],
   "source": [
    "recoverPvalLog2FC <- function(files, columns, genes, outdir, suffix){\n",
    "    # files= DE tables to read. Must contain the columns 'd1_p_val_adj', 'd2_p_val_adj',\n",
    "    #  'd1_avg_log2FC', 'd2_avg_log2FC'\n",
    "    \n",
    "    # columns= column names, each column must correspond to file in the same position\n",
    "    \n",
    "    # outdir= output directory\n",
    "    # suffix= suffix to add to the file names.\n",
    "    #-------------------------------------------\n",
    "    \n",
    "    \n",
    "    ## Building the OUTPUT dataframes\n",
    "    ##\n",
    "\n",
    "    #dimensions= columns * genes\n",
    "    pval= matrix(data = rep(x = NA,(length(columns)*length(genes))),ncol = length(columns) )\n",
    "    rownames(pval)=genes\n",
    "    colnames(pval)=columns\n",
    "\n",
    "    #Same structure for the log2FC datafram\n",
    "    log2FC= pval\n",
    "    \n",
    "    ## Filling up the empty data frames\n",
    "    ##\n",
    "    for(i in 1:length(columns)){\n",
    "\n",
    "        #column and file names that MUST be in the same position in both vectors\n",
    "\n",
    "        file= files[i] #DE file to read\n",
    "        column=columns[i] #column to fill\n",
    "\n",
    "        #reading DE dataframe\n",
    "        df= read.csv(file, sep = '\\t' )\n",
    "        rownames(df)=df[,1] #rownames (genes) and deleting extra column with the rownames\n",
    "        df[,1]=NULL\n",
    "\n",
    "\n",
    "        ## Filling up the column, gene by gene\n",
    "        ##\n",
    "        for(gene in genes){  \n",
    "            #checking if a gene is in the DE dataframe \n",
    "            if (gene%in%rownames(df)){\n",
    "                \n",
    "                ## checking if it belongs to Uninfected samples. if so, value set as negative\n",
    "                if(grepl('UI_', df[gene,'cluster'])){\n",
    "                    # p_adj_val and log2FC values from both donors\n",
    "                    pval[gene,column]= df[gene,'p_val_adj']\n",
    "                    log2FC[gene,column]= - df[gene,'avg_log2FC']   \n",
    "                }\n",
    "                else{\n",
    "                    # p_adj_val and log2FC values from both donors\n",
    "                    pval[gene,column]= df[gene,'p_val_adj']\n",
    "                    log2FC[gene,column]= df[gene,'avg_log2FC']   \n",
    "                }\n",
    "   \n",
    "            }\n",
    "            else{\n",
    "                #gene is not in DE dataframe, place a pvalue=1 and log2FC=0\n",
    "                pval[gene,column]= 1\n",
    "                log2FC[gene,column]=0\n",
    "            }\n",
    "        }\n",
    "    }\n",
    "\n",
    "    if(missing(suffix)){\n",
    "        file_name= paste0(outdir,'padj_selectedGenes.csv', collapse = '')\n",
    "        write.csv(pval, file=file_name, quote=FALSE, row.names=TRUE)\n",
    "        \n",
    "        file_name= paste0(outdir,'log2FC_selectedGenes.csv', collapse = '')\n",
    "        write.csv(log2FC, file=file_name, quote=FALSE, row.names=TRUE)\n",
    "    }\n",
    "    else{\n",
    "        file_name= paste0(outdir,'padj_selectedGenes',suffix, collapse = '')\n",
    "        write.csv(pval,file=file_name, quote=FALSE, row.names=TRUE)\n",
    "        \n",
    "        file_name= paste0(outdir,'log2FC_selectedGenes',suffix, collapse = '')\n",
    "        write.csv(log2FC,file=file_name, quote=FALSE, row.names=TRUE)\n",
    "    }\n",
    "  \n",
    "    \n",
    "}\n"
   ]
  },
  {
   "cell_type": "code",
   "execution_count": null,
   "id": "popular-reputation",
   "metadata": {},
   "outputs": [],
   "source": []
  },
  {
   "cell_type": "code",
   "execution_count": 3,
   "id": "formed-coordinate",
   "metadata": {},
   "outputs": [],
   "source": [
    "files= c('../Compute_SCell_DEGs_immune_explants/results/SC_Immune_MAL_d1/BIG_DEGs_SC_MAL_d1_HB.tsv',\n",
    "         #'../Compute_SCell_DEGs_immune_explants/results/SC_Immune_MAL_d1/BIG_DEGs_SC_MAL_d1_HBinf.tsv',\n",
    "         '../Compute_SCell_DEGs_immune_explants/results/SC_Immune_MAL_d1/BIG_DEGs_SC_MAL_d1_PAMM1.tsv',\n",
    "         \n",
    "         '../Compute_SCell_DEGs_immune_explants/results/SC_Immune_LIS_d1/BIG_DEGs_SC_LIS_d1_HB.tsv',\n",
    "         #'../Compute_SCell_DEGs_immune_explants/results/SC_Immune_LIS_d1/BIG_DEGs_SC_LIS_d1_HBinf.tsv',\n",
    "         '../Compute_SCell_DEGs_immune_explants/results/SC_Immune_LIS_d1/BIG_DEGs_SC_LIS_d1_PAMM1.tsv',\n",
    "         \n",
    "         '../Compute_SCell_DEGs_immune_explants/results/SC_Immune_TOX_d1/BIG_DEGs_SC_TOX_d1_HB.tsv',\n",
    "         #'../Compute_SCell_DEGs_immune_explants/results/SC_Immune_TOX_d1/BIG_DEGs_SC_TOX_d1_HBinf.tsv',\n",
    "         '../Compute_SCell_DEGs_immune_explants/results/SC_Immune_TOX_d1/BIG_DEGs_SC_TOX_d1_PAMM1.tsv'\n",
    "        )\n",
    "\n",
    "\n",
    "columns=c(\"PF_HB\",\"PF_PAMM1\",#\"PF_HBinf\",\n",
    "          \"LM_HB\",\"LM_PAMM1\",#\"LM_HBinf\",\n",
    "          \"TG_HB\",\"TG_PAMM1\")#,\"TG_HBinf\",)\n"
   ]
  },
  {
   "cell_type": "code",
   "execution_count": null,
   "id": "worldwide-guard",
   "metadata": {},
   "outputs": [],
   "source": []
  },
  {
   "cell_type": "markdown",
   "id": "photographic-stand",
   "metadata": {},
   "source": [
    "# Inflammation genes"
   ]
  },
  {
   "cell_type": "code",
   "execution_count": 6,
   "id": "recreational-wedding",
   "metadata": {},
   "outputs": [],
   "source": [
    "genes_input= c(\"IL1A\",\"IL1B\",\"SPP1\",\"MIF\",\"PTGS2\",\"CCL2\",\"CCL3L1\",\"CCL5\",\"CCL20\",\"CXCL1\",\"CXCL2\",\"CXCL3\",\"CXCL8\",\n",
    "               \"CXCR4\",\"TNFAIP6\",\"RAC2\")\n",
    "\n",
    "recoverPvalLog2FC(files, columns, genes=genes_input, outdir='../results/tables/', suffix = '_Inflammation.csv')"
   ]
  },
  {
   "cell_type": "code",
   "execution_count": 7,
   "id": "supported-secret",
   "metadata": {},
   "outputs": [],
   "source": [
    "genes_input= c(\"IL1A\",\"IL1B\",\"SPP1\",\"MIF\",\"PTGS2\",\"CCL2\",\"CCL3L1\",\"CCL5\",\"CCL20\",\"CXCL1\",\"CXCL2\",\"CXCL3\",\"CXCL8\",\n",
    "               \"CXCR4\",\"TNFAIP6\",\"RAC2\",\"BNIP3\",\"FAM162A\",\"HILPDA\",\"SOD1\",\"VEGFA\",\"ANGPTL4\")\n",
    "\n",
    "recoverPvalLog2FC(files, columns, genes=genes_input, outdir='../results/tables/', suffix = '_InflammationChemotaxis.csv')"
   ]
  },
  {
   "cell_type": "code",
   "execution_count": 6,
   "id": "answering-indonesia",
   "metadata": {
    "tags": []
   },
   "outputs": [],
   "source": [
    "genes_input= c(\"TNF\",'IL6',\"IL1B\",\"CSF1\",\"CSF2\", #Inflammation\n",
    "               #Growth factors\n",
    "              \"EREG\", \"TGFB\", \"PDGF\", \"FGF2\",\"HFG\",\n",
    "               #Antigen presentation\n",
    "               \"CTSL\",\"ICOSLG\",\"CD40\",\"CD80\",\"CD86\",\"HLA-DRA\",\"HLA-DRB1\",\"HLA-DQA1\",\"HLA-DQB1\"\n",
    "              )\n",
    "\n",
    "recoverPvalLog2FC(files, columns, genes=genes_input, outdir='../results/tables/', suffix = '_InflamGrowthAntigenMacrophages.csv')"
   ]
  },
  {
   "cell_type": "code",
   "execution_count": 12,
   "id": "expressed-stanford",
   "metadata": {},
   "outputs": [],
   "source": [
    "genes_input= c(\"IL1B\",'IL6', \"TNF\"#Inflammation\n",
    "              )\n",
    "\n",
    "recoverPvalLog2FC(files, columns, genes=genes_input, outdir='../results/tables/', suffix = '_InflammationMacrophages.csv')"
   ]
  },
  {
   "cell_type": "markdown",
   "id": "sublime-insulin",
   "metadata": {},
   "source": [
    "# IFN genes"
   ]
  },
  {
   "cell_type": "code",
   "execution_count": 12,
   "id": "international-glenn",
   "metadata": {},
   "outputs": [],
   "source": [
    "genes_input= c(\"IFI6\",\"IFI44\",\"IFIT1\",\"IFIT3\",\"MX1\",\"OAS1\")\n",
    "\n",
    "recoverPvalLog2FC(files, columns, genes=genes_input, outdir='../results/tables/', suffix = '_InterferonMacrophages.csv')"
   ]
  },
  {
   "cell_type": "code",
   "execution_count": null,
   "id": "transsexual-equipment",
   "metadata": {},
   "outputs": [],
   "source": []
  },
  {
   "cell_type": "markdown",
   "id": "perfect-uniform",
   "metadata": {},
   "source": [
    "# Ox Phos genes high in Toxoplasma"
   ]
  },
  {
   "cell_type": "code",
   "execution_count": 14,
   "id": "available-bicycle",
   "metadata": {},
   "outputs": [],
   "source": [
    "genes_input= c(\"MT-CYB\",\"MT-ND1\",\"MT-ND2\",\"MT-ND4\") \n",
    "recoverPvalLog2FC(files, columns, genes=genes_input, outdir='../results/tables/', suffix = '_OxPhosToxoMacrophages.csv')"
   ]
  },
  {
   "cell_type": "code",
   "execution_count": null,
   "id": "independent-canada",
   "metadata": {},
   "outputs": [],
   "source": []
  },
  {
   "cell_type": "markdown",
   "id": "weird-encoding",
   "metadata": {},
   "source": [
    "# Vacuole and NADH"
   ]
  },
  {
   "cell_type": "code",
   "execution_count": 27,
   "id": "specialized-confidentiality",
   "metadata": {},
   "outputs": [],
   "source": [
    "genes_input= c(\"MT-ND1\",\"MT-ND2\",\"MT-ND4\")\n",
    "recoverPvalLog2FC(files, columns, genes=genes_input, outdir='../results/tables/', suffix = '_VacuoleMitoMacrophages.csv')"
   ]
  },
  {
   "cell_type": "code",
   "execution_count": null,
   "id": "interpreted-parker",
   "metadata": {},
   "outputs": [],
   "source": []
  },
  {
   "cell_type": "markdown",
   "id": "democratic-demand",
   "metadata": {},
   "source": [
    "# Phagocytosis genes"
   ]
  },
  {
   "cell_type": "code",
   "execution_count": 34,
   "id": "coordinate-porcelain",
   "metadata": {},
   "outputs": [],
   "source": [
    "genes_input= c(\"FCGR1A\",\"FCGR2A\", \"FCGR2B\", \"FCGR3A\", #Fc gamma receptors\n",
    "\"CR1\",\"CR3\",\"CR4\", #Complement receptors\n",
    "\"LAMP1\", \"LAMP2\", #phagosome maturation\n",
    "\"ELMO1\",\"MERTK\",\n",
    "\"MRC1\",\"CD163\",\n",
    "\"RAB1A\",\"RAB7A\",\"EXOC6\") #vesicle transport/phagosome maturation\n",
    "\n",
    "recoverPvalLog2FC(files, columns, genes=genes_input, outdir='../results/tables/', suffix = '_PhagocytosisMacrophages.csv')"
   ]
  },
  {
   "cell_type": "code",
   "execution_count": null,
   "id": "coupled-hardware",
   "metadata": {},
   "outputs": [],
   "source": []
  },
  {
   "cell_type": "markdown",
   "id": "marine-biodiversity",
   "metadata": {},
   "source": [
    "# Antigen presentation genes"
   ]
  },
  {
   "cell_type": "code",
   "execution_count": 7,
   "id": "czech-nashville",
   "metadata": {},
   "outputs": [],
   "source": [
    "genes_input= c(\"CD74\",\"CD40\",\"CTSL\",\n",
    "\"TAP1\",\"TAP2\", #necessary for the transport of peptides for loading onto MHC class I molecules.\n",
    "#MHC class II molecules\n",
    "\"HLA-DPA1\",\"HLA-DPB1\",\n",
    "\"HLA-DQA1\",\"HLA-DQB1\",\n",
    "\"HLA-DRB1\",\"HLA-DRB3\",\"HLA-DRB4\", \"HLA-DRB5\",\n",
    "\"HLA-DMA\",\"HLA-DMB\")\n",
    "\n",
    "\n",
    "recoverPvalLog2FC(files, columns, genes=genes_input, outdir='../results/tables/', suffix = '_AntiPresentMacrophagesAll.csv')"
   ]
  },
  {
   "cell_type": "code",
   "execution_count": 9,
   "id": "handled-colonial",
   "metadata": {},
   "outputs": [],
   "source": [
    "genes_input= c(\"CTSL\",\"CD40\",\"HLA-DRA\",\"HLA-DRB1\",\"HLA-DQA1\",\"HLA-DQB1\")\n",
    "\n",
    "recoverPvalLog2FC(files, columns, genes=genes_input, outdir='../results/tables/', suffix = '_AntiPresentMacrophages.csv')"
   ]
  },
  {
   "cell_type": "markdown",
   "id": "cubic-queensland",
   "metadata": {},
   "source": [
    "# Wound healing genes"
   ]
  },
  {
   "cell_type": "code",
   "execution_count": 9,
   "id": "proved-richardson",
   "metadata": {},
   "outputs": [],
   "source": [
    "genes_input= c(\"TFPI2\",\"TIMP1\",\"ADORA2A\",\"FLNA\",\"LMAN1\",\"B4GALT1\",\"THBD\",\"HBEGF\",\"WNT5A\",\"IL33\",\n",
    "\"ITGB1\",\"IL10\",\"CLEC1A\",\"PPARD\", \"MMP9\", \"CTSB\")\n",
    "\n",
    "\n",
    "\n",
    "recoverPvalLog2FC(files, columns, genes=genes_input, outdir='../results/tables/', suffix = '_woundHealingMacrophages.csv')"
   ]
  },
  {
   "cell_type": "code",
   "execution_count": null,
   "id": "material-norfolk",
   "metadata": {},
   "outputs": [],
   "source": []
  },
  {
   "cell_type": "markdown",
   "id": "everyday-discount",
   "metadata": {},
   "source": [
    "# Proliferation genes"
   ]
  },
  {
   "cell_type": "code",
   "execution_count": 14,
   "id": "informed-testament",
   "metadata": {},
   "outputs": [],
   "source": [
    "genes_input= c(\"CDC73\",\"CCND1\")\n",
    "\n",
    "recoverPvalLog2FC(files, columns, genes=genes_input, outdir='../results/tables/', suffix = '_prolifMacrophages.csv')"
   ]
  },
  {
   "cell_type": "code",
   "execution_count": null,
   "id": "weekly-still",
   "metadata": {},
   "outputs": [],
   "source": []
  },
  {
   "cell_type": "markdown",
   "id": "cloudy-canberra",
   "metadata": {},
   "source": [
    "# Glycolisis genes"
   ]
  },
  {
   "cell_type": "code",
   "execution_count": 7,
   "id": "fundamental-peripheral",
   "metadata": {},
   "outputs": [],
   "source": [
    "genes_input= c(\"ENO1\",\"ENO2\",\"GAPDH\",\"GPI\",\"LDHA\",\"TPI1\",\"SLC2A3\")\n",
    "\n",
    "recoverPvalLog2FC(files, columns, genes=genes_input, outdir='../results/tables/', suffix = '_GlycolisisMacrophages.csv')"
   ]
  },
  {
   "cell_type": "code",
   "execution_count": null,
   "id": "applied-individual",
   "metadata": {},
   "outputs": [],
   "source": []
  },
  {
   "cell_type": "markdown",
   "id": "hairy-preparation",
   "metadata": {},
   "source": [
    "# Ox Phos genes"
   ]
  },
  {
   "cell_type": "code",
   "execution_count": 6,
   "id": "negative-sellers",
   "metadata": {},
   "outputs": [],
   "source": [
    "genes_input= c(\"MT-CYB\", # Cytochrome B\n",
    "# Cytochrome c oxidase subunits\n",
    "\"MT-CO1\",\"MT-CO2\",\"MT-CO3\",\n",
    "\"COX5A\",\n",
    "\"COX6A1\",\"COX6C\",\n",
    "\"COX7A2\",\n",
    "\"COX8A\",\n",
    "\"COX10\", \n",
    "#ATP synthase\n",
    "\"ATP5F1A\",\"ATP5F2\",\n",
    "\"ATP5F1B\",\"ATPAF1\",\n",
    "\"ATP5F1C\",\n",
    "\"ATP5F1E\",\"ATP5PB\",\n",
    "\"MT-ATP6\",\n",
    "\"NDUFS1\")#NADH-ubiquinone oxidoreductase\n",
    "\n",
    "recoverPvalLog2FC(files, columns, genes=genes_input, outdir='../results/tables/', suffix = '_OxPhosMacrophages.csv')\n"
   ]
  },
  {
   "cell_type": "code",
   "execution_count": null,
   "id": "appreciated-court",
   "metadata": {},
   "outputs": [],
   "source": []
  },
  {
   "cell_type": "code",
   "execution_count": null,
   "id": "hearing-creation",
   "metadata": {},
   "outputs": [],
   "source": []
  },
  {
   "cell_type": "markdown",
   "id": "through-bradley",
   "metadata": {},
   "source": [
    "# Macrophages interactions"
   ]
  },
  {
   "cell_type": "raw",
   "id": "bizarre-stuart",
   "metadata": {},
   "source": [
    "\n",
    "IL1R-IL1RN (HB) (Inflammation supression) 'IL1R1','IL1RAP'\n",
    "IL1-receptor-IL1B(HB)/IL1A(HB) (HB secrete IL1)\n",
    "\n",
    "LGALS3-MERTK (HB) (Eat-me signal by VCT)\n",
    "\n",
    "\n",
    "CXCL14-CXCR4 (HB) (F chemotaxis to HBs)\n",
    "IL6-receptor-IL6 (HB sense IL6) 'IL6R','IL6ST' -IL6\n",
    "\n",
    "CCL5-CCR1 (HB to F pro inflammation. CCL5 up in HB)\n",
    "CCR1-CCL13 (HB-HB chemotaxis. CCL13 up in HB)\n",
    "CCL3-CCR3 (CCL3 in HB)\n",
    "CCL4-CCR5 (CCL4 in HB)\n",
    "\n",
    "ANXA1-FPR1 (ANXA1 in HB)\n",
    "PlexinA1-complex3-SEMA3A (NRP1 up in HB, PLXNA1, SEMA3A. IL-10 signalling)\n",
    "\n",
    "\n",
    "NR3C1-CXCL8 (CXCL8 up, PAMM1 express both)\n",
    "IL20-receptor-Type-I-IL24  ('IL20RA', 'IL20RB'. Induction of VCT's innate  defence. PAMM1 express IL24)\n",
    "\n",
    "\n",
    "EREG-EGFR (PAMM1 express EREG)\n",
    "\n",
    "\n",
    "IL7-receptor-IL7 (IL7-receptor= IL7R, IL2RG. PAMM1 sensing IL7)\n",
    "CCL5-CCR3 (CCL5 in PAMM1)\n",
    "C3-C5AR2 (Both expressed in PAMM1, C3 up)\n",
    "C3-C3AR1 (Both expressed in PAMM1, C3 up)\n",
    "\n"
   ]
  },
  {
   "cell_type": "code",
   "execution_count": null,
   "id": "danish-cherry",
   "metadata": {},
   "outputs": [],
   "source": [
    "PLAU-PLAUR(HB) (HB sense PLAU)\n",
    "MIF-EGFR (PAMM1 express MIF)\n",
    "MIF-TNFRSF14 (PAMM1 sense MIF)"
   ]
  },
  {
   "cell_type": "code",
   "execution_count": 8,
   "id": "tested-wilson",
   "metadata": {},
   "outputs": [],
   "source": [
    "genes_input= c('CXCR4','EREG','IL6R','IL6ST',\n",
    "               'CCL5','CXCL8','IL24',\n",
    "               'IL1RN','IL1B','IL7R', 'IL2RG', 'C3',\n",
    "               'CCL3',\n",
    "               'CCL4','CCL13','MERTK','ANXA1','NRP1')\n",
    "\n",
    "\n",
    "recoverPvalLog2FC(files, columns, genes=genes_input, outdir='../results/tables/', suffix = '_Macrophages.csv')"
   ]
  },
  {
   "cell_type": "code",
   "execution_count": 33,
   "id": "twelve-sharp",
   "metadata": {},
   "outputs": [],
   "source": [
    "genes_input= c('CCL3','IL24','EREG','IGF1')\n",
    "\n",
    "recoverPvalLog2FC(files, columns, genes=genes_input, outdir='../results/tables/', suffix = '_MacrophagesPanel1.csv')"
   ]
  },
  {
   "cell_type": "code",
   "execution_count": 32,
   "id": "dynamic-letters",
   "metadata": {},
   "outputs": [],
   "source": [
    "genes_input= c('CCL4','CCL5','CCL13','CXCL8','IL1A','IL1B','CXCR4','IL6R','IL6ST')\n",
    "\n",
    "recoverPvalLog2FC(files, columns, genes=genes_input, outdir='../results/tables/', suffix = '_MacrophagesPanel2.csv')"
   ]
  },
  {
   "cell_type": "code",
   "execution_count": 30,
   "id": "alike-exclusion",
   "metadata": {},
   "outputs": [],
   "source": [
    "genes_input= c('C3','MERTK','ANXA1')\n",
    "\n",
    "recoverPvalLog2FC(files, columns, genes=genes_input, outdir='../results/tables/', suffix = '_MacrophagesPanel3.csv')"
   ]
  },
  {
   "cell_type": "code",
   "execution_count": null,
   "id": "korean-bosnia",
   "metadata": {},
   "outputs": [],
   "source": []
  },
  {
   "cell_type": "code",
   "execution_count": null,
   "id": "technological-replication",
   "metadata": {},
   "outputs": [],
   "source": []
  },
  {
   "cell_type": "markdown",
   "id": "aboriginal-maple",
   "metadata": {},
   "source": [
    "# Macrophages-Endothelial interactions"
   ]
  },
  {
   "cell_type": "raw",
   "id": "needed-constitution",
   "metadata": {},
   "source": [
    "Interactions with Endothelial\n",
    "KIT-KITLG (HB)(Endo angiogenesis, permeability)\n",
    "\n",
    "VEGFA-KDR (VEGFA up in HB inf)\n",
    "VEGFA-FLT1 (VEGFA up in HB inf)\n",
    "\n",
    "CD99-PILRA (PILRA up in HB inf)\n",
    "\n",
    "CD226-NECTIN2 (CD226 up in HB)\n",
    "LGALS9-PTPRK (LGALS9 up in HB Tg)\n",
    "\n",
    "EPHB2-EFNB1 (EPHB2 up in HB inf)\n",
    "EPHB2-EFNB2 (EPHB2 up in HB inf)\n",
    "\n",
    "\n",
    "TNF-NOTCH1 (TNF up in HBinf Tg)\n",
    "JAG1-NOTCH2 (NOTCH up in HB inf)\n",
    "\n",
    "FZD4-LRP5-WNT5A(HB) (HB secrete wnt)\n",
    "IGF1-IGF1R (IGF1 up in HB)"
   ]
  },
  {
   "cell_type": "code",
   "execution_count": 4,
   "id": "dress-demand",
   "metadata": {},
   "outputs": [],
   "source": [
    "genes_input= c('VEGFA','LGALS9','EPHB2')\n",
    "\n",
    "recoverPvalLog2FC(files, columns, genes=genes_input, outdir='../results/tables/', suffix = '_MacrophagesEndo.csv')"
   ]
  },
  {
   "cell_type": "code",
   "execution_count": null,
   "id": "fresh-valuation",
   "metadata": {},
   "outputs": [],
   "source": []
  },
  {
   "cell_type": "code",
   "execution_count": null,
   "id": "industrial-dining",
   "metadata": {},
   "outputs": [],
   "source": []
  },
  {
   "cell_type": "markdown",
   "id": "chief-health",
   "metadata": {},
   "source": [
    "# Macrophages relevant genes "
   ]
  },
  {
   "cell_type": "code",
   "execution_count": 6,
   "id": "accessible-chocolate",
   "metadata": {},
   "outputs": [],
   "source": [
    "HBC_genes= c(\"FOLR2\",\"LYVE1\",\"FCGR1A\",\"MRC1\",\"CD163\",\"HAVCR1\") \n",
    "PAMM1_genes= c(\"CD9\",\"MMP9\",\"MMP7\",\"LPL\",\"HLA-DRA\")\n",
    "\n",
    "Mos_genes= c(\"FOLR2\",\"LYVE1\", #HBC\n",
    "             \"CD9\",\"HLA-DRA\", #PAMM1\n",
    "             \"FCGR1A\",\"MRC1\",\"CD163\",\"HAVCR1\", #Phagocytosis\n",
    "             \"FGF2\", \"KDR\",  \"OPN\",#Angiogenesis\n",
    "             #\"VEGFA\", \"NRP1\",\n",
    "             \"CCL2\", \"TNF\", \"GPNMB\", #Inflammation\n",
    "             # \"CCL3\", \"CCL4\",\"CXCL8\",\n",
    "             \"TIMP1\",\"MMP1\",\"MMP7\", \"MMP9\", \"CTSB\",\"LPL\", #ECM\n",
    "             \"TLR2\", \"TLR3\", \"TLR4\", \"TLR7\", \"TLR8\" #TLR\n",
    "            )\n"
   ]
  },
  {
   "cell_type": "code",
   "execution_count": 8,
   "id": "martial-keeping",
   "metadata": {},
   "outputs": [],
   "source": [
    "recoverPvalLog2FC(files, columns, genes=HBC_genes, outdir='../results/tables/', suffix = '_HBC_relevantGenes.csv')"
   ]
  },
  {
   "cell_type": "code",
   "execution_count": 8,
   "id": "announced-martial",
   "metadata": {},
   "outputs": [],
   "source": [
    "recoverPvalLog2FC(files, columns, genes=PAMM1_genes, outdir='../results/tables/', suffix = '_PAMM1_relevantGenes.csv')"
   ]
  },
  {
   "cell_type": "code",
   "execution_count": 9,
   "id": "stretch-chocolate",
   "metadata": {},
   "outputs": [],
   "source": [
    "recoverPvalLog2FC(files, columns, genes=Mos_genes, outdir='../results/tables/', suffix = '_MOs_relevantGenes.csv')"
   ]
  },
  {
   "cell_type": "code",
   "execution_count": null,
   "id": "heard-display",
   "metadata": {},
   "outputs": [],
   "source": []
  },
  {
   "cell_type": "code",
   "execution_count": null,
   "id": "empty-confusion",
   "metadata": {},
   "outputs": [],
   "source": []
  },
  {
   "cell_type": "code",
   "execution_count": null,
   "id": "coupled-portable",
   "metadata": {},
   "outputs": [],
   "source": []
  },
  {
   "cell_type": "code",
   "execution_count": null,
   "id": "employed-maker",
   "metadata": {},
   "outputs": [],
   "source": []
  },
  {
   "cell_type": "markdown",
   "id": "direct-finnish",
   "metadata": {},
   "source": [
    "# Fibroblast genes"
   ]
  },
  {
   "cell_type": "code",
   "execution_count": 18,
   "id": "commercial-fourth",
   "metadata": {},
   "outputs": [],
   "source": [
    "filesFs= c('../Compute_SCell_DEGs_fibroblasts_explants/results/SC_fibroEndo_MAL_d1/BIG_DEGs_SC_MAL_d1_F.tsv',\n",
    "         #'../Compute_SCell_DEGs_fibroblasts_explants/results/SC_fibroEndo_MAL_d1/BIG_DEGs_SC_MAL_d1_Fsm.tsv',\n",
    "         \n",
    "         '../Compute_SCell_DEGs_fibroblasts_explants/results/SC_fibroEndo_LIS_d1/BIG_DEGs_SC_LIS_d1_F.tsv',\n",
    "         #'../Compute_SCell_DEGs_fibroblasts_explants/results/SC_fibroEndo_LIS_d1/BIG_DEGs_SC_LIS_d1_Fsm.tsv',\n",
    "         \n",
    "         '../Compute_SCell_DEGs_fibroblasts_explants/results/SC_fibroEndo_TOX_d1/BIG_DEGs_SC_TOX_d1_F.tsv'\n",
    "         #'../Compute_SCell_DEGs_fibroblasts_explants/results/SC_fibroEndo_TOX_d1/BIG_DEGs_SC_TOX_d1_Fsm.tsv'\n",
    "        )\n",
    "\n",
    "\n",
    "columns=c(\"PF_F\",#,\"PF_Fsm\",\n",
    "          \"LM_F\",#,\"LM_Fsm\",\n",
    "          \"TG_F\")#,\"TG_Fsm\")\n"
   ]
  },
  {
   "cell_type": "code",
   "execution_count": null,
   "id": "listed-coast",
   "metadata": {},
   "outputs": [],
   "source": []
  },
  {
   "cell_type": "markdown",
   "id": "false-excitement",
   "metadata": {},
   "source": [
    "## Inflammation, chemotaxis and cell death genes in Fibroblasts"
   ]
  },
  {
   "cell_type": "code",
   "execution_count": 30,
   "id": "sensitive-shell",
   "metadata": {},
   "outputs": [],
   "source": [
    "genes_input= c(\"HGF\",\"FGF2\",\n",
    "               \"IL1A\",\"IL1B\",\"IL1RAP\",\"IL6\",\"CXCL1\",\"CXCL2\",\"CXCL3\",\"CXCL8\",\"CCL3\",\"CCL3L1\",\"CCL4\",\"CCL5\",\"CCL20\",\"TNFAIP3\",\n",
    "              \"BNIP3\",\"BNIP3L\",\"BTG1\",\"DDIT3\",\"DDIT4\",\"PEA15\", #cell death )\n",
    "               \"IFI6\",\"ISG15\") #IFN\n",
    "\n",
    "recoverPvalLog2FC(filesFs, columns, genes=genes_input, outdir='../results/tables/', suffix = '_InflammationFibroblasts.csv')"
   ]
  },
  {
   "cell_type": "code",
   "execution_count": null,
   "id": "posted-bristol",
   "metadata": {},
   "outputs": [],
   "source": []
  },
  {
   "cell_type": "markdown",
   "id": "attractive-belfast",
   "metadata": {},
   "source": [
    "## Angiogenesis genes in Fibroblasts"
   ]
  },
  {
   "cell_type": "code",
   "execution_count": 31,
   "id": "heard-constitution",
   "metadata": {},
   "outputs": [],
   "source": [
    "genes_input= c(\"VEGFA\",\"VEGFC\",\"HMGA2\",\"ANGPTL4\",\"ADM\")\n",
    "\n",
    "recoverPvalLog2FC(filesFs, columns, genes=genes_input, outdir='../results/tables/', suffix = '_AngioFibroblasts.csv')"
   ]
  },
  {
   "cell_type": "code",
   "execution_count": null,
   "id": "cutting-bishop",
   "metadata": {},
   "outputs": [],
   "source": []
  },
  {
   "cell_type": "markdown",
   "id": "respiratory-detective",
   "metadata": {},
   "source": [
    "## Metabolic genes in Fibroblasts"
   ]
  },
  {
   "cell_type": "code",
   "execution_count": 20,
   "id": "sustainable-serial",
   "metadata": {},
   "outputs": [],
   "source": [
    "\n",
    "genes_input= c(\"ENO1\",\"ENO2\",\"GAPDH\",\"LDHA\",\"PGK1\",\"PKM\",\"MT-ATP6\",\"MT-CYB\",\"MT-ND1\",\"MT-ND2\",\"MT-ND4\",\"MT-ND5\")\n",
    "\n",
    "recoverPvalLog2FC(filesFs, columns, genes=genes_input, outdir='../results/tables/', suffix = '_MetabolismFibroblasts.csv')"
   ]
  },
  {
   "cell_type": "code",
   "execution_count": 16,
   "id": "brown-oxide",
   "metadata": {},
   "outputs": [],
   "source": [
    "genes_input= c(\"ENO1\",\"ENO2\",\"GAPDH\",\"GPI\",\"LDHA\",\"TPI1\",\"SLC2A3\")\n",
    "recoverPvalLog2FC(filesFs, columns, genes=genes_input, outdir='../results/tables/', suffix = '_GlycolisisFibroblasts.csv')"
   ]
  },
  {
   "cell_type": "code",
   "execution_count": 22,
   "id": "finished-horror",
   "metadata": {},
   "outputs": [],
   "source": [
    "genes_input= c(#\"MT-ND1\",\"MT-ND2\",\"MT-ND4\",\"MT-ND5\", #NAHD\n",
    "\"MT-CYB\", # Cytochrome B\n",
    "# Cytochrome c oxidase subunits\n",
    "\"MT-CO1\",\"MT-CO2\",\"MT-CO3\",\n",
    "\"COX5A\",\n",
    "\"COX6A1\",\"COX6C\",\n",
    "\"COX7A2\",\n",
    "\"COX8A\",\n",
    "\"COX10\", \n",
    "#ATP synthase\n",
    "\"ATP5F1A\",\"ATP5F2\",\n",
    "\"ATP5F1B\",\"ATPAF1\",\n",
    "\"ATP5F1C\",\n",
    "\"ATP5F1E\",\"ATP5PB\",\n",
    "\"MT-ATP6\",\n",
    "\"NDUFS1\")#NADH-ubiquinone oxidoreductase\n",
    "\n",
    "recoverPvalLog2FC(filesFs, columns, genes=genes_input, outdir='../results/tables/', suffix = '_OxPhosFibroblasts.csv')\n"
   ]
  },
  {
   "cell_type": "code",
   "execution_count": null,
   "id": "champion-somewhere",
   "metadata": {},
   "outputs": [],
   "source": []
  },
  {
   "cell_type": "code",
   "execution_count": null,
   "id": "useful-pittsburgh",
   "metadata": {},
   "outputs": [],
   "source": [
    "/nfs/team292/rh26/R_plots_heatmap_log2FC/Trophoblast_endo_cpdb/Plot_for_submission.ipynb\n",
    "/nfs/team292/rh26/Compute_cellPhoneDB/Plot_for_submission.ipynb\n"
   ]
  },
  {
   "cell_type": "markdown",
   "id": "integrated-floating",
   "metadata": {},
   "source": [
    "# Endothelial genes"
   ]
  },
  {
   "cell_type": "code",
   "execution_count": 18,
   "id": "advisory-scope",
   "metadata": {},
   "outputs": [],
   "source": [
    "filesFs= c('',\n",
    "         \n",
    "         '../Compute_SCell_DEGs_fibroblasts_explants/results/SC_fibroEndo_LIS_d1/BIG_DEGs_SC_LIS_d1_F.tsv',\n",
    "         #'../Compute_SCell_DEGs_fibroblasts_explants/results/SC_fibroEndo_LIS_d1/BIG_DEGs_SC_LIS_d1_Fsm.tsv',\n",
    "         \n",
    "         '../Compute_SCell_DEGs_fibroblasts_explants/results/SC_fibroEndo_TOX_d1/BIG_DEGs_SC_TOX_d1_F.tsv'\n",
    "         #'../Compute_SCell_DEGs_fibroblasts_explants/results/SC_fibroEndo_TOX_d1/BIG_DEGs_SC_TOX_d1_Fsm.tsv'\n",
    "        )\n",
    "\n",
    "\n",
    "columns=c(\"PF_F\",#,\"PF_Fsm\",\n",
    "          \"LM_F\",#,\"LM_Fsm\",\n",
    "          \"TG_F\")#,\"TG_Fsm\")\n"
   ]
  },
  {
   "cell_type": "code",
   "execution_count": null,
   "id": "heavy-melbourne",
   "metadata": {},
   "outputs": [],
   "source": []
  },
  {
   "cell_type": "markdown",
   "id": "adopted-aquatic",
   "metadata": {},
   "source": [
    "## Inflammation, chemotaxis and cell death genes in Fibroblasts"
   ]
  },
  {
   "cell_type": "code",
   "execution_count": 30,
   "id": "impossible-situation",
   "metadata": {},
   "outputs": [],
   "source": [
    "genes_input= c(\"HGF\",\"FGF2\",\n",
    "               \"IL1A\",\"IL1B\",\"IL1RAP\",\"IL6\",\"CXCL1\",\"CXCL2\",\"CXCL3\",\"CXCL8\",\"CCL3\",\"CCL3L1\",\"CCL4\",\"CCL5\",\"CCL20\",\"TNFAIP3\",\n",
    "              \"BNIP3\",\"BNIP3L\",\"BTG1\",\"DDIT3\",\"DDIT4\",\"PEA15\", #cell death )\n",
    "               \"IFI6\",\"ISG15\") #IFN\n",
    "\n",
    "recoverPvalLog2FC(filesFs, columns, genes=genes_input, outdir='../results/tables/', suffix = '_InflammationFibroblasts.csv')"
   ]
  },
  {
   "cell_type": "code",
   "execution_count": null,
   "id": "proved-belize",
   "metadata": {},
   "outputs": [],
   "source": []
  },
  {
   "cell_type": "code",
   "execution_count": null,
   "id": "instructional-relay",
   "metadata": {},
   "outputs": [],
   "source": []
  },
  {
   "cell_type": "code",
   "execution_count": null,
   "id": "isolated-recorder",
   "metadata": {},
   "outputs": [],
   "source": []
  },
  {
   "cell_type": "markdown",
   "id": "fantastic-mambo",
   "metadata": {},
   "source": [
    "# Trophoblasts genes"
   ]
  },
  {
   "cell_type": "code",
   "execution_count": 3,
   "id": "radical-overview",
   "metadata": {},
   "outputs": [],
   "source": [
    "filesFs= c('/nfs/team292/rh26/Compute_SCell_DEGs_trophoblast_explants/results/SC_Troph_MAL_d1/BIG_1_DEGs_SC_MAL_d1_VCT_fusing.tsv',\n",
    "           '/nfs/team292/rh26/Compute_SCell_DEGs_trophoblast_explants/results/SC_Troph_MAL_d1/BIG_2_DEGs_SC_MAL_d1_VCT.tsv',\n",
    "           \n",
    "           '/nfs/team292/rh26/Compute_SCell_DEGs_trophoblast_explants/results/SC_Troph_LIS_d1/BIG_1_DEGs_SC_LIS_d1_VCT_fusing.tsv',\n",
    "           '/nfs/team292/rh26/Compute_SCell_DEGs_trophoblast_explants/results/SC_Troph_LIS_d1/BIG_2_DEGs_SC_LIS_d1_VCT.tsv',\n",
    "\n",
    "           '/nfs/team292/rh26/Compute_SCell_DEGs_trophoblast_explants/results/SC_Troph_TOX_d1/BIG_1_DEGs_SC_TOX_d1_VCT_fusing.tsv',\n",
    "           '/nfs/team292/rh26/Compute_SCell_DEGs_trophoblast_explants/results/SC_Troph_TOX_d1/BIG_2_DEGs_SC_TOX_d1_VCT.tsv'\n",
    "        )\n",
    "\n",
    "\n",
    "\n",
    "columns=c(\"PF_VCT_fusing\",\"PF_VCT\",\n",
    "          \"LM_VCT_fusing\",\"LM_VCT\",\n",
    "          \"TG_VCT_fusing\",\"TG_VCT\")"
   ]
  },
  {
   "cell_type": "code",
   "execution_count": 9,
   "id": "nutritional-garage",
   "metadata": {},
   "outputs": [],
   "source": [
    "genes_input= c(\"CD44\",\"CD47\",\"CD99\")\n",
    "\n",
    "recoverPvalLog2FC(filesFs, columns, genes=genes_input, outdir='../results/tables/', suffix = '_adhesionTroph.csv')"
   ]
  },
  {
   "cell_type": "code",
   "execution_count": null,
   "id": "stainless-norwegian",
   "metadata": {},
   "outputs": [],
   "source": []
  },
  {
   "cell_type": "code",
   "execution_count": null,
   "id": "excess-vision",
   "metadata": {},
   "outputs": [],
   "source": []
  },
  {
   "cell_type": "code",
   "execution_count": 9,
   "id": "gross-student",
   "metadata": {},
   "outputs": [],
   "source": [
    "filesFs= c('/nfs/team292/rh26/Compute_SNuc_DEGs_trophoblast_explants/results/SN_Troph_MAL_d1/BIG_1_DEGs_SN_MAL_d1_SCT.tsv',\n",
    "           '/nfs/team292/rh26/Compute_SNuc_DEGs_trophoblast_explants/results/SN_Troph_MAL_d1/BIG_2_DEGs_SN_MAL_d1_VCT_fusing.tsv',\n",
    "           '/nfs/team292/rh26/Compute_SNuc_DEGs_trophoblast_explants/results/SN_Troph_MAL_d1/BIG_3_DEGs_SN_MAL_d1_VCT.tsv',\n",
    "           \n",
    "           '/nfs/team292/rh26/Compute_SNuc_DEGs_trophoblast_explants/results/SN_Troph_LIS_d1/BIG_1_DEGs_SN_LIS_d1_SCT.tsv',\n",
    "           '/nfs/team292/rh26/Compute_SNuc_DEGs_trophoblast_explants/results/SN_Troph_LIS_d1/BIG_2_DEGs_SN_LIS_d1_VCT_fusing.tsv',\n",
    "           '/nfs/team292/rh26/Compute_SNuc_DEGs_trophoblast_explants/results/SN_Troph_LIS_d1/BIG_3_DEGs_SN_LIS_d1_VCT.tsv'\n",
    "        )\n",
    "\n",
    "\n",
    "\n",
    "columns=c(\"PF_SCT\",\"PF_VCT_fusing\",\"PF_VCT\",\n",
    "          \"LM_SCT\",\"LM_VCT_fusing\",\"LM_VCT\")"
   ]
  },
  {
   "cell_type": "code",
   "execution_count": 10,
   "id": "sustainable-grant",
   "metadata": {},
   "outputs": [],
   "source": [
    "genes_input= c(\"CD44\",\"CD47\",\"CD99\")\n",
    "\n",
    "recoverPvalLog2FC(filesFs, columns, genes=genes_input, outdir='../results/tables/', suffix = '_adhesionTrophSN.csv')"
   ]
  },
  {
   "cell_type": "code",
   "execution_count": null,
   "id": "amber-eligibility",
   "metadata": {},
   "outputs": [],
   "source": []
  }
 ],
 "metadata": {
  "kernelspec": {
   "display_name": "R",
   "language": "R",
   "name": "ir"
  },
  "language_info": {
   "codemirror_mode": "r",
   "file_extension": ".r",
   "mimetype": "text/x-r-source",
   "name": "R",
   "pygments_lexer": "r",
   "version": "4.0.4"
  }
 },
 "nbformat": 4,
 "nbformat_minor": 5
}
