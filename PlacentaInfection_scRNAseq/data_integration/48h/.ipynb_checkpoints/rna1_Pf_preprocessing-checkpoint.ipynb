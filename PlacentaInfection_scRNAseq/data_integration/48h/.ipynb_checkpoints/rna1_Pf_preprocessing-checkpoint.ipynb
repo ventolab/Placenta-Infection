{
 "cells": [
  {
   "cell_type": "markdown",
   "id": "animal-piece",
   "metadata": {},
   "source": [
    "**Author:** Elias Rafael Ruiz-Morales\n",
    "\n",
    "**Institution:** Wellcome Sanger institute\n",
    "\n",
    "**July, 2023**\n"
   ]
  },
  {
   "cell_type": "markdown",
   "id": "theoretical-disease",
   "metadata": {},
   "source": [
    "---"
   ]
  },
  {
   "cell_type": "markdown",
   "id": "raising-wilderness",
   "metadata": {},
   "source": [
    "##  rna_S1_preprocessing Pf"
   ]
  },
  {
   "cell_type": "code",
   "execution_count": 2,
   "id": "relative-master",
   "metadata": {
    "tags": []
   },
   "outputs": [
    {
     "name": "stderr",
     "output_type": "stream",
     "text": [
      "WARNING: If you miss a compact list, please try `print_header`!\n"
     ]
    },
    {
     "name": "stdout",
     "output_type": "stream",
     "text": [
      "-----\n",
      "anndata     0.7.5\n",
      "scanpy      1.7.1\n",
      "sinfo       0.3.1\n",
      "-----\n",
      "PIL                 8.1.2\n",
      "anndata             0.7.5\n",
      "anyio               NA\n",
      "attr                20.3.0\n",
      "babel               2.9.0\n",
      "backcall            0.2.0\n",
      "brotli              NA\n",
      "cairo               1.20.0\n",
      "certifi             2020.12.05\n",
      "cffi                1.14.5\n",
      "chardet             4.0.0\n",
      "cloudpickle         1.6.0\n",
      "colorama            0.4.4\n",
      "cycler              0.10.0\n",
      "cython_runtime      NA\n",
      "cytoolz             0.11.0\n",
      "dask                2021.03.1\n",
      "dateutil            2.8.1\n",
      "decorator           4.4.2\n",
      "fsspec              0.8.7\n",
      "get_version         2.1\n",
      "google              NA\n",
      "h5py                3.1.0\n",
      "idna                2.10\n",
      "igraph              0.8.3\n",
      "ipykernel           5.5.0\n",
      "ipython_genutils    0.2.0\n",
      "ipywidgets          7.6.3\n",
      "jedi                0.18.0\n",
      "jinja2              2.11.3\n",
      "joblib              1.0.1\n",
      "json5               NA\n",
      "jsonschema          3.2.0\n",
      "jupyter_server      1.4.1\n",
      "jupyterlab_server   2.3.0\n",
      "kiwisolver          1.3.1\n",
      "legacy_api_wrap     0.0.0\n",
      "leidenalg           0.8.3\n",
      "llvmlite            0.34.0\n",
      "louvain             0.7.0\n",
      "markupsafe          1.1.1\n",
      "matplotlib          3.3.4\n",
      "mpl_toolkits        NA\n",
      "natsort             7.1.1\n",
      "nbclassic           NA\n",
      "nbformat            5.1.2\n",
      "numba               0.51.2\n",
      "numexpr             2.7.3\n",
      "numpy               1.20.1\n",
      "packaging           20.9\n",
      "pandas              1.2.3\n",
      "parso               0.8.1\n",
      "pexpect             4.8.0\n",
      "pickleshare         0.7.5\n",
      "pkg_resources       NA\n",
      "prometheus_client   NA\n",
      "prompt_toolkit      3.0.16\n",
      "psutil              5.8.0\n",
      "ptyprocess          0.7.0\n",
      "pvectorc            NA\n",
      "pyarrow             0.16.0\n",
      "pygments            2.8.0\n",
      "pyparsing           2.4.7\n",
      "pyrsistent          NA\n",
      "pytoml              NA\n",
      "pytz                2021.1\n",
      "requests            2.25.1\n",
      "ruamel              NA\n",
      "scanpy              1.7.1\n",
      "scipy               1.6.1\n",
      "scrublet            NA\n",
      "seaborn             0.11.1\n",
      "send2trash          NA\n",
      "setuptools_scm      NA\n",
      "sinfo               0.3.1\n",
      "six                 1.15.0\n",
      "sklearn             0.24.1\n",
      "sniffio             1.2.0\n",
      "socks               1.7.1\n",
      "sphinxcontrib       NA\n",
      "statsmodels         0.12.2\n",
      "storemagic          NA\n",
      "tables              3.6.1\n",
      "tblib               1.7.0\n",
      "texttable           1.6.3\n",
      "tlz                 0.11.0\n",
      "toolz               0.11.1\n",
      "tornado             6.1\n",
      "traitlets           5.0.5\n",
      "typing_extensions   NA\n",
      "urllib3             1.26.3\n",
      "wcwidth             0.2.5\n",
      "yaml                5.3.1\n",
      "zmq                 22.0.3\n",
      "-----\n",
      "IPython             7.21.0\n",
      "jupyter_client      6.1.11\n",
      "jupyter_core        4.7.1\n",
      "jupyterlab          3.0.9\n",
      "notebook            6.2.0\n",
      "-----\n",
      "Python 3.8.8 | packaged by conda-forge | (default, Feb 20 2021, 16:22:27) [GCC 9.3.0]\n",
      "Linux-4.15.0-213-generic-x86_64-with-glibc2.10\n",
      "26 logical CPU cores, x86_64\n",
      "-----\n",
      "Session information updated at 2023-11-27 15:38\n",
      "\n"
     ]
    },
    {
     "data": {
      "text/plain": [
       "'/opt/conda/bin/python'"
      ]
     },
     "execution_count": 2,
     "metadata": {},
     "output_type": "execute_result"
    }
   ],
   "source": [
    "import numpy as np\n",
    "import pandas as pd\n",
    "import scanpy as sc\n",
    "import matplotlib.pyplot as plt\n",
    "import matplotlib\n",
    "import os\n",
    "import sys\n",
    "%matplotlib inline\n",
    "\n",
    "import seaborn as sns\n",
    "import seaborn as sb\n",
    "import anndata\n",
    "import matplotlib as mpl\n",
    "import pickle \n",
    "import scrublet as scr\n",
    "\n",
    "def MovePlots(plotpattern, subplotdir):\n",
    "    os.system('mkdir -p '+str(sc.settings.figdir)+'/'+subplotdir)\n",
    "    os.system('mv '+str(sc.settings.figdir)+'/*'+plotpattern+'** '+str(sc.settings.figdir)+'/'+subplotdir)\n",
    "\n",
    "sc.settings.verbosity = 1  # verbosity: errors (0), warnings (1), info (2), hints (3)\n",
    "sc.settings.figdir = '../results/images/preprocessing/'\n",
    "fig_path= '../results/images/preprocessing/'\n",
    "sc.logging.print_versions()\n",
    "sc.settings.set_figure_params(dpi=80)  # low dpi (dots per inch) yields small inline figures\n",
    "\n",
    "sys.executable"
   ]
  },
  {
   "cell_type": "code",
   "execution_count": 3,
   "id": "raised-balloon",
   "metadata": {},
   "outputs": [],
   "source": [
    "def Barplot(which_var, adata, var='identity', height=3, color = False, suffix= ''):\n",
    "    \n",
    "    '''\n",
    "    Function to plot barplots plotting the proportion of cells per catergory in var, coming from each category in which_var.\n",
    "    \n",
    "    Parameters:\n",
    "        which_var: column name in .obs. Contains the categories to contrast.\n",
    "        adata: anndata object.\n",
    "        var: column name in .obs. It contains the categories of the cells.\n",
    "        height: plot height\n",
    "        color: colors to use\n",
    "        suffix: string. Suffix to be added at the end of the name of the plot.\n",
    "    \n",
    "    Return:\n",
    "        Saves bar plot as a pdf.\n",
    "        \n",
    "    '''\n",
    "    \n",
    "    plotdata = pd.crosstab(adata.obs[var], adata.obs[which_var], normalize='index') * 100\n",
    "    if 'category' in plotdata.index.dtype.name:\n",
    "        plotdata.index.reorder_categories(adata.obs[var].cat.categories[::-1])\n",
    "\n",
    "    if not color:\n",
    "        ax1 = plotdata.plot.barh(stacked = True, edgecolor = 'none', zorder = 3, figsize = (6,height), fontsize = 14, grid = False)\n",
    "    else:\n",
    "        ax1 = plotdata.plot.barh(stacked = True, edgecolor = 'none', zorder = 3, figsize = (6,height), fontsize = 14, grid = False, color = color)\n",
    "    ax1.set_title(which_var+' %')\n",
    "    ax1.set_ylabel(var)\n",
    "    horiz_offset = 1\n",
    "    vert_offset = 1.\n",
    "    ax1 = ax1.legend(bbox_to_anchor = (horiz_offset, vert_offset))\n",
    "    ax1.figure.savefig(str(sc.settings.figdir)+'/barplot_'+var+'_proportions_'+which_var+ suffix+'.pdf', bbox_inches='tight',\n",
    "                       dpi=300, orientation='landscape', format= 'pdf', optimize=True)"
   ]
  },
  {
   "cell_type": "code",
   "execution_count": 4,
   "id": "artificial-wiring",
   "metadata": {},
   "outputs": [],
   "source": [
    "### Function to add the souporcell cluster\n",
    "####\n",
    "\n",
    "def add_souporcell_id(adata_obj, cell_id, samples):\n",
    "    '''\n",
    "    Function to add the souporcell status (e.g. 0,1, not pooled, etc.) to the cells\n",
    "    \n",
    "    Input\n",
    "        adata_obj: adata object\n",
    "        cell_id: id of a cell\n",
    "        samples: list of samples that were pooled. Usually not all samples are multiplexed.\n",
    "    \n",
    "    '''\n",
    "    \n",
    "    curr_sample = adata_obj.obs.loc[cell_id, 'sample']\n",
    "    \n",
    "    #print('sample',sample, 'barcode', cell_id)\n",
    "    \n",
    "    if curr_sample in samples:\n",
    "        #extracts the table contained in the indicated key of the dictionary\n",
    "        curr_souporcell_table = souporcell_clusters[curr_sample]\n",
    "        \n",
    "        if (cell_id in list(curr_souporcell_table.index)): #checking that the cells are into the data\n",
    "            curr_assign = souporcell_clusters[curr_sample].loc[cell_id,'assignment']\n",
    "            #print('returning',curr_assign)\n",
    "            return(curr_assign)\n",
    "\n",
    "        else:\n",
    "            # cell barcode is filtered by souporcell\n",
    "            return('filtered_by_souporcell')\n",
    "    else:\n",
    "        return('not_pooled')"
   ]
  },
  {
   "cell_type": "code",
   "execution_count": 5,
   "id": "innovative-therapy",
   "metadata": {},
   "outputs": [],
   "source": [
    "def decode_donors(adata_obj, cell_id, identity_dict,samples):\n",
    "\n",
    "    '''\n",
    "    Function to add the true identity to the multiplexed samples. The souporcell samples are changed\n",
    "    to the real names of the clusters(e.g. 0= Hrv99, 1=Hrv98).\n",
    "    \n",
    "    Input\n",
    "        adata_obj: adata object\n",
    "        cell_id: id of a cell\n",
    "        identity_dict: dictionary with the identity of each cluster per each sample. It has the structure sample:{cluster:donor}.\n",
    "        samples: list of samples to be considered in the function. Not all samples are multiplexed\n",
    "    '''\n",
    "    \n",
    "    \n",
    "    #sample name\n",
    "    curr_sample = adata_obj.obs.loc[cell_id, 'sample']\n",
    "    \n",
    "    #cluster name\n",
    "    curr_souporcell_cluster = adata_obj.obs.loc[cell_id, 'assignment_SoC']\n",
    "\n",
    "    if curr_sample in samples:\n",
    "        #this means that the cell could not be assigned to a cluster (e.g. 2/3), therefore it is considered as a doublet\n",
    "        if '/' in curr_souporcell_cluster:\n",
    "            return('donor_doublets')\n",
    "        \n",
    "        #Condition for cells that were filtered by SoC. These will be deleted later.\n",
    "        elif \"filtered\" in curr_souporcell_cluster:\n",
    "            return('filtered_by_souporcell')\n",
    "        \n",
    "        #Singlets with a donor assigned\n",
    "        else:\n",
    "            return(identity_dict[curr_sample][curr_souporcell_cluster])\n",
    "\n",
    "\n",
    "        "
   ]
  },
  {
   "cell_type": "code",
   "execution_count": 6,
   "id": "liberal-surge",
   "metadata": {},
   "outputs": [],
   "source": [
    "def donor_assing(adata_obj, cell_id):\n",
    "    \n",
    "    '''\n",
    "    Function that assings a donor ID to the cells that were pooled and not pooled. It keep the ID stored in donor_deconv for those cells\n",
    "    pooled, and the cells that weren't pooled will keep the original donor ID before deconvolution donor.\n",
    "    \n",
    "    input\n",
    "        adata_obj: adata object\n",
    "        cell_id:\n",
    "\n",
    "    '''\n",
    "    \n",
    "    #Donor deconvoluted of the current cell\n",
    "    curr_donor_deconv = adata_obj.obs.loc[cell_id, 'donor_deconv']\n",
    "    #Donor of the current cell (before deconvolution)\n",
    "    curr_donor = adata_obj.obs.loc[cell_id, 'donor']\n",
    "    \n",
    "    # donor ID from 'donor_id' column\n",
    "    \n",
    "    #If the curr_donor_deconv is None, then the function willl return the donor before deconvolution\n",
    "    # Otherwise it will return the same donor in the donor_deconv column. Which is the real donor. \n",
    "    if curr_donor_deconv == 'None':\n",
    "        return(curr_donor)\n",
    "    \n",
    "    elif curr_donor_deconv == None:\n",
    "        return(curr_donor)\n",
    "    \n",
    "    else:\n",
    "        return(curr_donor_deconv)\n",
    "\n",
    "    "
   ]
  },
  {
   "cell_type": "markdown",
   "id": "spanish-insider",
   "metadata": {},
   "source": [
    "## Import meta data"
   ]
  },
  {
   "cell_type": "code",
   "execution_count": 6,
   "id": "grand-affiliation",
   "metadata": {},
   "outputs": [],
   "source": [
    "data_dir ='/lustre/scratch126/cellgen/team292/er13/PlacInfection_revision/scRNAseq/data_integration/48h/data/Malaria/'"
   ]
  },
  {
   "cell_type": "code",
   "execution_count": 7,
   "id": "faced-quarter",
   "metadata": {},
   "outputs": [
    {
     "name": "stdout",
     "output_type": "stream",
     "text": [
      "Number of samples:  4\n"
     ]
    }
   ],
   "source": [
    "meta = pd.read_csv(data_dir+'meta_exp_infection_2d9_scell.csv',index_col=0)\n",
    "meta['stage'] = meta['stage'].astype('str')\n",
    "plotmeta = list(meta.columns)\n",
    "plotmeta.append('sample')\n",
    "print('Number of samples: ', meta.index.size)"
   ]
  },
  {
   "cell_type": "code",
   "execution_count": 8,
   "id": "broad-restriction",
   "metadata": {},
   "outputs": [
    {
     "data": {
      "text/html": [
       "<div>\n",
       "<style scoped>\n",
       "    .dataframe tbody tr th:only-of-type {\n",
       "        vertical-align: middle;\n",
       "    }\n",
       "\n",
       "    .dataframe tbody tr th {\n",
       "        vertical-align: top;\n",
       "    }\n",
       "\n",
       "    .dataframe thead th {\n",
       "        text-align: right;\n",
       "    }\n",
       "</style>\n",
       "<table border=\"1\" class=\"dataframe\">\n",
       "  <thead>\n",
       "    <tr style=\"text-align: right;\">\n",
       "      <th></th>\n",
       "      <th>stage</th>\n",
       "      <th>donor</th>\n",
       "      <th>hpi</th>\n",
       "      <th>infection</th>\n",
       "    </tr>\n",
       "    <tr>\n",
       "      <th>sample</th>\n",
       "      <th></th>\n",
       "      <th></th>\n",
       "      <th></th>\n",
       "      <th></th>\n",
       "    </tr>\n",
       "  </thead>\n",
       "  <tbody>\n",
       "    <tr>\n",
       "      <th>Pla_HDBR13661567</th>\n",
       "      <td>UI_48h</td>\n",
       "      <td>Hrv232</td>\n",
       "      <td>48h</td>\n",
       "      <td>UI</td>\n",
       "    </tr>\n",
       "    <tr>\n",
       "      <th>Pla_HDBR13661568</th>\n",
       "      <td>Pf_48h</td>\n",
       "      <td>Hrv232</td>\n",
       "      <td>48h</td>\n",
       "      <td>Pf</td>\n",
       "    </tr>\n",
       "    <tr>\n",
       "      <th>Pla_HDBR13661573</th>\n",
       "      <td>UI_48h</td>\n",
       "      <td>Hrv236</td>\n",
       "      <td>48h</td>\n",
       "      <td>UI</td>\n",
       "    </tr>\n",
       "    <tr>\n",
       "      <th>Pla_HDBR13661574</th>\n",
       "      <td>Pf_48h</td>\n",
       "      <td>Hrv236</td>\n",
       "      <td>48h</td>\n",
       "      <td>Pf</td>\n",
       "    </tr>\n",
       "  </tbody>\n",
       "</table>\n",
       "</div>"
      ],
      "text/plain": [
       "                   stage   donor  hpi infection\n",
       "sample                                         \n",
       "Pla_HDBR13661567  UI_48h  Hrv232  48h        UI\n",
       "Pla_HDBR13661568  Pf_48h  Hrv232  48h        Pf\n",
       "Pla_HDBR13661573  UI_48h  Hrv236  48h        UI\n",
       "Pla_HDBR13661574  Pf_48h  Hrv236  48h        Pf"
      ]
     },
     "execution_count": 8,
     "metadata": {},
     "output_type": "execute_result"
    }
   ],
   "source": [
    "meta"
   ]
  },
  {
   "cell_type": "markdown",
   "id": "million-compatibility",
   "metadata": {},
   "source": [
    "## Load GeneFull/filtered STARsolo outputs\n",
    "### Preprocessing and merge matrix"
   ]
  },
  {
   "cell_type": "markdown",
   "id": "raised-adapter",
   "metadata": {},
   "source": [
    "Note: for parasites, skip basic filtering. Do filetering at later step."
   ]
  },
  {
   "cell_type": "code",
   "execution_count": 9,
   "id": "surrounded-extraction",
   "metadata": {},
   "outputs": [],
   "source": [
    "data_dir ='/lustre/scratch126/cellgen/team292/er13/PlacInfection_revision/scRNAseq/data_integration/24h/data/Malaria/'"
   ]
  },
  {
   "cell_type": "code",
   "execution_count": 10,
   "id": "emerging-birthday",
   "metadata": {},
   "outputs": [
    {
     "name": "stdout",
     "output_type": "stream",
     "text": [
      "Pla_HDBR13661567\n",
      "Total number of cells: 10714\n",
      "Total number of genes: 42294\n",
      "Pla_HDBR13661568\n",
      "Total number of cells: 9233\n",
      "Total number of genes: 42294\n",
      "Pla_HDBR13661573\n",
      "Total number of cells: 9339\n",
      "Total number of genes: 42294\n",
      "Pla_HDBR13661574\n",
      "Total number of cells: 13499\n",
      "Total number of genes: 42294\n"
     ]
    }
   ],
   "source": [
    "holder = []\n",
    "for sample in meta.index:\n",
    "    print(sample)\n",
    "    holder.append(sc.read_10x_mtx(data_dir+sample+'/output/GeneFull/filtered/',var_names='gene_symbols',cache=True)) \n",
    "    # Set names of observation as sample + _ + barcode/probe\n",
    "    holder[-1].var_names_make_unique()\n",
    "    holder[-1].obs_names = [sample+'_'+i.split('-')[0] for i in holder[-1].obs_names]\n",
    "    #Filer cells with less than 100 genes expressed\n",
    "    #sc.pp.filter_cells(holder[-1], min_genes=100)\n",
    "    #Filer genes expressed in less than 3 cells\n",
    "    #sc.pp.filter_genes(holder[-1], min_cells=3)\n",
    "    # add in metadata\n",
    "    holder[-1].obs['sample'] = sample \n",
    "    for val in meta.columns:\n",
    "        holder[-1].obs[val] = meta[val][sample]\n",
    "    # Extract mitochondial genes\n",
    "    mito_genes = [name for name in holder[-1].var_names if name.startswith('MT')]\n",
    "    #for each cell compute fraction of counts in mito genes vs. all genes\n",
    "    #the `.A1` is only necessary, as X is sparse - it transform to a dense array after summing\n",
    "    holder[-1].obs['percent_mito'] = np.sum(\n",
    "        holder[-1][:, mito_genes].X, axis=1).A1 / np.sum(holder[-1].X, axis=1).A1\n",
    "    #add the total counts per cell as observations-annotation to adata\n",
    "    holder[-1].obs['n_counts'] = holder[-1].X.sum(axis=1).A1\n",
    "    holder[-1].obs['n_genes'] = holder[-1].X.sum(axis=1).A1\n",
    "    print('Total number of cells: {:d}'.format(holder[-1].n_obs))\n",
    "    print('Total number of genes: {:d}'.format(holder[-1].n_vars))"
   ]
  },
  {
   "cell_type": "code",
   "execution_count": 11,
   "id": "packed-generation",
   "metadata": {},
   "outputs": [
    {
     "name": "stdout",
     "output_type": "stream",
     "text": [
      "4\n"
     ]
    },
    {
     "data": {
      "text/plain": [
       "AnnData object with n_obs × n_vars = 42785 × 42294\n",
       "    obs: 'sample', 'stage', 'donor', 'hpi', 'infection', 'percent_mito', 'n_counts', 'n_genes', 'batch'\n",
       "    var: 'gene_ids', 'feature_types'"
      ]
     },
     "execution_count": 11,
     "metadata": {},
     "output_type": "execute_result"
    }
   ],
   "source": [
    "# confirm N samples\n",
    "print(len(holder))\n",
    "# merge datasets by taking the intersection of cells found between nucleis and cells \n",
    "adata = holder[0].concatenate(holder[1:],join='outer',index_unique=None)#batch_key='sample')\n",
    "# copy of this matrix in Compressed Sparse Row format\n",
    "adata.X = adata.X.tocsr()\n",
    "adata"
   ]
  },
  {
   "cell_type": "code",
   "execution_count": null,
   "id": "reduced-bearing",
   "metadata": {},
   "outputs": [],
   "source": []
  },
  {
   "cell_type": "code",
   "execution_count": 12,
   "id": "mineral-wayne",
   "metadata": {},
   "outputs": [
    {
     "data": {
      "text/html": [
       "<div>\n",
       "<style scoped>\n",
       "    .dataframe tbody tr th:only-of-type {\n",
       "        vertical-align: middle;\n",
       "    }\n",
       "\n",
       "    .dataframe tbody tr th {\n",
       "        vertical-align: top;\n",
       "    }\n",
       "\n",
       "    .dataframe thead th {\n",
       "        text-align: right;\n",
       "    }\n",
       "</style>\n",
       "<table border=\"1\" class=\"dataframe\">\n",
       "  <thead>\n",
       "    <tr style=\"text-align: right;\">\n",
       "      <th></th>\n",
       "      <th>sample</th>\n",
       "      <th>stage</th>\n",
       "      <th>donor</th>\n",
       "      <th>hpi</th>\n",
       "      <th>infection</th>\n",
       "      <th>percent_mito</th>\n",
       "      <th>n_counts</th>\n",
       "      <th>n_genes</th>\n",
       "      <th>batch</th>\n",
       "    </tr>\n",
       "  </thead>\n",
       "  <tbody>\n",
       "    <tr>\n",
       "      <th>Pla_HDBR13661567_AAACCCACAATATCCG</th>\n",
       "      <td>Pla_HDBR13661567</td>\n",
       "      <td>UI_48h</td>\n",
       "      <td>Hrv232</td>\n",
       "      <td>48h</td>\n",
       "      <td>UI</td>\n",
       "      <td>0.017139</td>\n",
       "      <td>45511.0</td>\n",
       "      <td>45511.0</td>\n",
       "      <td>0</td>\n",
       "    </tr>\n",
       "    <tr>\n",
       "      <th>Pla_HDBR13661567_AAACCCACACCGTCTT</th>\n",
       "      <td>Pla_HDBR13661567</td>\n",
       "      <td>UI_48h</td>\n",
       "      <td>Hrv232</td>\n",
       "      <td>48h</td>\n",
       "      <td>UI</td>\n",
       "      <td>0.049120</td>\n",
       "      <td>47679.0</td>\n",
       "      <td>47679.0</td>\n",
       "      <td>0</td>\n",
       "    </tr>\n",
       "    <tr>\n",
       "      <th>Pla_HDBR13661567_AAACCCACAGACCCGT</th>\n",
       "      <td>Pla_HDBR13661567</td>\n",
       "      <td>UI_48h</td>\n",
       "      <td>Hrv232</td>\n",
       "      <td>48h</td>\n",
       "      <td>UI</td>\n",
       "      <td>0.037424</td>\n",
       "      <td>77464.0</td>\n",
       "      <td>77464.0</td>\n",
       "      <td>0</td>\n",
       "    </tr>\n",
       "    <tr>\n",
       "      <th>Pla_HDBR13661567_AAACCCACAGCTACCG</th>\n",
       "      <td>Pla_HDBR13661567</td>\n",
       "      <td>UI_48h</td>\n",
       "      <td>Hrv232</td>\n",
       "      <td>48h</td>\n",
       "      <td>UI</td>\n",
       "      <td>0.032514</td>\n",
       "      <td>61851.0</td>\n",
       "      <td>61851.0</td>\n",
       "      <td>0</td>\n",
       "    </tr>\n",
       "    <tr>\n",
       "      <th>Pla_HDBR13661567_AAACCCACAGCTTCGG</th>\n",
       "      <td>Pla_HDBR13661567</td>\n",
       "      <td>UI_48h</td>\n",
       "      <td>Hrv232</td>\n",
       "      <td>48h</td>\n",
       "      <td>UI</td>\n",
       "      <td>0.025810</td>\n",
       "      <td>19992.0</td>\n",
       "      <td>19992.0</td>\n",
       "      <td>0</td>\n",
       "    </tr>\n",
       "  </tbody>\n",
       "</table>\n",
       "</div>"
      ],
      "text/plain": [
       "                                             sample   stage   donor  hpi  \\\n",
       "Pla_HDBR13661567_AAACCCACAATATCCG  Pla_HDBR13661567  UI_48h  Hrv232  48h   \n",
       "Pla_HDBR13661567_AAACCCACACCGTCTT  Pla_HDBR13661567  UI_48h  Hrv232  48h   \n",
       "Pla_HDBR13661567_AAACCCACAGACCCGT  Pla_HDBR13661567  UI_48h  Hrv232  48h   \n",
       "Pla_HDBR13661567_AAACCCACAGCTACCG  Pla_HDBR13661567  UI_48h  Hrv232  48h   \n",
       "Pla_HDBR13661567_AAACCCACAGCTTCGG  Pla_HDBR13661567  UI_48h  Hrv232  48h   \n",
       "\n",
       "                                  infection  percent_mito  n_counts  n_genes  \\\n",
       "Pla_HDBR13661567_AAACCCACAATATCCG        UI      0.017139   45511.0  45511.0   \n",
       "Pla_HDBR13661567_AAACCCACACCGTCTT        UI      0.049120   47679.0  47679.0   \n",
       "Pla_HDBR13661567_AAACCCACAGACCCGT        UI      0.037424   77464.0  77464.0   \n",
       "Pla_HDBR13661567_AAACCCACAGCTACCG        UI      0.032514   61851.0  61851.0   \n",
       "Pla_HDBR13661567_AAACCCACAGCTTCGG        UI      0.025810   19992.0  19992.0   \n",
       "\n",
       "                                  batch  \n",
       "Pla_HDBR13661567_AAACCCACAATATCCG     0  \n",
       "Pla_HDBR13661567_AAACCCACACCGTCTT     0  \n",
       "Pla_HDBR13661567_AAACCCACAGACCCGT     0  \n",
       "Pla_HDBR13661567_AAACCCACAGCTACCG     0  \n",
       "Pla_HDBR13661567_AAACCCACAGCTTCGG     0  "
      ]
     },
     "execution_count": 12,
     "metadata": {},
     "output_type": "execute_result"
    }
   ],
   "source": [
    "adata.obs.head()"
   ]
  },
  {
   "cell_type": "code",
   "execution_count": 13,
   "id": "activated-outreach",
   "metadata": {},
   "outputs": [
    {
     "name": "stderr",
     "output_type": "stream",
     "text": [
      "... storing 'sample' as categorical\n",
      "... storing 'stage' as categorical\n",
      "... storing 'donor' as categorical\n",
      "... storing 'hpi' as categorical\n",
      "... storing 'infection' as categorical\n",
      "... storing 'feature_types' as categorical\n",
      "WARNING: saving figure to file ../results/images/preprocessing/violin.pdf\n",
      "WARNING: saving figure to file ../results/images/preprocessing/scatter_numi_vs_mito.pdf\n",
      "WARNING: saving figure to file ../results/images/preprocessing/scatter_numi_vs_ngenes.pdf\n"
     ]
    },
    {
     "data": {
      "text/plain": [
       "<matplotlib.axes._axes.Axes at 0x7fde974652e0>"
      ]
     },
     "execution_count": 13,
     "metadata": {},
     "output_type": "execute_result"
    }
   ],
   "source": [
    "sc.pl.violin(adata, ['n_genes', 'n_counts', 'percent_mito'],jitter=0.4, multi_panel=True, save='.pdf', show=False)\n",
    "sc.pl.scatter(adata, x='n_counts', y='percent_mito', save='_numi_vs_mito.pdf', show=False)\n",
    "sc.pl.scatter(adata, x='n_counts', y='n_genes', save='_numi_vs_ngenes.pdf', show=False)"
   ]
  },
  {
   "cell_type": "code",
   "execution_count": null,
   "id": "existing-myanmar",
   "metadata": {},
   "outputs": [],
   "source": []
  },
  {
   "cell_type": "code",
   "execution_count": null,
   "id": "surprised-moscow",
   "metadata": {},
   "outputs": [],
   "source": []
  },
  {
   "cell_type": "markdown",
   "id": "seeing-habitat",
   "metadata": {},
   "source": [
    "# Souporcell\n",
    "Adding another column with deconvolution from souporcell"
   ]
  },
  {
   "cell_type": "raw",
   "id": "abstract-duration",
   "metadata": {},
   "source": [
    "samples = list(np.unique(adata.obs['sample']))"
   ]
  },
  {
   "cell_type": "raw",
   "id": "global-ethnic",
   "metadata": {},
   "source": [
    "#Only the multiplexed samples are included here\n",
    "samples= ['Pla_HDBR13661565',\n",
    " 'Pla_HDBR13661566']"
   ]
  },
  {
   "cell_type": "raw",
   "id": "sacred-concern",
   "metadata": {},
   "source": []
  },
  {
   "cell_type": "raw",
   "id": "second-forum",
   "metadata": {},
   "source": [
    "###reading in souporcell outputs\n",
    "###\n",
    "\n",
    "soc_path='/lustre/scratch126/cellgen/team292/er13/PlacInfection_revision/scRNAseq/data_integration/24h/data/Malaria/souporcell_donor/'\n",
    "\n",
    "# sample to cluster\n",
    "souporcell_clusters = {}\n",
    "\n",
    "\n",
    "for sample in samples:\n",
    "    print('sample', sample)\n",
    "    path =soc_path+sample+'/clusters.tsv' #path to the souporcell output\n",
    "    souporcell_clusters[sample] = pd.read_csv(path, sep='\\t') #read souporcell output as pandas DF\n",
    "    #aadind the DF into the dictionary\n",
    "    souporcell_clusters[sample]['sample_barcode'] = [sample+'_'+j for j in souporcell_clusters[sample]['barcode']]\n",
    "    souporcell_clusters[sample]['sample_barcode'] = [elem.split('-')[0] for elem in souporcell_clusters[sample]['sample_barcode']]\n",
    "    souporcell_clusters[sample].set_index('sample_barcode', drop=False, inplace=True)"
   ]
  },
  {
   "cell_type": "raw",
   "id": "loved-jenny",
   "metadata": {},
   "source": []
  },
  {
   "cell_type": "raw",
   "id": "coastal-asian",
   "metadata": {},
   "source": [
    "#Adding a column into the metada that is actually the cell ID\n",
    "adata.obs['sample_barcode'] = adata.obs.index"
   ]
  },
  {
   "cell_type": "raw",
   "id": "absolute-forty",
   "metadata": {},
   "source": [
    "%%time\n",
    "adata.obs['assignment_SoC'] = adata.obs['sample_barcode'].apply(lambda x: add_souporcell_id(adata,x,samples))"
   ]
  },
  {
   "cell_type": "raw",
   "id": "prepared-dodge",
   "metadata": {},
   "source": [
    "adata.obs"
   ]
  },
  {
   "cell_type": "markdown",
   "id": "acute-quarter",
   "metadata": {},
   "source": [
    "#### Deconvolution of the donors\n",
    "This step must be done even if there are not defined donors, in order to annotate the doublets.\n",
    "The deconvolution of cluster equivalents was done using SoC shared_samples.py script. The loss values for true pairs must be low, in some cases, 1/10th that of invalid pairs."
   ]
  },
  {
   "cell_type": "raw",
   "id": "wicked-listening",
   "metadata": {},
   "source": [
    "### Building a dictionary with the identity of the cluster in each one of the samples.\n",
    "### It has the structure SAMPLE:{Cluster:Donor,Cluster:Donor}\n",
    "\n",
    "identity_dict={\n",
    "    \"Pla_HDBR13661565\":{'0':'0','1':'1'},\n",
    "    \"Pla_HDBR13661566\":{'0':'0','1':'1'}\n",
    "}\n",
    "\n",
    "identity_dict"
   ]
  },
  {
   "cell_type": "raw",
   "id": "smoking-cover",
   "metadata": {},
   "source": [
    "%%time\n",
    "#NOTE: cells that weren't pooled will have None in the donor_deconv column\n",
    "adata.obs['donor_deconv'] = adata.obs['sample_barcode'].apply(lambda x: decode_donors(adata,x,identity_dict, samples))"
   ]
  },
  {
   "cell_type": "raw",
   "id": "intimate-delta",
   "metadata": {},
   "source": [
    "adata.obs.head()"
   ]
  },
  {
   "cell_type": "raw",
   "id": "romantic-rental",
   "metadata": {},
   "source": [
    "adata.obs.tail()"
   ]
  },
  {
   "cell_type": "raw",
   "id": "finished-modem",
   "metadata": {},
   "source": []
  },
  {
   "cell_type": "raw",
   "id": "collect-audio",
   "metadata": {},
   "source": []
  },
  {
   "cell_type": "raw",
   "id": "sharing-exemption",
   "metadata": {},
   "source": []
  },
  {
   "cell_type": "raw",
   "id": "aging-configuration",
   "metadata": {},
   "source": []
  },
  {
   "cell_type": "raw",
   "id": "threaded-electricity",
   "metadata": {},
   "source": []
  },
  {
   "cell_type": "raw",
   "id": "present-elite",
   "metadata": {},
   "source": [
    "fig_path= '../results/images/preprocessing/'\n"
   ]
  },
  {
   "cell_type": "raw",
   "id": "electric-powell",
   "metadata": {},
   "source": [
    "plt.title(sample)\n",
    "sns.countplot(adata[adata.obs['sample'] == sample].obs['assignment_SoC'],\n",
    "                order=adata[adata.obs['sample'] == sample].obs['assignment_SoC'].value_counts().index).set_title(sample)\n",
    "\n",
    "plt.savefig(fig_path+'Pf_countplot_souporcell_id.pdf')\n",
    "plt.xticks(rotation=45)"
   ]
  },
  {
   "cell_type": "code",
   "execution_count": null,
   "id": "silent-advice",
   "metadata": {},
   "outputs": [],
   "source": []
  },
  {
   "cell_type": "markdown",
   "id": "national-proportion",
   "metadata": {},
   "source": [
    "#### Applying the donor_assing function to the data. The donor names will be stored in the new column donor_souporcell"
   ]
  },
  {
   "cell_type": "code",
   "execution_count": 26,
   "id": "romance-coffee",
   "metadata": {},
   "outputs": [],
   "source": [
    "adata.obs['donor_souporcell'] = adata.obs['sample_barcode'].apply(lambda x: donor_assing(adata,x))"
   ]
  },
  {
   "cell_type": "code",
   "execution_count": 27,
   "id": "several-packet",
   "metadata": {},
   "outputs": [
    {
     "data": {
      "text/html": [
       "<div>\n",
       "<style scoped>\n",
       "    .dataframe tbody tr th:only-of-type {\n",
       "        vertical-align: middle;\n",
       "    }\n",
       "\n",
       "    .dataframe tbody tr th {\n",
       "        vertical-align: top;\n",
       "    }\n",
       "\n",
       "    .dataframe thead th {\n",
       "        text-align: right;\n",
       "    }\n",
       "</style>\n",
       "<table border=\"1\" class=\"dataframe\">\n",
       "  <thead>\n",
       "    <tr style=\"text-align: right;\">\n",
       "      <th></th>\n",
       "      <th>sample</th>\n",
       "      <th>stage</th>\n",
       "      <th>donor</th>\n",
       "      <th>hpi</th>\n",
       "      <th>infection</th>\n",
       "      <th>percent_mito</th>\n",
       "      <th>n_counts</th>\n",
       "      <th>n_genes</th>\n",
       "      <th>batch</th>\n",
       "      <th>sample_barcode</th>\n",
       "      <th>assignment_SoC</th>\n",
       "      <th>donor_deconv</th>\n",
       "      <th>donor_souporcell</th>\n",
       "    </tr>\n",
       "  </thead>\n",
       "  <tbody>\n",
       "    <tr>\n",
       "      <th>Pla_HDBR11345033_AAACCCAAGATGATTG</th>\n",
       "      <td>Pla_HDBR11345033</td>\n",
       "      <td>UI_24h</td>\n",
       "      <td>Hrv124</td>\n",
       "      <td>24h</td>\n",
       "      <td>UI</td>\n",
       "      <td>0.018025</td>\n",
       "      <td>3939.0</td>\n",
       "      <td>3939.0</td>\n",
       "      <td>0</td>\n",
       "      <td>Pla_HDBR11345033_AAACCCAAGATGATTG</td>\n",
       "      <td>not_pooled</td>\n",
       "      <td>None</td>\n",
       "      <td>Hrv124</td>\n",
       "    </tr>\n",
       "    <tr>\n",
       "      <th>Pla_HDBR11345033_AAACCCACAAGGATGC</th>\n",
       "      <td>Pla_HDBR11345033</td>\n",
       "      <td>UI_24h</td>\n",
       "      <td>Hrv124</td>\n",
       "      <td>24h</td>\n",
       "      <td>UI</td>\n",
       "      <td>0.270827</td>\n",
       "      <td>43345.0</td>\n",
       "      <td>43345.0</td>\n",
       "      <td>0</td>\n",
       "      <td>Pla_HDBR11345033_AAACCCACAAGGATGC</td>\n",
       "      <td>not_pooled</td>\n",
       "      <td>None</td>\n",
       "      <td>Hrv124</td>\n",
       "    </tr>\n",
       "    <tr>\n",
       "      <th>Pla_HDBR11345033_AAACCCACAATAGTGA</th>\n",
       "      <td>Pla_HDBR11345033</td>\n",
       "      <td>UI_24h</td>\n",
       "      <td>Hrv124</td>\n",
       "      <td>24h</td>\n",
       "      <td>UI</td>\n",
       "      <td>0.033592</td>\n",
       "      <td>62783.0</td>\n",
       "      <td>62783.0</td>\n",
       "      <td>0</td>\n",
       "      <td>Pla_HDBR11345033_AAACCCACAATAGTGA</td>\n",
       "      <td>not_pooled</td>\n",
       "      <td>None</td>\n",
       "      <td>Hrv124</td>\n",
       "    </tr>\n",
       "    <tr>\n",
       "      <th>Pla_HDBR11345033_AAACCCACACATTCGA</th>\n",
       "      <td>Pla_HDBR11345033</td>\n",
       "      <td>UI_24h</td>\n",
       "      <td>Hrv124</td>\n",
       "      <td>24h</td>\n",
       "      <td>UI</td>\n",
       "      <td>0.268253</td>\n",
       "      <td>3657.0</td>\n",
       "      <td>3657.0</td>\n",
       "      <td>0</td>\n",
       "      <td>Pla_HDBR11345033_AAACCCACACATTCGA</td>\n",
       "      <td>not_pooled</td>\n",
       "      <td>None</td>\n",
       "      <td>Hrv124</td>\n",
       "    </tr>\n",
       "    <tr>\n",
       "      <th>Pla_HDBR11345033_AAACCCACAGCAAGAC</th>\n",
       "      <td>Pla_HDBR11345033</td>\n",
       "      <td>UI_24h</td>\n",
       "      <td>Hrv124</td>\n",
       "      <td>24h</td>\n",
       "      <td>UI</td>\n",
       "      <td>0.029803</td>\n",
       "      <td>42278.0</td>\n",
       "      <td>42278.0</td>\n",
       "      <td>0</td>\n",
       "      <td>Pla_HDBR11345033_AAACCCACAGCAAGAC</td>\n",
       "      <td>not_pooled</td>\n",
       "      <td>None</td>\n",
       "      <td>Hrv124</td>\n",
       "    </tr>\n",
       "    <tr>\n",
       "      <th>...</th>\n",
       "      <td>...</td>\n",
       "      <td>...</td>\n",
       "      <td>...</td>\n",
       "      <td>...</td>\n",
       "      <td>...</td>\n",
       "      <td>...</td>\n",
       "      <td>...</td>\n",
       "      <td>...</td>\n",
       "      <td>...</td>\n",
       "      <td>...</td>\n",
       "      <td>...</td>\n",
       "      <td>...</td>\n",
       "      <td>...</td>\n",
       "    </tr>\n",
       "    <tr>\n",
       "      <th>Pla_HDBR13661570_TTTGTTGTCGATGGAG</th>\n",
       "      <td>Pla_HDBR13661570</td>\n",
       "      <td>Pf_24h</td>\n",
       "      <td>Hrv236</td>\n",
       "      <td>24h</td>\n",
       "      <td>Pf</td>\n",
       "      <td>0.059299</td>\n",
       "      <td>1113.0</td>\n",
       "      <td>1113.0</td>\n",
       "      <td>7</td>\n",
       "      <td>Pla_HDBR13661570_TTTGTTGTCGATGGAG</td>\n",
       "      <td>not_pooled</td>\n",
       "      <td>None</td>\n",
       "      <td>Hrv236</td>\n",
       "    </tr>\n",
       "    <tr>\n",
       "      <th>Pla_HDBR13661570_TTTGTTGTCGCACGGT</th>\n",
       "      <td>Pla_HDBR13661570</td>\n",
       "      <td>Pf_24h</td>\n",
       "      <td>Hrv236</td>\n",
       "      <td>24h</td>\n",
       "      <td>Pf</td>\n",
       "      <td>0.054355</td>\n",
       "      <td>14019.0</td>\n",
       "      <td>14019.0</td>\n",
       "      <td>7</td>\n",
       "      <td>Pla_HDBR13661570_TTTGTTGTCGCACGGT</td>\n",
       "      <td>not_pooled</td>\n",
       "      <td>None</td>\n",
       "      <td>Hrv236</td>\n",
       "    </tr>\n",
       "    <tr>\n",
       "      <th>Pla_HDBR13661570_TTTGTTGTCGCAGAGA</th>\n",
       "      <td>Pla_HDBR13661570</td>\n",
       "      <td>Pf_24h</td>\n",
       "      <td>Hrv236</td>\n",
       "      <td>24h</td>\n",
       "      <td>Pf</td>\n",
       "      <td>0.184191</td>\n",
       "      <td>2644.0</td>\n",
       "      <td>2644.0</td>\n",
       "      <td>7</td>\n",
       "      <td>Pla_HDBR13661570_TTTGTTGTCGCAGAGA</td>\n",
       "      <td>not_pooled</td>\n",
       "      <td>None</td>\n",
       "      <td>Hrv236</td>\n",
       "    </tr>\n",
       "    <tr>\n",
       "      <th>Pla_HDBR13661570_TTTGTTGTCTGCTCTG</th>\n",
       "      <td>Pla_HDBR13661570</td>\n",
       "      <td>Pf_24h</td>\n",
       "      <td>Hrv236</td>\n",
       "      <td>24h</td>\n",
       "      <td>Pf</td>\n",
       "      <td>0.098286</td>\n",
       "      <td>10795.0</td>\n",
       "      <td>10795.0</td>\n",
       "      <td>7</td>\n",
       "      <td>Pla_HDBR13661570_TTTGTTGTCTGCTCTG</td>\n",
       "      <td>not_pooled</td>\n",
       "      <td>None</td>\n",
       "      <td>Hrv236</td>\n",
       "    </tr>\n",
       "    <tr>\n",
       "      <th>Pla_HDBR13661570_TTTGTTGTCTGCTTAT</th>\n",
       "      <td>Pla_HDBR13661570</td>\n",
       "      <td>Pf_24h</td>\n",
       "      <td>Hrv236</td>\n",
       "      <td>24h</td>\n",
       "      <td>Pf</td>\n",
       "      <td>0.042389</td>\n",
       "      <td>2595.0</td>\n",
       "      <td>2595.0</td>\n",
       "      <td>7</td>\n",
       "      <td>Pla_HDBR13661570_TTTGTTGTCTGCTTAT</td>\n",
       "      <td>not_pooled</td>\n",
       "      <td>None</td>\n",
       "      <td>Hrv236</td>\n",
       "    </tr>\n",
       "  </tbody>\n",
       "</table>\n",
       "<p>116972 rows × 13 columns</p>\n",
       "</div>"
      ],
      "text/plain": [
       "                                             sample   stage   donor  hpi  \\\n",
       "Pla_HDBR11345033_AAACCCAAGATGATTG  Pla_HDBR11345033  UI_24h  Hrv124  24h   \n",
       "Pla_HDBR11345033_AAACCCACAAGGATGC  Pla_HDBR11345033  UI_24h  Hrv124  24h   \n",
       "Pla_HDBR11345033_AAACCCACAATAGTGA  Pla_HDBR11345033  UI_24h  Hrv124  24h   \n",
       "Pla_HDBR11345033_AAACCCACACATTCGA  Pla_HDBR11345033  UI_24h  Hrv124  24h   \n",
       "Pla_HDBR11345033_AAACCCACAGCAAGAC  Pla_HDBR11345033  UI_24h  Hrv124  24h   \n",
       "...                                             ...     ...     ...  ...   \n",
       "Pla_HDBR13661570_TTTGTTGTCGATGGAG  Pla_HDBR13661570  Pf_24h  Hrv236  24h   \n",
       "Pla_HDBR13661570_TTTGTTGTCGCACGGT  Pla_HDBR13661570  Pf_24h  Hrv236  24h   \n",
       "Pla_HDBR13661570_TTTGTTGTCGCAGAGA  Pla_HDBR13661570  Pf_24h  Hrv236  24h   \n",
       "Pla_HDBR13661570_TTTGTTGTCTGCTCTG  Pla_HDBR13661570  Pf_24h  Hrv236  24h   \n",
       "Pla_HDBR13661570_TTTGTTGTCTGCTTAT  Pla_HDBR13661570  Pf_24h  Hrv236  24h   \n",
       "\n",
       "                                  infection  percent_mito  n_counts  n_genes  \\\n",
       "Pla_HDBR11345033_AAACCCAAGATGATTG        UI      0.018025    3939.0   3939.0   \n",
       "Pla_HDBR11345033_AAACCCACAAGGATGC        UI      0.270827   43345.0  43345.0   \n",
       "Pla_HDBR11345033_AAACCCACAATAGTGA        UI      0.033592   62783.0  62783.0   \n",
       "Pla_HDBR11345033_AAACCCACACATTCGA        UI      0.268253    3657.0   3657.0   \n",
       "Pla_HDBR11345033_AAACCCACAGCAAGAC        UI      0.029803   42278.0  42278.0   \n",
       "...                                     ...           ...       ...      ...   \n",
       "Pla_HDBR13661570_TTTGTTGTCGATGGAG        Pf      0.059299    1113.0   1113.0   \n",
       "Pla_HDBR13661570_TTTGTTGTCGCACGGT        Pf      0.054355   14019.0  14019.0   \n",
       "Pla_HDBR13661570_TTTGTTGTCGCAGAGA        Pf      0.184191    2644.0   2644.0   \n",
       "Pla_HDBR13661570_TTTGTTGTCTGCTCTG        Pf      0.098286   10795.0  10795.0   \n",
       "Pla_HDBR13661570_TTTGTTGTCTGCTTAT        Pf      0.042389    2595.0   2595.0   \n",
       "\n",
       "                                  batch                     sample_barcode  \\\n",
       "Pla_HDBR11345033_AAACCCAAGATGATTG     0  Pla_HDBR11345033_AAACCCAAGATGATTG   \n",
       "Pla_HDBR11345033_AAACCCACAAGGATGC     0  Pla_HDBR11345033_AAACCCACAAGGATGC   \n",
       "Pla_HDBR11345033_AAACCCACAATAGTGA     0  Pla_HDBR11345033_AAACCCACAATAGTGA   \n",
       "Pla_HDBR11345033_AAACCCACACATTCGA     0  Pla_HDBR11345033_AAACCCACACATTCGA   \n",
       "Pla_HDBR11345033_AAACCCACAGCAAGAC     0  Pla_HDBR11345033_AAACCCACAGCAAGAC   \n",
       "...                                 ...                                ...   \n",
       "Pla_HDBR13661570_TTTGTTGTCGATGGAG     7  Pla_HDBR13661570_TTTGTTGTCGATGGAG   \n",
       "Pla_HDBR13661570_TTTGTTGTCGCACGGT     7  Pla_HDBR13661570_TTTGTTGTCGCACGGT   \n",
       "Pla_HDBR13661570_TTTGTTGTCGCAGAGA     7  Pla_HDBR13661570_TTTGTTGTCGCAGAGA   \n",
       "Pla_HDBR13661570_TTTGTTGTCTGCTCTG     7  Pla_HDBR13661570_TTTGTTGTCTGCTCTG   \n",
       "Pla_HDBR13661570_TTTGTTGTCTGCTTAT     7  Pla_HDBR13661570_TTTGTTGTCTGCTTAT   \n",
       "\n",
       "                                  assignment_SoC donor_deconv donor_souporcell  \n",
       "Pla_HDBR11345033_AAACCCAAGATGATTG     not_pooled         None           Hrv124  \n",
       "Pla_HDBR11345033_AAACCCACAAGGATGC     not_pooled         None           Hrv124  \n",
       "Pla_HDBR11345033_AAACCCACAATAGTGA     not_pooled         None           Hrv124  \n",
       "Pla_HDBR11345033_AAACCCACACATTCGA     not_pooled         None           Hrv124  \n",
       "Pla_HDBR11345033_AAACCCACAGCAAGAC     not_pooled         None           Hrv124  \n",
       "...                                          ...          ...              ...  \n",
       "Pla_HDBR13661570_TTTGTTGTCGATGGAG     not_pooled         None           Hrv236  \n",
       "Pla_HDBR13661570_TTTGTTGTCGCACGGT     not_pooled         None           Hrv236  \n",
       "Pla_HDBR13661570_TTTGTTGTCGCAGAGA     not_pooled         None           Hrv236  \n",
       "Pla_HDBR13661570_TTTGTTGTCTGCTCTG     not_pooled         None           Hrv236  \n",
       "Pla_HDBR13661570_TTTGTTGTCTGCTTAT     not_pooled         None           Hrv236  \n",
       "\n",
       "[116972 rows x 13 columns]"
      ]
     },
     "execution_count": 27,
     "metadata": {},
     "output_type": "execute_result"
    }
   ],
   "source": [
    "adata.obs"
   ]
  },
  {
   "cell_type": "code",
   "execution_count": 28,
   "id": "adapted-eagle",
   "metadata": {},
   "outputs": [
    {
     "name": "stderr",
     "output_type": "stream",
     "text": [
      "/opt/conda/lib/python3.8/site-packages/pandas/core/arrays/categorical.py:2487: FutureWarning: The `inplace` parameter in pandas.Categorical.remove_unused_categories is deprecated and will be removed in a future version.\n",
      "  res = method(*args, **kwargs)\n"
     ]
    }
   ],
   "source": [
    "#Deleting the cells filtered by soc\n",
    "adata= adata[adata.obs['assignment_SoC'] != 'filtered_by_souporcell']"
   ]
  },
  {
   "cell_type": "code",
   "execution_count": 29,
   "id": "protected-decade",
   "metadata": {},
   "outputs": [
    {
     "data": {
      "text/html": [
       "<div>\n",
       "<style scoped>\n",
       "    .dataframe tbody tr th:only-of-type {\n",
       "        vertical-align: middle;\n",
       "    }\n",
       "\n",
       "    .dataframe tbody tr th {\n",
       "        vertical-align: top;\n",
       "    }\n",
       "\n",
       "    .dataframe thead th {\n",
       "        text-align: right;\n",
       "    }\n",
       "</style>\n",
       "<table border=\"1\" class=\"dataframe\">\n",
       "  <thead>\n",
       "    <tr style=\"text-align: right;\">\n",
       "      <th></th>\n",
       "      <th>sample</th>\n",
       "      <th>stage</th>\n",
       "      <th>donor</th>\n",
       "      <th>hpi</th>\n",
       "      <th>infection</th>\n",
       "      <th>percent_mito</th>\n",
       "      <th>n_counts</th>\n",
       "      <th>n_genes</th>\n",
       "      <th>batch</th>\n",
       "      <th>sample_barcode</th>\n",
       "      <th>assignment_SoC</th>\n",
       "      <th>donor_deconv</th>\n",
       "      <th>donor_souporcell</th>\n",
       "    </tr>\n",
       "  </thead>\n",
       "  <tbody>\n",
       "    <tr>\n",
       "      <th>Pla_HDBR11345033_AAACCCAAGATGATTG</th>\n",
       "      <td>Pla_HDBR11345033</td>\n",
       "      <td>UI_24h</td>\n",
       "      <td>Hrv124</td>\n",
       "      <td>24h</td>\n",
       "      <td>UI</td>\n",
       "      <td>0.018025</td>\n",
       "      <td>3939.0</td>\n",
       "      <td>3939.0</td>\n",
       "      <td>0</td>\n",
       "      <td>Pla_HDBR11345033_AAACCCAAGATGATTG</td>\n",
       "      <td>not_pooled</td>\n",
       "      <td>None</td>\n",
       "      <td>Hrv124</td>\n",
       "    </tr>\n",
       "    <tr>\n",
       "      <th>Pla_HDBR11345033_AAACCCACAAGGATGC</th>\n",
       "      <td>Pla_HDBR11345033</td>\n",
       "      <td>UI_24h</td>\n",
       "      <td>Hrv124</td>\n",
       "      <td>24h</td>\n",
       "      <td>UI</td>\n",
       "      <td>0.270827</td>\n",
       "      <td>43345.0</td>\n",
       "      <td>43345.0</td>\n",
       "      <td>0</td>\n",
       "      <td>Pla_HDBR11345033_AAACCCACAAGGATGC</td>\n",
       "      <td>not_pooled</td>\n",
       "      <td>None</td>\n",
       "      <td>Hrv124</td>\n",
       "    </tr>\n",
       "    <tr>\n",
       "      <th>Pla_HDBR11345033_AAACCCACAATAGTGA</th>\n",
       "      <td>Pla_HDBR11345033</td>\n",
       "      <td>UI_24h</td>\n",
       "      <td>Hrv124</td>\n",
       "      <td>24h</td>\n",
       "      <td>UI</td>\n",
       "      <td>0.033592</td>\n",
       "      <td>62783.0</td>\n",
       "      <td>62783.0</td>\n",
       "      <td>0</td>\n",
       "      <td>Pla_HDBR11345033_AAACCCACAATAGTGA</td>\n",
       "      <td>not_pooled</td>\n",
       "      <td>None</td>\n",
       "      <td>Hrv124</td>\n",
       "    </tr>\n",
       "    <tr>\n",
       "      <th>Pla_HDBR11345033_AAACCCACACATTCGA</th>\n",
       "      <td>Pla_HDBR11345033</td>\n",
       "      <td>UI_24h</td>\n",
       "      <td>Hrv124</td>\n",
       "      <td>24h</td>\n",
       "      <td>UI</td>\n",
       "      <td>0.268253</td>\n",
       "      <td>3657.0</td>\n",
       "      <td>3657.0</td>\n",
       "      <td>0</td>\n",
       "      <td>Pla_HDBR11345033_AAACCCACACATTCGA</td>\n",
       "      <td>not_pooled</td>\n",
       "      <td>None</td>\n",
       "      <td>Hrv124</td>\n",
       "    </tr>\n",
       "    <tr>\n",
       "      <th>Pla_HDBR11345033_AAACCCACAGCAAGAC</th>\n",
       "      <td>Pla_HDBR11345033</td>\n",
       "      <td>UI_24h</td>\n",
       "      <td>Hrv124</td>\n",
       "      <td>24h</td>\n",
       "      <td>UI</td>\n",
       "      <td>0.029803</td>\n",
       "      <td>42278.0</td>\n",
       "      <td>42278.0</td>\n",
       "      <td>0</td>\n",
       "      <td>Pla_HDBR11345033_AAACCCACAGCAAGAC</td>\n",
       "      <td>not_pooled</td>\n",
       "      <td>None</td>\n",
       "      <td>Hrv124</td>\n",
       "    </tr>\n",
       "  </tbody>\n",
       "</table>\n",
       "</div>"
      ],
      "text/plain": [
       "                                             sample   stage   donor  hpi  \\\n",
       "Pla_HDBR11345033_AAACCCAAGATGATTG  Pla_HDBR11345033  UI_24h  Hrv124  24h   \n",
       "Pla_HDBR11345033_AAACCCACAAGGATGC  Pla_HDBR11345033  UI_24h  Hrv124  24h   \n",
       "Pla_HDBR11345033_AAACCCACAATAGTGA  Pla_HDBR11345033  UI_24h  Hrv124  24h   \n",
       "Pla_HDBR11345033_AAACCCACACATTCGA  Pla_HDBR11345033  UI_24h  Hrv124  24h   \n",
       "Pla_HDBR11345033_AAACCCACAGCAAGAC  Pla_HDBR11345033  UI_24h  Hrv124  24h   \n",
       "\n",
       "                                  infection  percent_mito  n_counts  n_genes  \\\n",
       "Pla_HDBR11345033_AAACCCAAGATGATTG        UI      0.018025    3939.0   3939.0   \n",
       "Pla_HDBR11345033_AAACCCACAAGGATGC        UI      0.270827   43345.0  43345.0   \n",
       "Pla_HDBR11345033_AAACCCACAATAGTGA        UI      0.033592   62783.0  62783.0   \n",
       "Pla_HDBR11345033_AAACCCACACATTCGA        UI      0.268253    3657.0   3657.0   \n",
       "Pla_HDBR11345033_AAACCCACAGCAAGAC        UI      0.029803   42278.0  42278.0   \n",
       "\n",
       "                                  batch                     sample_barcode  \\\n",
       "Pla_HDBR11345033_AAACCCAAGATGATTG     0  Pla_HDBR11345033_AAACCCAAGATGATTG   \n",
       "Pla_HDBR11345033_AAACCCACAAGGATGC     0  Pla_HDBR11345033_AAACCCACAAGGATGC   \n",
       "Pla_HDBR11345033_AAACCCACAATAGTGA     0  Pla_HDBR11345033_AAACCCACAATAGTGA   \n",
       "Pla_HDBR11345033_AAACCCACACATTCGA     0  Pla_HDBR11345033_AAACCCACACATTCGA   \n",
       "Pla_HDBR11345033_AAACCCACAGCAAGAC     0  Pla_HDBR11345033_AAACCCACAGCAAGAC   \n",
       "\n",
       "                                  assignment_SoC donor_deconv donor_souporcell  \n",
       "Pla_HDBR11345033_AAACCCAAGATGATTG     not_pooled         None           Hrv124  \n",
       "Pla_HDBR11345033_AAACCCACAAGGATGC     not_pooled         None           Hrv124  \n",
       "Pla_HDBR11345033_AAACCCACAATAGTGA     not_pooled         None           Hrv124  \n",
       "Pla_HDBR11345033_AAACCCACACATTCGA     not_pooled         None           Hrv124  \n",
       "Pla_HDBR11345033_AAACCCACAGCAAGAC     not_pooled         None           Hrv124  "
      ]
     },
     "execution_count": 29,
     "metadata": {},
     "output_type": "execute_result"
    }
   ],
   "source": [
    "adata.obs.head()"
   ]
  },
  {
   "cell_type": "code",
   "execution_count": null,
   "id": "twelve-locking",
   "metadata": {},
   "outputs": [],
   "source": []
  },
  {
   "cell_type": "markdown",
   "id": "alive-blend",
   "metadata": {
    "tags": []
   },
   "source": [
    "#### Assigning donor id to cluster\n",
    "Define cross matching samples"
   ]
  },
  {
   "cell_type": "raw",
   "id": "agricultural-standing",
   "metadata": {},
   "source": [
    "set(list(adata.obs.donor_souporcell))"
   ]
  },
  {
   "cell_type": "raw",
   "id": "civil-choice",
   "metadata": {},
   "source": [
    "#Function that changes the cluster names as indicated\n",
    "adata.obs['donor_id'] = (adata.obs[\"donor_souporcell\"].map(lambda x: \n",
    "                            {\"0\": \"Hrv225\", \"1\": \"Hrv232\",  \"Hrv124\":\"Hrv124\",\"Hrv168\":\"Hrv168\",\"Hrv232\":\"Hrv232\",\"Hrv236\":\"Hrv236\",\"souporcell_doublet\":\"donor_doublets\" }\n",
    "                            .get(x, x)).astype(\"category\"))"
   ]
  },
  {
   "cell_type": "raw",
   "id": "sapphire-miami",
   "metadata": {},
   "source": [
    "set(list(adata.obs.donor_id))"
   ]
  },
  {
   "cell_type": "raw",
   "id": "worthy-variety",
   "metadata": {},
   "source": [
    "print('Total number of cells: {:d}'.format(adata.n_obs))"
   ]
  },
  {
   "cell_type": "raw",
   "id": "declared-inflation",
   "metadata": {},
   "source": [
    "adata.obs= adata.obs.drop(columns=['donor_deconv','donor_souporcell'])"
   ]
  },
  {
   "cell_type": "raw",
   "id": "planned-bookmark",
   "metadata": {},
   "source": [
    "adata.obs"
   ]
  },
  {
   "cell_type": "code",
   "execution_count": 8,
   "id": "marked-optimization",
   "metadata": {},
   "outputs": [],
   "source": [
    "adata.obs['donor_id']=adata.obs['donor'].copy()"
   ]
  },
  {
   "cell_type": "code",
   "execution_count": 9,
   "id": "speaking-syria",
   "metadata": {},
   "outputs": [
    {
     "data": {
      "text/plain": [
       "AnnData object with n_obs × n_vars = 42785 × 42294\n",
       "    obs: 'sample', 'stage', 'donor', 'hpi', 'infection', 'percent_mito', 'n_counts', 'n_genes', 'batch', 'scrublet_score', 'scrublet_cluster_score', 'zscore', 'bh_pval', 'bonf_pval', 'is_doublet', 'infection_stage', 'S_score', 'G2M_score', 'phase', 'donor_id'\n",
       "    var: 'gene_ids', 'feature_types', 'mean', 'std'\n",
       "    layers: 'raw_counts'"
      ]
     },
     "execution_count": 9,
     "metadata": {},
     "output_type": "execute_result"
    }
   ],
   "source": [
    "adata"
   ]
  },
  {
   "cell_type": "code",
   "execution_count": null,
   "id": "dutch-nepal",
   "metadata": {},
   "outputs": [],
   "source": []
  },
  {
   "cell_type": "code",
   "execution_count": null,
   "id": "electric-istanbul",
   "metadata": {},
   "outputs": [],
   "source": []
  },
  {
   "cell_type": "markdown",
   "id": "collected-vehicle",
   "metadata": {},
   "source": [
    "## Load scrublet"
   ]
  },
  {
   "cell_type": "code",
   "execution_count": 15,
   "id": "happy-eagle",
   "metadata": {},
   "outputs": [],
   "source": [
    "scorenames = ['scrublet_score','scrublet_cluster_score','zscore','bh_pval','bonf_pval']\n",
    "\n",
    "scrdf = []\n",
    "for sample in meta.index:\n",
    "    #reading the scrublet scores done in S0\n",
    "    scrdf.append(pd.read_csv(data_dir+'scrublet-scores/'+sample+'.csv', header=0, index_col=0))\n",
    "#scrdf.append(pd.read_csv('scrublet-scores/'+sample+'.csv', header=0, index_col=0))\n",
    "#scrdf.append(pd.read_csv('scrublet-scores/'+sample+'soupX.csv', header=0, index_col=0))\n",
    "scrdf = pd.concat(scrdf)\n",
    "scrdf.index = [i.replace('-1', '') for i in scrdf.index]\n",
    "for score in scorenames:\n",
    "    adata.obs[score] = scrdf[score]\n",
    "# In scrublet the significant p-value mark doublets\n",
    "adata.obs['is_doublet'] = adata.obs['bonf_pval'] < 0.01"
   ]
  },
  {
   "cell_type": "code",
   "execution_count": 16,
   "id": "sought-crystal",
   "metadata": {},
   "outputs": [
    {
     "data": {
      "text/html": [
       "<div>\n",
       "<style scoped>\n",
       "    .dataframe tbody tr th:only-of-type {\n",
       "        vertical-align: middle;\n",
       "    }\n",
       "\n",
       "    .dataframe tbody tr th {\n",
       "        vertical-align: top;\n",
       "    }\n",
       "\n",
       "    .dataframe thead th {\n",
       "        text-align: right;\n",
       "    }\n",
       "</style>\n",
       "<table border=\"1\" class=\"dataframe\">\n",
       "  <thead>\n",
       "    <tr style=\"text-align: right;\">\n",
       "      <th></th>\n",
       "      <th>sample</th>\n",
       "      <th>stage</th>\n",
       "      <th>donor</th>\n",
       "      <th>hpi</th>\n",
       "      <th>infection</th>\n",
       "      <th>percent_mito</th>\n",
       "      <th>n_counts</th>\n",
       "      <th>n_genes</th>\n",
       "      <th>batch</th>\n",
       "      <th>scrublet_score</th>\n",
       "      <th>scrublet_cluster_score</th>\n",
       "      <th>zscore</th>\n",
       "      <th>bh_pval</th>\n",
       "      <th>bonf_pval</th>\n",
       "      <th>is_doublet</th>\n",
       "    </tr>\n",
       "  </thead>\n",
       "  <tbody>\n",
       "    <tr>\n",
       "      <th>Pla_HDBR13661567_AAACCCACAATATCCG</th>\n",
       "      <td>Pla_HDBR13661567</td>\n",
       "      <td>UI_48h</td>\n",
       "      <td>Hrv232</td>\n",
       "      <td>48h</td>\n",
       "      <td>UI</td>\n",
       "      <td>0.017139</td>\n",
       "      <td>45511.0</td>\n",
       "      <td>45511.0</td>\n",
       "      <td>0</td>\n",
       "      <td>0.112936</td>\n",
       "      <td>0.165912</td>\n",
       "      <td>1.714922</td>\n",
       "      <td>0.850762</td>\n",
       "      <td>1.0</td>\n",
       "      <td>False</td>\n",
       "    </tr>\n",
       "    <tr>\n",
       "      <th>Pla_HDBR13661567_AAACCCACACCGTCTT</th>\n",
       "      <td>Pla_HDBR13661567</td>\n",
       "      <td>UI_48h</td>\n",
       "      <td>Hrv232</td>\n",
       "      <td>48h</td>\n",
       "      <td>UI</td>\n",
       "      <td>0.049120</td>\n",
       "      <td>47679.0</td>\n",
       "      <td>47679.0</td>\n",
       "      <td>0</td>\n",
       "      <td>0.136842</td>\n",
       "      <td>0.125828</td>\n",
       "      <td>0.755861</td>\n",
       "      <td>0.850762</td>\n",
       "      <td>1.0</td>\n",
       "      <td>False</td>\n",
       "    </tr>\n",
       "    <tr>\n",
       "      <th>Pla_HDBR13661567_AAACCCACAGACCCGT</th>\n",
       "      <td>Pla_HDBR13661567</td>\n",
       "      <td>UI_48h</td>\n",
       "      <td>Hrv232</td>\n",
       "      <td>48h</td>\n",
       "      <td>UI</td>\n",
       "      <td>0.037424</td>\n",
       "      <td>77464.0</td>\n",
       "      <td>77464.0</td>\n",
       "      <td>0</td>\n",
       "      <td>0.277108</td>\n",
       "      <td>0.125828</td>\n",
       "      <td>0.755861</td>\n",
       "      <td>0.850762</td>\n",
       "      <td>1.0</td>\n",
       "      <td>False</td>\n",
       "    </tr>\n",
       "    <tr>\n",
       "      <th>Pla_HDBR13661567_AAACCCACAGCTACCG</th>\n",
       "      <td>Pla_HDBR13661567</td>\n",
       "      <td>UI_48h</td>\n",
       "      <td>Hrv232</td>\n",
       "      <td>48h</td>\n",
       "      <td>UI</td>\n",
       "      <td>0.032514</td>\n",
       "      <td>61851.0</td>\n",
       "      <td>61851.0</td>\n",
       "      <td>0</td>\n",
       "      <td>0.129359</td>\n",
       "      <td>0.122427</td>\n",
       "      <td>0.674491</td>\n",
       "      <td>0.850762</td>\n",
       "      <td>1.0</td>\n",
       "      <td>False</td>\n",
       "    </tr>\n",
       "    <tr>\n",
       "      <th>Pla_HDBR13661567_AAACCCACAGCTTCGG</th>\n",
       "      <td>Pla_HDBR13661567</td>\n",
       "      <td>UI_48h</td>\n",
       "      <td>Hrv232</td>\n",
       "      <td>48h</td>\n",
       "      <td>UI</td>\n",
       "      <td>0.025810</td>\n",
       "      <td>19992.0</td>\n",
       "      <td>19992.0</td>\n",
       "      <td>0</td>\n",
       "      <td>0.096654</td>\n",
       "      <td>0.101727</td>\n",
       "      <td>0.179238</td>\n",
       "      <td>0.914571</td>\n",
       "      <td>1.0</td>\n",
       "      <td>False</td>\n",
       "    </tr>\n",
       "    <tr>\n",
       "      <th>...</th>\n",
       "      <td>...</td>\n",
       "      <td>...</td>\n",
       "      <td>...</td>\n",
       "      <td>...</td>\n",
       "      <td>...</td>\n",
       "      <td>...</td>\n",
       "      <td>...</td>\n",
       "      <td>...</td>\n",
       "      <td>...</td>\n",
       "      <td>...</td>\n",
       "      <td>...</td>\n",
       "      <td>...</td>\n",
       "      <td>...</td>\n",
       "      <td>...</td>\n",
       "      <td>...</td>\n",
       "    </tr>\n",
       "    <tr>\n",
       "      <th>Pla_HDBR13661574_TTTGTTGTCGATTCCC</th>\n",
       "      <td>Pla_HDBR13661574</td>\n",
       "      <td>Pf_48h</td>\n",
       "      <td>Hrv236</td>\n",
       "      <td>48h</td>\n",
       "      <td>Pf</td>\n",
       "      <td>0.063421</td>\n",
       "      <td>2917.0</td>\n",
       "      <td>2917.0</td>\n",
       "      <td>3</td>\n",
       "      <td>0.269841</td>\n",
       "      <td>0.251248</td>\n",
       "      <td>2.564732</td>\n",
       "      <td>0.703246</td>\n",
       "      <td>1.0</td>\n",
       "      <td>False</td>\n",
       "    </tr>\n",
       "    <tr>\n",
       "      <th>Pla_HDBR13661574_TTTGTTGTCGCAACAT</th>\n",
       "      <td>Pla_HDBR13661574</td>\n",
       "      <td>Pf_48h</td>\n",
       "      <td>Hrv236</td>\n",
       "      <td>48h</td>\n",
       "      <td>Pf</td>\n",
       "      <td>0.037822</td>\n",
       "      <td>25276.0</td>\n",
       "      <td>25276.0</td>\n",
       "      <td>3</td>\n",
       "      <td>0.132308</td>\n",
       "      <td>0.139214</td>\n",
       "      <td>0.674491</td>\n",
       "      <td>0.703246</td>\n",
       "      <td>1.0</td>\n",
       "      <td>False</td>\n",
       "    </tr>\n",
       "    <tr>\n",
       "      <th>Pla_HDBR13661574_TTTGTTGTCGGTAGAG</th>\n",
       "      <td>Pla_HDBR13661574</td>\n",
       "      <td>Pf_48h</td>\n",
       "      <td>Hrv236</td>\n",
       "      <td>48h</td>\n",
       "      <td>Pf</td>\n",
       "      <td>0.600649</td>\n",
       "      <td>924.0</td>\n",
       "      <td>924.0</td>\n",
       "      <td>3</td>\n",
       "      <td>0.142857</td>\n",
       "      <td>0.096990</td>\n",
       "      <td>-0.037906</td>\n",
       "      <td>0.703246</td>\n",
       "      <td>1.0</td>\n",
       "      <td>False</td>\n",
       "    </tr>\n",
       "    <tr>\n",
       "      <th>Pla_HDBR13661574_TTTGTTGTCTCAGGCG</th>\n",
       "      <td>Pla_HDBR13661574</td>\n",
       "      <td>Pf_48h</td>\n",
       "      <td>Hrv236</td>\n",
       "      <td>48h</td>\n",
       "      <td>Pf</td>\n",
       "      <td>0.024197</td>\n",
       "      <td>117991.0</td>\n",
       "      <td>117991.0</td>\n",
       "      <td>3</td>\n",
       "      <td>0.200000</td>\n",
       "      <td>0.177665</td>\n",
       "      <td>1.323242</td>\n",
       "      <td>0.703246</td>\n",
       "      <td>1.0</td>\n",
       "      <td>False</td>\n",
       "    </tr>\n",
       "    <tr>\n",
       "      <th>Pla_HDBR13661574_TTTGTTGTCTGCGTCT</th>\n",
       "      <td>Pla_HDBR13661574</td>\n",
       "      <td>Pf_48h</td>\n",
       "      <td>Hrv236</td>\n",
       "      <td>48h</td>\n",
       "      <td>Pf</td>\n",
       "      <td>0.653643</td>\n",
       "      <td>947.0</td>\n",
       "      <td>947.0</td>\n",
       "      <td>3</td>\n",
       "      <td>0.090617</td>\n",
       "      <td>0.083818</td>\n",
       "      <td>-0.260147</td>\n",
       "      <td>0.703246</td>\n",
       "      <td>1.0</td>\n",
       "      <td>False</td>\n",
       "    </tr>\n",
       "  </tbody>\n",
       "</table>\n",
       "<p>42785 rows × 15 columns</p>\n",
       "</div>"
      ],
      "text/plain": [
       "                                             sample   stage   donor  hpi  \\\n",
       "Pla_HDBR13661567_AAACCCACAATATCCG  Pla_HDBR13661567  UI_48h  Hrv232  48h   \n",
       "Pla_HDBR13661567_AAACCCACACCGTCTT  Pla_HDBR13661567  UI_48h  Hrv232  48h   \n",
       "Pla_HDBR13661567_AAACCCACAGACCCGT  Pla_HDBR13661567  UI_48h  Hrv232  48h   \n",
       "Pla_HDBR13661567_AAACCCACAGCTACCG  Pla_HDBR13661567  UI_48h  Hrv232  48h   \n",
       "Pla_HDBR13661567_AAACCCACAGCTTCGG  Pla_HDBR13661567  UI_48h  Hrv232  48h   \n",
       "...                                             ...     ...     ...  ...   \n",
       "Pla_HDBR13661574_TTTGTTGTCGATTCCC  Pla_HDBR13661574  Pf_48h  Hrv236  48h   \n",
       "Pla_HDBR13661574_TTTGTTGTCGCAACAT  Pla_HDBR13661574  Pf_48h  Hrv236  48h   \n",
       "Pla_HDBR13661574_TTTGTTGTCGGTAGAG  Pla_HDBR13661574  Pf_48h  Hrv236  48h   \n",
       "Pla_HDBR13661574_TTTGTTGTCTCAGGCG  Pla_HDBR13661574  Pf_48h  Hrv236  48h   \n",
       "Pla_HDBR13661574_TTTGTTGTCTGCGTCT  Pla_HDBR13661574  Pf_48h  Hrv236  48h   \n",
       "\n",
       "                                  infection  percent_mito  n_counts   n_genes  \\\n",
       "Pla_HDBR13661567_AAACCCACAATATCCG        UI      0.017139   45511.0   45511.0   \n",
       "Pla_HDBR13661567_AAACCCACACCGTCTT        UI      0.049120   47679.0   47679.0   \n",
       "Pla_HDBR13661567_AAACCCACAGACCCGT        UI      0.037424   77464.0   77464.0   \n",
       "Pla_HDBR13661567_AAACCCACAGCTACCG        UI      0.032514   61851.0   61851.0   \n",
       "Pla_HDBR13661567_AAACCCACAGCTTCGG        UI      0.025810   19992.0   19992.0   \n",
       "...                                     ...           ...       ...       ...   \n",
       "Pla_HDBR13661574_TTTGTTGTCGATTCCC        Pf      0.063421    2917.0    2917.0   \n",
       "Pla_HDBR13661574_TTTGTTGTCGCAACAT        Pf      0.037822   25276.0   25276.0   \n",
       "Pla_HDBR13661574_TTTGTTGTCGGTAGAG        Pf      0.600649     924.0     924.0   \n",
       "Pla_HDBR13661574_TTTGTTGTCTCAGGCG        Pf      0.024197  117991.0  117991.0   \n",
       "Pla_HDBR13661574_TTTGTTGTCTGCGTCT        Pf      0.653643     947.0     947.0   \n",
       "\n",
       "                                  batch  scrublet_score  \\\n",
       "Pla_HDBR13661567_AAACCCACAATATCCG     0        0.112936   \n",
       "Pla_HDBR13661567_AAACCCACACCGTCTT     0        0.136842   \n",
       "Pla_HDBR13661567_AAACCCACAGACCCGT     0        0.277108   \n",
       "Pla_HDBR13661567_AAACCCACAGCTACCG     0        0.129359   \n",
       "Pla_HDBR13661567_AAACCCACAGCTTCGG     0        0.096654   \n",
       "...                                 ...             ...   \n",
       "Pla_HDBR13661574_TTTGTTGTCGATTCCC     3        0.269841   \n",
       "Pla_HDBR13661574_TTTGTTGTCGCAACAT     3        0.132308   \n",
       "Pla_HDBR13661574_TTTGTTGTCGGTAGAG     3        0.142857   \n",
       "Pla_HDBR13661574_TTTGTTGTCTCAGGCG     3        0.200000   \n",
       "Pla_HDBR13661574_TTTGTTGTCTGCGTCT     3        0.090617   \n",
       "\n",
       "                                   scrublet_cluster_score    zscore   bh_pval  \\\n",
       "Pla_HDBR13661567_AAACCCACAATATCCG                0.165912  1.714922  0.850762   \n",
       "Pla_HDBR13661567_AAACCCACACCGTCTT                0.125828  0.755861  0.850762   \n",
       "Pla_HDBR13661567_AAACCCACAGACCCGT                0.125828  0.755861  0.850762   \n",
       "Pla_HDBR13661567_AAACCCACAGCTACCG                0.122427  0.674491  0.850762   \n",
       "Pla_HDBR13661567_AAACCCACAGCTTCGG                0.101727  0.179238  0.914571   \n",
       "...                                                   ...       ...       ...   \n",
       "Pla_HDBR13661574_TTTGTTGTCGATTCCC                0.251248  2.564732  0.703246   \n",
       "Pla_HDBR13661574_TTTGTTGTCGCAACAT                0.139214  0.674491  0.703246   \n",
       "Pla_HDBR13661574_TTTGTTGTCGGTAGAG                0.096990 -0.037906  0.703246   \n",
       "Pla_HDBR13661574_TTTGTTGTCTCAGGCG                0.177665  1.323242  0.703246   \n",
       "Pla_HDBR13661574_TTTGTTGTCTGCGTCT                0.083818 -0.260147  0.703246   \n",
       "\n",
       "                                   bonf_pval  is_doublet  \n",
       "Pla_HDBR13661567_AAACCCACAATATCCG        1.0       False  \n",
       "Pla_HDBR13661567_AAACCCACACCGTCTT        1.0       False  \n",
       "Pla_HDBR13661567_AAACCCACAGACCCGT        1.0       False  \n",
       "Pla_HDBR13661567_AAACCCACAGCTACCG        1.0       False  \n",
       "Pla_HDBR13661567_AAACCCACAGCTTCGG        1.0       False  \n",
       "...                                      ...         ...  \n",
       "Pla_HDBR13661574_TTTGTTGTCGATTCCC        1.0       False  \n",
       "Pla_HDBR13661574_TTTGTTGTCGCAACAT        1.0       False  \n",
       "Pla_HDBR13661574_TTTGTTGTCGGTAGAG        1.0       False  \n",
       "Pla_HDBR13661574_TTTGTTGTCTCAGGCG        1.0       False  \n",
       "Pla_HDBR13661574_TTTGTTGTCTGCGTCT        1.0       False  \n",
       "\n",
       "[42785 rows x 15 columns]"
      ]
     },
     "execution_count": 16,
     "metadata": {},
     "output_type": "execute_result"
    }
   ],
   "source": [
    "adata.obs"
   ]
  },
  {
   "cell_type": "code",
   "execution_count": null,
   "id": "wanted-currency",
   "metadata": {},
   "outputs": [],
   "source": []
  },
  {
   "cell_type": "code",
   "execution_count": 17,
   "id": "latin-receipt",
   "metadata": {},
   "outputs": [],
   "source": [
    "#concatenating columns and creating new one\n",
    "adata.obs[\"infection_stage\"] = adata.obs[\"infection\"].astype('string') +'_'+ adata.obs[\"hpi\"]"
   ]
  },
  {
   "cell_type": "code",
   "execution_count": 18,
   "id": "elder-latino",
   "metadata": {},
   "outputs": [],
   "source": [
    "adata.obs[\"infection_stage\"] = adata.obs[\"infection_stage\"].astype(\"category\")"
   ]
  },
  {
   "cell_type": "code",
   "execution_count": 19,
   "id": "improved-encoding",
   "metadata": {},
   "outputs": [
    {
     "data": {
      "text/plain": [
       "{'Pf_48h', 'UI_48h'}"
      ]
     },
     "execution_count": 19,
     "metadata": {},
     "output_type": "execute_result"
    }
   ],
   "source": [
    "set(adata.obs[\"infection_stage\"])"
   ]
  },
  {
   "cell_type": "code",
   "execution_count": 20,
   "id": "corporate-posting",
   "metadata": {},
   "outputs": [
    {
     "data": {
      "text/html": [
       "<div>\n",
       "<style scoped>\n",
       "    .dataframe tbody tr th:only-of-type {\n",
       "        vertical-align: middle;\n",
       "    }\n",
       "\n",
       "    .dataframe tbody tr th {\n",
       "        vertical-align: top;\n",
       "    }\n",
       "\n",
       "    .dataframe thead th {\n",
       "        text-align: right;\n",
       "    }\n",
       "</style>\n",
       "<table border=\"1\" class=\"dataframe\">\n",
       "  <thead>\n",
       "    <tr style=\"text-align: right;\">\n",
       "      <th></th>\n",
       "      <th>sample</th>\n",
       "      <th>stage</th>\n",
       "      <th>donor</th>\n",
       "      <th>hpi</th>\n",
       "      <th>infection</th>\n",
       "      <th>percent_mito</th>\n",
       "      <th>n_counts</th>\n",
       "      <th>n_genes</th>\n",
       "      <th>batch</th>\n",
       "      <th>scrublet_score</th>\n",
       "      <th>scrublet_cluster_score</th>\n",
       "      <th>zscore</th>\n",
       "      <th>bh_pval</th>\n",
       "      <th>bonf_pval</th>\n",
       "      <th>is_doublet</th>\n",
       "      <th>infection_stage</th>\n",
       "    </tr>\n",
       "  </thead>\n",
       "  <tbody>\n",
       "    <tr>\n",
       "      <th>Pla_HDBR13661567_AAACCCACAATATCCG</th>\n",
       "      <td>Pla_HDBR13661567</td>\n",
       "      <td>UI_48h</td>\n",
       "      <td>Hrv232</td>\n",
       "      <td>48h</td>\n",
       "      <td>UI</td>\n",
       "      <td>0.017139</td>\n",
       "      <td>45511.0</td>\n",
       "      <td>45511.0</td>\n",
       "      <td>0</td>\n",
       "      <td>0.112936</td>\n",
       "      <td>0.165912</td>\n",
       "      <td>1.714922</td>\n",
       "      <td>0.850762</td>\n",
       "      <td>1.0</td>\n",
       "      <td>False</td>\n",
       "      <td>UI_48h</td>\n",
       "    </tr>\n",
       "    <tr>\n",
       "      <th>Pla_HDBR13661567_AAACCCACACCGTCTT</th>\n",
       "      <td>Pla_HDBR13661567</td>\n",
       "      <td>UI_48h</td>\n",
       "      <td>Hrv232</td>\n",
       "      <td>48h</td>\n",
       "      <td>UI</td>\n",
       "      <td>0.049120</td>\n",
       "      <td>47679.0</td>\n",
       "      <td>47679.0</td>\n",
       "      <td>0</td>\n",
       "      <td>0.136842</td>\n",
       "      <td>0.125828</td>\n",
       "      <td>0.755861</td>\n",
       "      <td>0.850762</td>\n",
       "      <td>1.0</td>\n",
       "      <td>False</td>\n",
       "      <td>UI_48h</td>\n",
       "    </tr>\n",
       "    <tr>\n",
       "      <th>Pla_HDBR13661567_AAACCCACAGACCCGT</th>\n",
       "      <td>Pla_HDBR13661567</td>\n",
       "      <td>UI_48h</td>\n",
       "      <td>Hrv232</td>\n",
       "      <td>48h</td>\n",
       "      <td>UI</td>\n",
       "      <td>0.037424</td>\n",
       "      <td>77464.0</td>\n",
       "      <td>77464.0</td>\n",
       "      <td>0</td>\n",
       "      <td>0.277108</td>\n",
       "      <td>0.125828</td>\n",
       "      <td>0.755861</td>\n",
       "      <td>0.850762</td>\n",
       "      <td>1.0</td>\n",
       "      <td>False</td>\n",
       "      <td>UI_48h</td>\n",
       "    </tr>\n",
       "    <tr>\n",
       "      <th>Pla_HDBR13661567_AAACCCACAGCTACCG</th>\n",
       "      <td>Pla_HDBR13661567</td>\n",
       "      <td>UI_48h</td>\n",
       "      <td>Hrv232</td>\n",
       "      <td>48h</td>\n",
       "      <td>UI</td>\n",
       "      <td>0.032514</td>\n",
       "      <td>61851.0</td>\n",
       "      <td>61851.0</td>\n",
       "      <td>0</td>\n",
       "      <td>0.129359</td>\n",
       "      <td>0.122427</td>\n",
       "      <td>0.674491</td>\n",
       "      <td>0.850762</td>\n",
       "      <td>1.0</td>\n",
       "      <td>False</td>\n",
       "      <td>UI_48h</td>\n",
       "    </tr>\n",
       "    <tr>\n",
       "      <th>Pla_HDBR13661567_AAACCCACAGCTTCGG</th>\n",
       "      <td>Pla_HDBR13661567</td>\n",
       "      <td>UI_48h</td>\n",
       "      <td>Hrv232</td>\n",
       "      <td>48h</td>\n",
       "      <td>UI</td>\n",
       "      <td>0.025810</td>\n",
       "      <td>19992.0</td>\n",
       "      <td>19992.0</td>\n",
       "      <td>0</td>\n",
       "      <td>0.096654</td>\n",
       "      <td>0.101727</td>\n",
       "      <td>0.179238</td>\n",
       "      <td>0.914571</td>\n",
       "      <td>1.0</td>\n",
       "      <td>False</td>\n",
       "      <td>UI_48h</td>\n",
       "    </tr>\n",
       "    <tr>\n",
       "      <th>...</th>\n",
       "      <td>...</td>\n",
       "      <td>...</td>\n",
       "      <td>...</td>\n",
       "      <td>...</td>\n",
       "      <td>...</td>\n",
       "      <td>...</td>\n",
       "      <td>...</td>\n",
       "      <td>...</td>\n",
       "      <td>...</td>\n",
       "      <td>...</td>\n",
       "      <td>...</td>\n",
       "      <td>...</td>\n",
       "      <td>...</td>\n",
       "      <td>...</td>\n",
       "      <td>...</td>\n",
       "      <td>...</td>\n",
       "    </tr>\n",
       "    <tr>\n",
       "      <th>Pla_HDBR13661574_TTTGTTGTCGATTCCC</th>\n",
       "      <td>Pla_HDBR13661574</td>\n",
       "      <td>Pf_48h</td>\n",
       "      <td>Hrv236</td>\n",
       "      <td>48h</td>\n",
       "      <td>Pf</td>\n",
       "      <td>0.063421</td>\n",
       "      <td>2917.0</td>\n",
       "      <td>2917.0</td>\n",
       "      <td>3</td>\n",
       "      <td>0.269841</td>\n",
       "      <td>0.251248</td>\n",
       "      <td>2.564732</td>\n",
       "      <td>0.703246</td>\n",
       "      <td>1.0</td>\n",
       "      <td>False</td>\n",
       "      <td>Pf_48h</td>\n",
       "    </tr>\n",
       "    <tr>\n",
       "      <th>Pla_HDBR13661574_TTTGTTGTCGCAACAT</th>\n",
       "      <td>Pla_HDBR13661574</td>\n",
       "      <td>Pf_48h</td>\n",
       "      <td>Hrv236</td>\n",
       "      <td>48h</td>\n",
       "      <td>Pf</td>\n",
       "      <td>0.037822</td>\n",
       "      <td>25276.0</td>\n",
       "      <td>25276.0</td>\n",
       "      <td>3</td>\n",
       "      <td>0.132308</td>\n",
       "      <td>0.139214</td>\n",
       "      <td>0.674491</td>\n",
       "      <td>0.703246</td>\n",
       "      <td>1.0</td>\n",
       "      <td>False</td>\n",
       "      <td>Pf_48h</td>\n",
       "    </tr>\n",
       "    <tr>\n",
       "      <th>Pla_HDBR13661574_TTTGTTGTCGGTAGAG</th>\n",
       "      <td>Pla_HDBR13661574</td>\n",
       "      <td>Pf_48h</td>\n",
       "      <td>Hrv236</td>\n",
       "      <td>48h</td>\n",
       "      <td>Pf</td>\n",
       "      <td>0.600649</td>\n",
       "      <td>924.0</td>\n",
       "      <td>924.0</td>\n",
       "      <td>3</td>\n",
       "      <td>0.142857</td>\n",
       "      <td>0.096990</td>\n",
       "      <td>-0.037906</td>\n",
       "      <td>0.703246</td>\n",
       "      <td>1.0</td>\n",
       "      <td>False</td>\n",
       "      <td>Pf_48h</td>\n",
       "    </tr>\n",
       "    <tr>\n",
       "      <th>Pla_HDBR13661574_TTTGTTGTCTCAGGCG</th>\n",
       "      <td>Pla_HDBR13661574</td>\n",
       "      <td>Pf_48h</td>\n",
       "      <td>Hrv236</td>\n",
       "      <td>48h</td>\n",
       "      <td>Pf</td>\n",
       "      <td>0.024197</td>\n",
       "      <td>117991.0</td>\n",
       "      <td>117991.0</td>\n",
       "      <td>3</td>\n",
       "      <td>0.200000</td>\n",
       "      <td>0.177665</td>\n",
       "      <td>1.323242</td>\n",
       "      <td>0.703246</td>\n",
       "      <td>1.0</td>\n",
       "      <td>False</td>\n",
       "      <td>Pf_48h</td>\n",
       "    </tr>\n",
       "    <tr>\n",
       "      <th>Pla_HDBR13661574_TTTGTTGTCTGCGTCT</th>\n",
       "      <td>Pla_HDBR13661574</td>\n",
       "      <td>Pf_48h</td>\n",
       "      <td>Hrv236</td>\n",
       "      <td>48h</td>\n",
       "      <td>Pf</td>\n",
       "      <td>0.653643</td>\n",
       "      <td>947.0</td>\n",
       "      <td>947.0</td>\n",
       "      <td>3</td>\n",
       "      <td>0.090617</td>\n",
       "      <td>0.083818</td>\n",
       "      <td>-0.260147</td>\n",
       "      <td>0.703246</td>\n",
       "      <td>1.0</td>\n",
       "      <td>False</td>\n",
       "      <td>Pf_48h</td>\n",
       "    </tr>\n",
       "  </tbody>\n",
       "</table>\n",
       "<p>42785 rows × 16 columns</p>\n",
       "</div>"
      ],
      "text/plain": [
       "                                             sample   stage   donor  hpi  \\\n",
       "Pla_HDBR13661567_AAACCCACAATATCCG  Pla_HDBR13661567  UI_48h  Hrv232  48h   \n",
       "Pla_HDBR13661567_AAACCCACACCGTCTT  Pla_HDBR13661567  UI_48h  Hrv232  48h   \n",
       "Pla_HDBR13661567_AAACCCACAGACCCGT  Pla_HDBR13661567  UI_48h  Hrv232  48h   \n",
       "Pla_HDBR13661567_AAACCCACAGCTACCG  Pla_HDBR13661567  UI_48h  Hrv232  48h   \n",
       "Pla_HDBR13661567_AAACCCACAGCTTCGG  Pla_HDBR13661567  UI_48h  Hrv232  48h   \n",
       "...                                             ...     ...     ...  ...   \n",
       "Pla_HDBR13661574_TTTGTTGTCGATTCCC  Pla_HDBR13661574  Pf_48h  Hrv236  48h   \n",
       "Pla_HDBR13661574_TTTGTTGTCGCAACAT  Pla_HDBR13661574  Pf_48h  Hrv236  48h   \n",
       "Pla_HDBR13661574_TTTGTTGTCGGTAGAG  Pla_HDBR13661574  Pf_48h  Hrv236  48h   \n",
       "Pla_HDBR13661574_TTTGTTGTCTCAGGCG  Pla_HDBR13661574  Pf_48h  Hrv236  48h   \n",
       "Pla_HDBR13661574_TTTGTTGTCTGCGTCT  Pla_HDBR13661574  Pf_48h  Hrv236  48h   \n",
       "\n",
       "                                  infection  percent_mito  n_counts   n_genes  \\\n",
       "Pla_HDBR13661567_AAACCCACAATATCCG        UI      0.017139   45511.0   45511.0   \n",
       "Pla_HDBR13661567_AAACCCACACCGTCTT        UI      0.049120   47679.0   47679.0   \n",
       "Pla_HDBR13661567_AAACCCACAGACCCGT        UI      0.037424   77464.0   77464.0   \n",
       "Pla_HDBR13661567_AAACCCACAGCTACCG        UI      0.032514   61851.0   61851.0   \n",
       "Pla_HDBR13661567_AAACCCACAGCTTCGG        UI      0.025810   19992.0   19992.0   \n",
       "...                                     ...           ...       ...       ...   \n",
       "Pla_HDBR13661574_TTTGTTGTCGATTCCC        Pf      0.063421    2917.0    2917.0   \n",
       "Pla_HDBR13661574_TTTGTTGTCGCAACAT        Pf      0.037822   25276.0   25276.0   \n",
       "Pla_HDBR13661574_TTTGTTGTCGGTAGAG        Pf      0.600649     924.0     924.0   \n",
       "Pla_HDBR13661574_TTTGTTGTCTCAGGCG        Pf      0.024197  117991.0  117991.0   \n",
       "Pla_HDBR13661574_TTTGTTGTCTGCGTCT        Pf      0.653643     947.0     947.0   \n",
       "\n",
       "                                  batch  scrublet_score  \\\n",
       "Pla_HDBR13661567_AAACCCACAATATCCG     0        0.112936   \n",
       "Pla_HDBR13661567_AAACCCACACCGTCTT     0        0.136842   \n",
       "Pla_HDBR13661567_AAACCCACAGACCCGT     0        0.277108   \n",
       "Pla_HDBR13661567_AAACCCACAGCTACCG     0        0.129359   \n",
       "Pla_HDBR13661567_AAACCCACAGCTTCGG     0        0.096654   \n",
       "...                                 ...             ...   \n",
       "Pla_HDBR13661574_TTTGTTGTCGATTCCC     3        0.269841   \n",
       "Pla_HDBR13661574_TTTGTTGTCGCAACAT     3        0.132308   \n",
       "Pla_HDBR13661574_TTTGTTGTCGGTAGAG     3        0.142857   \n",
       "Pla_HDBR13661574_TTTGTTGTCTCAGGCG     3        0.200000   \n",
       "Pla_HDBR13661574_TTTGTTGTCTGCGTCT     3        0.090617   \n",
       "\n",
       "                                   scrublet_cluster_score    zscore   bh_pval  \\\n",
       "Pla_HDBR13661567_AAACCCACAATATCCG                0.165912  1.714922  0.850762   \n",
       "Pla_HDBR13661567_AAACCCACACCGTCTT                0.125828  0.755861  0.850762   \n",
       "Pla_HDBR13661567_AAACCCACAGACCCGT                0.125828  0.755861  0.850762   \n",
       "Pla_HDBR13661567_AAACCCACAGCTACCG                0.122427  0.674491  0.850762   \n",
       "Pla_HDBR13661567_AAACCCACAGCTTCGG                0.101727  0.179238  0.914571   \n",
       "...                                                   ...       ...       ...   \n",
       "Pla_HDBR13661574_TTTGTTGTCGATTCCC                0.251248  2.564732  0.703246   \n",
       "Pla_HDBR13661574_TTTGTTGTCGCAACAT                0.139214  0.674491  0.703246   \n",
       "Pla_HDBR13661574_TTTGTTGTCGGTAGAG                0.096990 -0.037906  0.703246   \n",
       "Pla_HDBR13661574_TTTGTTGTCTCAGGCG                0.177665  1.323242  0.703246   \n",
       "Pla_HDBR13661574_TTTGTTGTCTGCGTCT                0.083818 -0.260147  0.703246   \n",
       "\n",
       "                                   bonf_pval  is_doublet infection_stage  \n",
       "Pla_HDBR13661567_AAACCCACAATATCCG        1.0       False          UI_48h  \n",
       "Pla_HDBR13661567_AAACCCACACCGTCTT        1.0       False          UI_48h  \n",
       "Pla_HDBR13661567_AAACCCACAGACCCGT        1.0       False          UI_48h  \n",
       "Pla_HDBR13661567_AAACCCACAGCTACCG        1.0       False          UI_48h  \n",
       "Pla_HDBR13661567_AAACCCACAGCTTCGG        1.0       False          UI_48h  \n",
       "...                                      ...         ...             ...  \n",
       "Pla_HDBR13661574_TTTGTTGTCGATTCCC        1.0       False          Pf_48h  \n",
       "Pla_HDBR13661574_TTTGTTGTCGCAACAT        1.0       False          Pf_48h  \n",
       "Pla_HDBR13661574_TTTGTTGTCGGTAGAG        1.0       False          Pf_48h  \n",
       "Pla_HDBR13661574_TTTGTTGTCTCAGGCG        1.0       False          Pf_48h  \n",
       "Pla_HDBR13661574_TTTGTTGTCTGCGTCT        1.0       False          Pf_48h  \n",
       "\n",
       "[42785 rows x 16 columns]"
      ]
     },
     "execution_count": 20,
     "metadata": {},
     "output_type": "execute_result"
    }
   ],
   "source": [
    "adata.obs"
   ]
  },
  {
   "cell_type": "code",
   "execution_count": 21,
   "id": "developing-fifteen",
   "metadata": {},
   "outputs": [],
   "source": [
    "# adding the raw counts\n",
    "adata.layers['raw_counts']=adata.X.copy()"
   ]
  },
  {
   "cell_type": "code",
   "execution_count": 22,
   "id": "increasing-light",
   "metadata": {},
   "outputs": [],
   "source": [
    "import gc"
   ]
  },
  {
   "cell_type": "code",
   "execution_count": 23,
   "id": "progressive-sailing",
   "metadata": {},
   "outputs": [],
   "source": [
    "del(holder)"
   ]
  },
  {
   "cell_type": "code",
   "execution_count": 24,
   "id": "toxic-support",
   "metadata": {},
   "outputs": [
    {
     "data": {
      "text/plain": [
       "10145"
      ]
     },
     "execution_count": 24,
     "metadata": {},
     "output_type": "execute_result"
    }
   ],
   "source": [
    "gc.collect()"
   ]
  },
  {
   "cell_type": "markdown",
   "id": "collective-framing",
   "metadata": {},
   "source": [
    "## Calculate cell-cycle scores AND (optional)regress out cell cycle genes\n",
    "\n",
    "We here perform cell cycle scoring. To score a gene list, the algorithm calculates the difference of mean expression of the given list and the mean expression of reference genes. To build the reference, the function randomly chooses a bunch of genes matching the distribution of the expression of the given list. Cell cycle scoring adds three slots in data, a score for S phase, a score for G2M phase and the predicted cell cycle phase.\n",
    "\n",
    "First read the file with cell cycle genes, from Regev lab and split into S and G2M phase genes. Cell cycle genes were retrieved from the scanpy_usage github site via web browser at RegevLab Github repo."
   ]
  },
  {
   "cell_type": "code",
   "execution_count": null,
   "id": "published-moderator",
   "metadata": {},
   "outputs": [],
   "source": []
  },
  {
   "cell_type": "code",
   "execution_count": 25,
   "id": "finnish-dominican",
   "metadata": {},
   "outputs": [
    {
     "name": "stderr",
     "output_type": "stream",
     "text": [
      "/opt/conda/lib/python3.8/site-packages/pandas/core/arrays/categorical.py:2487: FutureWarning: The `inplace` parameter in pandas.Categorical.remove_unused_categories is deprecated and will be removed in a future version.\n",
      "  res = method(*args, **kwargs)\n"
     ]
    }
   ],
   "source": [
    "#Normalizing the data and scaling for the cell-cycle scoring\n",
    "sc.pp.normalize_per_cell(adata, counts_per_cell_after=1e4)\n",
    "sc.pp.log1p(adata)\n",
    "\n",
    "\n",
    "# Scale\n",
    "sc.pp.scale(adata, max_value=10)"
   ]
  },
  {
   "cell_type": "code",
   "execution_count": 26,
   "id": "leading-vertical",
   "metadata": {},
   "outputs": [
    {
     "data": {
      "text/plain": [
       "AnnData object with n_obs × n_vars = 42785 × 42294\n",
       "    obs: 'sample', 'stage', 'donor', 'hpi', 'infection', 'percent_mito', 'n_counts', 'n_genes', 'batch', 'scrublet_score', 'scrublet_cluster_score', 'zscore', 'bh_pval', 'bonf_pval', 'is_doublet', 'infection_stage'\n",
       "    var: 'gene_ids', 'feature_types', 'mean', 'std'\n",
       "    uns: 'log1p'\n",
       "    layers: 'raw_counts'"
      ]
     },
     "execution_count": 26,
     "metadata": {},
     "output_type": "execute_result"
    }
   ],
   "source": [
    "adata"
   ]
  },
  {
   "cell_type": "code",
   "execution_count": 27,
   "id": "smoking-supplier",
   "metadata": {},
   "outputs": [],
   "source": [
    "adata.write('../data/rna1_counts_Pf_adata.h5ad')\n",
    "\n",
    "#adata= sc.read('../data/rna1_counts_Pf_adata.h5ad')"
   ]
  },
  {
   "cell_type": "code",
   "execution_count": 28,
   "id": "yellow-recording",
   "metadata": {},
   "outputs": [
    {
     "data": {
      "text/plain": [
       "AnnData object with n_obs × n_vars = 42785 × 42294\n",
       "    obs: 'sample', 'stage', 'donor', 'hpi', 'infection', 'percent_mito', 'n_counts', 'n_genes', 'batch', 'scrublet_score', 'scrublet_cluster_score', 'zscore', 'bh_pval', 'bonf_pval', 'is_doublet', 'infection_stage'\n",
       "    var: 'gene_ids', 'feature_types', 'mean', 'std'\n",
       "    uns: 'log1p'\n",
       "    layers: 'raw_counts'"
      ]
     },
     "execution_count": 28,
     "metadata": {},
     "output_type": "execute_result"
    }
   ],
   "source": [
    "adata"
   ]
  },
  {
   "cell_type": "code",
   "execution_count": 30,
   "id": "thermal-adelaide",
   "metadata": {},
   "outputs": [
    {
     "name": "stderr",
     "output_type": "stream",
     "text": [
      "/opt/conda/lib/python3.8/site-packages/pandas/core/arrays/categorical.py:2487: FutureWarning: The `inplace` parameter in pandas.Categorical.remove_unused_categories is deprecated and will be removed in a future version.\n",
      "  res = method(*args, **kwargs)\n",
      "/opt/conda/lib/python3.8/site-packages/pandas/core/arrays/categorical.py:2487: FutureWarning: The `inplace` parameter in pandas.Categorical.remove_unused_categories is deprecated and will be removed in a future version.\n",
      "  res = method(*args, **kwargs)\n"
     ]
    }
   ],
   "source": [
    "# Regress out cell cycle genes\n",
    "cell_cycle_genes = [x.strip() for x in open('../../24h/data/regev_lab_cell_cycle_genes.txt')]\n",
    "s_genes = cell_cycle_genes[:43]\n",
    "g2m_genes = cell_cycle_genes[43:]\n",
    "s_genes = [x for x in s_genes if x in adata.var_names]\n",
    "g2m_genes = [x for x in g2m_genes if x in adata.var_names]\n",
    "sc.tl.score_genes_cell_cycle(adata, s_genes=s_genes, g2m_genes=g2m_genes)\n",
    "# sc.pp.regress_out(adata, ['S_score', 'G2M_score']"
   ]
  },
  {
   "cell_type": "code",
   "execution_count": 31,
   "id": "editorial-vampire",
   "metadata": {},
   "outputs": [
    {
     "data": {
      "text/plain": [
       "AnnData object with n_obs × n_vars = 42785 × 42294\n",
       "    obs: 'sample', 'stage', 'donor', 'hpi', 'infection', 'percent_mito', 'n_counts', 'n_genes', 'batch', 'scrublet_score', 'scrublet_cluster_score', 'zscore', 'bh_pval', 'bonf_pval', 'is_doublet', 'infection_stage', 'S_score', 'G2M_score', 'phase'\n",
       "    var: 'gene_ids', 'feature_types', 'mean', 'std'\n",
       "    uns: 'log1p'\n",
       "    layers: 'raw_counts'"
      ]
     },
     "execution_count": 31,
     "metadata": {},
     "output_type": "execute_result"
    }
   ],
   "source": [
    "adata"
   ]
  },
  {
   "cell_type": "code",
   "execution_count": null,
   "id": "after-registration",
   "metadata": {},
   "outputs": [],
   "source": [
    "adata.obs"
   ]
  },
  {
   "cell_type": "code",
   "execution_count": null,
   "id": "single-hurricane",
   "metadata": {},
   "outputs": [],
   "source": []
  },
  {
   "cell_type": "code",
   "execution_count": null,
   "id": "impaired-mouse",
   "metadata": {},
   "outputs": [],
   "source": []
  },
  {
   "cell_type": "markdown",
   "id": "worst-financing",
   "metadata": {},
   "source": [
    "## Save raw counts"
   ]
  },
  {
   "cell_type": "code",
   "execution_count": 10,
   "id": "indonesian-sellers",
   "metadata": {},
   "outputs": [],
   "source": [
    "# adding the raw counts\n",
    "adata.X=adata.layers['raw_counts'].copy()\n",
    "#adata.raw = adata.copy\n",
    "adata.write('../data/rna1_counts_Pf_adata.h5ad')"
   ]
  },
  {
   "cell_type": "code",
   "execution_count": 7,
   "id": "monthly-chinese",
   "metadata": {},
   "outputs": [],
   "source": [
    "#adata=sc.read('../data/rna1_counts_Pf_adata.h5ad')"
   ]
  },
  {
   "cell_type": "code",
   "execution_count": null,
   "id": "manufactured-villa",
   "metadata": {},
   "outputs": [],
   "source": []
  },
  {
   "cell_type": "code",
   "execution_count": null,
   "id": "medieval-cincinnati",
   "metadata": {},
   "outputs": [],
   "source": []
  },
  {
   "cell_type": "markdown",
   "id": "statewide-organic",
   "metadata": {},
   "source": [
    "## Preview of Plasmodium falciparum UMIs"
   ]
  },
  {
   "cell_type": "markdown",
   "id": "spanish-mixture",
   "metadata": {},
   "source": [
    "Looking at the human and Tg genes.\n",
    "\n",
    "All the Tg genes have the preffix \"TGGT1\" "
   ]
  },
  {
   "cell_type": "code",
   "execution_count": 33,
   "id": "excellent-demand",
   "metadata": {},
   "outputs": [
    {
     "data": {
      "text/html": [
       "<div>\n",
       "<style scoped>\n",
       "    .dataframe tbody tr th:only-of-type {\n",
       "        vertical-align: middle;\n",
       "    }\n",
       "\n",
       "    .dataframe tbody tr th {\n",
       "        vertical-align: top;\n",
       "    }\n",
       "\n",
       "    .dataframe thead th {\n",
       "        text-align: right;\n",
       "    }\n",
       "</style>\n",
       "<table border=\"1\" class=\"dataframe\">\n",
       "  <thead>\n",
       "    <tr style=\"text-align: right;\">\n",
       "      <th></th>\n",
       "      <th>gene_ids</th>\n",
       "      <th>feature_types</th>\n",
       "      <th>mean</th>\n",
       "      <th>std</th>\n",
       "    </tr>\n",
       "  </thead>\n",
       "  <tbody>\n",
       "    <tr>\n",
       "      <th>MIR1302-2HG</th>\n",
       "      <td>ENSG00000243485</td>\n",
       "      <td>Gene Expression</td>\n",
       "      <td>0.000048</td>\n",
       "      <td>0.004639</td>\n",
       "    </tr>\n",
       "    <tr>\n",
       "      <th>FAM138A</th>\n",
       "      <td>ENSG00000237613</td>\n",
       "      <td>Gene Expression</td>\n",
       "      <td>0.000000</td>\n",
       "      <td>1.000000</td>\n",
       "    </tr>\n",
       "    <tr>\n",
       "      <th>OR4F5</th>\n",
       "      <td>ENSG00000186092</td>\n",
       "      <td>Gene Expression</td>\n",
       "      <td>0.000045</td>\n",
       "      <td>0.005801</td>\n",
       "    </tr>\n",
       "    <tr>\n",
       "      <th>AL627309.1</th>\n",
       "      <td>ENSG00000238009</td>\n",
       "      <td>Gene Expression</td>\n",
       "      <td>0.004567</td>\n",
       "      <td>0.057678</td>\n",
       "    </tr>\n",
       "    <tr>\n",
       "      <th>AL627309.3</th>\n",
       "      <td>ENSG00000239945</td>\n",
       "      <td>Gene Expression</td>\n",
       "      <td>0.000000</td>\n",
       "      <td>1.000000</td>\n",
       "    </tr>\n",
       "  </tbody>\n",
       "</table>\n",
       "</div>"
      ],
      "text/plain": [
       "                    gene_ids    feature_types      mean       std\n",
       "MIR1302-2HG  ENSG00000243485  Gene Expression  0.000048  0.004639\n",
       "FAM138A      ENSG00000237613  Gene Expression  0.000000  1.000000\n",
       "OR4F5        ENSG00000186092  Gene Expression  0.000045  0.005801\n",
       "AL627309.1   ENSG00000238009  Gene Expression  0.004567  0.057678\n",
       "AL627309.3   ENSG00000239945  Gene Expression  0.000000  1.000000"
      ]
     },
     "execution_count": 33,
     "metadata": {},
     "output_type": "execute_result"
    }
   ],
   "source": [
    "adata.var.head()"
   ]
  },
  {
   "cell_type": "code",
   "execution_count": 34,
   "id": "democratic-jaguar",
   "metadata": {},
   "outputs": [
    {
     "data": {
      "text/html": [
       "<div>\n",
       "<style scoped>\n",
       "    .dataframe tbody tr th:only-of-type {\n",
       "        vertical-align: middle;\n",
       "    }\n",
       "\n",
       "    .dataframe tbody tr th {\n",
       "        vertical-align: top;\n",
       "    }\n",
       "\n",
       "    .dataframe thead th {\n",
       "        text-align: right;\n",
       "    }\n",
       "</style>\n",
       "<table border=\"1\" class=\"dataframe\">\n",
       "  <thead>\n",
       "    <tr style=\"text-align: right;\">\n",
       "      <th></th>\n",
       "      <th>gene_ids</th>\n",
       "      <th>feature_types</th>\n",
       "      <th>mean</th>\n",
       "      <th>std</th>\n",
       "    </tr>\n",
       "  </thead>\n",
       "  <tbody>\n",
       "    <tr>\n",
       "      <th>RIF-180</th>\n",
       "      <td>PF3D7_0115300</td>\n",
       "      <td>Gene Expression</td>\n",
       "      <td>0.000000</td>\n",
       "      <td>1.000000</td>\n",
       "    </tr>\n",
       "    <tr>\n",
       "      <th>PF3D7_0115400</th>\n",
       "      <td>PF3D7_0115400</td>\n",
       "      <td>Gene Expression</td>\n",
       "      <td>0.000000</td>\n",
       "      <td>1.000000</td>\n",
       "    </tr>\n",
       "    <tr>\n",
       "      <th>PF3D7_0115500</th>\n",
       "      <td>PF3D7_0115500</td>\n",
       "      <td>Gene Expression</td>\n",
       "      <td>0.000000</td>\n",
       "      <td>1.000000</td>\n",
       "    </tr>\n",
       "    <tr>\n",
       "      <th>RIF-181</th>\n",
       "      <td>PF3D7_0115600</td>\n",
       "      <td>Gene Expression</td>\n",
       "      <td>0.000000</td>\n",
       "      <td>1.000000</td>\n",
       "    </tr>\n",
       "    <tr>\n",
       "      <th>VAR-79</th>\n",
       "      <td>PF3D7_0115700</td>\n",
       "      <td>Gene Expression</td>\n",
       "      <td>0.000841</td>\n",
       "      <td>0.032227</td>\n",
       "    </tr>\n",
       "  </tbody>\n",
       "</table>\n",
       "</div>"
      ],
      "text/plain": [
       "                    gene_ids    feature_types      mean       std\n",
       "RIF-180        PF3D7_0115300  Gene Expression  0.000000  1.000000\n",
       "PF3D7_0115400  PF3D7_0115400  Gene Expression  0.000000  1.000000\n",
       "PF3D7_0115500  PF3D7_0115500  Gene Expression  0.000000  1.000000\n",
       "RIF-181        PF3D7_0115600  Gene Expression  0.000000  1.000000\n",
       "VAR-79         PF3D7_0115700  Gene Expression  0.000841  0.032227"
      ]
     },
     "execution_count": 34,
     "metadata": {},
     "output_type": "execute_result"
    }
   ],
   "source": [
    "adata.var.tail()"
   ]
  },
  {
   "cell_type": "code",
   "execution_count": 35,
   "id": "wound-eleven",
   "metadata": {},
   "outputs": [
    {
     "name": "stdout",
     "output_type": "stream",
     "text": [
      "5690\n"
     ]
    }
   ],
   "source": [
    "## Selecting the names of the Tg genes only\n",
    "pf= adata.var.gene_ids.str.contains('PF3D7')\n",
    "print(sum(pf))"
   ]
  },
  {
   "cell_type": "code",
   "execution_count": 36,
   "id": "modern-network",
   "metadata": {},
   "outputs": [],
   "source": [
    "## Giving a flag to differentiate human and Tg genes in my data set\n",
    "##\n",
    "adata.var['hs'] = adata.var.gene_ids.str.startswith('ENSG') ## all human genes\n",
    "adata.var['pf'] = adata.var.gene_ids.str.startswith('PF3D7') ## all toxoplasma genes\n",
    "\n",
    "\n",
    "## Calculating the metrics per cell in my data.\n",
    "sc.pp.calculate_qc_metrics(adata, qc_vars=['hs'], percent_top=None, log1p=False, inplace=True)\n",
    "sc.pp.calculate_qc_metrics(adata, qc_vars=['pf'], percent_top=None, log1p=False, inplace=True)"
   ]
  },
  {
   "cell_type": "code",
   "execution_count": 37,
   "id": "changed-picnic",
   "metadata": {},
   "outputs": [
    {
     "name": "stderr",
     "output_type": "stream",
     "text": [
      "WARNING: saving figure to file ../results/images/preprocessing/scatter_HsPfCounts.pdf\n"
     ]
    },
    {
     "data": {
      "image/png": "[encoded data removed]",
      "text/plain": [
       "<Figure size 417.2x320 with 1 Axes>"
      ]
     },
     "metadata": {
      "needs_background": "light"
     },
     "output_type": "display_data"
    },
    {
     "name": "stderr",
     "output_type": "stream",
     "text": [
      "WARNING: saving figure to file ../results/images/preprocessing/scatter_TotalvsPf.pdf\n"
     ]
    },
    {
     "data": {
      "image/png": "[encoded data removed]",
      "text/plain": [
       "<Figure size 417.2x320 with 1 Axes>"
      ]
     },
     "metadata": {
      "needs_background": "light"
     },
     "output_type": "display_data"
    },
    {
     "data": {
      "image/png": "[encoded data removed]",
      "text/plain": [
       "<Figure size 417.2x320 with 1 Axes>"
      ]
     },
     "metadata": {
      "needs_background": "light"
     },
     "output_type": "display_data"
    }
   ],
   "source": [
    "sc.pl.scatter(adata, x='total_counts_pf', y='total_counts_hs',  color=\"infection\",size=50, save='_HsPfCounts.pdf')\n",
    "sc.pl.scatter(adata, x='pct_counts_pf', y='total_counts', color=\"infection\", size=30, save='_TotalvsPf.pdf')\n",
    "sc.pl.scatter(adata, x='pct_counts_hs', y='total_counts', color=\"infection\", size=30)"
   ]
  },
  {
   "cell_type": "code",
   "execution_count": null,
   "id": "breeding-illustration",
   "metadata": {},
   "outputs": [],
   "source": []
  },
  {
   "cell_type": "code",
   "execution_count": 60,
   "id": "centered-likelihood",
   "metadata": {},
   "outputs": [
    {
     "data": {
      "text/plain": [
       "AnnData object with n_obs × n_vars = 116364 × 42294\n",
       "    obs: 'sample', 'stage', 'donor', 'hpi', 'infection', 'percent_mito', 'n_counts', 'n_genes', 'batch', 'sample_barcode', 'assignment_SoC', 'donor_id', 'scrublet_score', 'scrublet_cluster_score', 'zscore', 'bh_pval', 'bonf_pval', 'is_doublet', 'infection_stage', 'S_score', 'G2M_score', 'phase', 'n_genes_by_counts', 'total_counts', 'total_counts_hs', 'pct_counts_hs', 'total_counts_pf', 'pct_counts_pf'\n",
       "    var: 'gene_ids', 'feature_types', 'mean', 'std', 'hs', 'pf', 'n_cells_by_counts', 'mean_counts', 'pct_dropout_by_counts', 'total_counts'\n",
       "    uns: 'log1p', 'infection_colors'\n",
       "    layers: 'raw_counts'"
      ]
     },
     "execution_count": 60,
     "metadata": {},
     "output_type": "execute_result"
    }
   ],
   "source": [
    "adata"
   ]
  },
  {
   "cell_type": "code",
   "execution_count": 38,
   "id": "portuguese-ranch",
   "metadata": {},
   "outputs": [
    {
     "name": "stderr",
     "output_type": "stream",
     "text": [
      "/opt/conda/lib/python3.8/site-packages/pandas/core/arrays/categorical.py:2487: FutureWarning: The `inplace` parameter in pandas.Categorical.remove_unused_categories is deprecated and will be removed in a future version.\n",
      "  res = method(*args, **kwargs)\n"
     ]
    },
    {
     "data": {
      "text/plain": [
       "(-5.0, 100.0)"
      ]
     },
     "execution_count": 38,
     "metadata": {},
     "output_type": "execute_result"
    },
    {
     "data": {
      "image/png": "[encoded data removed]",
      "text/plain": [
       "<Figure size 417.2x320 with 1 Axes>"
      ]
     },
     "metadata": {
      "needs_background": "light"
     },
     "output_type": "display_data"
    }
   ],
   "source": [
    "## --- To be run once the deconvolution is completed\n",
    "\n",
    "temp_cells = adata[adata.obs['sample'] == 'Pla_HDBR13661567']\n",
    "ax= sc.pl.scatter(temp_cells, x='pct_counts_pf', y='total_counts_hs', color=\"infection\", size=30,show=False)\n",
    "ax.set_xlim(-5,100)"
   ]
  },
  {
   "cell_type": "code",
   "execution_count": 39,
   "id": "recorded-graphic",
   "metadata": {},
   "outputs": [
    {
     "data": {
      "text/plain": [
       "(-5.0, 100.0)"
      ]
     },
     "execution_count": 39,
     "metadata": {},
     "output_type": "execute_result"
    },
    {
     "data": {
      "image/png": "[encoded data removed]",
      "text/plain": [
       "<Figure size 417.2x320 with 1 Axes>"
      ]
     },
     "metadata": {
      "needs_background": "light"
     },
     "output_type": "display_data"
    }
   ],
   "source": [
    "## --- To be run once the deconvolution is completed\n",
    "\n",
    "temp_cells = adata[adata.obs['sample'] == 'Pla_HDBR13661568']\n",
    "ax= sc.pl.scatter(temp_cells, x='pct_counts_pf', y='total_counts_hs', color=\"infection\", size=30,show=False)\n",
    "ax.set_xlim(-5,100)"
   ]
  },
  {
   "cell_type": "code",
   "execution_count": 40,
   "id": "nuclear-smile",
   "metadata": {},
   "outputs": [
    {
     "data": {
      "text/plain": [
       "(-5.0, 100.0)"
      ]
     },
     "execution_count": 40,
     "metadata": {},
     "output_type": "execute_result"
    },
    {
     "data": {
      "image/png": "[encoded data removed]",
      "text/plain": [
       "<Figure size 417.2x320 with 1 Axes>"
      ]
     },
     "metadata": {
      "needs_background": "light"
     },
     "output_type": "display_data"
    },
    {
     "data": {
      "image/png": "[encoded data removed]",
      "text/plain": [
       "<Figure size 417.2x320 with 1 Axes>"
      ]
     },
     "metadata": {
      "needs_background": "light"
     },
     "output_type": "display_data"
    }
   ],
   "source": [
    "## --- To be run once the deconvolution is completed\n",
    "\n",
    "temp_cells = adata[adata.obs['sample'] == 'Pla_HDBR13661573']\n",
    "ax=sc.pl.scatter(temp_cells, x='pct_counts_pf', y='total_counts_hs', color=\"infection\", size=30,show=False)\n",
    "ax.set_xlim(-5,100)\n",
    "\n",
    "## --- To be run once the deconvolution is completed\n",
    "\n",
    "temp_cells = adata[adata.obs['sample'] == 'Pla_HDBR13661574']\n",
    "ax=sc.pl.scatter(temp_cells, x='pct_counts_pf', y='total_counts_hs', color=\"infection\", size=30,show=False)\n",
    "ax.set_xlim(-5,100)"
   ]
  },
  {
   "cell_type": "code",
   "execution_count": null,
   "id": "european-protein",
   "metadata": {},
   "outputs": [],
   "source": []
  }
 ],
 "metadata": {
  "kernelspec": {
   "display_name": "Python 3",
   "language": "python",
   "name": "python3"
  },
  "language_info": {
   "codemirror_mode": {
    "name": "ipython",
    "version": 3
   },
   "file_extension": ".py",
   "mimetype": "text/x-python",
   "name": "python",
   "nbconvert_exporter": "python",
   "pygments_lexer": "ipython3",
   "version": "3.8.8"
  }
 },
 "nbformat": 4,
 "nbformat_minor": 5
}
