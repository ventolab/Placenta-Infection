{
 "cells": [
  {
   "cell_type": "markdown",
   "id": "preliminary-dealer",
   "metadata": {},
   "source": [
    "**Author:** Elias Rafael Ruiz-Morales\n",
    "\n",
    "**Institution:** Wellcome Sanger institute\n",
    "\n",
    "**July, 2023**"
   ]
  },
  {
   "cell_type": "markdown",
   "id": "curious-queen",
   "metadata": {},
   "source": [
    "---"
   ]
  },
  {
   "cell_type": "markdown",
   "id": "vocal-beach",
   "metadata": {},
   "source": [
    "# Data integration of placenta infection at 48hpi using scVI\n"
   ]
  },
  {
   "cell_type": "code",
   "execution_count": 1,
   "id": "capable-antarctica",
   "metadata": {},
   "outputs": [],
   "source": [
    "from __future__ import print_function\n",
    "import torch\n",
    "\n",
    "import sys, os\n",
    "data_type = 'float32'\n",
    "os.environ[\"THEANO_FLAGS\"] = 'device=cuda,floatX=' + data_type + ',force_device=True'\n",
    "sys.path.insert(1, './')"
   ]
  },
  {
   "cell_type": "code",
   "execution_count": 2,
   "id": "bearing-cycle",
   "metadata": {
    "tags": []
   },
   "outputs": [
    {
     "name": "stderr",
     "output_type": "stream",
     "text": [
      "WARNING: If you miss a compact list, please try `print_header`!\n"
     ]
    },
    {
     "name": "stdout",
     "output_type": "stream",
     "text": [
      "-----\n",
      "anndata     0.7.6\n",
      "scanpy      1.7.0\n",
      "sinfo       0.3.1\n",
      "-----\n",
      "PIL                 8.3.0\n",
      "absl                NA\n",
      "anndata             0.7.6\n",
      "anyio               NA\n",
      "attr                21.2.0\n",
      "babel               2.9.1\n",
      "backcall            0.2.0\n",
      "beta_ufunc          NA\n",
      "binom_ufunc         NA\n",
      "brotli              NA\n",
      "cairo               1.20.1\n",
      "certifi             2021.05.30\n",
      "cffi                1.14.4\n",
      "chardet             4.0.0\n",
      "colorama            0.4.4\n",
      "cycler              0.10.0\n",
      "cython_runtime      NA\n",
      "dateutil            2.8.1\n",
      "debugpy             1.3.0\n",
      "decorator           5.0.9\n",
      "defusedxml          0.7.1\n",
      "dunamai             1.5.5\n",
      "fsspec              2021.06.1\n",
      "get_version         3.2\n",
      "google              NA\n",
      "h5py                3.3.0\n",
      "idna                2.10\n",
      "igraph              0.8.3\n",
      "ipykernel           6.0.0\n",
      "ipython_genutils    0.2.0\n",
      "ipywidgets          7.6.3\n",
      "jedi                0.18.0\n",
      "jinja2              3.0.1\n",
      "joblib              1.0.1\n",
      "json5               NA\n",
      "jsonschema          3.2.0\n",
      "jupyter_server      1.9.0\n",
      "jupyterlab_server   2.6.0\n",
      "kiwisolver          1.3.1\n",
      "legacy_api_wrap     0.0.0\n",
      "leidenalg           0.8.3\n",
      "llvmlite            0.34.0\n",
      "louvain             0.7.0\n",
      "markupsafe          2.0.1\n",
      "matplotlib          3.4.2\n",
      "matplotlib_inline   NA\n",
      "mpl_toolkits        NA\n",
      "natsort             7.1.1\n",
      "nbclassic           NA\n",
      "nbformat            5.1.3\n",
      "nbinom_ufunc        NA\n",
      "numba               0.51.2\n",
      "numexpr             2.7.3\n",
      "numpy               1.19.5\n",
      "opt_einsum          v3.3.0\n",
      "packaging           20.9\n",
      "pandas              1.2.4\n",
      "parso               0.8.2\n",
      "pexpect             4.8.0\n",
      "pickleshare         0.7.5\n",
      "pkg_resources       NA\n",
      "prometheus_client   NA\n",
      "prompt_toolkit      3.0.19\n",
      "ptyprocess          0.7.0\n",
      "pvectorc            NA\n",
      "pycparser           2.20\n",
      "pygments            2.9.0\n",
      "pyparsing           2.4.7\n",
      "pyro                1.5.2\n",
      "pyrsistent          NA\n",
      "pytorch_lightning   1.2.10\n",
      "pytz                2021.1\n",
      "requests            2.25.1\n",
      "rich                NA\n",
      "scanpy              1.7.0\n",
      "scipy               1.7.0\n",
      "scvi                0.10.1\n",
      "send2trash          NA\n",
      "setuptools_scm      NA\n",
      "sinfo               0.3.1\n",
      "six                 1.16.0\n",
      "sklearn             0.24.2\n",
      "sniffio             1.2.0\n",
      "socks               1.7.1\n",
      "sphinxcontrib       NA\n",
      "storemagic          NA\n",
      "tables              3.6.1\n",
      "tensorboard         2.5.0\n",
      "terminado           0.10.1\n",
      "texttable           1.6.3\n",
      "threadpoolctl       2.1.0\n",
      "torch               1.8.1+cu102\n",
      "torchmetrics        0.4.0\n",
      "tornado             6.1\n",
      "tqdm                4.61.1\n",
      "traitlets           5.0.5\n",
      "typing_extensions   NA\n",
      "urllib3             1.26.6\n",
      "wcwidth             0.2.5\n",
      "websocket           0.57.0\n",
      "yaml                5.4.1\n",
      "zmq                 22.1.0\n",
      "-----\n",
      "IPython             7.25.0\n",
      "jupyter_client      6.1.12\n",
      "jupyter_core        4.7.1\n",
      "jupyterlab          3.0.16\n",
      "notebook            6.4.0\n",
      "-----\n",
      "Python 3.8.0 | packaged by conda-forge | (default, Nov 22 2019, 19:11:38) [GCC 7.3.0]\n",
      "Linux-4.15.0-219-generic-x86_64-with-glibc2.10\n",
      "64 logical CPU cores, x86_64\n",
      "-----\n",
      "Session information updated at 2023-11-27 17:10\n",
      "\n"
     ]
    },
    {
     "data": {
      "text/plain": [
       "'/opt/conda/envs/scvi-singularity/bin/python'"
      ]
     },
     "execution_count": 2,
     "metadata": {},
     "output_type": "execute_result"
    }
   ],
   "source": [
    "# Seed for reproducibility\n",
    "import numpy as np\n",
    "import pandas as pd\n",
    "import scanpy as sc\n",
    "from typing import Tuple\n",
    "\n",
    "# scVI imports\n",
    "import scvi\n",
    "from scvi.dataset import AnnDatasetFromAnnData\n",
    "from scvi.inference import UnsupervisedTrainer\n",
    "from scvi.models.vae import VAE\n",
    "\n",
    "torch.manual_seed(0)\n",
    "np.random.seed(0)\n",
    "sc.settings.verbosity = 0  # verbosity: errors (0), warnings (1), info (2), hints (3)\n",
    "\n",
    "\n",
    "\n",
    "def MovePlots(plotpattern, subplotdir):\n",
    "    os.system('mkdir -p '+str(sc.settings.figdir)+'/'+subplotdir)\n",
    "    os.system('mv '+str(sc.settings.figdir)+'/*'+plotpattern+'** '+str(sc.settings.figdir)+'/'+subplotdir)\n",
    "\n",
    "sc.settings.verbosity = 3  # verbosity: errors (0), warnings (1), info (2), hints (3)\n",
    "sc.settings.figdir = '../results/scVI/'\n",
    "sc.logging.print_versions()\n",
    "sc.settings.set_figure_params(dpi=80)  # low dpi (dots per inch) yields small inline figures\n",
    "\n",
    "sys.executable"
   ]
  },
  {
   "cell_type": "code",
   "execution_count": 3,
   "id": "opened-million",
   "metadata": {},
   "outputs": [],
   "source": [
    "def identityTransfer(adata_CellsNewID, adata, field='cell_type'):\n",
    "    \n",
    "    '''\n",
    "    Function to transfer the value in a .obs column, modifying only the cells included in adata_CellsNewID\n",
    "    \n",
    "    Parameters:\n",
    "        adata_CellsNewID: anndata object with cells. These should have in their .obs[field] the new values to be transfer to adata\n",
    "        adata: anndata object to modify. The value in .obs[field] will be modifies for all the cells in adata_CellsNewID\n",
    "        field: column name in .obs to operate in.\n",
    "        \n",
    "     Return:\n",
    "        anndata object with the metadata modified\n",
    "        \n",
    "    '''\n",
    "    \n",
    "    #converting categorical into strings to introduce new categories\n",
    "    adata.obs[field]=adata.obs[field].astype(\"string\")\n",
    "\n",
    "\n",
    "    #assigning the new categories to the cells in adata\n",
    "    for cell in adata_CellsNewID.obs.index:\n",
    "        adata.obs[field][cell] = adata_CellsNewID.obs[field][cell]\n",
    "\n",
    "    #Returning strings into categorical \n",
    "    adata.obs[field]=adata.obs[field].astype(\"category\")\n",
    "    \n",
    "    return(adata)"
   ]
  },
  {
   "cell_type": "code",
   "execution_count": null,
   "id": "serial-spanish",
   "metadata": {},
   "outputs": [],
   "source": []
  },
  {
   "cell_type": "markdown",
   "id": "thousand-belfast",
   "metadata": {},
   "source": [
    "### Loading non-normalized data"
   ]
  },
  {
   "cell_type": "code",
   "execution_count": 4,
   "id": "personal-cursor",
   "metadata": {},
   "outputs": [],
   "source": [
    "adata = sc.read('../data/rna1_counts_preprocessed_All_adata.h5ad')"
   ]
  },
  {
   "cell_type": "code",
   "execution_count": 5,
   "id": "pharmaceutical-explanation",
   "metadata": {},
   "outputs": [
    {
     "data": {
      "text/plain": [
       "AnnData object with n_obs × n_vars = 119146 × 36601\n",
       "    obs: 'sample', 'stage', 'donor', 'hpi', 'infection', 'percent_mito', 'n_counts', 'batch', 'sample_barcode', 'assignment_SoC', 'donor_id', 'scrublet_score', 'scrublet_cluster_score', 'zscore', 'bh_pval', 'bonf_pval', 'is_doublet', 'infection_stage', 'S_score', 'G2M_score', 'phase', 'n_genes_by_counts', 'total_counts', 'total_counts_hs', 'pct_counts_hs', 'total_counts_tg', 'pct_counts_tg', 'Tg_infected', 'n_genes'\n",
       "    var: 'gene_ids', 'feature_types', 'mean-0', 'std-0', 'mean-1', 'std-1', 'mean-2', 'std-2', 'highly_variable', 'highly_variable_rank', 'means', 'variances', 'variances_norm'\n",
       "    uns: 'donor_id_colors', 'hvg', 'infection_colors', 'sample_colors'\n",
       "    layers: 'raw_counts'"
      ]
     },
     "execution_count": 5,
     "metadata": {},
     "output_type": "execute_result"
    }
   ],
   "source": [
    "adata"
   ]
  },
  {
   "cell_type": "markdown",
   "id": "parliamentary-fancy",
   "metadata": {},
   "source": [
    "### Compute the scVI latent space\n",
    "\n",
    "Based on the scVI documentation."
   ]
  },
  {
   "cell_type": "code",
   "execution_count": 6,
   "id": "synthetic-butterfly",
   "metadata": {},
   "outputs": [
    {
     "name": "stderr",
     "output_type": "stream",
     "text": [
      "normalizing counts per cell\n",
      "    finished (0:00:06)\n"
     ]
    }
   ],
   "source": [
    "# do some basic preprocessing\n",
    "#adata.layers[\"raw_counts\"] = adata.X.copy() # preserve counts\n",
    "sc.pp.normalize_total(adata, target_sum=1e4)\n",
    "sc.pp.log1p(adata)\n",
    "#adata.raw = adata.copy()"
   ]
  },
  {
   "cell_type": "code",
   "execution_count": 7,
   "id": "crazy-pierce",
   "metadata": {},
   "outputs": [
    {
     "data": {
      "text/plain": [
       "array(['Hrv136', 'Hrv232', 'Hrv236', 'donor_doublets', 'scDonor_Tg1',\n",
       "       'scDonor_Tg2', 'scDonor_Tg3', 'scDonor_Tg4'], dtype=object)"
      ]
     },
     "execution_count": 7,
     "metadata": {},
     "output_type": "execute_result"
    }
   ],
   "source": [
    "np.unique(adata.obs['donor_id'])"
   ]
  },
  {
   "cell_type": "code",
   "execution_count": 8,
   "id": "smart-diagram",
   "metadata": {},
   "outputs": [
    {
     "data": {
      "text/plain": [
       "Pla_HDBR13007976_AAACCCAAGCCTCATA    Pla_HDBR13007976\n",
       "Pla_HDBR13007976_AAACCCAAGCTGTTAC    Pla_HDBR13007976\n",
       "Pla_HDBR13007976_AAACCCAAGGCATCAG    Pla_HDBR13007976\n",
       "Pla_HDBR13007976_AAACCCAAGGGAGATA    Pla_HDBR13007976\n",
       "Pla_HDBR13007976_AAACCCACACTAAACC    Pla_HDBR13007976\n",
       "                                           ...       \n",
       "Pla_HDBR13661576_TTTGTTGGTCACTGAT    Pla_HDBR13661576\n",
       "Pla_HDBR13661576_TTTGTTGGTTTCGGCG    Pla_HDBR13661576\n",
       "Pla_HDBR13661576_TTTGTTGTCAGCTGAT    Pla_HDBR13661576\n",
       "Pla_HDBR13661576_TTTGTTGTCGGTTGTA    Pla_HDBR13661576\n",
       "Pla_HDBR13661576_TTTGTTGTCTGGTTGA    Pla_HDBR13661576\n",
       "Name: sample, Length: 119146, dtype: category\n",
       "Categories (12, object): ['Pla_HDBR12330714', 'Pla_HDBR12330715', 'Pla_HDBR13007976', 'Pla_HDBR13007977', ..., 'Pla_HDBR13661575', 'Pla_HDBR13661576', 'Pla_HDBR13798225', 'Pla_HDBR13798226']"
      ]
     },
     "execution_count": 8,
     "metadata": {},
     "output_type": "execute_result"
    }
   ],
   "source": [
    "adata.obs['sample']"
   ]
  },
  {
   "cell_type": "code",
   "execution_count": 9,
   "id": "tight-michigan",
   "metadata": {},
   "outputs": [
    {
     "data": {
      "text/html": [
       "<div>\n",
       "<style scoped>\n",
       "    .dataframe tbody tr th:only-of-type {\n",
       "        vertical-align: middle;\n",
       "    }\n",
       "\n",
       "    .dataframe tbody tr th {\n",
       "        vertical-align: top;\n",
       "    }\n",
       "\n",
       "    .dataframe thead th {\n",
       "        text-align: right;\n",
       "    }\n",
       "</style>\n",
       "<table border=\"1\" class=\"dataframe\">\n",
       "  <thead>\n",
       "    <tr style=\"text-align: right;\">\n",
       "      <th></th>\n",
       "      <th>sample</th>\n",
       "      <th>stage</th>\n",
       "      <th>donor</th>\n",
       "      <th>hpi</th>\n",
       "      <th>infection</th>\n",
       "      <th>percent_mito</th>\n",
       "      <th>n_counts</th>\n",
       "      <th>batch</th>\n",
       "      <th>sample_barcode</th>\n",
       "      <th>assignment_SoC</th>\n",
       "      <th>...</th>\n",
       "      <th>G2M_score</th>\n",
       "      <th>phase</th>\n",
       "      <th>n_genes_by_counts</th>\n",
       "      <th>total_counts</th>\n",
       "      <th>total_counts_hs</th>\n",
       "      <th>pct_counts_hs</th>\n",
       "      <th>total_counts_tg</th>\n",
       "      <th>pct_counts_tg</th>\n",
       "      <th>Tg_infected</th>\n",
       "      <th>n_genes</th>\n",
       "    </tr>\n",
       "  </thead>\n",
       "  <tbody>\n",
       "    <tr>\n",
       "      <th>Pla_HDBR13007976_AAACCCAAGCCTCATA</th>\n",
       "      <td>Pla_HDBR13007976</td>\n",
       "      <td>UI_48h</td>\n",
       "      <td>Hrv171_Hrv172</td>\n",
       "      <td>48h</td>\n",
       "      <td>UI</td>\n",
       "      <td>0.035724</td>\n",
       "      <td>32751.0</td>\n",
       "      <td>0</td>\n",
       "      <td>Pla_HDBR13007976_AAACCCAAGCCTCATA</td>\n",
       "      <td>1</td>\n",
       "      <td>...</td>\n",
       "      <td>-0.026165</td>\n",
       "      <td>G1</td>\n",
       "      <td>6472.0</td>\n",
       "      <td>32751.0</td>\n",
       "      <td>32751.0</td>\n",
       "      <td>100.0</td>\n",
       "      <td>0.0</td>\n",
       "      <td>0.0</td>\n",
       "      <td>False</td>\n",
       "      <td>6472</td>\n",
       "    </tr>\n",
       "    <tr>\n",
       "      <th>Pla_HDBR13007976_AAACCCAAGCTGTTAC</th>\n",
       "      <td>Pla_HDBR13007976</td>\n",
       "      <td>UI_48h</td>\n",
       "      <td>Hrv171_Hrv172</td>\n",
       "      <td>48h</td>\n",
       "      <td>UI</td>\n",
       "      <td>0.023832</td>\n",
       "      <td>33232.0</td>\n",
       "      <td>0</td>\n",
       "      <td>Pla_HDBR13007976_AAACCCAAGCTGTTAC</td>\n",
       "      <td>0</td>\n",
       "      <td>...</td>\n",
       "      <td>-0.092429</td>\n",
       "      <td>G1</td>\n",
       "      <td>3822.0</td>\n",
       "      <td>33232.0</td>\n",
       "      <td>33232.0</td>\n",
       "      <td>100.0</td>\n",
       "      <td>0.0</td>\n",
       "      <td>0.0</td>\n",
       "      <td>False</td>\n",
       "      <td>3822</td>\n",
       "    </tr>\n",
       "    <tr>\n",
       "      <th>Pla_HDBR13007976_AAACCCAAGGCATCAG</th>\n",
       "      <td>Pla_HDBR13007976</td>\n",
       "      <td>UI_48h</td>\n",
       "      <td>Hrv171_Hrv172</td>\n",
       "      <td>48h</td>\n",
       "      <td>UI</td>\n",
       "      <td>0.017998</td>\n",
       "      <td>17502.0</td>\n",
       "      <td>0</td>\n",
       "      <td>Pla_HDBR13007976_AAACCCAAGGCATCAG</td>\n",
       "      <td>1</td>\n",
       "      <td>...</td>\n",
       "      <td>-0.057789</td>\n",
       "      <td>S</td>\n",
       "      <td>4489.0</td>\n",
       "      <td>17502.0</td>\n",
       "      <td>17502.0</td>\n",
       "      <td>100.0</td>\n",
       "      <td>0.0</td>\n",
       "      <td>0.0</td>\n",
       "      <td>False</td>\n",
       "      <td>4489</td>\n",
       "    </tr>\n",
       "    <tr>\n",
       "      <th>Pla_HDBR13007976_AAACCCAAGGGAGATA</th>\n",
       "      <td>Pla_HDBR13007976</td>\n",
       "      <td>UI_48h</td>\n",
       "      <td>Hrv171_Hrv172</td>\n",
       "      <td>48h</td>\n",
       "      <td>UI</td>\n",
       "      <td>0.142183</td>\n",
       "      <td>6358.0</td>\n",
       "      <td>0</td>\n",
       "      <td>Pla_HDBR13007976_AAACCCAAGGGAGATA</td>\n",
       "      <td>0</td>\n",
       "      <td>...</td>\n",
       "      <td>-0.092744</td>\n",
       "      <td>G1</td>\n",
       "      <td>450.0</td>\n",
       "      <td>6358.0</td>\n",
       "      <td>6358.0</td>\n",
       "      <td>100.0</td>\n",
       "      <td>0.0</td>\n",
       "      <td>0.0</td>\n",
       "      <td>False</td>\n",
       "      <td>450</td>\n",
       "    </tr>\n",
       "    <tr>\n",
       "      <th>Pla_HDBR13007976_AAACCCACACTAAACC</th>\n",
       "      <td>Pla_HDBR13007976</td>\n",
       "      <td>UI_48h</td>\n",
       "      <td>Hrv171_Hrv172</td>\n",
       "      <td>48h</td>\n",
       "      <td>UI</td>\n",
       "      <td>0.014511</td>\n",
       "      <td>29081.0</td>\n",
       "      <td>0</td>\n",
       "      <td>Pla_HDBR13007976_AAACCCACACTAAACC</td>\n",
       "      <td>1</td>\n",
       "      <td>...</td>\n",
       "      <td>0.007552</td>\n",
       "      <td>G2M</td>\n",
       "      <td>4465.0</td>\n",
       "      <td>29081.0</td>\n",
       "      <td>29081.0</td>\n",
       "      <td>100.0</td>\n",
       "      <td>0.0</td>\n",
       "      <td>0.0</td>\n",
       "      <td>False</td>\n",
       "      <td>4465</td>\n",
       "    </tr>\n",
       "    <tr>\n",
       "      <th>...</th>\n",
       "      <td>...</td>\n",
       "      <td>...</td>\n",
       "      <td>...</td>\n",
       "      <td>...</td>\n",
       "      <td>...</td>\n",
       "      <td>...</td>\n",
       "      <td>...</td>\n",
       "      <td>...</td>\n",
       "      <td>...</td>\n",
       "      <td>...</td>\n",
       "      <td>...</td>\n",
       "      <td>...</td>\n",
       "      <td>...</td>\n",
       "      <td>...</td>\n",
       "      <td>...</td>\n",
       "      <td>...</td>\n",
       "      <td>...</td>\n",
       "      <td>...</td>\n",
       "      <td>...</td>\n",
       "      <td>...</td>\n",
       "      <td>...</td>\n",
       "    </tr>\n",
       "    <tr>\n",
       "      <th>Pla_HDBR13661576_TTTGTTGGTCACTGAT</th>\n",
       "      <td>Pla_HDBR13661576</td>\n",
       "      <td>Lm_48h</td>\n",
       "      <td>Hrv236</td>\n",
       "      <td>48h</td>\n",
       "      <td>Lm</td>\n",
       "      <td>0.026275</td>\n",
       "      <td>37298.0</td>\n",
       "      <td>2</td>\n",
       "      <td>Pla_HDBR13661576_TTTGTTGGTCACTGAT</td>\n",
       "      <td>not_pooled</td>\n",
       "      <td>...</td>\n",
       "      <td>-0.076960</td>\n",
       "      <td>S</td>\n",
       "      <td>NaN</td>\n",
       "      <td>NaN</td>\n",
       "      <td>NaN</td>\n",
       "      <td>NaN</td>\n",
       "      <td>NaN</td>\n",
       "      <td>NaN</td>\n",
       "      <td>nan</td>\n",
       "      <td>7275</td>\n",
       "    </tr>\n",
       "    <tr>\n",
       "      <th>Pla_HDBR13661576_TTTGTTGGTTTCGGCG</th>\n",
       "      <td>Pla_HDBR13661576</td>\n",
       "      <td>Lm_48h</td>\n",
       "      <td>Hrv236</td>\n",
       "      <td>48h</td>\n",
       "      <td>Lm</td>\n",
       "      <td>0.044556</td>\n",
       "      <td>6576.0</td>\n",
       "      <td>2</td>\n",
       "      <td>Pla_HDBR13661576_TTTGTTGGTTTCGGCG</td>\n",
       "      <td>not_pooled</td>\n",
       "      <td>...</td>\n",
       "      <td>1.025595</td>\n",
       "      <td>G2M</td>\n",
       "      <td>NaN</td>\n",
       "      <td>NaN</td>\n",
       "      <td>NaN</td>\n",
       "      <td>NaN</td>\n",
       "      <td>NaN</td>\n",
       "      <td>NaN</td>\n",
       "      <td>nan</td>\n",
       "      <td>3047</td>\n",
       "    </tr>\n",
       "    <tr>\n",
       "      <th>Pla_HDBR13661576_TTTGTTGTCAGCTGAT</th>\n",
       "      <td>Pla_HDBR13661576</td>\n",
       "      <td>Lm_48h</td>\n",
       "      <td>Hrv236</td>\n",
       "      <td>48h</td>\n",
       "      <td>Lm</td>\n",
       "      <td>0.049094</td>\n",
       "      <td>21082.0</td>\n",
       "      <td>2</td>\n",
       "      <td>Pla_HDBR13661576_TTTGTTGTCAGCTGAT</td>\n",
       "      <td>not_pooled</td>\n",
       "      <td>...</td>\n",
       "      <td>-0.028451</td>\n",
       "      <td>S</td>\n",
       "      <td>NaN</td>\n",
       "      <td>NaN</td>\n",
       "      <td>NaN</td>\n",
       "      <td>NaN</td>\n",
       "      <td>NaN</td>\n",
       "      <td>NaN</td>\n",
       "      <td>nan</td>\n",
       "      <td>5860</td>\n",
       "    </tr>\n",
       "    <tr>\n",
       "      <th>Pla_HDBR13661576_TTTGTTGTCGGTTGTA</th>\n",
       "      <td>Pla_HDBR13661576</td>\n",
       "      <td>Lm_48h</td>\n",
       "      <td>Hrv236</td>\n",
       "      <td>48h</td>\n",
       "      <td>Lm</td>\n",
       "      <td>0.082192</td>\n",
       "      <td>3942.0</td>\n",
       "      <td>2</td>\n",
       "      <td>Pla_HDBR13661576_TTTGTTGTCGGTTGTA</td>\n",
       "      <td>not_pooled</td>\n",
       "      <td>...</td>\n",
       "      <td>0.129952</td>\n",
       "      <td>G2M</td>\n",
       "      <td>NaN</td>\n",
       "      <td>NaN</td>\n",
       "      <td>NaN</td>\n",
       "      <td>NaN</td>\n",
       "      <td>NaN</td>\n",
       "      <td>NaN</td>\n",
       "      <td>nan</td>\n",
       "      <td>1988</td>\n",
       "    </tr>\n",
       "    <tr>\n",
       "      <th>Pla_HDBR13661576_TTTGTTGTCTGGTTGA</th>\n",
       "      <td>Pla_HDBR13661576</td>\n",
       "      <td>Lm_48h</td>\n",
       "      <td>Hrv236</td>\n",
       "      <td>48h</td>\n",
       "      <td>Lm</td>\n",
       "      <td>0.135040</td>\n",
       "      <td>13322.0</td>\n",
       "      <td>2</td>\n",
       "      <td>Pla_HDBR13661576_TTTGTTGTCTGGTTGA</td>\n",
       "      <td>not_pooled</td>\n",
       "      <td>...</td>\n",
       "      <td>-0.094771</td>\n",
       "      <td>G1</td>\n",
       "      <td>NaN</td>\n",
       "      <td>NaN</td>\n",
       "      <td>NaN</td>\n",
       "      <td>NaN</td>\n",
       "      <td>NaN</td>\n",
       "      <td>NaN</td>\n",
       "      <td>nan</td>\n",
       "      <td>4066</td>\n",
       "    </tr>\n",
       "  </tbody>\n",
       "</table>\n",
       "<p>119146 rows × 29 columns</p>\n",
       "</div>"
      ],
      "text/plain": [
       "                                             sample   stage          donor  \\\n",
       "Pla_HDBR13007976_AAACCCAAGCCTCATA  Pla_HDBR13007976  UI_48h  Hrv171_Hrv172   \n",
       "Pla_HDBR13007976_AAACCCAAGCTGTTAC  Pla_HDBR13007976  UI_48h  Hrv171_Hrv172   \n",
       "Pla_HDBR13007976_AAACCCAAGGCATCAG  Pla_HDBR13007976  UI_48h  Hrv171_Hrv172   \n",
       "Pla_HDBR13007976_AAACCCAAGGGAGATA  Pla_HDBR13007976  UI_48h  Hrv171_Hrv172   \n",
       "Pla_HDBR13007976_AAACCCACACTAAACC  Pla_HDBR13007976  UI_48h  Hrv171_Hrv172   \n",
       "...                                             ...     ...            ...   \n",
       "Pla_HDBR13661576_TTTGTTGGTCACTGAT  Pla_HDBR13661576  Lm_48h         Hrv236   \n",
       "Pla_HDBR13661576_TTTGTTGGTTTCGGCG  Pla_HDBR13661576  Lm_48h         Hrv236   \n",
       "Pla_HDBR13661576_TTTGTTGTCAGCTGAT  Pla_HDBR13661576  Lm_48h         Hrv236   \n",
       "Pla_HDBR13661576_TTTGTTGTCGGTTGTA  Pla_HDBR13661576  Lm_48h         Hrv236   \n",
       "Pla_HDBR13661576_TTTGTTGTCTGGTTGA  Pla_HDBR13661576  Lm_48h         Hrv236   \n",
       "\n",
       "                                   hpi infection  percent_mito  n_counts  \\\n",
       "Pla_HDBR13007976_AAACCCAAGCCTCATA  48h        UI      0.035724   32751.0   \n",
       "Pla_HDBR13007976_AAACCCAAGCTGTTAC  48h        UI      0.023832   33232.0   \n",
       "Pla_HDBR13007976_AAACCCAAGGCATCAG  48h        UI      0.017998   17502.0   \n",
       "Pla_HDBR13007976_AAACCCAAGGGAGATA  48h        UI      0.142183    6358.0   \n",
       "Pla_HDBR13007976_AAACCCACACTAAACC  48h        UI      0.014511   29081.0   \n",
       "...                                ...       ...           ...       ...   \n",
       "Pla_HDBR13661576_TTTGTTGGTCACTGAT  48h        Lm      0.026275   37298.0   \n",
       "Pla_HDBR13661576_TTTGTTGGTTTCGGCG  48h        Lm      0.044556    6576.0   \n",
       "Pla_HDBR13661576_TTTGTTGTCAGCTGAT  48h        Lm      0.049094   21082.0   \n",
       "Pla_HDBR13661576_TTTGTTGTCGGTTGTA  48h        Lm      0.082192    3942.0   \n",
       "Pla_HDBR13661576_TTTGTTGTCTGGTTGA  48h        Lm      0.135040   13322.0   \n",
       "\n",
       "                                  batch                     sample_barcode  \\\n",
       "Pla_HDBR13007976_AAACCCAAGCCTCATA     0  Pla_HDBR13007976_AAACCCAAGCCTCATA   \n",
       "Pla_HDBR13007976_AAACCCAAGCTGTTAC     0  Pla_HDBR13007976_AAACCCAAGCTGTTAC   \n",
       "Pla_HDBR13007976_AAACCCAAGGCATCAG     0  Pla_HDBR13007976_AAACCCAAGGCATCAG   \n",
       "Pla_HDBR13007976_AAACCCAAGGGAGATA     0  Pla_HDBR13007976_AAACCCAAGGGAGATA   \n",
       "Pla_HDBR13007976_AAACCCACACTAAACC     0  Pla_HDBR13007976_AAACCCACACTAAACC   \n",
       "...                                 ...                                ...   \n",
       "Pla_HDBR13661576_TTTGTTGGTCACTGAT     2  Pla_HDBR13661576_TTTGTTGGTCACTGAT   \n",
       "Pla_HDBR13661576_TTTGTTGGTTTCGGCG     2  Pla_HDBR13661576_TTTGTTGGTTTCGGCG   \n",
       "Pla_HDBR13661576_TTTGTTGTCAGCTGAT     2  Pla_HDBR13661576_TTTGTTGTCAGCTGAT   \n",
       "Pla_HDBR13661576_TTTGTTGTCGGTTGTA     2  Pla_HDBR13661576_TTTGTTGTCGGTTGTA   \n",
       "Pla_HDBR13661576_TTTGTTGTCTGGTTGA     2  Pla_HDBR13661576_TTTGTTGTCTGGTTGA   \n",
       "\n",
       "                                  assignment_SoC  ... G2M_score  phase  \\\n",
       "Pla_HDBR13007976_AAACCCAAGCCTCATA              1  ... -0.026165     G1   \n",
       "Pla_HDBR13007976_AAACCCAAGCTGTTAC              0  ... -0.092429     G1   \n",
       "Pla_HDBR13007976_AAACCCAAGGCATCAG              1  ... -0.057789      S   \n",
       "Pla_HDBR13007976_AAACCCAAGGGAGATA              0  ... -0.092744     G1   \n",
       "Pla_HDBR13007976_AAACCCACACTAAACC              1  ...  0.007552    G2M   \n",
       "...                                          ...  ...       ...    ...   \n",
       "Pla_HDBR13661576_TTTGTTGGTCACTGAT     not_pooled  ... -0.076960      S   \n",
       "Pla_HDBR13661576_TTTGTTGGTTTCGGCG     not_pooled  ...  1.025595    G2M   \n",
       "Pla_HDBR13661576_TTTGTTGTCAGCTGAT     not_pooled  ... -0.028451      S   \n",
       "Pla_HDBR13661576_TTTGTTGTCGGTTGTA     not_pooled  ...  0.129952    G2M   \n",
       "Pla_HDBR13661576_TTTGTTGTCTGGTTGA     not_pooled  ... -0.094771     G1   \n",
       "\n",
       "                                   n_genes_by_counts  total_counts  \\\n",
       "Pla_HDBR13007976_AAACCCAAGCCTCATA             6472.0       32751.0   \n",
       "Pla_HDBR13007976_AAACCCAAGCTGTTAC             3822.0       33232.0   \n",
       "Pla_HDBR13007976_AAACCCAAGGCATCAG             4489.0       17502.0   \n",
       "Pla_HDBR13007976_AAACCCAAGGGAGATA              450.0        6358.0   \n",
       "Pla_HDBR13007976_AAACCCACACTAAACC             4465.0       29081.0   \n",
       "...                                              ...           ...   \n",
       "Pla_HDBR13661576_TTTGTTGGTCACTGAT                NaN           NaN   \n",
       "Pla_HDBR13661576_TTTGTTGGTTTCGGCG                NaN           NaN   \n",
       "Pla_HDBR13661576_TTTGTTGTCAGCTGAT                NaN           NaN   \n",
       "Pla_HDBR13661576_TTTGTTGTCGGTTGTA                NaN           NaN   \n",
       "Pla_HDBR13661576_TTTGTTGTCTGGTTGA                NaN           NaN   \n",
       "\n",
       "                                   total_counts_hs  pct_counts_hs  \\\n",
       "Pla_HDBR13007976_AAACCCAAGCCTCATA          32751.0          100.0   \n",
       "Pla_HDBR13007976_AAACCCAAGCTGTTAC          33232.0          100.0   \n",
       "Pla_HDBR13007976_AAACCCAAGGCATCAG          17502.0          100.0   \n",
       "Pla_HDBR13007976_AAACCCAAGGGAGATA           6358.0          100.0   \n",
       "Pla_HDBR13007976_AAACCCACACTAAACC          29081.0          100.0   \n",
       "...                                            ...            ...   \n",
       "Pla_HDBR13661576_TTTGTTGGTCACTGAT              NaN            NaN   \n",
       "Pla_HDBR13661576_TTTGTTGGTTTCGGCG              NaN            NaN   \n",
       "Pla_HDBR13661576_TTTGTTGTCAGCTGAT              NaN            NaN   \n",
       "Pla_HDBR13661576_TTTGTTGTCGGTTGTA              NaN            NaN   \n",
       "Pla_HDBR13661576_TTTGTTGTCTGGTTGA              NaN            NaN   \n",
       "\n",
       "                                   total_counts_tg pct_counts_tg  Tg_infected  \\\n",
       "Pla_HDBR13007976_AAACCCAAGCCTCATA              0.0           0.0        False   \n",
       "Pla_HDBR13007976_AAACCCAAGCTGTTAC              0.0           0.0        False   \n",
       "Pla_HDBR13007976_AAACCCAAGGCATCAG              0.0           0.0        False   \n",
       "Pla_HDBR13007976_AAACCCAAGGGAGATA              0.0           0.0        False   \n",
       "Pla_HDBR13007976_AAACCCACACTAAACC              0.0           0.0        False   \n",
       "...                                            ...           ...          ...   \n",
       "Pla_HDBR13661576_TTTGTTGGTCACTGAT              NaN           NaN          nan   \n",
       "Pla_HDBR13661576_TTTGTTGGTTTCGGCG              NaN           NaN          nan   \n",
       "Pla_HDBR13661576_TTTGTTGTCAGCTGAT              NaN           NaN          nan   \n",
       "Pla_HDBR13661576_TTTGTTGTCGGTTGTA              NaN           NaN          nan   \n",
       "Pla_HDBR13661576_TTTGTTGTCTGGTTGA              NaN           NaN          nan   \n",
       "\n",
       "                                   n_genes  \n",
       "Pla_HDBR13007976_AAACCCAAGCCTCATA     6472  \n",
       "Pla_HDBR13007976_AAACCCAAGCTGTTAC     3822  \n",
       "Pla_HDBR13007976_AAACCCAAGGCATCAG     4489  \n",
       "Pla_HDBR13007976_AAACCCAAGGGAGATA      450  \n",
       "Pla_HDBR13007976_AAACCCACACTAAACC     4465  \n",
       "...                                    ...  \n",
       "Pla_HDBR13661576_TTTGTTGGTCACTGAT     7275  \n",
       "Pla_HDBR13661576_TTTGTTGGTTTCGGCG     3047  \n",
       "Pla_HDBR13661576_TTTGTTGTCAGCTGAT     5860  \n",
       "Pla_HDBR13661576_TTTGTTGTCGGTTGTA     1988  \n",
       "Pla_HDBR13661576_TTTGTTGTCTGGTTGA     4066  \n",
       "\n",
       "[119146 rows x 29 columns]"
      ]
     },
     "execution_count": 9,
     "metadata": {},
     "output_type": "execute_result"
    }
   ],
   "source": [
    "adata.obs"
   ]
  },
  {
   "cell_type": "code",
   "execution_count": null,
   "id": "initial-solution",
   "metadata": {},
   "outputs": [],
   "source": []
  },
  {
   "cell_type": "code",
   "execution_count": 10,
   "id": "assumed-statement",
   "metadata": {},
   "outputs": [
    {
     "name": "stdout",
     "output_type": "stream",
     "text": [
      "\u001b[34mINFO    \u001b[0m Using batches from adata.obs\u001b[1m[\u001b[0m\u001b[32m\"donor_id\"\u001b[0m\u001b[1m]\u001b[0m                                            \n"
     ]
    },
    {
     "name": "stderr",
     "output_type": "stream",
     "text": [
      "Using batches from adata.obs[\"donor_id\"]\n"
     ]
    },
    {
     "name": "stdout",
     "output_type": "stream",
     "text": [
      "\u001b[34mINFO    \u001b[0m No label_key inputted, assuming all cells have same label                           \n"
     ]
    },
    {
     "name": "stderr",
     "output_type": "stream",
     "text": [
      "No label_key inputted, assuming all cells have same label\n"
     ]
    },
    {
     "name": "stdout",
     "output_type": "stream",
     "text": [
      "\u001b[34mINFO    \u001b[0m Using data from adata.layers\u001b[1m[\u001b[0m\u001b[32m\"raw_counts\"\u001b[0m\u001b[1m]\u001b[0m                                          \n"
     ]
    },
    {
     "name": "stderr",
     "output_type": "stream",
     "text": [
      "Using data from adata.layers[\"raw_counts\"]\n"
     ]
    },
    {
     "name": "stdout",
     "output_type": "stream",
     "text": [
      "\u001b[34mINFO    \u001b[0m Computing library size prior per batch                                              \n"
     ]
    },
    {
     "name": "stderr",
     "output_type": "stream",
     "text": [
      "Computing library size prior per batch\n"
     ]
    },
    {
     "name": "stdout",
     "output_type": "stream",
     "text": [
      "\u001b[34mINFO    \u001b[0m Successfully registered anndata object containing \u001b[1;36m119146\u001b[0m cells, \u001b[1;36m36601\u001b[0m vars, \u001b[1;36m8\u001b[0m       \n",
      "         batches, \u001b[1;36m1\u001b[0m labels, and \u001b[1;36m0\u001b[0m proteins. Also registered \u001b[1;36m1\u001b[0m extra categorical covariates   \n",
      "         and \u001b[1;36m0\u001b[0m extra continuous covariates.                                                  \n"
     ]
    },
    {
     "name": "stderr",
     "output_type": "stream",
     "text": [
      "Successfully registered anndata object containing 119146 cells, 36601 vars, 8 batches, 1 labels, and 0 proteins. Also registered 1 extra categorical covariates and 0 extra continuous covariates.\n"
     ]
    },
    {
     "name": "stdout",
     "output_type": "stream",
     "text": [
      "\u001b[34mINFO    \u001b[0m Please do not further modify adata until model is trained.                          \n"
     ]
    },
    {
     "name": "stderr",
     "output_type": "stream",
     "text": [
      "Please do not further modify adata until model is trained.\n"
     ]
    }
   ],
   "source": [
    "scvi.data.setup_anndata(\n",
    "    adata,\n",
    "    layer=\"raw_counts\",\n",
    "    batch_key='donor_id', #samples as a batch\n",
    "    #donor as a covariate of the cells\n",
    "    categorical_covariate_keys=[\"sample\"] \n",
    "    #categorical_covariate_keys=['donor_souporcell',], #\n",
    "    #continuous_covariate_keys=[\"\"]\n",
    ")"
   ]
  },
  {
   "cell_type": "code",
   "execution_count": 11,
   "id": "north-leader",
   "metadata": {},
   "outputs": [],
   "source": [
    "#---- check #layers"
   ]
  },
  {
   "cell_type": "code",
   "execution_count": 12,
   "id": "prostate-storm",
   "metadata": {},
   "outputs": [
    {
     "name": "stdout",
     "output_type": "stream",
     "text": [
      "n_latent_value 20\n",
      "n_latent_value 30\n"
     ]
    }
   ],
   "source": [
    "models = {}\n",
    "\n",
    "# let's try a few values\n",
    "n_latent_values = [20, 30]\n",
    "\n",
    "for n_latent_value in n_latent_values:\n",
    "    print('n_latent_value', n_latent_value)\n",
    "    models[n_latent_value] = scvi.model.SCVI(adata, n_latent = n_latent_value)"
   ]
  },
  {
   "cell_type": "code",
   "execution_count": 13,
   "id": "bibliographic-calibration",
   "metadata": {},
   "outputs": [
    {
     "data": {
      "text/html": [
       "<pre style=\"white-space:pre;overflow-x:auto;line-height:normal;font-family:Menlo,'DejaVu Sans Mono',consolas,'Courier New',monospace\">SCVI Model with the following params: \n",
       "n_hidden: <span style=\"color: #008080; text-decoration-color: #008080; font-weight: bold\">128</span>, n_latent: <span style=\"color: #008080; text-decoration-color: #008080; font-weight: bold\">20</span>, n_layers: <span style=\"color: #008080; text-decoration-color: #008080; font-weight: bold\">1</span>, dropout_rate: <span style=\"color: #008080; text-decoration-color: #008080; font-weight: bold\">0.1</span>, dispersion: gene, \n",
       "gene_likelihood: zinb, latent_distribution: normal\n",
       "Training status: Not Trained\n",
       "</pre>\n"
      ],
      "text/plain": [
       "SCVI Model with the following params: \n",
       "n_hidden: \u001b[1;36m128\u001b[0m, n_latent: \u001b[1;36m20\u001b[0m, n_layers: \u001b[1;36m1\u001b[0m, dropout_rate: \u001b[1;36m0.1\u001b[0m, dispersion: gene, \n",
       "gene_likelihood: zinb, latent_distribution: normal\n",
       "Training status: Not Trained\n"
      ]
     },
     "metadata": {},
     "output_type": "display_data"
    },
    {
     "data": {
      "text/html": [
       "<pre style=\"white-space:pre;overflow-x:auto;line-height:normal;font-family:Menlo,'DejaVu Sans Mono',consolas,'Courier New',monospace\">\n",
       "\n",
       "To print summary of associated AnnData, use: <span style=\"color: #af00d7; text-decoration-color: #af00d7\">scvi.data.view_anndata_setup(model.adata)</span>\n",
       "</pre>\n"
      ],
      "text/plain": [
       "\n",
       "\n",
       "To print summary of associated AnnData, use: \u001b[38;5;128mscvi.data.view_anndata_setup(model.adata)\u001b[0m\n"
      ]
     },
     "metadata": {},
     "output_type": "display_data"
    },
    {
     "data": {
      "text/plain": []
     },
     "execution_count": 13,
     "metadata": {},
     "output_type": "execute_result"
    }
   ],
   "source": [
    "models[20]"
   ]
  },
  {
   "cell_type": "code",
   "execution_count": 15,
   "id": "appreciated-armor",
   "metadata": {},
   "outputs": [
    {
     "name": "stderr",
     "output_type": "stream",
     "text": [
      "GPU available: True, used: True\n",
      "TPU available: False, using: 0 TPU cores\n",
      "LOCAL_RANK: 0 - CUDA_VISIBLE_DEVICES: [0]\n"
     ]
    },
    {
     "name": "stdout",
     "output_type": "stream",
     "text": [
      "training model for n_latent_value: 20\n",
      "Epoch 67/67: 100%|█████████████████████████████████████████████████████████████████████████████████████████| 67/67 [26:02<00:00, 23.32s/it, loss=1.09e+04, v_num=1]\n"
     ]
    },
    {
     "name": "stderr",
     "output_type": "stream",
     "text": [
      "GPU available: True, used: True\n",
      "TPU available: False, using: 0 TPU cores\n",
      "LOCAL_RANK: 0 - CUDA_VISIBLE_DEVICES: [0]\n"
     ]
    },
    {
     "name": "stdout",
     "output_type": "stream",
     "text": [
      "training model for n_latent_value: 30\n",
      "Epoch 67/67: 100%|█████████████████████████████████████████████████████████████████████████████████████████| 67/67 [25:58<00:00, 23.26s/it, loss=1.05e+04, v_num=1]\n"
     ]
    }
   ],
   "source": [
    "latent_representations = {}\n",
    "\n",
    "for n_latent_value in n_latent_values:\n",
    "    print('training model for n_latent_value:', n_latent_value)\n",
    "    models[n_latent_value].train()\n",
    "    \n",
    "    latent_representations[n_latent_value] = models[n_latent_value].get_latent_representation()\n",
    "    \n",
    "    adata.obsm[\"X_scVI_n_latent_\" + str(n_latent_value)] = latent_representations[n_latent_value]\n",
    "    \n",
    "    curr_df = pd.DataFrame(adata.obsm[\"X_scVI_n_latent_\" + str(n_latent_value)])\n",
    "    curr_df.to_csv('../results/scVI/20230707_obsm_with_scVI_latent_representation_n_' + str(n_latent_value) + '_allSamples48h.csv')"
   ]
  },
  {
   "cell_type": "code",
   "execution_count": null,
   "id": "quarterly-zoning",
   "metadata": {},
   "outputs": [],
   "source": []
  },
  {
   "cell_type": "markdown",
   "id": "careful-desperate",
   "metadata": {},
   "source": [
    "## Saving data"
   ]
  },
  {
   "cell_type": "code",
   "execution_count": 16,
   "id": "bridal-rates",
   "metadata": {},
   "outputs": [],
   "source": [
    "adata.X= adata.layers[\"raw_counts\"].copy()"
   ]
  },
  {
   "cell_type": "code",
   "execution_count": 17,
   "id": "inclusive-salvation",
   "metadata": {},
   "outputs": [],
   "source": [
    "adata.write('../results/scVI/rna2_scVIintegrated_AllData.h5ad')"
   ]
  },
  {
   "cell_type": "code",
   "execution_count": 18,
   "id": "supposed-scale",
   "metadata": {
    "scrolled": true
   },
   "outputs": [
    {
     "data": {
      "text/plain": [
       "Gene Expression    36601\n",
       "Name: feature_types, dtype: int64"
      ]
     },
     "execution_count": 18,
     "metadata": {},
     "output_type": "execute_result"
    }
   ],
   "source": [
    "adata.var[\"feature_types\"].value_counts()\n"
   ]
  },
  {
   "cell_type": "code",
   "execution_count": null,
   "id": "latter-immune",
   "metadata": {},
   "outputs": [],
   "source": [
    "adata"
   ]
  },
  {
   "cell_type": "code",
   "execution_count": null,
   "id": "secret-hands",
   "metadata": {},
   "outputs": [],
   "source": []
  },
  {
   "cell_type": "code",
   "execution_count": null,
   "id": "ongoing-polls",
   "metadata": {},
   "outputs": [],
   "source": []
  }
 ],
 "metadata": {
  "kernelspec": {
   "display_name": "Python 3",
   "language": "python",
   "name": "python3"
  },
  "language_info": {
   "codemirror_mode": {
    "name": "ipython",
    "version": 3
   },
   "file_extension": ".py",
   "mimetype": "text/x-python",
   "name": "python",
   "nbconvert_exporter": "python",
   "pygments_lexer": "ipython3",
   "version": "3.8.8"
  }
 },
 "nbformat": 4,
 "nbformat_minor": 5
}
