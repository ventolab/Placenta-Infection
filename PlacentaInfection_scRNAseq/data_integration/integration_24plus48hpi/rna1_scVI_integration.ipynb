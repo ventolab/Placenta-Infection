{
 "cells": [
  {
   "cell_type": "markdown",
   "id": "mighty-jonathan",
   "metadata": {},
   "source": [
    "**Author:** Elias Rafael Ruiz-Morales\n",
    "\n",
    "**Institution:** Wellcome Sanger institute\n",
    "\n",
    "**November, 2023**\n"
   ]
  },
  {
   "cell_type": "markdown",
   "id": "narrative-ready",
   "metadata": {},
   "source": [
    "---"
   ]
  },
  {
   "cell_type": "markdown",
   "id": "cutting-replication",
   "metadata": {},
   "source": [
    "# Integration of 24hpi and 48hpi datasets"
   ]
  },
  {
   "cell_type": "code",
   "execution_count": 1,
   "id": "violent-fraud",
   "metadata": {},
   "outputs": [],
   "source": [
    "from __future__ import print_function\n",
    "import torch\n",
    "\n",
    "import sys, os\n",
    "data_type = 'float32'\n",
    "os.environ[\"THEANO_FLAGS\"] = 'device=cuda,floatX=' + data_type + ',force_device=True'\n",
    "sys.path.insert(1, './')"
   ]
  },
  {
   "cell_type": "code",
   "execution_count": 2,
   "id": "laden-charm",
   "metadata": {
    "collapsed": true,
    "jupyter": {
     "outputs_hidden": true
    },
    "tags": []
   },
   "outputs": [
    {
     "name": "stderr",
     "output_type": "stream",
     "text": [
      "WARNING: If you miss a compact list, please try `print_header`!\n"
     ]
    },
    {
     "name": "stdout",
     "output_type": "stream",
     "text": [
      "-----\n",
      "anndata     0.7.6\n",
      "scanpy      1.7.0\n",
      "sinfo       0.3.1\n",
      "-----\n",
      "PIL                 8.3.0\n",
      "absl                NA\n",
      "anndata             0.7.6\n",
      "anyio               NA\n",
      "attr                21.2.0\n",
      "babel               2.9.1\n",
      "backcall            0.2.0\n",
      "beta_ufunc          NA\n",
      "binom_ufunc         NA\n",
      "brotli              NA\n",
      "cairo               1.20.1\n",
      "certifi             2021.05.30\n",
      "cffi                1.14.4\n",
      "chardet             4.0.0\n",
      "colorama            0.4.4\n",
      "cycler              0.10.0\n",
      "cython_runtime      NA\n",
      "dateutil            2.8.1\n",
      "debugpy             1.3.0\n",
      "decorator           5.0.9\n",
      "defusedxml          0.7.1\n",
      "dunamai             1.5.5\n",
      "fsspec              2021.06.1\n",
      "get_version         3.2\n",
      "google              NA\n",
      "h5py                3.3.0\n",
      "idna                2.10\n",
      "igraph              0.8.3\n",
      "ipykernel           6.0.0\n",
      "ipython_genutils    0.2.0\n",
      "ipywidgets          7.6.3\n",
      "jedi                0.18.0\n",
      "jinja2              3.0.1\n",
      "joblib              1.0.1\n",
      "json5               NA\n",
      "jsonschema          3.2.0\n",
      "jupyter_server      1.9.0\n",
      "jupyterlab_server   2.6.0\n",
      "kiwisolver          1.3.1\n",
      "legacy_api_wrap     0.0.0\n",
      "leidenalg           0.8.3\n",
      "llvmlite            0.34.0\n",
      "louvain             0.7.0\n",
      "markupsafe          2.0.1\n",
      "matplotlib          3.4.2\n",
      "matplotlib_inline   NA\n",
      "mpl_toolkits        NA\n",
      "natsort             7.1.1\n",
      "nbclassic           NA\n",
      "nbformat            5.1.3\n",
      "nbinom_ufunc        NA\n",
      "numba               0.51.2\n",
      "numexpr             2.7.3\n",
      "numpy               1.19.5\n",
      "opt_einsum          v3.3.0\n",
      "packaging           20.9\n",
      "pandas              1.2.4\n",
      "parso               0.8.2\n",
      "pexpect             4.8.0\n",
      "pickleshare         0.7.5\n",
      "pkg_resources       NA\n",
      "prometheus_client   NA\n",
      "prompt_toolkit      3.0.19\n",
      "ptyprocess          0.7.0\n",
      "pvectorc            NA\n",
      "pycparser           2.20\n",
      "pygments            2.9.0\n",
      "pyparsing           2.4.7\n",
      "pyro                1.5.2\n",
      "pyrsistent          NA\n",
      "pytorch_lightning   1.2.10\n",
      "pytz                2021.1\n",
      "requests            2.25.1\n",
      "rich                NA\n",
      "scanpy              1.7.0\n",
      "scipy               1.7.0\n",
      "scvi                0.10.1\n",
      "send2trash          NA\n",
      "setuptools_scm      NA\n",
      "sinfo               0.3.1\n",
      "six                 1.16.0\n",
      "sklearn             0.24.2\n",
      "sniffio             1.2.0\n",
      "socks               1.7.1\n",
      "sphinxcontrib       NA\n",
      "storemagic          NA\n",
      "tables              3.6.1\n",
      "tensorboard         2.5.0\n",
      "terminado           0.10.1\n",
      "texttable           1.6.3\n",
      "threadpoolctl       2.1.0\n",
      "torch               1.8.1+cu102\n",
      "torchmetrics        0.4.0\n",
      "tornado             6.1\n",
      "tqdm                4.61.1\n",
      "traitlets           5.0.5\n",
      "typing_extensions   NA\n",
      "urllib3             1.26.6\n",
      "wcwidth             0.2.5\n",
      "websocket           0.57.0\n",
      "yaml                5.4.1\n",
      "zmq                 22.1.0\n",
      "-----\n",
      "IPython             7.25.0\n",
      "jupyter_client      6.1.12\n",
      "jupyter_core        4.7.1\n",
      "jupyterlab          3.0.16\n",
      "notebook            6.4.0\n",
      "-----\n",
      "Python 3.8.0 | packaged by conda-forge | (default, Nov 22 2019, 19:11:38) [GCC 7.3.0]\n",
      "Linux-4.15.0-219-generic-x86_64-with-glibc2.10\n",
      "64 logical CPU cores, x86_64\n",
      "-----\n",
      "Session information updated at 2023-11-29 00:39\n",
      "\n"
     ]
    },
    {
     "data": {
      "text/plain": [
       "'/opt/conda/envs/scvi-singularity/bin/python'"
      ]
     },
     "execution_count": 2,
     "metadata": {},
     "output_type": "execute_result"
    }
   ],
   "source": [
    "# Seed for reproducibility\n",
    "import numpy as np\n",
    "import pandas as pd\n",
    "import scanpy as sc\n",
    "from typing import Tuple\n",
    "import gc\n",
    "\n",
    "# scVI imports\n",
    "import scvi\n",
    "from scvi.dataset import AnnDatasetFromAnnData\n",
    "from scvi.inference import UnsupervisedTrainer\n",
    "from scvi.models.vae import VAE\n",
    "\n",
    "torch.manual_seed(0)\n",
    "np.random.seed(0)\n",
    "sc.settings.verbosity = 0  # verbosity: errors (0), warnings (1), info (2), hints (3)\n",
    "\n",
    "\n",
    "\n",
    "def MovePlots(plotpattern, subplotdir):\n",
    "    os.system('mkdir -p '+str(sc.settings.figdir)+'/'+subplotdir)\n",
    "    os.system('mv '+str(sc.settings.figdir)+'/*'+plotpattern+'** '+str(sc.settings.figdir)+'/'+subplotdir)\n",
    "\n",
    "sc.settings.verbosity = 3  # verbosity: errors (0), warnings (1), info (2), hints (3)\n",
    "sc.settings.figdir = '../results/scVI/'\n",
    "sc.logging.print_versions()\n",
    "sc.settings.set_figure_params(dpi=80)  # low dpi (dots per inch) yields small inline figures\n",
    "\n",
    "sys.executable"
   ]
  },
  {
   "cell_type": "code",
   "execution_count": 3,
   "id": "legitimate-concert",
   "metadata": {},
   "outputs": [],
   "source": [
    "def identityTransfer(adata_CellsNewID, adata, field='cell_type'):\n",
    "    \n",
    "    '''\n",
    "    Function to transfer the value in a .obs column, modifying only the cells included in adata_CellsNewID\n",
    "    \n",
    "    Parameters:\n",
    "        adata_CellsNewID: anndata object with cells. These should have in their .obs[field] the new values to be transfer to adata\n",
    "        adata: anndata object to modify. The value in .obs[field] will be modifies for all the cells in adata_CellsNewID\n",
    "        field: column name in .obs to operate in.\n",
    "        \n",
    "     Return:\n",
    "        anndata object with the metadata modified\n",
    "        \n",
    "    '''\n",
    "    \n",
    "    #converting categorical into strings to introduce new categories\n",
    "    adata.obs[field]=adata.obs[field].astype(\"string\")\n",
    "\n",
    "\n",
    "    #assigning the new categories to the cells in adata\n",
    "    for cell in adata_CellsNewID.obs.index:\n",
    "        adata.obs[field][cell] = adata_CellsNewID.obs[field][cell]\n",
    "\n",
    "    #Returning strings into categorical \n",
    "    adata.obs[field]=adata.obs[field].astype(\"category\")\n",
    "    \n",
    "    return(adata)"
   ]
  },
  {
   "cell_type": "code",
   "execution_count": null,
   "id": "immediate-productivity",
   "metadata": {},
   "outputs": [],
   "source": []
  },
  {
   "cell_type": "markdown",
   "id": "remarkable-wonder",
   "metadata": {},
   "source": [
    "### Loading non-normalized data"
   ]
  },
  {
   "cell_type": "code",
   "execution_count": 4,
   "id": "increased-bicycle",
   "metadata": {},
   "outputs": [],
   "source": [
    "adata_24h = sc.read('../../24h/results/scVI/rna8_scVIintegrated_latent30_All_20230707.h5ad')\n",
    "\n",
    "adata_48h = sc.read('../../48h/results/scVI/rna8_scVIintegrated_latent30_All_20230707_48h.h5ad')"
   ]
  },
  {
   "cell_type": "code",
   "execution_count": 5,
   "id": "narrow-malaysia",
   "metadata": {},
   "outputs": [],
   "source": [
    "del(adata_24h.obs[\"cell_type_2022\"])\n",
    "del(adata_24h.uns[\"cell_type_2022_colors\"])"
   ]
  },
  {
   "cell_type": "code",
   "execution_count": 6,
   "id": "shared-flavor",
   "metadata": {},
   "outputs": [
    {
     "data": {
      "text/plain": [
       "AnnData object with n_obs × n_vars = 113028 × 36601\n",
       "    obs: 'sample', 'stage', 'hpi', 'infection', 'percent_mito', 'n_counts', 'sample_barcode', 'assignment_SoC', 'donor_id', 'scrublet_score', 'scrublet_cluster_score', 'zscore', 'bh_pval', 'bonf_pval', 'S_score', 'G2M_score', 'phase', 'n_genes_by_counts', 'total_counts', 'total_counts_hs', 'pct_counts_hs', 'total_counts_tg', 'pct_counts_tg', 'Tg_infected', 'n_genes', '_scvi_batch', '_scvi_labels', '_scvi_local_l_mean', '_scvi_local_l_var', 'leiden_scvi', 'celltype_predictions', 'probabilities', 'scrublet_doublet', 'cell_type', 'souporcell_MFgenotype', 'MFgenotype', 'cell_type_broad', 'umap_density_Tg_infected', 'stage_perInfection', 'celltype-Stage', 'Tg_intracellular', 'celltype-Intracellular', 'Dev_Stage'\n",
       "    var: 'gene_ids', 'feature_types', 'mean-0', 'std-0', 'mean-1', 'std-1', 'mean-2', 'std-2', 'highly_variable', 'highly_variable_rank', 'means', 'variances', 'variances_norm'\n",
       "    uns: 'Dev_Stage_colors', 'MFgenotype_colors', '_scvi', 'cell_type_broad_colors', 'cell_type_colors', 'celltype_predictions_colors', 'donor_id_colors', 'hpi_colors', 'hvg', 'infection_colors', 'leiden', 'neighbors', 'sample_colors', 'scrublet_doublet_colors', 'umap', 'umap_density_Tg_infected_params'\n",
       "    obsm: 'X_scVI_n_latent_20', 'X_scVI_n_latent_30', 'X_scVI_n_latent_40', 'X_umap', '_scvi_extra_categoricals'\n",
       "    layers: 'raw_counts'\n",
       "    obsp: 'connectivities', 'distances'"
      ]
     },
     "execution_count": 6,
     "metadata": {},
     "output_type": "execute_result"
    }
   ],
   "source": [
    "adata_24h"
   ]
  },
  {
   "cell_type": "code",
   "execution_count": null,
   "id": "stunning-pennsylvania",
   "metadata": {},
   "outputs": [],
   "source": []
  },
  {
   "cell_type": "code",
   "execution_count": 7,
   "id": "meaningful-phone",
   "metadata": {},
   "outputs": [
    {
     "data": {
      "text/plain": [
       "AnnData object with n_obs × n_vars = 45950 × 36601\n",
       "    obs: 'sample', 'stage', 'hpi', 'infection', 'percent_mito', 'n_counts', 'sample_barcode', 'assignment_SoC', 'donor_id', 'scrublet_score', 'scrublet_cluster_score', 'zscore', 'bh_pval', 'bonf_pval', 'S_score', 'G2M_score', 'phase', 'n_genes_by_counts', 'total_counts', 'total_counts_hs', 'pct_counts_hs', 'total_counts_tg', 'pct_counts_tg', 'Tg_infected', 'n_genes', '_scvi_batch', '_scvi_labels', '_scvi_local_l_mean', '_scvi_local_l_var', 'leiden_scvi', 'celltype_predictions', 'probabilities', 'scrublet_doublet', 'cell_type', 'souporcell_MFgenotype', 'MFgenotype', 'cell_type_broad', 'stage_perInfection', 'celltype-Stage', 'Tg_intracellular', 'celltype-Intracellular', 'Dev_Stage'\n",
       "    var: 'gene_ids', 'feature_types', 'mean-0', 'std-0', 'mean-1', 'std-1', 'mean-2', 'std-2', 'highly_variable', 'highly_variable_rank', 'means', 'variances', 'variances_norm'\n",
       "    uns: 'Dev_Stage_colors', 'MFgenotype_colors', '_scvi', 'cell_type_broad_colors', 'cell_type_colors', 'celltype_predictions_colors', 'donor_id_colors', 'hpi_colors', 'hvg', 'infection_colors', 'leiden', 'neighbors', 'sample_colors', 'umap'\n",
       "    obsm: 'X_scVI_n_latent_20', 'X_scVI_n_latent_30', 'X_scVI_n_latent_40', 'X_umap', '_scvi_extra_categoricals'\n",
       "    layers: 'raw_counts'\n",
       "    obsp: 'connectivities', 'distances'"
      ]
     },
     "execution_count": 7,
     "metadata": {},
     "output_type": "execute_result"
    }
   ],
   "source": [
    "adata_48h"
   ]
  },
  {
   "cell_type": "markdown",
   "id": "challenging-huntington",
   "metadata": {},
   "source": [
    "## Concatenate datasets"
   ]
  },
  {
   "cell_type": "code",
   "execution_count": 8,
   "id": "working-powder",
   "metadata": {},
   "outputs": [
    {
     "name": "stderr",
     "output_type": "stream",
     "text": [
      "/opt/conda/envs/scvi-singularity/lib/python3.8/site-packages/anndata/_core/merge.py:895: UserWarning: Only some AnnData objects have `.raw` attribute, not concatenating `.raw` attributes.\n",
      "  warn(\n"
     ]
    }
   ],
   "source": [
    "adata = adata_24h.concatenate(adata_48h, index_unique=None)"
   ]
  },
  {
   "cell_type": "code",
   "execution_count": 9,
   "id": "plastic-saskatchewan",
   "metadata": {},
   "outputs": [
    {
     "data": {
      "text/plain": [
       "AnnData object with n_obs × n_vars = 158978 × 36601\n",
       "    obs: 'sample', 'stage', 'hpi', 'infection', 'percent_mito', 'n_counts', 'sample_barcode', 'assignment_SoC', 'donor_id', 'scrublet_score', 'scrublet_cluster_score', 'zscore', 'bh_pval', 'bonf_pval', 'S_score', 'G2M_score', 'phase', 'n_genes_by_counts', 'total_counts', 'total_counts_hs', 'pct_counts_hs', 'total_counts_tg', 'pct_counts_tg', 'Tg_infected', 'n_genes', '_scvi_batch', '_scvi_labels', '_scvi_local_l_mean', '_scvi_local_l_var', 'leiden_scvi', 'celltype_predictions', 'probabilities', 'scrublet_doublet', 'cell_type', 'souporcell_MFgenotype', 'MFgenotype', 'cell_type_broad', 'umap_density_Tg_infected', 'stage_perInfection', 'celltype-Stage', 'Tg_intracellular', 'celltype-Intracellular', 'Dev_Stage', 'batch'\n",
       "    var: 'gene_ids', 'feature_types', 'mean-0-0', 'std-0-0', 'mean-1-0', 'std-1-0', 'mean-2-0', 'std-2-0', 'highly_variable-0', 'highly_variable_rank-0', 'means-0', 'variances-0', 'variances_norm-0', 'mean-0-1', 'std-0-1', 'mean-1-1', 'std-1-1', 'mean-2-1', 'std-2-1', 'highly_variable-1', 'highly_variable_rank-1', 'means-1', 'variances-1', 'variances_norm-1'\n",
       "    obsm: 'X_scVI_n_latent_20', 'X_scVI_n_latent_30', 'X_scVI_n_latent_40', 'X_umap', '_scvi_extra_categoricals'\n",
       "    layers: 'raw_counts'"
      ]
     },
     "execution_count": 9,
     "metadata": {},
     "output_type": "execute_result"
    }
   ],
   "source": [
    "adata"
   ]
  },
  {
   "cell_type": "code",
   "execution_count": 10,
   "id": "peaceful-robertson",
   "metadata": {},
   "outputs": [],
   "source": [
    "del(adata_24h,adata_48h)"
   ]
  },
  {
   "cell_type": "code",
   "execution_count": 11,
   "id": "laden-impression",
   "metadata": {},
   "outputs": [
    {
     "data": {
      "text/plain": [
       "396"
      ]
     },
     "execution_count": 11,
     "metadata": {},
     "output_type": "execute_result"
    }
   ],
   "source": [
    "gc.collect()"
   ]
  },
  {
   "cell_type": "markdown",
   "id": "manufactured-preservation",
   "metadata": {},
   "source": [
    "### Compute the scVI latent space\n",
    "\n",
    "Based on the scVI documentation."
   ]
  },
  {
   "cell_type": "code",
   "execution_count": 12,
   "id": "organizational-efficiency",
   "metadata": {},
   "outputs": [
    {
     "name": "stderr",
     "output_type": "stream",
     "text": [
      "normalizing counts per cell\n",
      "    finished (0:00:02)\n"
     ]
    }
   ],
   "source": [
    "# do some basic preprocessing\n",
    "#adata.layers[\"raw_counts\"] = adata.X.copy() # preserve counts\n",
    "sc.pp.normalize_total(adata, target_sum=1e4)\n",
    "sc.pp.log1p(adata)\n",
    "#adata.raw = adata.copy()"
   ]
  },
  {
   "cell_type": "code",
   "execution_count": 13,
   "id": "productive-robert",
   "metadata": {},
   "outputs": [
    {
     "data": {
      "text/plain": [
       "array(['Hrv124', 'Hrv135', 'Hrv136', 'Hrv168', 'Hrv232', 'Hrv236',\n",
       "       'scDonor_Tg1', 'scDonor_Tg2', 'scDonor_Tg3', 'scDonor_Tg4'],\n",
       "      dtype=object)"
      ]
     },
     "execution_count": 13,
     "metadata": {},
     "output_type": "execute_result"
    }
   ],
   "source": [
    "np.unique(adata.obs['donor_id'])"
   ]
  },
  {
   "cell_type": "code",
   "execution_count": 14,
   "id": "veterinary-director",
   "metadata": {},
   "outputs": [
    {
     "data": {
      "text/plain": [
       "Pla_HDBR13007974_AAACCCAAGCGTTGTT    Pla_HDBR13007974\n",
       "Pla_HDBR13007974_AAACCCAAGTAGTCAA    Pla_HDBR13007974\n",
       "Pla_HDBR13007974_AAACCCACAATGAACA    Pla_HDBR13007974\n",
       "Pla_HDBR13007974_AAACCCACAGAGAGGG    Pla_HDBR13007974\n",
       "Pla_HDBR13007974_AAACCCACAGTAGAAT    Pla_HDBR13007974\n",
       "                                           ...       \n",
       "Pla_HDBR13661576_TTTGTTGAGAGTACCG    Pla_HDBR13661576\n",
       "Pla_HDBR13661576_TTTGTTGAGCATATGA    Pla_HDBR13661576\n",
       "Pla_HDBR13661576_TTTGTTGCATCCCGTT    Pla_HDBR13661576\n",
       "Pla_HDBR13661576_TTTGTTGTCAGCTGAT    Pla_HDBR13661576\n",
       "Pla_HDBR13661576_TTTGTTGTCTGGTTGA    Pla_HDBR13661576\n",
       "Name: sample, Length: 158978, dtype: object"
      ]
     },
     "execution_count": 14,
     "metadata": {},
     "output_type": "execute_result"
    }
   ],
   "source": [
    "adata.obs['sample']"
   ]
  },
  {
   "cell_type": "code",
   "execution_count": 15,
   "id": "several-advance",
   "metadata": {},
   "outputs": [
    {
     "data": {
      "text/html": [
       "<div>\n",
       "<style scoped>\n",
       "    .dataframe tbody tr th:only-of-type {\n",
       "        vertical-align: middle;\n",
       "    }\n",
       "\n",
       "    .dataframe tbody tr th {\n",
       "        vertical-align: top;\n",
       "    }\n",
       "\n",
       "    .dataframe thead th {\n",
       "        text-align: right;\n",
       "    }\n",
       "</style>\n",
       "<table border=\"1\" class=\"dataframe\">\n",
       "  <thead>\n",
       "    <tr style=\"text-align: right;\">\n",
       "      <th></th>\n",
       "      <th>sample</th>\n",
       "      <th>stage</th>\n",
       "      <th>hpi</th>\n",
       "      <th>infection</th>\n",
       "      <th>percent_mito</th>\n",
       "      <th>n_counts</th>\n",
       "      <th>sample_barcode</th>\n",
       "      <th>assignment_SoC</th>\n",
       "      <th>donor_id</th>\n",
       "      <th>scrublet_score</th>\n",
       "      <th>...</th>\n",
       "      <th>souporcell_MFgenotype</th>\n",
       "      <th>MFgenotype</th>\n",
       "      <th>cell_type_broad</th>\n",
       "      <th>umap_density_Tg_infected</th>\n",
       "      <th>stage_perInfection</th>\n",
       "      <th>celltype-Stage</th>\n",
       "      <th>Tg_intracellular</th>\n",
       "      <th>celltype-Intracellular</th>\n",
       "      <th>Dev_Stage</th>\n",
       "      <th>batch</th>\n",
       "    </tr>\n",
       "  </thead>\n",
       "  <tbody>\n",
       "    <tr>\n",
       "      <th>Pla_HDBR13007974_AAACCCAAGCGTTGTT</th>\n",
       "      <td>Pla_HDBR13007974</td>\n",
       "      <td>UI_24h</td>\n",
       "      <td>24h</td>\n",
       "      <td>UI</td>\n",
       "      <td>0.019590</td>\n",
       "      <td>6432.0</td>\n",
       "      <td>Pla_HDBR13007974_AAACCCAAGCGTTGTT</td>\n",
       "      <td>1</td>\n",
       "      <td>scDonor_Tg2</td>\n",
       "      <td>0.020057</td>\n",
       "      <td>...</td>\n",
       "      <td>0</td>\n",
       "      <td>Maternal</td>\n",
       "      <td>F</td>\n",
       "      <td>0.365844</td>\n",
       "      <td>UI_Tg_24h</td>\n",
       "      <td>F-UI_Tg_24h</td>\n",
       "      <td>UI</td>\n",
       "      <td>F-UI_Tg_24h</td>\n",
       "      <td>12pcw</td>\n",
       "      <td>0</td>\n",
       "    </tr>\n",
       "    <tr>\n",
       "      <th>Pla_HDBR13007974_AAACCCAAGTAGTCAA</th>\n",
       "      <td>Pla_HDBR13007974</td>\n",
       "      <td>UI_24h</td>\n",
       "      <td>24h</td>\n",
       "      <td>UI</td>\n",
       "      <td>0.045489</td>\n",
       "      <td>49221.0</td>\n",
       "      <td>Pla_HDBR13007974_AAACCCAAGTAGTCAA</td>\n",
       "      <td>0</td>\n",
       "      <td>scDonor_Tg1</td>\n",
       "      <td>0.092913</td>\n",
       "      <td>...</td>\n",
       "      <td>3</td>\n",
       "      <td>Fetal</td>\n",
       "      <td>VCT</td>\n",
       "      <td>0.312446</td>\n",
       "      <td>UI_Tg_24h</td>\n",
       "      <td>VCT_fusing-UI_Tg_24h</td>\n",
       "      <td>UI</td>\n",
       "      <td>VCT_fusing-UI_Tg_24h</td>\n",
       "      <td>CS22</td>\n",
       "      <td>0</td>\n",
       "    </tr>\n",
       "    <tr>\n",
       "      <th>Pla_HDBR13007974_AAACCCACAATGAACA</th>\n",
       "      <td>Pla_HDBR13007974</td>\n",
       "      <td>UI_24h</td>\n",
       "      <td>24h</td>\n",
       "      <td>UI</td>\n",
       "      <td>0.045332</td>\n",
       "      <td>9243.0</td>\n",
       "      <td>Pla_HDBR13007974_AAACCCACAATGAACA</td>\n",
       "      <td>1</td>\n",
       "      <td>scDonor_Tg2</td>\n",
       "      <td>0.085202</td>\n",
       "      <td>...</td>\n",
       "      <td>0</td>\n",
       "      <td>Maternal</td>\n",
       "      <td>HBC</td>\n",
       "      <td>0.903018</td>\n",
       "      <td>UI_Tg_24h</td>\n",
       "      <td>HBC-UI_Tg_24h</td>\n",
       "      <td>UI</td>\n",
       "      <td>HBC-UI_Tg_24h</td>\n",
       "      <td>12pcw</td>\n",
       "      <td>0</td>\n",
       "    </tr>\n",
       "    <tr>\n",
       "      <th>Pla_HDBR13007974_AAACCCACAGAGAGGG</th>\n",
       "      <td>Pla_HDBR13007974</td>\n",
       "      <td>UI_24h</td>\n",
       "      <td>24h</td>\n",
       "      <td>UI</td>\n",
       "      <td>0.031214</td>\n",
       "      <td>7753.0</td>\n",
       "      <td>Pla_HDBR13007974_AAACCCACAGAGAGGG</td>\n",
       "      <td>1</td>\n",
       "      <td>scDonor_Tg2</td>\n",
       "      <td>0.099262</td>\n",
       "      <td>...</td>\n",
       "      <td>0</td>\n",
       "      <td>Maternal</td>\n",
       "      <td>HBC</td>\n",
       "      <td>0.633648</td>\n",
       "      <td>UI_Tg_24h</td>\n",
       "      <td>HBC-UI_Tg_24h</td>\n",
       "      <td>UI</td>\n",
       "      <td>HBC-UI_Tg_24h</td>\n",
       "      <td>12pcw</td>\n",
       "      <td>0</td>\n",
       "    </tr>\n",
       "    <tr>\n",
       "      <th>Pla_HDBR13007974_AAACCCACAGTAGAAT</th>\n",
       "      <td>Pla_HDBR13007974</td>\n",
       "      <td>UI_24h</td>\n",
       "      <td>24h</td>\n",
       "      <td>UI</td>\n",
       "      <td>0.043799</td>\n",
       "      <td>14361.0</td>\n",
       "      <td>Pla_HDBR13007974_AAACCCACAGTAGAAT</td>\n",
       "      <td>0</td>\n",
       "      <td>scDonor_Tg1</td>\n",
       "      <td>0.059619</td>\n",
       "      <td>...</td>\n",
       "      <td>3</td>\n",
       "      <td>Fetal</td>\n",
       "      <td>HBC</td>\n",
       "      <td>0.794102</td>\n",
       "      <td>UI_Tg_24h</td>\n",
       "      <td>HBC-UI_Tg_24h</td>\n",
       "      <td>UI</td>\n",
       "      <td>HBC-UI_Tg_24h</td>\n",
       "      <td>CS22</td>\n",
       "      <td>0</td>\n",
       "    </tr>\n",
       "    <tr>\n",
       "      <th>...</th>\n",
       "      <td>...</td>\n",
       "      <td>...</td>\n",
       "      <td>...</td>\n",
       "      <td>...</td>\n",
       "      <td>...</td>\n",
       "      <td>...</td>\n",
       "      <td>...</td>\n",
       "      <td>...</td>\n",
       "      <td>...</td>\n",
       "      <td>...</td>\n",
       "      <td>...</td>\n",
       "      <td>...</td>\n",
       "      <td>...</td>\n",
       "      <td>...</td>\n",
       "      <td>...</td>\n",
       "      <td>...</td>\n",
       "      <td>...</td>\n",
       "      <td>...</td>\n",
       "      <td>...</td>\n",
       "      <td>...</td>\n",
       "      <td>...</td>\n",
       "    </tr>\n",
       "    <tr>\n",
       "      <th>Pla_HDBR13661576_TTTGTTGAGAGTACCG</th>\n",
       "      <td>Pla_HDBR13661576</td>\n",
       "      <td>Lm_48h</td>\n",
       "      <td>48h</td>\n",
       "      <td>Lm</td>\n",
       "      <td>0.071074</td>\n",
       "      <td>50722.0</td>\n",
       "      <td>Pla_HDBR13661576_TTTGTTGAGAGTACCG</td>\n",
       "      <td>not_pooled</td>\n",
       "      <td>Hrv236</td>\n",
       "      <td>0.091183</td>\n",
       "      <td>...</td>\n",
       "      <td>1</td>\n",
       "      <td>Fetal</td>\n",
       "      <td>VCT</td>\n",
       "      <td>NaN</td>\n",
       "      <td>Lm_48h</td>\n",
       "      <td>VCT-Lm_48h</td>\n",
       "      <td>nan</td>\n",
       "      <td>VCT-Lm_48h</td>\n",
       "      <td>14pcw</td>\n",
       "      <td>1</td>\n",
       "    </tr>\n",
       "    <tr>\n",
       "      <th>Pla_HDBR13661576_TTTGTTGAGCATATGA</th>\n",
       "      <td>Pla_HDBR13661576</td>\n",
       "      <td>Lm_48h</td>\n",
       "      <td>48h</td>\n",
       "      <td>Lm</td>\n",
       "      <td>0.086808</td>\n",
       "      <td>16358.0</td>\n",
       "      <td>Pla_HDBR13661576_TTTGTTGAGCATATGA</td>\n",
       "      <td>not_pooled</td>\n",
       "      <td>Hrv236</td>\n",
       "      <td>0.085631</td>\n",
       "      <td>...</td>\n",
       "      <td>1</td>\n",
       "      <td>Fetal</td>\n",
       "      <td>HBC</td>\n",
       "      <td>NaN</td>\n",
       "      <td>Lm_48h</td>\n",
       "      <td>HBC-Lm_48h</td>\n",
       "      <td>nan</td>\n",
       "      <td>HBC-Lm_48h</td>\n",
       "      <td>14pcw</td>\n",
       "      <td>1</td>\n",
       "    </tr>\n",
       "    <tr>\n",
       "      <th>Pla_HDBR13661576_TTTGTTGCATCCCGTT</th>\n",
       "      <td>Pla_HDBR13661576</td>\n",
       "      <td>Lm_48h</td>\n",
       "      <td>48h</td>\n",
       "      <td>Lm</td>\n",
       "      <td>0.018906</td>\n",
       "      <td>12800.0</td>\n",
       "      <td>Pla_HDBR13661576_TTTGTTGCATCCCGTT</td>\n",
       "      <td>not_pooled</td>\n",
       "      <td>Hrv236</td>\n",
       "      <td>0.170507</td>\n",
       "      <td>...</td>\n",
       "      <td>1</td>\n",
       "      <td>Fetal</td>\n",
       "      <td>PV</td>\n",
       "      <td>NaN</td>\n",
       "      <td>Lm_48h</td>\n",
       "      <td>PV-Lm_48h</td>\n",
       "      <td>nan</td>\n",
       "      <td>PV-Lm_48h</td>\n",
       "      <td>14pcw</td>\n",
       "      <td>1</td>\n",
       "    </tr>\n",
       "    <tr>\n",
       "      <th>Pla_HDBR13661576_TTTGTTGTCAGCTGAT</th>\n",
       "      <td>Pla_HDBR13661576</td>\n",
       "      <td>Lm_48h</td>\n",
       "      <td>48h</td>\n",
       "      <td>Lm</td>\n",
       "      <td>0.049094</td>\n",
       "      <td>21082.0</td>\n",
       "      <td>Pla_HDBR13661576_TTTGTTGTCAGCTGAT</td>\n",
       "      <td>not_pooled</td>\n",
       "      <td>Hrv236</td>\n",
       "      <td>0.059382</td>\n",
       "      <td>...</td>\n",
       "      <td>1</td>\n",
       "      <td>Fetal</td>\n",
       "      <td>Endo_f</td>\n",
       "      <td>NaN</td>\n",
       "      <td>Lm_48h</td>\n",
       "      <td>Endo_f-Lm_48h</td>\n",
       "      <td>nan</td>\n",
       "      <td>Endo_f-Lm_48h</td>\n",
       "      <td>14pcw</td>\n",
       "      <td>1</td>\n",
       "    </tr>\n",
       "    <tr>\n",
       "      <th>Pla_HDBR13661576_TTTGTTGTCTGGTTGA</th>\n",
       "      <td>Pla_HDBR13661576</td>\n",
       "      <td>Lm_48h</td>\n",
       "      <td>48h</td>\n",
       "      <td>Lm</td>\n",
       "      <td>0.135040</td>\n",
       "      <td>13322.0</td>\n",
       "      <td>Pla_HDBR13661576_TTTGTTGTCTGGTTGA</td>\n",
       "      <td>not_pooled</td>\n",
       "      <td>Hrv236</td>\n",
       "      <td>0.087436</td>\n",
       "      <td>...</td>\n",
       "      <td>1</td>\n",
       "      <td>Fetal</td>\n",
       "      <td>HBC</td>\n",
       "      <td>NaN</td>\n",
       "      <td>Lm_48h</td>\n",
       "      <td>HBC-Lm_48h</td>\n",
       "      <td>nan</td>\n",
       "      <td>HBC-Lm_48h</td>\n",
       "      <td>14pcw</td>\n",
       "      <td>1</td>\n",
       "    </tr>\n",
       "  </tbody>\n",
       "</table>\n",
       "<p>158978 rows × 44 columns</p>\n",
       "</div>"
      ],
      "text/plain": [
       "                                             sample   stage  hpi infection  \\\n",
       "Pla_HDBR13007974_AAACCCAAGCGTTGTT  Pla_HDBR13007974  UI_24h  24h        UI   \n",
       "Pla_HDBR13007974_AAACCCAAGTAGTCAA  Pla_HDBR13007974  UI_24h  24h        UI   \n",
       "Pla_HDBR13007974_AAACCCACAATGAACA  Pla_HDBR13007974  UI_24h  24h        UI   \n",
       "Pla_HDBR13007974_AAACCCACAGAGAGGG  Pla_HDBR13007974  UI_24h  24h        UI   \n",
       "Pla_HDBR13007974_AAACCCACAGTAGAAT  Pla_HDBR13007974  UI_24h  24h        UI   \n",
       "...                                             ...     ...  ...       ...   \n",
       "Pla_HDBR13661576_TTTGTTGAGAGTACCG  Pla_HDBR13661576  Lm_48h  48h        Lm   \n",
       "Pla_HDBR13661576_TTTGTTGAGCATATGA  Pla_HDBR13661576  Lm_48h  48h        Lm   \n",
       "Pla_HDBR13661576_TTTGTTGCATCCCGTT  Pla_HDBR13661576  Lm_48h  48h        Lm   \n",
       "Pla_HDBR13661576_TTTGTTGTCAGCTGAT  Pla_HDBR13661576  Lm_48h  48h        Lm   \n",
       "Pla_HDBR13661576_TTTGTTGTCTGGTTGA  Pla_HDBR13661576  Lm_48h  48h        Lm   \n",
       "\n",
       "                                   percent_mito  n_counts  \\\n",
       "Pla_HDBR13007974_AAACCCAAGCGTTGTT      0.019590    6432.0   \n",
       "Pla_HDBR13007974_AAACCCAAGTAGTCAA      0.045489   49221.0   \n",
       "Pla_HDBR13007974_AAACCCACAATGAACA      0.045332    9243.0   \n",
       "Pla_HDBR13007974_AAACCCACAGAGAGGG      0.031214    7753.0   \n",
       "Pla_HDBR13007974_AAACCCACAGTAGAAT      0.043799   14361.0   \n",
       "...                                         ...       ...   \n",
       "Pla_HDBR13661576_TTTGTTGAGAGTACCG      0.071074   50722.0   \n",
       "Pla_HDBR13661576_TTTGTTGAGCATATGA      0.086808   16358.0   \n",
       "Pla_HDBR13661576_TTTGTTGCATCCCGTT      0.018906   12800.0   \n",
       "Pla_HDBR13661576_TTTGTTGTCAGCTGAT      0.049094   21082.0   \n",
       "Pla_HDBR13661576_TTTGTTGTCTGGTTGA      0.135040   13322.0   \n",
       "\n",
       "                                                      sample_barcode  \\\n",
       "Pla_HDBR13007974_AAACCCAAGCGTTGTT  Pla_HDBR13007974_AAACCCAAGCGTTGTT   \n",
       "Pla_HDBR13007974_AAACCCAAGTAGTCAA  Pla_HDBR13007974_AAACCCAAGTAGTCAA   \n",
       "Pla_HDBR13007974_AAACCCACAATGAACA  Pla_HDBR13007974_AAACCCACAATGAACA   \n",
       "Pla_HDBR13007974_AAACCCACAGAGAGGG  Pla_HDBR13007974_AAACCCACAGAGAGGG   \n",
       "Pla_HDBR13007974_AAACCCACAGTAGAAT  Pla_HDBR13007974_AAACCCACAGTAGAAT   \n",
       "...                                                              ...   \n",
       "Pla_HDBR13661576_TTTGTTGAGAGTACCG  Pla_HDBR13661576_TTTGTTGAGAGTACCG   \n",
       "Pla_HDBR13661576_TTTGTTGAGCATATGA  Pla_HDBR13661576_TTTGTTGAGCATATGA   \n",
       "Pla_HDBR13661576_TTTGTTGCATCCCGTT  Pla_HDBR13661576_TTTGTTGCATCCCGTT   \n",
       "Pla_HDBR13661576_TTTGTTGTCAGCTGAT  Pla_HDBR13661576_TTTGTTGTCAGCTGAT   \n",
       "Pla_HDBR13661576_TTTGTTGTCTGGTTGA  Pla_HDBR13661576_TTTGTTGTCTGGTTGA   \n",
       "\n",
       "                                  assignment_SoC     donor_id  scrublet_score  \\\n",
       "Pla_HDBR13007974_AAACCCAAGCGTTGTT              1  scDonor_Tg2        0.020057   \n",
       "Pla_HDBR13007974_AAACCCAAGTAGTCAA              0  scDonor_Tg1        0.092913   \n",
       "Pla_HDBR13007974_AAACCCACAATGAACA              1  scDonor_Tg2        0.085202   \n",
       "Pla_HDBR13007974_AAACCCACAGAGAGGG              1  scDonor_Tg2        0.099262   \n",
       "Pla_HDBR13007974_AAACCCACAGTAGAAT              0  scDonor_Tg1        0.059619   \n",
       "...                                          ...          ...             ...   \n",
       "Pla_HDBR13661576_TTTGTTGAGAGTACCG     not_pooled       Hrv236        0.091183   \n",
       "Pla_HDBR13661576_TTTGTTGAGCATATGA     not_pooled       Hrv236        0.085631   \n",
       "Pla_HDBR13661576_TTTGTTGCATCCCGTT     not_pooled       Hrv236        0.170507   \n",
       "Pla_HDBR13661576_TTTGTTGTCAGCTGAT     not_pooled       Hrv236        0.059382   \n",
       "Pla_HDBR13661576_TTTGTTGTCTGGTTGA     not_pooled       Hrv236        0.087436   \n",
       "\n",
       "                                   ...  souporcell_MFgenotype  MFgenotype  \\\n",
       "Pla_HDBR13007974_AAACCCAAGCGTTGTT  ...                      0    Maternal   \n",
       "Pla_HDBR13007974_AAACCCAAGTAGTCAA  ...                      3       Fetal   \n",
       "Pla_HDBR13007974_AAACCCACAATGAACA  ...                      0    Maternal   \n",
       "Pla_HDBR13007974_AAACCCACAGAGAGGG  ...                      0    Maternal   \n",
       "Pla_HDBR13007974_AAACCCACAGTAGAAT  ...                      3       Fetal   \n",
       "...                                ...                    ...         ...   \n",
       "Pla_HDBR13661576_TTTGTTGAGAGTACCG  ...                      1       Fetal   \n",
       "Pla_HDBR13661576_TTTGTTGAGCATATGA  ...                      1       Fetal   \n",
       "Pla_HDBR13661576_TTTGTTGCATCCCGTT  ...                      1       Fetal   \n",
       "Pla_HDBR13661576_TTTGTTGTCAGCTGAT  ...                      1       Fetal   \n",
       "Pla_HDBR13661576_TTTGTTGTCTGGTTGA  ...                      1       Fetal   \n",
       "\n",
       "                                   cell_type_broad  umap_density_Tg_infected  \\\n",
       "Pla_HDBR13007974_AAACCCAAGCGTTGTT                F                  0.365844   \n",
       "Pla_HDBR13007974_AAACCCAAGTAGTCAA              VCT                  0.312446   \n",
       "Pla_HDBR13007974_AAACCCACAATGAACA              HBC                  0.903018   \n",
       "Pla_HDBR13007974_AAACCCACAGAGAGGG              HBC                  0.633648   \n",
       "Pla_HDBR13007974_AAACCCACAGTAGAAT              HBC                  0.794102   \n",
       "...                                            ...                       ...   \n",
       "Pla_HDBR13661576_TTTGTTGAGAGTACCG              VCT                       NaN   \n",
       "Pla_HDBR13661576_TTTGTTGAGCATATGA              HBC                       NaN   \n",
       "Pla_HDBR13661576_TTTGTTGCATCCCGTT               PV                       NaN   \n",
       "Pla_HDBR13661576_TTTGTTGTCAGCTGAT           Endo_f                       NaN   \n",
       "Pla_HDBR13661576_TTTGTTGTCTGGTTGA              HBC                       NaN   \n",
       "\n",
       "                                   stage_perInfection        celltype-Stage  \\\n",
       "Pla_HDBR13007974_AAACCCAAGCGTTGTT           UI_Tg_24h           F-UI_Tg_24h   \n",
       "Pla_HDBR13007974_AAACCCAAGTAGTCAA           UI_Tg_24h  VCT_fusing-UI_Tg_24h   \n",
       "Pla_HDBR13007974_AAACCCACAATGAACA           UI_Tg_24h         HBC-UI_Tg_24h   \n",
       "Pla_HDBR13007974_AAACCCACAGAGAGGG           UI_Tg_24h         HBC-UI_Tg_24h   \n",
       "Pla_HDBR13007974_AAACCCACAGTAGAAT           UI_Tg_24h         HBC-UI_Tg_24h   \n",
       "...                                               ...                   ...   \n",
       "Pla_HDBR13661576_TTTGTTGAGAGTACCG              Lm_48h            VCT-Lm_48h   \n",
       "Pla_HDBR13661576_TTTGTTGAGCATATGA              Lm_48h            HBC-Lm_48h   \n",
       "Pla_HDBR13661576_TTTGTTGCATCCCGTT              Lm_48h             PV-Lm_48h   \n",
       "Pla_HDBR13661576_TTTGTTGTCAGCTGAT              Lm_48h         Endo_f-Lm_48h   \n",
       "Pla_HDBR13661576_TTTGTTGTCTGGTTGA              Lm_48h            HBC-Lm_48h   \n",
       "\n",
       "                                  Tg_intracellular  celltype-Intracellular  \\\n",
       "Pla_HDBR13007974_AAACCCAAGCGTTGTT               UI             F-UI_Tg_24h   \n",
       "Pla_HDBR13007974_AAACCCAAGTAGTCAA               UI    VCT_fusing-UI_Tg_24h   \n",
       "Pla_HDBR13007974_AAACCCACAATGAACA               UI           HBC-UI_Tg_24h   \n",
       "Pla_HDBR13007974_AAACCCACAGAGAGGG               UI           HBC-UI_Tg_24h   \n",
       "Pla_HDBR13007974_AAACCCACAGTAGAAT               UI           HBC-UI_Tg_24h   \n",
       "...                                            ...                     ...   \n",
       "Pla_HDBR13661576_TTTGTTGAGAGTACCG              nan              VCT-Lm_48h   \n",
       "Pla_HDBR13661576_TTTGTTGAGCATATGA              nan              HBC-Lm_48h   \n",
       "Pla_HDBR13661576_TTTGTTGCATCCCGTT              nan               PV-Lm_48h   \n",
       "Pla_HDBR13661576_TTTGTTGTCAGCTGAT              nan           Endo_f-Lm_48h   \n",
       "Pla_HDBR13661576_TTTGTTGTCTGGTTGA              nan              HBC-Lm_48h   \n",
       "\n",
       "                                   Dev_Stage  batch  \n",
       "Pla_HDBR13007974_AAACCCAAGCGTTGTT      12pcw      0  \n",
       "Pla_HDBR13007974_AAACCCAAGTAGTCAA       CS22      0  \n",
       "Pla_HDBR13007974_AAACCCACAATGAACA      12pcw      0  \n",
       "Pla_HDBR13007974_AAACCCACAGAGAGGG      12pcw      0  \n",
       "Pla_HDBR13007974_AAACCCACAGTAGAAT       CS22      0  \n",
       "...                                      ...    ...  \n",
       "Pla_HDBR13661576_TTTGTTGAGAGTACCG      14pcw      1  \n",
       "Pla_HDBR13661576_TTTGTTGAGCATATGA      14pcw      1  \n",
       "Pla_HDBR13661576_TTTGTTGCATCCCGTT      14pcw      1  \n",
       "Pla_HDBR13661576_TTTGTTGTCAGCTGAT      14pcw      1  \n",
       "Pla_HDBR13661576_TTTGTTGTCTGGTTGA      14pcw      1  \n",
       "\n",
       "[158978 rows x 44 columns]"
      ]
     },
     "execution_count": 15,
     "metadata": {},
     "output_type": "execute_result"
    }
   ],
   "source": [
    "adata.obs"
   ]
  },
  {
   "cell_type": "code",
   "execution_count": null,
   "id": "middle-blocking",
   "metadata": {},
   "outputs": [],
   "source": []
  },
  {
   "cell_type": "code",
   "execution_count": 16,
   "id": "hearing-there",
   "metadata": {},
   "outputs": [
    {
     "name": "stdout",
     "output_type": "stream",
     "text": [
      "\u001b[34mINFO    \u001b[0m Using batches from adata.obs\u001b[1m[\u001b[0m\u001b[32m\"donor_id\"\u001b[0m\u001b[1m]\u001b[0m                                            \n"
     ]
    },
    {
     "name": "stderr",
     "output_type": "stream",
     "text": [
      "Using batches from adata.obs[\"donor_id\"]\n"
     ]
    },
    {
     "name": "stdout",
     "output_type": "stream",
     "text": [
      "\u001b[34mINFO    \u001b[0m No label_key inputted, assuming all cells have same label                           \n"
     ]
    },
    {
     "name": "stderr",
     "output_type": "stream",
     "text": [
      "No label_key inputted, assuming all cells have same label\n"
     ]
    },
    {
     "name": "stdout",
     "output_type": "stream",
     "text": [
      "\u001b[34mINFO    \u001b[0m Using data from adata.layers\u001b[1m[\u001b[0m\u001b[32m\"raw_counts\"\u001b[0m\u001b[1m]\u001b[0m                                          \n"
     ]
    },
    {
     "name": "stderr",
     "output_type": "stream",
     "text": [
      "Using data from adata.layers[\"raw_counts\"]\n"
     ]
    },
    {
     "name": "stdout",
     "output_type": "stream",
     "text": [
      "\u001b[34mINFO    \u001b[0m Computing library size prior per batch                                              \n"
     ]
    },
    {
     "name": "stderr",
     "output_type": "stream",
     "text": [
      "Computing library size prior per batch\n"
     ]
    },
    {
     "name": "stdout",
     "output_type": "stream",
     "text": [
      "\u001b[34mINFO    \u001b[0m Successfully registered anndata object containing \u001b[1;36m158978\u001b[0m cells, \u001b[1;36m36601\u001b[0m vars, \u001b[1;36m10\u001b[0m      \n",
      "         batches, \u001b[1;36m1\u001b[0m labels, and \u001b[1;36m0\u001b[0m proteins. Also registered \u001b[1;36m1\u001b[0m extra categorical covariates   \n",
      "         and \u001b[1;36m0\u001b[0m extra continuous covariates.                                                  \n"
     ]
    },
    {
     "name": "stderr",
     "output_type": "stream",
     "text": [
      "Successfully registered anndata object containing 158978 cells, 36601 vars, 10 batches, 1 labels, and 0 proteins. Also registered 1 extra categorical covariates and 0 extra continuous covariates.\n"
     ]
    },
    {
     "name": "stdout",
     "output_type": "stream",
     "text": [
      "\u001b[34mINFO    \u001b[0m Please do not further modify adata until model is trained.                          \n"
     ]
    },
    {
     "name": "stderr",
     "output_type": "stream",
     "text": [
      "Please do not further modify adata until model is trained.\n"
     ]
    }
   ],
   "source": [
    "scvi.data.setup_anndata(\n",
    "    adata,\n",
    "    layer=\"raw_counts\",\n",
    "    batch_key='donor_id', #samples as a batch\n",
    "    #donor as a covariate of the cells\n",
    "    categorical_covariate_keys=[\"sample\"] \n",
    "    #categorical_covariate_keys=['donor_souporcell',], #\n",
    "    #continuous_covariate_keys=[\"\"]\n",
    ")"
   ]
  },
  {
   "cell_type": "code",
   "execution_count": 17,
   "id": "computational-pakistan",
   "metadata": {},
   "outputs": [],
   "source": [
    "#---- check #layers"
   ]
  },
  {
   "cell_type": "code",
   "execution_count": 18,
   "id": "exposed-laugh",
   "metadata": {},
   "outputs": [
    {
     "name": "stdout",
     "output_type": "stream",
     "text": [
      "n_latent_value 20\n",
      "n_latent_value 30\n"
     ]
    }
   ],
   "source": [
    "models = {}\n",
    "\n",
    "# let's try a few values\n",
    "n_latent_values = [20, 30]\n",
    "\n",
    "for n_latent_value in n_latent_values:\n",
    "    print('n_latent_value', n_latent_value)\n",
    "    models[n_latent_value] = scvi.model.SCVI(adata, n_latent = n_latent_value)"
   ]
  },
  {
   "cell_type": "code",
   "execution_count": 19,
   "id": "exceptional-coordinate",
   "metadata": {},
   "outputs": [
    {
     "data": {
      "text/html": [
       "<pre style=\"white-space:pre;overflow-x:auto;line-height:normal;font-family:Menlo,'DejaVu Sans Mono',consolas,'Courier New',monospace\">SCVI Model with the following params: \n",
       "n_hidden: <span style=\"color: #008080; text-decoration-color: #008080; font-weight: bold\">128</span>, n_latent: <span style=\"color: #008080; text-decoration-color: #008080; font-weight: bold\">20</span>, n_layers: <span style=\"color: #008080; text-decoration-color: #008080; font-weight: bold\">1</span>, dropout_rate: <span style=\"color: #008080; text-decoration-color: #008080; font-weight: bold\">0.1</span>, dispersion: gene, \n",
       "gene_likelihood: zinb, latent_distribution: normal\n",
       "Training status: Not Trained\n",
       "</pre>\n"
      ],
      "text/plain": [
       "SCVI Model with the following params: \n",
       "n_hidden: \u001b[1;36m128\u001b[0m, n_latent: \u001b[1;36m20\u001b[0m, n_layers: \u001b[1;36m1\u001b[0m, dropout_rate: \u001b[1;36m0.1\u001b[0m, dispersion: gene, \n",
       "gene_likelihood: zinb, latent_distribution: normal\n",
       "Training status: Not Trained\n"
      ]
     },
     "metadata": {},
     "output_type": "display_data"
    },
    {
     "data": {
      "text/html": [
       "<pre style=\"white-space:pre;overflow-x:auto;line-height:normal;font-family:Menlo,'DejaVu Sans Mono',consolas,'Courier New',monospace\">\n",
       "\n",
       "To print summary of associated AnnData, use: <span style=\"color: #af00d7; text-decoration-color: #af00d7\">scvi.data.view_anndata_setup(model.adata)</span>\n",
       "</pre>\n"
      ],
      "text/plain": [
       "\n",
       "\n",
       "To print summary of associated AnnData, use: \u001b[38;5;128mscvi.data.view_anndata_setup(model.adata)\u001b[0m\n"
      ]
     },
     "metadata": {},
     "output_type": "display_data"
    },
    {
     "data": {
      "text/plain": []
     },
     "execution_count": 19,
     "metadata": {},
     "output_type": "execute_result"
    }
   ],
   "source": [
    "models[20]"
   ]
  },
  {
   "cell_type": "code",
   "execution_count": 20,
   "id": "voluntary-truth",
   "metadata": {},
   "outputs": [
    {
     "name": "stderr",
     "output_type": "stream",
     "text": [
      "GPU available: True, used: True\n",
      "TPU available: False, using: 0 TPU cores\n",
      "LOCAL_RANK: 0 - CUDA_VISIBLE_DEVICES: [0]\n"
     ]
    },
    {
     "name": "stdout",
     "output_type": "stream",
     "text": [
      "training model for n_latent_value: 20\n",
      "Epoch 50/50: 100%|███████████████████████████████████████████| 50/50 [25:40<00:00, 30.81s/it, loss=1.27e+04, v_num=1]\n"
     ]
    },
    {
     "name": "stderr",
     "output_type": "stream",
     "text": [
      "GPU available: True, used: True\n",
      "TPU available: False, using: 0 TPU cores\n",
      "LOCAL_RANK: 0 - CUDA_VISIBLE_DEVICES: [0]\n"
     ]
    },
    {
     "name": "stdout",
     "output_type": "stream",
     "text": [
      "training model for n_latent_value: 30\n",
      "Epoch 50/50: 100%|███████████████████████████████████████████| 50/50 [25:28<00:00, 30.56s/it, loss=1.27e+04, v_num=1]\n"
     ]
    }
   ],
   "source": [
    "latent_representations = {}\n",
    "\n",
    "for n_latent_value in n_latent_values:\n",
    "    print('training model for n_latent_value:', n_latent_value)\n",
    "    models[n_latent_value].train()\n",
    "    \n",
    "    latent_representations[n_latent_value] = models[n_latent_value].get_latent_representation()\n",
    "    \n",
    "    adata.obsm[\"X_scVI_n_latent_\" + str(n_latent_value)] = latent_representations[n_latent_value]\n",
    "    \n",
    "    curr_df = pd.DataFrame(adata.obsm[\"X_scVI_n_latent_\" + str(n_latent_value)])\n",
    "    curr_df.to_csv('../results/20230707_obsm_with_scVI_latent_representation_n_' + str(n_latent_value) + '_allSamplesAllTimePoints.csv')"
   ]
  },
  {
   "cell_type": "code",
   "execution_count": null,
   "id": "otherwise-marking",
   "metadata": {},
   "outputs": [],
   "source": []
  },
  {
   "cell_type": "code",
   "execution_count": 21,
   "id": "mobile-romance",
   "metadata": {},
   "outputs": [],
   "source": [
    "adata.X= adata.layers[\"raw_counts\"].copy()"
   ]
  },
  {
   "cell_type": "code",
   "execution_count": 22,
   "id": "featured-windsor",
   "metadata": {},
   "outputs": [
    {
     "name": "stderr",
     "output_type": "stream",
     "text": [
      "... storing 'sample' as categorical\n",
      "... storing 'stage' as categorical\n",
      "... storing 'hpi' as categorical\n",
      "... storing 'assignment_SoC' as categorical\n",
      "... storing 'donor_id' as categorical\n",
      "... storing 'celltype_predictions' as categorical\n",
      "... storing 'cell_type' as categorical\n",
      "... storing 'souporcell_MFgenotype' as categorical\n",
      "... storing 'stage_perInfection' as categorical\n",
      "... storing 'celltype-Stage' as categorical\n",
      "... storing 'celltype-Intracellular' as categorical\n",
      "... storing 'Dev_Stage' as categorical\n"
     ]
    }
   ],
   "source": [
    "adata.write('../results/rna_scVIintegrated_AllData.h5ad')"
   ]
  },
  {
   "cell_type": "code",
   "execution_count": 23,
   "id": "compound-copper",
   "metadata": {
    "scrolled": true
   },
   "outputs": [
    {
     "data": {
      "text/plain": [
       "Gene Expression    36601\n",
       "Name: feature_types, dtype: int64"
      ]
     },
     "execution_count": 23,
     "metadata": {},
     "output_type": "execute_result"
    }
   ],
   "source": [
    "adata.var[\"feature_types\"].value_counts()\n"
   ]
  },
  {
   "cell_type": "code",
   "execution_count": 24,
   "id": "flexible-sentence",
   "metadata": {},
   "outputs": [
    {
     "data": {
      "text/plain": [
       "AnnData object with n_obs × n_vars = 158978 × 36601\n",
       "    obs: 'sample', 'stage', 'hpi', 'infection', 'percent_mito', 'n_counts', 'sample_barcode', 'assignment_SoC', 'donor_id', 'scrublet_score', 'scrublet_cluster_score', 'zscore', 'bh_pval', 'bonf_pval', 'S_score', 'G2M_score', 'phase', 'n_genes_by_counts', 'total_counts', 'total_counts_hs', 'pct_counts_hs', 'total_counts_tg', 'pct_counts_tg', 'Tg_infected', 'n_genes', '_scvi_batch', '_scvi_labels', '_scvi_local_l_mean', '_scvi_local_l_var', 'leiden_scvi', 'celltype_predictions', 'probabilities', 'scrublet_doublet', 'cell_type', 'souporcell_MFgenotype', 'MFgenotype', 'cell_type_broad', 'umap_density_Tg_infected', 'stage_perInfection', 'celltype-Stage', 'Tg_intracellular', 'celltype-Intracellular', 'Dev_Stage', 'batch'\n",
       "    var: 'gene_ids', 'feature_types', 'mean-0-0', 'std-0-0', 'mean-1-0', 'std-1-0', 'mean-2-0', 'std-2-0', 'highly_variable-0', 'highly_variable_rank-0', 'means-0', 'variances-0', 'variances_norm-0', 'mean-0-1', 'std-0-1', 'mean-1-1', 'std-1-1', 'mean-2-1', 'std-2-1', 'highly_variable-1', 'highly_variable_rank-1', 'means-1', 'variances-1', 'variances_norm-1'\n",
       "    uns: 'log1p', '_scvi'\n",
       "    obsm: 'X_scVI_n_latent_20', 'X_scVI_n_latent_30', 'X_scVI_n_latent_40', 'X_umap', '_scvi_extra_categoricals'\n",
       "    layers: 'raw_counts'"
      ]
     },
     "execution_count": 24,
     "metadata": {},
     "output_type": "execute_result"
    }
   ],
   "source": [
    "adata"
   ]
  },
  {
   "cell_type": "code",
   "execution_count": null,
   "id": "alternative-gazette",
   "metadata": {},
   "outputs": [],
   "source": []
  },
  {
   "cell_type": "raw",
   "id": "mounted-mumbai",
   "metadata": {},
   "source": [
    "-----\n",
    "anndata     0.7.6\n",
    "scanpy      1.7.0\n",
    "sinfo       0.3.1\n",
    "-----\n",
    "PIL                 8.3.0\n",
    "absl                NA\n",
    "anndata             0.7.6\n",
    "anyio               NA\n",
    "attr                21.2.0\n",
    "babel               2.9.1\n",
    "backcall            0.2.0\n",
    "beta_ufunc          NA\n",
    "binom_ufunc         NA\n",
    "brotli              NA\n",
    "cairo               1.20.1\n",
    "certifi             2021.05.30\n",
    "cffi                1.14.4\n",
    "chardet             4.0.0\n",
    "colorama            0.4.4\n",
    "cycler              0.10.0\n",
    "cython_runtime      NA\n",
    "dateutil            2.8.1\n",
    "debugpy             1.3.0\n",
    "decorator           5.0.9\n",
    "defusedxml          0.7.1\n",
    "dunamai             1.5.5\n",
    "fsspec              2021.06.1\n",
    "get_version         3.2\n",
    "google              NA\n",
    "h5py                3.3.0\n",
    "idna                2.10\n",
    "igraph              0.8.3\n",
    "ipykernel           6.0.0\n",
    "ipython_genutils    0.2.0\n",
    "ipywidgets          7.6.3\n",
    "jedi                0.18.0\n",
    "jinja2              3.0.1\n",
    "joblib              1.0.1\n",
    "json5               NA\n",
    "jsonschema          3.2.0\n",
    "jupyter_server      1.9.0\n",
    "jupyterlab_server   2.6.0\n",
    "kiwisolver          1.3.1\n",
    "legacy_api_wrap     0.0.0\n",
    "leidenalg           0.8.3\n",
    "llvmlite            0.34.0\n",
    "louvain             0.7.0\n",
    "markupsafe          2.0.1\n",
    "matplotlib          3.4.2\n",
    "matplotlib_inline   NA\n",
    "mpl_toolkits        NA\n",
    "natsort             7.1.1\n",
    "nbclassic           NA\n",
    "nbformat            5.1.3\n",
    "nbinom_ufunc        NA\n",
    "numba               0.51.2\n",
    "numexpr             2.7.3\n",
    "numpy               1.19.5\n",
    "opt_einsum          v3.3.0\n",
    "packaging           20.9\n",
    "pandas              1.2.4\n",
    "parso               0.8.2\n",
    "pexpect             4.8.0\n",
    "pickleshare         0.7.5\n",
    "pkg_resources       NA\n",
    "prometheus_client   NA\n",
    "prompt_toolkit      3.0.19\n",
    "ptyprocess          0.7.0\n",
    "pvectorc            NA\n",
    "pycparser           2.20\n",
    "pygments            2.9.0\n",
    "pyparsing           2.4.7\n",
    "pyro                1.5.2\n",
    "pyrsistent          NA\n",
    "pytorch_lightning   1.2.10\n",
    "pytz                2021.1\n",
    "requests            2.25.1\n",
    "rich                NA\n",
    "scanpy              1.7.0\n",
    "scipy               1.7.0\n",
    "scvi                0.10.1\n",
    "send2trash          NA\n",
    "setuptools_scm      NA\n",
    "sinfo               0.3.1\n",
    "six                 1.16.0\n",
    "sklearn             0.24.2\n",
    "sniffio             1.2.0\n",
    "socks               1.7.1\n",
    "sphinxcontrib       NA\n",
    "storemagic          NA\n",
    "tables              3.6.1\n",
    "tensorboard         2.5.0\n",
    "terminado           0.10.1\n",
    "texttable           1.6.3\n",
    "threadpoolctl       2.1.0\n",
    "torch               1.8.1+cu102\n",
    "torchmetrics        0.4.0\n",
    "tornado             6.1\n",
    "tqdm                4.61.1\n",
    "traitlets           5.0.5\n",
    "typing_extensions   NA\n",
    "urllib3             1.26.6\n",
    "wcwidth             0.2.5\n",
    "websocket           0.57.0\n",
    "yaml                5.4.1\n",
    "zmq                 22.1.0\n",
    "-----\n",
    "IPython             7.25.0\n",
    "jupyter_client      6.1.12\n",
    "jupyter_core        4.7.1\n",
    "jupyterlab          3.0.16\n",
    "notebook            6.4.0\n",
    "-----\n",
    "Python 3.8.0 | packaged by conda-forge | (default, Nov 22 2019, 19:11:38) [GCC 7.3.0]\n",
    "Linux-4.15.0-219-generic-x86_64-with-glibc2.10\n",
    "64 logical CPU cores, x86_64\n",
    "-----\n",
    "Session information updated at 2023-11-29 00:39"
   ]
  },
  {
   "cell_type": "code",
   "execution_count": null,
   "id": "rental-research",
   "metadata": {},
   "outputs": [],
   "source": []
  }
 ],
 "metadata": {
  "kernelspec": {
   "display_name": "Python 3",
   "language": "python",
   "name": "python3"
  },
  "language_info": {
   "codemirror_mode": {
    "name": "ipython",
    "version": 3
   },
   "file_extension": ".py",
   "mimetype": "text/x-python",
   "name": "python",
   "nbconvert_exporter": "python",
   "pygments_lexer": "ipython3",
   "version": "3.8.8"
  }
 },
 "nbformat": 4,
 "nbformat_minor": 5
}
