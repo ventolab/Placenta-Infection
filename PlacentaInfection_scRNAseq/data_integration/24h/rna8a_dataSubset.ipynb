{
 "cells": [
  {
   "cell_type": "markdown",
   "id": "effective-perfume",
   "metadata": {},
   "source": [
    "**Author:** Elias Rafael Ruiz-Morales\n",
    "\n",
    "**Institution:** Wellcome Sanger institute\n",
    "\n",
    "**September, 2023**\n",
    "\n"
   ]
  },
  {
   "cell_type": "markdown",
   "id": "crucial-construction",
   "metadata": {},
   "source": [
    "---"
   ]
  },
  {
   "cell_type": "markdown",
   "id": "robust-teddy",
   "metadata": {},
   "source": [
    "# Subset of data per infection\n",
    "\n",
    "Subsets will be necessary for plots and cellphoneDB v4 "
   ]
  },
  {
   "cell_type": "code",
   "execution_count": 1,
   "id": "close-carnival",
   "metadata": {},
   "outputs": [],
   "source": [
    "import numpy as np\n",
    "import pandas as pd\n",
    "import scanpy as sc\n",
    "import os\n",
    "import sys\n",
    "import anndata\n",
    "\n",
    "import seaborn as sns \n",
    "\n",
    "import matplotlib.pyplot as plt\n",
    "import matplotlib as mpl\n",
    "import gc"
   ]
  },
  {
   "cell_type": "code",
   "execution_count": 2,
   "id": "ordered-relaxation",
   "metadata": {
    "tags": []
   },
   "outputs": [
    {
     "name": "stderr",
     "output_type": "stream",
     "text": [
      "WARNING: If you miss a compact list, please try `print_header`!\n"
     ]
    },
    {
     "name": "stdout",
     "output_type": "stream",
     "text": [
      "-----\n",
      "anndata     0.7.5\n",
      "scanpy      1.7.1\n",
      "sinfo       0.3.1\n",
      "-----\n",
      "PIL                 8.1.2\n",
      "anndata             0.7.5\n",
      "anyio               NA\n",
      "attr                20.3.0\n",
      "babel               2.9.0\n",
      "backcall            0.2.0\n",
      "brotli              NA\n",
      "cairo               1.20.0\n",
      "certifi             2020.12.05\n",
      "cffi                1.14.5\n",
      "chardet             4.0.0\n",
      "cloudpickle         1.6.0\n",
      "colorama            0.4.4\n",
      "cycler              0.10.0\n",
      "cython_runtime      NA\n",
      "cytoolz             0.11.0\n",
      "dask                2021.03.1\n",
      "dateutil            2.8.1\n",
      "decorator           4.4.2\n",
      "fsspec              0.8.7\n",
      "get_version         2.1\n",
      "google              NA\n",
      "h5py                3.1.0\n",
      "idna                2.10\n",
      "igraph              0.8.3\n",
      "ipykernel           5.5.0\n",
      "ipython_genutils    0.2.0\n",
      "ipywidgets          7.6.3\n",
      "jedi                0.18.0\n",
      "jinja2              2.11.3\n",
      "joblib              1.0.1\n",
      "json5               NA\n",
      "jsonschema          3.2.0\n",
      "jupyter_server      1.4.1\n",
      "jupyterlab_server   2.3.0\n",
      "kiwisolver          1.3.1\n",
      "legacy_api_wrap     0.0.0\n",
      "leidenalg           0.8.3\n",
      "llvmlite            0.34.0\n",
      "louvain             0.7.0\n",
      "markupsafe          1.1.1\n",
      "matplotlib          3.3.4\n",
      "mpl_toolkits        NA\n",
      "natsort             7.1.1\n",
      "nbclassic           NA\n",
      "nbformat            5.1.2\n",
      "numba               0.51.2\n",
      "numexpr             2.7.3\n",
      "numpy               1.20.1\n",
      "packaging           20.9\n",
      "pandas              1.2.3\n",
      "parso               0.8.1\n",
      "pexpect             4.8.0\n",
      "pickleshare         0.7.5\n",
      "pkg_resources       NA\n",
      "prometheus_client   NA\n",
      "prompt_toolkit      3.0.16\n",
      "psutil              5.8.0\n",
      "ptyprocess          0.7.0\n",
      "pvectorc            NA\n",
      "pyarrow             0.16.0\n",
      "pygments            2.8.0\n",
      "pyparsing           2.4.7\n",
      "pyrsistent          NA\n",
      "pytoml              NA\n",
      "pytz                2021.1\n",
      "requests            2.25.1\n",
      "ruamel              NA\n",
      "scanpy              1.7.1\n",
      "scipy               1.6.1\n",
      "seaborn             0.11.1\n",
      "send2trash          NA\n",
      "setuptools_scm      NA\n",
      "sinfo               0.3.1\n",
      "six                 1.15.0\n",
      "sklearn             0.24.1\n",
      "sniffio             1.2.0\n",
      "socks               1.7.1\n",
      "sphinxcontrib       NA\n",
      "statsmodels         0.12.2\n",
      "storemagic          NA\n",
      "tables              3.6.1\n",
      "tblib               1.7.0\n",
      "texttable           1.6.3\n",
      "tlz                 0.11.0\n",
      "toolz               0.11.1\n",
      "tornado             6.1\n",
      "traitlets           5.0.5\n",
      "typing_extensions   NA\n",
      "urllib3             1.26.3\n",
      "wcwidth             0.2.5\n",
      "yaml                5.3.1\n",
      "zmq                 22.0.3\n",
      "-----\n",
      "IPython             7.21.0\n",
      "jupyter_client      6.1.11\n",
      "jupyter_core        4.7.1\n",
      "jupyterlab          3.0.9\n",
      "notebook            6.2.0\n",
      "-----\n",
      "Python 3.8.8 | packaged by conda-forge | (default, Feb 20 2021, 16:22:27) [GCC 9.3.0]\n",
      "Linux-4.15.0-213-generic-x86_64-with-glibc2.10\n",
      "26 logical CPU cores, x86_64\n",
      "-----\n",
      "Session information updated at 2023-11-21 08:56\n",
      "\n"
     ]
    },
    {
     "data": {
      "text/plain": [
       "'/opt/conda/bin/python'"
      ]
     },
     "execution_count": 2,
     "metadata": {},
     "output_type": "execute_result"
    }
   ],
   "source": [
    "def MovePlots(plotpattern, subplotdir):\n",
    "    os.system('mkdir -p '+str(sc.settings.figdir)+'/'+subplotdir)\n",
    "    os.system('mv '+str(sc.settings.figdir)+'/*'+plotpattern+'** '+str(sc.settings.figdir)+'/'+subplotdir)\n",
    "\n",
    "sc.settings.verbosity = 3  # verbosity: errors (0), warnings (1), info (2), hints (3)\n",
    "sc.logging.print_versions()\n",
    "sc.settings.set_figure_params(dpi=80)  # low dpi (dots per inch) yields small inline figures\n",
    "\n",
    "sys.executable"
   ]
  },
  {
   "cell_type": "markdown",
   "id": "destroyed-royal",
   "metadata": {},
   "source": [
    "### Note \n",
    "To run this chunk you need:\n",
    "\n",
    "*rpy2==3.4.2  ///  anndata2ri==1.0.6*"
   ]
  },
  {
   "cell_type": "code",
   "execution_count": 6,
   "id": "yellow-affair",
   "metadata": {},
   "outputs": [
    {
     "name": "stdout",
     "output_type": "stream",
     "text": [
      "The rpy2.ipython extension is already loaded. To reload it, use:\n",
      "  %reload_ext rpy2.ipython\n"
     ]
    }
   ],
   "source": [
    "import rpy2.robjects as ro\n",
    "import rpy2.robjects.numpy2ri\n",
    "\n",
    "import rpy2.rinterface_lib.callbacks\n",
    "import logging\n",
    "# Itoliste R warning messages\n",
    "#Note: this can be commented out to get more verbose R output\n",
    "rpy2.rinterface_lib.callbacks.logger.setLevel(logging.ERROR)\n",
    "import anndata2ri\n",
    "anndata2ri.activate()\n",
    "%load_ext rpy2.ipython"
   ]
  },
  {
   "cell_type": "markdown",
   "id": "intermediate-highway",
   "metadata": {},
   "source": [
    "## Loading data"
   ]
  },
  {
   "cell_type": "code",
   "execution_count": 3,
   "id": "solved-madison",
   "metadata": {},
   "outputs": [],
   "source": [
    "adata= sc.read('../results/scVI/rna8_scVIintegrated_latent30_All_20230707.h5ad')\n"
   ]
  },
  {
   "cell_type": "code",
   "execution_count": 4,
   "id": "boolean-henry",
   "metadata": {},
   "outputs": [
    {
     "data": {
      "text/plain": [
       "AnnData object with n_obs × n_vars = 113028 × 36601\n",
       "    obs: 'sample', 'stage', 'hpi', 'infection', 'percent_mito', 'n_counts', 'sample_barcode', 'assignment_SoC', 'donor_id', 'scrublet_score', 'scrublet_cluster_score', 'zscore', 'bh_pval', 'bonf_pval', 'S_score', 'G2M_score', 'phase', 'n_genes_by_counts', 'total_counts', 'total_counts_hs', 'pct_counts_hs', 'total_counts_tg', 'pct_counts_tg', 'Tg_infected', 'n_genes', '_scvi_batch', '_scvi_labels', '_scvi_local_l_mean', '_scvi_local_l_var', 'leiden_scvi', 'celltype_predictions', 'probabilities', 'scrublet_doublet', 'cell_type_2022', 'cell_type', 'souporcell_MFgenotype', 'MFgenotype', 'cell_type_broad', 'umap_density_Tg_infected', 'stage_perInfection', 'celltype-Stage', 'Tg_intracellular', 'celltype-Intracellular', 'Dev_Stage'\n",
       "    var: 'gene_ids', 'feature_types', 'mean-0', 'std-0', 'mean-1', 'std-1', 'mean-2', 'std-2', 'highly_variable', 'highly_variable_rank', 'means', 'variances', 'variances_norm'\n",
       "    uns: 'Dev_Stage_colors', 'MFgenotype_colors', '_scvi', 'cell_type_2022_colors', 'cell_type_broad_colors', 'cell_type_colors', 'celltype_predictions_colors', 'donor_id_colors', 'hpi_colors', 'hvg', 'infection_colors', 'leiden', 'neighbors', 'sample_colors', 'scrublet_doublet_colors', 'umap', 'umap_density_Tg_infected_params'\n",
       "    obsm: 'X_scVI_n_latent_20', 'X_scVI_n_latent_30', 'X_scVI_n_latent_40', 'X_umap', '_scvi_extra_categoricals'\n",
       "    layers: 'raw_counts'\n",
       "    obsp: 'connectivities', 'distances'"
      ]
     },
     "execution_count": 4,
     "metadata": {},
     "output_type": "execute_result"
    }
   ],
   "source": [
    "adata"
   ]
  },
  {
   "cell_type": "markdown",
   "id": "operational-tribune",
   "metadata": {},
   "source": [
    "### Setting up color palette for future plots"
   ]
  },
  {
   "cell_type": "code",
   "execution_count": 5,
   "id": "answering-vampire",
   "metadata": {},
   "outputs": [],
   "source": [
    "sc.set_figure_params(figsize=(5,5))"
   ]
  },
  {
   "cell_type": "code",
   "execution_count": 6,
   "id": "commercial-solomon",
   "metadata": {},
   "outputs": [
    {
     "data": {
      "image/png": "[encoded data removed]",
      "text/plain": [
       "<Figure size 400x400 with 1 Axes>"
      ]
     },
     "metadata": {},
     "output_type": "display_data"
    }
   ],
   "source": [
    "sc.pl.umap(adata, color=['cell_type'], size=5,\n",
    "            title='', legend_loc='on data',legend_fontsize='x-small')"
   ]
  },
  {
   "cell_type": "code",
   "execution_count": null,
   "id": "public-mobile",
   "metadata": {},
   "outputs": [],
   "source": []
  },
  {
   "cell_type": "code",
   "execution_count": null,
   "id": "destroyed-potential",
   "metadata": {},
   "outputs": [],
   "source": []
  },
  {
   "cell_type": "markdown",
   "id": "czech-surgeon",
   "metadata": {},
   "source": [
    "# Preparing subset objects for downstream analysis"
   ]
  },
  {
   "cell_type": "markdown",
   "id": "further-forge",
   "metadata": {},
   "source": [
    "## Subset Listeria infection assay only"
   ]
  },
  {
   "cell_type": "code",
   "execution_count": 10,
   "id": "obvious-hindu",
   "metadata": {},
   "outputs": [
    {
     "name": "stderr",
     "output_type": "stream",
     "text": [
      "/opt/conda/lib/python3.8/site-packages/pandas/core/arrays/categorical.py:2487: FutureWarning: The `inplace` parameter in pandas.Categorical.remove_unused_categories is deprecated and will be removed in a future version.\n",
      "  res = method(*args, **kwargs)\n"
     ]
    }
   ],
   "source": [
    "#taking alldonors first for DEGs\n",
    "adata_subset= adata[[ i in ['Pla_HDBR12330712', 'Pla_HDBR12330713',# 'Pla_HDBR12330714','Pla_HDBR12330715',\n",
    " 'Pla_HDBR13661571', 'Pla_HDBR13661572'] #'Pla_HDBR13661575', 'Pla_HDBR13661576'\n",
    "  for i in adata.obs['sample']  ]]"
   ]
  },
  {
   "cell_type": "code",
   "execution_count": 11,
   "id": "thorough-clone",
   "metadata": {},
   "outputs": [
    {
     "data": {
      "text/plain": [
       "Pla_HDBR12330712_AAACCCAAGTCGTTAC    24h\n",
       "Pla_HDBR12330712_AAACCCACAACCGTAT    24h\n",
       "Pla_HDBR12330712_AAACCCAGTATGCTTG    24h\n",
       "Pla_HDBR12330712_AAACCCAGTCGCAACC    24h\n",
       "Pla_HDBR12330712_AAACCCAGTGAACGGT    24h\n",
       "                                    ... \n",
       "Pla_HDBR13661572_TTTGTTGAGGTTCATC    24h\n",
       "Pla_HDBR13661572_TTTGTTGCAAATTAGG    24h\n",
       "Pla_HDBR13661572_TTTGTTGCAATAGGGC    24h\n",
       "Pla_HDBR13661572_TTTGTTGGTGCTTATG    24h\n",
       "Pla_HDBR13661572_TTTGTTGGTGGTAACG    24h\n",
       "Name: hpi, Length: 30835, dtype: category\n",
       "Categories (1, object): ['24h']"
      ]
     },
     "execution_count": 11,
     "metadata": {},
     "output_type": "execute_result"
    }
   ],
   "source": [
    "adata_subset.obs.hpi"
   ]
  },
  {
   "cell_type": "markdown",
   "id": "horizontal-shoulder",
   "metadata": {},
   "source": [
    "#### Subset 24h"
   ]
  },
  {
   "cell_type": "code",
   "execution_count": 8,
   "id": "atomic-richards",
   "metadata": {},
   "outputs": [],
   "source": [
    "adata_d1 =adata_subset[[ i in ['24h'] for i in adata_subset.obs.hpi ]]\n",
    "adata_d1.write ('../results/scVI/listeria_singleCell_24h.h5ad')"
   ]
  },
  {
   "cell_type": "code",
   "execution_count": 9,
   "id": "yellow-thread",
   "metadata": {
    "tags": []
   },
   "outputs": [
    {
     "data": {
      "text/html": [
       "<div>\n",
       "<style scoped>\n",
       "    .dataframe tbody tr th:only-of-type {\n",
       "        vertical-align: middle;\n",
       "    }\n",
       "\n",
       "    .dataframe tbody tr th {\n",
       "        vertical-align: top;\n",
       "    }\n",
       "\n",
       "    .dataframe thead th {\n",
       "        text-align: right;\n",
       "    }\n",
       "</style>\n",
       "<table border=\"1\" class=\"dataframe\">\n",
       "  <thead>\n",
       "    <tr style=\"text-align: right;\">\n",
       "      <th></th>\n",
       "      <th>counts</th>\n",
       "      <th>freqs</th>\n",
       "    </tr>\n",
       "    <tr>\n",
       "      <th>categories</th>\n",
       "      <th></th>\n",
       "      <th></th>\n",
       "    </tr>\n",
       "  </thead>\n",
       "  <tbody>\n",
       "    <tr>\n",
       "      <th>Lm_24h</th>\n",
       "      <td>17778</td>\n",
       "      <td>0.576553</td>\n",
       "    </tr>\n",
       "    <tr>\n",
       "      <th>UI_Lm_24h</th>\n",
       "      <td>13057</td>\n",
       "      <td>0.423447</td>\n",
       "    </tr>\n",
       "  </tbody>\n",
       "</table>\n",
       "</div>"
      ],
      "text/plain": [
       "            counts     freqs\n",
       "categories                  \n",
       "Lm_24h       17778  0.576553\n",
       "UI_Lm_24h    13057  0.423447"
      ]
     },
     "execution_count": 9,
     "metadata": {},
     "output_type": "execute_result"
    }
   ],
   "source": [
    "adata_d1.obs['stage_perInfection'].values.describe()"
   ]
  },
  {
   "cell_type": "code",
   "execution_count": 10,
   "id": "impaired-marks",
   "metadata": {},
   "outputs": [
    {
     "data": {
      "text/html": [
       "<div>\n",
       "<style scoped>\n",
       "    .dataframe tbody tr th:only-of-type {\n",
       "        vertical-align: middle;\n",
       "    }\n",
       "\n",
       "    .dataframe tbody tr th {\n",
       "        vertical-align: top;\n",
       "    }\n",
       "\n",
       "    .dataframe thead th {\n",
       "        text-align: right;\n",
       "    }\n",
       "</style>\n",
       "<table border=\"1\" class=\"dataframe\">\n",
       "  <thead>\n",
       "    <tr style=\"text-align: right;\">\n",
       "      <th></th>\n",
       "      <th>counts</th>\n",
       "      <th>freqs</th>\n",
       "    </tr>\n",
       "    <tr>\n",
       "      <th>categories</th>\n",
       "      <th></th>\n",
       "      <th></th>\n",
       "    </tr>\n",
       "  </thead>\n",
       "  <tbody>\n",
       "    <tr>\n",
       "      <th>Hrv135</th>\n",
       "      <td>7325</td>\n",
       "      <td>0.237555</td>\n",
       "    </tr>\n",
       "    <tr>\n",
       "      <th>Hrv136</th>\n",
       "      <td>6047</td>\n",
       "      <td>0.196108</td>\n",
       "    </tr>\n",
       "    <tr>\n",
       "      <th>Hrv236</th>\n",
       "      <td>17463</td>\n",
       "      <td>0.566337</td>\n",
       "    </tr>\n",
       "  </tbody>\n",
       "</table>\n",
       "</div>"
      ],
      "text/plain": [
       "            counts     freqs\n",
       "categories                  \n",
       "Hrv135        7325  0.237555\n",
       "Hrv136        6047  0.196108\n",
       "Hrv236       17463  0.566337"
      ]
     },
     "execution_count": 10,
     "metadata": {},
     "output_type": "execute_result"
    }
   ],
   "source": [
    "adata_d1.obs['donor_id'].values.describe()"
   ]
  },
  {
   "cell_type": "code",
   "execution_count": 12,
   "id": "developmental-party",
   "metadata": {},
   "outputs": [],
   "source": [
    "adata_d1 =adata_subset[[ i in ['24h'] for i in adata_subset.obs.hpi ]]\n"
   ]
  },
  {
   "cell_type": "code",
   "execution_count": 13,
   "id": "dominant-middle",
   "metadata": {},
   "outputs": [
    {
     "name": "stderr",
     "output_type": "stream",
     "text": [
      "Trying to set attribute `.obs` of view, copying.\n"
     ]
    }
   ],
   "source": [
    "#code to remove un-needed columns in obs. Helps to speed up the operability with R\n",
    "idx = ['sample', 'hpi', 'stage', '_scvi_labels', 'Tg_infected', 'leiden_scvi', 'souporcell_MFgenotype', 'MFgenotype', 'cell_type_broad','scrublet_score', 'scrublet_cluster_score', 'zscore', \n",
    "       'bh_pval', 'bonf_pval',  'percent_mito', 'n_counts', 'sample_barcode', 'assignment_SoC',\n",
    "     'celltype_predictions', 'probabilities', 'scrublet_doublet', 'S_score', 'G2M_score', 'phase', 'n_genes', '_scvi_batch',\n",
    "       '_scvi_local_l_mean', '_scvi_local_l_var',  'n_genes_by_counts', 'total_counts', 'total_counts_hs', 'pct_counts_hs', \n",
    "       'total_counts_tg', 'pct_counts_tg', 'Tg_intracellular', 'cell_type_2022']\n",
    "for i in idx:\n",
    "    try:\n",
    "        del adata_d1.obs[i]\n",
    "    except:\n",
    "        continue\n",
    "    \n",
    "adata_d1.obs['infection'] = adata_d1.obs['infection'].astype(str)\n",
    "\n",
    "del adata_d1.obsm\n",
    "del adata_d1.obsp\n",
    "del adata_d1.layers\n",
    "del adata_d1.uns"
   ]
  },
  {
   "cell_type": "code",
   "execution_count": 14,
   "id": "attended-studio",
   "metadata": {},
   "outputs": [],
   "source": [
    "adata_d1.X = adata_d1.X.toarray()"
   ]
  },
  {
   "cell_type": "code",
   "execution_count": 16,
   "id": "direct-slave",
   "metadata": {},
   "outputs": [],
   "source": [
    "%%R -i adata_d1\n",
    "\n",
    "library(Seurat)\n",
    "so = as.Seurat(adata_d1, counts = \"X\", data = \"X\")\n",
    "\n",
    "saveRDS(so, file = \"../results/scVI/listeria_singleCell_24h.rds\")"
   ]
  },
  {
   "cell_type": "code",
   "execution_count": null,
   "id": "radio-florida",
   "metadata": {},
   "outputs": [],
   "source": []
  },
  {
   "cell_type": "code",
   "execution_count": null,
   "id": "piano-banana",
   "metadata": {},
   "outputs": [],
   "source": []
  },
  {
   "cell_type": "markdown",
   "id": "cultural-tradition",
   "metadata": {},
   "source": [
    "## Subset Malaria infection assay only"
   ]
  },
  {
   "cell_type": "code",
   "execution_count": 8,
   "id": "bored-holmes",
   "metadata": {},
   "outputs": [
    {
     "name": "stderr",
     "output_type": "stream",
     "text": [
      "/opt/conda/lib/python3.8/site-packages/pandas/core/arrays/categorical.py:2487: FutureWarning: The `inplace` parameter in pandas.Categorical.remove_unused_categories is deprecated and will be removed in a future version.\n",
      "  res = method(*args, **kwargs)\n"
     ]
    }
   ],
   "source": [
    "adata_subset= adata[[ i in ['Pla_HDBR11345033', 'Pla_HDBR11345034',\n",
    "    'Pla_HDBR12966647', 'Pla_HDBR12966648',\n",
    "    'Pla_HDBR13661565', 'Pla_HDBR13661566',\n",
    "    #'Pla_HDBR13661567', 'Pla_HDBR13661568', \n",
    "    'Pla_HDBR13661569', 'Pla_HDBR13661570', 'Pla_HDBR13661573'] #, 'Pla_HDBR13661574']\n",
    "    for i in adata.obs['sample']  ]]"
   ]
  },
  {
   "cell_type": "code",
   "execution_count": 9,
   "id": "available-sheet",
   "metadata": {},
   "outputs": [
    {
     "data": {
      "text/plain": [
       "Pla_HDBR11345033_AAACCCACAATAGTGA    Hrv124\n",
       "Pla_HDBR11345033_AAACCCACAGCAAGAC    Hrv124\n",
       "Pla_HDBR11345033_AAACCCATCCTCACGT    Hrv124\n",
       "Pla_HDBR11345033_AAACCCATCGTCTAAG    Hrv124\n",
       "Pla_HDBR11345033_AAACCCATCTCATTGT    Hrv124\n",
       "                                      ...  \n",
       "Pla_HDBR13661570_TTTGTTGGTCTTGCGG    Hrv236\n",
       "Pla_HDBR13661570_TTTGTTGGTTCGGCGT    Hrv236\n",
       "Pla_HDBR13661570_TTTGTTGGTTCTGAGT    Hrv236\n",
       "Pla_HDBR13661570_TTTGTTGTCAGGAGAC    Hrv236\n",
       "Pla_HDBR13661570_TTTGTTGTCGCACGGT    Hrv236\n",
       "Name: donor_id, Length: 48775, dtype: category\n",
       "Categories (4, object): ['Hrv124', 'Hrv168', 'Hrv232', 'Hrv236']"
      ]
     },
     "execution_count": 9,
     "metadata": {},
     "output_type": "execute_result"
    }
   ],
   "source": [
    "adata_subset.obs.donor_id"
   ]
  },
  {
   "cell_type": "markdown",
   "id": "specialized-hayes",
   "metadata": {},
   "source": [
    "#### Subset 24h"
   ]
  },
  {
   "cell_type": "code",
   "execution_count": 13,
   "id": "swedish-rehabilitation",
   "metadata": {},
   "outputs": [],
   "source": [
    "adata_d1 =adata_subset[[ i in ['24h'] for i in adata_subset.obs.hpi ]]\n",
    "adata_d1.write ('../results/scVI/malaria_singleCell_24h.h5ad')"
   ]
  },
  {
   "cell_type": "code",
   "execution_count": 14,
   "id": "reflected-argument",
   "metadata": {
    "tags": []
   },
   "outputs": [
    {
     "data": {
      "text/html": [
       "<div>\n",
       "<style scoped>\n",
       "    .dataframe tbody tr th:only-of-type {\n",
       "        vertical-align: middle;\n",
       "    }\n",
       "\n",
       "    .dataframe tbody tr th {\n",
       "        vertical-align: top;\n",
       "    }\n",
       "\n",
       "    .dataframe thead th {\n",
       "        text-align: right;\n",
       "    }\n",
       "</style>\n",
       "<table border=\"1\" class=\"dataframe\">\n",
       "  <thead>\n",
       "    <tr style=\"text-align: right;\">\n",
       "      <th></th>\n",
       "      <th>counts</th>\n",
       "      <th>freqs</th>\n",
       "    </tr>\n",
       "    <tr>\n",
       "      <th>categories</th>\n",
       "      <th></th>\n",
       "      <th></th>\n",
       "    </tr>\n",
       "  </thead>\n",
       "  <tbody>\n",
       "    <tr>\n",
       "      <th>Pf_24h</th>\n",
       "      <td>27100</td>\n",
       "      <td>0.555613</td>\n",
       "    </tr>\n",
       "    <tr>\n",
       "      <th>UI_Pf_24h</th>\n",
       "      <td>21675</td>\n",
       "      <td>0.444387</td>\n",
       "    </tr>\n",
       "  </tbody>\n",
       "</table>\n",
       "</div>"
      ],
      "text/plain": [
       "            counts     freqs\n",
       "categories                  \n",
       "Pf_24h       27100  0.555613\n",
       "UI_Pf_24h    21675  0.444387"
      ]
     },
     "execution_count": 14,
     "metadata": {},
     "output_type": "execute_result"
    }
   ],
   "source": [
    "adata_d1.obs['stage_perInfection'].values.describe()"
   ]
  },
  {
   "cell_type": "code",
   "execution_count": 15,
   "id": "coastal-learning",
   "metadata": {},
   "outputs": [
    {
     "data": {
      "text/html": [
       "<div>\n",
       "<style scoped>\n",
       "    .dataframe tbody tr th:only-of-type {\n",
       "        vertical-align: middle;\n",
       "    }\n",
       "\n",
       "    .dataframe tbody tr th {\n",
       "        vertical-align: top;\n",
       "    }\n",
       "\n",
       "    .dataframe thead th {\n",
       "        text-align: right;\n",
       "    }\n",
       "</style>\n",
       "<table border=\"1\" class=\"dataframe\">\n",
       "  <thead>\n",
       "    <tr style=\"text-align: right;\">\n",
       "      <th></th>\n",
       "      <th>counts</th>\n",
       "      <th>freqs</th>\n",
       "    </tr>\n",
       "    <tr>\n",
       "      <th>categories</th>\n",
       "      <th></th>\n",
       "      <th></th>\n",
       "    </tr>\n",
       "  </thead>\n",
       "  <tbody>\n",
       "    <tr>\n",
       "      <th>Hrv124</th>\n",
       "      <td>10731</td>\n",
       "      <td>0.220010</td>\n",
       "    </tr>\n",
       "    <tr>\n",
       "      <th>Hrv168</th>\n",
       "      <td>15769</td>\n",
       "      <td>0.323301</td>\n",
       "    </tr>\n",
       "    <tr>\n",
       "      <th>Hrv232</th>\n",
       "      <td>4809</td>\n",
       "      <td>0.098596</td>\n",
       "    </tr>\n",
       "    <tr>\n",
       "      <th>Hrv236</th>\n",
       "      <td>17466</td>\n",
       "      <td>0.358093</td>\n",
       "    </tr>\n",
       "  </tbody>\n",
       "</table>\n",
       "</div>"
      ],
      "text/plain": [
       "            counts     freqs\n",
       "categories                  \n",
       "Hrv124       10731  0.220010\n",
       "Hrv168       15769  0.323301\n",
       "Hrv232        4809  0.098596\n",
       "Hrv236       17466  0.358093"
      ]
     },
     "execution_count": 15,
     "metadata": {},
     "output_type": "execute_result"
    }
   ],
   "source": [
    "adata_d1.obs['donor_id'].values.describe()"
   ]
  },
  {
   "cell_type": "code",
   "execution_count": null,
   "id": "plain-threat",
   "metadata": {},
   "outputs": [],
   "source": []
  },
  {
   "cell_type": "code",
   "execution_count": 10,
   "id": "stupid-metabolism",
   "metadata": {},
   "outputs": [],
   "source": [
    "adata_d1 =adata_subset[[ i in ['24h'] for i in adata_subset.obs.hpi ]]\n"
   ]
  },
  {
   "cell_type": "code",
   "execution_count": 12,
   "id": "plain-accreditation",
   "metadata": {},
   "outputs": [
    {
     "data": {
      "text/plain": [
       "776"
      ]
     },
     "execution_count": 12,
     "metadata": {},
     "output_type": "execute_result"
    }
   ],
   "source": [
    "del(adata_subset)\n",
    "del(adata)\n",
    "\n",
    "gc.collect()"
   ]
  },
  {
   "cell_type": "code",
   "execution_count": 13,
   "id": "unusual-limitation",
   "metadata": {},
   "outputs": [
    {
     "name": "stderr",
     "output_type": "stream",
     "text": [
      "Trying to set attribute `.obs` of view, copying.\n"
     ]
    }
   ],
   "source": [
    "#code to remove un-needed columns in obs. Helps to speed up the operability with R\n",
    "idx = ['sample', 'hpi', 'stage', '_scvi_labels', 'Tg_infected', 'leiden_scvi', 'souporcell_MFgenotype', 'MFgenotype', 'cell_type_broad','scrublet_score', 'scrublet_cluster_score', 'zscore', \n",
    "       'bh_pval', 'bonf_pval',  'percent_mito', 'n_counts', 'sample_barcode', 'assignment_SoC',\n",
    "     'celltype_predictions', 'probabilities', 'scrublet_doublet', 'S_score', 'G2M_score', 'phase', 'n_genes', '_scvi_batch',\n",
    "       '_scvi_local_l_mean', '_scvi_local_l_var',  'n_genes_by_counts', 'total_counts', 'total_counts_hs', 'pct_counts_hs', \n",
    "       'total_counts_tg', 'pct_counts_tg', 'Tg_intracellular', 'cell_type_2022']\n",
    "for i in idx:\n",
    "    try:\n",
    "        del adata_d1.obs[i]\n",
    "    except:\n",
    "        continue\n",
    "    \n",
    "adata_d1.obs['infection'] = adata_d1.obs['infection'].astype(str)\n",
    "\n",
    "del adata_d1.obsm\n",
    "del adata_d1.obsp\n",
    "del adata_d1.layers\n",
    "del adata_d1.uns"
   ]
  },
  {
   "cell_type": "code",
   "execution_count": 15,
   "id": "subtle-execution",
   "metadata": {},
   "outputs": [],
   "source": [
    "adata_d1.X = adata_d1.X.toarray()"
   ]
  },
  {
   "cell_type": "code",
   "execution_count": 17,
   "id": "apparent-hartford",
   "metadata": {},
   "outputs": [
    {
     "data": {
      "text/plain": [
       "17"
      ]
     },
     "execution_count": 17,
     "metadata": {},
     "output_type": "execute_result"
    }
   ],
   "source": [
    "gc.collect()"
   ]
  },
  {
   "cell_type": "code",
   "execution_count": 18,
   "id": "minor-serum",
   "metadata": {},
   "outputs": [],
   "source": [
    "%%R -i adata_d1\n",
    "\n",
    "library(Seurat)\n",
    "so = as.Seurat(adata_d1, counts = \"X\", data = \"X\")\n",
    "\n",
    "saveRDS(so, file = \"../results/scVI/malaria_singleCell_24h.rds\")"
   ]
  },
  {
   "cell_type": "code",
   "execution_count": null,
   "id": "reduced-batch",
   "metadata": {},
   "outputs": [],
   "source": []
  },
  {
   "cell_type": "code",
   "execution_count": null,
   "id": "english-consent",
   "metadata": {},
   "outputs": [],
   "source": []
  },
  {
   "cell_type": "code",
   "execution_count": null,
   "id": "efficient-mercy",
   "metadata": {},
   "outputs": [],
   "source": []
  },
  {
   "cell_type": "markdown",
   "id": "continuous-scholar",
   "metadata": {},
   "source": [
    "## Subset Toxoplasma infection assay only"
   ]
  },
  {
   "cell_type": "code",
   "execution_count": 7,
   "id": "superior-neighbor",
   "metadata": {},
   "outputs": [
    {
     "name": "stderr",
     "output_type": "stream",
     "text": [
      "/opt/conda/lib/python3.8/site-packages/pandas/core/arrays/categorical.py:2487: FutureWarning: The `inplace` parameter in pandas.Categorical.remove_unused_categories is deprecated and will be removed in a future version.\n",
      "  res = method(*args, **kwargs)\n"
     ]
    }
   ],
   "source": [
    "#taking all 2 donors first for DEGs\n",
    "adata_subset= adata[[ i in ['Pla_HDBR13007974', 'Pla_HDBR13007975',# 'Pla_HDBR13007976', 'Pla_HDBR13007977',\n",
    "                            'Pla_HDBR13798223', 'Pla_HDBR13798224' ]#,'Pla_HDBR13798225', 'Pla_HDBR13798226'] \n",
    "                     for i in adata.obs['sample'] ]]"
   ]
  },
  {
   "cell_type": "markdown",
   "id": "divine-borough",
   "metadata": {},
   "source": [
    "#### Subset 24h"
   ]
  },
  {
   "cell_type": "code",
   "execution_count": 17,
   "id": "proof-spine",
   "metadata": {},
   "outputs": [],
   "source": [
    "adata_d1 =adata_subset[[ i in ['24h'] for i in adata_subset.obs.hpi ]]\n",
    "adata_d1.write ('../results/scVI/toxoplasma_singleCell_24h.h5ad')"
   ]
  },
  {
   "cell_type": "code",
   "execution_count": 18,
   "id": "animated-sponsorship",
   "metadata": {
    "tags": []
   },
   "outputs": [
    {
     "data": {
      "text/html": [
       "<div>\n",
       "<style scoped>\n",
       "    .dataframe tbody tr th:only-of-type {\n",
       "        vertical-align: middle;\n",
       "    }\n",
       "\n",
       "    .dataframe tbody tr th {\n",
       "        vertical-align: top;\n",
       "    }\n",
       "\n",
       "    .dataframe thead th {\n",
       "        text-align: right;\n",
       "    }\n",
       "</style>\n",
       "<table border=\"1\" class=\"dataframe\">\n",
       "  <thead>\n",
       "    <tr style=\"text-align: right;\">\n",
       "      <th></th>\n",
       "      <th>counts</th>\n",
       "      <th>freqs</th>\n",
       "    </tr>\n",
       "    <tr>\n",
       "      <th>categories</th>\n",
       "      <th></th>\n",
       "      <th></th>\n",
       "    </tr>\n",
       "  </thead>\n",
       "  <tbody>\n",
       "    <tr>\n",
       "      <th>Tg_24h</th>\n",
       "      <td>16806</td>\n",
       "      <td>0.502903</td>\n",
       "    </tr>\n",
       "    <tr>\n",
       "      <th>UI_Tg_24h</th>\n",
       "      <td>16612</td>\n",
       "      <td>0.497097</td>\n",
       "    </tr>\n",
       "  </tbody>\n",
       "</table>\n",
       "</div>"
      ],
      "text/plain": [
       "            counts     freqs\n",
       "categories                  \n",
       "Tg_24h       16806  0.502903\n",
       "UI_Tg_24h    16612  0.497097"
      ]
     },
     "execution_count": 18,
     "metadata": {},
     "output_type": "execute_result"
    }
   ],
   "source": [
    "adata_d1.obs['stage_perInfection'].values.describe()"
   ]
  },
  {
   "cell_type": "code",
   "execution_count": 19,
   "id": "strong-browse",
   "metadata": {},
   "outputs": [
    {
     "data": {
      "text/html": [
       "<div>\n",
       "<style scoped>\n",
       "    .dataframe tbody tr th:only-of-type {\n",
       "        vertical-align: middle;\n",
       "    }\n",
       "\n",
       "    .dataframe tbody tr th {\n",
       "        vertical-align: top;\n",
       "    }\n",
       "\n",
       "    .dataframe thead th {\n",
       "        text-align: right;\n",
       "    }\n",
       "</style>\n",
       "<table border=\"1\" class=\"dataframe\">\n",
       "  <thead>\n",
       "    <tr style=\"text-align: right;\">\n",
       "      <th></th>\n",
       "      <th>counts</th>\n",
       "      <th>freqs</th>\n",
       "    </tr>\n",
       "    <tr>\n",
       "      <th>categories</th>\n",
       "      <th></th>\n",
       "      <th></th>\n",
       "    </tr>\n",
       "  </thead>\n",
       "  <tbody>\n",
       "    <tr>\n",
       "      <th>scDonor_Tg1</th>\n",
       "      <td>7957</td>\n",
       "      <td>0.238105</td>\n",
       "    </tr>\n",
       "    <tr>\n",
       "      <th>scDonor_Tg2</th>\n",
       "      <td>9468</td>\n",
       "      <td>0.283320</td>\n",
       "    </tr>\n",
       "    <tr>\n",
       "      <th>scDonor_Tg3</th>\n",
       "      <td>7071</td>\n",
       "      <td>0.211593</td>\n",
       "    </tr>\n",
       "    <tr>\n",
       "      <th>scDonor_Tg4</th>\n",
       "      <td>8922</td>\n",
       "      <td>0.266982</td>\n",
       "    </tr>\n",
       "  </tbody>\n",
       "</table>\n",
       "</div>"
      ],
      "text/plain": [
       "             counts     freqs\n",
       "categories                   \n",
       "scDonor_Tg1    7957  0.238105\n",
       "scDonor_Tg2    9468  0.283320\n",
       "scDonor_Tg3    7071  0.211593\n",
       "scDonor_Tg4    8922  0.266982"
      ]
     },
     "execution_count": 19,
     "metadata": {},
     "output_type": "execute_result"
    }
   ],
   "source": [
    "adata_d1.obs['donor_id'].values.describe()"
   ]
  },
  {
   "cell_type": "code",
   "execution_count": null,
   "id": "prescribed-cassette",
   "metadata": {},
   "outputs": [],
   "source": []
  },
  {
   "cell_type": "code",
   "execution_count": null,
   "id": "mental-division",
   "metadata": {},
   "outputs": [],
   "source": [
    "gc.collect()"
   ]
  },
  {
   "cell_type": "code",
   "execution_count": 8,
   "id": "sunrise-billy",
   "metadata": {},
   "outputs": [],
   "source": [
    "adata_d1 =adata_subset[[ i in ['24h'] for i in adata_subset.obs.hpi ]]\n"
   ]
  },
  {
   "cell_type": "code",
   "execution_count": 9,
   "id": "unexpected-record",
   "metadata": {},
   "outputs": [
    {
     "name": "stderr",
     "output_type": "stream",
     "text": [
      "Trying to set attribute `.obs` of view, copying.\n"
     ]
    }
   ],
   "source": [
    "#code to remove un-needed columns in obs. Helps to speed up the operability with R\n",
    "idx = ['sample', 'hpi', 'stage', '_scvi_labels', 'Tg_infected', 'leiden_scvi', 'souporcell_MFgenotype', 'MFgenotype', 'cell_type_broad','scrublet_score', 'scrublet_cluster_score', 'zscore', \n",
    "       'bh_pval', 'bonf_pval',  'percent_mito', 'n_counts', 'sample_barcode', 'assignment_SoC',\n",
    "     'celltype_predictions', 'probabilities', 'scrublet_doublet', 'S_score', 'G2M_score', 'phase', 'n_genes', '_scvi_batch',\n",
    "       '_scvi_local_l_mean', '_scvi_local_l_var',  'n_genes_by_counts', 'total_counts', 'total_counts_hs', 'pct_counts_hs', \n",
    "       'total_counts_tg', 'pct_counts_tg', 'Tg_intracellular', 'cell_type_2022']\n",
    "for i in idx:\n",
    "    try:\n",
    "        del adata_d1.obs[i]\n",
    "    except:\n",
    "        continue\n",
    "    \n",
    "adata_d1.obs['infection'] = adata_d1.obs['infection'].astype(str)\n",
    "\n",
    "del adata_d1.obsm\n",
    "del adata_d1.obsp\n",
    "del adata_d1.layers\n",
    "del adata_d1.uns"
   ]
  },
  {
   "cell_type": "code",
   "execution_count": 10,
   "id": "continued-accuracy",
   "metadata": {},
   "outputs": [],
   "source": [
    "adata_d1.X = adata_d1.X.toarray()"
   ]
  },
  {
   "cell_type": "code",
   "execution_count": 11,
   "id": "powerful-compatibility",
   "metadata": {},
   "outputs": [],
   "source": [
    "%%R -i adata_d1\n",
    "\n",
    "library(Seurat)\n",
    "so = as.Seurat(adata_d1, counts = \"X\", data = \"X\")\n",
    "\n",
    "saveRDS(so, file = \"../results/scVI/toxoplasma_singleCell_24h.rds\")"
   ]
  }
 ],
 "metadata": {
  "kernelspec": {
   "display_name": "Python 3",
   "language": "python",
   "name": "python3"
  },
  "language_info": {
   "codemirror_mode": {
    "name": "ipython",
    "version": 3
   },
   "file_extension": ".py",
   "mimetype": "text/x-python",
   "name": "python",
   "nbconvert_exporter": "python",
   "pygments_lexer": "ipython3",
   "version": "3.8.8"
  }
 },
 "nbformat": 4,
 "nbformat_minor": 5
}
