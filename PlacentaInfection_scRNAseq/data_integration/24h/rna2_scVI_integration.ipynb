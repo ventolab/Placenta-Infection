{
 "cells": [
  {
   "cell_type": "markdown",
   "id": "textile-cameroon",
   "metadata": {},
   "source": [
    "**Author:** Elias Rafael Ruiz-Morales\n",
    "\n",
    "**Institution:** Wellcome Sanger institute\n",
    "\n",
    "**July, 2023**\n"
   ]
  },
  {
   "cell_type": "markdown",
   "id": "heard-nation",
   "metadata": {},
   "source": [
    "---"
   ]
  },
  {
   "cell_type": "markdown",
   "id": "saved-notification",
   "metadata": {},
   "source": [
    "# Integration of 24hpi datasets"
   ]
  },
  {
   "cell_type": "code",
   "execution_count": null,
   "id": "wound-potato",
   "metadata": {},
   "outputs": [],
   "source": []
  },
  {
   "cell_type": "code",
   "execution_count": 1,
   "id": "killing-duncan",
   "metadata": {},
   "outputs": [],
   "source": [
    "from __future__ import print_function\n",
    "import torch\n",
    "\n",
    "import sys, os\n",
    "data_type = 'float32'\n",
    "os.environ[\"THEANO_FLAGS\"] = 'device=cuda,floatX=' + data_type + ',force_device=True'\n",
    "sys.path.insert(1, './')"
   ]
  },
  {
   "cell_type": "code",
   "execution_count": 2,
   "id": "binary-privacy",
   "metadata": {
    "collapsed": true,
    "jupyter": {
     "outputs_hidden": true
    },
    "tags": []
   },
   "outputs": [
    {
     "name": "stderr",
     "output_type": "stream",
     "text": [
      "WARNING: If you miss a compact list, please try `print_header`!\n"
     ]
    },
    {
     "name": "stdout",
     "output_type": "stream",
     "text": [
      "-----\n",
      "anndata     0.7.6\n",
      "scanpy      1.7.0\n",
      "sinfo       0.3.1\n",
      "-----\n",
      "PIL                 8.3.0\n",
      "absl                NA\n",
      "anndata             0.7.6\n",
      "anyio               NA\n",
      "attr                21.2.0\n",
      "babel               2.9.1\n",
      "backcall            0.2.0\n",
      "beta_ufunc          NA\n",
      "binom_ufunc         NA\n",
      "brotli              NA\n",
      "cairo               1.20.1\n",
      "certifi             2021.05.30\n",
      "cffi                1.14.4\n",
      "chardet             4.0.0\n",
      "colorama            0.4.4\n",
      "cycler              0.10.0\n",
      "cython_runtime      NA\n",
      "dateutil            2.8.1\n",
      "debugpy             1.3.0\n",
      "decorator           5.0.9\n",
      "defusedxml          0.7.1\n",
      "dunamai             1.5.5\n",
      "fsspec              2021.06.1\n",
      "get_version         3.2\n",
      "google              NA\n",
      "h5py                3.3.0\n",
      "idna                2.10\n",
      "igraph              0.8.3\n",
      "ipykernel           6.0.0\n",
      "ipython_genutils    0.2.0\n",
      "ipywidgets          7.6.3\n",
      "jedi                0.18.0\n",
      "jinja2              3.0.1\n",
      "joblib              1.0.1\n",
      "json5               NA\n",
      "jsonschema          3.2.0\n",
      "jupyter_server      1.9.0\n",
      "jupyterlab_server   2.6.0\n",
      "kiwisolver          1.3.1\n",
      "legacy_api_wrap     0.0.0\n",
      "leidenalg           0.8.3\n",
      "llvmlite            0.34.0\n",
      "louvain             0.7.0\n",
      "markupsafe          2.0.1\n",
      "matplotlib          3.4.2\n",
      "matplotlib_inline   NA\n",
      "mpl_toolkits        NA\n",
      "natsort             7.1.1\n",
      "nbclassic           NA\n",
      "nbformat            5.1.3\n",
      "nbinom_ufunc        NA\n",
      "numba               0.51.2\n",
      "numexpr             2.7.3\n",
      "numpy               1.19.5\n",
      "opt_einsum          v3.3.0\n",
      "packaging           20.9\n",
      "pandas              1.2.4\n",
      "parso               0.8.2\n",
      "pexpect             4.8.0\n",
      "pickleshare         0.7.5\n",
      "pkg_resources       NA\n",
      "prometheus_client   NA\n",
      "prompt_toolkit      3.0.19\n",
      "ptyprocess          0.7.0\n",
      "pvectorc            NA\n",
      "pycparser           2.20\n",
      "pygments            2.9.0\n",
      "pyparsing           2.4.7\n",
      "pyro                1.5.2\n",
      "pyrsistent          NA\n",
      "pytorch_lightning   1.2.10\n",
      "pytz                2021.1\n",
      "requests            2.25.1\n",
      "rich                NA\n",
      "scanpy              1.7.0\n",
      "scipy               1.7.0\n",
      "scvi                0.10.1\n",
      "send2trash          NA\n",
      "setuptools_scm      NA\n",
      "sinfo               0.3.1\n",
      "six                 1.16.0\n",
      "sklearn             0.24.2\n",
      "sniffio             1.2.0\n",
      "socks               1.7.1\n",
      "sphinxcontrib       NA\n",
      "storemagic          NA\n",
      "tables              3.6.1\n",
      "tensorboard         2.5.0\n",
      "terminado           0.10.1\n",
      "texttable           1.6.3\n",
      "threadpoolctl       2.1.0\n",
      "torch               1.8.1+cu102\n",
      "torchmetrics        0.4.0\n",
      "tornado             6.1\n",
      "tqdm                4.61.1\n",
      "traitlets           5.0.5\n",
      "typing_extensions   NA\n",
      "urllib3             1.26.6\n",
      "wcwidth             0.2.5\n",
      "websocket           0.57.0\n",
      "yaml                5.4.1\n",
      "zmq                 22.1.0\n",
      "-----\n",
      "IPython             7.25.0\n",
      "jupyter_client      6.1.12\n",
      "jupyter_core        4.7.1\n",
      "jupyterlab          3.0.16\n",
      "notebook            6.4.0\n",
      "-----\n",
      "Python 3.8.0 | packaged by conda-forge | (default, Nov 22 2019, 19:11:38) [GCC 7.3.0]\n",
      "Linux-4.15.0-214-generic-x86_64-with-glibc2.10\n",
      "64 logical CPU cores, x86_64\n",
      "-----\n",
      "Session information updated at 2023-10-06 14:32\n",
      "\n"
     ]
    },
    {
     "data": {
      "text/plain": [
       "'/opt/conda/envs/scvi-singularity/bin/python'"
      ]
     },
     "execution_count": 2,
     "metadata": {},
     "output_type": "execute_result"
    }
   ],
   "source": [
    "# Seed for reproducibility\n",
    "import numpy as np\n",
    "import pandas as pd\n",
    "import scanpy as sc\n",
    "from typing import Tuple\n",
    "\n",
    "# scVI imports\n",
    "import scvi\n",
    "from scvi.dataset import AnnDatasetFromAnnData\n",
    "from scvi.inference import UnsupervisedTrainer\n",
    "from scvi.models.vae import VAE\n",
    "\n",
    "torch.manual_seed(0)\n",
    "np.random.seed(0)\n",
    "sc.settings.verbosity = 0  # verbosity: errors (0), warnings (1), info (2), hints (3)\n",
    "\n",
    "\n",
    "\n",
    "def MovePlots(plotpattern, subplotdir):\n",
    "    os.system('mkdir -p '+str(sc.settings.figdir)+'/'+subplotdir)\n",
    "    os.system('mv '+str(sc.settings.figdir)+'/*'+plotpattern+'** '+str(sc.settings.figdir)+'/'+subplotdir)\n",
    "\n",
    "sc.settings.verbosity = 3  # verbosity: errors (0), warnings (1), info (2), hints (3)\n",
    "sc.settings.figdir = '../results/scVI/'\n",
    "sc.logging.print_versions()\n",
    "sc.settings.set_figure_params(dpi=80)  # low dpi (dots per inch) yields small inline figures\n",
    "\n",
    "sys.executable"
   ]
  },
  {
   "cell_type": "code",
   "execution_count": 3,
   "id": "turkish-minutes",
   "metadata": {},
   "outputs": [],
   "source": [
    "def identityTransfer(adata_CellsNewID, adata, field='cell_type'):\n",
    "    \n",
    "    '''\n",
    "    Function to transfer the value in a .obs column, modifying only the cells included in adata_CellsNewID\n",
    "    \n",
    "    Parameters:\n",
    "        adata_CellsNewID: anndata object with cells. These should have in their .obs[field] the new values to be transfer to adata\n",
    "        adata: anndata object to modify. The value in .obs[field] will be modifies for all the cells in adata_CellsNewID\n",
    "        field: column name in .obs to operate in.\n",
    "        \n",
    "     Return:\n",
    "        anndata object with the metadata modified\n",
    "        \n",
    "    '''\n",
    "    \n",
    "    #converting categorical into strings to introduce new categories\n",
    "    adata.obs[field]=adata.obs[field].astype(\"string\")\n",
    "\n",
    "\n",
    "    #assigning the new categories to the cells in adata\n",
    "    for cell in adata_CellsNewID.obs.index:\n",
    "        adata.obs[field][cell] = adata_CellsNewID.obs[field][cell]\n",
    "\n",
    "    #Returning strings into categorical \n",
    "    adata.obs[field]=adata.obs[field].astype(\"category\")\n",
    "    \n",
    "    return(adata)"
   ]
  },
  {
   "cell_type": "code",
   "execution_count": null,
   "id": "verbal-north",
   "metadata": {},
   "outputs": [],
   "source": []
  },
  {
   "cell_type": "markdown",
   "id": "accepting-hungary",
   "metadata": {},
   "source": [
    "### Loading non-normalized data"
   ]
  },
  {
   "cell_type": "code",
   "execution_count": 4,
   "id": "altered-investing",
   "metadata": {},
   "outputs": [],
   "source": [
    "adata = sc.read('../data/rna1_counts_preprocessed_All_adata.h5ad')"
   ]
  },
  {
   "cell_type": "code",
   "execution_count": 5,
   "id": "coordinate-rugby",
   "metadata": {},
   "outputs": [
    {
     "data": {
      "text/plain": [
       "AnnData object with n_obs × n_vars = 217256 × 36601\n",
       "    obs: 'sample', 'stage', 'donor', 'hpi', 'infection', 'percent_mito', 'n_counts', 'batch', 'sample_barcode', 'assignment_SoC', 'donor_id', 'scrublet_score', 'scrublet_cluster_score', 'zscore', 'bh_pval', 'bonf_pval', 'is_doublet', 'infection_stage', 'S_score', 'G2M_score', 'phase', 'n_genes_by_counts', 'total_counts', 'total_counts_hs', 'pct_counts_hs', 'total_counts_tg', 'pct_counts_tg', 'Tg_infected', 'n_genes'\n",
       "    var: 'gene_ids', 'feature_types', 'mean-0', 'std-0', 'mean-1', 'std-1', 'mean-2', 'std-2', 'highly_variable', 'highly_variable_rank', 'means', 'variances', 'variances_norm'\n",
       "    uns: 'donor_id_colors', 'hvg', 'infection_colors', 'sample_colors'\n",
       "    layers: 'raw_counts'"
      ]
     },
     "execution_count": 5,
     "metadata": {},
     "output_type": "execute_result"
    }
   ],
   "source": [
    "adata"
   ]
  },
  {
   "cell_type": "markdown",
   "id": "normal-specialist",
   "metadata": {},
   "source": [
    "### Compute the scVI latent space\n",
    "\n",
    "Based on the scVI documentation."
   ]
  },
  {
   "cell_type": "code",
   "execution_count": 6,
   "id": "plain-right",
   "metadata": {},
   "outputs": [
    {
     "name": "stderr",
     "output_type": "stream",
     "text": [
      "normalizing counts per cell\n",
      "    finished (0:00:11)\n"
     ]
    }
   ],
   "source": [
    "# do some basic preprocessing\n",
    "#adata.layers[\"raw_counts\"] = adata.X.copy() # preserve counts\n",
    "sc.pp.normalize_total(adata, target_sum=1e4)\n",
    "sc.pp.log1p(adata)\n",
    "#adata.raw = adata.copy()"
   ]
  },
  {
   "cell_type": "code",
   "execution_count": 7,
   "id": "worth-margin",
   "metadata": {},
   "outputs": [
    {
     "data": {
      "text/plain": [
       "array(['Hrv124', 'Hrv135', 'Hrv136', 'Hrv168', 'Hrv225', 'Hrv232',\n",
       "       'Hrv236', 'donor_doublets', 'scDonor_Tg1', 'scDonor_Tg2',\n",
       "       'scDonor_Tg3', 'scDonor_Tg4'], dtype=object)"
      ]
     },
     "execution_count": 7,
     "metadata": {},
     "output_type": "execute_result"
    }
   ],
   "source": [
    "np.unique(adata.obs['donor_id'])"
   ]
  },
  {
   "cell_type": "code",
   "execution_count": 8,
   "id": "single-winning",
   "metadata": {},
   "outputs": [
    {
     "data": {
      "text/plain": [
       "Pla_HDBR13007974_AAACCCAAGAAGAGCA    Pla_HDBR13007974\n",
       "Pla_HDBR13007974_AAACCCAAGCGTTGTT    Pla_HDBR13007974\n",
       "Pla_HDBR13007974_AAACCCAAGTAGTCAA    Pla_HDBR13007974\n",
       "Pla_HDBR13007974_AAACCCACAATGAACA    Pla_HDBR13007974\n",
       "Pla_HDBR13007974_AAACCCACAGAGAGGG    Pla_HDBR13007974\n",
       "                                           ...       \n",
       "Pla_HDBR13661572_TTTGTTGCATGTCTAG    Pla_HDBR13661572\n",
       "Pla_HDBR13661572_TTTGTTGGTAGGCAAC    Pla_HDBR13661572\n",
       "Pla_HDBR13661572_TTTGTTGGTGCTTATG    Pla_HDBR13661572\n",
       "Pla_HDBR13661572_TTTGTTGGTGGTAACG    Pla_HDBR13661572\n",
       "Pla_HDBR13661572_TTTGTTGGTTGTATGC    Pla_HDBR13661572\n",
       "Name: sample, Length: 217256, dtype: category\n",
       "Categories (20, object): ['Pla_HDBR11345033', 'Pla_HDBR11345034', 'Pla_HDBR12330712', 'Pla_HDBR12330713', ..., 'Pla_HDBR13661573', 'Pla_HDBR13661574', 'Pla_HDBR13798223', 'Pla_HDBR13798224']"
      ]
     },
     "execution_count": 8,
     "metadata": {},
     "output_type": "execute_result"
    }
   ],
   "source": [
    "adata.obs['sample']"
   ]
  },
  {
   "cell_type": "code",
   "execution_count": 9,
   "id": "adverse-advocate",
   "metadata": {},
   "outputs": [
    {
     "data": {
      "text/html": [
       "<div>\n",
       "<style scoped>\n",
       "    .dataframe tbody tr th:only-of-type {\n",
       "        vertical-align: middle;\n",
       "    }\n",
       "\n",
       "    .dataframe tbody tr th {\n",
       "        vertical-align: top;\n",
       "    }\n",
       "\n",
       "    .dataframe thead th {\n",
       "        text-align: right;\n",
       "    }\n",
       "</style>\n",
       "<table border=\"1\" class=\"dataframe\">\n",
       "  <thead>\n",
       "    <tr style=\"text-align: right;\">\n",
       "      <th></th>\n",
       "      <th>sample</th>\n",
       "      <th>stage</th>\n",
       "      <th>donor</th>\n",
       "      <th>hpi</th>\n",
       "      <th>infection</th>\n",
       "      <th>percent_mito</th>\n",
       "      <th>n_counts</th>\n",
       "      <th>batch</th>\n",
       "      <th>sample_barcode</th>\n",
       "      <th>assignment_SoC</th>\n",
       "      <th>...</th>\n",
       "      <th>G2M_score</th>\n",
       "      <th>phase</th>\n",
       "      <th>n_genes_by_counts</th>\n",
       "      <th>total_counts</th>\n",
       "      <th>total_counts_hs</th>\n",
       "      <th>pct_counts_hs</th>\n",
       "      <th>total_counts_tg</th>\n",
       "      <th>pct_counts_tg</th>\n",
       "      <th>Tg_infected</th>\n",
       "      <th>n_genes</th>\n",
       "    </tr>\n",
       "  </thead>\n",
       "  <tbody>\n",
       "    <tr>\n",
       "      <th>Pla_HDBR13007974_AAACCCAAGAAGAGCA</th>\n",
       "      <td>Pla_HDBR13007974</td>\n",
       "      <td>UI_24h</td>\n",
       "      <td>Hrv171_Hrv172</td>\n",
       "      <td>24h</td>\n",
       "      <td>UI</td>\n",
       "      <td>0.001482</td>\n",
       "      <td>5397.0</td>\n",
       "      <td>0</td>\n",
       "      <td>Pla_HDBR13007974_AAACCCAAGAAGAGCA</td>\n",
       "      <td>0</td>\n",
       "      <td>...</td>\n",
       "      <td>-0.030800</td>\n",
       "      <td>G1</td>\n",
       "      <td>569.0</td>\n",
       "      <td>5397.0</td>\n",
       "      <td>5397.0</td>\n",
       "      <td>100.0</td>\n",
       "      <td>0.0</td>\n",
       "      <td>0.0</td>\n",
       "      <td>False</td>\n",
       "      <td>569</td>\n",
       "    </tr>\n",
       "    <tr>\n",
       "      <th>Pla_HDBR13007974_AAACCCAAGCGTTGTT</th>\n",
       "      <td>Pla_HDBR13007974</td>\n",
       "      <td>UI_24h</td>\n",
       "      <td>Hrv171_Hrv172</td>\n",
       "      <td>24h</td>\n",
       "      <td>UI</td>\n",
       "      <td>0.019590</td>\n",
       "      <td>6432.0</td>\n",
       "      <td>0</td>\n",
       "      <td>Pla_HDBR13007974_AAACCCAAGCGTTGTT</td>\n",
       "      <td>1</td>\n",
       "      <td>...</td>\n",
       "      <td>-0.185258</td>\n",
       "      <td>G1</td>\n",
       "      <td>1904.0</td>\n",
       "      <td>6432.0</td>\n",
       "      <td>6432.0</td>\n",
       "      <td>100.0</td>\n",
       "      <td>0.0</td>\n",
       "      <td>0.0</td>\n",
       "      <td>False</td>\n",
       "      <td>1904</td>\n",
       "    </tr>\n",
       "    <tr>\n",
       "      <th>Pla_HDBR13007974_AAACCCAAGTAGTCAA</th>\n",
       "      <td>Pla_HDBR13007974</td>\n",
       "      <td>UI_24h</td>\n",
       "      <td>Hrv171_Hrv172</td>\n",
       "      <td>24h</td>\n",
       "      <td>UI</td>\n",
       "      <td>0.045489</td>\n",
       "      <td>49221.0</td>\n",
       "      <td>0</td>\n",
       "      <td>Pla_HDBR13007974_AAACCCAAGTAGTCAA</td>\n",
       "      <td>0</td>\n",
       "      <td>...</td>\n",
       "      <td>-0.153001</td>\n",
       "      <td>G1</td>\n",
       "      <td>5525.0</td>\n",
       "      <td>49221.0</td>\n",
       "      <td>49221.0</td>\n",
       "      <td>100.0</td>\n",
       "      <td>0.0</td>\n",
       "      <td>0.0</td>\n",
       "      <td>False</td>\n",
       "      <td>5525</td>\n",
       "    </tr>\n",
       "    <tr>\n",
       "      <th>Pla_HDBR13007974_AAACCCACAATGAACA</th>\n",
       "      <td>Pla_HDBR13007974</td>\n",
       "      <td>UI_24h</td>\n",
       "      <td>Hrv171_Hrv172</td>\n",
       "      <td>24h</td>\n",
       "      <td>UI</td>\n",
       "      <td>0.045332</td>\n",
       "      <td>9243.0</td>\n",
       "      <td>0</td>\n",
       "      <td>Pla_HDBR13007974_AAACCCACAATGAACA</td>\n",
       "      <td>1</td>\n",
       "      <td>...</td>\n",
       "      <td>-0.060906</td>\n",
       "      <td>G1</td>\n",
       "      <td>3032.0</td>\n",
       "      <td>9243.0</td>\n",
       "      <td>9243.0</td>\n",
       "      <td>100.0</td>\n",
       "      <td>0.0</td>\n",
       "      <td>0.0</td>\n",
       "      <td>False</td>\n",
       "      <td>3032</td>\n",
       "    </tr>\n",
       "    <tr>\n",
       "      <th>Pla_HDBR13007974_AAACCCACAGAGAGGG</th>\n",
       "      <td>Pla_HDBR13007974</td>\n",
       "      <td>UI_24h</td>\n",
       "      <td>Hrv171_Hrv172</td>\n",
       "      <td>24h</td>\n",
       "      <td>UI</td>\n",
       "      <td>0.031214</td>\n",
       "      <td>7753.0</td>\n",
       "      <td>0</td>\n",
       "      <td>Pla_HDBR13007974_AAACCCACAGAGAGGG</td>\n",
       "      <td>1</td>\n",
       "      <td>...</td>\n",
       "      <td>0.100363</td>\n",
       "      <td>G2M</td>\n",
       "      <td>2803.0</td>\n",
       "      <td>7753.0</td>\n",
       "      <td>7753.0</td>\n",
       "      <td>100.0</td>\n",
       "      <td>0.0</td>\n",
       "      <td>0.0</td>\n",
       "      <td>False</td>\n",
       "      <td>2803</td>\n",
       "    </tr>\n",
       "    <tr>\n",
       "      <th>...</th>\n",
       "      <td>...</td>\n",
       "      <td>...</td>\n",
       "      <td>...</td>\n",
       "      <td>...</td>\n",
       "      <td>...</td>\n",
       "      <td>...</td>\n",
       "      <td>...</td>\n",
       "      <td>...</td>\n",
       "      <td>...</td>\n",
       "      <td>...</td>\n",
       "      <td>...</td>\n",
       "      <td>...</td>\n",
       "      <td>...</td>\n",
       "      <td>...</td>\n",
       "      <td>...</td>\n",
       "      <td>...</td>\n",
       "      <td>...</td>\n",
       "      <td>...</td>\n",
       "      <td>...</td>\n",
       "      <td>...</td>\n",
       "      <td>...</td>\n",
       "    </tr>\n",
       "    <tr>\n",
       "      <th>Pla_HDBR13661572_TTTGTTGCATGTCTAG</th>\n",
       "      <td>Pla_HDBR13661572</td>\n",
       "      <td>Lm_24h</td>\n",
       "      <td>Hrv236</td>\n",
       "      <td>24h</td>\n",
       "      <td>Lm</td>\n",
       "      <td>0.024774</td>\n",
       "      <td>2099.0</td>\n",
       "      <td>2</td>\n",
       "      <td>Pla_HDBR13661572_TTTGTTGCATGTCTAG</td>\n",
       "      <td>not_pooled</td>\n",
       "      <td>...</td>\n",
       "      <td>-0.100972</td>\n",
       "      <td>G1</td>\n",
       "      <td>NaN</td>\n",
       "      <td>NaN</td>\n",
       "      <td>NaN</td>\n",
       "      <td>NaN</td>\n",
       "      <td>NaN</td>\n",
       "      <td>NaN</td>\n",
       "      <td>nan</td>\n",
       "      <td>1307</td>\n",
       "    </tr>\n",
       "    <tr>\n",
       "      <th>Pla_HDBR13661572_TTTGTTGGTAGGCAAC</th>\n",
       "      <td>Pla_HDBR13661572</td>\n",
       "      <td>Lm_24h</td>\n",
       "      <td>Hrv236</td>\n",
       "      <td>24h</td>\n",
       "      <td>Lm</td>\n",
       "      <td>0.061145</td>\n",
       "      <td>6967.0</td>\n",
       "      <td>2</td>\n",
       "      <td>Pla_HDBR13661572_TTTGTTGGTAGGCAAC</td>\n",
       "      <td>not_pooled</td>\n",
       "      <td>...</td>\n",
       "      <td>0.409389</td>\n",
       "      <td>G2M</td>\n",
       "      <td>NaN</td>\n",
       "      <td>NaN</td>\n",
       "      <td>NaN</td>\n",
       "      <td>NaN</td>\n",
       "      <td>NaN</td>\n",
       "      <td>NaN</td>\n",
       "      <td>nan</td>\n",
       "      <td>3044</td>\n",
       "    </tr>\n",
       "    <tr>\n",
       "      <th>Pla_HDBR13661572_TTTGTTGGTGCTTATG</th>\n",
       "      <td>Pla_HDBR13661572</td>\n",
       "      <td>Lm_24h</td>\n",
       "      <td>Hrv236</td>\n",
       "      <td>24h</td>\n",
       "      <td>Lm</td>\n",
       "      <td>0.037710</td>\n",
       "      <td>22938.0</td>\n",
       "      <td>2</td>\n",
       "      <td>Pla_HDBR13661572_TTTGTTGGTGCTTATG</td>\n",
       "      <td>not_pooled</td>\n",
       "      <td>...</td>\n",
       "      <td>0.140066</td>\n",
       "      <td>G2M</td>\n",
       "      <td>NaN</td>\n",
       "      <td>NaN</td>\n",
       "      <td>NaN</td>\n",
       "      <td>NaN</td>\n",
       "      <td>NaN</td>\n",
       "      <td>NaN</td>\n",
       "      <td>nan</td>\n",
       "      <td>5864</td>\n",
       "    </tr>\n",
       "    <tr>\n",
       "      <th>Pla_HDBR13661572_TTTGTTGGTGGTAACG</th>\n",
       "      <td>Pla_HDBR13661572</td>\n",
       "      <td>Lm_24h</td>\n",
       "      <td>Hrv236</td>\n",
       "      <td>24h</td>\n",
       "      <td>Lm</td>\n",
       "      <td>0.037474</td>\n",
       "      <td>5844.0</td>\n",
       "      <td>2</td>\n",
       "      <td>Pla_HDBR13661572_TTTGTTGGTGGTAACG</td>\n",
       "      <td>not_pooled</td>\n",
       "      <td>...</td>\n",
       "      <td>0.048466</td>\n",
       "      <td>G2M</td>\n",
       "      <td>NaN</td>\n",
       "      <td>NaN</td>\n",
       "      <td>NaN</td>\n",
       "      <td>NaN</td>\n",
       "      <td>NaN</td>\n",
       "      <td>NaN</td>\n",
       "      <td>nan</td>\n",
       "      <td>2498</td>\n",
       "    </tr>\n",
       "    <tr>\n",
       "      <th>Pla_HDBR13661572_TTTGTTGGTTGTATGC</th>\n",
       "      <td>Pla_HDBR13661572</td>\n",
       "      <td>Lm_24h</td>\n",
       "      <td>Hrv236</td>\n",
       "      <td>24h</td>\n",
       "      <td>Lm</td>\n",
       "      <td>0.119690</td>\n",
       "      <td>2966.0</td>\n",
       "      <td>2</td>\n",
       "      <td>Pla_HDBR13661572_TTTGTTGGTTGTATGC</td>\n",
       "      <td>not_pooled</td>\n",
       "      <td>...</td>\n",
       "      <td>-0.126290</td>\n",
       "      <td>G1</td>\n",
       "      <td>NaN</td>\n",
       "      <td>NaN</td>\n",
       "      <td>NaN</td>\n",
       "      <td>NaN</td>\n",
       "      <td>NaN</td>\n",
       "      <td>NaN</td>\n",
       "      <td>nan</td>\n",
       "      <td>1586</td>\n",
       "    </tr>\n",
       "  </tbody>\n",
       "</table>\n",
       "<p>217256 rows × 29 columns</p>\n",
       "</div>"
      ],
      "text/plain": [
       "                                             sample   stage          donor  \\\n",
       "Pla_HDBR13007974_AAACCCAAGAAGAGCA  Pla_HDBR13007974  UI_24h  Hrv171_Hrv172   \n",
       "Pla_HDBR13007974_AAACCCAAGCGTTGTT  Pla_HDBR13007974  UI_24h  Hrv171_Hrv172   \n",
       "Pla_HDBR13007974_AAACCCAAGTAGTCAA  Pla_HDBR13007974  UI_24h  Hrv171_Hrv172   \n",
       "Pla_HDBR13007974_AAACCCACAATGAACA  Pla_HDBR13007974  UI_24h  Hrv171_Hrv172   \n",
       "Pla_HDBR13007974_AAACCCACAGAGAGGG  Pla_HDBR13007974  UI_24h  Hrv171_Hrv172   \n",
       "...                                             ...     ...            ...   \n",
       "Pla_HDBR13661572_TTTGTTGCATGTCTAG  Pla_HDBR13661572  Lm_24h         Hrv236   \n",
       "Pla_HDBR13661572_TTTGTTGGTAGGCAAC  Pla_HDBR13661572  Lm_24h         Hrv236   \n",
       "Pla_HDBR13661572_TTTGTTGGTGCTTATG  Pla_HDBR13661572  Lm_24h         Hrv236   \n",
       "Pla_HDBR13661572_TTTGTTGGTGGTAACG  Pla_HDBR13661572  Lm_24h         Hrv236   \n",
       "Pla_HDBR13661572_TTTGTTGGTTGTATGC  Pla_HDBR13661572  Lm_24h         Hrv236   \n",
       "\n",
       "                                   hpi infection  percent_mito  n_counts  \\\n",
       "Pla_HDBR13007974_AAACCCAAGAAGAGCA  24h        UI      0.001482    5397.0   \n",
       "Pla_HDBR13007974_AAACCCAAGCGTTGTT  24h        UI      0.019590    6432.0   \n",
       "Pla_HDBR13007974_AAACCCAAGTAGTCAA  24h        UI      0.045489   49221.0   \n",
       "Pla_HDBR13007974_AAACCCACAATGAACA  24h        UI      0.045332    9243.0   \n",
       "Pla_HDBR13007974_AAACCCACAGAGAGGG  24h        UI      0.031214    7753.0   \n",
       "...                                ...       ...           ...       ...   \n",
       "Pla_HDBR13661572_TTTGTTGCATGTCTAG  24h        Lm      0.024774    2099.0   \n",
       "Pla_HDBR13661572_TTTGTTGGTAGGCAAC  24h        Lm      0.061145    6967.0   \n",
       "Pla_HDBR13661572_TTTGTTGGTGCTTATG  24h        Lm      0.037710   22938.0   \n",
       "Pla_HDBR13661572_TTTGTTGGTGGTAACG  24h        Lm      0.037474    5844.0   \n",
       "Pla_HDBR13661572_TTTGTTGGTTGTATGC  24h        Lm      0.119690    2966.0   \n",
       "\n",
       "                                  batch                     sample_barcode  \\\n",
       "Pla_HDBR13007974_AAACCCAAGAAGAGCA     0  Pla_HDBR13007974_AAACCCAAGAAGAGCA   \n",
       "Pla_HDBR13007974_AAACCCAAGCGTTGTT     0  Pla_HDBR13007974_AAACCCAAGCGTTGTT   \n",
       "Pla_HDBR13007974_AAACCCAAGTAGTCAA     0  Pla_HDBR13007974_AAACCCAAGTAGTCAA   \n",
       "Pla_HDBR13007974_AAACCCACAATGAACA     0  Pla_HDBR13007974_AAACCCACAATGAACA   \n",
       "Pla_HDBR13007974_AAACCCACAGAGAGGG     0  Pla_HDBR13007974_AAACCCACAGAGAGGG   \n",
       "...                                 ...                                ...   \n",
       "Pla_HDBR13661572_TTTGTTGCATGTCTAG     2  Pla_HDBR13661572_TTTGTTGCATGTCTAG   \n",
       "Pla_HDBR13661572_TTTGTTGGTAGGCAAC     2  Pla_HDBR13661572_TTTGTTGGTAGGCAAC   \n",
       "Pla_HDBR13661572_TTTGTTGGTGCTTATG     2  Pla_HDBR13661572_TTTGTTGGTGCTTATG   \n",
       "Pla_HDBR13661572_TTTGTTGGTGGTAACG     2  Pla_HDBR13661572_TTTGTTGGTGGTAACG   \n",
       "Pla_HDBR13661572_TTTGTTGGTTGTATGC     2  Pla_HDBR13661572_TTTGTTGGTTGTATGC   \n",
       "\n",
       "                                  assignment_SoC  ... G2M_score  phase  \\\n",
       "Pla_HDBR13007974_AAACCCAAGAAGAGCA              0  ... -0.030800     G1   \n",
       "Pla_HDBR13007974_AAACCCAAGCGTTGTT              1  ... -0.185258     G1   \n",
       "Pla_HDBR13007974_AAACCCAAGTAGTCAA              0  ... -0.153001     G1   \n",
       "Pla_HDBR13007974_AAACCCACAATGAACA              1  ... -0.060906     G1   \n",
       "Pla_HDBR13007974_AAACCCACAGAGAGGG              1  ...  0.100363    G2M   \n",
       "...                                          ...  ...       ...    ...   \n",
       "Pla_HDBR13661572_TTTGTTGCATGTCTAG     not_pooled  ... -0.100972     G1   \n",
       "Pla_HDBR13661572_TTTGTTGGTAGGCAAC     not_pooled  ...  0.409389    G2M   \n",
       "Pla_HDBR13661572_TTTGTTGGTGCTTATG     not_pooled  ...  0.140066    G2M   \n",
       "Pla_HDBR13661572_TTTGTTGGTGGTAACG     not_pooled  ...  0.048466    G2M   \n",
       "Pla_HDBR13661572_TTTGTTGGTTGTATGC     not_pooled  ... -0.126290     G1   \n",
       "\n",
       "                                   n_genes_by_counts  total_counts  \\\n",
       "Pla_HDBR13007974_AAACCCAAGAAGAGCA              569.0        5397.0   \n",
       "Pla_HDBR13007974_AAACCCAAGCGTTGTT             1904.0        6432.0   \n",
       "Pla_HDBR13007974_AAACCCAAGTAGTCAA             5525.0       49221.0   \n",
       "Pla_HDBR13007974_AAACCCACAATGAACA             3032.0        9243.0   \n",
       "Pla_HDBR13007974_AAACCCACAGAGAGGG             2803.0        7753.0   \n",
       "...                                              ...           ...   \n",
       "Pla_HDBR13661572_TTTGTTGCATGTCTAG                NaN           NaN   \n",
       "Pla_HDBR13661572_TTTGTTGGTAGGCAAC                NaN           NaN   \n",
       "Pla_HDBR13661572_TTTGTTGGTGCTTATG                NaN           NaN   \n",
       "Pla_HDBR13661572_TTTGTTGGTGGTAACG                NaN           NaN   \n",
       "Pla_HDBR13661572_TTTGTTGGTTGTATGC                NaN           NaN   \n",
       "\n",
       "                                   total_counts_hs  pct_counts_hs  \\\n",
       "Pla_HDBR13007974_AAACCCAAGAAGAGCA           5397.0          100.0   \n",
       "Pla_HDBR13007974_AAACCCAAGCGTTGTT           6432.0          100.0   \n",
       "Pla_HDBR13007974_AAACCCAAGTAGTCAA          49221.0          100.0   \n",
       "Pla_HDBR13007974_AAACCCACAATGAACA           9243.0          100.0   \n",
       "Pla_HDBR13007974_AAACCCACAGAGAGGG           7753.0          100.0   \n",
       "...                                            ...            ...   \n",
       "Pla_HDBR13661572_TTTGTTGCATGTCTAG              NaN            NaN   \n",
       "Pla_HDBR13661572_TTTGTTGGTAGGCAAC              NaN            NaN   \n",
       "Pla_HDBR13661572_TTTGTTGGTGCTTATG              NaN            NaN   \n",
       "Pla_HDBR13661572_TTTGTTGGTGGTAACG              NaN            NaN   \n",
       "Pla_HDBR13661572_TTTGTTGGTTGTATGC              NaN            NaN   \n",
       "\n",
       "                                   total_counts_tg pct_counts_tg  Tg_infected  \\\n",
       "Pla_HDBR13007974_AAACCCAAGAAGAGCA              0.0           0.0        False   \n",
       "Pla_HDBR13007974_AAACCCAAGCGTTGTT              0.0           0.0        False   \n",
       "Pla_HDBR13007974_AAACCCAAGTAGTCAA              0.0           0.0        False   \n",
       "Pla_HDBR13007974_AAACCCACAATGAACA              0.0           0.0        False   \n",
       "Pla_HDBR13007974_AAACCCACAGAGAGGG              0.0           0.0        False   \n",
       "...                                            ...           ...          ...   \n",
       "Pla_HDBR13661572_TTTGTTGCATGTCTAG              NaN           NaN          nan   \n",
       "Pla_HDBR13661572_TTTGTTGGTAGGCAAC              NaN           NaN          nan   \n",
       "Pla_HDBR13661572_TTTGTTGGTGCTTATG              NaN           NaN          nan   \n",
       "Pla_HDBR13661572_TTTGTTGGTGGTAACG              NaN           NaN          nan   \n",
       "Pla_HDBR13661572_TTTGTTGGTTGTATGC              NaN           NaN          nan   \n",
       "\n",
       "                                   n_genes  \n",
       "Pla_HDBR13007974_AAACCCAAGAAGAGCA      569  \n",
       "Pla_HDBR13007974_AAACCCAAGCGTTGTT     1904  \n",
       "Pla_HDBR13007974_AAACCCAAGTAGTCAA     5525  \n",
       "Pla_HDBR13007974_AAACCCACAATGAACA     3032  \n",
       "Pla_HDBR13007974_AAACCCACAGAGAGGG     2803  \n",
       "...                                    ...  \n",
       "Pla_HDBR13661572_TTTGTTGCATGTCTAG     1307  \n",
       "Pla_HDBR13661572_TTTGTTGGTAGGCAAC     3044  \n",
       "Pla_HDBR13661572_TTTGTTGGTGCTTATG     5864  \n",
       "Pla_HDBR13661572_TTTGTTGGTGGTAACG     2498  \n",
       "Pla_HDBR13661572_TTTGTTGGTTGTATGC     1586  \n",
       "\n",
       "[217256 rows x 29 columns]"
      ]
     },
     "execution_count": 9,
     "metadata": {},
     "output_type": "execute_result"
    }
   ],
   "source": [
    "adata.obs"
   ]
  },
  {
   "cell_type": "code",
   "execution_count": null,
   "id": "piano-publication",
   "metadata": {},
   "outputs": [],
   "source": []
  },
  {
   "cell_type": "code",
   "execution_count": 10,
   "id": "accredited-reaction",
   "metadata": {},
   "outputs": [
    {
     "name": "stdout",
     "output_type": "stream",
     "text": [
      "\u001b[34mINFO    \u001b[0m Using batches from adata.obs\u001b[1m[\u001b[0m\u001b[32m\"donor_id\"\u001b[0m\u001b[1m]\u001b[0m                                            \n"
     ]
    },
    {
     "name": "stderr",
     "output_type": "stream",
     "text": [
      "Using batches from adata.obs[\"donor_id\"]\n"
     ]
    },
    {
     "name": "stdout",
     "output_type": "stream",
     "text": [
      "\u001b[34mINFO    \u001b[0m No label_key inputted, assuming all cells have same label                           \n"
     ]
    },
    {
     "name": "stderr",
     "output_type": "stream",
     "text": [
      "No label_key inputted, assuming all cells have same label\n"
     ]
    },
    {
     "name": "stdout",
     "output_type": "stream",
     "text": [
      "\u001b[34mINFO    \u001b[0m Using data from adata.layers\u001b[1m[\u001b[0m\u001b[32m\"raw_counts\"\u001b[0m\u001b[1m]\u001b[0m                                          \n"
     ]
    },
    {
     "name": "stderr",
     "output_type": "stream",
     "text": [
      "Using data from adata.layers[\"raw_counts\"]\n"
     ]
    },
    {
     "name": "stdout",
     "output_type": "stream",
     "text": [
      "\u001b[34mINFO    \u001b[0m Computing library size prior per batch                                              \n"
     ]
    },
    {
     "name": "stderr",
     "output_type": "stream",
     "text": [
      "Computing library size prior per batch\n"
     ]
    },
    {
     "name": "stdout",
     "output_type": "stream",
     "text": [
      "\u001b[34mINFO    \u001b[0m Successfully registered anndata object containing \u001b[1;36m217256\u001b[0m cells, \u001b[1;36m36601\u001b[0m vars, \u001b[1;36m12\u001b[0m      \n",
      "         batches, \u001b[1;36m1\u001b[0m labels, and \u001b[1;36m0\u001b[0m proteins. Also registered \u001b[1;36m1\u001b[0m extra categorical covariates   \n",
      "         and \u001b[1;36m0\u001b[0m extra continuous covariates.                                                  \n"
     ]
    },
    {
     "name": "stderr",
     "output_type": "stream",
     "text": [
      "Successfully registered anndata object containing 217256 cells, 36601 vars, 12 batches, 1 labels, and 0 proteins. Also registered 1 extra categorical covariates and 0 extra continuous covariates.\n"
     ]
    },
    {
     "name": "stdout",
     "output_type": "stream",
     "text": [
      "\u001b[34mINFO    \u001b[0m Please do not further modify adata until model is trained.                          \n"
     ]
    },
    {
     "name": "stderr",
     "output_type": "stream",
     "text": [
      "Please do not further modify adata until model is trained.\n"
     ]
    }
   ],
   "source": [
    "scvi.data.setup_anndata(\n",
    "    adata,\n",
    "    layer=\"raw_counts\",\n",
    "    batch_key='donor_id', #samples as a batch\n",
    "    #donor as a covariate of the cells\n",
    "    categorical_covariate_keys=[\"sample\"] \n",
    "    #categorical_covariate_keys=['donor_souporcell',], #\n",
    "    #continuous_covariate_keys=[\"\"]\n",
    ")"
   ]
  },
  {
   "cell_type": "code",
   "execution_count": 11,
   "id": "disturbed-investing",
   "metadata": {},
   "outputs": [],
   "source": [
    "#---- check #layers"
   ]
  },
  {
   "cell_type": "code",
   "execution_count": 12,
   "id": "still-milan",
   "metadata": {},
   "outputs": [
    {
     "name": "stdout",
     "output_type": "stream",
     "text": [
      "n_latent_value 20\n",
      "n_latent_value 30\n",
      "n_latent_value 40\n"
     ]
    }
   ],
   "source": [
    "models = {}\n",
    "\n",
    "# let's try a few values\n",
    "n_latent_values = [20, 30, 40]\n",
    "\n",
    "for n_latent_value in n_latent_values:\n",
    "    print('n_latent_value', n_latent_value)\n",
    "    models[n_latent_value] = scvi.model.SCVI(adata, n_latent = n_latent_value)"
   ]
  },
  {
   "cell_type": "code",
   "execution_count": 13,
   "id": "sublime-spirituality",
   "metadata": {},
   "outputs": [
    {
     "data": {
      "text/html": [
       "<pre style=\"white-space:pre;overflow-x:auto;line-height:normal;font-family:Menlo,'DejaVu Sans Mono',consolas,'Courier New',monospace\">SCVI Model with the following params: \n",
       "n_hidden: <span style=\"color: #008080; text-decoration-color: #008080; font-weight: bold\">128</span>, n_latent: <span style=\"color: #008080; text-decoration-color: #008080; font-weight: bold\">20</span>, n_layers: <span style=\"color: #008080; text-decoration-color: #008080; font-weight: bold\">1</span>, dropout_rate: <span style=\"color: #008080; text-decoration-color: #008080; font-weight: bold\">0.1</span>, dispersion: gene, \n",
       "gene_likelihood: zinb, latent_distribution: normal\n",
       "Training status: Not Trained\n",
       "</pre>\n"
      ],
      "text/plain": [
       "SCVI Model with the following params: \n",
       "n_hidden: \u001b[1;36m128\u001b[0m, n_latent: \u001b[1;36m20\u001b[0m, n_layers: \u001b[1;36m1\u001b[0m, dropout_rate: \u001b[1;36m0.1\u001b[0m, dispersion: gene, \n",
       "gene_likelihood: zinb, latent_distribution: normal\n",
       "Training status: Not Trained\n"
      ]
     },
     "metadata": {},
     "output_type": "display_data"
    },
    {
     "data": {
      "text/html": [
       "<pre style=\"white-space:pre;overflow-x:auto;line-height:normal;font-family:Menlo,'DejaVu Sans Mono',consolas,'Courier New',monospace\">\n",
       "\n",
       "To print summary of associated AnnData, use: <span style=\"color: #af00d7; text-decoration-color: #af00d7\">scvi.data.view_anndata_setup(model.adata)</span>\n",
       "</pre>\n"
      ],
      "text/plain": [
       "\n",
       "\n",
       "To print summary of associated AnnData, use: \u001b[38;5;128mscvi.data.view_anndata_setup(model.adata)\u001b[0m\n"
      ]
     },
     "metadata": {},
     "output_type": "display_data"
    },
    {
     "data": {
      "text/plain": []
     },
     "execution_count": 13,
     "metadata": {},
     "output_type": "execute_result"
    }
   ],
   "source": [
    "models[20]"
   ]
  },
  {
   "cell_type": "code",
   "execution_count": 14,
   "id": "allied-attack",
   "metadata": {},
   "outputs": [
    {
     "name": "stderr",
     "output_type": "stream",
     "text": [
      "GPU available: True, used: True\n",
      "TPU available: False, using: 0 TPU cores\n",
      "LOCAL_RANK: 0 - CUDA_VISIBLE_DEVICES: [0]\n"
     ]
    },
    {
     "name": "stdout",
     "output_type": "stream",
     "text": [
      "training model for n_latent_value: 20\n",
      "Epoch 37/37: 100%|████████████████████████████████████████████████████████████████████████████████████████████████████| 37/37 [25:21<00:00, 41.11s/it, loss=1.1e+04, v_num=1]\n"
     ]
    },
    {
     "name": "stderr",
     "output_type": "stream",
     "text": [
      "GPU available: True, used: True\n",
      "TPU available: False, using: 0 TPU cores\n",
      "LOCAL_RANK: 0 - CUDA_VISIBLE_DEVICES: [0]\n"
     ]
    },
    {
     "name": "stdout",
     "output_type": "stream",
     "text": [
      "training model for n_latent_value: 30\n",
      "Epoch 37/37: 100%|███████████████████████████████████████████████████████████████████████████████████████████████████| 37/37 [25:13<00:00, 40.92s/it, loss=1.09e+04, v_num=1]\n"
     ]
    },
    {
     "name": "stderr",
     "output_type": "stream",
     "text": [
      "GPU available: True, used: True\n",
      "TPU available: False, using: 0 TPU cores\n",
      "LOCAL_RANK: 0 - CUDA_VISIBLE_DEVICES: [0]\n"
     ]
    },
    {
     "name": "stdout",
     "output_type": "stream",
     "text": [
      "training model for n_latent_value: 40\n",
      "Epoch 37/37: 100%|███████████████████████████████████████████████████████████████████████████████████████████████████| 37/37 [25:14<00:00, 40.95s/it, loss=1.11e+04, v_num=1]\n"
     ]
    }
   ],
   "source": [
    "latent_representations = {}\n",
    "\n",
    "for n_latent_value in n_latent_values:\n",
    "    print('training model for n_latent_value:', n_latent_value)\n",
    "    models[n_latent_value].train()\n",
    "    \n",
    "    latent_representations[n_latent_value] = models[n_latent_value].get_latent_representation()\n",
    "    \n",
    "    adata.obsm[\"X_scVI_n_latent_\" + str(n_latent_value)] = latent_representations[n_latent_value]\n",
    "    \n",
    "    curr_df = pd.DataFrame(adata.obsm[\"X_scVI_n_latent_\" + str(n_latent_value)])\n",
    "    curr_df.to_csv('../results/scVI/20230707_obsm_with_scVI_latent_representation_n_' + str(n_latent_value) + '_allSamples.csv')"
   ]
  },
  {
   "cell_type": "code",
   "execution_count": null,
   "id": "liked-earthquake",
   "metadata": {},
   "outputs": [],
   "source": []
  },
  {
   "cell_type": "code",
   "execution_count": 15,
   "id": "trained-tsunami",
   "metadata": {},
   "outputs": [],
   "source": [
    "adata.X= adata.layers[\"raw_counts\"].copy()"
   ]
  },
  {
   "cell_type": "code",
   "execution_count": 16,
   "id": "duplicate-laundry",
   "metadata": {},
   "outputs": [],
   "source": [
    "adata.write('../results/scVI/rna2_scVIintegrated_AllData.h5ad')"
   ]
  },
  {
   "cell_type": "code",
   "execution_count": 17,
   "id": "extreme-quest",
   "metadata": {},
   "outputs": [
    {
     "data": {
      "text/plain": [
       "Gene Expression    36601\n",
       "Name: feature_types, dtype: int64"
      ]
     },
     "execution_count": 17,
     "metadata": {},
     "output_type": "execute_result"
    }
   ],
   "source": [
    "adata.var[\"feature_types\"].value_counts()\n"
   ]
  },
  {
   "cell_type": "code",
   "execution_count": 18,
   "id": "level-relevance",
   "metadata": {},
   "outputs": [
    {
     "data": {
      "text/plain": [
       "AnnData object with n_obs × n_vars = 217256 × 36601\n",
       "    obs: 'sample', 'stage', 'donor', 'hpi', 'infection', 'percent_mito', 'n_counts', 'batch', 'sample_barcode', 'assignment_SoC', 'donor_id', 'scrublet_score', 'scrublet_cluster_score', 'zscore', 'bh_pval', 'bonf_pval', 'is_doublet', 'infection_stage', 'S_score', 'G2M_score', 'phase', 'n_genes_by_counts', 'total_counts', 'total_counts_hs', 'pct_counts_hs', 'total_counts_tg', 'pct_counts_tg', 'Tg_infected', 'n_genes', '_scvi_batch', '_scvi_labels', '_scvi_local_l_mean', '_scvi_local_l_var'\n",
       "    var: 'gene_ids', 'feature_types', 'mean-0', 'std-0', 'mean-1', 'std-1', 'mean-2', 'std-2', 'highly_variable', 'highly_variable_rank', 'means', 'variances', 'variances_norm'\n",
       "    uns: 'donor_id_colors', 'hvg', 'infection_colors', 'sample_colors', 'log1p', '_scvi'\n",
       "    obsm: '_scvi_extra_categoricals', 'X_scVI_n_latent_20', 'X_scVI_n_latent_30', 'X_scVI_n_latent_40'\n",
       "    layers: 'raw_counts'"
      ]
     },
     "execution_count": 18,
     "metadata": {},
     "output_type": "execute_result"
    }
   ],
   "source": [
    "adata"
   ]
  },
  {
   "cell_type": "code",
   "execution_count": null,
   "id": "collected-luxury",
   "metadata": {},
   "outputs": [],
   "source": []
  },
  {
   "cell_type": "raw",
   "id": "regulation-fiber",
   "metadata": {},
   "source": [
    "-----\n",
    "anndata     0.7.6\n",
    "scanpy      1.7.0\n",
    "sinfo       0.3.1\n",
    "-----\n",
    "PIL                 8.3.0\n",
    "absl                NA\n",
    "anndata             0.7.6\n",
    "anyio               NA\n",
    "attr                21.2.0\n",
    "babel               2.9.1\n",
    "backcall            0.2.0\n",
    "beta_ufunc          NA\n",
    "binom_ufunc         NA\n",
    "brotli              NA\n",
    "cairo               1.20.1\n",
    "certifi             2021.05.30\n",
    "cffi                1.14.4\n",
    "chardet             4.0.0\n",
    "colorama            0.4.4\n",
    "cycler              0.10.0\n",
    "cython_runtime      NA\n",
    "dateutil            2.8.1\n",
    "debugpy             1.3.0\n",
    "decorator           5.0.9\n",
    "defusedxml          0.7.1\n",
    "dunamai             1.5.5\n",
    "fsspec              2021.06.1\n",
    "get_version         3.2\n",
    "google              NA\n",
    "h5py                3.3.0\n",
    "idna                2.10\n",
    "igraph              0.8.3\n",
    "ipykernel           6.0.0\n",
    "ipython_genutils    0.2.0\n",
    "ipywidgets          7.6.3\n",
    "jedi                0.18.0\n",
    "jinja2              3.0.1\n",
    "joblib              1.0.1\n",
    "json5               NA\n",
    "jsonschema          3.2.0\n",
    "jupyter_server      1.9.0\n",
    "jupyterlab_server   2.6.0\n",
    "kiwisolver          1.3.1\n",
    "legacy_api_wrap     0.0.0\n",
    "leidenalg           0.8.3\n",
    "llvmlite            0.34.0\n",
    "louvain             0.7.0\n",
    "markupsafe          2.0.1\n",
    "matplotlib          3.4.2\n",
    "matplotlib_inline   NA\n",
    "mpl_toolkits        NA\n",
    "natsort             7.1.1\n",
    "nbclassic           NA\n",
    "nbformat            5.1.3\n",
    "nbinom_ufunc        NA\n",
    "numba               0.51.2\n",
    "numexpr             2.7.3\n",
    "numpy               1.19.5\n",
    "opt_einsum          v3.3.0\n",
    "packaging           20.9\n",
    "pandas              1.2.4\n",
    "parso               0.8.2\n",
    "pexpect             4.8.0\n",
    "pickleshare         0.7.5\n",
    "pkg_resources       NA\n",
    "prometheus_client   NA\n",
    "prompt_toolkit      3.0.19\n",
    "ptyprocess          0.7.0\n",
    "pvectorc            NA\n",
    "pycparser           2.20\n",
    "pygments            2.9.0\n",
    "pyparsing           2.4.7\n",
    "pyro                1.5.2\n",
    "pyrsistent          NA\n",
    "pytorch_lightning   1.2.10\n",
    "pytz                2021.1\n",
    "requests            2.25.1\n",
    "rich                NA\n",
    "scanpy              1.7.0\n",
    "scipy               1.7.0\n",
    "scvi                0.10.1\n",
    "send2trash          NA\n",
    "setuptools_scm      NA\n",
    "sinfo               0.3.1\n",
    "six                 1.16.0\n",
    "sklearn             0.24.2\n",
    "sniffio             1.2.0\n",
    "socks               1.7.1\n",
    "sphinxcontrib       NA\n",
    "storemagic          NA\n",
    "tables              3.6.1\n",
    "tensorboard         2.5.0\n",
    "terminado           0.10.1\n",
    "texttable           1.6.3\n",
    "threadpoolctl       2.1.0\n",
    "torch               1.8.1+cu102\n",
    "torchmetrics        0.4.0\n",
    "tornado             6.1\n",
    "tqdm                4.61.1\n",
    "traitlets           5.0.5\n",
    "typing_extensions   NA\n",
    "urllib3             1.26.6\n",
    "wcwidth             0.2.5\n",
    "websocket           0.57.0\n",
    "yaml                5.4.1\n",
    "zmq                 22.1.0\n",
    "-----\n",
    "IPython             7.25.0\n",
    "jupyter_client      6.1.12\n",
    "jupyter_core        4.7.1\n",
    "jupyterlab          3.0.16\n",
    "notebook            6.4.0\n",
    "-----\n",
    "Python 3.8.0 | packaged by conda-forge | (default, Nov 22 2019, 19:11:38) [GCC 7.3.0]\n",
    "Linux-4.15.0-214-generic-x86_64-with-glibc2.10\n",
    "64 logical CPU cores, x86_64\n",
    "-----\n",
    "Session information updated at 2023-10-06 14:32\n",
    "\n"
   ]
  },
  {
   "cell_type": "code",
   "execution_count": null,
   "id": "subsequent-sierra",
   "metadata": {},
   "outputs": [],
   "source": []
  }
 ],
 "metadata": {
  "kernelspec": {
   "display_name": "Python 3",
   "language": "python",
   "name": "python3"
  },
  "language_info": {
   "codemirror_mode": {
    "name": "ipython",
    "version": 3
   },
   "file_extension": ".py",
   "mimetype": "text/x-python",
   "name": "python",
   "nbconvert_exporter": "python",
   "pygments_lexer": "ipython3",
   "version": "3.8.8"
  }
 },
 "nbformat": 4,
 "nbformat_minor": 5
}
