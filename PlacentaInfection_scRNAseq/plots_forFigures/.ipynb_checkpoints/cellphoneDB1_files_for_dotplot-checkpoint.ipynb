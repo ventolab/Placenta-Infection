{
 "cells": [
  {
   "cell_type": "markdown",
   "id": "automated-simon",
   "metadata": {},
   "source": [
    "**Author:** Elias Rafael Ruiz-Morales\n",
    "\n",
    "**Institution:** Wellcome Sanger institute\n",
    "\n",
    "**July, 2023**"
   ]
  },
  {
   "cell_type": "markdown",
   "id": "dying-colleague",
   "metadata": {},
   "source": [
    "---"
   ]
  },
  {
   "cell_type": "markdown",
   "id": "earlier-seeking",
   "metadata": {},
   "source": [
    "## Generate cellphoneDB input files for making dotplots (infected vs uninfected)"
   ]
  },
  {
   "cell_type": "code",
   "execution_count": 2,
   "id": "external-dragon",
   "metadata": {},
   "outputs": [
    {
     "data": {
      "text/plain": [
       "'/opt/conda/bin/python'"
      ]
     },
     "execution_count": 2,
     "metadata": {},
     "output_type": "execute_result"
    }
   ],
   "source": [
    "import numpy as np\n",
    "import pandas as pd\n",
    "import scanpy as sc\n",
    "import anndata\n",
    "import os\n",
    "import sys\n",
    "sys.executable"
   ]
  },
  {
   "cell_type": "code",
   "execution_count": 3,
   "id": "respiratory-tracy",
   "metadata": {},
   "outputs": [
    {
     "name": "stderr",
     "output_type": "stream",
     "text": [
      "WARNING: If you miss a compact list, please try `print_header`!\n"
     ]
    },
    {
     "name": "stdout",
     "output_type": "stream",
     "text": [
      "-----\n",
      "anndata     0.7.5\n",
      "scanpy      1.7.1\n",
      "sinfo       0.3.1\n",
      "-----\n",
      "PIL                 8.1.2\n",
      "anndata             0.7.5\n",
      "anyio               NA\n",
      "attr                20.3.0\n",
      "babel               2.9.0\n",
      "backcall            0.2.0\n",
      "brotli              NA\n",
      "cairo               1.20.0\n",
      "certifi             2020.12.05\n",
      "cffi                1.14.5\n",
      "chardet             4.0.0\n",
      "cloudpickle         1.6.0\n",
      "colorama            0.4.4\n",
      "cycler              0.10.0\n",
      "cython_runtime      NA\n",
      "cytoolz             0.11.0\n",
      "dask                2021.03.1\n",
      "dateutil            2.8.1\n",
      "decorator           4.4.2\n",
      "fsspec              0.8.7\n",
      "get_version         2.1\n",
      "google              NA\n",
      "h5py                3.1.0\n",
      "idna                2.10\n",
      "igraph              0.8.3\n",
      "ipykernel           5.5.0\n",
      "ipython_genutils    0.2.0\n",
      "jedi                0.18.0\n",
      "jinja2              2.11.3\n",
      "joblib              1.0.1\n",
      "json5               NA\n",
      "jsonschema          3.2.0\n",
      "jupyter_server      1.4.1\n",
      "jupyterlab_server   2.3.0\n",
      "kiwisolver          1.3.1\n",
      "legacy_api_wrap     0.0.0\n",
      "leidenalg           0.8.3\n",
      "llvmlite            0.34.0\n",
      "louvain             0.7.0\n",
      "markupsafe          1.1.1\n",
      "matplotlib          3.3.4\n",
      "mpl_toolkits        NA\n",
      "natsort             7.1.1\n",
      "nbclassic           NA\n",
      "nbformat            5.1.2\n",
      "numba               0.51.2\n",
      "numexpr             2.7.3\n",
      "numpy               1.20.1\n",
      "packaging           20.9\n",
      "pandas              1.2.3\n",
      "parso               0.8.1\n",
      "pexpect             4.8.0\n",
      "pickleshare         0.7.5\n",
      "pkg_resources       NA\n",
      "prometheus_client   NA\n",
      "prompt_toolkit      3.0.16\n",
      "psutil              5.8.0\n",
      "ptyprocess          0.7.0\n",
      "pvectorc            NA\n",
      "pyarrow             0.16.0\n",
      "pygments            2.8.0\n",
      "pyparsing           2.4.7\n",
      "pyrsistent          NA\n",
      "pytoml              NA\n",
      "pytz                2021.1\n",
      "requests            2.25.1\n",
      "ruamel              NA\n",
      "scanpy              1.7.1\n",
      "scipy               1.6.1\n",
      "send2trash          NA\n",
      "setuptools_scm      NA\n",
      "sinfo               0.3.1\n",
      "six                 1.15.0\n",
      "sklearn             0.24.1\n",
      "sniffio             1.2.0\n",
      "socks               1.7.1\n",
      "sphinxcontrib       NA\n",
      "storemagic          NA\n",
      "tables              3.6.1\n",
      "tblib               1.7.0\n",
      "texttable           1.6.3\n",
      "tlz                 0.11.0\n",
      "toolz               0.11.1\n",
      "tornado             6.1\n",
      "traitlets           5.0.5\n",
      "typing_extensions   NA\n",
      "urllib3             1.26.3\n",
      "wcwidth             0.2.5\n",
      "yaml                5.3.1\n",
      "zmq                 22.0.3\n",
      "-----\n",
      "IPython             7.21.0\n",
      "jupyter_client      6.1.11\n",
      "jupyter_core        4.7.1\n",
      "jupyterlab          3.0.9\n",
      "notebook            6.2.0\n",
      "-----\n",
      "Python 3.8.8 | packaged by conda-forge | (default, Feb 20 2021, 16:22:27) [GCC 9.3.0]\n",
      "Linux-4.15.0-213-generic-x86_64-with-glibc2.10\n",
      "26 logical CPU cores, x86_64\n",
      "-----\n",
      "Session information updated at 2024-03-25 11:08\n",
      "\n"
     ]
    }
   ],
   "source": [
    "sc.logging.print_versions()"
   ]
  },
  {
   "cell_type": "code",
   "execution_count": 2,
   "id": "romance-process",
   "metadata": {},
   "outputs": [],
   "source": [
    "def grouped_obs_percent(adata, group_key, layer=None, gene_symbols=None):\n",
    "    if layer is not None:\n",
    "        getX = lambda x: x.layers[layer]\n",
    "    else:\n",
    "        getX = lambda x: x.X\n",
    "    if gene_symbols is not None:\n",
    "        new_idx = adata.var[idx]\n",
    "    else:\n",
    "        new_idx = adata.var_names\n",
    "\n",
    "    grouped = adata.obs.groupby(group_key)\n",
    "    out = pd.DataFrame(\n",
    "        np.zeros((adata.shape[1], len(grouped)), dtype=np.float64),\n",
    "        columns=list(grouped.groups.keys()),\n",
    "        index=adata.var_names\n",
    "    )\n",
    "\n",
    "    for group, idx in grouped.indices.items():\n",
    "        X = getX(adata[idx])\n",
    "        X.data = X.data > 0.01\n",
    "        perc = np.asarray(np.sum(X,axis=0)/X.shape[0]).reshape(-1)\n",
    "        out[group] = [round(i, 2) for i in perc ]\n",
    "    return out\n",
    "\n",
    "def grouped_obs_mean(adata, group_key, layer=None, gene_symbols=None):\n",
    "    if layer is not None:\n",
    "        getX = lambda x: x.layers[layer]\n",
    "    else:\n",
    "        getX = lambda x: x.X\n",
    "    if gene_symbols is not None:\n",
    "        new_idx = adata.var[idx]\n",
    "    else:\n",
    "        new_idx = adata.var_names\n",
    "\n",
    "    grouped = adata.obs.groupby(group_key)\n",
    "    out = pd.DataFrame(\n",
    "        np.zeros((adata.shape[1], len(grouped)), dtype=np.float64),\n",
    "        columns=list(grouped.groups.keys()),\n",
    "        index=adata.var_names\n",
    "    )\n",
    "\n",
    "    for group, idx in grouped.indices.items():\n",
    "        X = getX(adata[idx])\n",
    "        out[group] = np.ravel(X.mean(axis=0, dtype=np.float64))\n",
    "    return out"
   ]
  },
  {
   "cell_type": "code",
   "execution_count": null,
   "id": "grand-architect",
   "metadata": {},
   "outputs": [],
   "source": []
  },
  {
   "cell_type": "markdown",
   "id": "prepared-partner",
   "metadata": {},
   "source": [
    "## Loading data"
   ]
  },
  {
   "cell_type": "code",
   "execution_count": 13,
   "id": "orange-douglas",
   "metadata": {},
   "outputs": [],
   "source": [
    "adata = sc.read ('../../data_integration/results/scVI/rna8_scVIintegrated_latent30_All_20230707.h5ad')"
   ]
  },
  {
   "cell_type": "code",
   "execution_count": 14,
   "id": "welcome-interest",
   "metadata": {},
   "outputs": [
    {
     "data": {
      "text/plain": [
       "AnnData object with n_obs × n_vars = 113028 × 36601\n",
       "    obs: 'sample', 'stage', 'hpi', 'infection', 'percent_mito', 'n_counts', 'sample_barcode', 'assignment_SoC', 'donor_id', 'scrublet_score', 'scrublet_cluster_score', 'zscore', 'bh_pval', 'bonf_pval', 'S_score', 'G2M_score', 'phase', 'n_genes_by_counts', 'total_counts', 'total_counts_hs', 'pct_counts_hs', 'total_counts_tg', 'pct_counts_tg', 'Tg_infected', 'n_genes', '_scvi_batch', '_scvi_labels', '_scvi_local_l_mean', '_scvi_local_l_var', 'leiden_scvi', 'celltype_predictions', 'probabilities', 'scrublet_doublet', 'cell_type_2022', 'cell_type', 'souporcell_MFgenotype', 'MFgenotype', 'cell_type_broad', 'umap_density_Tg_infected', 'stage_perInfection', 'celltype-Stage', 'Tg_intracellular', 'celltype-Intracellular', 'Dev_Stage'\n",
       "    var: 'gene_ids', 'feature_types', 'mean-0', 'std-0', 'mean-1', 'std-1', 'mean-2', 'std-2', 'highly_variable', 'highly_variable_rank', 'means', 'variances', 'variances_norm'\n",
       "    uns: 'Dev_Stage_colors', 'MFgenotype_colors', '_scvi', 'cell_type_2022_colors', 'cell_type_broad_colors', 'cell_type_colors', 'celltype_predictions_colors', 'donor_id_colors', 'hpi_colors', 'hvg', 'infection_colors', 'leiden', 'neighbors', 'sample_colors', 'scrublet_doublet_colors', 'umap', 'umap_density_Tg_infected_params'\n",
       "    obsm: 'X_scVI_n_latent_20', 'X_scVI_n_latent_30', 'X_scVI_n_latent_40', 'X_umap', '_scvi_extra_categoricals'\n",
       "    layers: 'raw_counts'\n",
       "    obsp: 'connectivities', 'distances'"
      ]
     },
     "execution_count": 14,
     "metadata": {},
     "output_type": "execute_result"
    }
   ],
   "source": [
    "adata"
   ]
  },
  {
   "cell_type": "code",
   "execution_count": null,
   "id": "sexual-bernard",
   "metadata": {},
   "outputs": [],
   "source": []
  },
  {
   "cell_type": "code",
   "execution_count": 15,
   "id": "comparable-yemen",
   "metadata": {},
   "outputs": [
    {
     "data": {
      "text/html": [
       "<div>\n",
       "<style scoped>\n",
       "    .dataframe tbody tr th:only-of-type {\n",
       "        vertical-align: middle;\n",
       "    }\n",
       "\n",
       "    .dataframe tbody tr th {\n",
       "        vertical-align: top;\n",
       "    }\n",
       "\n",
       "    .dataframe thead th {\n",
       "        text-align: right;\n",
       "    }\n",
       "</style>\n",
       "<table border=\"1\" class=\"dataframe\">\n",
       "  <thead>\n",
       "    <tr style=\"text-align: right;\">\n",
       "      <th></th>\n",
       "      <th>counts</th>\n",
       "      <th>freqs</th>\n",
       "    </tr>\n",
       "    <tr>\n",
       "      <th>categories</th>\n",
       "      <th></th>\n",
       "      <th></th>\n",
       "    </tr>\n",
       "  </thead>\n",
       "  <tbody>\n",
       "    <tr>\n",
       "      <th>Hrv124</th>\n",
       "      <td>10731</td>\n",
       "      <td>0.094941</td>\n",
       "    </tr>\n",
       "    <tr>\n",
       "      <th>Hrv135</th>\n",
       "      <td>7325</td>\n",
       "      <td>0.064807</td>\n",
       "    </tr>\n",
       "    <tr>\n",
       "      <th>Hrv136</th>\n",
       "      <td>6047</td>\n",
       "      <td>0.053500</td>\n",
       "    </tr>\n",
       "    <tr>\n",
       "      <th>Hrv168</th>\n",
       "      <td>15769</td>\n",
       "      <td>0.139514</td>\n",
       "    </tr>\n",
       "    <tr>\n",
       "      <th>Hrv232</th>\n",
       "      <td>4809</td>\n",
       "      <td>0.042547</td>\n",
       "    </tr>\n",
       "    <tr>\n",
       "      <th>Hrv236</th>\n",
       "      <td>34929</td>\n",
       "      <td>0.309030</td>\n",
       "    </tr>\n",
       "    <tr>\n",
       "      <th>scDonor_Tg1</th>\n",
       "      <td>7957</td>\n",
       "      <td>0.070398</td>\n",
       "    </tr>\n",
       "    <tr>\n",
       "      <th>scDonor_Tg2</th>\n",
       "      <td>9468</td>\n",
       "      <td>0.083767</td>\n",
       "    </tr>\n",
       "    <tr>\n",
       "      <th>scDonor_Tg3</th>\n",
       "      <td>7071</td>\n",
       "      <td>0.062560</td>\n",
       "    </tr>\n",
       "    <tr>\n",
       "      <th>scDonor_Tg4</th>\n",
       "      <td>8922</td>\n",
       "      <td>0.078936</td>\n",
       "    </tr>\n",
       "  </tbody>\n",
       "</table>\n",
       "</div>"
      ],
      "text/plain": [
       "             counts     freqs\n",
       "categories                   \n",
       "Hrv124        10731  0.094941\n",
       "Hrv135         7325  0.064807\n",
       "Hrv136         6047  0.053500\n",
       "Hrv168        15769  0.139514\n",
       "Hrv232         4809  0.042547\n",
       "Hrv236        34929  0.309030\n",
       "scDonor_Tg1    7957  0.070398\n",
       "scDonor_Tg2    9468  0.083767\n",
       "scDonor_Tg3    7071  0.062560\n",
       "scDonor_Tg4    8922  0.078936"
      ]
     },
     "execution_count": 15,
     "metadata": {},
     "output_type": "execute_result"
    }
   ],
   "source": [
    "adata.obs['donor_id'].values.describe()"
   ]
  },
  {
   "cell_type": "code",
   "execution_count": 16,
   "id": "future-active",
   "metadata": {},
   "outputs": [
    {
     "data": {
      "text/html": [
       "<div>\n",
       "<style scoped>\n",
       "    .dataframe tbody tr th:only-of-type {\n",
       "        vertical-align: middle;\n",
       "    }\n",
       "\n",
       "    .dataframe tbody tr th {\n",
       "        vertical-align: top;\n",
       "    }\n",
       "\n",
       "    .dataframe thead th {\n",
       "        text-align: right;\n",
       "    }\n",
       "</style>\n",
       "<table border=\"1\" class=\"dataframe\">\n",
       "  <thead>\n",
       "    <tr style=\"text-align: right;\">\n",
       "      <th></th>\n",
       "      <th>counts</th>\n",
       "      <th>freqs</th>\n",
       "    </tr>\n",
       "    <tr>\n",
       "      <th>categories</th>\n",
       "      <th></th>\n",
       "      <th></th>\n",
       "    </tr>\n",
       "  </thead>\n",
       "  <tbody>\n",
       "    <tr>\n",
       "      <th>Lm_24h</th>\n",
       "      <td>17778</td>\n",
       "      <td>0.157288</td>\n",
       "    </tr>\n",
       "    <tr>\n",
       "      <th>Pf_24h</th>\n",
       "      <td>27100</td>\n",
       "      <td>0.239764</td>\n",
       "    </tr>\n",
       "    <tr>\n",
       "      <th>Tg_24h</th>\n",
       "      <td>16806</td>\n",
       "      <td>0.148689</td>\n",
       "    </tr>\n",
       "    <tr>\n",
       "      <th>UI_Lm_24h</th>\n",
       "      <td>13057</td>\n",
       "      <td>0.115520</td>\n",
       "    </tr>\n",
       "    <tr>\n",
       "      <th>UI_Pf_24h</th>\n",
       "      <td>21675</td>\n",
       "      <td>0.191767</td>\n",
       "    </tr>\n",
       "    <tr>\n",
       "      <th>UI_Tg_24h</th>\n",
       "      <td>16612</td>\n",
       "      <td>0.146972</td>\n",
       "    </tr>\n",
       "  </tbody>\n",
       "</table>\n",
       "</div>"
      ],
      "text/plain": [
       "            counts     freqs\n",
       "categories                  \n",
       "Lm_24h       17778  0.157288\n",
       "Pf_24h       27100  0.239764\n",
       "Tg_24h       16806  0.148689\n",
       "UI_Lm_24h    13057  0.115520\n",
       "UI_Pf_24h    21675  0.191767\n",
       "UI_Tg_24h    16612  0.146972"
      ]
     },
     "execution_count": 16,
     "metadata": {},
     "output_type": "execute_result"
    }
   ],
   "source": [
    "adata.obs['stage_perInfection'].values.describe()"
   ]
  },
  {
   "cell_type": "code",
   "execution_count": null,
   "id": "organized-reliance",
   "metadata": {},
   "outputs": [],
   "source": [
    "# Selecting 24h experiments only\n",
    "adata =adata[[ i in ['24h'] for i in adata.obs.hpi ]]"
   ]
  },
  {
   "cell_type": "code",
   "execution_count": 18,
   "id": "dramatic-davis",
   "metadata": {},
   "outputs": [
    {
     "name": "stdout",
     "output_type": "stream",
     "text": [
      "  (3, 1)\t1.0\n",
      "  (3, 6)\t3.0\n",
      "  (4, 1)\t4.0\n",
      "  (4, 2)\t3.0\n",
      "  (4, 6)\t1.0\n",
      "  (5, 6)\t1.0\n",
      "  (6, 1)\t1.0\n",
      "  (6, 2)\t1.0\n"
     ]
    }
   ],
   "source": [
    "print(adata.X[3:10,3:10])"
   ]
  },
  {
   "cell_type": "code",
   "execution_count": 19,
   "id": "expected-favor",
   "metadata": {},
   "outputs": [
    {
     "name": "stderr",
     "output_type": "stream",
     "text": [
      "Trying to set attribute `.obs` of view, copying.\n"
     ]
    }
   ],
   "source": [
    "sc.pp.normalize_per_cell(adata)\n",
    "sc.pp.log1p(adata)                                                                                                            \n",
    "# sc.pp.scale(adata, max_value=10)"
   ]
  },
  {
   "cell_type": "code",
   "execution_count": 20,
   "id": "rolled-malawi",
   "metadata": {},
   "outputs": [],
   "source": [
    "# saving the lognormalised dataset\n",
    "adata.write ('../data/lognormalised_24h.h5ad')"
   ]
  },
  {
   "cell_type": "code",
   "execution_count": 47,
   "id": "indie-omaha",
   "metadata": {},
   "outputs": [],
   "source": [
    "# Add cluster subname such that this new name will match with DEG cluster name\n",
    "adata.obs['cell_type']= adata.obs.cell_type.astype('string')+'.'+adata.obs.stage_perInfection.astype('string')"
   ]
  },
  {
   "cell_type": "code",
   "execution_count": 49,
   "id": "joined-ceramic",
   "metadata": {},
   "outputs": [
    {
     "name": "stderr",
     "output_type": "stream",
     "text": [
      "/opt/conda/lib/python3.8/site-packages/pandas/core/arrays/categorical.py:2487: FutureWarning: The `inplace` parameter in pandas.Categorical.remove_unused_categories is deprecated and will be removed in a future version.\n",
      "  res = method(*args, **kwargs)\n"
     ]
    }
   ],
   "source": [
    "#Compute % percent and average files - for making dot plots between infected vs control uninfected\n",
    "percent = grouped_obs_percent(adata, 'cell_type')\n",
    "pd.DataFrame(percent).to_csv('../data/inf_percent_24h.csv')\n",
    "\n",
    "means = grouped_obs_mean(adata, 'cell_type')\n",
    "pd.DataFrame(means).to_csv('../data/inf_average_log_24h.csv')"
   ]
  },
  {
   "cell_type": "code",
   "execution_count": 46,
   "id": "pointed-flush",
   "metadata": {},
   "outputs": [],
   "source": [
    "adata= sc.read('../data/lognormalised_24h.h5ad')"
   ]
  },
  {
   "cell_type": "code",
   "execution_count": 48,
   "id": "statutory-conflict",
   "metadata": {},
   "outputs": [
    {
     "data": {
      "text/plain": [
       "Pla_HDBR13007974_AAACCCAAGCGTTGTT             F.UI_Tg_24h\n",
       "Pla_HDBR13007974_AAACCCAAGTAGTCAA    VCT_fusing.UI_Tg_24h\n",
       "Pla_HDBR13007974_AAACCCACAATGAACA           HBC.UI_Tg_24h\n",
       "Pla_HDBR13007974_AAACCCACAGAGAGGG           HBC.UI_Tg_24h\n",
       "Pla_HDBR13007974_AAACCCACAGTAGAAT           HBC.UI_Tg_24h\n",
       "                                             ...         \n",
       "Pla_HDBR13661572_TTTGTTGAGGTTCATC              HBC.Lm_24h\n",
       "Pla_HDBR13661572_TTTGTTGCAAATTAGG           Endo_f.Lm_24h\n",
       "Pla_HDBR13661572_TTTGTTGCAATAGGGC                F.Lm_24h\n",
       "Pla_HDBR13661572_TTTGTTGGTGCTTATG           Endo_f.Lm_24h\n",
       "Pla_HDBR13661572_TTTGTTGGTGGTAACG            PAMM1.Lm_24h\n",
       "Name: cell_type, Length: 113028, dtype: string"
      ]
     },
     "execution_count": 48,
     "metadata": {},
     "output_type": "execute_result"
    }
   ],
   "source": [
    "adata.obs['cell_type']"
   ]
  },
  {
   "cell_type": "code",
   "execution_count": null,
   "id": "annoying-england",
   "metadata": {},
   "outputs": [],
   "source": []
  },
  {
   "cell_type": "markdown",
   "id": "raising-journey",
   "metadata": {},
   "source": [
    "# Malaria"
   ]
  },
  {
   "cell_type": "code",
   "execution_count": 23,
   "id": "original-bargain",
   "metadata": {},
   "outputs": [],
   "source": [
    "# loading malaria-only data\n",
    "adata = sc.read('../../data_integration/results/scVI/malaria_singleCell_24h.h5ad')"
   ]
  },
  {
   "cell_type": "code",
   "execution_count": 24,
   "id": "utility-victorian",
   "metadata": {},
   "outputs": [
    {
     "data": {
      "text/html": [
       "<div>\n",
       "<style scoped>\n",
       "    .dataframe tbody tr th:only-of-type {\n",
       "        vertical-align: middle;\n",
       "    }\n",
       "\n",
       "    .dataframe tbody tr th {\n",
       "        vertical-align: top;\n",
       "    }\n",
       "\n",
       "    .dataframe thead th {\n",
       "        text-align: right;\n",
       "    }\n",
       "</style>\n",
       "<table border=\"1\" class=\"dataframe\">\n",
       "  <thead>\n",
       "    <tr style=\"text-align: right;\">\n",
       "      <th></th>\n",
       "      <th>counts</th>\n",
       "      <th>freqs</th>\n",
       "    </tr>\n",
       "    <tr>\n",
       "      <th>categories</th>\n",
       "      <th></th>\n",
       "      <th></th>\n",
       "    </tr>\n",
       "  </thead>\n",
       "  <tbody>\n",
       "    <tr>\n",
       "      <th>EVT_1</th>\n",
       "      <td>301</td>\n",
       "      <td>0.006171</td>\n",
       "    </tr>\n",
       "    <tr>\n",
       "      <th>EVT_2</th>\n",
       "      <td>701</td>\n",
       "      <td>0.014372</td>\n",
       "    </tr>\n",
       "    <tr>\n",
       "      <th>Endo_f</th>\n",
       "      <td>5788</td>\n",
       "      <td>0.118667</td>\n",
       "    </tr>\n",
       "    <tr>\n",
       "      <th>F</th>\n",
       "      <td>9059</td>\n",
       "      <td>0.185730</td>\n",
       "    </tr>\n",
       "    <tr>\n",
       "      <th>F_p</th>\n",
       "      <td>566</td>\n",
       "      <td>0.011604</td>\n",
       "    </tr>\n",
       "    <tr>\n",
       "      <th>F_sm</th>\n",
       "      <td>483</td>\n",
       "      <td>0.009903</td>\n",
       "    </tr>\n",
       "    <tr>\n",
       "      <th>HBC</th>\n",
       "      <td>9000</td>\n",
       "      <td>0.184521</td>\n",
       "    </tr>\n",
       "    <tr>\n",
       "      <th>HBC_p</th>\n",
       "      <td>11</td>\n",
       "      <td>0.000226</td>\n",
       "    </tr>\n",
       "    <tr>\n",
       "      <th>PAMM1</th>\n",
       "      <td>2217</td>\n",
       "      <td>0.045454</td>\n",
       "    </tr>\n",
       "    <tr>\n",
       "      <th>PV</th>\n",
       "      <td>5606</td>\n",
       "      <td>0.114936</td>\n",
       "    </tr>\n",
       "    <tr>\n",
       "      <th>VCT</th>\n",
       "      <td>1597</td>\n",
       "      <td>0.032742</td>\n",
       "    </tr>\n",
       "    <tr>\n",
       "      <th>VCT_CCC</th>\n",
       "      <td>1411</td>\n",
       "      <td>0.028929</td>\n",
       "    </tr>\n",
       "    <tr>\n",
       "      <th>VCT_fusing</th>\n",
       "      <td>9172</td>\n",
       "      <td>0.188047</td>\n",
       "    </tr>\n",
       "    <tr>\n",
       "      <th>VCT_p</th>\n",
       "      <td>2147</td>\n",
       "      <td>0.044018</td>\n",
       "    </tr>\n",
       "    <tr>\n",
       "      <th>iEVT</th>\n",
       "      <td>716</td>\n",
       "      <td>0.014680</td>\n",
       "    </tr>\n",
       "  </tbody>\n",
       "</table>\n",
       "</div>"
      ],
      "text/plain": [
       "            counts     freqs\n",
       "categories                  \n",
       "EVT_1          301  0.006171\n",
       "EVT_2          701  0.014372\n",
       "Endo_f        5788  0.118667\n",
       "F             9059  0.185730\n",
       "F_p            566  0.011604\n",
       "F_sm           483  0.009903\n",
       "HBC           9000  0.184521\n",
       "HBC_p           11  0.000226\n",
       "PAMM1         2217  0.045454\n",
       "PV            5606  0.114936\n",
       "VCT           1597  0.032742\n",
       "VCT_CCC       1411  0.028929\n",
       "VCT_fusing    9172  0.188047\n",
       "VCT_p         2147  0.044018\n",
       "iEVT           716  0.014680"
      ]
     },
     "execution_count": 24,
     "metadata": {},
     "output_type": "execute_result"
    }
   ],
   "source": [
    "adata.obs['cell_type'].values.describe()"
   ]
  },
  {
   "cell_type": "code",
   "execution_count": 25,
   "id": "threatened-thailand",
   "metadata": {},
   "outputs": [
    {
     "name": "stderr",
     "output_type": "stream",
     "text": [
      "/opt/conda/lib/python3.8/site-packages/pandas/core/arrays/categorical.py:2487: FutureWarning: The `inplace` parameter in pandas.Categorical.remove_unused_categories is deprecated and will be removed in a future version.\n",
      "  res = method(*args, **kwargs)\n"
     ]
    }
   ],
   "source": [
    "sc.pp.normalize_per_cell(adata)\n",
    "sc.pp.log1p(adata)                                                                                                            \n",
    "# sc.pp.scale(adata, max_value=10)"
   ]
  },
  {
   "cell_type": "code",
   "execution_count": 26,
   "id": "central-separation",
   "metadata": {},
   "outputs": [],
   "source": [
    "# Add cluster subname such that this new name will match with DEG cluster name\n",
    "adata.obs['cell_type']= adata.obs.cell_type.astype('string')+'.'+adata.obs.infection.astype('string')"
   ]
  },
  {
   "cell_type": "code",
   "execution_count": null,
   "id": "curious-puppy",
   "metadata": {},
   "outputs": [],
   "source": []
  },
  {
   "cell_type": "code",
   "execution_count": 27,
   "id": "lesser-anaheim",
   "metadata": {},
   "outputs": [
    {
     "name": "stderr",
     "output_type": "stream",
     "text": [
      "/opt/conda/lib/python3.8/site-packages/pandas/core/arrays/categorical.py:2487: FutureWarning: The `inplace` parameter in pandas.Categorical.remove_unused_categories is deprecated and will be removed in a future version.\n",
      "  res = method(*args, **kwargs)\n"
     ]
    }
   ],
   "source": [
    "#Compute % percent and average files - for making dot plots between infected vs control uninfected\n",
    "percent = grouped_obs_percent(adata, 'cell_type')\n",
    "pd.DataFrame(percent).to_csv('../data/malaria_inf_percent_24h.csv')\n",
    "\n",
    "means = grouped_obs_mean(adata, 'cell_type')\n",
    "pd.DataFrame(means).to_csv('../data/malaria_inf_average_log_24h.csv')"
   ]
  },
  {
   "cell_type": "code",
   "execution_count": 29,
   "id": "sublime-bible",
   "metadata": {},
   "outputs": [
    {
     "data": {
      "text/html": [
       "<div>\n",
       "<style scoped>\n",
       "    .dataframe tbody tr th:only-of-type {\n",
       "        vertical-align: middle;\n",
       "    }\n",
       "\n",
       "    .dataframe tbody tr th {\n",
       "        vertical-align: top;\n",
       "    }\n",
       "\n",
       "    .dataframe thead th {\n",
       "        text-align: right;\n",
       "    }\n",
       "</style>\n",
       "<table border=\"1\" class=\"dataframe\">\n",
       "  <thead>\n",
       "    <tr style=\"text-align: right;\">\n",
       "      <th></th>\n",
       "      <th>counts</th>\n",
       "      <th>freqs</th>\n",
       "    </tr>\n",
       "    <tr>\n",
       "      <th>categories</th>\n",
       "      <th></th>\n",
       "      <th></th>\n",
       "    </tr>\n",
       "  </thead>\n",
       "  <tbody>\n",
       "    <tr>\n",
       "      <th>Pf</th>\n",
       "      <td>27100</td>\n",
       "      <td>0.555613</td>\n",
       "    </tr>\n",
       "    <tr>\n",
       "      <th>UI</th>\n",
       "      <td>21675</td>\n",
       "      <td>0.444387</td>\n",
       "    </tr>\n",
       "  </tbody>\n",
       "</table>\n",
       "</div>"
      ],
      "text/plain": [
       "            counts     freqs\n",
       "categories                  \n",
       "Pf           27100  0.555613\n",
       "UI           21675  0.444387"
      ]
     },
     "execution_count": 29,
     "metadata": {},
     "output_type": "execute_result"
    }
   ],
   "source": [
    "adata.obs['infection'].values.describe()"
   ]
  },
  {
   "cell_type": "code",
   "execution_count": null,
   "id": "vanilla-improvement",
   "metadata": {},
   "outputs": [],
   "source": []
  },
  {
   "cell_type": "code",
   "execution_count": null,
   "id": "convertible-facility",
   "metadata": {},
   "outputs": [],
   "source": []
  },
  {
   "cell_type": "markdown",
   "id": "final-oregon",
   "metadata": {},
   "source": [
    "# Listeria"
   ]
  },
  {
   "cell_type": "code",
   "execution_count": 30,
   "id": "seeing-chocolate",
   "metadata": {},
   "outputs": [],
   "source": [
    "# loading listeria-only data\n",
    "adata = sc.read('../../data_integration/results/scVI/listeria_singleCell_24h.h5ad')"
   ]
  },
  {
   "cell_type": "code",
   "execution_count": 31,
   "id": "continued-eleven",
   "metadata": {},
   "outputs": [
    {
     "data": {
      "text/html": [
       "<div>\n",
       "<style scoped>\n",
       "    .dataframe tbody tr th:only-of-type {\n",
       "        vertical-align: middle;\n",
       "    }\n",
       "\n",
       "    .dataframe tbody tr th {\n",
       "        vertical-align: top;\n",
       "    }\n",
       "\n",
       "    .dataframe thead th {\n",
       "        text-align: right;\n",
       "    }\n",
       "</style>\n",
       "<table border=\"1\" class=\"dataframe\">\n",
       "  <thead>\n",
       "    <tr style=\"text-align: right;\">\n",
       "      <th></th>\n",
       "      <th>counts</th>\n",
       "      <th>freqs</th>\n",
       "    </tr>\n",
       "    <tr>\n",
       "      <th>categories</th>\n",
       "      <th></th>\n",
       "      <th></th>\n",
       "    </tr>\n",
       "  </thead>\n",
       "  <tbody>\n",
       "    <tr>\n",
       "      <th>EVT_1</th>\n",
       "      <td>106</td>\n",
       "      <td>0.003438</td>\n",
       "    </tr>\n",
       "    <tr>\n",
       "      <th>EVT_2</th>\n",
       "      <td>602</td>\n",
       "      <td>0.019523</td>\n",
       "    </tr>\n",
       "    <tr>\n",
       "      <th>Endo_f</th>\n",
       "      <td>5714</td>\n",
       "      <td>0.185309</td>\n",
       "    </tr>\n",
       "    <tr>\n",
       "      <th>F</th>\n",
       "      <td>5017</td>\n",
       "      <td>0.162705</td>\n",
       "    </tr>\n",
       "    <tr>\n",
       "      <th>F_p</th>\n",
       "      <td>334</td>\n",
       "      <td>0.010832</td>\n",
       "    </tr>\n",
       "    <tr>\n",
       "      <th>F_sm</th>\n",
       "      <td>71</td>\n",
       "      <td>0.002303</td>\n",
       "    </tr>\n",
       "    <tr>\n",
       "      <th>HBC</th>\n",
       "      <td>7948</td>\n",
       "      <td>0.257759</td>\n",
       "    </tr>\n",
       "    <tr>\n",
       "      <th>HBC_p</th>\n",
       "      <td>18</td>\n",
       "      <td>0.000584</td>\n",
       "    </tr>\n",
       "    <tr>\n",
       "      <th>PAMM1</th>\n",
       "      <td>2055</td>\n",
       "      <td>0.066645</td>\n",
       "    </tr>\n",
       "    <tr>\n",
       "      <th>PV</th>\n",
       "      <td>3441</td>\n",
       "      <td>0.111594</td>\n",
       "    </tr>\n",
       "    <tr>\n",
       "      <th>VCT</th>\n",
       "      <td>1575</td>\n",
       "      <td>0.051078</td>\n",
       "    </tr>\n",
       "    <tr>\n",
       "      <th>VCT_CCC</th>\n",
       "      <td>536</td>\n",
       "      <td>0.017383</td>\n",
       "    </tr>\n",
       "    <tr>\n",
       "      <th>VCT_fusing</th>\n",
       "      <td>2682</td>\n",
       "      <td>0.086979</td>\n",
       "    </tr>\n",
       "    <tr>\n",
       "      <th>VCT_p</th>\n",
       "      <td>403</td>\n",
       "      <td>0.013070</td>\n",
       "    </tr>\n",
       "    <tr>\n",
       "      <th>iEVT</th>\n",
       "      <td>333</td>\n",
       "      <td>0.010799</td>\n",
       "    </tr>\n",
       "  </tbody>\n",
       "</table>\n",
       "</div>"
      ],
      "text/plain": [
       "            counts     freqs\n",
       "categories                  \n",
       "EVT_1          106  0.003438\n",
       "EVT_2          602  0.019523\n",
       "Endo_f        5714  0.185309\n",
       "F             5017  0.162705\n",
       "F_p            334  0.010832\n",
       "F_sm            71  0.002303\n",
       "HBC           7948  0.257759\n",
       "HBC_p           18  0.000584\n",
       "PAMM1         2055  0.066645\n",
       "PV            3441  0.111594\n",
       "VCT           1575  0.051078\n",
       "VCT_CCC        536  0.017383\n",
       "VCT_fusing    2682  0.086979\n",
       "VCT_p          403  0.013070\n",
       "iEVT           333  0.010799"
      ]
     },
     "execution_count": 31,
     "metadata": {},
     "output_type": "execute_result"
    }
   ],
   "source": [
    "adata.obs['cell_type'].values.describe()"
   ]
  },
  {
   "cell_type": "code",
   "execution_count": 32,
   "id": "stable-lexington",
   "metadata": {},
   "outputs": [
    {
     "name": "stderr",
     "output_type": "stream",
     "text": [
      "/opt/conda/lib/python3.8/site-packages/pandas/core/arrays/categorical.py:2487: FutureWarning: The `inplace` parameter in pandas.Categorical.remove_unused_categories is deprecated and will be removed in a future version.\n",
      "  res = method(*args, **kwargs)\n"
     ]
    }
   ],
   "source": [
    "sc.pp.normalize_per_cell(adata)\n",
    "sc.pp.log1p(adata)                                                                                                            \n",
    "# sc.pp.scale(adata, max_value=10)"
   ]
  },
  {
   "cell_type": "code",
   "execution_count": 33,
   "id": "lyric-viewer",
   "metadata": {},
   "outputs": [],
   "source": [
    "# Add cluster subname such that this new name will match with DEG cluster name\n",
    "adata.obs['cell_type']= adata.obs.cell_type.astype('string')+'.'+adata.obs.infection.astype('string')"
   ]
  },
  {
   "cell_type": "code",
   "execution_count": null,
   "id": "alleged-gibraltar",
   "metadata": {},
   "outputs": [],
   "source": []
  },
  {
   "cell_type": "code",
   "execution_count": 34,
   "id": "virtual-stage",
   "metadata": {},
   "outputs": [
    {
     "name": "stderr",
     "output_type": "stream",
     "text": [
      "/opt/conda/lib/python3.8/site-packages/pandas/core/arrays/categorical.py:2487: FutureWarning: The `inplace` parameter in pandas.Categorical.remove_unused_categories is deprecated and will be removed in a future version.\n",
      "  res = method(*args, **kwargs)\n"
     ]
    }
   ],
   "source": [
    "#Compute % percent and average files - for making dot plots between infected vs control uninfected\n",
    "percent = grouped_obs_percent(adata, 'cell_type')\n",
    "pd.DataFrame(percent).to_csv('../data/listeria_inf_percent_24h.csv')\n",
    "\n",
    "means = grouped_obs_mean(adata, 'cell_type')\n",
    "pd.DataFrame(means).to_csv('../data/listeria_inf_average_log_24h.csv')"
   ]
  },
  {
   "cell_type": "code",
   "execution_count": 35,
   "id": "healthy-tamil",
   "metadata": {},
   "outputs": [
    {
     "data": {
      "text/html": [
       "<div>\n",
       "<style scoped>\n",
       "    .dataframe tbody tr th:only-of-type {\n",
       "        vertical-align: middle;\n",
       "    }\n",
       "\n",
       "    .dataframe tbody tr th {\n",
       "        vertical-align: top;\n",
       "    }\n",
       "\n",
       "    .dataframe thead th {\n",
       "        text-align: right;\n",
       "    }\n",
       "</style>\n",
       "<table border=\"1\" class=\"dataframe\">\n",
       "  <thead>\n",
       "    <tr style=\"text-align: right;\">\n",
       "      <th></th>\n",
       "      <th>counts</th>\n",
       "      <th>freqs</th>\n",
       "    </tr>\n",
       "    <tr>\n",
       "      <th>categories</th>\n",
       "      <th></th>\n",
       "      <th></th>\n",
       "    </tr>\n",
       "  </thead>\n",
       "  <tbody>\n",
       "    <tr>\n",
       "      <th>Lm</th>\n",
       "      <td>17778</td>\n",
       "      <td>0.576553</td>\n",
       "    </tr>\n",
       "    <tr>\n",
       "      <th>UI</th>\n",
       "      <td>13057</td>\n",
       "      <td>0.423447</td>\n",
       "    </tr>\n",
       "  </tbody>\n",
       "</table>\n",
       "</div>"
      ],
      "text/plain": [
       "            counts     freqs\n",
       "categories                  \n",
       "Lm           17778  0.576553\n",
       "UI           13057  0.423447"
      ]
     },
     "execution_count": 35,
     "metadata": {},
     "output_type": "execute_result"
    }
   ],
   "source": [
    "adata.obs['infection'].values.describe()"
   ]
  },
  {
   "cell_type": "code",
   "execution_count": null,
   "id": "conventional-feelings",
   "metadata": {},
   "outputs": [],
   "source": []
  },
  {
   "cell_type": "code",
   "execution_count": null,
   "id": "adapted-israeli",
   "metadata": {},
   "outputs": [],
   "source": []
  },
  {
   "cell_type": "markdown",
   "id": "bigger-surgery",
   "metadata": {},
   "source": [
    "# Toxoplasma"
   ]
  },
  {
   "cell_type": "code",
   "execution_count": 36,
   "id": "engaged-encounter",
   "metadata": {},
   "outputs": [],
   "source": [
    "# loading toxoplasma-only data\n",
    "\n",
    "adata = sc.read('../../data_integration/results/scVI/toxoplasma_singleCell_24h.h5ad')"
   ]
  },
  {
   "cell_type": "code",
   "execution_count": 37,
   "id": "biblical-venice",
   "metadata": {},
   "outputs": [
    {
     "data": {
      "text/html": [
       "<div>\n",
       "<style scoped>\n",
       "    .dataframe tbody tr th:only-of-type {\n",
       "        vertical-align: middle;\n",
       "    }\n",
       "\n",
       "    .dataframe tbody tr th {\n",
       "        vertical-align: top;\n",
       "    }\n",
       "\n",
       "    .dataframe thead th {\n",
       "        text-align: right;\n",
       "    }\n",
       "</style>\n",
       "<table border=\"1\" class=\"dataframe\">\n",
       "  <thead>\n",
       "    <tr style=\"text-align: right;\">\n",
       "      <th></th>\n",
       "      <th>counts</th>\n",
       "      <th>freqs</th>\n",
       "    </tr>\n",
       "    <tr>\n",
       "      <th>categories</th>\n",
       "      <th></th>\n",
       "      <th></th>\n",
       "    </tr>\n",
       "  </thead>\n",
       "  <tbody>\n",
       "    <tr>\n",
       "      <th>EVT_1</th>\n",
       "      <td>223</td>\n",
       "      <td>0.006673</td>\n",
       "    </tr>\n",
       "    <tr>\n",
       "      <th>EVT_2</th>\n",
       "      <td>606</td>\n",
       "      <td>0.018134</td>\n",
       "    </tr>\n",
       "    <tr>\n",
       "      <th>Endo_f</th>\n",
       "      <td>3520</td>\n",
       "      <td>0.105332</td>\n",
       "    </tr>\n",
       "    <tr>\n",
       "      <th>F</th>\n",
       "      <td>4956</td>\n",
       "      <td>0.148303</td>\n",
       "    </tr>\n",
       "    <tr>\n",
       "      <th>F_p</th>\n",
       "      <td>420</td>\n",
       "      <td>0.012568</td>\n",
       "    </tr>\n",
       "    <tr>\n",
       "      <th>F_sm</th>\n",
       "      <td>309</td>\n",
       "      <td>0.009247</td>\n",
       "    </tr>\n",
       "    <tr>\n",
       "      <th>HBC</th>\n",
       "      <td>11481</td>\n",
       "      <td>0.343557</td>\n",
       "    </tr>\n",
       "    <tr>\n",
       "      <th>HBC_p</th>\n",
       "      <td>120</td>\n",
       "      <td>0.003591</td>\n",
       "    </tr>\n",
       "    <tr>\n",
       "      <th>PAMM1</th>\n",
       "      <td>1402</td>\n",
       "      <td>0.041953</td>\n",
       "    </tr>\n",
       "    <tr>\n",
       "      <th>PV</th>\n",
       "      <td>2635</td>\n",
       "      <td>0.078850</td>\n",
       "    </tr>\n",
       "    <tr>\n",
       "      <th>VCT</th>\n",
       "      <td>2796</td>\n",
       "      <td>0.083667</td>\n",
       "    </tr>\n",
       "    <tr>\n",
       "      <th>VCT_CCC</th>\n",
       "      <td>773</td>\n",
       "      <td>0.023131</td>\n",
       "    </tr>\n",
       "    <tr>\n",
       "      <th>VCT_fusing</th>\n",
       "      <td>2728</td>\n",
       "      <td>0.081633</td>\n",
       "    </tr>\n",
       "    <tr>\n",
       "      <th>VCT_p</th>\n",
       "      <td>1094</td>\n",
       "      <td>0.032737</td>\n",
       "    </tr>\n",
       "    <tr>\n",
       "      <th>iEVT</th>\n",
       "      <td>355</td>\n",
       "      <td>0.010623</td>\n",
       "    </tr>\n",
       "  </tbody>\n",
       "</table>\n",
       "</div>"
      ],
      "text/plain": [
       "            counts     freqs\n",
       "categories                  \n",
       "EVT_1          223  0.006673\n",
       "EVT_2          606  0.018134\n",
       "Endo_f        3520  0.105332\n",
       "F             4956  0.148303\n",
       "F_p            420  0.012568\n",
       "F_sm           309  0.009247\n",
       "HBC          11481  0.343557\n",
       "HBC_p          120  0.003591\n",
       "PAMM1         1402  0.041953\n",
       "PV            2635  0.078850\n",
       "VCT           2796  0.083667\n",
       "VCT_CCC        773  0.023131\n",
       "VCT_fusing    2728  0.081633\n",
       "VCT_p         1094  0.032737\n",
       "iEVT           355  0.010623"
      ]
     },
     "execution_count": 37,
     "metadata": {},
     "output_type": "execute_result"
    }
   ],
   "source": [
    "adata.obs['cell_type'].values.describe()"
   ]
  },
  {
   "cell_type": "code",
   "execution_count": 38,
   "id": "coordinated-double",
   "metadata": {},
   "outputs": [
    {
     "name": "stderr",
     "output_type": "stream",
     "text": [
      "/opt/conda/lib/python3.8/site-packages/pandas/core/arrays/categorical.py:2487: FutureWarning: The `inplace` parameter in pandas.Categorical.remove_unused_categories is deprecated and will be removed in a future version.\n",
      "  res = method(*args, **kwargs)\n"
     ]
    }
   ],
   "source": [
    "sc.pp.normalize_per_cell(adata)\n",
    "sc.pp.log1p(adata)                                                                                                            \n",
    "# sc.pp.scale(adata, max_value=10)"
   ]
  },
  {
   "cell_type": "code",
   "execution_count": 39,
   "id": "lyric-subscriber",
   "metadata": {},
   "outputs": [],
   "source": [
    "# Add cluster subname such that this new name will match with DEG cluster name\n",
    "adata.obs['cell_type']= adata.obs.cell_type.astype('string')+'.'+adata.obs.infection.astype('string')"
   ]
  },
  {
   "cell_type": "code",
   "execution_count": null,
   "id": "compliant-manual",
   "metadata": {},
   "outputs": [],
   "source": []
  },
  {
   "cell_type": "code",
   "execution_count": 40,
   "id": "still-drive",
   "metadata": {},
   "outputs": [
    {
     "name": "stderr",
     "output_type": "stream",
     "text": [
      "/opt/conda/lib/python3.8/site-packages/pandas/core/arrays/categorical.py:2487: FutureWarning: The `inplace` parameter in pandas.Categorical.remove_unused_categories is deprecated and will be removed in a future version.\n",
      "  res = method(*args, **kwargs)\n"
     ]
    }
   ],
   "source": [
    "#Compute % percent and average files - for making dot plots between infected vs control uninfected\n",
    "percent = grouped_obs_percent(adata, 'cell_type')\n",
    "pd.DataFrame(percent).to_csv('../data/toxoplasma_inf_percent_24h.csv')\n",
    "\n",
    "means = grouped_obs_mean(adata, 'cell_type')\n",
    "pd.DataFrame(means).to_csv('../data/toxoplasma_inf_average_log_24h.csv')"
   ]
  },
  {
   "cell_type": "code",
   "execution_count": 41,
   "id": "armed-battery",
   "metadata": {},
   "outputs": [
    {
     "data": {
      "text/html": [
       "<div>\n",
       "<style scoped>\n",
       "    .dataframe tbody tr th:only-of-type {\n",
       "        vertical-align: middle;\n",
       "    }\n",
       "\n",
       "    .dataframe tbody tr th {\n",
       "        vertical-align: top;\n",
       "    }\n",
       "\n",
       "    .dataframe thead th {\n",
       "        text-align: right;\n",
       "    }\n",
       "</style>\n",
       "<table border=\"1\" class=\"dataframe\">\n",
       "  <thead>\n",
       "    <tr style=\"text-align: right;\">\n",
       "      <th></th>\n",
       "      <th>counts</th>\n",
       "      <th>freqs</th>\n",
       "    </tr>\n",
       "    <tr>\n",
       "      <th>categories</th>\n",
       "      <th></th>\n",
       "      <th></th>\n",
       "    </tr>\n",
       "  </thead>\n",
       "  <tbody>\n",
       "    <tr>\n",
       "      <th>Tg</th>\n",
       "      <td>16806</td>\n",
       "      <td>0.502903</td>\n",
       "    </tr>\n",
       "    <tr>\n",
       "      <th>UI</th>\n",
       "      <td>16612</td>\n",
       "      <td>0.497097</td>\n",
       "    </tr>\n",
       "  </tbody>\n",
       "</table>\n",
       "</div>"
      ],
      "text/plain": [
       "            counts     freqs\n",
       "categories                  \n",
       "Tg           16806  0.502903\n",
       "UI           16612  0.497097"
      ]
     },
     "execution_count": 41,
     "metadata": {},
     "output_type": "execute_result"
    }
   ],
   "source": [
    "adata.obs['infection'].values.describe()"
   ]
  },
  {
   "cell_type": "code",
   "execution_count": null,
   "id": "chicken-signature",
   "metadata": {},
   "outputs": [],
   "source": []
  },
  {
   "cell_type": "code",
   "execution_count": null,
   "id": "substantial-bowling",
   "metadata": {},
   "outputs": [],
   "source": []
  },
  {
   "cell_type": "code",
   "execution_count": null,
   "id": "protecting-share",
   "metadata": {},
   "outputs": [],
   "source": []
  }
 ],
 "metadata": {
  "kernelspec": {
   "display_name": "Python 3",
   "language": "python",
   "name": "python3"
  },
  "language_info": {
   "codemirror_mode": {
    "name": "ipython",
    "version": 3
   },
   "file_extension": ".py",
   "mimetype": "text/x-python",
   "name": "python",
   "nbconvert_exporter": "python",
   "pygments_lexer": "ipython3",
   "version": "3.8.8"
  }
 },
 "nbformat": 4,
 "nbformat_minor": 5
}
