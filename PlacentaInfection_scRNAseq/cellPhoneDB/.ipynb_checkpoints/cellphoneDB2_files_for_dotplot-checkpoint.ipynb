{
 "cells": [
  {
   "cell_type": "markdown",
   "id": "another-greenhouse",
   "metadata": {},
   "source": [
    "## Generate cellphoneDB input files for making dotplots (infected vs uninfected)"
   ]
  },
  {
   "cell_type": "code",
   "execution_count": 1,
   "id": "interracial-soldier",
   "metadata": {},
   "outputs": [
    {
     "data": {
      "text/plain": [
       "'/opt/conda/bin/python'"
      ]
     },
     "execution_count": 1,
     "metadata": {},
     "output_type": "execute_result"
    }
   ],
   "source": [
    "import numpy as np\n",
    "import pandas as pd\n",
    "import scanpy as sc\n",
    "import anndata\n",
    "import os\n",
    "import sys\n",
    "sys.executable"
   ]
  },
  {
   "cell_type": "code",
   "execution_count": 2,
   "id": "neural-sleep",
   "metadata": {},
   "outputs": [],
   "source": [
    "def grouped_obs_percent(adata, group_key, layer=None, gene_symbols=None):\n",
    "    if layer is not None:\n",
    "        getX = lambda x: x.layers[layer]\n",
    "    else:\n",
    "        getX = lambda x: x.X\n",
    "    if gene_symbols is not None:\n",
    "        new_idx = adata.var[idx]\n",
    "    else:\n",
    "        new_idx = adata.var_names\n",
    "\n",
    "    grouped = adata.obs.groupby(group_key)\n",
    "    out = pd.DataFrame(\n",
    "        np.zeros((adata.shape[1], len(grouped)), dtype=np.float64),\n",
    "        columns=list(grouped.groups.keys()),\n",
    "        index=adata.var_names\n",
    "    )\n",
    "\n",
    "    for group, idx in grouped.indices.items():\n",
    "        X = getX(adata[idx])\n",
    "        X.data = X.data > 0.01\n",
    "        perc = np.asarray(np.sum(X,axis=0)/X.shape[0]).reshape(-1)\n",
    "        out[group] = [round(i, 2) for i in perc ]\n",
    "    return out\n",
    "\n",
    "def grouped_obs_mean(adata, group_key, layer=None, gene_symbols=None):\n",
    "    if layer is not None:\n",
    "        getX = lambda x: x.layers[layer]\n",
    "    else:\n",
    "        getX = lambda x: x.X\n",
    "    if gene_symbols is not None:\n",
    "        new_idx = adata.var[idx]\n",
    "    else:\n",
    "        new_idx = adata.var_names\n",
    "\n",
    "    grouped = adata.obs.groupby(group_key)\n",
    "    out = pd.DataFrame(\n",
    "        np.zeros((adata.shape[1], len(grouped)), dtype=np.float64),\n",
    "        columns=list(grouped.groups.keys()),\n",
    "        index=adata.var_names\n",
    "    )\n",
    "\n",
    "    for group, idx in grouped.indices.items():\n",
    "        X = getX(adata[idx])\n",
    "        out[group] = np.ravel(X.mean(axis=0, dtype=np.float64))\n",
    "    return out"
   ]
  },
  {
   "cell_type": "code",
   "execution_count": null,
   "id": "patent-official",
   "metadata": {},
   "outputs": [],
   "source": []
  },
  {
   "cell_type": "code",
   "execution_count": 3,
   "id": "sitting-method",
   "metadata": {},
   "outputs": [],
   "source": [
    "adata = sc.read ('../../data_integration/results/scVI/rna8_scVIintegrated_latent30_All_20230707.h5ad')"
   ]
  },
  {
   "cell_type": "code",
   "execution_count": 4,
   "id": "phantom-thing",
   "metadata": {},
   "outputs": [
    {
     "name": "stderr",
     "output_type": "stream",
     "text": [
      "/opt/conda/lib/python3.8/site-packages/pandas/core/arrays/categorical.py:2487: FutureWarning: The `inplace` parameter in pandas.Categorical.remove_unused_categories is deprecated and will be removed in a future version.\n",
      "  res = method(*args, **kwargs)\n"
     ]
    }
   ],
   "source": [
    "#keep good quality cells\n",
    "sc.pp.filter_cells(adata, min_genes=2000)\n",
    "# remove lowly expressed genes\n",
    "sc.pp.filter_genes(adata, min_counts=3)"
   ]
  },
  {
   "cell_type": "code",
   "execution_count": 5,
   "id": "missing-origin",
   "metadata": {},
   "outputs": [
    {
     "data": {
      "text/plain": [
       "AnnData object with n_obs × n_vars = 165128 × 32505\n",
       "    obs: 'sample', 'stage', 'hpi', 'infection', 'percent_mito', 'n_counts', 'sample_barcode', 'assignment_SoC', 'donor_id', 'scrublet_score', 'scrublet_cluster_score', 'zscore', 'bh_pval', 'bonf_pval', 'S_score', 'G2M_score', 'phase', 'n_genes_by_counts', 'total_counts', 'total_counts_hs', 'pct_counts_hs', 'total_counts_tg', 'pct_counts_tg', 'Tg_infected', 'n_genes', '_scvi_batch', '_scvi_labels', '_scvi_local_l_mean', '_scvi_local_l_var', 'leiden_scvi', 'scrublet_doublet', 'identity_2022', 'cell_type', 'souporcell_MFgenotype', 'MFgenotype', 'cell_type_broad', 'umap_density_Tg_infected', 'stage_perInfection', 'celltype-Stage', 'Tg_intracellular', 'celltype-Intracellular', 'celltype_predictions', 'probabilities', 'Dev_Stage'\n",
       "    var: 'gene_ids', 'feature_types', 'mean-0', 'std-0', 'mean-1', 'std-1', 'mean-2', 'std-2', 'highly_variable', 'highly_variable_rank', 'means', 'variances', 'variances_norm', 'n_counts'\n",
       "    uns: 'Dev_Stage_colors', 'MFgenotype_colors', '_scvi', 'cell_type_broad_colors', 'cell_type_colors', 'donor_id_colors', 'hpi_colors', 'hvg', 'identity_2022_colors', 'infection_colors', 'leiden', 'neighbors', 'sample_colors', 'scrublet_doublet_colors', 'umap', 'umap_density_Tg_infected_params'\n",
       "    obsm: 'X_scVI_n_latent_20', 'X_scVI_n_latent_30', 'X_scVI_n_latent_40', 'X_umap', '_scvi_extra_categoricals'\n",
       "    layers: 'raw_counts'\n",
       "    obsp: 'connectivities', 'distances'"
      ]
     },
     "execution_count": 5,
     "metadata": {},
     "output_type": "execute_result"
    }
   ],
   "source": [
    "adata"
   ]
  },
  {
   "cell_type": "code",
   "execution_count": null,
   "id": "racial-archive",
   "metadata": {},
   "outputs": [],
   "source": []
  },
  {
   "cell_type": "code",
   "execution_count": 6,
   "id": "frozen-belly",
   "metadata": {},
   "outputs": [
    {
     "data": {
      "text/html": [
       "<div>\n",
       "<style scoped>\n",
       "    .dataframe tbody tr th:only-of-type {\n",
       "        vertical-align: middle;\n",
       "    }\n",
       "\n",
       "    .dataframe tbody tr th {\n",
       "        vertical-align: top;\n",
       "    }\n",
       "\n",
       "    .dataframe thead th {\n",
       "        text-align: right;\n",
       "    }\n",
       "</style>\n",
       "<table border=\"1\" class=\"dataframe\">\n",
       "  <thead>\n",
       "    <tr style=\"text-align: right;\">\n",
       "      <th></th>\n",
       "      <th>counts</th>\n",
       "      <th>freqs</th>\n",
       "    </tr>\n",
       "    <tr>\n",
       "      <th>categories</th>\n",
       "      <th></th>\n",
       "      <th></th>\n",
       "    </tr>\n",
       "  </thead>\n",
       "  <tbody>\n",
       "    <tr>\n",
       "      <th>Hrv124</th>\n",
       "      <td>10440</td>\n",
       "      <td>0.063224</td>\n",
       "    </tr>\n",
       "    <tr>\n",
       "      <th>Hrv135</th>\n",
       "      <td>9140</td>\n",
       "      <td>0.055351</td>\n",
       "    </tr>\n",
       "    <tr>\n",
       "      <th>Hrv136</th>\n",
       "      <td>12686</td>\n",
       "      <td>0.076825</td>\n",
       "    </tr>\n",
       "    <tr>\n",
       "      <th>Hrv168</th>\n",
       "      <td>15012</td>\n",
       "      <td>0.090911</td>\n",
       "    </tr>\n",
       "    <tr>\n",
       "      <th>Hrv225</th>\n",
       "      <td>508</td>\n",
       "      <td>0.003076</td>\n",
       "    </tr>\n",
       "    <tr>\n",
       "      <th>Hrv232</th>\n",
       "      <td>8369</td>\n",
       "      <td>0.050682</td>\n",
       "    </tr>\n",
       "    <tr>\n",
       "      <th>Hrv236</th>\n",
       "      <td>48259</td>\n",
       "      <td>0.292252</td>\n",
       "    </tr>\n",
       "    <tr>\n",
       "      <th>scDonor_Tg1</th>\n",
       "      <td>13387</td>\n",
       "      <td>0.081070</td>\n",
       "    </tr>\n",
       "    <tr>\n",
       "      <th>scDonor_Tg2</th>\n",
       "      <td>15450</td>\n",
       "      <td>0.093564</td>\n",
       "    </tr>\n",
       "    <tr>\n",
       "      <th>scDonor_Tg3</th>\n",
       "      <td>14111</td>\n",
       "      <td>0.085455</td>\n",
       "    </tr>\n",
       "    <tr>\n",
       "      <th>scDonor_Tg4</th>\n",
       "      <td>17766</td>\n",
       "      <td>0.107589</td>\n",
       "    </tr>\n",
       "  </tbody>\n",
       "</table>\n",
       "</div>"
      ],
      "text/plain": [
       "             counts     freqs\n",
       "categories                   \n",
       "Hrv124        10440  0.063224\n",
       "Hrv135         9140  0.055351\n",
       "Hrv136        12686  0.076825\n",
       "Hrv168        15012  0.090911\n",
       "Hrv225          508  0.003076\n",
       "Hrv232         8369  0.050682\n",
       "Hrv236        48259  0.292252\n",
       "scDonor_Tg1   13387  0.081070\n",
       "scDonor_Tg2   15450  0.093564\n",
       "scDonor_Tg3   14111  0.085455\n",
       "scDonor_Tg4   17766  0.107589"
      ]
     },
     "execution_count": 6,
     "metadata": {},
     "output_type": "execute_result"
    }
   ],
   "source": [
    "adata.obs['donor_id'].values.describe()"
   ]
  },
  {
   "cell_type": "code",
   "execution_count": 7,
   "id": "plastic-liability",
   "metadata": {},
   "outputs": [
    {
     "data": {
      "text/html": [
       "<div>\n",
       "<style scoped>\n",
       "    .dataframe tbody tr th:only-of-type {\n",
       "        vertical-align: middle;\n",
       "    }\n",
       "\n",
       "    .dataframe tbody tr th {\n",
       "        vertical-align: top;\n",
       "    }\n",
       "\n",
       "    .dataframe thead th {\n",
       "        text-align: right;\n",
       "    }\n",
       "</style>\n",
       "<table border=\"1\" class=\"dataframe\">\n",
       "  <thead>\n",
       "    <tr style=\"text-align: right;\">\n",
       "      <th></th>\n",
       "      <th>counts</th>\n",
       "      <th>freqs</th>\n",
       "    </tr>\n",
       "    <tr>\n",
       "      <th>categories</th>\n",
       "      <th></th>\n",
       "      <th></th>\n",
       "    </tr>\n",
       "  </thead>\n",
       "  <tbody>\n",
       "    <tr>\n",
       "      <th>Lm_24h</th>\n",
       "      <td>15740</td>\n",
       "      <td>0.095320</td>\n",
       "    </tr>\n",
       "    <tr>\n",
       "      <th>Lm_48h</th>\n",
       "      <td>12013</td>\n",
       "      <td>0.072750</td>\n",
       "    </tr>\n",
       "    <tr>\n",
       "      <th>Pf_24h</th>\n",
       "      <td>26298</td>\n",
       "      <td>0.159258</td>\n",
       "    </tr>\n",
       "    <tr>\n",
       "      <th>Pf_48h</th>\n",
       "      <td>2572</td>\n",
       "      <td>0.015576</td>\n",
       "    </tr>\n",
       "    <tr>\n",
       "      <th>Tg_24h</th>\n",
       "      <td>16635</td>\n",
       "      <td>0.100740</td>\n",
       "    </tr>\n",
       "    <tr>\n",
       "      <th>Tg_48h</th>\n",
       "      <td>12750</td>\n",
       "      <td>0.077213</td>\n",
       "    </tr>\n",
       "    <tr>\n",
       "      <th>UI_Lm_24h</th>\n",
       "      <td>12952</td>\n",
       "      <td>0.078436</td>\n",
       "    </tr>\n",
       "    <tr>\n",
       "      <th>UI_Lm_48h</th>\n",
       "      <td>10578</td>\n",
       "      <td>0.064059</td>\n",
       "    </tr>\n",
       "    <tr>\n",
       "      <th>UI_Pf_24h</th>\n",
       "      <td>21090</td>\n",
       "      <td>0.127719</td>\n",
       "    </tr>\n",
       "    <tr>\n",
       "      <th>UI_Pf_48h</th>\n",
       "      <td>3171</td>\n",
       "      <td>0.019203</td>\n",
       "    </tr>\n",
       "    <tr>\n",
       "      <th>UI_Tg_24h</th>\n",
       "      <td>16286</td>\n",
       "      <td>0.098627</td>\n",
       "    </tr>\n",
       "    <tr>\n",
       "      <th>UI_Tg_48h</th>\n",
       "      <td>15043</td>\n",
       "      <td>0.091099</td>\n",
       "    </tr>\n",
       "  </tbody>\n",
       "</table>\n",
       "</div>"
      ],
      "text/plain": [
       "            counts     freqs\n",
       "categories                  \n",
       "Lm_24h       15740  0.095320\n",
       "Lm_48h       12013  0.072750\n",
       "Pf_24h       26298  0.159258\n",
       "Pf_48h        2572  0.015576\n",
       "Tg_24h       16635  0.100740\n",
       "Tg_48h       12750  0.077213\n",
       "UI_Lm_24h    12952  0.078436\n",
       "UI_Lm_48h    10578  0.064059\n",
       "UI_Pf_24h    21090  0.127719\n",
       "UI_Pf_48h     3171  0.019203\n",
       "UI_Tg_24h    16286  0.098627\n",
       "UI_Tg_48h    15043  0.091099"
      ]
     },
     "execution_count": 7,
     "metadata": {},
     "output_type": "execute_result"
    }
   ],
   "source": [
    "adata.obs['stage_perInfection'].values.describe()"
   ]
  },
  {
   "cell_type": "code",
   "execution_count": 8,
   "id": "electric-variation",
   "metadata": {},
   "outputs": [
    {
     "name": "stderr",
     "output_type": "stream",
     "text": [
      "/opt/conda/lib/python3.8/site-packages/pandas/core/arrays/categorical.py:2487: FutureWarning: The `inplace` parameter in pandas.Categorical.remove_unused_categories is deprecated and will be removed in a future version.\n",
      "  res = method(*args, **kwargs)\n"
     ]
    }
   ],
   "source": [
    "adata =adata[[ i in ['24h'] for i in adata.obs.hpi ]]"
   ]
  },
  {
   "cell_type": "code",
   "execution_count": 9,
   "id": "several-coupon",
   "metadata": {},
   "outputs": [
    {
     "name": "stdout",
     "output_type": "stream",
     "text": [
      "  (0, 0)\t3.0\n",
      "  (0, 1)\t1.0\n",
      "  (1, 0)\t3.0\n",
      "  (2, 0)\t19.0\n",
      "  (2, 1)\t2.0\n",
      "  (2, 2)\t2.0\n",
      "  (3, 0)\t9.0\n",
      "  (3, 1)\t5.0\n",
      "  (3, 3)\t1.0\n",
      "  (3, 5)\t1.0\n",
      "  (4, 0)\t2.0\n",
      "  (5, 0)\t10.0\n",
      "  (5, 5)\t1.0\n"
     ]
    }
   ],
   "source": [
    "print(adata.X[3:10,3:10])"
   ]
  },
  {
   "cell_type": "code",
   "execution_count": 10,
   "id": "approximate-insulation",
   "metadata": {},
   "outputs": [
    {
     "name": "stderr",
     "output_type": "stream",
     "text": [
      "Trying to set attribute `.obs` of view, copying.\n"
     ]
    }
   ],
   "source": [
    "sc.pp.normalize_per_cell(adata)\n",
    "sc.pp.log1p(adata)                                                                                                            \n",
    "# sc.pp.scale(adata, max_value=10)"
   ]
  },
  {
   "cell_type": "code",
   "execution_count": 11,
   "id": "national-pilot",
   "metadata": {},
   "outputs": [],
   "source": [
    "adata.write ('../data/lognormalised_24h.h5ad')"
   ]
  },
  {
   "cell_type": "code",
   "execution_count": 12,
   "id": "biological-margin",
   "metadata": {},
   "outputs": [],
   "source": [
    "# Add cluster subname such that this new name will match with DEG cluster name\n",
    "adata.obs['cell_type']= adata.obs.cell_type.astype('string')+'.'+adata.obs.stage_perInfection.astype('string')"
   ]
  },
  {
   "cell_type": "code",
   "execution_count": 13,
   "id": "alive-metadata",
   "metadata": {},
   "outputs": [
    {
     "name": "stderr",
     "output_type": "stream",
     "text": [
      "/opt/conda/lib/python3.8/site-packages/pandas/core/arrays/categorical.py:2487: FutureWarning: The `inplace` parameter in pandas.Categorical.remove_unused_categories is deprecated and will be removed in a future version.\n",
      "  res = method(*args, **kwargs)\n"
     ]
    }
   ],
   "source": [
    "#Compute % percent and average files - for making dot plots between infected vs control uninfected\n",
    "percent = grouped_obs_percent(adata, 'cell_type')\n",
    "pd.DataFrame(percent).to_csv('../data/inf_percent_24h.csv')\n",
    "\n",
    "means = grouped_obs_mean(adata, 'cell_type')\n",
    "pd.DataFrame(means).to_csv('../data/inf_average_log_24h.csv')"
   ]
  },
  {
   "cell_type": "code",
   "execution_count": null,
   "id": "individual-original",
   "metadata": {},
   "outputs": [],
   "source": []
  },
  {
   "cell_type": "markdown",
   "id": "integral-cattle",
   "metadata": {},
   "source": [
    "## Malaria"
   ]
  },
  {
   "cell_type": "code",
   "execution_count": 14,
   "id": "metropolitan-printing",
   "metadata": {},
   "outputs": [],
   "source": [
    "adata = sc.read('../../diffGeneExpression/macrophages/data/malaria_singleCell_24h.h5ad')"
   ]
  },
  {
   "cell_type": "code",
   "execution_count": 15,
   "id": "strange-armor",
   "metadata": {},
   "outputs": [
    {
     "data": {
      "text/html": [
       "<div>\n",
       "<style scoped>\n",
       "    .dataframe tbody tr th:only-of-type {\n",
       "        vertical-align: middle;\n",
       "    }\n",
       "\n",
       "    .dataframe tbody tr th {\n",
       "        vertical-align: top;\n",
       "    }\n",
       "\n",
       "    .dataframe thead th {\n",
       "        text-align: right;\n",
       "    }\n",
       "</style>\n",
       "<table border=\"1\" class=\"dataframe\">\n",
       "  <thead>\n",
       "    <tr style=\"text-align: right;\">\n",
       "      <th></th>\n",
       "      <th>counts</th>\n",
       "      <th>freqs</th>\n",
       "    </tr>\n",
       "    <tr>\n",
       "      <th>categories</th>\n",
       "      <th></th>\n",
       "      <th></th>\n",
       "    </tr>\n",
       "  </thead>\n",
       "  <tbody>\n",
       "    <tr>\n",
       "      <th>EVT_1</th>\n",
       "      <td>298</td>\n",
       "      <td>0.005914</td>\n",
       "    </tr>\n",
       "    <tr>\n",
       "      <th>EVT_2</th>\n",
       "      <td>771</td>\n",
       "      <td>0.015302</td>\n",
       "    </tr>\n",
       "    <tr>\n",
       "      <th>Endo_f</th>\n",
       "      <td>5781</td>\n",
       "      <td>0.114732</td>\n",
       "    </tr>\n",
       "    <tr>\n",
       "      <th>F</th>\n",
       "      <td>9138</td>\n",
       "      <td>0.181356</td>\n",
       "    </tr>\n",
       "    <tr>\n",
       "      <th>F_p</th>\n",
       "      <td>246</td>\n",
       "      <td>0.004882</td>\n",
       "    </tr>\n",
       "    <tr>\n",
       "      <th>F_sm</th>\n",
       "      <td>689</td>\n",
       "      <td>0.013674</td>\n",
       "    </tr>\n",
       "    <tr>\n",
       "      <th>HBC</th>\n",
       "      <td>10025</td>\n",
       "      <td>0.198960</td>\n",
       "    </tr>\n",
       "    <tr>\n",
       "      <th>HBC_p</th>\n",
       "      <td>8</td>\n",
       "      <td>0.000159</td>\n",
       "    </tr>\n",
       "    <tr>\n",
       "      <th>PAMM1</th>\n",
       "      <td>2603</td>\n",
       "      <td>0.051660</td>\n",
       "    </tr>\n",
       "    <tr>\n",
       "      <th>PV</th>\n",
       "      <td>5649</td>\n",
       "      <td>0.112112</td>\n",
       "    </tr>\n",
       "    <tr>\n",
       "      <th>VCT</th>\n",
       "      <td>1650</td>\n",
       "      <td>0.032747</td>\n",
       "    </tr>\n",
       "    <tr>\n",
       "      <th>VCT_CCC</th>\n",
       "      <td>2498</td>\n",
       "      <td>0.049576</td>\n",
       "    </tr>\n",
       "    <tr>\n",
       "      <th>VCT_fusing</th>\n",
       "      <td>8988</td>\n",
       "      <td>0.178379</td>\n",
       "    </tr>\n",
       "    <tr>\n",
       "      <th>VCT_p</th>\n",
       "      <td>1510</td>\n",
       "      <td>0.029968</td>\n",
       "    </tr>\n",
       "    <tr>\n",
       "      <th>iEVT</th>\n",
       "      <td>533</td>\n",
       "      <td>0.010578</td>\n",
       "    </tr>\n",
       "  </tbody>\n",
       "</table>\n",
       "</div>"
      ],
      "text/plain": [
       "            counts     freqs\n",
       "categories                  \n",
       "EVT_1          298  0.005914\n",
       "EVT_2          771  0.015302\n",
       "Endo_f        5781  0.114732\n",
       "F             9138  0.181356\n",
       "F_p            246  0.004882\n",
       "F_sm           689  0.013674\n",
       "HBC          10025  0.198960\n",
       "HBC_p            8  0.000159\n",
       "PAMM1         2603  0.051660\n",
       "PV            5649  0.112112\n",
       "VCT           1650  0.032747\n",
       "VCT_CCC       2498  0.049576\n",
       "VCT_fusing    8988  0.178379\n",
       "VCT_p         1510  0.029968\n",
       "iEVT           533  0.010578"
      ]
     },
     "execution_count": 15,
     "metadata": {},
     "output_type": "execute_result"
    }
   ],
   "source": [
    "adata.obs['cell_type'].values.describe()"
   ]
  },
  {
   "cell_type": "code",
   "execution_count": 16,
   "id": "built-sponsorship",
   "metadata": {},
   "outputs": [
    {
     "name": "stderr",
     "output_type": "stream",
     "text": [
      "/opt/conda/lib/python3.8/site-packages/pandas/core/arrays/categorical.py:2487: FutureWarning: The `inplace` parameter in pandas.Categorical.remove_unused_categories is deprecated and will be removed in a future version.\n",
      "  res = method(*args, **kwargs)\n"
     ]
    }
   ],
   "source": [
    "sc.pp.normalize_per_cell(adata)\n",
    "sc.pp.log1p(adata)                                                                                                            \n",
    "# sc.pp.scale(adata, max_value=10)"
   ]
  },
  {
   "cell_type": "code",
   "execution_count": 17,
   "id": "mechanical-delivery",
   "metadata": {},
   "outputs": [],
   "source": [
    "# Add cluster subname such that this new name will match with DEG cluster name\n",
    "adata.obs['cell_type']= adata.obs.cell_type.astype('string')+'.'+adata.obs.stage_perInfection.astype('string')"
   ]
  },
  {
   "cell_type": "code",
   "execution_count": null,
   "id": "flying-traffic",
   "metadata": {},
   "outputs": [],
   "source": []
  },
  {
   "cell_type": "code",
   "execution_count": 18,
   "id": "common-lighter",
   "metadata": {},
   "outputs": [
    {
     "name": "stderr",
     "output_type": "stream",
     "text": [
      "/opt/conda/lib/python3.8/site-packages/pandas/core/arrays/categorical.py:2487: FutureWarning: The `inplace` parameter in pandas.Categorical.remove_unused_categories is deprecated and will be removed in a future version.\n",
      "  res = method(*args, **kwargs)\n"
     ]
    }
   ],
   "source": [
    "#Compute % percent and average files - for making dot plots between infected vs control uninfected\n",
    "percent = grouped_obs_percent(adata, 'cell_type')\n",
    "pd.DataFrame(percent).to_csv('../data/malaria_inf_percent_24h.csv')\n",
    "\n",
    "means = grouped_obs_mean(adata, 'cell_type')\n",
    "pd.DataFrame(means).to_csv('../data/malaria_inf_average_log_24h.csv')"
   ]
  },
  {
   "cell_type": "code",
   "execution_count": 19,
   "id": "hidden-stupid",
   "metadata": {},
   "outputs": [
    {
     "data": {
      "text/html": [
       "<div>\n",
       "<style scoped>\n",
       "    .dataframe tbody tr th:only-of-type {\n",
       "        vertical-align: middle;\n",
       "    }\n",
       "\n",
       "    .dataframe tbody tr th {\n",
       "        vertical-align: top;\n",
       "    }\n",
       "\n",
       "    .dataframe thead th {\n",
       "        text-align: right;\n",
       "    }\n",
       "</style>\n",
       "<table border=\"1\" class=\"dataframe\">\n",
       "  <thead>\n",
       "    <tr style=\"text-align: right;\">\n",
       "      <th></th>\n",
       "      <th>counts</th>\n",
       "      <th>freqs</th>\n",
       "    </tr>\n",
       "    <tr>\n",
       "      <th>categories</th>\n",
       "      <th></th>\n",
       "      <th></th>\n",
       "    </tr>\n",
       "  </thead>\n",
       "  <tbody>\n",
       "    <tr>\n",
       "      <th>Pf</th>\n",
       "      <td>27971</td>\n",
       "      <td>0.555123</td>\n",
       "    </tr>\n",
       "    <tr>\n",
       "      <th>UI</th>\n",
       "      <td>22416</td>\n",
       "      <td>0.444877</td>\n",
       "    </tr>\n",
       "  </tbody>\n",
       "</table>\n",
       "</div>"
      ],
      "text/plain": [
       "            counts     freqs\n",
       "categories                  \n",
       "Pf           27971  0.555123\n",
       "UI           22416  0.444877"
      ]
     },
     "execution_count": 19,
     "metadata": {},
     "output_type": "execute_result"
    }
   ],
   "source": [
    "adata.obs['infection'].values.describe()"
   ]
  },
  {
   "cell_type": "code",
   "execution_count": null,
   "id": "tropical-brass",
   "metadata": {},
   "outputs": [],
   "source": []
  },
  {
   "cell_type": "code",
   "execution_count": null,
   "id": "first-somerset",
   "metadata": {},
   "outputs": [],
   "source": []
  },
  {
   "cell_type": "markdown",
   "id": "funky-perception",
   "metadata": {},
   "source": [
    "## Listeria"
   ]
  },
  {
   "cell_type": "code",
   "execution_count": 20,
   "id": "verbal-flour",
   "metadata": {},
   "outputs": [],
   "source": [
    "adata = sc.read('../../diffGeneExpression/macrophages/data/listeria_singleCell_24h.h5ad')"
   ]
  },
  {
   "cell_type": "code",
   "execution_count": 21,
   "id": "damaged-hierarchy",
   "metadata": {},
   "outputs": [
    {
     "data": {
      "text/html": [
       "<div>\n",
       "<style scoped>\n",
       "    .dataframe tbody tr th:only-of-type {\n",
       "        vertical-align: middle;\n",
       "    }\n",
       "\n",
       "    .dataframe tbody tr th {\n",
       "        vertical-align: top;\n",
       "    }\n",
       "\n",
       "    .dataframe thead th {\n",
       "        text-align: right;\n",
       "    }\n",
       "</style>\n",
       "<table border=\"1\" class=\"dataframe\">\n",
       "  <thead>\n",
       "    <tr style=\"text-align: right;\">\n",
       "      <th></th>\n",
       "      <th>counts</th>\n",
       "      <th>freqs</th>\n",
       "    </tr>\n",
       "    <tr>\n",
       "      <th>categories</th>\n",
       "      <th></th>\n",
       "      <th></th>\n",
       "    </tr>\n",
       "  </thead>\n",
       "  <tbody>\n",
       "    <tr>\n",
       "      <th>EVT_1</th>\n",
       "      <td>107</td>\n",
       "      <td>0.003658</td>\n",
       "    </tr>\n",
       "    <tr>\n",
       "      <th>EVT_2</th>\n",
       "      <td>730</td>\n",
       "      <td>0.024958</td>\n",
       "    </tr>\n",
       "    <tr>\n",
       "      <th>Endo_f</th>\n",
       "      <td>4833</td>\n",
       "      <td>0.165236</td>\n",
       "    </tr>\n",
       "    <tr>\n",
       "      <th>F</th>\n",
       "      <td>4987</td>\n",
       "      <td>0.170502</td>\n",
       "    </tr>\n",
       "    <tr>\n",
       "      <th>F_p</th>\n",
       "      <td>91</td>\n",
       "      <td>0.003111</td>\n",
       "    </tr>\n",
       "    <tr>\n",
       "      <th>F_sm</th>\n",
       "      <td>108</td>\n",
       "      <td>0.003692</td>\n",
       "    </tr>\n",
       "    <tr>\n",
       "      <th>HBC</th>\n",
       "      <td>7953</td>\n",
       "      <td>0.271907</td>\n",
       "    </tr>\n",
       "    <tr>\n",
       "      <th>HBC_p</th>\n",
       "      <td>5</td>\n",
       "      <td>0.000171</td>\n",
       "    </tr>\n",
       "    <tr>\n",
       "      <th>PAMM1</th>\n",
       "      <td>1976</td>\n",
       "      <td>0.067558</td>\n",
       "    </tr>\n",
       "    <tr>\n",
       "      <th>PV</th>\n",
       "      <td>3093</td>\n",
       "      <td>0.105747</td>\n",
       "    </tr>\n",
       "    <tr>\n",
       "      <th>VCT</th>\n",
       "      <td>1635</td>\n",
       "      <td>0.055899</td>\n",
       "    </tr>\n",
       "    <tr>\n",
       "      <th>VCT_CCC</th>\n",
       "      <td>701</td>\n",
       "      <td>0.023967</td>\n",
       "    </tr>\n",
       "    <tr>\n",
       "      <th>VCT_fusing</th>\n",
       "      <td>2638</td>\n",
       "      <td>0.090191</td>\n",
       "    </tr>\n",
       "    <tr>\n",
       "      <th>VCT_p</th>\n",
       "      <td>248</td>\n",
       "      <td>0.008479</td>\n",
       "    </tr>\n",
       "    <tr>\n",
       "      <th>iEVT</th>\n",
       "      <td>144</td>\n",
       "      <td>0.004923</td>\n",
       "    </tr>\n",
       "  </tbody>\n",
       "</table>\n",
       "</div>"
      ],
      "text/plain": [
       "            counts     freqs\n",
       "categories                  \n",
       "EVT_1          107  0.003658\n",
       "EVT_2          730  0.024958\n",
       "Endo_f        4833  0.165236\n",
       "F             4987  0.170502\n",
       "F_p             91  0.003111\n",
       "F_sm           108  0.003692\n",
       "HBC           7953  0.271907\n",
       "HBC_p            5  0.000171\n",
       "PAMM1         1976  0.067558\n",
       "PV            3093  0.105747\n",
       "VCT           1635  0.055899\n",
       "VCT_CCC        701  0.023967\n",
       "VCT_fusing    2638  0.090191\n",
       "VCT_p          248  0.008479\n",
       "iEVT           144  0.004923"
      ]
     },
     "execution_count": 21,
     "metadata": {},
     "output_type": "execute_result"
    }
   ],
   "source": [
    "adata.obs['cell_type'].values.describe()"
   ]
  },
  {
   "cell_type": "code",
   "execution_count": 22,
   "id": "enhanced-vinyl",
   "metadata": {},
   "outputs": [
    {
     "name": "stderr",
     "output_type": "stream",
     "text": [
      "/opt/conda/lib/python3.8/site-packages/pandas/core/arrays/categorical.py:2487: FutureWarning: The `inplace` parameter in pandas.Categorical.remove_unused_categories is deprecated and will be removed in a future version.\n",
      "  res = method(*args, **kwargs)\n"
     ]
    }
   ],
   "source": [
    "sc.pp.normalize_per_cell(adata)\n",
    "sc.pp.log1p(adata)                                                                                                            \n",
    "# sc.pp.scale(adata, max_value=10)"
   ]
  },
  {
   "cell_type": "code",
   "execution_count": 23,
   "id": "acute-turtle",
   "metadata": {},
   "outputs": [],
   "source": [
    "# Add cluster subname such that this new name will match with DEG cluster name\n",
    "adata.obs['cell_type']= adata.obs.cell_type.astype('string')+'.'+adata.obs.stage_perInfection.astype('string')"
   ]
  },
  {
   "cell_type": "code",
   "execution_count": null,
   "id": "adjusted-surgery",
   "metadata": {},
   "outputs": [],
   "source": []
  },
  {
   "cell_type": "code",
   "execution_count": 24,
   "id": "educated-practice",
   "metadata": {},
   "outputs": [
    {
     "name": "stderr",
     "output_type": "stream",
     "text": [
      "/opt/conda/lib/python3.8/site-packages/pandas/core/arrays/categorical.py:2487: FutureWarning: The `inplace` parameter in pandas.Categorical.remove_unused_categories is deprecated and will be removed in a future version.\n",
      "  res = method(*args, **kwargs)\n"
     ]
    }
   ],
   "source": [
    "#Compute % percent and average files - for making dot plots between infected vs control uninfected\n",
    "percent = grouped_obs_percent(adata, 'cell_type')\n",
    "pd.DataFrame(percent).to_csv('../data/listeria_inf_percent_24h.csv')\n",
    "\n",
    "means = grouped_obs_mean(adata, 'cell_type')\n",
    "pd.DataFrame(means).to_csv('../data/listeria_inf_average_log_24h.csv')"
   ]
  },
  {
   "cell_type": "code",
   "execution_count": 25,
   "id": "alone-pantyhose",
   "metadata": {},
   "outputs": [
    {
     "data": {
      "text/html": [
       "<div>\n",
       "<style scoped>\n",
       "    .dataframe tbody tr th:only-of-type {\n",
       "        vertical-align: middle;\n",
       "    }\n",
       "\n",
       "    .dataframe tbody tr th {\n",
       "        vertical-align: top;\n",
       "    }\n",
       "\n",
       "    .dataframe thead th {\n",
       "        text-align: right;\n",
       "    }\n",
       "</style>\n",
       "<table border=\"1\" class=\"dataframe\">\n",
       "  <thead>\n",
       "    <tr style=\"text-align: right;\">\n",
       "      <th></th>\n",
       "      <th>counts</th>\n",
       "      <th>freqs</th>\n",
       "    </tr>\n",
       "    <tr>\n",
       "      <th>categories</th>\n",
       "      <th></th>\n",
       "      <th></th>\n",
       "    </tr>\n",
       "  </thead>\n",
       "  <tbody>\n",
       "    <tr>\n",
       "      <th>Lm</th>\n",
       "      <td>16050</td>\n",
       "      <td>0.548737</td>\n",
       "    </tr>\n",
       "    <tr>\n",
       "      <th>UI</th>\n",
       "      <td>13199</td>\n",
       "      <td>0.451263</td>\n",
       "    </tr>\n",
       "  </tbody>\n",
       "</table>\n",
       "</div>"
      ],
      "text/plain": [
       "            counts     freqs\n",
       "categories                  \n",
       "Lm           16050  0.548737\n",
       "UI           13199  0.451263"
      ]
     },
     "execution_count": 25,
     "metadata": {},
     "output_type": "execute_result"
    }
   ],
   "source": [
    "adata.obs['infection'].values.describe()"
   ]
  },
  {
   "cell_type": "code",
   "execution_count": null,
   "id": "connected-worship",
   "metadata": {},
   "outputs": [],
   "source": []
  },
  {
   "cell_type": "markdown",
   "id": "smoking-frederick",
   "metadata": {},
   "source": [
    "## Toxoplasma"
   ]
  },
  {
   "cell_type": "code",
   "execution_count": 26,
   "id": "varying-inside",
   "metadata": {},
   "outputs": [],
   "source": [
    "adata = sc.read('../../diffGeneExpression/macrophages/data/toxoplasma_singleCell_24h.h5ad')"
   ]
  },
  {
   "cell_type": "code",
   "execution_count": 27,
   "id": "missing-sailing",
   "metadata": {},
   "outputs": [
    {
     "data": {
      "text/html": [
       "<div>\n",
       "<style scoped>\n",
       "    .dataframe tbody tr th:only-of-type {\n",
       "        vertical-align: middle;\n",
       "    }\n",
       "\n",
       "    .dataframe tbody tr th {\n",
       "        vertical-align: top;\n",
       "    }\n",
       "\n",
       "    .dataframe thead th {\n",
       "        text-align: right;\n",
       "    }\n",
       "</style>\n",
       "<table border=\"1\" class=\"dataframe\">\n",
       "  <thead>\n",
       "    <tr style=\"text-align: right;\">\n",
       "      <th></th>\n",
       "      <th>counts</th>\n",
       "      <th>freqs</th>\n",
       "    </tr>\n",
       "    <tr>\n",
       "      <th>categories</th>\n",
       "      <th></th>\n",
       "      <th></th>\n",
       "    </tr>\n",
       "  </thead>\n",
       "  <tbody>\n",
       "    <tr>\n",
       "      <th>EVT_1</th>\n",
       "      <td>140</td>\n",
       "      <td>0.007858</td>\n",
       "    </tr>\n",
       "    <tr>\n",
       "      <th>EVT_2</th>\n",
       "      <td>437</td>\n",
       "      <td>0.024527</td>\n",
       "    </tr>\n",
       "    <tr>\n",
       "      <th>Endo_f</th>\n",
       "      <td>1375</td>\n",
       "      <td>0.077173</td>\n",
       "    </tr>\n",
       "    <tr>\n",
       "      <th>F</th>\n",
       "      <td>2273</td>\n",
       "      <td>0.127575</td>\n",
       "    </tr>\n",
       "    <tr>\n",
       "      <th>F_p</th>\n",
       "      <td>72</td>\n",
       "      <td>0.004041</td>\n",
       "    </tr>\n",
       "    <tr>\n",
       "      <th>F_sm</th>\n",
       "      <td>405</td>\n",
       "      <td>0.022731</td>\n",
       "    </tr>\n",
       "    <tr>\n",
       "      <th>HBC</th>\n",
       "      <td>6926</td>\n",
       "      <td>0.388730</td>\n",
       "    </tr>\n",
       "    <tr>\n",
       "      <th>HBC_p</th>\n",
       "      <td>90</td>\n",
       "      <td>0.005051</td>\n",
       "    </tr>\n",
       "    <tr>\n",
       "      <th>PAMM1</th>\n",
       "      <td>624</td>\n",
       "      <td>0.035023</td>\n",
       "    </tr>\n",
       "    <tr>\n",
       "      <th>PV</th>\n",
       "      <td>985</td>\n",
       "      <td>0.055284</td>\n",
       "    </tr>\n",
       "    <tr>\n",
       "      <th>VCT</th>\n",
       "      <td>1720</td>\n",
       "      <td>0.096537</td>\n",
       "    </tr>\n",
       "    <tr>\n",
       "      <th>VCT_CCC</th>\n",
       "      <td>982</td>\n",
       "      <td>0.055116</td>\n",
       "    </tr>\n",
       "    <tr>\n",
       "      <th>VCT_fusing</th>\n",
       "      <td>1127</td>\n",
       "      <td>0.063254</td>\n",
       "    </tr>\n",
       "    <tr>\n",
       "      <th>VCT_p</th>\n",
       "      <td>500</td>\n",
       "      <td>0.028063</td>\n",
       "    </tr>\n",
       "    <tr>\n",
       "      <th>iEVT</th>\n",
       "      <td>161</td>\n",
       "      <td>0.009036</td>\n",
       "    </tr>\n",
       "  </tbody>\n",
       "</table>\n",
       "</div>"
      ],
      "text/plain": [
       "            counts     freqs\n",
       "categories                  \n",
       "EVT_1          140  0.007858\n",
       "EVT_2          437  0.024527\n",
       "Endo_f        1375  0.077173\n",
       "F             2273  0.127575\n",
       "F_p             72  0.004041\n",
       "F_sm           405  0.022731\n",
       "HBC           6926  0.388730\n",
       "HBC_p           90  0.005051\n",
       "PAMM1          624  0.035023\n",
       "PV             985  0.055284\n",
       "VCT           1720  0.096537\n",
       "VCT_CCC        982  0.055116\n",
       "VCT_fusing    1127  0.063254\n",
       "VCT_p          500  0.028063\n",
       "iEVT           161  0.009036"
      ]
     },
     "execution_count": 27,
     "metadata": {},
     "output_type": "execute_result"
    }
   ],
   "source": [
    "adata.obs['cell_type'].values.describe()"
   ]
  },
  {
   "cell_type": "code",
   "execution_count": 28,
   "id": "imported-passion",
   "metadata": {},
   "outputs": [
    {
     "name": "stderr",
     "output_type": "stream",
     "text": [
      "/opt/conda/lib/python3.8/site-packages/pandas/core/arrays/categorical.py:2487: FutureWarning: The `inplace` parameter in pandas.Categorical.remove_unused_categories is deprecated and will be removed in a future version.\n",
      "  res = method(*args, **kwargs)\n"
     ]
    }
   ],
   "source": [
    "sc.pp.normalize_per_cell(adata)\n",
    "sc.pp.log1p(adata)                                                                                                            \n",
    "# sc.pp.scale(adata, max_value=10)"
   ]
  },
  {
   "cell_type": "code",
   "execution_count": 29,
   "id": "equivalent-bench",
   "metadata": {},
   "outputs": [],
   "source": [
    "# Add cluster subname such that this new name will match with DEG cluster name\n",
    "adata.obs['cell_type']= adata.obs.cell_type.astype('string')+'.'+adata.obs.stage_perInfection.astype('string')"
   ]
  },
  {
   "cell_type": "code",
   "execution_count": null,
   "id": "extraordinary-shadow",
   "metadata": {},
   "outputs": [],
   "source": []
  },
  {
   "cell_type": "code",
   "execution_count": 30,
   "id": "overall-latest",
   "metadata": {},
   "outputs": [
    {
     "name": "stderr",
     "output_type": "stream",
     "text": [
      "/opt/conda/lib/python3.8/site-packages/pandas/core/arrays/categorical.py:2487: FutureWarning: The `inplace` parameter in pandas.Categorical.remove_unused_categories is deprecated and will be removed in a future version.\n",
      "  res = method(*args, **kwargs)\n"
     ]
    }
   ],
   "source": [
    "#Compute % percent and average files - for making dot plots between infected vs control uninfected\n",
    "percent = grouped_obs_percent(adata, 'cell_type')\n",
    "pd.DataFrame(percent).to_csv('../data/toxoplasma_inf_percent_24h.csv')\n",
    "\n",
    "means = grouped_obs_mean(adata, 'cell_type')\n",
    "pd.DataFrame(means).to_csv('../data/toxoplasma_inf_average_log_24h.csv')"
   ]
  },
  {
   "cell_type": "code",
   "execution_count": 31,
   "id": "defined-briefs",
   "metadata": {},
   "outputs": [
    {
     "data": {
      "text/html": [
       "<div>\n",
       "<style scoped>\n",
       "    .dataframe tbody tr th:only-of-type {\n",
       "        vertical-align: middle;\n",
       "    }\n",
       "\n",
       "    .dataframe tbody tr th {\n",
       "        vertical-align: top;\n",
       "    }\n",
       "\n",
       "    .dataframe thead th {\n",
       "        text-align: right;\n",
       "    }\n",
       "</style>\n",
       "<table border=\"1\" class=\"dataframe\">\n",
       "  <thead>\n",
       "    <tr style=\"text-align: right;\">\n",
       "      <th></th>\n",
       "      <th>counts</th>\n",
       "      <th>freqs</th>\n",
       "    </tr>\n",
       "    <tr>\n",
       "      <th>categories</th>\n",
       "      <th></th>\n",
       "      <th></th>\n",
       "    </tr>\n",
       "  </thead>\n",
       "  <tbody>\n",
       "    <tr>\n",
       "      <th>Tg</th>\n",
       "      <td>9134</td>\n",
       "      <td>0.512656</td>\n",
       "    </tr>\n",
       "    <tr>\n",
       "      <th>UI</th>\n",
       "      <td>8683</td>\n",
       "      <td>0.487344</td>\n",
       "    </tr>\n",
       "  </tbody>\n",
       "</table>\n",
       "</div>"
      ],
      "text/plain": [
       "            counts     freqs\n",
       "categories                  \n",
       "Tg            9134  0.512656\n",
       "UI            8683  0.487344"
      ]
     },
     "execution_count": 31,
     "metadata": {},
     "output_type": "execute_result"
    }
   ],
   "source": [
    "adata.obs['infection'].values.describe()"
   ]
  },
  {
   "cell_type": "code",
   "execution_count": null,
   "id": "otherwise-capital",
   "metadata": {},
   "outputs": [],
   "source": []
  },
  {
   "cell_type": "code",
   "execution_count": null,
   "id": "annual-semester",
   "metadata": {},
   "outputs": [],
   "source": []
  }
 ],
 "metadata": {
  "kernelspec": {
   "display_name": "Python 3",
   "language": "python",
   "name": "python3"
  },
  "language_info": {
   "codemirror_mode": {
    "name": "ipython",
    "version": 3
   },
   "file_extension": ".py",
   "mimetype": "text/x-python",
   "name": "python",
   "nbconvert_exporter": "python",
   "pygments_lexer": "ipython3",
   "version": "3.8.8"
  }
 },
 "nbformat": 4,
 "nbformat_minor": 5
}
