{
 "cells": [
  {
   "cell_type": "markdown",
   "id": "prepared-interstate",
   "metadata": {},
   "source": [
    "**Author:** Elias Rafael Ruiz-Morales\n",
    "\n",
    "**Institution:** Wellcome Sanger institute\n",
    "\n",
    "**July, 2023**"
   ]
  },
  {
   "cell_type": "markdown",
   "id": "stupid-arkansas",
   "metadata": {},
   "source": [
    "---"
   ]
  },
  {
   "cell_type": "markdown",
   "id": "extreme-portsmouth",
   "metadata": {},
   "source": [
    "# Toxoplasma: Merging genes tables from Differential expression"
   ]
  },
  {
   "cell_type": "code",
   "execution_count": 3,
   "id": "seven-province",
   "metadata": {},
   "outputs": [],
   "source": [
    "import numpy as np\n",
    "import pandas as pd\n",
    "import os\n",
    "import sys\n",
    "import scipy\n",
    "import matplotlib.pyplot as plt\n",
    "\n",
    "import seaborn as sns\n",
    "import scanpy as sc"
   ]
  },
  {
   "cell_type": "markdown",
   "id": "fiscal-triple",
   "metadata": {},
   "source": [
    "### Note \n",
    "To run this chunk you need:\n",
    "\n",
    "*rpy2==3.4.2  ///  anndata2ri==1.0.6*"
   ]
  },
  {
   "cell_type": "code",
   "execution_count": 4,
   "id": "silent-electricity",
   "metadata": {},
   "outputs": [],
   "source": [
    "import rpy2.robjects as ro\n",
    "import rpy2.robjects.numpy2ri\n",
    "\n",
    "import rpy2.rinterface_lib.callbacks\n",
    "import logging\n",
    "# Itoliste R warning messages\n",
    "#Note: this can be commented out to get more verbose R output\n",
    "rpy2.rinterface_lib.callbacks.logger.setLevel(logging.ERROR)\n",
    "import anndata2ri\n",
    "anndata2ri.activate()\n",
    "%load_ext rpy2.ipython"
   ]
  },
  {
   "cell_type": "markdown",
   "id": "regular-portrait",
   "metadata": {},
   "source": [
    "## Load subset Toxoplasma 24H post-infection "
   ]
  },
  {
   "cell_type": "code",
   "execution_count": 5,
   "id": "promotional-monitor",
   "metadata": {},
   "outputs": [],
   "source": [
    "adata= sc.read('../../../data_integration/results/scVI/toxoplasma_singleCell_24h.h5ad')"
   ]
  },
  {
   "cell_type": "markdown",
   "id": "hydraulic-dover",
   "metadata": {},
   "source": [
    "#### Subset immune cells"
   ]
  },
  {
   "cell_type": "code",
   "execution_count": 6,
   "id": "national-pantyhose",
   "metadata": {},
   "outputs": [
    {
     "name": "stderr",
     "output_type": "stream",
     "text": [
      "/opt/conda/lib/python3.8/site-packages/pandas/core/arrays/categorical.py:2487: FutureWarning: The `inplace` parameter in pandas.Categorical.remove_unused_categories is deprecated and will be removed in a future version.\n",
      "  res = method(*args, **kwargs)\n"
     ]
    }
   ],
   "source": [
    "adata =adata[[ i in ['F','PV','F_p','F_sm','Endo_f'] for i in adata.obs.cell_type ]]\n",
    "adata.write ('../data/toxoplasma_singleCell_24h_FibroEndo.h5ad')"
   ]
  },
  {
   "cell_type": "code",
   "execution_count": 7,
   "id": "provincial-memphis",
   "metadata": {},
   "outputs": [],
   "source": [
    "del(adata)"
   ]
  },
  {
   "cell_type": "markdown",
   "id": "understanding-bradford",
   "metadata": {
    "tags": []
   },
   "source": [
    "## Reading the DEGs tables per cell type"
   ]
  },
  {
   "cell_type": "code",
   "execution_count": 8,
   "id": "accomplished-interpretation",
   "metadata": {},
   "outputs": [],
   "source": [
    "df1 = pd.read_csv('../results/SC_limma_fibroEndo_TOX_24h/1_DEGs_SC_TOX_24h_F.tsv', index_col=0,sep='\\t')\n",
    "df2 = pd.read_csv('../results/SC_limma_fibroEndo_TOX_24h/2_DEGs_SC_TOX_24h_PV.tsv', index_col=0,sep='\\t')\n",
    "df3 = pd.read_csv('../results/SC_limma_fibroEndo_TOX_24h/3_DEGs_SC_TOX_24h_Endof.tsv', index_col=0,sep='\\t')"
   ]
  },
  {
   "cell_type": "code",
   "execution_count": 9,
   "id": "transsexual-estimate",
   "metadata": {},
   "outputs": [
    {
     "data": {
      "text/html": [
       "<div>\n",
       "<style scoped>\n",
       "    .dataframe tbody tr th:only-of-type {\n",
       "        vertical-align: middle;\n",
       "    }\n",
       "\n",
       "    .dataframe tbody tr th {\n",
       "        vertical-align: top;\n",
       "    }\n",
       "\n",
       "    .dataframe thead th {\n",
       "        text-align: right;\n",
       "    }\n",
       "</style>\n",
       "<table border=\"1\" class=\"dataframe\">\n",
       "  <thead>\n",
       "    <tr style=\"text-align: right;\">\n",
       "      <th></th>\n",
       "      <th>logFC</th>\n",
       "      <th>logCPM</th>\n",
       "      <th>F</th>\n",
       "      <th>PValue</th>\n",
       "      <th>bonferroni</th>\n",
       "      <th>p_val_adj</th>\n",
       "    </tr>\n",
       "  </thead>\n",
       "  <tbody>\n",
       "    <tr>\n",
       "      <th>PLOD2</th>\n",
       "      <td>0.346437</td>\n",
       "      <td>9.710670</td>\n",
       "      <td>57.301917</td>\n",
       "      <td>4.569245e-08</td>\n",
       "      <td>0.000318</td>\n",
       "      <td>0.000318</td>\n",
       "    </tr>\n",
       "    <tr>\n",
       "      <th>PGAM1</th>\n",
       "      <td>0.294528</td>\n",
       "      <td>7.414381</td>\n",
       "      <td>49.648052</td>\n",
       "      <td>1.649194e-07</td>\n",
       "      <td>0.001149</td>\n",
       "      <td>0.000574</td>\n",
       "    </tr>\n",
       "    <tr>\n",
       "      <th>SNX9</th>\n",
       "      <td>0.359026</td>\n",
       "      <td>7.800909</td>\n",
       "      <td>45.928065</td>\n",
       "      <td>3.231338e-07</td>\n",
       "      <td>0.002251</td>\n",
       "      <td>0.000736</td>\n",
       "    </tr>\n",
       "    <tr>\n",
       "      <th>FP236383.3</th>\n",
       "      <td>-0.267234</td>\n",
       "      <td>8.921697</td>\n",
       "      <td>44.498397</td>\n",
       "      <td>4.224601e-07</td>\n",
       "      <td>0.002943</td>\n",
       "      <td>0.000736</td>\n",
       "    </tr>\n",
       "    <tr>\n",
       "      <th>NOTCH2</th>\n",
       "      <td>0.300958</td>\n",
       "      <td>6.890188</td>\n",
       "      <td>42.552030</td>\n",
       "      <td>6.140650e-07</td>\n",
       "      <td>0.004278</td>\n",
       "      <td>0.000856</td>\n",
       "    </tr>\n",
       "  </tbody>\n",
       "</table>\n",
       "</div>"
      ],
      "text/plain": [
       "               logFC    logCPM          F        PValue  bonferroni  p_val_adj\n",
       "PLOD2       0.346437  9.710670  57.301917  4.569245e-08    0.000318   0.000318\n",
       "PGAM1       0.294528  7.414381  49.648052  1.649194e-07    0.001149   0.000574\n",
       "SNX9        0.359026  7.800909  45.928065  3.231338e-07    0.002251   0.000736\n",
       "FP236383.3 -0.267234  8.921697  44.498397  4.224601e-07    0.002943   0.000736\n",
       "NOTCH2      0.300958  6.890188  42.552030  6.140650e-07    0.004278   0.000856"
      ]
     },
     "execution_count": 9,
     "metadata": {},
     "output_type": "execute_result"
    }
   ],
   "source": [
    "df1.head()"
   ]
  },
  {
   "cell_type": "code",
   "execution_count": 10,
   "id": "devoted-closing",
   "metadata": {},
   "outputs": [
    {
     "data": {
      "text/html": [
       "<div>\n",
       "<style scoped>\n",
       "    .dataframe tbody tr th:only-of-type {\n",
       "        vertical-align: middle;\n",
       "    }\n",
       "\n",
       "    .dataframe tbody tr th {\n",
       "        vertical-align: top;\n",
       "    }\n",
       "\n",
       "    .dataframe thead th {\n",
       "        text-align: right;\n",
       "    }\n",
       "</style>\n",
       "<table border=\"1\" class=\"dataframe\">\n",
       "  <thead>\n",
       "    <tr style=\"text-align: right;\">\n",
       "      <th></th>\n",
       "      <th>logFC</th>\n",
       "      <th>logCPM</th>\n",
       "      <th>F</th>\n",
       "      <th>PValue</th>\n",
       "      <th>bonferroni</th>\n",
       "      <th>p_val_adj</th>\n",
       "    </tr>\n",
       "  </thead>\n",
       "  <tbody>\n",
       "    <tr>\n",
       "      <th>CD68</th>\n",
       "      <td>0.778783</td>\n",
       "      <td>4.457690</td>\n",
       "      <td>56.390919</td>\n",
       "      <td>3.322928e-08</td>\n",
       "      <td>0.000246</td>\n",
       "      <td>0.000246</td>\n",
       "    </tr>\n",
       "    <tr>\n",
       "      <th>SERPINE1</th>\n",
       "      <td>0.596916</td>\n",
       "      <td>10.631820</td>\n",
       "      <td>42.412198</td>\n",
       "      <td>4.462031e-07</td>\n",
       "      <td>0.003306</td>\n",
       "      <td>0.001102</td>\n",
       "    </tr>\n",
       "    <tr>\n",
       "      <th>THY1</th>\n",
       "      <td>-0.784322</td>\n",
       "      <td>6.441113</td>\n",
       "      <td>43.756564</td>\n",
       "      <td>3.400022e-07</td>\n",
       "      <td>0.002519</td>\n",
       "      <td>0.001102</td>\n",
       "    </tr>\n",
       "    <tr>\n",
       "      <th>LDB2</th>\n",
       "      <td>-0.862371</td>\n",
       "      <td>4.833016</td>\n",
       "      <td>39.515069</td>\n",
       "      <td>8.166373e-07</td>\n",
       "      <td>0.006050</td>\n",
       "      <td>0.001254</td>\n",
       "    </tr>\n",
       "    <tr>\n",
       "      <th>SPP1</th>\n",
       "      <td>0.924016</td>\n",
       "      <td>7.838992</td>\n",
       "      <td>39.349764</td>\n",
       "      <td>8.459709e-07</td>\n",
       "      <td>0.006268</td>\n",
       "      <td>0.001254</td>\n",
       "    </tr>\n",
       "  </tbody>\n",
       "</table>\n",
       "</div>"
      ],
      "text/plain": [
       "             logFC     logCPM          F        PValue  bonferroni  p_val_adj\n",
       "CD68      0.778783   4.457690  56.390919  3.322928e-08    0.000246   0.000246\n",
       "SERPINE1  0.596916  10.631820  42.412198  4.462031e-07    0.003306   0.001102\n",
       "THY1     -0.784322   6.441113  43.756564  3.400022e-07    0.002519   0.001102\n",
       "LDB2     -0.862371   4.833016  39.515069  8.166373e-07    0.006050   0.001254\n",
       "SPP1      0.924016   7.838992  39.349764  8.459709e-07    0.006268   0.001254"
      ]
     },
     "execution_count": 10,
     "metadata": {},
     "output_type": "execute_result"
    }
   ],
   "source": [
    "df2.head()"
   ]
  },
  {
   "cell_type": "code",
   "execution_count": 11,
   "id": "aggregate-kitchen",
   "metadata": {},
   "outputs": [
    {
     "data": {
      "text/html": [
       "<div>\n",
       "<style scoped>\n",
       "    .dataframe tbody tr th:only-of-type {\n",
       "        vertical-align: middle;\n",
       "    }\n",
       "\n",
       "    .dataframe tbody tr th {\n",
       "        vertical-align: top;\n",
       "    }\n",
       "\n",
       "    .dataframe thead th {\n",
       "        text-align: right;\n",
       "    }\n",
       "</style>\n",
       "<table border=\"1\" class=\"dataframe\">\n",
       "  <thead>\n",
       "    <tr style=\"text-align: right;\">\n",
       "      <th></th>\n",
       "      <th>logFC</th>\n",
       "      <th>logCPM</th>\n",
       "      <th>F</th>\n",
       "      <th>PValue</th>\n",
       "      <th>bonferroni</th>\n",
       "      <th>p_val_adj</th>\n",
       "    </tr>\n",
       "  </thead>\n",
       "  <tbody>\n",
       "    <tr>\n",
       "      <th>AC068756.1</th>\n",
       "      <td>-0.724725</td>\n",
       "      <td>5.167197</td>\n",
       "      <td>50.516605</td>\n",
       "      <td>8.228532e-08</td>\n",
       "      <td>0.000615</td>\n",
       "      <td>0.000615</td>\n",
       "    </tr>\n",
       "    <tr>\n",
       "      <th>MTRNR2L1</th>\n",
       "      <td>-0.919670</td>\n",
       "      <td>5.444015</td>\n",
       "      <td>42.094318</td>\n",
       "      <td>4.290448e-07</td>\n",
       "      <td>0.003204</td>\n",
       "      <td>0.001602</td>\n",
       "    </tr>\n",
       "    <tr>\n",
       "      <th>AC105402.3</th>\n",
       "      <td>-0.493891</td>\n",
       "      <td>10.256311</td>\n",
       "      <td>39.417942</td>\n",
       "      <td>7.567194e-07</td>\n",
       "      <td>0.005651</td>\n",
       "      <td>0.001884</td>\n",
       "    </tr>\n",
       "    <tr>\n",
       "      <th>GABRE</th>\n",
       "      <td>-0.316803</td>\n",
       "      <td>7.095731</td>\n",
       "      <td>34.186172</td>\n",
       "      <td>2.460508e-06</td>\n",
       "      <td>0.018375</td>\n",
       "      <td>0.004594</td>\n",
       "    </tr>\n",
       "    <tr>\n",
       "      <th>PLCG2</th>\n",
       "      <td>-0.576897</td>\n",
       "      <td>7.421566</td>\n",
       "      <td>29.897289</td>\n",
       "      <td>6.999945e-06</td>\n",
       "      <td>0.052276</td>\n",
       "      <td>0.010143</td>\n",
       "    </tr>\n",
       "  </tbody>\n",
       "</table>\n",
       "</div>"
      ],
      "text/plain": [
       "               logFC     logCPM          F        PValue  bonferroni  \\\n",
       "AC068756.1 -0.724725   5.167197  50.516605  8.228532e-08    0.000615   \n",
       "MTRNR2L1   -0.919670   5.444015  42.094318  4.290448e-07    0.003204   \n",
       "AC105402.3 -0.493891  10.256311  39.417942  7.567194e-07    0.005651   \n",
       "GABRE      -0.316803   7.095731  34.186172  2.460508e-06    0.018375   \n",
       "PLCG2      -0.576897   7.421566  29.897289  6.999945e-06    0.052276   \n",
       "\n",
       "            p_val_adj  \n",
       "AC068756.1   0.000615  \n",
       "MTRNR2L1     0.001602  \n",
       "AC105402.3   0.001884  \n",
       "GABRE        0.004594  \n",
       "PLCG2        0.010143  "
      ]
     },
     "execution_count": 11,
     "metadata": {},
     "output_type": "execute_result"
    }
   ],
   "source": [
    "df3.head()"
   ]
  },
  {
   "cell_type": "code",
   "execution_count": null,
   "id": "opponent-tiffany",
   "metadata": {},
   "outputs": [],
   "source": []
  },
  {
   "cell_type": "markdown",
   "id": "economic-assistant",
   "metadata": {},
   "source": [
    "#  F"
   ]
  },
  {
   "cell_type": "markdown",
   "id": "prerequisite-competition",
   "metadata": {},
   "source": [
    "### Defining a thershold for significant Up reg in HBC"
   ]
  },
  {
   "cell_type": "code",
   "execution_count": 12,
   "id": "composite-horse",
   "metadata": {},
   "outputs": [],
   "source": [
    "df1up= df1[(df1['logFC'] > 0) ]\n",
    "df1_down= df1[(df1['logFC'] < 0) ]"
   ]
  },
  {
   "cell_type": "code",
   "execution_count": 13,
   "id": "handmade-slovenia",
   "metadata": {},
   "outputs": [],
   "source": [
    "#df1_down['avg_log2FC']= df1_down['avg_log2FC']*-1"
   ]
  },
  {
   "cell_type": "code",
   "execution_count": 14,
   "id": "structured-salmon",
   "metadata": {},
   "outputs": [],
   "source": [
    "df1_temp = pd.concat([df1up, df1_down])"
   ]
  },
  {
   "cell_type": "code",
   "execution_count": 15,
   "id": "regulated-victorian",
   "metadata": {},
   "outputs": [
    {
     "data": {
      "text/html": [
       "<div>\n",
       "<style scoped>\n",
       "    .dataframe tbody tr th:only-of-type {\n",
       "        vertical-align: middle;\n",
       "    }\n",
       "\n",
       "    .dataframe tbody tr th {\n",
       "        vertical-align: top;\n",
       "    }\n",
       "\n",
       "    .dataframe thead th {\n",
       "        text-align: right;\n",
       "    }\n",
       "</style>\n",
       "<table border=\"1\" class=\"dataframe\">\n",
       "  <thead>\n",
       "    <tr style=\"text-align: right;\">\n",
       "      <th></th>\n",
       "      <th>logFC</th>\n",
       "      <th>logCPM</th>\n",
       "      <th>F</th>\n",
       "      <th>PValue</th>\n",
       "      <th>bonferroni</th>\n",
       "      <th>p_val_adj</th>\n",
       "    </tr>\n",
       "  </thead>\n",
       "  <tbody>\n",
       "    <tr>\n",
       "      <th>IL1B</th>\n",
       "      <td>0.73566</td>\n",
       "      <td>5.397533</td>\n",
       "      <td>8.405726</td>\n",
       "      <td>0.007458</td>\n",
       "      <td>1.0</td>\n",
       "      <td>0.108451</td>\n",
       "    </tr>\n",
       "  </tbody>\n",
       "</table>\n",
       "</div>"
      ],
      "text/plain": [
       "        logFC    logCPM         F    PValue  bonferroni  p_val_adj\n",
       "IL1B  0.73566  5.397533  8.405726  0.007458         1.0   0.108451"
      ]
     },
     "execution_count": 15,
     "metadata": {},
     "output_type": "execute_result"
    }
   ],
   "source": [
    "df1_temp.loc[['IL1B']]"
   ]
  },
  {
   "cell_type": "code",
   "execution_count": 16,
   "id": "excited-convertible",
   "metadata": {},
   "outputs": [],
   "source": [
    "%%R\n",
    "\n",
    "library(Cairo)\n",
    "library(ggplot2)\n",
    "library(ggrepel)\n",
    "library(EnhancedVolcano)\n",
    "library(magrittr)"
   ]
  },
  {
   "cell_type": "code",
   "execution_count": 17,
   "id": "understanding-comfort",
   "metadata": {},
   "outputs": [
    {
     "data": {
      "image/png": "[encoded data removed]"
     },
     "metadata": {},
     "output_type": "display_data"
    }
   ],
   "source": [
    "%%R -i df1_temp\n",
    "\n",
    "EnhancedVolcano(df1_temp, lab = rownames(df1_temp), x=\"logFC\", y=\"p_val_adj\",  \n",
    "                #selectLab = c('CXCL8','IL1B'),\n",
    "                \n",
    "                pCutoff=0.05,\n",
    "                FCcutoff = 0.1, title = \"Tg_F\", subtitle = bquote(italic(single_cell)), \n",
    "                ylab = bquote(-Log[10] * \"(p-val_adj)\"), xlim = c(-2, 2), pointSize =1,\n",
    "                labSize = 4)\n",
    "#ggsave(\"volcano_plot_Pf_VCT_fusing_SN_day2.eps\",  device=cairo_ps, width =7,   height =7)\n",
    "\n",
    "\n"
   ]
  },
  {
   "cell_type": "code",
   "execution_count": 18,
   "id": "leading-product",
   "metadata": {},
   "outputs": [],
   "source": [
    "x= df1_temp[(df1_temp['p_val_adj'] < 0.05) ]"
   ]
  },
  {
   "cell_type": "code",
   "execution_count": 19,
   "id": "designed-kernel",
   "metadata": {},
   "outputs": [
    {
     "data": {
      "text/plain": [
       "<matplotlib.lines.Line2D at 0x7f31469318b0>"
      ]
     },
     "execution_count": 19,
     "metadata": {},
     "output_type": "execute_result"
    },
    {
     "data": {
      "image/png": "[encoded data removed]",
      "text/plain": [
       "<Figure size 432x288 with 1 Axes>"
      ]
     },
     "metadata": {
      "needs_background": "light"
     },
     "output_type": "display_data"
    }
   ],
   "source": [
    "plt.hist(x['logFC'], bins = 100)\n",
    "plt.axvline(0.1, linestyle = '--', color = 'red')\n",
    "plt.axvline(-0.1, linestyle = '--', color = 'red')"
   ]
  },
  {
   "cell_type": "markdown",
   "id": "blind-mainstream",
   "metadata": {},
   "source": [
    "## Note:\n",
    "Save DEGs list:\n",
    "\n",
    "    p_val_adj < 0.05\n",
    "    \n",
    "    avg_log2FC > 0.1\n",
    "    \n",
    "    ==> Input to metascape"
   ]
  },
  {
   "cell_type": "markdown",
   "id": "opposite-desktop",
   "metadata": {},
   "source": [
    "### Significant Up reg in F"
   ]
  },
  {
   "cell_type": "code",
   "execution_count": 20,
   "id": "sustainable-plumbing",
   "metadata": {},
   "outputs": [],
   "source": [
    "upDEG= df1[(df1['p_val_adj'] < 0.05) & (df1['logFC'] > 0.1)]"
   ]
  },
  {
   "cell_type": "code",
   "execution_count": 21,
   "id": "unique-mentor",
   "metadata": {},
   "outputs": [],
   "source": [
    "upDEG.to_csv('../results/SC_limma_fibroEndo_TOX_24h/1_DEGs_UP_SC_TOX_24h_F.tsv', index=True, sep='\\t')"
   ]
  },
  {
   "cell_type": "code",
   "execution_count": 22,
   "id": "fifty-comparison",
   "metadata": {},
   "outputs": [
    {
     "data": {
      "text/html": [
       "<div>\n",
       "<style scoped>\n",
       "    .dataframe tbody tr th:only-of-type {\n",
       "        vertical-align: middle;\n",
       "    }\n",
       "\n",
       "    .dataframe tbody tr th {\n",
       "        vertical-align: top;\n",
       "    }\n",
       "\n",
       "    .dataframe thead th {\n",
       "        text-align: right;\n",
       "    }\n",
       "</style>\n",
       "<table border=\"1\" class=\"dataframe\">\n",
       "  <thead>\n",
       "    <tr style=\"text-align: right;\">\n",
       "      <th></th>\n",
       "      <th>logFC</th>\n",
       "      <th>logCPM</th>\n",
       "      <th>F</th>\n",
       "      <th>PValue</th>\n",
       "      <th>bonferroni</th>\n",
       "      <th>p_val_adj</th>\n",
       "    </tr>\n",
       "  </thead>\n",
       "  <tbody>\n",
       "    <tr>\n",
       "      <th>PLOD2</th>\n",
       "      <td>0.346437</td>\n",
       "      <td>9.710670</td>\n",
       "      <td>57.301917</td>\n",
       "      <td>4.569245e-08</td>\n",
       "      <td>0.000318</td>\n",
       "      <td>0.000318</td>\n",
       "    </tr>\n",
       "    <tr>\n",
       "      <th>PGAM1</th>\n",
       "      <td>0.294528</td>\n",
       "      <td>7.414381</td>\n",
       "      <td>49.648052</td>\n",
       "      <td>1.649194e-07</td>\n",
       "      <td>0.001149</td>\n",
       "      <td>0.000574</td>\n",
       "    </tr>\n",
       "    <tr>\n",
       "      <th>SNX9</th>\n",
       "      <td>0.359026</td>\n",
       "      <td>7.800909</td>\n",
       "      <td>45.928065</td>\n",
       "      <td>3.231338e-07</td>\n",
       "      <td>0.002251</td>\n",
       "      <td>0.000736</td>\n",
       "    </tr>\n",
       "    <tr>\n",
       "      <th>NOTCH2</th>\n",
       "      <td>0.300958</td>\n",
       "      <td>6.890188</td>\n",
       "      <td>42.552030</td>\n",
       "      <td>6.140650e-07</td>\n",
       "      <td>0.004278</td>\n",
       "      <td>0.000856</td>\n",
       "    </tr>\n",
       "    <tr>\n",
       "      <th>MYO10</th>\n",
       "      <td>0.288179</td>\n",
       "      <td>10.052584</td>\n",
       "      <td>39.956914</td>\n",
       "      <td>1.028769e-06</td>\n",
       "      <td>0.007166</td>\n",
       "      <td>0.000896</td>\n",
       "    </tr>\n",
       "  </tbody>\n",
       "</table>\n",
       "</div>"
      ],
      "text/plain": [
       "           logFC     logCPM          F        PValue  bonferroni  p_val_adj\n",
       "PLOD2   0.346437   9.710670  57.301917  4.569245e-08    0.000318   0.000318\n",
       "PGAM1   0.294528   7.414381  49.648052  1.649194e-07    0.001149   0.000574\n",
       "SNX9    0.359026   7.800909  45.928065  3.231338e-07    0.002251   0.000736\n",
       "NOTCH2  0.300958   6.890188  42.552030  6.140650e-07    0.004278   0.000856\n",
       "MYO10   0.288179  10.052584  39.956914  1.028769e-06    0.007166   0.000896"
      ]
     },
     "execution_count": 22,
     "metadata": {},
     "output_type": "execute_result"
    }
   ],
   "source": [
    "upDEG.head()"
   ]
  },
  {
   "cell_type": "code",
   "execution_count": 23,
   "id": "agricultural-junction",
   "metadata": {},
   "outputs": [
    {
     "data": {
      "text/plain": [
       "(125, 6)"
      ]
     },
     "execution_count": 23,
     "metadata": {},
     "output_type": "execute_result"
    }
   ],
   "source": [
    "upDEG.shape"
   ]
  },
  {
   "cell_type": "code",
   "execution_count": 24,
   "id": "destroyed-hypothetical",
   "metadata": {
    "collapsed": true,
    "jupyter": {
     "outputs_hidden": true
    },
    "tags": []
   },
   "outputs": [
    {
     "data": {
      "text/plain": [
       "['PLOD2',\n",
       " 'PGAM1',\n",
       " 'SNX9',\n",
       " 'NOTCH2',\n",
       " 'MYO10',\n",
       " 'SPP1',\n",
       " 'PXDN',\n",
       " 'MMP1',\n",
       " 'CALR',\n",
       " 'PPP1R14B',\n",
       " 'ATF4',\n",
       " 'HMGA2',\n",
       " 'TMED7',\n",
       " 'MARCH3',\n",
       " 'ADAMTS6',\n",
       " 'OAF',\n",
       " 'CANX',\n",
       " 'CDCP1',\n",
       " 'NRP1',\n",
       " 'APBB2',\n",
       " 'PDIA3',\n",
       " 'IL33',\n",
       " 'FAM126A',\n",
       " 'LRRC8C',\n",
       " 'STC2',\n",
       " 'DYNLRB1',\n",
       " 'TMEM132A',\n",
       " 'AMPD3',\n",
       " 'MYO1B',\n",
       " 'SIPA1L3',\n",
       " 'PDLIM4',\n",
       " 'MT-ATP6',\n",
       " 'SDC2',\n",
       " 'SRGAP1',\n",
       " 'SMS',\n",
       " 'B4GALT2',\n",
       " 'LINC02327',\n",
       " 'LIF',\n",
       " 'MYC',\n",
       " 'PHLDA1',\n",
       " 'PRKG1',\n",
       " 'MT-ND4',\n",
       " 'CXCL5',\n",
       " 'AC025580.2',\n",
       " 'MYADM',\n",
       " 'UBE2E2',\n",
       " 'ERRFI1',\n",
       " 'AC068724.3',\n",
       " 'AL135878.1',\n",
       " 'VEGFA',\n",
       " 'LIPG',\n",
       " 'ADAM9',\n",
       " 'APCDD1L',\n",
       " 'INSIG1',\n",
       " 'ATP13A3',\n",
       " 'EIF4EBP1',\n",
       " 'SEC11C',\n",
       " 'AC107021.1',\n",
       " 'CAV2',\n",
       " 'LUCAT1',\n",
       " 'PPP3CC',\n",
       " 'MT-CO2',\n",
       " 'AL136454.1',\n",
       " 'MYDGF',\n",
       " 'NIBAN2',\n",
       " 'WNT5A',\n",
       " 'FKBP1A',\n",
       " 'FRMD6',\n",
       " 'TIMP1',\n",
       " 'OSMR-AS1',\n",
       " 'CSGALNACT2',\n",
       " 'LONP1',\n",
       " 'ATG7',\n",
       " 'MYO9B',\n",
       " 'ENO1',\n",
       " 'TFPI2',\n",
       " 'SLC11A2',\n",
       " 'CCL2',\n",
       " 'LRRFIP1',\n",
       " 'LINC01446',\n",
       " 'KAT5',\n",
       " 'MAP4K3',\n",
       " 'ZFC3H1',\n",
       " 'NT5E',\n",
       " 'KDM7A',\n",
       " 'PRKRIP1',\n",
       " 'MT-ND2',\n",
       " 'ACKR3',\n",
       " 'KIFC3',\n",
       " 'EFL1',\n",
       " 'RCN3',\n",
       " 'HSPG2',\n",
       " 'ITGA2',\n",
       " 'DLG1',\n",
       " 'MIR4435-2HG',\n",
       " 'VMP1',\n",
       " 'LDHA',\n",
       " 'CNDP2',\n",
       " 'PCNX4',\n",
       " 'ANTXR2',\n",
       " 'TMED10',\n",
       " 'ADM',\n",
       " 'OOEP',\n",
       " 'HSP90B1',\n",
       " 'AC003092.1',\n",
       " 'SPRY2',\n",
       " 'CRELD2',\n",
       " 'IGFBP5',\n",
       " 'IER3',\n",
       " 'GRB10',\n",
       " 'MAMLD1',\n",
       " 'BCAT1',\n",
       " 'PID1',\n",
       " 'WFDC3',\n",
       " 'SRPX2',\n",
       " 'SNED1',\n",
       " 'STARD13',\n",
       " 'ETV6',\n",
       " 'AMPD2',\n",
       " 'INSIG2',\n",
       " 'F2RL1',\n",
       " 'LOXL2',\n",
       " 'MTSS1',\n",
       " 'STAG1',\n",
       " 'CORO1C']"
      ]
     },
     "execution_count": 24,
     "metadata": {},
     "output_type": "execute_result"
    }
   ],
   "source": [
    "list(upDEG.index)"
   ]
  },
  {
   "cell_type": "code",
   "execution_count": 25,
   "id": "subjective-sydney",
   "metadata": {},
   "outputs": [],
   "source": [
    "#list(upDEG.index)"
   ]
  },
  {
   "cell_type": "markdown",
   "id": "unnecessary-essex",
   "metadata": {},
   "source": [
    "### Significant Down reg in F"
   ]
  },
  {
   "cell_type": "code",
   "execution_count": 26,
   "id": "invalid-rough",
   "metadata": {},
   "outputs": [],
   "source": [
    "downDEG= df1[(df1['p_val_adj'] < 0.05) & (df1['logFC'] < -0.1)]"
   ]
  },
  {
   "cell_type": "code",
   "execution_count": 27,
   "id": "wanted-series",
   "metadata": {},
   "outputs": [],
   "source": [
    "downDEG.to_csv('../results/SC_limma_fibroEndo_TOX_24h/1_DEGs_DOWN_SC_TOX_24h_F.tsv', index=True, sep='\\t')"
   ]
  },
  {
   "cell_type": "code",
   "execution_count": 28,
   "id": "bored-advocacy",
   "metadata": {},
   "outputs": [
    {
     "data": {
      "text/html": [
       "<div>\n",
       "<style scoped>\n",
       "    .dataframe tbody tr th:only-of-type {\n",
       "        vertical-align: middle;\n",
       "    }\n",
       "\n",
       "    .dataframe tbody tr th {\n",
       "        vertical-align: top;\n",
       "    }\n",
       "\n",
       "    .dataframe thead th {\n",
       "        text-align: right;\n",
       "    }\n",
       "</style>\n",
       "<table border=\"1\" class=\"dataframe\">\n",
       "  <thead>\n",
       "    <tr style=\"text-align: right;\">\n",
       "      <th></th>\n",
       "      <th>logFC</th>\n",
       "      <th>logCPM</th>\n",
       "      <th>F</th>\n",
       "      <th>PValue</th>\n",
       "      <th>bonferroni</th>\n",
       "      <th>p_val_adj</th>\n",
       "    </tr>\n",
       "  </thead>\n",
       "  <tbody>\n",
       "    <tr>\n",
       "      <th>FP236383.3</th>\n",
       "      <td>-0.267234</td>\n",
       "      <td>8.921697</td>\n",
       "      <td>44.498397</td>\n",
       "      <td>4.224601e-07</td>\n",
       "      <td>0.002943</td>\n",
       "      <td>0.000736</td>\n",
       "    </tr>\n",
       "    <tr>\n",
       "      <th>PLCG2</th>\n",
       "      <td>-0.822890</td>\n",
       "      <td>4.749957</td>\n",
       "      <td>41.590876</td>\n",
       "      <td>7.416200e-07</td>\n",
       "      <td>0.005166</td>\n",
       "      <td>0.000861</td>\n",
       "    </tr>\n",
       "    <tr>\n",
       "      <th>AP000787.1</th>\n",
       "      <td>-0.717245</td>\n",
       "      <td>4.883265</td>\n",
       "      <td>40.769184</td>\n",
       "      <td>8.733971e-07</td>\n",
       "      <td>0.006084</td>\n",
       "      <td>0.000869</td>\n",
       "    </tr>\n",
       "    <tr>\n",
       "      <th>CDC7</th>\n",
       "      <td>-0.466765</td>\n",
       "      <td>4.301757</td>\n",
       "      <td>28.757446</td>\n",
       "      <td>1.250716e-05</td>\n",
       "      <td>0.087125</td>\n",
       "      <td>0.004586</td>\n",
       "    </tr>\n",
       "    <tr>\n",
       "      <th>DNAJC21</th>\n",
       "      <td>-0.296865</td>\n",
       "      <td>6.041127</td>\n",
       "      <td>25.788640</td>\n",
       "      <td>2.653685e-05</td>\n",
       "      <td>0.184856</td>\n",
       "      <td>0.007702</td>\n",
       "    </tr>\n",
       "  </tbody>\n",
       "</table>\n",
       "</div>"
      ],
      "text/plain": [
       "               logFC    logCPM          F        PValue  bonferroni  p_val_adj\n",
       "FP236383.3 -0.267234  8.921697  44.498397  4.224601e-07    0.002943   0.000736\n",
       "PLCG2      -0.822890  4.749957  41.590876  7.416200e-07    0.005166   0.000861\n",
       "AP000787.1 -0.717245  4.883265  40.769184  8.733971e-07    0.006084   0.000869\n",
       "CDC7       -0.466765  4.301757  28.757446  1.250716e-05    0.087125   0.004586\n",
       "DNAJC21    -0.296865  6.041127  25.788640  2.653685e-05    0.184856   0.007702"
      ]
     },
     "execution_count": 28,
     "metadata": {},
     "output_type": "execute_result"
    }
   ],
   "source": [
    "downDEG.head()"
   ]
  },
  {
   "cell_type": "code",
   "execution_count": 29,
   "id": "labeled-wonder",
   "metadata": {},
   "outputs": [
    {
     "data": {
      "text/plain": [
       "(84, 6)"
      ]
     },
     "execution_count": 29,
     "metadata": {},
     "output_type": "execute_result"
    }
   ],
   "source": [
    "downDEG.shape"
   ]
  },
  {
   "cell_type": "code",
   "execution_count": 30,
   "id": "rapid-telescope",
   "metadata": {
    "collapsed": true,
    "jupyter": {
     "outputs_hidden": true
    },
    "tags": []
   },
   "outputs": [
    {
     "data": {
      "text/plain": [
       "['FP236383.3',\n",
       " 'PLCG2',\n",
       " 'AP000787.1',\n",
       " 'CDC7',\n",
       " 'DNAJC21',\n",
       " 'AC105402.3',\n",
       " 'DEK',\n",
       " 'PET100',\n",
       " 'RNF111',\n",
       " 'PDRG1',\n",
       " 'AQP3',\n",
       " 'SYCE1',\n",
       " 'GGCT',\n",
       " 'STMN1',\n",
       " 'WNT2',\n",
       " 'CIR1',\n",
       " 'GINM1',\n",
       " 'SSX2IP',\n",
       " 'ESF1',\n",
       " 'NDUFB1',\n",
       " 'IFT43',\n",
       " 'RRBP1',\n",
       " 'LGI2',\n",
       " 'STOM',\n",
       " 'TPGS1',\n",
       " 'IL1R1',\n",
       " 'MTUS1',\n",
       " 'RCC2',\n",
       " 'SLC39A10',\n",
       " 'FSIP1',\n",
       " 'TCEAL3',\n",
       " 'TSC22D1',\n",
       " 'UBB',\n",
       " 'EML1',\n",
       " 'CSNK1G2',\n",
       " 'TGFBR3',\n",
       " 'RBP1',\n",
       " 'IMPA2',\n",
       " 'BIN1',\n",
       " 'VCAN-AS1',\n",
       " 'CXCL14',\n",
       " 'RPS8',\n",
       " 'CCDC186',\n",
       " 'ARL14EPL',\n",
       " 'TFRC',\n",
       " 'RPL22',\n",
       " 'BMP5',\n",
       " 'COX5A',\n",
       " 'ATP5IF1',\n",
       " 'TCIM',\n",
       " 'FAM177A1',\n",
       " 'MMP23B',\n",
       " 'CD36',\n",
       " 'HIST1H4C',\n",
       " 'HADHA',\n",
       " 'RNF19A',\n",
       " 'ADI1',\n",
       " 'RBM17',\n",
       " 'MARC2',\n",
       " 'AHNAK',\n",
       " 'S100A6',\n",
       " 'SESN3',\n",
       " 'DLG3',\n",
       " 'ARL6IP1',\n",
       " 'QPRT',\n",
       " 'AURKA',\n",
       " 'YWHAH',\n",
       " 'LMNA',\n",
       " 'TPRA1',\n",
       " 'HMGB2',\n",
       " 'ST3GAL4',\n",
       " 'STAU2',\n",
       " 'SMIM10L1',\n",
       " 'RTF1',\n",
       " 'FYTTD1',\n",
       " 'SPRY1',\n",
       " 'COL14A1',\n",
       " 'BECN1',\n",
       " 'DYNC1I2',\n",
       " 'RALBP1',\n",
       " 'HP1BP3',\n",
       " 'CCDC66',\n",
       " 'SON',\n",
       " 'ZC3H15']"
      ]
     },
     "execution_count": 30,
     "metadata": {},
     "output_type": "execute_result"
    }
   ],
   "source": [
    "list(downDEG.index)"
   ]
  },
  {
   "cell_type": "code",
   "execution_count": null,
   "id": "hired-stress",
   "metadata": {},
   "outputs": [],
   "source": []
  },
  {
   "cell_type": "markdown",
   "id": "coral-expense",
   "metadata": {},
   "source": [
    "#  PV"
   ]
  },
  {
   "cell_type": "markdown",
   "id": "duplicate-venue",
   "metadata": {},
   "source": [
    "### Significant Up reg in PV"
   ]
  },
  {
   "cell_type": "code",
   "execution_count": 31,
   "id": "disturbed-morris",
   "metadata": {},
   "outputs": [],
   "source": [
    "upDEG= df2[(df2['p_val_adj'] < 0.05) & (df2['logFC'] > 0.1)]"
   ]
  },
  {
   "cell_type": "code",
   "execution_count": 32,
   "id": "billion-brave",
   "metadata": {},
   "outputs": [],
   "source": [
    "upDEG.to_csv('../results/SC_limma_fibroEndo_TOX_24h/2_DEGs_UP_SC_TOX_24h_PV.tsv', index=True, sep='\\t')"
   ]
  },
  {
   "cell_type": "code",
   "execution_count": 33,
   "id": "obvious-throw",
   "metadata": {},
   "outputs": [
    {
     "data": {
      "text/html": [
       "<div>\n",
       "<style scoped>\n",
       "    .dataframe tbody tr th:only-of-type {\n",
       "        vertical-align: middle;\n",
       "    }\n",
       "\n",
       "    .dataframe tbody tr th {\n",
       "        vertical-align: top;\n",
       "    }\n",
       "\n",
       "    .dataframe thead th {\n",
       "        text-align: right;\n",
       "    }\n",
       "</style>\n",
       "<table border=\"1\" class=\"dataframe\">\n",
       "  <thead>\n",
       "    <tr style=\"text-align: right;\">\n",
       "      <th></th>\n",
       "      <th>logFC</th>\n",
       "      <th>logCPM</th>\n",
       "      <th>F</th>\n",
       "      <th>PValue</th>\n",
       "      <th>bonferroni</th>\n",
       "      <th>p_val_adj</th>\n",
       "    </tr>\n",
       "  </thead>\n",
       "  <tbody>\n",
       "    <tr>\n",
       "      <th>CD68</th>\n",
       "      <td>0.778783</td>\n",
       "      <td>4.457690</td>\n",
       "      <td>56.390919</td>\n",
       "      <td>3.322928e-08</td>\n",
       "      <td>0.000246</td>\n",
       "      <td>0.000246</td>\n",
       "    </tr>\n",
       "    <tr>\n",
       "      <th>SERPINE1</th>\n",
       "      <td>0.596916</td>\n",
       "      <td>10.631820</td>\n",
       "      <td>42.412198</td>\n",
       "      <td>4.462031e-07</td>\n",
       "      <td>0.003306</td>\n",
       "      <td>0.001102</td>\n",
       "    </tr>\n",
       "    <tr>\n",
       "      <th>SPP1</th>\n",
       "      <td>0.924016</td>\n",
       "      <td>7.838992</td>\n",
       "      <td>39.349764</td>\n",
       "      <td>8.459709e-07</td>\n",
       "      <td>0.006268</td>\n",
       "      <td>0.001254</td>\n",
       "    </tr>\n",
       "    <tr>\n",
       "      <th>PGAM1</th>\n",
       "      <td>0.393088</td>\n",
       "      <td>7.736512</td>\n",
       "      <td>37.133623</td>\n",
       "      <td>1.369823e-06</td>\n",
       "      <td>0.010149</td>\n",
       "      <td>0.001362</td>\n",
       "    </tr>\n",
       "    <tr>\n",
       "      <th>RNASE1</th>\n",
       "      <td>0.628468</td>\n",
       "      <td>5.194213</td>\n",
       "      <td>37.819184</td>\n",
       "      <td>1.177979e-06</td>\n",
       "      <td>0.008728</td>\n",
       "      <td>0.001362</td>\n",
       "    </tr>\n",
       "  </tbody>\n",
       "</table>\n",
       "</div>"
      ],
      "text/plain": [
       "             logFC     logCPM          F        PValue  bonferroni  p_val_adj\n",
       "CD68      0.778783   4.457690  56.390919  3.322928e-08    0.000246   0.000246\n",
       "SERPINE1  0.596916  10.631820  42.412198  4.462031e-07    0.003306   0.001102\n",
       "SPP1      0.924016   7.838992  39.349764  8.459709e-07    0.006268   0.001254\n",
       "PGAM1     0.393088   7.736512  37.133623  1.369823e-06    0.010149   0.001362\n",
       "RNASE1    0.628468   5.194213  37.819184  1.177979e-06    0.008728   0.001362"
      ]
     },
     "execution_count": 33,
     "metadata": {},
     "output_type": "execute_result"
    }
   ],
   "source": [
    "upDEG.head()"
   ]
  },
  {
   "cell_type": "code",
   "execution_count": 34,
   "id": "adequate-lawsuit",
   "metadata": {},
   "outputs": [
    {
     "data": {
      "text/plain": [
       "(146, 6)"
      ]
     },
     "execution_count": 34,
     "metadata": {},
     "output_type": "execute_result"
    }
   ],
   "source": [
    "upDEG.shape"
   ]
  },
  {
   "cell_type": "code",
   "execution_count": 35,
   "id": "female-sacrifice",
   "metadata": {
    "collapsed": true,
    "jupyter": {
     "outputs_hidden": true
    },
    "tags": []
   },
   "outputs": [
    {
     "data": {
      "text/plain": [
       "['CD68',\n",
       " 'SERPINE1',\n",
       " 'SPP1',\n",
       " 'PGAM1',\n",
       " 'RNASE1',\n",
       " 'HMGA2',\n",
       " 'LIF',\n",
       " 'DYNLRB1',\n",
       " 'CD14',\n",
       " 'SLC43A3',\n",
       " 'P4HB',\n",
       " 'GNG11',\n",
       " 'VEGFA',\n",
       " 'ERO1A',\n",
       " 'PITPNC1',\n",
       " 'GAL',\n",
       " 'NINJ1',\n",
       " 'PDXK',\n",
       " 'ATP13A3',\n",
       " 'RIN1',\n",
       " 'GK',\n",
       " 'ANGPTL4',\n",
       " 'EIF4A1',\n",
       " 'ITGA2',\n",
       " 'FAM13A',\n",
       " 'ARRDC3',\n",
       " 'NAMPT',\n",
       " 'MTSS1',\n",
       " 'IRAK3',\n",
       " 'JARID2',\n",
       " 'STC1',\n",
       " 'ENO2',\n",
       " 'CEBPB',\n",
       " 'SOD2',\n",
       " 'MRPL15',\n",
       " 'IL6',\n",
       " 'EXT1',\n",
       " 'LOXL2',\n",
       " 'ICAM1',\n",
       " 'IER3',\n",
       " 'HBEGF',\n",
       " 'RPL9',\n",
       " 'GAPDH',\n",
       " 'PLAUR',\n",
       " 'SRGN',\n",
       " 'CXCL5',\n",
       " 'IGFBP3',\n",
       " 'IL33',\n",
       " 'MMP24OS',\n",
       " 'MSC-AS1',\n",
       " 'SPHK1',\n",
       " 'SP100',\n",
       " 'MB21D2',\n",
       " 'BCAT1',\n",
       " 'PPP1R14B',\n",
       " 'ADORA2A',\n",
       " 'FCER1G',\n",
       " 'TBCA',\n",
       " 'TMEM132A',\n",
       " 'SSR2',\n",
       " 'TOMM5',\n",
       " 'TTLL5',\n",
       " 'HSPE1',\n",
       " 'DESI1',\n",
       " 'GFPT2',\n",
       " 'BCKDK',\n",
       " 'EIF5A',\n",
       " 'RUNX1',\n",
       " 'PLOD2',\n",
       " 'SEC61G',\n",
       " 'TUBB2B',\n",
       " 'MYO10',\n",
       " 'TRAF1',\n",
       " 'F13A1',\n",
       " 'LDHA',\n",
       " 'IQCJ-SCHIP1',\n",
       " 'HSPG2',\n",
       " 'AL136454.1',\n",
       " 'STC2',\n",
       " 'ENO1',\n",
       " 'CREG1',\n",
       " 'ST3GAL1',\n",
       " 'BIRC2',\n",
       " 'AC068724.3',\n",
       " 'IRAK2',\n",
       " 'CTSL',\n",
       " 'PRMT1',\n",
       " 'SCARF1',\n",
       " 'PDGFC',\n",
       " 'MT-ND4',\n",
       " 'RIPK2',\n",
       " 'RUNX2',\n",
       " 'CCL4',\n",
       " 'BRK1',\n",
       " 'BTF3',\n",
       " 'RRP12',\n",
       " 'ELL2',\n",
       " 'FOXP1',\n",
       " 'RAI14',\n",
       " 'HSPA13',\n",
       " 'GOLT1B',\n",
       " 'ERRFI1',\n",
       " 'RAP1B',\n",
       " 'LINC01829',\n",
       " 'CHCHD2',\n",
       " 'MT-ND2',\n",
       " 'PKM',\n",
       " 'MIR181A1HG',\n",
       " 'PFN1',\n",
       " 'TUBA1C',\n",
       " 'PVT1',\n",
       " 'MPC2',\n",
       " 'SCD',\n",
       " 'SRPRB',\n",
       " 'NRP1',\n",
       " 'OAF',\n",
       " 'GOLPH3L',\n",
       " 'SNRPF',\n",
       " 'FNDC3B',\n",
       " 'PGM3',\n",
       " 'DCBLD2',\n",
       " 'MSRB3',\n",
       " 'PAMR1',\n",
       " 'ISG20',\n",
       " 'FKBP1A',\n",
       " 'HSPD1',\n",
       " 'TRAF3',\n",
       " 'TBC1D32',\n",
       " 'ZNF286A',\n",
       " 'MT-ATP6',\n",
       " 'SNHG16',\n",
       " 'TRAF3IP2',\n",
       " 'NGLY1',\n",
       " 'FOXD1',\n",
       " 'RPL7',\n",
       " 'CXCL8',\n",
       " 'SELENOK',\n",
       " 'LTBP1',\n",
       " 'CNIH1',\n",
       " 'SUPT3H',\n",
       " 'HSD17B12',\n",
       " 'SNAPC1',\n",
       " 'SMAD3',\n",
       " 'METRNL',\n",
       " 'SNU13',\n",
       " 'MTDH']"
      ]
     },
     "execution_count": 35,
     "metadata": {},
     "output_type": "execute_result"
    }
   ],
   "source": [
    "list(upDEG.index)"
   ]
  },
  {
   "cell_type": "code",
   "execution_count": 36,
   "id": "controlling-importance",
   "metadata": {},
   "outputs": [],
   "source": [
    "#list(upDEG.index)"
   ]
  },
  {
   "cell_type": "markdown",
   "id": "incorrect-warrior",
   "metadata": {},
   "source": [
    "### Significant Down reg in PV"
   ]
  },
  {
   "cell_type": "code",
   "execution_count": 37,
   "id": "worthy-restoration",
   "metadata": {},
   "outputs": [],
   "source": [
    "downDEG= df2[(df2['p_val_adj'] < 0.05) & (df2['logFC'] < -0.1)]"
   ]
  },
  {
   "cell_type": "code",
   "execution_count": 38,
   "id": "likely-summary",
   "metadata": {},
   "outputs": [],
   "source": [
    "downDEG.to_csv('../results/SC_limma_fibroEndo_TOX_24h/2_DEGs_DOWN_SC_TOX_24h_PV.tsv', index=True, sep='\\t')"
   ]
  },
  {
   "cell_type": "code",
   "execution_count": 39,
   "id": "necessary-ensemble",
   "metadata": {},
   "outputs": [
    {
     "data": {
      "text/html": [
       "<div>\n",
       "<style scoped>\n",
       "    .dataframe tbody tr th:only-of-type {\n",
       "        vertical-align: middle;\n",
       "    }\n",
       "\n",
       "    .dataframe tbody tr th {\n",
       "        vertical-align: top;\n",
       "    }\n",
       "\n",
       "    .dataframe thead th {\n",
       "        text-align: right;\n",
       "    }\n",
       "</style>\n",
       "<table border=\"1\" class=\"dataframe\">\n",
       "  <thead>\n",
       "    <tr style=\"text-align: right;\">\n",
       "      <th></th>\n",
       "      <th>logFC</th>\n",
       "      <th>logCPM</th>\n",
       "      <th>F</th>\n",
       "      <th>PValue</th>\n",
       "      <th>bonferroni</th>\n",
       "      <th>p_val_adj</th>\n",
       "    </tr>\n",
       "  </thead>\n",
       "  <tbody>\n",
       "    <tr>\n",
       "      <th>THY1</th>\n",
       "      <td>-0.784322</td>\n",
       "      <td>6.441113</td>\n",
       "      <td>43.756564</td>\n",
       "      <td>3.400022e-07</td>\n",
       "      <td>0.002519</td>\n",
       "      <td>0.001102</td>\n",
       "    </tr>\n",
       "    <tr>\n",
       "      <th>LDB2</th>\n",
       "      <td>-0.862371</td>\n",
       "      <td>4.833016</td>\n",
       "      <td>39.515069</td>\n",
       "      <td>8.166373e-07</td>\n",
       "      <td>0.006050</td>\n",
       "      <td>0.001254</td>\n",
       "    </tr>\n",
       "    <tr>\n",
       "      <th>C4orf48</th>\n",
       "      <td>-0.301300</td>\n",
       "      <td>7.203187</td>\n",
       "      <td>36.286144</td>\n",
       "      <td>1.654482e-06</td>\n",
       "      <td>0.012258</td>\n",
       "      <td>0.001362</td>\n",
       "    </tr>\n",
       "    <tr>\n",
       "      <th>PLCG2</th>\n",
       "      <td>-0.886854</td>\n",
       "      <td>5.109226</td>\n",
       "      <td>34.272943</td>\n",
       "      <td>2.618384e-06</td>\n",
       "      <td>0.019400</td>\n",
       "      <td>0.001737</td>\n",
       "    </tr>\n",
       "    <tr>\n",
       "      <th>PLCL1</th>\n",
       "      <td>-0.746972</td>\n",
       "      <td>8.550412</td>\n",
       "      <td>34.735296</td>\n",
       "      <td>2.353203e-06</td>\n",
       "      <td>0.017435</td>\n",
       "      <td>0.001737</td>\n",
       "    </tr>\n",
       "  </tbody>\n",
       "</table>\n",
       "</div>"
      ],
      "text/plain": [
       "            logFC    logCPM          F        PValue  bonferroni  p_val_adj\n",
       "THY1    -0.784322  6.441113  43.756564  3.400022e-07    0.002519   0.001102\n",
       "LDB2    -0.862371  4.833016  39.515069  8.166373e-07    0.006050   0.001254\n",
       "C4orf48 -0.301300  7.203187  36.286144  1.654482e-06    0.012258   0.001362\n",
       "PLCG2   -0.886854  5.109226  34.272943  2.618384e-06    0.019400   0.001737\n",
       "PLCL1   -0.746972  8.550412  34.735296  2.353203e-06    0.017435   0.001737"
      ]
     },
     "execution_count": 39,
     "metadata": {},
     "output_type": "execute_result"
    }
   ],
   "source": [
    "downDEG.head()"
   ]
  },
  {
   "cell_type": "code",
   "execution_count": 40,
   "id": "complete-strand",
   "metadata": {},
   "outputs": [
    {
     "data": {
      "text/plain": [
       "(132, 6)"
      ]
     },
     "execution_count": 40,
     "metadata": {},
     "output_type": "execute_result"
    }
   ],
   "source": [
    "downDEG.shape"
   ]
  },
  {
   "cell_type": "code",
   "execution_count": 41,
   "id": "configured-toner",
   "metadata": {
    "collapsed": true,
    "jupyter": {
     "outputs_hidden": true
    },
    "tags": []
   },
   "outputs": [
    {
     "data": {
      "text/plain": [
       "['THY1',\n",
       " 'LDB2',\n",
       " 'C4orf48',\n",
       " 'PLCG2',\n",
       " 'PLCL1',\n",
       " 'RYR2',\n",
       " 'ENPP2',\n",
       " 'P2RY14',\n",
       " 'PCDH18',\n",
       " 'SOCS2',\n",
       " 'SAMD5',\n",
       " 'TBX2',\n",
       " 'PLK2',\n",
       " 'TMEM141',\n",
       " 'A2M',\n",
       " 'QPRT',\n",
       " 'ITM2C',\n",
       " 'SESTD1',\n",
       " 'NR2F1',\n",
       " 'DAAM2',\n",
       " 'EVA1B',\n",
       " 'PPIC',\n",
       " 'BTBD3',\n",
       " 'MEF2C',\n",
       " 'INPP4B',\n",
       " 'PPP1R14A',\n",
       " 'GNB5',\n",
       " 'LHFPL6',\n",
       " 'HIST1H4C',\n",
       " 'ARHGAP6',\n",
       " 'FAT1',\n",
       " 'OSBPL10',\n",
       " 'FP236383.3',\n",
       " 'ARHGEF6',\n",
       " 'UACA',\n",
       " 'NR2F2',\n",
       " 'GATM',\n",
       " 'MAP3K7CL',\n",
       " 'CTNNAL1',\n",
       " 'GUCY1A2',\n",
       " 'HGF',\n",
       " 'TACC1',\n",
       " 'CCDC3',\n",
       " 'GUCY1B1',\n",
       " 'RTN2',\n",
       " 'LAMA2',\n",
       " 'COLEC11',\n",
       " 'ITIH5',\n",
       " 'RRBP1',\n",
       " 'NOTCH3',\n",
       " 'PRR12',\n",
       " 'OLFML2B',\n",
       " 'TPPP3',\n",
       " 'IMPA2',\n",
       " 'VAMP5',\n",
       " 'TANC1',\n",
       " 'CPLANE1',\n",
       " 'HCFC1R1',\n",
       " 'MEST',\n",
       " 'EYA2',\n",
       " 'LAMC3',\n",
       " 'DPP4',\n",
       " 'DOCK11',\n",
       " 'MAPRE2',\n",
       " 'PTN',\n",
       " 'HMGN3',\n",
       " 'TBX5',\n",
       " 'PLAC9',\n",
       " 'ITGA4',\n",
       " 'KLHL24',\n",
       " 'WFDC1',\n",
       " 'LITAF',\n",
       " 'AFF2',\n",
       " 'PACS1',\n",
       " 'LAMB1',\n",
       " 'PLEKHA5',\n",
       " 'CNNM2',\n",
       " 'GRID1',\n",
       " 'GPC3',\n",
       " 'GSN',\n",
       " 'ROCK2',\n",
       " 'CARMN',\n",
       " 'CST3',\n",
       " 'SCN7A',\n",
       " 'PRLR',\n",
       " 'PELI2',\n",
       " 'FRZB',\n",
       " 'FN1',\n",
       " 'AC005355.1',\n",
       " 'CMTM8',\n",
       " 'GJC1',\n",
       " 'NCALD',\n",
       " 'DNAJC15',\n",
       " 'DTNBP1',\n",
       " 'ITGA9-AS1',\n",
       " 'EBPL',\n",
       " 'AC105402.3',\n",
       " 'GAS6',\n",
       " 'SETBP1',\n",
       " 'KIF2A',\n",
       " 'ZNF717',\n",
       " 'H2AFJ',\n",
       " 'RWDD1',\n",
       " 'LMNA',\n",
       " 'EDNRB',\n",
       " 'IRAK4',\n",
       " 'EGFL6',\n",
       " 'RAB11FIP1',\n",
       " 'PTH1R',\n",
       " 'COL6A3',\n",
       " 'PRKCA',\n",
       " 'NME3',\n",
       " 'HAPLN1',\n",
       " 'EVA1C',\n",
       " 'EPHA3',\n",
       " 'MYCBP',\n",
       " 'IL1R1',\n",
       " 'BCAS3',\n",
       " 'CCDC68',\n",
       " 'NQO2',\n",
       " 'MTUS1',\n",
       " 'COL4A5',\n",
       " 'AOPEP',\n",
       " 'LIN28B',\n",
       " 'USP33',\n",
       " 'MAD2L2',\n",
       " 'GUCY1A1',\n",
       " 'STOM',\n",
       " 'BMP5',\n",
       " 'ARHGAP24',\n",
       " 'FAM126A',\n",
       " 'MAPRE3']"
      ]
     },
     "execution_count": 41,
     "metadata": {},
     "output_type": "execute_result"
    }
   ],
   "source": [
    "list(downDEG.index)"
   ]
  },
  {
   "cell_type": "code",
   "execution_count": null,
   "id": "incorrect-nigeria",
   "metadata": {},
   "outputs": [],
   "source": []
  },
  {
   "cell_type": "markdown",
   "id": "expired-shower",
   "metadata": {},
   "source": [
    "#  Endo_f"
   ]
  },
  {
   "cell_type": "markdown",
   "id": "concrete-vitamin",
   "metadata": {},
   "source": [
    "### Significant Up reg in Endof"
   ]
  },
  {
   "cell_type": "code",
   "execution_count": 42,
   "id": "distinguished-utilization",
   "metadata": {},
   "outputs": [],
   "source": [
    "upDEG= df3[(df3['p_val_adj'] < 0.05) & (df3['logFC'] > 0.1)]"
   ]
  },
  {
   "cell_type": "code",
   "execution_count": 43,
   "id": "tracked-translation",
   "metadata": {},
   "outputs": [],
   "source": [
    "upDEG.to_csv('../results/SC_limma_fibroEndo_TOX_24h/3_DEGs_UP_SC_TOX_24h_Endof.tsv', index=True, sep='\\t')"
   ]
  },
  {
   "cell_type": "code",
   "execution_count": 44,
   "id": "applicable-motel",
   "metadata": {},
   "outputs": [
    {
     "data": {
      "text/html": [
       "<div>\n",
       "<style scoped>\n",
       "    .dataframe tbody tr th:only-of-type {\n",
       "        vertical-align: middle;\n",
       "    }\n",
       "\n",
       "    .dataframe tbody tr th {\n",
       "        vertical-align: top;\n",
       "    }\n",
       "\n",
       "    .dataframe thead th {\n",
       "        text-align: right;\n",
       "    }\n",
       "</style>\n",
       "<table border=\"1\" class=\"dataframe\">\n",
       "  <thead>\n",
       "    <tr style=\"text-align: right;\">\n",
       "      <th></th>\n",
       "      <th>logFC</th>\n",
       "      <th>logCPM</th>\n",
       "      <th>F</th>\n",
       "      <th>PValue</th>\n",
       "      <th>bonferroni</th>\n",
       "      <th>p_val_adj</th>\n",
       "    </tr>\n",
       "  </thead>\n",
       "  <tbody>\n",
       "    <tr>\n",
       "      <th>MT-ATP6</th>\n",
       "      <td>0.395582</td>\n",
       "      <td>12.310631</td>\n",
       "      <td>29.299554</td>\n",
       "      <td>0.000008</td>\n",
       "      <td>0.060860</td>\n",
       "      <td>0.010143</td>\n",
       "    </tr>\n",
       "    <tr>\n",
       "      <th>TM4SF1</th>\n",
       "      <td>0.261449</td>\n",
       "      <td>10.779658</td>\n",
       "      <td>25.942360</td>\n",
       "      <td>0.000020</td>\n",
       "      <td>0.147604</td>\n",
       "      <td>0.018174</td>\n",
       "    </tr>\n",
       "    <tr>\n",
       "      <th>PHF5A</th>\n",
       "      <td>0.352516</td>\n",
       "      <td>4.803430</td>\n",
       "      <td>25.176129</td>\n",
       "      <td>0.000024</td>\n",
       "      <td>0.182148</td>\n",
       "      <td>0.018174</td>\n",
       "    </tr>\n",
       "    <tr>\n",
       "      <th>MT-CO2</th>\n",
       "      <td>0.256410</td>\n",
       "      <td>12.635936</td>\n",
       "      <td>25.523726</td>\n",
       "      <td>0.000022</td>\n",
       "      <td>0.165510</td>\n",
       "      <td>0.018174</td>\n",
       "    </tr>\n",
       "    <tr>\n",
       "      <th>COL1A2</th>\n",
       "      <td>0.590334</td>\n",
       "      <td>4.731228</td>\n",
       "      <td>24.484398</td>\n",
       "      <td>0.000030</td>\n",
       "      <td>0.220835</td>\n",
       "      <td>0.018403</td>\n",
       "    </tr>\n",
       "  </tbody>\n",
       "</table>\n",
       "</div>"
      ],
      "text/plain": [
       "            logFC     logCPM          F    PValue  bonferroni  p_val_adj\n",
       "MT-ATP6  0.395582  12.310631  29.299554  0.000008    0.060860   0.010143\n",
       "TM4SF1   0.261449  10.779658  25.942360  0.000020    0.147604   0.018174\n",
       "PHF5A    0.352516   4.803430  25.176129  0.000024    0.182148   0.018174\n",
       "MT-CO2   0.256410  12.635936  25.523726  0.000022    0.165510   0.018174\n",
       "COL1A2   0.590334   4.731228  24.484398  0.000030    0.220835   0.018403"
      ]
     },
     "execution_count": 44,
     "metadata": {},
     "output_type": "execute_result"
    }
   ],
   "source": [
    "upDEG.head()"
   ]
  },
  {
   "cell_type": "code",
   "execution_count": 45,
   "id": "found-testament",
   "metadata": {},
   "outputs": [
    {
     "data": {
      "text/plain": [
       "(20, 6)"
      ]
     },
     "execution_count": 45,
     "metadata": {},
     "output_type": "execute_result"
    }
   ],
   "source": [
    "upDEG.shape"
   ]
  },
  {
   "cell_type": "code",
   "execution_count": 46,
   "id": "instructional-officer",
   "metadata": {
    "collapsed": true,
    "jupyter": {
     "outputs_hidden": true
    },
    "tags": []
   },
   "outputs": [
    {
     "data": {
      "text/plain": [
       "['MT-ATP6',\n",
       " 'TM4SF1',\n",
       " 'PHF5A',\n",
       " 'MT-CO2',\n",
       " 'COL1A2',\n",
       " 'DYNLRB1',\n",
       " 'ENG',\n",
       " 'MT-ND4',\n",
       " 'PXDN',\n",
       " 'MT-CYB',\n",
       " 'CHSY3',\n",
       " 'HSPG2',\n",
       " 'STEAP1B',\n",
       " 'NHSL1',\n",
       " 'ZNF704',\n",
       " 'AL136454.1',\n",
       " 'SIPA1',\n",
       " 'HGF',\n",
       " 'IER3',\n",
       " 'FKBP1A']"
      ]
     },
     "execution_count": 46,
     "metadata": {},
     "output_type": "execute_result"
    }
   ],
   "source": [
    "list(upDEG.index)"
   ]
  },
  {
   "cell_type": "code",
   "execution_count": 47,
   "id": "intimate-motor",
   "metadata": {},
   "outputs": [],
   "source": [
    "#list(upDEG.index)"
   ]
  },
  {
   "cell_type": "markdown",
   "id": "meaningful-tablet",
   "metadata": {},
   "source": [
    "### Significant Down reg in Endof"
   ]
  },
  {
   "cell_type": "code",
   "execution_count": 48,
   "id": "figured-applicant",
   "metadata": {},
   "outputs": [],
   "source": [
    "downDEG= df3[ (df3['p_val_adj'] < 0.05) & (df3['logFC'] < -0.1)]"
   ]
  },
  {
   "cell_type": "code",
   "execution_count": 49,
   "id": "alternative-gasoline",
   "metadata": {},
   "outputs": [],
   "source": [
    "downDEG.to_csv('../results/SC_limma_fibroEndo_TOX_24h/3_DEGs_DOWN_SC_TOX_24h_Endof.tsv', index=True, sep='\\t')"
   ]
  },
  {
   "cell_type": "code",
   "execution_count": 50,
   "id": "endangered-fairy",
   "metadata": {},
   "outputs": [
    {
     "data": {
      "text/html": [
       "<div>\n",
       "<style scoped>\n",
       "    .dataframe tbody tr th:only-of-type {\n",
       "        vertical-align: middle;\n",
       "    }\n",
       "\n",
       "    .dataframe tbody tr th {\n",
       "        vertical-align: top;\n",
       "    }\n",
       "\n",
       "    .dataframe thead th {\n",
       "        text-align: right;\n",
       "    }\n",
       "</style>\n",
       "<table border=\"1\" class=\"dataframe\">\n",
       "  <thead>\n",
       "    <tr style=\"text-align: right;\">\n",
       "      <th></th>\n",
       "      <th>logFC</th>\n",
       "      <th>logCPM</th>\n",
       "      <th>F</th>\n",
       "      <th>PValue</th>\n",
       "      <th>bonferroni</th>\n",
       "      <th>p_val_adj</th>\n",
       "    </tr>\n",
       "  </thead>\n",
       "  <tbody>\n",
       "    <tr>\n",
       "      <th>AC068756.1</th>\n",
       "      <td>-0.724725</td>\n",
       "      <td>5.167197</td>\n",
       "      <td>50.516605</td>\n",
       "      <td>8.228532e-08</td>\n",
       "      <td>0.000615</td>\n",
       "      <td>0.000615</td>\n",
       "    </tr>\n",
       "    <tr>\n",
       "      <th>MTRNR2L1</th>\n",
       "      <td>-0.919670</td>\n",
       "      <td>5.444015</td>\n",
       "      <td>42.094318</td>\n",
       "      <td>4.290448e-07</td>\n",
       "      <td>0.003204</td>\n",
       "      <td>0.001602</td>\n",
       "    </tr>\n",
       "    <tr>\n",
       "      <th>AC105402.3</th>\n",
       "      <td>-0.493891</td>\n",
       "      <td>10.256311</td>\n",
       "      <td>39.417942</td>\n",
       "      <td>7.567194e-07</td>\n",
       "      <td>0.005651</td>\n",
       "      <td>0.001884</td>\n",
       "    </tr>\n",
       "    <tr>\n",
       "      <th>GABRE</th>\n",
       "      <td>-0.316803</td>\n",
       "      <td>7.095731</td>\n",
       "      <td>34.186172</td>\n",
       "      <td>2.460508e-06</td>\n",
       "      <td>0.018375</td>\n",
       "      <td>0.004594</td>\n",
       "    </tr>\n",
       "    <tr>\n",
       "      <th>PLCG2</th>\n",
       "      <td>-0.576897</td>\n",
       "      <td>7.421566</td>\n",
       "      <td>29.897289</td>\n",
       "      <td>6.999945e-06</td>\n",
       "      <td>0.052276</td>\n",
       "      <td>0.010143</td>\n",
       "    </tr>\n",
       "  </tbody>\n",
       "</table>\n",
       "</div>"
      ],
      "text/plain": [
       "               logFC     logCPM          F        PValue  bonferroni  \\\n",
       "AC068756.1 -0.724725   5.167197  50.516605  8.228532e-08    0.000615   \n",
       "MTRNR2L1   -0.919670   5.444015  42.094318  4.290448e-07    0.003204   \n",
       "AC105402.3 -0.493891  10.256311  39.417942  7.567194e-07    0.005651   \n",
       "GABRE      -0.316803   7.095731  34.186172  2.460508e-06    0.018375   \n",
       "PLCG2      -0.576897   7.421566  29.897289  6.999945e-06    0.052276   \n",
       "\n",
       "            p_val_adj  \n",
       "AC068756.1   0.000615  \n",
       "MTRNR2L1     0.001602  \n",
       "AC105402.3   0.001884  \n",
       "GABRE        0.004594  \n",
       "PLCG2        0.010143  "
      ]
     },
     "execution_count": 50,
     "metadata": {},
     "output_type": "execute_result"
    }
   ],
   "source": [
    "downDEG.head()"
   ]
  },
  {
   "cell_type": "code",
   "execution_count": 51,
   "id": "missing-boost",
   "metadata": {},
   "outputs": [
    {
     "data": {
      "text/plain": [
       "(13, 6)"
      ]
     },
     "execution_count": 51,
     "metadata": {},
     "output_type": "execute_result"
    }
   ],
   "source": [
    "downDEG.shape"
   ]
  },
  {
   "cell_type": "code",
   "execution_count": 52,
   "id": "other-mixture",
   "metadata": {
    "collapsed": true,
    "jupyter": {
     "outputs_hidden": true
    },
    "tags": []
   },
   "outputs": [
    {
     "data": {
      "text/plain": [
       "['AC068756.1',\n",
       " 'MTRNR2L1',\n",
       " 'AC105402.3',\n",
       " 'GABRE',\n",
       " 'PLCG2',\n",
       " 'CDKN1C',\n",
       " 'RNF111',\n",
       " 'FP236383.3',\n",
       " 'AL139807.1',\n",
       " 'MALAT1',\n",
       " 'AL117190.2',\n",
       " 'PHLDA2',\n",
       " 'PEG10']"
      ]
     },
     "execution_count": 52,
     "metadata": {},
     "output_type": "execute_result"
    }
   ],
   "source": [
    "list(downDEG.index)"
   ]
  },
  {
   "cell_type": "code",
   "execution_count": null,
   "id": "electoral-pricing",
   "metadata": {},
   "outputs": [],
   "source": []
  }
 ],
 "metadata": {
  "kernelspec": {
   "display_name": "Python 3",
   "language": "python",
   "name": "python3"
  },
  "language_info": {
   "codemirror_mode": {
    "name": "ipython",
    "version": 3
   },
   "file_extension": ".py",
   "mimetype": "text/x-python",
   "name": "python",
   "nbconvert_exporter": "python",
   "pygments_lexer": "ipython3",
   "version": "3.8.8"
  }
 },
 "nbformat": 4,
 "nbformat_minor": 5
}
