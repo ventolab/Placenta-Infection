{
 "cells": [
  {
   "cell_type": "markdown",
   "id": "regional-insulin",
   "metadata": {},
   "source": [
    "**Author:** Elias Rafael Ruiz-Morales\n",
    "\n",
    "**Institution:** Wellcome Sanger institute\n",
    "\n",
    "**July, 2023**"
   ]
  },
  {
   "cell_type": "markdown",
   "id": "federal-zambia",
   "metadata": {},
   "source": [
    "---"
   ]
  },
  {
   "cell_type": "code",
   "execution_count": 1,
   "id": "infrared-danger",
   "metadata": {},
   "outputs": [
    {
     "name": "stderr",
     "output_type": "stream",
     "text": [
      "Warning message:\n",
      "“package ‘ggplot2’ was built under R version 4.0.5”\n",
      "Warning message:\n",
      "“replacing previous import ‘ellipsis::check_dots_unnamed’ by ‘rlang::check_dots_unnamed’ when loading ‘tibble’”\n",
      "Warning message:\n",
      "“replacing previous import ‘ellipsis::check_dots_used’ by ‘rlang::check_dots_used’ when loading ‘tibble’”\n",
      "Warning message:\n",
      "“replacing previous import ‘ellipsis::check_dots_empty’ by ‘rlang::check_dots_empty’ when loading ‘tibble’”\n"
     ]
    }
   ],
   "source": [
    "library(RColorBrewer)\n",
    "library(pheatmap)\n",
    "library(ggplot2)\n",
    "library(svglite)"
   ]
  },
  {
   "cell_type": "code",
   "execution_count": 2,
   "id": "weekly-negotiation",
   "metadata": {},
   "outputs": [],
   "source": [
    "\n",
    "DGEheatmap <- function(log2FC_file,Pval_file, scaleMin, scaleMax, pval=0.5, nColors=17, ColorPalette=\"RdBu\") {\n",
    "    \n",
    "    # Function that plots the heatmaps of differentially expressed genes. With the scale bar as log2FC values, \n",
    "    # significant increases are marked with \"**\"\n",
    "    \n",
    "    # log2FC_file= dataframe in csv format containing the log2FC values per gene. Genes as rows and cell_type as columns\n",
    "    # Pval_file= ataframe in csv format containing the p-values per gene. Genes as rows and cell_type as columns\n",
    "    # scaleMin= minimum value in the scale bar. Default min(log2FC)\n",
    "    # scaleMax= maximum value in the scale bar. Default max(log2FC)\n",
    "    # pval= P-value threshold to consider a genechange significant\n",
    "    # ColorPalette= colour palette to use\n",
    "    # nColors= number of colors to create the color palette\n",
    "    #-------------------------------------------\n",
    "  \n",
    "  #reading log2FC and p-value files\n",
    "  df=read.csv(log2FC_file, header=T, row.names=1)\n",
    "  padj_labels=read.csv(Pval_file, header=T, row.names=1)\n",
    "  \n",
    "  # checking of the user input min and max values for the scale bar. Otherwise setting default.\n",
    "  if(missing(scaleMin)) {\n",
    "        scaleMin= min(df)\n",
    "  }\n",
    "  \n",
    "  if(missing(scaleMax)) {\n",
    "        scaleMin= max(df)\n",
    "  }\n",
    "  \n",
    "  \n",
    "  # Creating color palette\n",
    "  # nColors - number of colors/ to include\n",
    "  colours <- colorRampPalette(rev(brewer.pal(n = nColors, name = ColorPalette)))(nColors)  #creating the colour palette\n",
    "  \n",
    "  #creating the breaks to make colour palette. Beaks= numberColors+1\n",
    "  breaks <- c(seq(scaleMin, 0, length.out=ceiling(nColors/2) + 1),\n",
    "              seq(max(df)/nColors,\n",
    "                 scaleMax, length.out=floor(nColors/2)))\n",
    "  \n",
    "  \n",
    "  # Substituting the values for labels. Squares with a significant p-values will have asterisks\n",
    "  padj_labels[padj_labels < pval]<-\"**\"\n",
    "  padj_labels[padj_labels >= pval]<-\"\"\n",
    "\n",
    "  \n",
    "  # Plot the  heatmap with the color and break options\n",
    "  p<- pheatmap(df,cellwidth = 9, cellheight=9 , cluster_cols = FALSE,cluster_rows = FALSE,\n",
    "           color = colours, breaks=breaks, display_numbers = padj_labels)\n",
    "  \n",
    "  # return heatmap\n",
    "  return(p)\n",
    "  \n",
    "}\n"
   ]
  },
  {
   "cell_type": "code",
   "execution_count": null,
   "id": "immune-texas",
   "metadata": {},
   "outputs": [],
   "source": []
  },
  {
   "cell_type": "markdown",
   "id": "marked-magic",
   "metadata": {},
   "source": [
    "### EXAMPLE"
   ]
  },
  {
   "cell_type": "code",
   "execution_count": 5,
   "id": "canadian-participant",
   "metadata": {},
   "outputs": [
    {
     "name": "stderr",
     "output_type": "stream",
     "text": [
      "Warning message in brewer.pal(n = nColors, name = ColorPalette):\n",
      "“n too large, allowed maximum for palette RdBu is 11\n",
      "Returning the palette you asked for with that many colors\n",
      "”\n"
     ]
    },
    {
     "data": {
      "image/png": "[encoded data removed]",
      "text/plain": [
       "plot without title"
      ]
     },
     "metadata": {
      "image/png": {
       "height": 420,
       "width": 420
      }
     },
     "output_type": "display_data"
    }
   ],
   "source": [
    "DGEheatmap(log2FC_file =\"../results/tables/log2FC_selectedGenes_VacuoleMitoMacrophages.csv\",\n",
    "           Pval_file = \"../results/tables/padj_selectedGenes_VacuoleMitoMacrophages.csv\" , scaleMin = -1, scaleMax = 1, nColors = 30)"
   ]
  },
  {
   "cell_type": "code",
   "execution_count": 10,
   "id": "compound-drama",
   "metadata": {},
   "outputs": [
    {
     "name": "stderr",
     "output_type": "stream",
     "text": [
      "Warning message in brewer.pal(n = nColors, name = ColorPalette):\n",
      "“n too large, allowed maximum for palette RdBu is 11\n",
      "Returning the palette you asked for with that many colors\n",
      "”\n"
     ]
    },
    {
     "data": {
      "text/html": [
       "<strong>png:</strong> 3"
      ],
      "text/latex": [
       "\\textbf{png:} 3"
      ],
      "text/markdown": [
       "**png:** 3"
      ],
      "text/plain": [
       "png \n",
       "  3 "
      ]
     },
     "metadata": {},
     "output_type": "display_data"
    }
   ],
   "source": [
    "svglite(file = \"../results/images/heatmap_GOinflammation_HBC.svg\")\n",
    "\n",
    "DGEheatmap(log2FC_file =\"../results/tables/log2FC_selectedGenes_selectedInflammationGO_HBC.csv\",\n",
    "           Pval_file = \"../results/tables/padj_selectedGenes_selectedInflammationGO_HBC.csv\" , scaleMin = -1, scaleMax = 1, nColors = 30)\n",
    "dev.off()\n",
    "\n",
    "\n",
    "DGEheatmap(log2FC_file =\"../results/tables/log2FC_selectedGenes_selectedInflammationGO_HBC.csv\",\n",
    "           Pval_file = \"../results/tables/padj_selectedGenes_selectedInflammationGO_HBC.csv\" , scaleMin = -1, scaleMax = 1, nColors = 30)\n"
   ]
  },
  {
   "cell_type": "code",
   "execution_count": null,
   "id": "deadly-component",
   "metadata": {},
   "outputs": [],
   "source": []
  },
  {
   "cell_type": "code",
   "execution_count": null,
   "id": "honey-office",
   "metadata": {},
   "outputs": [],
   "source": []
  },
  {
   "cell_type": "code",
   "execution_count": null,
   "id": "expressed-cameroon",
   "metadata": {},
   "outputs": [],
   "source": []
  },
  {
   "cell_type": "code",
   "execution_count": 9,
   "id": "headed-oasis",
   "metadata": {},
   "outputs": [
    {
     "data": {
      "text/plain": [
       "R version 4.0.4 (2021-02-15)\n",
       "Platform: x86_64-pc-linux-gnu (64-bit)\n",
       "Running under: Ubuntu 20.04.1 LTS\n",
       "\n",
       "Matrix products: default\n",
       "BLAS:   /usr/lib/x86_64-linux-gnu/blas/libblas.so.3.9.0\n",
       "LAPACK: /usr/lib/x86_64-linux-gnu/lapack/liblapack.so.3.9.0\n",
       "\n",
       "locale:\n",
       " [1] LC_CTYPE=en_US.UTF-8       LC_NUMERIC=C              \n",
       " [3] LC_TIME=en_US.UTF-8        LC_COLLATE=en_US.UTF-8    \n",
       " [5] LC_MONETARY=en_US.UTF-8    LC_MESSAGES=en_US.UTF-8   \n",
       " [7] LC_PAPER=en_US.UTF-8       LC_NAME=C                 \n",
       " [9] LC_ADDRESS=C               LC_TELEPHONE=C            \n",
       "[11] LC_MEASUREMENT=en_US.UTF-8 LC_IDENTIFICATION=C       \n",
       "\n",
       "attached base packages:\n",
       "[1] stats     graphics  grDevices utils     datasets  methods   base     \n",
       "\n",
       "other attached packages:\n",
       "[1] ggplot2_3.3.6      pheatmap_1.0.12    RColorBrewer_1.1-2\n",
       "\n",
       "loaded via a namespace (and not attached):\n",
       " [1] pillar_1.5.1      compiler_4.0.4    base64enc_0.1-3   tools_4.0.4      \n",
       " [5] digest_0.6.27     uuid_0.1-4        jsonlite_1.7.2    evaluate_0.14    \n",
       " [9] lifecycle_1.0.0   tibble_3.1.0      gtable_0.3.0      pkgconfig_2.0.3  \n",
       "[13] rlang_0.4.10      IRdisplay_1.0     DBI_1.1.1         IRkernel_1.1.1   \n",
       "[17] withr_2.4.1       repr_1.1.3        dplyr_1.0.5       generics_0.1.0   \n",
       "[21] vctrs_0.3.6       grid_4.0.4        tidyselect_1.1.0  glue_1.4.2       \n",
       "[25] R6_2.5.0          fansi_0.4.2       pbdZMQ_0.3-5      purrr_0.3.4      \n",
       "[29] magrittr_2.0.1    scales_1.1.1      ellipsis_0.3.1    htmltools_0.5.1.1\n",
       "[33] assertthat_0.2.1  colorspace_2.0-0  utf8_1.2.1        munsell_0.5.0    \n",
       "[37] crayon_1.4.1     "
      ]
     },
     "metadata": {},
     "output_type": "display_data"
    }
   ],
   "source": [
    "sessionInfo()"
   ]
  },
  {
   "cell_type": "code",
   "execution_count": null,
   "id": "sensitive-castle",
   "metadata": {},
   "outputs": [],
   "source": []
  },
  {
   "cell_type": "code",
   "execution_count": null,
   "id": "reported-quick",
   "metadata": {},
   "outputs": [],
   "source": []
  },
  {
   "cell_type": "code",
   "execution_count": null,
   "id": "wireless-moral",
   "metadata": {},
   "outputs": [],
   "source": []
  },
  {
   "cell_type": "code",
   "execution_count": null,
   "id": "rapid-airline",
   "metadata": {},
   "outputs": [],
   "source": []
  },
  {
   "cell_type": "code",
   "execution_count": null,
   "id": "chubby-italic",
   "metadata": {},
   "outputs": [],
   "source": []
  },
  {
   "cell_type": "code",
   "execution_count": null,
   "id": "short-transformation",
   "metadata": {},
   "outputs": [],
   "source": []
  },
  {
   "cell_type": "code",
   "execution_count": null,
   "id": "tested-adolescent",
   "metadata": {},
   "outputs": [],
   "source": []
  }
 ],
 "metadata": {
  "kernelspec": {
   "display_name": "R",
   "language": "R",
   "name": "ir"
  },
  "language_info": {
   "codemirror_mode": "r",
   "file_extension": ".r",
   "mimetype": "text/x-r-source",
   "name": "R",
   "pygments_lexer": "r",
   "version": "4.0.4"
  }
 },
 "nbformat": 4,
 "nbformat_minor": 5
}
