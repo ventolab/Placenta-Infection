{
 "cells": [
  {
   "cell_type": "code",
   "execution_count": 1,
   "id": "loved-worker",
   "metadata": {},
   "outputs": [],
   "source": [
    "#extract mean and variance for selected genes\n",
    "#plot selected genes by donors FLT1/PGF "
   ]
  },
  {
   "cell_type": "code",
   "execution_count": 2,
   "id": "distinguished-player",
   "metadata": {},
   "outputs": [],
   "source": [
    "import numpy as np\n",
    "import pandas as pd\n",
    "import scanpy as sc\n",
    "import matplotlib.pyplot as plt\n",
    "import os\n",
    "import sys\n",
    "import scipy\n",
    "import anndata\n",
    "\n",
    "sc.set_figure_params(figsize=(4, 4))"
   ]
  },
  {
   "cell_type": "code",
   "execution_count": 3,
   "id": "massive-afternoon",
   "metadata": {},
   "outputs": [],
   "source": [
    "import seaborn as sns\n",
    "import matplotlib.pyplot as plt\n",
    "from statannot import add_stat_annotation\n"
   ]
  },
  {
   "cell_type": "markdown",
   "id": "equivalent-driving",
   "metadata": {},
   "source": [
    "# Malaria"
   ]
  },
  {
   "cell_type": "code",
   "execution_count": 23,
   "id": "fuzzy-stroke",
   "metadata": {},
   "outputs": [],
   "source": [
    "adata=sc.read('../../../data_integration/results/scVI/malaria_singleCell_24h.h5ad')"
   ]
  },
  {
   "cell_type": "code",
   "execution_count": 24,
   "id": "reduced-tattoo",
   "metadata": {},
   "outputs": [
    {
     "data": {
      "text/plain": [
       "AnnData object with n_obs × n_vars = 48775 × 36601\n",
       "    obs: 'sample', 'stage', 'hpi', 'infection', 'percent_mito', 'n_counts', 'sample_barcode', 'assignment_SoC', 'donor_id', 'scrublet_score', 'scrublet_cluster_score', 'zscore', 'bh_pval', 'bonf_pval', 'S_score', 'G2M_score', 'phase', 'n_genes_by_counts', 'total_counts', 'total_counts_hs', 'pct_counts_hs', 'total_counts_tg', 'pct_counts_tg', 'Tg_infected', 'n_genes', '_scvi_batch', '_scvi_labels', '_scvi_local_l_mean', '_scvi_local_l_var', 'leiden_scvi', 'celltype_predictions', 'probabilities', 'scrublet_doublet', 'cell_type_2022', 'cell_type', 'souporcell_MFgenotype', 'MFgenotype', 'cell_type_broad', 'umap_density_Tg_infected', 'stage_perInfection', 'celltype-Stage', 'Tg_intracellular', 'celltype-Intracellular', 'Dev_Stage'\n",
       "    var: 'gene_ids', 'feature_types', 'mean-0', 'std-0', 'mean-1', 'std-1', 'mean-2', 'std-2', 'highly_variable', 'highly_variable_rank', 'means', 'variances', 'variances_norm'\n",
       "    uns: 'Dev_Stage_colors', 'MFgenotype_colors', '_scvi', 'cell_type_2022_colors', 'cell_type_broad_colors', 'cell_type_colors', 'celltype_predictions_colors', 'donor_id_colors', 'hpi_colors', 'hvg', 'infection_colors', 'leiden', 'neighbors', 'sample_colors', 'scrublet_doublet_colors', 'umap', 'umap_density_Tg_infected_params'\n",
       "    obsm: 'X_scVI_n_latent_20', 'X_scVI_n_latent_30', 'X_scVI_n_latent_40', 'X_umap', '_scvi_extra_categoricals'\n",
       "    layers: 'raw_counts'\n",
       "    obsp: 'connectivities', 'distances'"
      ]
     },
     "execution_count": 24,
     "metadata": {},
     "output_type": "execute_result"
    }
   ],
   "source": [
    "adata"
   ]
  },
  {
   "cell_type": "code",
   "execution_count": 25,
   "id": "welcome-honor",
   "metadata": {},
   "outputs": [
    {
     "name": "stderr",
     "output_type": "stream",
     "text": [
      "/opt/conda/lib/python3.8/site-packages/pandas/core/arrays/categorical.py:2487: FutureWarning: The `inplace` parameter in pandas.Categorical.remove_unused_categories is deprecated and will be removed in a future version.\n",
      "  res = method(*args, **kwargs)\n"
     ]
    }
   ],
   "source": [
    "adata =adata[[ i in ['VCT_fusing'] for i in adata.obs.cell_type ]]"
   ]
  },
  {
   "cell_type": "code",
   "execution_count": 26,
   "id": "advance-replication",
   "metadata": {},
   "outputs": [
    {
     "data": {
      "text/html": [
       "<div>\n",
       "<style scoped>\n",
       "    .dataframe tbody tr th:only-of-type {\n",
       "        vertical-align: middle;\n",
       "    }\n",
       "\n",
       "    .dataframe tbody tr th {\n",
       "        vertical-align: top;\n",
       "    }\n",
       "\n",
       "    .dataframe thead th {\n",
       "        text-align: right;\n",
       "    }\n",
       "</style>\n",
       "<table border=\"1\" class=\"dataframe\">\n",
       "  <thead>\n",
       "    <tr style=\"text-align: right;\">\n",
       "      <th></th>\n",
       "      <th>counts</th>\n",
       "      <th>freqs</th>\n",
       "    </tr>\n",
       "    <tr>\n",
       "      <th>categories</th>\n",
       "      <th></th>\n",
       "      <th></th>\n",
       "    </tr>\n",
       "  </thead>\n",
       "  <tbody>\n",
       "    <tr>\n",
       "      <th>VCT_fusing-Pf_24h</th>\n",
       "      <td>3569</td>\n",
       "      <td>0.389119</td>\n",
       "    </tr>\n",
       "    <tr>\n",
       "      <th>VCT_fusing-UI_Pf_24h</th>\n",
       "      <td>5603</td>\n",
       "      <td>0.610881</td>\n",
       "    </tr>\n",
       "  </tbody>\n",
       "</table>\n",
       "</div>"
      ],
      "text/plain": [
       "                      counts     freqs\n",
       "categories                            \n",
       "VCT_fusing-Pf_24h       3569  0.389119\n",
       "VCT_fusing-UI_Pf_24h    5603  0.610881"
      ]
     },
     "execution_count": 26,
     "metadata": {},
     "output_type": "execute_result"
    }
   ],
   "source": [
    "adata.obs['celltype-Stage'].values.describe()"
   ]
  },
  {
   "cell_type": "code",
   "execution_count": 27,
   "id": "japanese-anatomy",
   "metadata": {},
   "outputs": [
    {
     "data": {
      "text/html": [
       "<div>\n",
       "<style scoped>\n",
       "    .dataframe tbody tr th:only-of-type {\n",
       "        vertical-align: middle;\n",
       "    }\n",
       "\n",
       "    .dataframe tbody tr th {\n",
       "        vertical-align: top;\n",
       "    }\n",
       "\n",
       "    .dataframe thead th {\n",
       "        text-align: right;\n",
       "    }\n",
       "</style>\n",
       "<table border=\"1\" class=\"dataframe\">\n",
       "  <thead>\n",
       "    <tr style=\"text-align: right;\">\n",
       "      <th></th>\n",
       "      <th>counts</th>\n",
       "      <th>freqs</th>\n",
       "    </tr>\n",
       "    <tr>\n",
       "      <th>categories</th>\n",
       "      <th></th>\n",
       "      <th></th>\n",
       "    </tr>\n",
       "  </thead>\n",
       "  <tbody>\n",
       "    <tr>\n",
       "      <th>Hrv124</th>\n",
       "      <td>609</td>\n",
       "      <td>0.066398</td>\n",
       "    </tr>\n",
       "    <tr>\n",
       "      <th>Hrv168</th>\n",
       "      <td>6794</td>\n",
       "      <td>0.740733</td>\n",
       "    </tr>\n",
       "    <tr>\n",
       "      <th>Hrv232</th>\n",
       "      <td>666</td>\n",
       "      <td>0.072612</td>\n",
       "    </tr>\n",
       "    <tr>\n",
       "      <th>Hrv236</th>\n",
       "      <td>1103</td>\n",
       "      <td>0.120257</td>\n",
       "    </tr>\n",
       "  </tbody>\n",
       "</table>\n",
       "</div>"
      ],
      "text/plain": [
       "            counts     freqs\n",
       "categories                  \n",
       "Hrv124         609  0.066398\n",
       "Hrv168        6794  0.740733\n",
       "Hrv232         666  0.072612\n",
       "Hrv236        1103  0.120257"
      ]
     },
     "execution_count": 27,
     "metadata": {},
     "output_type": "execute_result"
    }
   ],
   "source": [
    "adata.obs['donor_id'].values.describe()"
   ]
  },
  {
   "cell_type": "code",
   "execution_count": null,
   "id": "laden-alcohol",
   "metadata": {},
   "outputs": [],
   "source": []
  },
  {
   "cell_type": "code",
   "execution_count": 29,
   "id": "established-invitation",
   "metadata": {},
   "outputs": [
    {
     "name": "stderr",
     "output_type": "stream",
     "text": [
      "/opt/conda/lib/python3.8/site-packages/scanpy/preprocessing/_normalization.py:138: UserWarning: Revieved a view of an AnnData. Making a copy.\n",
      "  view_to_actual(adata)\n"
     ]
    }
   ],
   "source": [
    "#lognormalize for dotplots\n",
    "sc.pp.normalize_total(adata, target_sum=1e4)\n",
    "sc.pp.log1p(adata)\n",
    "#saving normalised log-transformed values in layer\n",
    "adata.layers[\"log_norm\"]=adata.X.copy()"
   ]
  },
  {
   "cell_type": "code",
   "execution_count": null,
   "id": "needed-cooperative",
   "metadata": {},
   "outputs": [],
   "source": []
  },
  {
   "cell_type": "code",
   "execution_count": 31,
   "id": "adult-breed",
   "metadata": {},
   "outputs": [],
   "source": [
    "marker_genes = ['FLT1', 'PGF']\n",
    "genedf = sc.get.obs_df(\n",
    "        adata, keys=['celltype-Stage','donor_id', *marker_genes])"
   ]
  },
  {
   "cell_type": "code",
   "execution_count": 32,
   "id": "electrical-threshold",
   "metadata": {},
   "outputs": [
    {
     "data": {
      "text/html": [
       "<div>\n",
       "<style scoped>\n",
       "    .dataframe tbody tr th:only-of-type {\n",
       "        vertical-align: middle;\n",
       "    }\n",
       "\n",
       "    .dataframe tbody tr th {\n",
       "        vertical-align: top;\n",
       "    }\n",
       "\n",
       "    .dataframe thead th {\n",
       "        text-align: right;\n",
       "    }\n",
       "</style>\n",
       "<table border=\"1\" class=\"dataframe\">\n",
       "  <thead>\n",
       "    <tr style=\"text-align: right;\">\n",
       "      <th></th>\n",
       "      <th>celltype-Stage</th>\n",
       "      <th>donor_id</th>\n",
       "      <th>FLT1</th>\n",
       "      <th>PGF</th>\n",
       "    </tr>\n",
       "  </thead>\n",
       "  <tbody>\n",
       "    <tr>\n",
       "      <th>Pla_HDBR11345033_AAAGGATCAGGAATAT</th>\n",
       "      <td>VCT_fusing-UI_Pf_24h</td>\n",
       "      <td>Hrv124</td>\n",
       "      <td>2.612457</td>\n",
       "      <td>0.000000</td>\n",
       "    </tr>\n",
       "    <tr>\n",
       "      <th>Pla_HDBR11345033_AAAGTGAGTATGCAAA</th>\n",
       "      <td>VCT_fusing-UI_Pf_24h</td>\n",
       "      <td>Hrv124</td>\n",
       "      <td>1.916599</td>\n",
       "      <td>1.420811</td>\n",
       "    </tr>\n",
       "    <tr>\n",
       "      <th>Pla_HDBR11345033_AACAACCGTAGATCCT</th>\n",
       "      <td>VCT_fusing-UI_Pf_24h</td>\n",
       "      <td>Hrv124</td>\n",
       "      <td>3.776257</td>\n",
       "      <td>1.364050</td>\n",
       "    </tr>\n",
       "    <tr>\n",
       "      <th>Pla_HDBR11345033_AACCAACGTTAGGCTT</th>\n",
       "      <td>VCT_fusing-UI_Pf_24h</td>\n",
       "      <td>Hrv124</td>\n",
       "      <td>3.632559</td>\n",
       "      <td>1.990503</td>\n",
       "    </tr>\n",
       "    <tr>\n",
       "      <th>Pla_HDBR11345033_AACGTCAAGCACGGAT</th>\n",
       "      <td>VCT_fusing-UI_Pf_24h</td>\n",
       "      <td>Hrv124</td>\n",
       "      <td>4.474905</td>\n",
       "      <td>2.178544</td>\n",
       "    </tr>\n",
       "    <tr>\n",
       "      <th>...</th>\n",
       "      <td>...</td>\n",
       "      <td>...</td>\n",
       "      <td>...</td>\n",
       "      <td>...</td>\n",
       "    </tr>\n",
       "    <tr>\n",
       "      <th>Pla_HDBR13661570_TTTATGCAGGGCCTCT</th>\n",
       "      <td>VCT_fusing-Pf_24h</td>\n",
       "      <td>Hrv236</td>\n",
       "      <td>4.301230</td>\n",
       "      <td>0.000000</td>\n",
       "    </tr>\n",
       "    <tr>\n",
       "      <th>Pla_HDBR13661570_TTTATGCCACGTCATA</th>\n",
       "      <td>VCT_fusing-Pf_24h</td>\n",
       "      <td>Hrv236</td>\n",
       "      <td>1.552809</td>\n",
       "      <td>1.552809</td>\n",
       "    </tr>\n",
       "    <tr>\n",
       "      <th>Pla_HDBR13661570_TTTCAGTGTACGGGAT</th>\n",
       "      <td>VCT_fusing-Pf_24h</td>\n",
       "      <td>Hrv236</td>\n",
       "      <td>1.905563</td>\n",
       "      <td>0.276081</td>\n",
       "    </tr>\n",
       "    <tr>\n",
       "      <th>Pla_HDBR13661570_TTTCATGCACAACATC</th>\n",
       "      <td>VCT_fusing-Pf_24h</td>\n",
       "      <td>Hrv236</td>\n",
       "      <td>2.568376</td>\n",
       "      <td>2.291057</td>\n",
       "    </tr>\n",
       "    <tr>\n",
       "      <th>Pla_HDBR13661570_TTTGTTGCACTTACAG</th>\n",
       "      <td>VCT_fusing-Pf_24h</td>\n",
       "      <td>Hrv236</td>\n",
       "      <td>1.561039</td>\n",
       "      <td>0.399397</td>\n",
       "    </tr>\n",
       "  </tbody>\n",
       "</table>\n",
       "<p>9172 rows × 4 columns</p>\n",
       "</div>"
      ],
      "text/plain": [
       "                                         celltype-Stage donor_id      FLT1  \\\n",
       "Pla_HDBR11345033_AAAGGATCAGGAATAT  VCT_fusing-UI_Pf_24h   Hrv124  2.612457   \n",
       "Pla_HDBR11345033_AAAGTGAGTATGCAAA  VCT_fusing-UI_Pf_24h   Hrv124  1.916599   \n",
       "Pla_HDBR11345033_AACAACCGTAGATCCT  VCT_fusing-UI_Pf_24h   Hrv124  3.776257   \n",
       "Pla_HDBR11345033_AACCAACGTTAGGCTT  VCT_fusing-UI_Pf_24h   Hrv124  3.632559   \n",
       "Pla_HDBR11345033_AACGTCAAGCACGGAT  VCT_fusing-UI_Pf_24h   Hrv124  4.474905   \n",
       "...                                                 ...      ...       ...   \n",
       "Pla_HDBR13661570_TTTATGCAGGGCCTCT     VCT_fusing-Pf_24h   Hrv236  4.301230   \n",
       "Pla_HDBR13661570_TTTATGCCACGTCATA     VCT_fusing-Pf_24h   Hrv236  1.552809   \n",
       "Pla_HDBR13661570_TTTCAGTGTACGGGAT     VCT_fusing-Pf_24h   Hrv236  1.905563   \n",
       "Pla_HDBR13661570_TTTCATGCACAACATC     VCT_fusing-Pf_24h   Hrv236  2.568376   \n",
       "Pla_HDBR13661570_TTTGTTGCACTTACAG     VCT_fusing-Pf_24h   Hrv236  1.561039   \n",
       "\n",
       "                                        PGF  \n",
       "Pla_HDBR11345033_AAAGGATCAGGAATAT  0.000000  \n",
       "Pla_HDBR11345033_AAAGTGAGTATGCAAA  1.420811  \n",
       "Pla_HDBR11345033_AACAACCGTAGATCCT  1.364050  \n",
       "Pla_HDBR11345033_AACCAACGTTAGGCTT  1.990503  \n",
       "Pla_HDBR11345033_AACGTCAAGCACGGAT  2.178544  \n",
       "...                                     ...  \n",
       "Pla_HDBR13661570_TTTATGCAGGGCCTCT  0.000000  \n",
       "Pla_HDBR13661570_TTTATGCCACGTCATA  1.552809  \n",
       "Pla_HDBR13661570_TTTCAGTGTACGGGAT  0.276081  \n",
       "Pla_HDBR13661570_TTTCATGCACAACATC  2.291057  \n",
       "Pla_HDBR13661570_TTTGTTGCACTTACAG  0.399397  \n",
       "\n",
       "[9172 rows x 4 columns]"
      ]
     },
     "execution_count": 32,
     "metadata": {},
     "output_type": "execute_result"
    }
   ],
   "source": [
    "genedf"
   ]
  },
  {
   "cell_type": "code",
   "execution_count": 33,
   "id": "bound-brain",
   "metadata": {},
   "outputs": [
    {
     "name": "stdout",
     "output_type": "stream",
     "text": [
      "Length of genedf: 9172\n"
     ]
    }
   ],
   "source": [
    "length = len(genedf)\n",
    "print(\"Length of genedf:\", length)"
   ]
  },
  {
   "cell_type": "code",
   "execution_count": 34,
   "id": "undefined-major",
   "metadata": {},
   "outputs": [],
   "source": [
    "#only take non-zero values so that the ratio is not NaN\n",
    "genedf = genedf[(genedf['FLT1'] != 0) & (genedf['PGF'] != 0)]"
   ]
  },
  {
   "cell_type": "code",
   "execution_count": 35,
   "id": "tough-carbon",
   "metadata": {},
   "outputs": [
    {
     "name": "stdout",
     "output_type": "stream",
     "text": [
      "Length of genedf: 6772\n"
     ]
    }
   ],
   "source": [
    "length = len(genedf)\n",
    "print(\"Length of genedf:\", length)"
   ]
  },
  {
   "cell_type": "code",
   "execution_count": 36,
   "id": "strong-sherman",
   "metadata": {},
   "outputs": [
    {
     "name": "stderr",
     "output_type": "stream",
     "text": [
      "<ipython-input-36-a031e8978f11>:2: SettingWithCopyWarning: \n",
      "A value is trying to be set on a copy of a slice from a DataFrame.\n",
      "Try using .loc[row_indexer,col_indexer] = value instead\n",
      "\n",
      "See the caveats in the documentation: https://pandas.pydata.org/pandas-docs/stable/user_guide/indexing.html#returning-a-view-versus-a-copy\n",
      "  genedf['FLT1_PGF_ratio'] = genedf['FLT1'] / genedf['PGF']\n"
     ]
    }
   ],
   "source": [
    "# Assuming 'FLT1' and 'PGF' columns are present in genedf\n",
    "genedf['FLT1_PGF_ratio'] = genedf['FLT1'] / genedf['PGF']"
   ]
  },
  {
   "cell_type": "code",
   "execution_count": 37,
   "id": "existing-literacy",
   "metadata": {},
   "outputs": [],
   "source": [
    "grouped = genedf.groupby('celltype-Stage')\n",
    "mean, var = grouped.mean(), grouped.var()"
   ]
  },
  {
   "cell_type": "code",
   "execution_count": 38,
   "id": "fourth-pickup",
   "metadata": {},
   "outputs": [
    {
     "data": {
      "text/html": [
       "<div>\n",
       "<style scoped>\n",
       "    .dataframe tbody tr th:only-of-type {\n",
       "        vertical-align: middle;\n",
       "    }\n",
       "\n",
       "    .dataframe tbody tr th {\n",
       "        vertical-align: top;\n",
       "    }\n",
       "\n",
       "    .dataframe thead th {\n",
       "        text-align: right;\n",
       "    }\n",
       "</style>\n",
       "<table border=\"1\" class=\"dataframe\">\n",
       "  <thead>\n",
       "    <tr style=\"text-align: right;\">\n",
       "      <th></th>\n",
       "      <th>FLT1</th>\n",
       "      <th>PGF</th>\n",
       "      <th>FLT1_PGF_ratio</th>\n",
       "    </tr>\n",
       "    <tr>\n",
       "      <th>celltype-Stage</th>\n",
       "      <th></th>\n",
       "      <th></th>\n",
       "      <th></th>\n",
       "    </tr>\n",
       "  </thead>\n",
       "  <tbody>\n",
       "    <tr>\n",
       "      <th>VCT_fusing-Pf_24h</th>\n",
       "      <td>2.159443</td>\n",
       "      <td>1.638525</td>\n",
       "      <td>2.514386</td>\n",
       "    </tr>\n",
       "    <tr>\n",
       "      <th>VCT_fusing-UI_Pf_24h</th>\n",
       "      <td>2.086128</td>\n",
       "      <td>1.783106</td>\n",
       "      <td>2.084206</td>\n",
       "    </tr>\n",
       "  </tbody>\n",
       "</table>\n",
       "</div>"
      ],
      "text/plain": [
       "                          FLT1       PGF  FLT1_PGF_ratio\n",
       "celltype-Stage                                          \n",
       "VCT_fusing-Pf_24h     2.159443  1.638525        2.514386\n",
       "VCT_fusing-UI_Pf_24h  2.086128  1.783106        2.084206"
      ]
     },
     "execution_count": 38,
     "metadata": {},
     "output_type": "execute_result"
    }
   ],
   "source": [
    "mean"
   ]
  },
  {
   "cell_type": "code",
   "execution_count": 39,
   "id": "promising-bonus",
   "metadata": {},
   "outputs": [
    {
     "data": {
      "text/html": [
       "<div>\n",
       "<style scoped>\n",
       "    .dataframe tbody tr th:only-of-type {\n",
       "        vertical-align: middle;\n",
       "    }\n",
       "\n",
       "    .dataframe tbody tr th {\n",
       "        vertical-align: top;\n",
       "    }\n",
       "\n",
       "    .dataframe thead th {\n",
       "        text-align: right;\n",
       "    }\n",
       "</style>\n",
       "<table border=\"1\" class=\"dataframe\">\n",
       "  <thead>\n",
       "    <tr style=\"text-align: right;\">\n",
       "      <th></th>\n",
       "      <th>FLT1</th>\n",
       "      <th>PGF</th>\n",
       "      <th>FLT1_PGF_ratio</th>\n",
       "    </tr>\n",
       "    <tr>\n",
       "      <th>celltype-Stage</th>\n",
       "      <th></th>\n",
       "      <th></th>\n",
       "      <th></th>\n",
       "    </tr>\n",
       "  </thead>\n",
       "  <tbody>\n",
       "    <tr>\n",
       "      <th>VCT_fusing-Pf_24h</th>\n",
       "      <td>1.764064</td>\n",
       "      <td>0.943175</td>\n",
       "      <td>10.365904</td>\n",
       "    </tr>\n",
       "    <tr>\n",
       "      <th>VCT_fusing-UI_Pf_24h</th>\n",
       "      <td>1.816122</td>\n",
       "      <td>0.947586</td>\n",
       "      <td>8.433001</td>\n",
       "    </tr>\n",
       "  </tbody>\n",
       "</table>\n",
       "</div>"
      ],
      "text/plain": [
       "                          FLT1       PGF  FLT1_PGF_ratio\n",
       "celltype-Stage                                          \n",
       "VCT_fusing-Pf_24h     1.764064  0.943175       10.365904\n",
       "VCT_fusing-UI_Pf_24h  1.816122  0.947586        8.433001"
      ]
     },
     "execution_count": 39,
     "metadata": {},
     "output_type": "execute_result"
    }
   ],
   "source": [
    "var"
   ]
  },
  {
   "cell_type": "code",
   "execution_count": null,
   "id": "popular-deviation",
   "metadata": {},
   "outputs": [],
   "source": []
  },
  {
   "cell_type": "code",
   "execution_count": 40,
   "id": "associate-puppy",
   "metadata": {},
   "outputs": [],
   "source": [
    "donors_list = ['Hrv124', 'Hrv168', 'Hrv232', 'Hrv236']\n",
    "custom_order=['VCT_fusing-UI_Pf_24h', 'VCT_fusing-Pf_24h']\n",
    "\n",
    "# Calculate mean ratios across all donors\n",
    "mean_ratios = None\n",
    "for donor in donors_list:\n",
    "    donor_data = genedf[genedf['donor_id'] == donor]\n",
    "    donor_mean = donor_data.groupby('celltype-Stage').mean()\n",
    "    \n",
    "    if mean_ratios is None:\n",
    "        mean_ratios = donor_mean['FLT1'] / donor_mean['PGF']\n",
    "    else:\n",
    "        mean_ratios += donor_mean['FLT1'] / donor_mean['PGF']\n",
    "\n",
    "mean_ratios /= len(donors_list)  # Calculate the mean ratios across all donors\n",
    "\n",
    "# Calculate the standard error for the mean ratios\n",
    "error_bars = None\n",
    "for donor in donors_list:\n",
    "    donor_data = genedf[genedf['donor_id'] == donor]\n",
    "    donor_sem = donor_data.groupby('celltype-Stage').sem()\n",
    "    \n",
    "    if error_bars is None:\n",
    "        error_bars = (donor_sem['FLT1'] / donor_mean['PGF']) ** 2\n",
    "    else:\n",
    "        error_bars += (donor_sem['FLT1'] / donor_mean['PGF']) ** 2\n",
    "\n",
    "error_bars = np.sqrt(error_bars) / len(donors_list)  # Calculate the standard error across all donors\n",
    "\n",
    "# Reorder mean_ratios and error_bars according to custom_order\n",
    "mean_ratios = mean_ratios.reindex(custom_order)\n",
    "error_bars = error_bars.reindex(custom_order)"
   ]
  },
  {
   "cell_type": "code",
   "execution_count": 41,
   "id": "recorded-approach",
   "metadata": {},
   "outputs": [
    {
     "name": "stdout",
     "output_type": "stream",
     "text": [
      "Mean ratio for donor Hrv124:\n",
      "celltype-Stage\n",
      "VCT_fusing-Pf_24h       1.877680\n",
      "VCT_fusing-UI_Pf_24h    1.938652\n",
      "dtype: float32\n",
      "Mean ratio for donor Hrv168:\n",
      "celltype-Stage\n",
      "VCT_fusing-Pf_24h       1.446224\n",
      "VCT_fusing-UI_Pf_24h    1.194248\n",
      "dtype: float32\n",
      "Mean ratio for donor Hrv232:\n",
      "celltype-Stage\n",
      "VCT_fusing-Pf_24h       0.620524\n",
      "VCT_fusing-UI_Pf_24h    0.560298\n",
      "dtype: float32\n",
      "Mean ratio for donor Hrv236:\n",
      "celltype-Stage\n",
      "VCT_fusing-Pf_24h       1.391357\n",
      "VCT_fusing-UI_Pf_24h    1.107149\n",
      "dtype: float32\n"
     ]
    }
   ],
   "source": [
    "for donor in donors_list:\n",
    "    donor_data = genedf[genedf['donor_id'] == donor]\n",
    "    donor_mean = donor_data.groupby('celltype-Stage').mean()\n",
    "    mean_ratio_donor = donor_mean['FLT1'] / donor_mean['PGF']\n",
    "    print(f\"Mean ratio for donor {donor}:\")\n",
    "    print(mean_ratio_donor)"
   ]
  },
  {
   "cell_type": "code",
   "execution_count": null,
   "id": "typical-isolation",
   "metadata": {},
   "outputs": [],
   "source": []
  },
  {
   "cell_type": "code",
   "execution_count": 42,
   "id": "cultural-uzbekistan",
   "metadata": {},
   "outputs": [],
   "source": [
    "# Plot barplot and do stats test "
   ]
  },
  {
   "cell_type": "code",
   "execution_count": 43,
   "id": "excess-black",
   "metadata": {},
   "outputs": [
    {
     "name": "stdout",
     "output_type": "stream",
     "text": [
      "p-value annotation legend:\n",
      "ns: 5.00e-02 < p <= 1.00e+00\n",
      "*: 1.00e-02 < p <= 5.00e-02\n",
      "**: 1.00e-03 < p <= 1.00e-02\n",
      "***: 1.00e-04 < p <= 1.00e-03\n",
      "****: p <= 1.00e-04\n",
      "\n",
      "VCT_fusing-UI_Pf_24h v.s. VCT_fusing-Pf_24h: Mann-Whitney-Wilcoxon test two-sided with Bonferroni correction, P_val=1.476e-08 U_stat=5.095e+06\n"
     ]
    },
    {
     "data": {
      "image/png": "[encoded data removed]",
      "text/plain": [
       "<Figure size 240x480 with 1 Axes>"
      ]
     },
     "metadata": {
      "needs_background": "light"
     },
     "output_type": "display_data"
    }
   ],
   "source": [
    "# Reordering the barplot according to the specified order\n",
    "order = ['VCT_fusing-UI_Pf_24h', 'VCT_fusing-Pf_24h']\n",
    "plt.figure(figsize=(3, 6))\n",
    "ax = sns.barplot(x='celltype-Stage', y='FLT1_PGF_ratio', data=genedf, order=order,color=\"#e5d400\")\n",
    "\n",
    "# Adding significance annotations using add_stat_annotation with specified p-value thresholds\n",
    "test_results = add_stat_annotation(ax, data=genedf, x='celltype-Stage', y='FLT1_PGF_ratio',order=order,\n",
    "                                   box_pairs=[\n",
    "                                              ('VCT_fusing-Pf_24h', 'VCT_fusing-UI_Pf_24h')],\n",
    "                                   test='Mann-Whitney', text_format='star', loc='outside', verbose=2,\n",
    "                                   pvalue_thresholds=[[1e-4, \"****\"], [1e-3, \"***\"], [0.01, \"**\"], [0.05, \"*\"], [1, \"ns\"]])\n",
    "\n",
    "plt.xticks(rotation=90)\n",
    "# Removing the plot border and grid\n",
    "ax.spines['top'].set_visible(False)\n",
    "ax.spines['right'].set_visible(False)\n",
    "ax.grid(False)\n",
    "# Save the plot as a PDF\n",
    "plt.savefig('../results/images/SC_malaria_24H_FLT_PGF.pdf', bbox_inches='tight')\n",
    "plt.show()\n"
   ]
  },
  {
   "cell_type": "code",
   "execution_count": null,
   "id": "minimal-responsibility",
   "metadata": {},
   "outputs": [],
   "source": []
  },
  {
   "cell_type": "code",
   "execution_count": null,
   "id": "dirty-utility",
   "metadata": {},
   "outputs": [],
   "source": []
  },
  {
   "cell_type": "code",
   "execution_count": null,
   "id": "cardiac-louisiana",
   "metadata": {},
   "outputs": [],
   "source": []
  },
  {
   "cell_type": "markdown",
   "id": "settled-newcastle",
   "metadata": {},
   "source": [
    "# Listeria"
   ]
  },
  {
   "cell_type": "code",
   "execution_count": 4,
   "id": "lesser-particular",
   "metadata": {},
   "outputs": [],
   "source": [
    "adata=sc.read('../../../data_integration/results/scVI/listeria_singleCell_24h.h5ad')"
   ]
  },
  {
   "cell_type": "code",
   "execution_count": 5,
   "id": "hairy-estimate",
   "metadata": {},
   "outputs": [
    {
     "data": {
      "text/plain": [
       "AnnData object with n_obs × n_vars = 30835 × 36601\n",
       "    obs: 'sample', 'stage', 'hpi', 'infection', 'percent_mito', 'n_counts', 'sample_barcode', 'assignment_SoC', 'donor_id', 'scrublet_score', 'scrublet_cluster_score', 'zscore', 'bh_pval', 'bonf_pval', 'S_score', 'G2M_score', 'phase', 'n_genes_by_counts', 'total_counts', 'total_counts_hs', 'pct_counts_hs', 'total_counts_tg', 'pct_counts_tg', 'Tg_infected', 'n_genes', '_scvi_batch', '_scvi_labels', '_scvi_local_l_mean', '_scvi_local_l_var', 'leiden_scvi', 'celltype_predictions', 'probabilities', 'scrublet_doublet', 'cell_type_2022', 'cell_type', 'souporcell_MFgenotype', 'MFgenotype', 'cell_type_broad', 'umap_density_Tg_infected', 'stage_perInfection', 'celltype-Stage', 'Tg_intracellular', 'celltype-Intracellular', 'Dev_Stage'\n",
       "    var: 'gene_ids', 'feature_types', 'mean-0', 'std-0', 'mean-1', 'std-1', 'mean-2', 'std-2', 'highly_variable', 'highly_variable_rank', 'means', 'variances', 'variances_norm'\n",
       "    uns: 'Dev_Stage_colors', 'MFgenotype_colors', '_scvi', 'cell_type_2022_colors', 'cell_type_broad_colors', 'cell_type_colors', 'celltype_predictions_colors', 'donor_id_colors', 'hpi_colors', 'hvg', 'infection_colors', 'leiden', 'neighbors', 'sample_colors', 'scrublet_doublet_colors', 'umap', 'umap_density_Tg_infected_params'\n",
       "    obsm: 'X_scVI_n_latent_20', 'X_scVI_n_latent_30', 'X_scVI_n_latent_40', 'X_umap', '_scvi_extra_categoricals'\n",
       "    layers: 'raw_counts'\n",
       "    obsp: 'connectivities', 'distances'"
      ]
     },
     "execution_count": 5,
     "metadata": {},
     "output_type": "execute_result"
    }
   ],
   "source": [
    "adata"
   ]
  },
  {
   "cell_type": "code",
   "execution_count": 6,
   "id": "alien-senegal",
   "metadata": {},
   "outputs": [
    {
     "name": "stderr",
     "output_type": "stream",
     "text": [
      "/opt/conda/lib/python3.8/site-packages/pandas/core/arrays/categorical.py:2487: FutureWarning: The `inplace` parameter in pandas.Categorical.remove_unused_categories is deprecated and will be removed in a future version.\n",
      "  res = method(*args, **kwargs)\n"
     ]
    }
   ],
   "source": [
    "adata =adata[[ i in ['VCT_fusing'] for i in adata.obs.cell_type ]]"
   ]
  },
  {
   "cell_type": "code",
   "execution_count": 7,
   "id": "peripheral-kernel",
   "metadata": {},
   "outputs": [
    {
     "data": {
      "text/html": [
       "<div>\n",
       "<style scoped>\n",
       "    .dataframe tbody tr th:only-of-type {\n",
       "        vertical-align: middle;\n",
       "    }\n",
       "\n",
       "    .dataframe tbody tr th {\n",
       "        vertical-align: top;\n",
       "    }\n",
       "\n",
       "    .dataframe thead th {\n",
       "        text-align: right;\n",
       "    }\n",
       "</style>\n",
       "<table border=\"1\" class=\"dataframe\">\n",
       "  <thead>\n",
       "    <tr style=\"text-align: right;\">\n",
       "      <th></th>\n",
       "      <th>counts</th>\n",
       "      <th>freqs</th>\n",
       "    </tr>\n",
       "    <tr>\n",
       "      <th>categories</th>\n",
       "      <th></th>\n",
       "      <th></th>\n",
       "    </tr>\n",
       "  </thead>\n",
       "  <tbody>\n",
       "    <tr>\n",
       "      <th>VCT_fusing-Lm_24h</th>\n",
       "      <td>1561</td>\n",
       "      <td>0.582028</td>\n",
       "    </tr>\n",
       "    <tr>\n",
       "      <th>VCT_fusing-UI_Lm_24h</th>\n",
       "      <td>1121</td>\n",
       "      <td>0.417972</td>\n",
       "    </tr>\n",
       "  </tbody>\n",
       "</table>\n",
       "</div>"
      ],
      "text/plain": [
       "                      counts     freqs\n",
       "categories                            \n",
       "VCT_fusing-Lm_24h       1561  0.582028\n",
       "VCT_fusing-UI_Lm_24h    1121  0.417972"
      ]
     },
     "execution_count": 7,
     "metadata": {},
     "output_type": "execute_result"
    }
   ],
   "source": [
    "adata.obs['celltype-Stage'].values.describe()"
   ]
  },
  {
   "cell_type": "code",
   "execution_count": 8,
   "id": "leading-joseph",
   "metadata": {},
   "outputs": [
    {
     "data": {
      "text/html": [
       "<div>\n",
       "<style scoped>\n",
       "    .dataframe tbody tr th:only-of-type {\n",
       "        vertical-align: middle;\n",
       "    }\n",
       "\n",
       "    .dataframe tbody tr th {\n",
       "        vertical-align: top;\n",
       "    }\n",
       "\n",
       "    .dataframe thead th {\n",
       "        text-align: right;\n",
       "    }\n",
       "</style>\n",
       "<table border=\"1\" class=\"dataframe\">\n",
       "  <thead>\n",
       "    <tr style=\"text-align: right;\">\n",
       "      <th></th>\n",
       "      <th>counts</th>\n",
       "      <th>freqs</th>\n",
       "    </tr>\n",
       "    <tr>\n",
       "      <th>categories</th>\n",
       "      <th></th>\n",
       "      <th></th>\n",
       "    </tr>\n",
       "  </thead>\n",
       "  <tbody>\n",
       "    <tr>\n",
       "      <th>Hrv135</th>\n",
       "      <td>394</td>\n",
       "      <td>0.146905</td>\n",
       "    </tr>\n",
       "    <tr>\n",
       "      <th>Hrv136</th>\n",
       "      <td>1160</td>\n",
       "      <td>0.432513</td>\n",
       "    </tr>\n",
       "    <tr>\n",
       "      <th>Hrv236</th>\n",
       "      <td>1128</td>\n",
       "      <td>0.420582</td>\n",
       "    </tr>\n",
       "  </tbody>\n",
       "</table>\n",
       "</div>"
      ],
      "text/plain": [
       "            counts     freqs\n",
       "categories                  \n",
       "Hrv135         394  0.146905\n",
       "Hrv136        1160  0.432513\n",
       "Hrv236        1128  0.420582"
      ]
     },
     "execution_count": 8,
     "metadata": {},
     "output_type": "execute_result"
    }
   ],
   "source": [
    "adata.obs['donor_id'].values.describe()"
   ]
  },
  {
   "cell_type": "code",
   "execution_count": 9,
   "id": "coordinate-gospel",
   "metadata": {},
   "outputs": [
    {
     "name": "stderr",
     "output_type": "stream",
     "text": [
      "/opt/conda/lib/python3.8/site-packages/scanpy/preprocessing/_normalization.py:138: UserWarning: Revieved a view of an AnnData. Making a copy.\n",
      "  view_to_actual(adata)\n"
     ]
    }
   ],
   "source": [
    "#lognormalize for dotplots\n",
    "sc.pp.normalize_total(adata, target_sum=1e4)\n",
    "sc.pp.log1p(adata)\n",
    "#saving normalised log-transformed values in layer\n",
    "adata.layers[\"log_norm\"]=adata.X.copy()"
   ]
  },
  {
   "cell_type": "code",
   "execution_count": null,
   "id": "natural-minnesota",
   "metadata": {},
   "outputs": [],
   "source": []
  },
  {
   "cell_type": "code",
   "execution_count": 10,
   "id": "interracial-milan",
   "metadata": {},
   "outputs": [],
   "source": [
    "marker_genes = ['FLT1', 'PGF']\n",
    "genedf = sc.get.obs_df(\n",
    "        adata, keys=['celltype-Stage','donor_id', *marker_genes])"
   ]
  },
  {
   "cell_type": "code",
   "execution_count": 11,
   "id": "analyzed-branch",
   "metadata": {},
   "outputs": [
    {
     "data": {
      "text/html": [
       "<div>\n",
       "<style scoped>\n",
       "    .dataframe tbody tr th:only-of-type {\n",
       "        vertical-align: middle;\n",
       "    }\n",
       "\n",
       "    .dataframe tbody tr th {\n",
       "        vertical-align: top;\n",
       "    }\n",
       "\n",
       "    .dataframe thead th {\n",
       "        text-align: right;\n",
       "    }\n",
       "</style>\n",
       "<table border=\"1\" class=\"dataframe\">\n",
       "  <thead>\n",
       "    <tr style=\"text-align: right;\">\n",
       "      <th></th>\n",
       "      <th>celltype-Stage</th>\n",
       "      <th>donor_id</th>\n",
       "      <th>FLT1</th>\n",
       "      <th>PGF</th>\n",
       "    </tr>\n",
       "  </thead>\n",
       "  <tbody>\n",
       "    <tr>\n",
       "      <th>Pla_HDBR12330712_AAACCCAAGTCGTTAC</th>\n",
       "      <td>VCT_fusing-UI_Lm_24h</td>\n",
       "      <td>Hrv136</td>\n",
       "      <td>3.959115</td>\n",
       "      <td>1.858120</td>\n",
       "    </tr>\n",
       "    <tr>\n",
       "      <th>Pla_HDBR12330712_AAACGAAAGTATCTGC</th>\n",
       "      <td>VCT_fusing-UI_Lm_24h</td>\n",
       "      <td>Hrv136</td>\n",
       "      <td>0.368492</td>\n",
       "      <td>0.848723</td>\n",
       "    </tr>\n",
       "    <tr>\n",
       "      <th>Pla_HDBR12330712_AAACGCTGTATGAAAC</th>\n",
       "      <td>VCT_fusing-UI_Lm_24h</td>\n",
       "      <td>Hrv136</td>\n",
       "      <td>2.144427</td>\n",
       "      <td>0.306684</td>\n",
       "    </tr>\n",
       "    <tr>\n",
       "      <th>Pla_HDBR12330712_AAAGAACTCTATCGGA</th>\n",
       "      <td>VCT_fusing-UI_Lm_24h</td>\n",
       "      <td>Hrv136</td>\n",
       "      <td>0.000000</td>\n",
       "      <td>0.000000</td>\n",
       "    </tr>\n",
       "    <tr>\n",
       "      <th>Pla_HDBR12330712_AAAGGATTCAAGTGGG</th>\n",
       "      <td>VCT_fusing-UI_Lm_24h</td>\n",
       "      <td>Hrv135</td>\n",
       "      <td>3.221162</td>\n",
       "      <td>0.833079</td>\n",
       "    </tr>\n",
       "    <tr>\n",
       "      <th>...</th>\n",
       "      <td>...</td>\n",
       "      <td>...</td>\n",
       "      <td>...</td>\n",
       "      <td>...</td>\n",
       "    </tr>\n",
       "    <tr>\n",
       "      <th>Pla_HDBR13661572_TTTGATCAGTCATTGC</th>\n",
       "      <td>VCT_fusing-Lm_24h</td>\n",
       "      <td>Hrv236</td>\n",
       "      <td>3.296923</td>\n",
       "      <td>0.000000</td>\n",
       "    </tr>\n",
       "    <tr>\n",
       "      <th>Pla_HDBR13661572_TTTGGAGGTGGTCTGC</th>\n",
       "      <td>VCT_fusing-Lm_24h</td>\n",
       "      <td>Hrv236</td>\n",
       "      <td>0.917541</td>\n",
       "      <td>2.676087</td>\n",
       "    </tr>\n",
       "    <tr>\n",
       "      <th>Pla_HDBR13661572_TTTGGAGTCATGCGGC</th>\n",
       "      <td>VCT_fusing-Lm_24h</td>\n",
       "      <td>Hrv236</td>\n",
       "      <td>3.664970</td>\n",
       "      <td>0.879396</td>\n",
       "    </tr>\n",
       "    <tr>\n",
       "      <th>Pla_HDBR13661572_TTTGGAGTCTTACACT</th>\n",
       "      <td>VCT_fusing-Lm_24h</td>\n",
       "      <td>Hrv236</td>\n",
       "      <td>3.924501</td>\n",
       "      <td>0.000000</td>\n",
       "    </tr>\n",
       "    <tr>\n",
       "      <th>Pla_HDBR13661572_TTTGGTTTCTAAGGAA</th>\n",
       "      <td>VCT_fusing-Lm_24h</td>\n",
       "      <td>Hrv236</td>\n",
       "      <td>1.159451</td>\n",
       "      <td>1.454485</td>\n",
       "    </tr>\n",
       "  </tbody>\n",
       "</table>\n",
       "<p>2682 rows × 4 columns</p>\n",
       "</div>"
      ],
      "text/plain": [
       "                                         celltype-Stage donor_id      FLT1  \\\n",
       "Pla_HDBR12330712_AAACCCAAGTCGTTAC  VCT_fusing-UI_Lm_24h   Hrv136  3.959115   \n",
       "Pla_HDBR12330712_AAACGAAAGTATCTGC  VCT_fusing-UI_Lm_24h   Hrv136  0.368492   \n",
       "Pla_HDBR12330712_AAACGCTGTATGAAAC  VCT_fusing-UI_Lm_24h   Hrv136  2.144427   \n",
       "Pla_HDBR12330712_AAAGAACTCTATCGGA  VCT_fusing-UI_Lm_24h   Hrv136  0.000000   \n",
       "Pla_HDBR12330712_AAAGGATTCAAGTGGG  VCT_fusing-UI_Lm_24h   Hrv135  3.221162   \n",
       "...                                                 ...      ...       ...   \n",
       "Pla_HDBR13661572_TTTGATCAGTCATTGC     VCT_fusing-Lm_24h   Hrv236  3.296923   \n",
       "Pla_HDBR13661572_TTTGGAGGTGGTCTGC     VCT_fusing-Lm_24h   Hrv236  0.917541   \n",
       "Pla_HDBR13661572_TTTGGAGTCATGCGGC     VCT_fusing-Lm_24h   Hrv236  3.664970   \n",
       "Pla_HDBR13661572_TTTGGAGTCTTACACT     VCT_fusing-Lm_24h   Hrv236  3.924501   \n",
       "Pla_HDBR13661572_TTTGGTTTCTAAGGAA     VCT_fusing-Lm_24h   Hrv236  1.159451   \n",
       "\n",
       "                                        PGF  \n",
       "Pla_HDBR12330712_AAACCCAAGTCGTTAC  1.858120  \n",
       "Pla_HDBR12330712_AAACGAAAGTATCTGC  0.848723  \n",
       "Pla_HDBR12330712_AAACGCTGTATGAAAC  0.306684  \n",
       "Pla_HDBR12330712_AAAGAACTCTATCGGA  0.000000  \n",
       "Pla_HDBR12330712_AAAGGATTCAAGTGGG  0.833079  \n",
       "...                                     ...  \n",
       "Pla_HDBR13661572_TTTGATCAGTCATTGC  0.000000  \n",
       "Pla_HDBR13661572_TTTGGAGGTGGTCTGC  2.676087  \n",
       "Pla_HDBR13661572_TTTGGAGTCATGCGGC  0.879396  \n",
       "Pla_HDBR13661572_TTTGGAGTCTTACACT  0.000000  \n",
       "Pla_HDBR13661572_TTTGGTTTCTAAGGAA  1.454485  \n",
       "\n",
       "[2682 rows x 4 columns]"
      ]
     },
     "execution_count": 11,
     "metadata": {},
     "output_type": "execute_result"
    }
   ],
   "source": [
    "genedf"
   ]
  },
  {
   "cell_type": "code",
   "execution_count": 12,
   "id": "technological-explanation",
   "metadata": {},
   "outputs": [
    {
     "name": "stdout",
     "output_type": "stream",
     "text": [
      "Length of genedf: 2682\n"
     ]
    }
   ],
   "source": [
    "length = len(genedf)\n",
    "print(\"Length of genedf:\", length)"
   ]
  },
  {
   "cell_type": "code",
   "execution_count": 13,
   "id": "distinguished-hudson",
   "metadata": {},
   "outputs": [],
   "source": [
    "#only take non-zero values so that the ratio is not NaN\n",
    "genedf = genedf[(genedf['FLT1'] != 0) & (genedf['PGF'] != 0)]"
   ]
  },
  {
   "cell_type": "code",
   "execution_count": 14,
   "id": "pending-butter",
   "metadata": {},
   "outputs": [
    {
     "name": "stdout",
     "output_type": "stream",
     "text": [
      "Length of genedf: 1991\n"
     ]
    }
   ],
   "source": [
    "length = len(genedf)\n",
    "print(\"Length of genedf:\", length)"
   ]
  },
  {
   "cell_type": "code",
   "execution_count": 15,
   "id": "sharing-catering",
   "metadata": {},
   "outputs": [
    {
     "name": "stderr",
     "output_type": "stream",
     "text": [
      "<ipython-input-15-a031e8978f11>:2: SettingWithCopyWarning: \n",
      "A value is trying to be set on a copy of a slice from a DataFrame.\n",
      "Try using .loc[row_indexer,col_indexer] = value instead\n",
      "\n",
      "See the caveats in the documentation: https://pandas.pydata.org/pandas-docs/stable/user_guide/indexing.html#returning-a-view-versus-a-copy\n",
      "  genedf['FLT1_PGF_ratio'] = genedf['FLT1'] / genedf['PGF']\n"
     ]
    }
   ],
   "source": [
    "# Assuming 'FLT1' and 'PGF' columns are present in genedf\n",
    "genedf['FLT1_PGF_ratio'] = genedf['FLT1'] / genedf['PGF']"
   ]
  },
  {
   "cell_type": "code",
   "execution_count": 16,
   "id": "contemporary-progressive",
   "metadata": {},
   "outputs": [
    {
     "data": {
      "text/html": [
       "<div>\n",
       "<style scoped>\n",
       "    .dataframe tbody tr th:only-of-type {\n",
       "        vertical-align: middle;\n",
       "    }\n",
       "\n",
       "    .dataframe tbody tr th {\n",
       "        vertical-align: top;\n",
       "    }\n",
       "\n",
       "    .dataframe thead th {\n",
       "        text-align: right;\n",
       "    }\n",
       "</style>\n",
       "<table border=\"1\" class=\"dataframe\">\n",
       "  <thead>\n",
       "    <tr style=\"text-align: right;\">\n",
       "      <th></th>\n",
       "      <th>celltype-Stage</th>\n",
       "      <th>donor_id</th>\n",
       "      <th>FLT1</th>\n",
       "      <th>PGF</th>\n",
       "      <th>FLT1_PGF_ratio</th>\n",
       "    </tr>\n",
       "  </thead>\n",
       "  <tbody>\n",
       "    <tr>\n",
       "      <th>Pla_HDBR12330712_AAACCCAAGTCGTTAC</th>\n",
       "      <td>VCT_fusing-UI_Lm_24h</td>\n",
       "      <td>Hrv136</td>\n",
       "      <td>3.959115</td>\n",
       "      <td>1.858120</td>\n",
       "      <td>2.130709</td>\n",
       "    </tr>\n",
       "    <tr>\n",
       "      <th>Pla_HDBR12330712_AAACGAAAGTATCTGC</th>\n",
       "      <td>VCT_fusing-UI_Lm_24h</td>\n",
       "      <td>Hrv136</td>\n",
       "      <td>0.368492</td>\n",
       "      <td>0.848723</td>\n",
       "      <td>0.434173</td>\n",
       "    </tr>\n",
       "    <tr>\n",
       "      <th>Pla_HDBR12330712_AAACGCTGTATGAAAC</th>\n",
       "      <td>VCT_fusing-UI_Lm_24h</td>\n",
       "      <td>Hrv136</td>\n",
       "      <td>2.144427</td>\n",
       "      <td>0.306684</td>\n",
       "      <td>6.992296</td>\n",
       "    </tr>\n",
       "    <tr>\n",
       "      <th>Pla_HDBR12330712_AAAGGATTCAAGTGGG</th>\n",
       "      <td>VCT_fusing-UI_Lm_24h</td>\n",
       "      <td>Hrv135</td>\n",
       "      <td>3.221162</td>\n",
       "      <td>0.833079</td>\n",
       "      <td>3.866575</td>\n",
       "    </tr>\n",
       "    <tr>\n",
       "      <th>Pla_HDBR12330712_AAAGTCCGTAGCCAGA</th>\n",
       "      <td>VCT_fusing-UI_Lm_24h</td>\n",
       "      <td>Hrv135</td>\n",
       "      <td>0.893210</td>\n",
       "      <td>1.004870</td>\n",
       "      <td>0.888882</td>\n",
       "    </tr>\n",
       "    <tr>\n",
       "      <th>...</th>\n",
       "      <td>...</td>\n",
       "      <td>...</td>\n",
       "      <td>...</td>\n",
       "      <td>...</td>\n",
       "      <td>...</td>\n",
       "    </tr>\n",
       "    <tr>\n",
       "      <th>Pla_HDBR13661572_TTTCACACAGTAGAAT</th>\n",
       "      <td>VCT_fusing-Lm_24h</td>\n",
       "      <td>Hrv236</td>\n",
       "      <td>1.914398</td>\n",
       "      <td>1.358776</td>\n",
       "      <td>1.408914</td>\n",
       "    </tr>\n",
       "    <tr>\n",
       "      <th>Pla_HDBR13661572_TTTCATGTCCTCACGT</th>\n",
       "      <td>VCT_fusing-Lm_24h</td>\n",
       "      <td>Hrv236</td>\n",
       "      <td>4.119342</td>\n",
       "      <td>1.072005</td>\n",
       "      <td>3.842653</td>\n",
       "    </tr>\n",
       "    <tr>\n",
       "      <th>Pla_HDBR13661572_TTTGGAGGTGGTCTGC</th>\n",
       "      <td>VCT_fusing-Lm_24h</td>\n",
       "      <td>Hrv236</td>\n",
       "      <td>0.917541</td>\n",
       "      <td>2.676087</td>\n",
       "      <td>0.342866</td>\n",
       "    </tr>\n",
       "    <tr>\n",
       "      <th>Pla_HDBR13661572_TTTGGAGTCATGCGGC</th>\n",
       "      <td>VCT_fusing-Lm_24h</td>\n",
       "      <td>Hrv236</td>\n",
       "      <td>3.664970</td>\n",
       "      <td>0.879396</td>\n",
       "      <td>4.167601</td>\n",
       "    </tr>\n",
       "    <tr>\n",
       "      <th>Pla_HDBR13661572_TTTGGTTTCTAAGGAA</th>\n",
       "      <td>VCT_fusing-Lm_24h</td>\n",
       "      <td>Hrv236</td>\n",
       "      <td>1.159451</td>\n",
       "      <td>1.454485</td>\n",
       "      <td>0.797156</td>\n",
       "    </tr>\n",
       "  </tbody>\n",
       "</table>\n",
       "<p>1991 rows × 5 columns</p>\n",
       "</div>"
      ],
      "text/plain": [
       "                                         celltype-Stage donor_id      FLT1  \\\n",
       "Pla_HDBR12330712_AAACCCAAGTCGTTAC  VCT_fusing-UI_Lm_24h   Hrv136  3.959115   \n",
       "Pla_HDBR12330712_AAACGAAAGTATCTGC  VCT_fusing-UI_Lm_24h   Hrv136  0.368492   \n",
       "Pla_HDBR12330712_AAACGCTGTATGAAAC  VCT_fusing-UI_Lm_24h   Hrv136  2.144427   \n",
       "Pla_HDBR12330712_AAAGGATTCAAGTGGG  VCT_fusing-UI_Lm_24h   Hrv135  3.221162   \n",
       "Pla_HDBR12330712_AAAGTCCGTAGCCAGA  VCT_fusing-UI_Lm_24h   Hrv135  0.893210   \n",
       "...                                                 ...      ...       ...   \n",
       "Pla_HDBR13661572_TTTCACACAGTAGAAT     VCT_fusing-Lm_24h   Hrv236  1.914398   \n",
       "Pla_HDBR13661572_TTTCATGTCCTCACGT     VCT_fusing-Lm_24h   Hrv236  4.119342   \n",
       "Pla_HDBR13661572_TTTGGAGGTGGTCTGC     VCT_fusing-Lm_24h   Hrv236  0.917541   \n",
       "Pla_HDBR13661572_TTTGGAGTCATGCGGC     VCT_fusing-Lm_24h   Hrv236  3.664970   \n",
       "Pla_HDBR13661572_TTTGGTTTCTAAGGAA     VCT_fusing-Lm_24h   Hrv236  1.159451   \n",
       "\n",
       "                                        PGF  FLT1_PGF_ratio  \n",
       "Pla_HDBR12330712_AAACCCAAGTCGTTAC  1.858120        2.130709  \n",
       "Pla_HDBR12330712_AAACGAAAGTATCTGC  0.848723        0.434173  \n",
       "Pla_HDBR12330712_AAACGCTGTATGAAAC  0.306684        6.992296  \n",
       "Pla_HDBR12330712_AAAGGATTCAAGTGGG  0.833079        3.866575  \n",
       "Pla_HDBR12330712_AAAGTCCGTAGCCAGA  1.004870        0.888882  \n",
       "...                                     ...             ...  \n",
       "Pla_HDBR13661572_TTTCACACAGTAGAAT  1.358776        1.408914  \n",
       "Pla_HDBR13661572_TTTCATGTCCTCACGT  1.072005        3.842653  \n",
       "Pla_HDBR13661572_TTTGGAGGTGGTCTGC  2.676087        0.342866  \n",
       "Pla_HDBR13661572_TTTGGAGTCATGCGGC  0.879396        4.167601  \n",
       "Pla_HDBR13661572_TTTGGTTTCTAAGGAA  1.454485        0.797156  \n",
       "\n",
       "[1991 rows x 5 columns]"
      ]
     },
     "execution_count": 16,
     "metadata": {},
     "output_type": "execute_result"
    }
   ],
   "source": [
    "genedf"
   ]
  },
  {
   "cell_type": "code",
   "execution_count": null,
   "id": "surface-extent",
   "metadata": {},
   "outputs": [],
   "source": []
  },
  {
   "cell_type": "code",
   "execution_count": 17,
   "id": "twenty-compromise",
   "metadata": {},
   "outputs": [],
   "source": [
    "# Check overall mean and var\n",
    "grouped = genedf.groupby('celltype-Stage')\n",
    "mean, var = grouped.mean(), grouped.var()"
   ]
  },
  {
   "cell_type": "code",
   "execution_count": 18,
   "id": "mineral-cream",
   "metadata": {},
   "outputs": [
    {
     "data": {
      "text/html": [
       "<div>\n",
       "<style scoped>\n",
       "    .dataframe tbody tr th:only-of-type {\n",
       "        vertical-align: middle;\n",
       "    }\n",
       "\n",
       "    .dataframe tbody tr th {\n",
       "        vertical-align: top;\n",
       "    }\n",
       "\n",
       "    .dataframe thead th {\n",
       "        text-align: right;\n",
       "    }\n",
       "</style>\n",
       "<table border=\"1\" class=\"dataframe\">\n",
       "  <thead>\n",
       "    <tr style=\"text-align: right;\">\n",
       "      <th></th>\n",
       "      <th>FLT1</th>\n",
       "      <th>PGF</th>\n",
       "      <th>FLT1_PGF_ratio</th>\n",
       "    </tr>\n",
       "    <tr>\n",
       "      <th>celltype-Stage</th>\n",
       "      <th></th>\n",
       "      <th></th>\n",
       "      <th></th>\n",
       "    </tr>\n",
       "  </thead>\n",
       "  <tbody>\n",
       "    <tr>\n",
       "      <th>VCT_fusing-Lm_24h</th>\n",
       "      <td>2.025596</td>\n",
       "      <td>1.483402</td>\n",
       "      <td>2.451533</td>\n",
       "    </tr>\n",
       "    <tr>\n",
       "      <th>VCT_fusing-UI_Lm_24h</th>\n",
       "      <td>1.963100</td>\n",
       "      <td>1.530125</td>\n",
       "      <td>2.544150</td>\n",
       "    </tr>\n",
       "  </tbody>\n",
       "</table>\n",
       "</div>"
      ],
      "text/plain": [
       "                          FLT1       PGF  FLT1_PGF_ratio\n",
       "celltype-Stage                                          \n",
       "VCT_fusing-Lm_24h     2.025596  1.483402        2.451533\n",
       "VCT_fusing-UI_Lm_24h  1.963100  1.530125        2.544150"
      ]
     },
     "execution_count": 18,
     "metadata": {},
     "output_type": "execute_result"
    }
   ],
   "source": [
    "mean"
   ]
  },
  {
   "cell_type": "code",
   "execution_count": 19,
   "id": "established-visibility",
   "metadata": {},
   "outputs": [
    {
     "data": {
      "text/html": [
       "<div>\n",
       "<style scoped>\n",
       "    .dataframe tbody tr th:only-of-type {\n",
       "        vertical-align: middle;\n",
       "    }\n",
       "\n",
       "    .dataframe tbody tr th {\n",
       "        vertical-align: top;\n",
       "    }\n",
       "\n",
       "    .dataframe thead th {\n",
       "        text-align: right;\n",
       "    }\n",
       "</style>\n",
       "<table border=\"1\" class=\"dataframe\">\n",
       "  <thead>\n",
       "    <tr style=\"text-align: right;\">\n",
       "      <th></th>\n",
       "      <th>FLT1</th>\n",
       "      <th>PGF</th>\n",
       "      <th>FLT1_PGF_ratio</th>\n",
       "    </tr>\n",
       "    <tr>\n",
       "      <th>celltype-Stage</th>\n",
       "      <th></th>\n",
       "      <th></th>\n",
       "      <th></th>\n",
       "    </tr>\n",
       "  </thead>\n",
       "  <tbody>\n",
       "    <tr>\n",
       "      <th>VCT_fusing-Lm_24h</th>\n",
       "      <td>1.512675</td>\n",
       "      <td>0.757551</td>\n",
       "      <td>9.164599</td>\n",
       "    </tr>\n",
       "    <tr>\n",
       "      <th>VCT_fusing-UI_Lm_24h</th>\n",
       "      <td>1.897838</td>\n",
       "      <td>0.875239</td>\n",
       "      <td>11.399666</td>\n",
       "    </tr>\n",
       "  </tbody>\n",
       "</table>\n",
       "</div>"
      ],
      "text/plain": [
       "                          FLT1       PGF  FLT1_PGF_ratio\n",
       "celltype-Stage                                          \n",
       "VCT_fusing-Lm_24h     1.512675  0.757551        9.164599\n",
       "VCT_fusing-UI_Lm_24h  1.897838  0.875239       11.399666"
      ]
     },
     "execution_count": 19,
     "metadata": {},
     "output_type": "execute_result"
    }
   ],
   "source": [
    "var"
   ]
  },
  {
   "cell_type": "code",
   "execution_count": 20,
   "id": "virtual-exemption",
   "metadata": {},
   "outputs": [],
   "source": [
    "# Check by donor\n",
    "donors_list = ['Hrv135', 'Hrv136',  'Hrv236']\n",
    "custom_order=['VCT_fusing-UI_Lm_24h', 'VCT_fusing-Lm_24h']\n",
    "\n",
    "# Calculate mean ratios across all donors\n",
    "mean_ratios = None\n",
    "for donor in donors_list:\n",
    "    donor_data = genedf[genedf['donor_id'] == donor]\n",
    "    donor_mean = donor_data.groupby('celltype-Stage').mean()\n",
    "    \n",
    "    if mean_ratios is None:\n",
    "        mean_ratios = donor_mean['FLT1'] / donor_mean['PGF']\n",
    "    else:\n",
    "        mean_ratios += donor_mean['FLT1'] / donor_mean['PGF']\n",
    "\n",
    "mean_ratios /= len(donors_list)  # Calculate the mean ratios across all donors\n",
    "\n",
    "# Calculate the standard error for the mean ratios\n",
    "error_bars = None\n",
    "for donor in donors_list:\n",
    "    donor_data = genedf[genedf['donor_id'] == donor]\n",
    "    donor_sem = donor_data.groupby('celltype-Stage').sem()\n",
    "    \n",
    "    if error_bars is None:\n",
    "        error_bars = (donor_sem['FLT1'] / donor_mean['PGF']) ** 2\n",
    "    else:\n",
    "        error_bars += (donor_sem['FLT1'] / donor_mean['PGF']) ** 2\n",
    "\n",
    "error_bars = np.sqrt(error_bars) / len(donors_list)  # Calculate the standard error across all donors\n",
    "\n",
    "# Reorder mean_ratios and error_bars according to custom_order\n",
    "mean_ratios = mean_ratios.reindex(custom_order)\n",
    "error_bars = error_bars.reindex(custom_order)"
   ]
  },
  {
   "cell_type": "code",
   "execution_count": 21,
   "id": "smooth-divide",
   "metadata": {},
   "outputs": [
    {
     "name": "stdout",
     "output_type": "stream",
     "text": [
      "Mean ratio for donor Hrv135:\n",
      "celltype-Stage\n",
      "VCT_fusing-Lm_24h       1.515213\n",
      "VCT_fusing-UI_Lm_24h    1.632008\n",
      "dtype: float32\n",
      "Mean ratio for donor Hrv136:\n",
      "celltype-Stage\n",
      "VCT_fusing-Lm_24h       1.444359\n",
      "VCT_fusing-UI_Lm_24h    1.291036\n",
      "dtype: float32\n",
      "Mean ratio for donor Hrv236:\n",
      "celltype-Stage\n",
      "VCT_fusing-Lm_24h       1.215202\n",
      "VCT_fusing-UI_Lm_24h    1.163271\n",
      "dtype: float32\n"
     ]
    }
   ],
   "source": [
    "for donor in donors_list:\n",
    "    donor_data = genedf[genedf['donor_id'] == donor]\n",
    "    donor_mean = donor_data.groupby('celltype-Stage').mean()\n",
    "    mean_ratio_donor = donor_mean['FLT1'] / donor_mean['PGF']\n",
    "    print(f\"Mean ratio for donor {donor}:\")\n",
    "    print(mean_ratio_donor)"
   ]
  },
  {
   "cell_type": "code",
   "execution_count": null,
   "id": "listed-wright",
   "metadata": {},
   "outputs": [],
   "source": []
  },
  {
   "cell_type": "code",
   "execution_count": 22,
   "id": "level-midwest",
   "metadata": {},
   "outputs": [],
   "source": [
    "# Plot barplot and do stats test "
   ]
  },
  {
   "cell_type": "code",
   "execution_count": 23,
   "id": "growing-extent",
   "metadata": {},
   "outputs": [
    {
     "name": "stdout",
     "output_type": "stream",
     "text": [
      "p-value annotation legend:\n",
      "ns: 5.00e-02 < p <= 1.00e+00\n",
      "*: 1.00e-02 < p <= 5.00e-02\n",
      "**: 1.00e-03 < p <= 1.00e-02\n",
      "***: 1.00e-04 < p <= 1.00e-03\n",
      "****: p <= 1.00e-04\n",
      "\n",
      "VCT_fusing-UI_Lm_24h v.s. VCT_fusing-Lm_24h: Mann-Whitney-Wilcoxon test two-sided with Bonferroni correction, P_val=3.274e-02 U_stat=4.581e+05\n"
     ]
    },
    {
     "data": {
      "image/png": "[encoded data removed]",
      "text/plain": [
       "<Figure size 240x480 with 1 Axes>"
      ]
     },
     "metadata": {
      "needs_background": "light"
     },
     "output_type": "display_data"
    }
   ],
   "source": [
    "# Reordering the barplot according to the specified order\n",
    "order = ['VCT_fusing-UI_Lm_24h', 'VCT_fusing-Lm_24h']\n",
    "plt.figure(figsize=(3, 6))\n",
    "ax = sns.barplot(x='celltype-Stage', y='FLT1_PGF_ratio', data=genedf, order=order,color=\"#e4007e\")\n",
    "\n",
    "# Adding significance annotations using add_stat_annotation with specified p-value thresholds\n",
    "test_results = add_stat_annotation(ax, data=genedf, x='celltype-Stage', y='FLT1_PGF_ratio',order=order,\n",
    "                                   box_pairs=[\n",
    "                                              ('VCT_fusing-Lm_24h', 'VCT_fusing-UI_Lm_24h')],\n",
    "                                   test='Mann-Whitney', text_format='star', loc='outside', verbose=2,\n",
    "                                   pvalue_thresholds=[[1e-4, \"****\"], [1e-3, \"***\"], [0.01, \"**\"], [0.05, \"*\"], [1, \"ns\"]])\n",
    "\n",
    "plt.xticks(rotation=90)\n",
    "# Removing the plot border and grid\n",
    "ax.spines['top'].set_visible(False)\n",
    "ax.spines['right'].set_visible(False)\n",
    "ax.grid(False)\n",
    "# Save the plot as a PDF\n",
    "plt.savefig('../results/images/SC_listeria_24H_FLT_PGF.pdf', bbox_inches='tight')\n",
    "plt.show()\n"
   ]
  },
  {
   "cell_type": "code",
   "execution_count": null,
   "id": "alleged-resource",
   "metadata": {},
   "outputs": [],
   "source": []
  },
  {
   "cell_type": "code",
   "execution_count": null,
   "id": "elect-binding",
   "metadata": {},
   "outputs": [],
   "source": []
  },
  {
   "cell_type": "markdown",
   "id": "critical-cursor",
   "metadata": {},
   "source": [
    "# Toxoplasma"
   ]
  },
  {
   "cell_type": "code",
   "execution_count": 10,
   "id": "opening-berlin",
   "metadata": {},
   "outputs": [],
   "source": [
    "adata=sc.read('../../../data_integration/results/scVI/toxoplasma_singleCell_24h.h5ad')"
   ]
  },
  {
   "cell_type": "code",
   "execution_count": 11,
   "id": "innovative-virgin",
   "metadata": {},
   "outputs": [
    {
     "data": {
      "text/plain": [
       "AnnData object with n_obs × n_vars = 33418 × 36601\n",
       "    obs: 'sample', 'stage', 'hpi', 'infection', 'percent_mito', 'n_counts', 'sample_barcode', 'assignment_SoC', 'donor_id', 'scrublet_score', 'scrublet_cluster_score', 'zscore', 'bh_pval', 'bonf_pval', 'S_score', 'G2M_score', 'phase', 'n_genes_by_counts', 'total_counts', 'total_counts_hs', 'pct_counts_hs', 'total_counts_tg', 'pct_counts_tg', 'Tg_infected', 'n_genes', '_scvi_batch', '_scvi_labels', '_scvi_local_l_mean', '_scvi_local_l_var', 'leiden_scvi', 'celltype_predictions', 'probabilities', 'scrublet_doublet', 'cell_type_2022', 'cell_type', 'souporcell_MFgenotype', 'MFgenotype', 'cell_type_broad', 'umap_density_Tg_infected', 'stage_perInfection', 'celltype-Stage', 'Tg_intracellular', 'celltype-Intracellular', 'Dev_Stage'\n",
       "    var: 'gene_ids', 'feature_types', 'mean-0', 'std-0', 'mean-1', 'std-1', 'mean-2', 'std-2', 'highly_variable', 'highly_variable_rank', 'means', 'variances', 'variances_norm'\n",
       "    uns: 'Dev_Stage_colors', 'MFgenotype_colors', '_scvi', 'cell_type_2022_colors', 'cell_type_broad_colors', 'cell_type_colors', 'celltype_predictions_colors', 'donor_id_colors', 'hpi_colors', 'hvg', 'infection_colors', 'leiden', 'neighbors', 'sample_colors', 'scrublet_doublet_colors', 'umap', 'umap_density_Tg_infected_params'\n",
       "    obsm: 'X_scVI_n_latent_20', 'X_scVI_n_latent_30', 'X_scVI_n_latent_40', 'X_umap', '_scvi_extra_categoricals'\n",
       "    layers: 'raw_counts'\n",
       "    obsp: 'connectivities', 'distances'"
      ]
     },
     "execution_count": 11,
     "metadata": {},
     "output_type": "execute_result"
    }
   ],
   "source": [
    "adata"
   ]
  },
  {
   "cell_type": "code",
   "execution_count": 12,
   "id": "sound-botswana",
   "metadata": {},
   "outputs": [
    {
     "name": "stderr",
     "output_type": "stream",
     "text": [
      "/opt/conda/lib/python3.8/site-packages/pandas/core/arrays/categorical.py:2487: FutureWarning: The `inplace` parameter in pandas.Categorical.remove_unused_categories is deprecated and will be removed in a future version.\n",
      "  res = method(*args, **kwargs)\n"
     ]
    }
   ],
   "source": [
    "adata =adata[[ i in ['VCT_fusing'] for i in adata.obs.cell_type ]]"
   ]
  },
  {
   "cell_type": "code",
   "execution_count": 13,
   "id": "still-begin",
   "metadata": {},
   "outputs": [
    {
     "data": {
      "text/html": [
       "<div>\n",
       "<style scoped>\n",
       "    .dataframe tbody tr th:only-of-type {\n",
       "        vertical-align: middle;\n",
       "    }\n",
       "\n",
       "    .dataframe tbody tr th {\n",
       "        vertical-align: top;\n",
       "    }\n",
       "\n",
       "    .dataframe thead th {\n",
       "        text-align: right;\n",
       "    }\n",
       "</style>\n",
       "<table border=\"1\" class=\"dataframe\">\n",
       "  <thead>\n",
       "    <tr style=\"text-align: right;\">\n",
       "      <th></th>\n",
       "      <th>counts</th>\n",
       "      <th>freqs</th>\n",
       "    </tr>\n",
       "    <tr>\n",
       "      <th>categories</th>\n",
       "      <th></th>\n",
       "      <th></th>\n",
       "    </tr>\n",
       "  </thead>\n",
       "  <tbody>\n",
       "    <tr>\n",
       "      <th>VCT_fusing-Tg_24h</th>\n",
       "      <td>1137</td>\n",
       "      <td>0.416789</td>\n",
       "    </tr>\n",
       "    <tr>\n",
       "      <th>VCT_fusing-UI_Tg_24h</th>\n",
       "      <td>1591</td>\n",
       "      <td>0.583211</td>\n",
       "    </tr>\n",
       "  </tbody>\n",
       "</table>\n",
       "</div>"
      ],
      "text/plain": [
       "                      counts     freqs\n",
       "categories                            \n",
       "VCT_fusing-Tg_24h       1137  0.416789\n",
       "VCT_fusing-UI_Tg_24h    1591  0.583211"
      ]
     },
     "execution_count": 13,
     "metadata": {},
     "output_type": "execute_result"
    }
   ],
   "source": [
    "adata.obs['celltype-Stage'].values.describe()"
   ]
  },
  {
   "cell_type": "code",
   "execution_count": 14,
   "id": "embedded-shield",
   "metadata": {},
   "outputs": [
    {
     "data": {
      "text/html": [
       "<div>\n",
       "<style scoped>\n",
       "    .dataframe tbody tr th:only-of-type {\n",
       "        vertical-align: middle;\n",
       "    }\n",
       "\n",
       "    .dataframe tbody tr th {\n",
       "        vertical-align: top;\n",
       "    }\n",
       "\n",
       "    .dataframe thead th {\n",
       "        text-align: right;\n",
       "    }\n",
       "</style>\n",
       "<table border=\"1\" class=\"dataframe\">\n",
       "  <thead>\n",
       "    <tr style=\"text-align: right;\">\n",
       "      <th></th>\n",
       "      <th>counts</th>\n",
       "      <th>freqs</th>\n",
       "    </tr>\n",
       "    <tr>\n",
       "      <th>categories</th>\n",
       "      <th></th>\n",
       "      <th></th>\n",
       "    </tr>\n",
       "  </thead>\n",
       "  <tbody>\n",
       "    <tr>\n",
       "      <th>scDonor_Tg1</th>\n",
       "      <td>785</td>\n",
       "      <td>0.287757</td>\n",
       "    </tr>\n",
       "    <tr>\n",
       "      <th>scDonor_Tg2</th>\n",
       "      <td>332</td>\n",
       "      <td>0.121701</td>\n",
       "    </tr>\n",
       "    <tr>\n",
       "      <th>scDonor_Tg3</th>\n",
       "      <td>1204</td>\n",
       "      <td>0.441349</td>\n",
       "    </tr>\n",
       "    <tr>\n",
       "      <th>scDonor_Tg4</th>\n",
       "      <td>407</td>\n",
       "      <td>0.149194</td>\n",
       "    </tr>\n",
       "  </tbody>\n",
       "</table>\n",
       "</div>"
      ],
      "text/plain": [
       "             counts     freqs\n",
       "categories                   \n",
       "scDonor_Tg1     785  0.287757\n",
       "scDonor_Tg2     332  0.121701\n",
       "scDonor_Tg3    1204  0.441349\n",
       "scDonor_Tg4     407  0.149194"
      ]
     },
     "execution_count": 14,
     "metadata": {},
     "output_type": "execute_result"
    }
   ],
   "source": [
    "adata.obs['donor_id'].values.describe()"
   ]
  },
  {
   "cell_type": "code",
   "execution_count": 16,
   "id": "stretch-casino",
   "metadata": {},
   "outputs": [
    {
     "name": "stderr",
     "output_type": "stream",
     "text": [
      "/opt/conda/lib/python3.8/site-packages/scanpy/preprocessing/_normalization.py:138: UserWarning: Revieved a view of an AnnData. Making a copy.\n",
      "  view_to_actual(adata)\n"
     ]
    }
   ],
   "source": [
    "#lognormalize for dotplots\n",
    "sc.pp.normalize_total(adata, target_sum=1e4)\n",
    "sc.pp.log1p(adata)\n",
    "#saving normalised log-transformed values in layer\n",
    "adata.layers[\"log_norm\"]=adata.X.copy()"
   ]
  },
  {
   "cell_type": "code",
   "execution_count": null,
   "id": "smooth-stretch",
   "metadata": {},
   "outputs": [],
   "source": []
  },
  {
   "cell_type": "code",
   "execution_count": 18,
   "id": "stone-longer",
   "metadata": {},
   "outputs": [],
   "source": [
    "marker_genes = ['FLT1', 'PGF']\n",
    "genedf = sc.get.obs_df(\n",
    "        adata, keys=['celltype-Stage','donor_id', *marker_genes])"
   ]
  },
  {
   "cell_type": "code",
   "execution_count": 19,
   "id": "female-detector",
   "metadata": {},
   "outputs": [
    {
     "data": {
      "text/html": [
       "<div>\n",
       "<style scoped>\n",
       "    .dataframe tbody tr th:only-of-type {\n",
       "        vertical-align: middle;\n",
       "    }\n",
       "\n",
       "    .dataframe tbody tr th {\n",
       "        vertical-align: top;\n",
       "    }\n",
       "\n",
       "    .dataframe thead th {\n",
       "        text-align: right;\n",
       "    }\n",
       "</style>\n",
       "<table border=\"1\" class=\"dataframe\">\n",
       "  <thead>\n",
       "    <tr style=\"text-align: right;\">\n",
       "      <th></th>\n",
       "      <th>celltype-Stage</th>\n",
       "      <th>donor_id</th>\n",
       "      <th>FLT1</th>\n",
       "      <th>PGF</th>\n",
       "    </tr>\n",
       "  </thead>\n",
       "  <tbody>\n",
       "    <tr>\n",
       "      <th>Pla_HDBR13007974_AAACCCAAGTAGTCAA</th>\n",
       "      <td>VCT_fusing-UI_Tg_24h</td>\n",
       "      <td>scDonor_Tg1</td>\n",
       "      <td>0.184956</td>\n",
       "      <td>3.694138</td>\n",
       "    </tr>\n",
       "    <tr>\n",
       "      <th>Pla_HDBR13007974_AAACCCAGTCTCTCAC</th>\n",
       "      <td>VCT_fusing-UI_Tg_24h</td>\n",
       "      <td>scDonor_Tg2</td>\n",
       "      <td>4.661533</td>\n",
       "      <td>1.751554</td>\n",
       "    </tr>\n",
       "    <tr>\n",
       "      <th>Pla_HDBR13007974_AAACCCAGTTGTGCAT</th>\n",
       "      <td>VCT_fusing-UI_Tg_24h</td>\n",
       "      <td>scDonor_Tg1</td>\n",
       "      <td>0.471667</td>\n",
       "      <td>1.032469</td>\n",
       "    </tr>\n",
       "    <tr>\n",
       "      <th>Pla_HDBR13007974_AAACCCATCTATCGTT</th>\n",
       "      <td>VCT_fusing-UI_Tg_24h</td>\n",
       "      <td>scDonor_Tg2</td>\n",
       "      <td>4.088596</td>\n",
       "      <td>1.117796</td>\n",
       "    </tr>\n",
       "    <tr>\n",
       "      <th>Pla_HDBR13007974_AAAGGGCAGATGCTGG</th>\n",
       "      <td>VCT_fusing-UI_Tg_24h</td>\n",
       "      <td>scDonor_Tg2</td>\n",
       "      <td>2.693759</td>\n",
       "      <td>1.102149</td>\n",
       "    </tr>\n",
       "    <tr>\n",
       "      <th>...</th>\n",
       "      <td>...</td>\n",
       "      <td>...</td>\n",
       "      <td>...</td>\n",
       "      <td>...</td>\n",
       "    </tr>\n",
       "    <tr>\n",
       "      <th>Pla_HDBR13798224_TTTGACTAGGTTATAG</th>\n",
       "      <td>VCT_fusing-Tg_24h</td>\n",
       "      <td>scDonor_Tg3</td>\n",
       "      <td>3.590571</td>\n",
       "      <td>0.897640</td>\n",
       "    </tr>\n",
       "    <tr>\n",
       "      <th>Pla_HDBR13798224_TTTGACTAGGTTCTAC</th>\n",
       "      <td>VCT_fusing-Tg_24h</td>\n",
       "      <td>scDonor_Tg3</td>\n",
       "      <td>2.619200</td>\n",
       "      <td>0.000000</td>\n",
       "    </tr>\n",
       "    <tr>\n",
       "      <th>Pla_HDBR13798224_TTTGGTTTCTTCCGTG</th>\n",
       "      <td>VCT_fusing-Tg_24h</td>\n",
       "      <td>scDonor_Tg3</td>\n",
       "      <td>4.119411</td>\n",
       "      <td>1.206171</td>\n",
       "    </tr>\n",
       "    <tr>\n",
       "      <th>Pla_HDBR13798224_TTTGTTGAGCTCCCTT</th>\n",
       "      <td>VCT_fusing-Tg_24h</td>\n",
       "      <td>scDonor_Tg4</td>\n",
       "      <td>0.563740</td>\n",
       "      <td>0.000000</td>\n",
       "    </tr>\n",
       "    <tr>\n",
       "      <th>Pla_HDBR13798224_TTTGTTGGTCGTATTG</th>\n",
       "      <td>VCT_fusing-Tg_24h</td>\n",
       "      <td>scDonor_Tg3</td>\n",
       "      <td>2.942377</td>\n",
       "      <td>1.573077</td>\n",
       "    </tr>\n",
       "  </tbody>\n",
       "</table>\n",
       "<p>2728 rows × 4 columns</p>\n",
       "</div>"
      ],
      "text/plain": [
       "                                         celltype-Stage     donor_id  \\\n",
       "Pla_HDBR13007974_AAACCCAAGTAGTCAA  VCT_fusing-UI_Tg_24h  scDonor_Tg1   \n",
       "Pla_HDBR13007974_AAACCCAGTCTCTCAC  VCT_fusing-UI_Tg_24h  scDonor_Tg2   \n",
       "Pla_HDBR13007974_AAACCCAGTTGTGCAT  VCT_fusing-UI_Tg_24h  scDonor_Tg1   \n",
       "Pla_HDBR13007974_AAACCCATCTATCGTT  VCT_fusing-UI_Tg_24h  scDonor_Tg2   \n",
       "Pla_HDBR13007974_AAAGGGCAGATGCTGG  VCT_fusing-UI_Tg_24h  scDonor_Tg2   \n",
       "...                                                 ...          ...   \n",
       "Pla_HDBR13798224_TTTGACTAGGTTATAG     VCT_fusing-Tg_24h  scDonor_Tg3   \n",
       "Pla_HDBR13798224_TTTGACTAGGTTCTAC     VCT_fusing-Tg_24h  scDonor_Tg3   \n",
       "Pla_HDBR13798224_TTTGGTTTCTTCCGTG     VCT_fusing-Tg_24h  scDonor_Tg3   \n",
       "Pla_HDBR13798224_TTTGTTGAGCTCCCTT     VCT_fusing-Tg_24h  scDonor_Tg4   \n",
       "Pla_HDBR13798224_TTTGTTGGTCGTATTG     VCT_fusing-Tg_24h  scDonor_Tg3   \n",
       "\n",
       "                                       FLT1       PGF  \n",
       "Pla_HDBR13007974_AAACCCAAGTAGTCAA  0.184956  3.694138  \n",
       "Pla_HDBR13007974_AAACCCAGTCTCTCAC  4.661533  1.751554  \n",
       "Pla_HDBR13007974_AAACCCAGTTGTGCAT  0.471667  1.032469  \n",
       "Pla_HDBR13007974_AAACCCATCTATCGTT  4.088596  1.117796  \n",
       "Pla_HDBR13007974_AAAGGGCAGATGCTGG  2.693759  1.102149  \n",
       "...                                     ...       ...  \n",
       "Pla_HDBR13798224_TTTGACTAGGTTATAG  3.590571  0.897640  \n",
       "Pla_HDBR13798224_TTTGACTAGGTTCTAC  2.619200  0.000000  \n",
       "Pla_HDBR13798224_TTTGGTTTCTTCCGTG  4.119411  1.206171  \n",
       "Pla_HDBR13798224_TTTGTTGAGCTCCCTT  0.563740  0.000000  \n",
       "Pla_HDBR13798224_TTTGTTGGTCGTATTG  2.942377  1.573077  \n",
       "\n",
       "[2728 rows x 4 columns]"
      ]
     },
     "execution_count": 19,
     "metadata": {},
     "output_type": "execute_result"
    }
   ],
   "source": [
    "genedf"
   ]
  },
  {
   "cell_type": "code",
   "execution_count": 20,
   "id": "increased-concentration",
   "metadata": {},
   "outputs": [
    {
     "name": "stdout",
     "output_type": "stream",
     "text": [
      "Length of genedf: 2728\n"
     ]
    }
   ],
   "source": [
    "length = len(genedf)\n",
    "print(\"Length of genedf:\", length)"
   ]
  },
  {
   "cell_type": "code",
   "execution_count": 21,
   "id": "hydraulic-profile",
   "metadata": {},
   "outputs": [],
   "source": [
    "#only take non-zero values so that the ratio is not NaN\n",
    "genedf = genedf[(genedf['FLT1'] != 0) & (genedf['PGF'] != 0)]"
   ]
  },
  {
   "cell_type": "code",
   "execution_count": 22,
   "id": "breeding-captain",
   "metadata": {},
   "outputs": [
    {
     "name": "stdout",
     "output_type": "stream",
     "text": [
      "Length of genedf: 2104\n"
     ]
    }
   ],
   "source": [
    "length = len(genedf)\n",
    "print(\"Length of genedf:\", length)"
   ]
  },
  {
   "cell_type": "code",
   "execution_count": 23,
   "id": "durable-tower",
   "metadata": {},
   "outputs": [
    {
     "name": "stderr",
     "output_type": "stream",
     "text": [
      "<ipython-input-23-a031e8978f11>:2: SettingWithCopyWarning: \n",
      "A value is trying to be set on a copy of a slice from a DataFrame.\n",
      "Try using .loc[row_indexer,col_indexer] = value instead\n",
      "\n",
      "See the caveats in the documentation: https://pandas.pydata.org/pandas-docs/stable/user_guide/indexing.html#returning-a-view-versus-a-copy\n",
      "  genedf['FLT1_PGF_ratio'] = genedf['FLT1'] / genedf['PGF']\n"
     ]
    }
   ],
   "source": [
    "# Assuming 'FLT1' and 'PGF' columns are present in genedf\n",
    "genedf['FLT1_PGF_ratio'] = genedf['FLT1'] / genedf['PGF']"
   ]
  },
  {
   "cell_type": "code",
   "execution_count": 24,
   "id": "binary-niagara",
   "metadata": {},
   "outputs": [],
   "source": [
    "grouped = genedf.groupby('celltype-Stage')\n",
    "mean, var = grouped.mean(), grouped.var()"
   ]
  },
  {
   "cell_type": "code",
   "execution_count": 25,
   "id": "accomplished-point",
   "metadata": {},
   "outputs": [
    {
     "data": {
      "text/html": [
       "<div>\n",
       "<style scoped>\n",
       "    .dataframe tbody tr th:only-of-type {\n",
       "        vertical-align: middle;\n",
       "    }\n",
       "\n",
       "    .dataframe tbody tr th {\n",
       "        vertical-align: top;\n",
       "    }\n",
       "\n",
       "    .dataframe thead th {\n",
       "        text-align: right;\n",
       "    }\n",
       "</style>\n",
       "<table border=\"1\" class=\"dataframe\">\n",
       "  <thead>\n",
       "    <tr style=\"text-align: right;\">\n",
       "      <th></th>\n",
       "      <th>FLT1</th>\n",
       "      <th>PGF</th>\n",
       "      <th>FLT1_PGF_ratio</th>\n",
       "    </tr>\n",
       "    <tr>\n",
       "      <th>celltype-Stage</th>\n",
       "      <th></th>\n",
       "      <th></th>\n",
       "      <th></th>\n",
       "    </tr>\n",
       "  </thead>\n",
       "  <tbody>\n",
       "    <tr>\n",
       "      <th>VCT_fusing-Tg_24h</th>\n",
       "      <td>2.082770</td>\n",
       "      <td>1.732606</td>\n",
       "      <td>2.722078</td>\n",
       "    </tr>\n",
       "    <tr>\n",
       "      <th>VCT_fusing-UI_Tg_24h</th>\n",
       "      <td>1.947879</td>\n",
       "      <td>1.764291</td>\n",
       "      <td>2.282089</td>\n",
       "    </tr>\n",
       "  </tbody>\n",
       "</table>\n",
       "</div>"
      ],
      "text/plain": [
       "                          FLT1       PGF  FLT1_PGF_ratio\n",
       "celltype-Stage                                          \n",
       "VCT_fusing-Tg_24h     2.082770  1.732606        2.722078\n",
       "VCT_fusing-UI_Tg_24h  1.947879  1.764291        2.282089"
      ]
     },
     "execution_count": 25,
     "metadata": {},
     "output_type": "execute_result"
    }
   ],
   "source": [
    "mean"
   ]
  },
  {
   "cell_type": "code",
   "execution_count": 26,
   "id": "bridal-living",
   "metadata": {},
   "outputs": [
    {
     "data": {
      "text/html": [
       "<div>\n",
       "<style scoped>\n",
       "    .dataframe tbody tr th:only-of-type {\n",
       "        vertical-align: middle;\n",
       "    }\n",
       "\n",
       "    .dataframe tbody tr th {\n",
       "        vertical-align: top;\n",
       "    }\n",
       "\n",
       "    .dataframe thead th {\n",
       "        text-align: right;\n",
       "    }\n",
       "</style>\n",
       "<table border=\"1\" class=\"dataframe\">\n",
       "  <thead>\n",
       "    <tr style=\"text-align: right;\">\n",
       "      <th></th>\n",
       "      <th>FLT1</th>\n",
       "      <th>PGF</th>\n",
       "      <th>FLT1_PGF_ratio</th>\n",
       "    </tr>\n",
       "    <tr>\n",
       "      <th>celltype-Stage</th>\n",
       "      <th></th>\n",
       "      <th></th>\n",
       "      <th></th>\n",
       "    </tr>\n",
       "  </thead>\n",
       "  <tbody>\n",
       "    <tr>\n",
       "      <th>VCT_fusing-Tg_24h</th>\n",
       "      <td>1.862330</td>\n",
       "      <td>1.119886</td>\n",
       "      <td>15.662721</td>\n",
       "    </tr>\n",
       "    <tr>\n",
       "      <th>VCT_fusing-UI_Tg_24h</th>\n",
       "      <td>1.864335</td>\n",
       "      <td>1.066406</td>\n",
       "      <td>10.619403</td>\n",
       "    </tr>\n",
       "  </tbody>\n",
       "</table>\n",
       "</div>"
      ],
      "text/plain": [
       "                          FLT1       PGF  FLT1_PGF_ratio\n",
       "celltype-Stage                                          \n",
       "VCT_fusing-Tg_24h     1.862330  1.119886       15.662721\n",
       "VCT_fusing-UI_Tg_24h  1.864335  1.066406       10.619403"
      ]
     },
     "execution_count": 26,
     "metadata": {},
     "output_type": "execute_result"
    }
   ],
   "source": [
    "var"
   ]
  },
  {
   "cell_type": "code",
   "execution_count": null,
   "id": "sharp-actor",
   "metadata": {},
   "outputs": [],
   "source": []
  },
  {
   "cell_type": "code",
   "execution_count": 27,
   "id": "settled-pattern",
   "metadata": {},
   "outputs": [],
   "source": [
    "#check per donor\n",
    "donors_list = ['scDonor_Tg1', 'scDonor_Tg2',  'scDonor_Tg3','scDonor_Tg4']\n",
    "custom_order=['VCT_fusing-UI_Tg_24h', 'VCT_fusing-Tg_24h']\n",
    "\n",
    "# Calculate mean ratios across all donors\n",
    "mean_ratios = None\n",
    "for donor in donors_list:\n",
    "    donor_data = genedf[genedf['donor_id'] == donor]\n",
    "    donor_mean = donor_data.groupby('celltype-Stage').mean()\n",
    "    \n",
    "    if mean_ratios is None:\n",
    "        mean_ratios = donor_mean['FLT1'] / donor_mean['PGF']\n",
    "    else:\n",
    "        mean_ratios += donor_mean['FLT1'] / donor_mean['PGF']\n",
    "\n",
    "mean_ratios /= len(donors_list)  # Calculate the mean ratios across all donors\n",
    "\n",
    "# Calculate the standard error for the mean ratios\n",
    "error_bars = None\n",
    "for donor in donors_list:\n",
    "    donor_data = genedf[genedf['donor_id'] == donor]\n",
    "    donor_sem = donor_data.groupby('celltype-Stage').sem()\n",
    "    \n",
    "    if error_bars is None:\n",
    "        error_bars = (donor_sem['FLT1'] / donor_mean['PGF']) ** 2\n",
    "    else:\n",
    "        error_bars += (donor_sem['FLT1'] / donor_mean['PGF']) ** 2\n",
    "\n",
    "error_bars = np.sqrt(error_bars) / len(donors_list)  # Calculate the standard error across all donors\n",
    "\n",
    "# Reorder mean_ratios and error_bars according to custom_order\n",
    "mean_ratios = mean_ratios.reindex(custom_order)\n",
    "error_bars = error_bars.reindex(custom_order)"
   ]
  },
  {
   "cell_type": "code",
   "execution_count": 28,
   "id": "quick-auditor",
   "metadata": {},
   "outputs": [
    {
     "name": "stdout",
     "output_type": "stream",
     "text": [
      "Mean ratio for donor scDonor_Tg1:\n",
      "celltype-Stage\n",
      "VCT_fusing-Tg_24h       0.640264\n",
      "VCT_fusing-UI_Tg_24h    0.663538\n",
      "dtype: float32\n",
      "Mean ratio for donor scDonor_Tg2:\n",
      "celltype-Stage\n",
      "VCT_fusing-Tg_24h       0.885738\n",
      "VCT_fusing-UI_Tg_24h    0.677140\n",
      "dtype: float32\n",
      "Mean ratio for donor scDonor_Tg3:\n",
      "celltype-Stage\n",
      "VCT_fusing-Tg_24h       1.728348\n",
      "VCT_fusing-UI_Tg_24h    1.521312\n",
      "dtype: float32\n",
      "Mean ratio for donor scDonor_Tg4:\n",
      "celltype-Stage\n",
      "VCT_fusing-Tg_24h       1.916765\n",
      "VCT_fusing-UI_Tg_24h    1.851859\n",
      "dtype: float32\n"
     ]
    }
   ],
   "source": [
    "for donor in donors_list:\n",
    "    donor_data = genedf[genedf['donor_id'] == donor]\n",
    "    donor_mean = donor_data.groupby('celltype-Stage').mean()\n",
    "    mean_ratio_donor = donor_mean['FLT1'] / donor_mean['PGF']\n",
    "    print(f\"Mean ratio for donor {donor}:\")\n",
    "    print(mean_ratio_donor)"
   ]
  },
  {
   "cell_type": "code",
   "execution_count": null,
   "id": "nearby-anthony",
   "metadata": {},
   "outputs": [],
   "source": []
  },
  {
   "cell_type": "code",
   "execution_count": 29,
   "id": "elementary-temple",
   "metadata": {},
   "outputs": [],
   "source": [
    "# Plot barplot and do stats test "
   ]
  },
  {
   "cell_type": "code",
   "execution_count": 30,
   "id": "neutral-number",
   "metadata": {},
   "outputs": [
    {
     "name": "stdout",
     "output_type": "stream",
     "text": [
      "p-value annotation legend:\n",
      "ns: 5.00e-02 < p <= 1.00e+00\n",
      "*: 1.00e-02 < p <= 5.00e-02\n",
      "**: 1.00e-03 < p <= 1.00e-02\n",
      "***: 1.00e-04 < p <= 1.00e-03\n",
      "****: p <= 1.00e-04\n",
      "\n",
      "VCT_fusing-UI_Tg_24h v.s. VCT_fusing-Tg_24h: Mann-Whitney-Wilcoxon test two-sided with Bonferroni correction, P_val=2.236e-02 U_stat=5.061e+05\n"
     ]
    },
    {
     "data": {
      "image/png": "[encoded data removed]",
      "text/plain": [
       "<Figure size 240x480 with 1 Axes>"
      ]
     },
     "metadata": {
      "needs_background": "light"
     },
     "output_type": "display_data"
    }
   ],
   "source": [
    "# Reordering the barplot according to the specified order\n",
    "order = ['VCT_fusing-UI_Tg_24h', 'VCT_fusing-Tg_24h']\n",
    "plt.figure(figsize=(3, 6))\n",
    "ax = sns.barplot(x='celltype-Stage', y='FLT1_PGF_ratio', data=genedf, order=order,color=\"#1d70b6\")\n",
    "\n",
    "# Adding significance annotations using add_stat_annotation with specified p-value thresholds\n",
    "test_results = add_stat_annotation(ax, data=genedf, x='celltype-Stage', y='FLT1_PGF_ratio',order=order,\n",
    "                                   box_pairs=[\n",
    "                                              ('VCT_fusing-Tg_24h', 'VCT_fusing-UI_Tg_24h')],\n",
    "                                   test='Mann-Whitney', text_format='star', loc='outside', verbose=2,\n",
    "                                   pvalue_thresholds=[[1e-4, \"****\"], [1e-3, \"***\"], [0.01, \"**\"], [0.05, \"*\"], [1, \"ns\"]])\n",
    "\n",
    "plt.xticks(rotation=90)\n",
    "# Removing the plot border and grid\n",
    "ax.spines['top'].set_visible(False)\n",
    "ax.spines['right'].set_visible(False)\n",
    "ax.grid(False)\n",
    "# Save the plot as a PDF\n",
    "plt.savefig('../results/images/SC_toxoplasma_24H_FLT_PGF.pdf', bbox_inches='tight')\n",
    "plt.show()\n",
    "\n",
    "\n"
   ]
  },
  {
   "cell_type": "code",
   "execution_count": null,
   "id": "annual-latino",
   "metadata": {},
   "outputs": [],
   "source": []
  }
 ],
 "metadata": {
  "kernelspec": {
   "display_name": "Python 3",
   "language": "python",
   "name": "python3"
  },
  "language_info": {
   "codemirror_mode": {
    "name": "ipython",
    "version": 3
   },
   "file_extension": ".py",
   "mimetype": "text/x-python",
   "name": "python",
   "nbconvert_exporter": "python",
   "pygments_lexer": "ipython3",
   "version": "3.8.8"
  }
 },
 "nbformat": 4,
 "nbformat_minor": 5
}
