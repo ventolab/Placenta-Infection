{
 "cells": [
  {
   "cell_type": "markdown",
   "id": "therapeutic-prague",
   "metadata": {},
   "source": [
    "**Author:** Elias Rafael Ruiz-Morales\n",
    "\n",
    "**Institution:** Wellcome Sanger institute\n",
    "\n",
    "**July, 2023**"
   ]
  },
  {
   "cell_type": "markdown",
   "id": "documented-warner",
   "metadata": {},
   "source": [
    "---"
   ]
  },
  {
   "cell_type": "code",
   "execution_count": null,
   "id": "insured-trigger",
   "metadata": {},
   "outputs": [],
   "source": []
  },
  {
   "cell_type": "code",
   "execution_count": 1,
   "id": "level-helping",
   "metadata": {},
   "outputs": [],
   "source": [
    "recoverPvalLog2FC <- function(files, columns, genes, outdir, suffix){\n",
    "    # Function to get the Pvalues and log2FC values from the Differential expression results.\n",
    "    # Useful to make plots for downstream analysis.\n",
    "    \n",
    "    # files= files from the differential expression results\n",
    "    # columns= column names, each column name MUST MATCH to a file in the same position\n",
    "    # genes= query genes to recover their values\n",
    "    # outdir= output directory\n",
    "    # suffix= suffix to add to the file names.\n",
    "    #-------------------------------------------\n",
    "    \n",
    "    \n",
    "    ## Building the OUTPUT dataframes\n",
    "    ##\n",
    "\n",
    "    #dimensions= columns * genes\n",
    "    pval= matrix(data = rep(x = NA,(length(columns)*length(genes))),ncol = length(columns) )\n",
    "    rownames(pval)=genes\n",
    "    colnames(pval)=columns\n",
    "\n",
    "    #Same structure for the log2FC datafram\n",
    "    log2FC= pval\n",
    "    \n",
    "    ## Filling up the empty data frames\n",
    "    ##\n",
    "    for(i in 1:length(columns)){\n",
    "\n",
    "        #column and file names that MUST be in the same position in both vectors\n",
    "\n",
    "        file= files[i] #DE file to read\n",
    "        column=columns[i] #column to fill\n",
    "\n",
    "        #reading DE dataframe\n",
    "        df= read.csv(file, sep = '\\t')\n",
    "        rownames(df)=df[,1] #rownames (genes) and deleting extra column with the rownames\n",
    "        df[,1]=NULL\n",
    "\n",
    "\n",
    "        ## Filling up the column, gene by gene\n",
    "        ##\n",
    "        for(gene in genes){  \n",
    "            #checking if a gene is in the DE dataframe \n",
    "            if (gene%in%rownames(df)){\n",
    "\n",
    "                    pval[gene,column]= df[gene,'p_val_adj']\n",
    "                    log2FC[gene,column]= df[gene,'logFC']   \n",
    "\n",
    "   \n",
    "            }\n",
    "            else{\n",
    "                #gene is not in DE dataframe, place a pvalue=1 and log2FC=0\n",
    "                pval[gene,column]= 1\n",
    "                log2FC[gene,column]=0\n",
    "            }\n",
    "        }\n",
    "    }\n",
    "\n",
    "    if(missing(suffix)){\n",
    "        file_name= paste0(outdir,'padj_selectedGenes.csv', collapse = '')\n",
    "        write.csv(pval, file=file_name, quote=FALSE, row.names=TRUE)\n",
    "        \n",
    "        file_name= paste0(outdir,'log2FC_selectedGenes.csv', collapse = '')\n",
    "        write.csv(log2FC, file=file_name, quote=FALSE, row.names=TRUE)\n",
    "    }\n",
    "    else{\n",
    "        file_name= paste0(outdir,'padj_selectedGenes',suffix, collapse = '')\n",
    "        write.csv(pval,file=file_name, quote=FALSE, row.names=TRUE)\n",
    "        \n",
    "        file_name= paste0(outdir,'log2FC_selectedGenes',suffix, collapse = '')\n",
    "        write.csv(log2FC,file=file_name, quote=FALSE, row.names=TRUE)\n",
    "    }\n",
    "  \n",
    "    \n",
    "}\n"
   ]
  },
  {
   "cell_type": "code",
   "execution_count": null,
   "id": "together-contemporary",
   "metadata": {},
   "outputs": [],
   "source": []
  },
  {
   "cell_type": "code",
   "execution_count": 2,
   "id": "plastic-fortune",
   "metadata": {},
   "outputs": [],
   "source": [
    "#files containing the tables with the DEGs from each cell type per infection\n",
    "files= c('../results/SC_limma_Trophoblast_MAL_48h/1_DEGs_SC_MAL_48h_VCT_fusing.tsv',\n",
    "         '../results/SC_limma_Trophoblast_MAL_48h/2_DEGs_SC_MAL_48h_VCT.tsv',\n",
    "         \n",
    "         '../results/SC_limma_Trophoblast_LIS_48h/1_DEGs_SC_LIS_48h_VCT_fusing.tsv',\n",
    "         '../results/SC_limma_Trophoblast_LIS_48h/2_DEGs_SC_LIS_48h_VCT.tsv',\n",
    "                  \n",
    "         '../results/SC_limma_Trophoblast_TOX_48h/1_DEGs_SC_TOX_48h_VCT_fusing.tsv',\n",
    "         '../results/SC_limma_Trophoblast_TOX_48h/2_DEGs_SC_TOX_48h_VCT.tsv'\n",
    "        )\n",
    "\n",
    "\n",
    "#cell types per infections that will be plot. This MUST match with the files above\n",
    "columns=c(\"PF_VCT_f\",\"PF_VTC\",\n",
    "          \"LM_VCT_f\",\"LM_VTC\",\n",
    "          \"TG_VCT_f\",\"TG_VTC\")\n"
   ]
  },
  {
   "cell_type": "code",
   "execution_count": null,
   "id": "wound-envelope",
   "metadata": {},
   "outputs": [],
   "source": []
  },
  {
   "cell_type": "markdown",
   "id": "environmental-inspiration",
   "metadata": {},
   "source": [
    "-----"
   ]
  },
  {
   "cell_type": "markdown",
   "id": "alert-dealer",
   "metadata": {},
   "source": [
    "# Panel of shared pathways among cell compartments, across infections"
   ]
  },
  {
   "cell_type": "code",
   "execution_count": null,
   "id": "going-backing",
   "metadata": {},
   "outputs": [],
   "source": []
  },
  {
   "cell_type": "code",
   "execution_count": 3,
   "id": "intense-pasta",
   "metadata": {},
   "outputs": [],
   "source": [
    "genes_input= c(\n",
    "    #--- Inflammation\n",
    "    \"IL1A\",\"IL1B\",\n",
    "    \"CCL3\",\"CCL4\",\"CCL20\",\"CXCL8\",\"CXCL3\",\"CCL2\",\"CCL5\",\"CXCL1\",\"CXCL2\",\"CXCL5\",\"IL33\",\"CCL3L1\",\"PTGS2\"\n",
    "    \n",
    "\n",
    ")\n",
    "recoverPvalLog2FC(files, columns, genes=genes_input, outdir='../results/tables_limma/', suffix = '_selectedSharedInflammation.csv')"
   ]
  },
  {
   "cell_type": "code",
   "execution_count": null,
   "id": "quantitative-infrared",
   "metadata": {},
   "outputs": [],
   "source": []
  }
 ],
 "metadata": {
  "kernelspec": {
   "display_name": "R",
   "language": "R",
   "name": "ir"
  },
  "language_info": {
   "codemirror_mode": "r",
   "file_extension": ".r",
   "mimetype": "text/x-r-source",
   "name": "R",
   "pygments_lexer": "r",
   "version": "4.0.4"
  }
 },
 "nbformat": 4,
 "nbformat_minor": 5
}
