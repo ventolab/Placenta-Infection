{
 "cells": [
  {
   "cell_type": "markdown",
   "id": "sorted-municipality",
   "metadata": {},
   "source": [
    "**Author:** Elias Rafael Ruiz-Morales\n",
    "\n",
    "**Institution:** Wellcome Sanger institute\n",
    "\n",
    "**July, 2023**"
   ]
  },
  {
   "cell_type": "markdown",
   "id": "colonial-manchester",
   "metadata": {},
   "source": [
    "---"
   ]
  },
  {
   "cell_type": "markdown",
   "id": "mediterranean-representation",
   "metadata": {},
   "source": [
    "# Creation of tables to generate differential gene expression heatmaps - Trophoblasts"
   ]
  },
  {
   "cell_type": "code",
   "execution_count": null,
   "id": "convenient-peninsula",
   "metadata": {},
   "outputs": [],
   "source": []
  },
  {
   "cell_type": "code",
   "execution_count": null,
   "id": "mediterranean-trunk",
   "metadata": {},
   "outputs": [],
   "source": []
  },
  {
   "cell_type": "code",
   "execution_count": 8,
   "id": "unusual-terminology",
   "metadata": {},
   "outputs": [],
   "source": [
    "recoverPvalLog2FC <- function(files, columns, genes, outdir, suffix){\n",
    "    # Function to get the Pvalues and log2FC values from the Differential expression results.\n",
    "    # Useful to make plots for downstream analysis.\n",
    "    \n",
    "    # files= files from the differential expression results\n",
    "    # columns= column names, each column name MUST MATCH to a file in the same position\n",
    "    # genes= query genes to recover their values\n",
    "    # outdir= output directory\n",
    "    # suffix= suffix to add to the file names.\n",
    "    #-------------------------------------------\n",
    "    \n",
    "    \n",
    "    ## Building the OUTPUT dataframes\n",
    "    ##\n",
    "\n",
    "    #dimensions= columns * genes\n",
    "    pval= matrix(data = rep(x = NA,(length(columns)*length(genes))),ncol = length(columns) )\n",
    "    rownames(pval)=genes\n",
    "    colnames(pval)=columns\n",
    "\n",
    "    #Same structure for the log2FC datafram\n",
    "    log2FC= pval\n",
    "    \n",
    "    ## Filling up the empty data frames\n",
    "    ##\n",
    "    for(i in 1:length(columns)){\n",
    "\n",
    "        #column and file names that MUST be in the same position in both vectors\n",
    "\n",
    "        file= files[i] #DE file to read\n",
    "        column=columns[i] #column to fill\n",
    "\n",
    "        #reading DE dataframe\n",
    "        df= read.csv(file, sep = '\\t')\n",
    "        rownames(df)=df[,1] #rownames (genes) and deleting extra column with the rownames\n",
    "        df[,1]=NULL\n",
    "\n",
    "\n",
    "        ## Filling up the column, gene by gene\n",
    "        ##\n",
    "        for(gene in genes){  \n",
    "            #checking if a gene is in the DE dataframe \n",
    "            if (gene%in%rownames(df)){\n",
    "\n",
    "                    pval[gene,column]= df[gene,'p_val_adj']\n",
    "                    log2FC[gene,column]= df[gene,'logFC']   \n",
    "\n",
    "   \n",
    "            }\n",
    "            else{\n",
    "                #gene is not in DE dataframe, place a pvalue=1 and log2FC=0\n",
    "                pval[gene,column]= 1\n",
    "                log2FC[gene,column]=0\n",
    "            }\n",
    "        }\n",
    "    }\n",
    "\n",
    "    if(missing(suffix)){\n",
    "        file_name= paste0(outdir,'padj_selectedGenes.csv', collapse = '')\n",
    "        write.csv(pval, file=file_name, quote=FALSE, row.names=TRUE)\n",
    "        \n",
    "        file_name= paste0(outdir,'log2FC_selectedGenes.csv', collapse = '')\n",
    "        write.csv(log2FC, file=file_name, quote=FALSE, row.names=TRUE)\n",
    "    }\n",
    "    else{\n",
    "        file_name= paste0(outdir,'padj_selectedGenes',suffix, collapse = '')\n",
    "        write.csv(pval,file=file_name, quote=FALSE, row.names=TRUE)\n",
    "        \n",
    "        file_name= paste0(outdir,'log2FC_selectedGenes',suffix, collapse = '')\n",
    "        write.csv(log2FC,file=file_name, quote=FALSE, row.names=TRUE)\n",
    "    }\n",
    "  \n",
    "    \n",
    "}\n"
   ]
  },
  {
   "cell_type": "code",
   "execution_count": null,
   "id": "golden-purse",
   "metadata": {},
   "outputs": [],
   "source": []
  },
  {
   "cell_type": "code",
   "execution_count": 9,
   "id": "representative-temple",
   "metadata": {},
   "outputs": [],
   "source": [
    "#files containing the tables with the DEGs from each cell type per infection\n",
    "files= c('../results/SC_limma_Trophoblast_MAL_24h/1_DEGs_SC_MAL_24h_VCT_fusing.tsv',\n",
    "         '../results/SC_limma_Trophoblast_MAL_24h/2_DEGs_SC_MAL_24h_VCT.tsv',\n",
    "         \n",
    "         '../results/SC_limma_Trophoblast_LIS_24h/1_DEGs_SC_LIS_24h_VCT_fusing.tsv',\n",
    "         '../results/SC_limma_Trophoblast_LIS_24h/2_DEGs_SC_LIS_24h_VCT.tsv',\n",
    "                  \n",
    "         '../results/SC_limma_Trophoblast_TOX_24h/1_DEGs_SC_TOX_24h_VCT_fusing.tsv',\n",
    "         '../results/SC_limma_Trophoblast_TOX_24h/2_DEGs_SC_TOX_24h_VCT.tsv'\n",
    "        )\n",
    "\n",
    "\n",
    "#cell types per infections that will be plot. This MUST match with the files above\n",
    "columns=c(\"PF_VCT_f\",\"PF_VTC\",#\"PF_HBinf\",\n",
    "          \"LM_VCT_f\",\"LM_VTC\",#\"LM_HBinf\",\n",
    "          \"TG_VCT_f\",\"TG_VTC\")#,\"TG_HBinf\",)\n"
   ]
  },
  {
   "cell_type": "code",
   "execution_count": null,
   "id": "signed-anaheim",
   "metadata": {},
   "outputs": [],
   "source": []
  },
  {
   "cell_type": "markdown",
   "id": "characteristic-graduation",
   "metadata": {},
   "source": [
    "-----"
   ]
  },
  {
   "cell_type": "markdown",
   "id": "hawaiian-rapid",
   "metadata": {},
   "source": [
    "## Inflammation genes shared among compartments, across infections - Figure 2"
   ]
  },
  {
   "cell_type": "code",
   "execution_count": 10,
   "id": "quick-assembly",
   "metadata": {},
   "outputs": [],
   "source": [
    "genes_input= c(\n",
    "    #--- Inflammation\n",
    "    \"IL1B\",\"CCL3\",\"CCL4\",\"CCL20\",\"CXCL8\",\"CXCL3\",\"PTGS2\"\n",
    "\n",
    ")\n",
    "recoverPvalLog2FC(files, columns, genes=genes_input, outdir='../results/tables_limma/', suffix = '_selectedSharedInflammation.csv')"
   ]
  },
  {
   "cell_type": "code",
   "execution_count": null,
   "id": "vulnerable-office",
   "metadata": {},
   "outputs": [],
   "source": []
  },
  {
   "cell_type": "markdown",
   "id": "honey-enforcement",
   "metadata": {},
   "source": [
    "## HMOX1 gene, specific to P. falciparum infection - Figure 3"
   ]
  },
  {
   "cell_type": "code",
   "execution_count": 4,
   "id": "tracked-convertible",
   "metadata": {},
   "outputs": [],
   "source": [
    "genes_input= c(\n",
    "    \"HMOX1\"\n",
    ")\n",
    "recoverPvalLog2FC(files, columns, genes=genes_input, outdir='../results/tables_limma/', suffix = '_HMOX.csv')"
   ]
  },
  {
   "cell_type": "code",
   "execution_count": null,
   "id": "level-politics",
   "metadata": {},
   "outputs": [],
   "source": []
  },
  {
   "cell_type": "markdown",
   "id": "committed-thickness",
   "metadata": {},
   "source": [
    "## FLT1/PGF, specific to P. falciparum infection - Figure 3"
   ]
  },
  {
   "cell_type": "code",
   "execution_count": null,
   "id": "seasonal-poverty",
   "metadata": {},
   "outputs": [],
   "source": [
    "genes_input= c(\n",
    "    #-- FLT1/PGF balance\n",
    "    \"FLT1\",\"PGF\"\n",
    ")\n",
    "\n",
    "recoverPvalLog2FC(files, columns, genes=genes_input, outdir='../results/tables_limma/', suffix = '_selectedFLT1PGF.csv')\n"
   ]
  },
  {
   "cell_type": "code",
   "execution_count": null,
   "id": "neutral-enlargement",
   "metadata": {},
   "outputs": [],
   "source": []
  },
  {
   "cell_type": "code",
   "execution_count": null,
   "id": "extended-maryland",
   "metadata": {},
   "outputs": [],
   "source": []
  },
  {
   "cell_type": "markdown",
   "id": "impaired-sterling",
   "metadata": {},
   "source": [
    "-----"
   ]
  },
  {
   "cell_type": "markdown",
   "id": "suburban-favorite",
   "metadata": {},
   "source": [
    "### Other genes tested"
   ]
  },
  {
   "cell_type": "raw",
   "id": "level-threshold",
   "metadata": {},
   "source": [
    "\n",
    "#-- Hormone downregulated\n",
    "\"CGA\",\"PGF\",\"CRH\",\n",
    "\"PTGR1\",\"ESRRA\",\"PPARD\",\"PPARG\",\"ESR2\",\"POR\",\"PRKCE\",\"PRKCZ\",\"PRKDC\",\"NCOA2\",\"CYP19A1\",\"HSD17B1\"\n",
    "\n",
    "#--- metabolic swicht\n",
    "#--- glycolysis\n",
    "\"ENO1\",\"ENO2\",\"GAPDH\",\"GPI\",\"TPI1\",\"SLC2A3\",\n",
    "\"HK1\",\"LDHA\",\"PGK1\",\"SLC2A1\",\n",
    "\n",
    "#--- OXPHOS\n",
    "\"MT-CYB\", # Cytochrome B\n",
    "# Cytochrome c oxidase subunits\n",
    "\"MT-CO1\",\"MT-CO2\",\"MT-CO3\",\n",
    "\"COX5A\",\"COX6A1\",\"COX6C\",\"COX7A2\", \"COX8A\", \"COX10\", \n",
    "#ATP synthase\n",
    "\"ATP5F1A\",\"ATP5F2\",\"ATP5F1B\",\"ATPAF1\",\"ATP5F1C\",\"ATP5F1E\",\"ATP5PB\",\"MT-ATP6\",\n",
    "\"NDUFS1\" #NADH-ubiquinone oxidoreductase\n",
    "\n",
    "\n",
    "#--- metabolic swicht\n",
    "\n",
    "#--- OXPHOS\n",
    "#complex I\n",
    "\"NDUFA1\",\"NDUFA6\",\"NDUFB3\",\"NDUFB9\",\"NDUFS2\",\"NDUFV1\",\n",
    "\n",
    "#complex II\n",
    "\"SDHA\",\n",
    "\n",
    "# cytochrome c1\n",
    "\"CYC1\"\n",
    "\n",
    "#--- Glycolysis and transport\n",
    "\"HK1\",\"PGM1\",\"PFKM\",\"ALDOA\",\"GAPDH\",\"PGK1\",\"PGAM1\",\"ENO1\",\"PKLR\", #Glycolysis\n",
    "\n",
    "\"PDK1\",\"PDK2\",\"PDK3\",\"PDK4\", #PDKs -  Pyruvate dehydrogenase kinases (PDKs) - Inhibit PDHs\n",
    "\"PDHA1\",\"PDHA2\", #Pyruvate dehydrogenase (PDH) - conversion of pyruvate to acetyl-CoA\n",
    "\"SLC16A1\",\"SLC16A3\",\"SLC16A7\",\"SLC16A8\", #MCTs - lactate carriers\n",
    "\"MPC1\",\"MPC2\" # MPCs - piruvate carriers"
   ]
  }
 ],
 "metadata": {
  "kernelspec": {
   "display_name": "R",
   "language": "R",
   "name": "ir"
  },
  "language_info": {
   "codemirror_mode": "r",
   "file_extension": ".r",
   "mimetype": "text/x-r-source",
   "name": "R",
   "pygments_lexer": "r",
   "version": "4.0.4"
  }
 },
 "nbformat": 4,
 "nbformat_minor": 5
}
