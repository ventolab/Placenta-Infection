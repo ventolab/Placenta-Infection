{
 "cells": [
  {
   "cell_type": "markdown",
   "id": "following-expense",
   "metadata": {},
   "source": [
    "**Author:** Elias Rafael Ruiz-Morales\n",
    "\n",
    "**Institution:** Wellcome Sanger institute\n",
    "\n",
    "**July, 2023**"
   ]
  },
  {
   "cell_type": "markdown",
   "id": "according-error",
   "metadata": {},
   "source": [
    "---"
   ]
  },
  {
   "cell_type": "code",
   "execution_count": 6,
   "id": "integrated-orange",
   "metadata": {},
   "outputs": [],
   "source": [
    "import numpy as np\n",
    "import pandas as pd\n",
    "import os\n",
    "import sys\n",
    "\n",
    "import scipy\n",
    "\n",
    "import matplotlib.pyplot as plt\n",
    "\n",
    "import seaborn as sns"
   ]
  },
  {
   "cell_type": "markdown",
   "id": "identical-parker",
   "metadata": {},
   "source": [
    "### Note \n",
    "To run this chunk you need:\n",
    "\n",
    "*rpy2==3.4.2  ///  anndata2ri==1.0.6*"
   ]
  },
  {
   "cell_type": "code",
   "execution_count": 7,
   "id": "urban-scene",
   "metadata": {},
   "outputs": [
    {
     "name": "stdout",
     "output_type": "stream",
     "text": [
      "The rpy2.ipython extension is already loaded. To reload it, use:\n",
      "  %reload_ext rpy2.ipython\n"
     ]
    }
   ],
   "source": [
    "import rpy2.robjects as ro\n",
    "import rpy2.robjects.numpy2ri\n",
    "\n",
    "import rpy2.rinterface_lib.callbacks\n",
    "import logging\n",
    "# Itoliste R warning messages\n",
    "#Note: this can be commented out to get more verbose R output\n",
    "rpy2.rinterface_lib.callbacks.logger.setLevel(logging.ERROR)\n",
    "import anndata2ri\n",
    "anndata2ri.activate()\n",
    "%load_ext rpy2.ipython"
   ]
  },
  {
   "cell_type": "code",
   "execution_count": null,
   "id": "bulgarian-percentage",
   "metadata": {},
   "outputs": [],
   "source": []
  },
  {
   "cell_type": "code",
   "execution_count": 8,
   "id": "defensive-testament",
   "metadata": {},
   "outputs": [],
   "source": [
    "df1 = pd.read_csv('../results/SC_limma_Trophoblast_TOX_24h/1_DEGs_SC_TOX_24h_VCT_fusing.tsv', index_col=0,sep='\\t')\n",
    "df2 = pd.read_csv('../results/SC_limma_Trophoblast_TOX_24h/2_DEGs_SC_TOX_24h_VCT.tsv', index_col=0,sep='\\t')"
   ]
  },
  {
   "cell_type": "code",
   "execution_count": 9,
   "id": "herbal-bailey",
   "metadata": {},
   "outputs": [
    {
     "data": {
      "text/html": [
       "<div>\n",
       "<style scoped>\n",
       "    .dataframe tbody tr th:only-of-type {\n",
       "        vertical-align: middle;\n",
       "    }\n",
       "\n",
       "    .dataframe tbody tr th {\n",
       "        vertical-align: top;\n",
       "    }\n",
       "\n",
       "    .dataframe thead th {\n",
       "        text-align: right;\n",
       "    }\n",
       "</style>\n",
       "<table border=\"1\" class=\"dataframe\">\n",
       "  <thead>\n",
       "    <tr style=\"text-align: right;\">\n",
       "      <th></th>\n",
       "      <th>logFC</th>\n",
       "      <th>logCPM</th>\n",
       "      <th>F</th>\n",
       "      <th>PValue</th>\n",
       "      <th>bonferroni</th>\n",
       "      <th>p_val_adj</th>\n",
       "    </tr>\n",
       "  </thead>\n",
       "  <tbody>\n",
       "    <tr>\n",
       "      <th>TIMP1</th>\n",
       "      <td>0.883189</td>\n",
       "      <td>6.423208</td>\n",
       "      <td>88.019460</td>\n",
       "      <td>1.126633e-09</td>\n",
       "      <td>0.000009</td>\n",
       "      <td>0.000009</td>\n",
       "    </tr>\n",
       "    <tr>\n",
       "      <th>IFI6</th>\n",
       "      <td>0.448185</td>\n",
       "      <td>10.421668</td>\n",
       "      <td>55.318923</td>\n",
       "      <td>8.556514e-08</td>\n",
       "      <td>0.000652</td>\n",
       "      <td>0.000326</td>\n",
       "    </tr>\n",
       "    <tr>\n",
       "      <th>SPP1</th>\n",
       "      <td>0.717596</td>\n",
       "      <td>6.877959</td>\n",
       "      <td>47.980641</td>\n",
       "      <td>2.897721e-07</td>\n",
       "      <td>0.002207</td>\n",
       "      <td>0.000736</td>\n",
       "    </tr>\n",
       "    <tr>\n",
       "      <th>COL3A1</th>\n",
       "      <td>0.814079</td>\n",
       "      <td>5.123309</td>\n",
       "      <td>43.569166</td>\n",
       "      <td>6.419772e-07</td>\n",
       "      <td>0.004890</td>\n",
       "      <td>0.001222</td>\n",
       "    </tr>\n",
       "    <tr>\n",
       "      <th>DYNLRB1</th>\n",
       "      <td>0.418769</td>\n",
       "      <td>5.728626</td>\n",
       "      <td>39.369841</td>\n",
       "      <td>1.439906e-06</td>\n",
       "      <td>0.010968</td>\n",
       "      <td>0.002194</td>\n",
       "    </tr>\n",
       "  </tbody>\n",
       "</table>\n",
       "</div>"
      ],
      "text/plain": [
       "            logFC     logCPM          F        PValue  bonferroni  p_val_adj\n",
       "TIMP1    0.883189   6.423208  88.019460  1.126633e-09    0.000009   0.000009\n",
       "IFI6     0.448185  10.421668  55.318923  8.556514e-08    0.000652   0.000326\n",
       "SPP1     0.717596   6.877959  47.980641  2.897721e-07    0.002207   0.000736\n",
       "COL3A1   0.814079   5.123309  43.569166  6.419772e-07    0.004890   0.001222\n",
       "DYNLRB1  0.418769   5.728626  39.369841  1.439906e-06    0.010968   0.002194"
      ]
     },
     "execution_count": 9,
     "metadata": {},
     "output_type": "execute_result"
    }
   ],
   "source": [
    "df1.head()"
   ]
  },
  {
   "cell_type": "code",
   "execution_count": 10,
   "id": "several-montana",
   "metadata": {},
   "outputs": [
    {
     "data": {
      "text/html": [
       "<div>\n",
       "<style scoped>\n",
       "    .dataframe tbody tr th:only-of-type {\n",
       "        vertical-align: middle;\n",
       "    }\n",
       "\n",
       "    .dataframe tbody tr th {\n",
       "        vertical-align: top;\n",
       "    }\n",
       "\n",
       "    .dataframe thead th {\n",
       "        text-align: right;\n",
       "    }\n",
       "</style>\n",
       "<table border=\"1\" class=\"dataframe\">\n",
       "  <thead>\n",
       "    <tr style=\"text-align: right;\">\n",
       "      <th></th>\n",
       "      <th>logFC</th>\n",
       "      <th>logCPM</th>\n",
       "      <th>F</th>\n",
       "      <th>PValue</th>\n",
       "      <th>bonferroni</th>\n",
       "      <th>p_val_adj</th>\n",
       "    </tr>\n",
       "  </thead>\n",
       "  <tbody>\n",
       "    <tr>\n",
       "      <th>CXCL8</th>\n",
       "      <td>0.974553</td>\n",
       "      <td>5.553529</td>\n",
       "      <td>118.972231</td>\n",
       "      <td>1.140086e-11</td>\n",
       "      <td>1.082967e-07</td>\n",
       "      <td>1.082967e-07</td>\n",
       "    </tr>\n",
       "    <tr>\n",
       "      <th>TIMP1</th>\n",
       "      <td>0.808608</td>\n",
       "      <td>6.236301</td>\n",
       "      <td>80.224796</td>\n",
       "      <td>9.055197e-10</td>\n",
       "      <td>8.601531e-06</td>\n",
       "      <td>4.300766e-06</td>\n",
       "    </tr>\n",
       "    <tr>\n",
       "      <th>RNF17</th>\n",
       "      <td>1.837875</td>\n",
       "      <td>3.048054</td>\n",
       "      <td>60.373804</td>\n",
       "      <td>1.653236e-08</td>\n",
       "      <td>1.570409e-04</td>\n",
       "      <td>5.234696e-05</td>\n",
       "    </tr>\n",
       "    <tr>\n",
       "      <th>CCL4L2</th>\n",
       "      <td>1.032796</td>\n",
       "      <td>2.540356</td>\n",
       "      <td>57.375081</td>\n",
       "      <td>2.714022e-08</td>\n",
       "      <td>2.578049e-04</td>\n",
       "      <td>6.445124e-05</td>\n",
       "    </tr>\n",
       "    <tr>\n",
       "      <th>IFI6</th>\n",
       "      <td>0.321170</td>\n",
       "      <td>10.736599</td>\n",
       "      <td>55.654252</td>\n",
       "      <td>3.636252e-08</td>\n",
       "      <td>3.454076e-04</td>\n",
       "      <td>6.908152e-05</td>\n",
       "    </tr>\n",
       "  </tbody>\n",
       "</table>\n",
       "</div>"
      ],
      "text/plain": [
       "           logFC     logCPM           F        PValue    bonferroni  \\\n",
       "CXCL8   0.974553   5.553529  118.972231  1.140086e-11  1.082967e-07   \n",
       "TIMP1   0.808608   6.236301   80.224796  9.055197e-10  8.601531e-06   \n",
       "RNF17   1.837875   3.048054   60.373804  1.653236e-08  1.570409e-04   \n",
       "CCL4L2  1.032796   2.540356   57.375081  2.714022e-08  2.578049e-04   \n",
       "IFI6    0.321170  10.736599   55.654252  3.636252e-08  3.454076e-04   \n",
       "\n",
       "           p_val_adj  \n",
       "CXCL8   1.082967e-07  \n",
       "TIMP1   4.300766e-06  \n",
       "RNF17   5.234696e-05  \n",
       "CCL4L2  6.445124e-05  \n",
       "IFI6    6.908152e-05  "
      ]
     },
     "execution_count": 10,
     "metadata": {},
     "output_type": "execute_result"
    }
   ],
   "source": [
    "df2.head()"
   ]
  },
  {
   "cell_type": "code",
   "execution_count": null,
   "id": "automotive-belgium",
   "metadata": {},
   "outputs": [],
   "source": []
  },
  {
   "cell_type": "markdown",
   "id": "cordless-price",
   "metadata": {},
   "source": [
    "#  VCT_fusing"
   ]
  },
  {
   "cell_type": "code",
   "execution_count": 11,
   "id": "thirty-blink",
   "metadata": {},
   "outputs": [],
   "source": [
    "df1up= df1[(df1['logFC'] > 0) ]\n",
    "df1_down= df1[(df1['logFC'] < 0) ]"
   ]
  },
  {
   "cell_type": "code",
   "execution_count": 7,
   "id": "psychological-answer",
   "metadata": {},
   "outputs": [],
   "source": [
    "#df1_down['avg_log2FC']= df1_down['avg_log2FC']*-1"
   ]
  },
  {
   "cell_type": "code",
   "execution_count": 12,
   "id": "diagnostic-skill",
   "metadata": {},
   "outputs": [],
   "source": [
    "#df1_down['avg_log2FC']= df1_down['avg_log2FC']*-1\n",
    "df1_temp = pd.concat([df1up, df1_down])"
   ]
  },
  {
   "cell_type": "code",
   "execution_count": null,
   "id": "apart-craps",
   "metadata": {},
   "outputs": [],
   "source": []
  },
  {
   "cell_type": "code",
   "execution_count": 13,
   "id": "aging-gibson",
   "metadata": {},
   "outputs": [],
   "source": [
    "%%R\n",
    "\n",
    "library(Cairo)\n",
    "library(ggplot2)\n",
    "library(ggrepel)\n",
    "library(EnhancedVolcano)\n",
    "library(magrittr)"
   ]
  },
  {
   "cell_type": "code",
   "execution_count": 14,
   "id": "individual-taxation",
   "metadata": {},
   "outputs": [
    {
     "data": {
      "image/png": "[encoded data removed]"
     },
     "metadata": {},
     "output_type": "display_data"
    }
   ],
   "source": [
    "%%R -i df1_temp\n",
    "\n",
    "EnhancedVolcano(df1_temp, lab = rownames(df1_temp), x=\"logFC\", y=\"p_val_adj\",\n",
    "                    #selectLab = c('IFI6','IL1B'),\n",
    "                \n",
    "                pCutoff=0.05,\n",
    "                FCcutoff = 0.1, title = \"Tg_VCT_fusing\", subtitle = bquote(italic(single_cell)), \n",
    "                ylab = bquote(-Log[10] * \"(p-val_adj)\"), xlim = c(-1.5, 1.5), pointSize =1,\n",
    "                labSize = 4)\n",
    "#ggsave(\"volcano_plot_Pf_VCT_fusing_SN_day2.eps\",  device=cairo_ps, width =7,   height =7)\n",
    "\n",
    "\n"
   ]
  },
  {
   "cell_type": "code",
   "execution_count": 15,
   "id": "shaped-laptop",
   "metadata": {},
   "outputs": [],
   "source": [
    "x= df1_temp[(df1_temp['p_val_adj'] < 0.05) ]"
   ]
  },
  {
   "cell_type": "code",
   "execution_count": 16,
   "id": "primary-enclosure",
   "metadata": {},
   "outputs": [
    {
     "data": {
      "text/plain": [
       "<matplotlib.lines.Line2D at 0x7fe9906edf10>"
      ]
     },
     "execution_count": 16,
     "metadata": {},
     "output_type": "execute_result"
    },
    {
     "data": {
      "image/png": "[encoded data removed]",
      "text/plain": [
       "<Figure size 432x288 with 1 Axes>"
      ]
     },
     "metadata": {
      "needs_background": "light"
     },
     "output_type": "display_data"
    }
   ],
   "source": [
    "plt.hist(x['logFC'], bins = 100)\n",
    "plt.axvline(0.1, linestyle = '--', color = 'red')\n",
    "plt.axvline(-0.1, linestyle = '--', color = 'red')"
   ]
  },
  {
   "cell_type": "code",
   "execution_count": null,
   "id": "fabulous-creek",
   "metadata": {},
   "outputs": [],
   "source": []
  },
  {
   "cell_type": "markdown",
   "id": "continuous-poster",
   "metadata": {},
   "source": [
    "## Note:\n",
    "Save DEGs list:\n",
    "\n",
    "    p_val_adj < 0.05\n",
    "    \n",
    "    avg_log2FC > 0.1\n",
    "    \n",
    "    ==> Input to metascape"
   ]
  },
  {
   "cell_type": "markdown",
   "id": "plastic-professor",
   "metadata": {},
   "source": [
    "### Significant Up reg in VCT_fusing"
   ]
  },
  {
   "cell_type": "code",
   "execution_count": 17,
   "id": "developmental-system",
   "metadata": {},
   "outputs": [],
   "source": [
    "upDEG= df1[ (df1['p_val_adj'] < 0.05) & (df1['logFC'] > 0.1)]"
   ]
  },
  {
   "cell_type": "code",
   "execution_count": 18,
   "id": "advanced-malawi",
   "metadata": {},
   "outputs": [],
   "source": [
    "upDEG.to_csv('../results/SC_limma_Trophoblast_TOX_24h/1_DEGs_UP_SC_TOX_24h_VCTfusing.tsv', index=True, sep='\\t')"
   ]
  },
  {
   "cell_type": "code",
   "execution_count": 19,
   "id": "recovered-penguin",
   "metadata": {},
   "outputs": [
    {
     "data": {
      "text/html": [
       "<div>\n",
       "<style scoped>\n",
       "    .dataframe tbody tr th:only-of-type {\n",
       "        vertical-align: middle;\n",
       "    }\n",
       "\n",
       "    .dataframe tbody tr th {\n",
       "        vertical-align: top;\n",
       "    }\n",
       "\n",
       "    .dataframe thead th {\n",
       "        text-align: right;\n",
       "    }\n",
       "</style>\n",
       "<table border=\"1\" class=\"dataframe\">\n",
       "  <thead>\n",
       "    <tr style=\"text-align: right;\">\n",
       "      <th></th>\n",
       "      <th>logFC</th>\n",
       "      <th>logCPM</th>\n",
       "      <th>F</th>\n",
       "      <th>PValue</th>\n",
       "      <th>bonferroni</th>\n",
       "      <th>p_val_adj</th>\n",
       "    </tr>\n",
       "  </thead>\n",
       "  <tbody>\n",
       "    <tr>\n",
       "      <th>TIMP1</th>\n",
       "      <td>0.883189</td>\n",
       "      <td>6.423208</td>\n",
       "      <td>88.019460</td>\n",
       "      <td>1.126633e-09</td>\n",
       "      <td>0.000009</td>\n",
       "      <td>0.000009</td>\n",
       "    </tr>\n",
       "    <tr>\n",
       "      <th>IFI6</th>\n",
       "      <td>0.448185</td>\n",
       "      <td>10.421668</td>\n",
       "      <td>55.318923</td>\n",
       "      <td>8.556514e-08</td>\n",
       "      <td>0.000652</td>\n",
       "      <td>0.000326</td>\n",
       "    </tr>\n",
       "    <tr>\n",
       "      <th>SPP1</th>\n",
       "      <td>0.717596</td>\n",
       "      <td>6.877959</td>\n",
       "      <td>47.980641</td>\n",
       "      <td>2.897721e-07</td>\n",
       "      <td>0.002207</td>\n",
       "      <td>0.000736</td>\n",
       "    </tr>\n",
       "    <tr>\n",
       "      <th>COL3A1</th>\n",
       "      <td>0.814079</td>\n",
       "      <td>5.123309</td>\n",
       "      <td>43.569166</td>\n",
       "      <td>6.419772e-07</td>\n",
       "      <td>0.004890</td>\n",
       "      <td>0.001222</td>\n",
       "    </tr>\n",
       "    <tr>\n",
       "      <th>DYNLRB1</th>\n",
       "      <td>0.418769</td>\n",
       "      <td>5.728626</td>\n",
       "      <td>39.369841</td>\n",
       "      <td>1.439906e-06</td>\n",
       "      <td>0.010968</td>\n",
       "      <td>0.002194</td>\n",
       "    </tr>\n",
       "  </tbody>\n",
       "</table>\n",
       "</div>"
      ],
      "text/plain": [
       "            logFC     logCPM          F        PValue  bonferroni  p_val_adj\n",
       "TIMP1    0.883189   6.423208  88.019460  1.126633e-09    0.000009   0.000009\n",
       "IFI6     0.448185  10.421668  55.318923  8.556514e-08    0.000652   0.000326\n",
       "SPP1     0.717596   6.877959  47.980641  2.897721e-07    0.002207   0.000736\n",
       "COL3A1   0.814079   5.123309  43.569166  6.419772e-07    0.004890   0.001222\n",
       "DYNLRB1  0.418769   5.728626  39.369841  1.439906e-06    0.010968   0.002194"
      ]
     },
     "execution_count": 19,
     "metadata": {},
     "output_type": "execute_result"
    }
   ],
   "source": [
    "upDEG.head()"
   ]
  },
  {
   "cell_type": "code",
   "execution_count": 20,
   "id": "editorial-tours",
   "metadata": {},
   "outputs": [
    {
     "data": {
      "text/plain": [
       "(136, 6)"
      ]
     },
     "execution_count": 20,
     "metadata": {},
     "output_type": "execute_result"
    }
   ],
   "source": [
    "upDEG.shape"
   ]
  },
  {
   "cell_type": "code",
   "execution_count": 21,
   "id": "compatible-initial",
   "metadata": {
    "collapsed": true,
    "jupyter": {
     "outputs_hidden": true
    },
    "tags": []
   },
   "outputs": [
    {
     "data": {
      "text/plain": [
       "['TIMP1',\n",
       " 'IFI6',\n",
       " 'SPP1',\n",
       " 'COL3A1',\n",
       " 'DYNLRB1',\n",
       " 'COL1A1',\n",
       " 'TINAGL1',\n",
       " 'CXCL5',\n",
       " 'NDFIP2',\n",
       " 'RNASE1',\n",
       " 'MTR',\n",
       " 'PRSS8',\n",
       " 'TMEM265',\n",
       " 'LGMN',\n",
       " 'VIM',\n",
       " 'RTN4',\n",
       " 'KRT8',\n",
       " 'ITGAV',\n",
       " 'HEXB',\n",
       " 'B2M',\n",
       " 'SDCBP',\n",
       " 'RAB11A',\n",
       " 'TMEM40',\n",
       " 'SLC2A1',\n",
       " 'CD68',\n",
       " 'SEC22B',\n",
       " 'BCAP31',\n",
       " 'GRN',\n",
       " 'TESK2',\n",
       " 'TMEM263',\n",
       " 'GCNT2',\n",
       " 'EPS8L1',\n",
       " 'SCAMP4',\n",
       " 'ARRDC3',\n",
       " 'CRIM1',\n",
       " 'ADAM10',\n",
       " 'LAMC1',\n",
       " 'TMBIM1',\n",
       " 'MAML2',\n",
       " 'CD14',\n",
       " 'CAST',\n",
       " 'GCNT4',\n",
       " 'PPP1R14B',\n",
       " 'STS',\n",
       " 'COL6A2',\n",
       " 'SEMA7A',\n",
       " 'SNAPC1',\n",
       " 'TENT5A',\n",
       " 'STEAP1B',\n",
       " 'ASCC3',\n",
       " 'SRGN',\n",
       " 'SLC30A7',\n",
       " 'KRT18',\n",
       " 'PRKD3',\n",
       " 'OLR1',\n",
       " 'SAT1',\n",
       " 'FCGRT',\n",
       " 'ZHX2',\n",
       " 'CYB5R1',\n",
       " 'DPYSL2',\n",
       " 'ZFP36L1',\n",
       " 'ZFP36',\n",
       " 'LAMP2',\n",
       " 'TSC22D2',\n",
       " 'SDC4',\n",
       " 'PTN',\n",
       " 'NEU1',\n",
       " 'EMSY',\n",
       " 'MARCH3',\n",
       " 'BCAM',\n",
       " 'NPL',\n",
       " 'FMN1',\n",
       " 'CKMT1B',\n",
       " 'ERVV-2',\n",
       " 'FAM83B',\n",
       " 'MFAP5',\n",
       " 'CHPF',\n",
       " 'DLK1',\n",
       " 'ADM',\n",
       " 'TGFBI',\n",
       " 'PRRC1',\n",
       " 'RBFOX2',\n",
       " 'CXCL3',\n",
       " 'CXCR6',\n",
       " 'DNAJC1',\n",
       " 'HIGD1A',\n",
       " 'PCBP1',\n",
       " 'LGALS1',\n",
       " 'PIAS1',\n",
       " 'SEL1L3',\n",
       " 'MYO1D',\n",
       " 'ZNRF2',\n",
       " 'FCGR2A',\n",
       " 'TMED2',\n",
       " 'SAV1',\n",
       " 'ISG15',\n",
       " 'BPGM',\n",
       " 'SLC38A9',\n",
       " 'CTR9',\n",
       " 'SMARCB1',\n",
       " 'IER3',\n",
       " 'EED',\n",
       " 'SLC20A1',\n",
       " 'DCN',\n",
       " 'S100A11',\n",
       " 'TPD52L1',\n",
       " 'YIPF6',\n",
       " 'LUM',\n",
       " 'ATG2A',\n",
       " 'PICALM',\n",
       " 'EFEMP1',\n",
       " 'CSF1R',\n",
       " 'GPR107',\n",
       " 'FERMT2',\n",
       " 'CCL20',\n",
       " 'TMEM165',\n",
       " 'ARHGEF5',\n",
       " 'SLC30A6',\n",
       " 'B4GALT3',\n",
       " 'HIST2H2BE',\n",
       " 'ATP6V0C',\n",
       " 'PCBP2',\n",
       " 'CITED2',\n",
       " 'FBN1',\n",
       " 'HEXA',\n",
       " 'GALNT3',\n",
       " 'SPPL2A',\n",
       " 'HGF',\n",
       " 'CDO1',\n",
       " 'MME',\n",
       " 'PHIP',\n",
       " 'SLC31A2',\n",
       " 'PKP2',\n",
       " 'ITGB4',\n",
       " 'MIB1',\n",
       " 'GPD2']"
      ]
     },
     "execution_count": 21,
     "metadata": {},
     "output_type": "execute_result"
    }
   ],
   "source": [
    "list(upDEG.index)"
   ]
  },
  {
   "cell_type": "code",
   "execution_count": 16,
   "id": "chinese-jackson",
   "metadata": {},
   "outputs": [],
   "source": [
    "#upDEG.sort_values(by='avg_log2FC', ascending=False).tail(15)"
   ]
  },
  {
   "cell_type": "code",
   "execution_count": 17,
   "id": "organizational-aquatic",
   "metadata": {},
   "outputs": [],
   "source": [
    "#upDEG.loc[['LGALS9','EPHB2','P2RY6','NECTIN2','GRN','LGALS3','ANXA1']]"
   ]
  },
  {
   "cell_type": "code",
   "execution_count": 18,
   "id": "missing-berlin",
   "metadata": {},
   "outputs": [],
   "source": [
    "#list(upDEG.gene)"
   ]
  },
  {
   "cell_type": "markdown",
   "id": "concrete-clark",
   "metadata": {},
   "source": [
    "### Significant Down reg in VCT_fusing"
   ]
  },
  {
   "cell_type": "code",
   "execution_count": 27,
   "id": "pediatric-ecology",
   "metadata": {},
   "outputs": [],
   "source": [
    "downDEG= df1[ (df1['p_val_adj'] < 0.05) & (df1['logFC'] < -0.1)]"
   ]
  },
  {
   "cell_type": "code",
   "execution_count": 28,
   "id": "cheap-solution",
   "metadata": {},
   "outputs": [],
   "source": [
    "downDEG.to_csv('../results/SC_limma_Trophoblast_TOX_24h/1_DEGs_DOWN_SC_TOX_24h_VCTfusing.tsv', index=True, sep='\\t')"
   ]
  },
  {
   "cell_type": "code",
   "execution_count": 29,
   "id": "geographic-commonwealth",
   "metadata": {},
   "outputs": [
    {
     "data": {
      "text/html": [
       "<div>\n",
       "<style scoped>\n",
       "    .dataframe tbody tr th:only-of-type {\n",
       "        vertical-align: middle;\n",
       "    }\n",
       "\n",
       "    .dataframe tbody tr th {\n",
       "        vertical-align: top;\n",
       "    }\n",
       "\n",
       "    .dataframe thead th {\n",
       "        text-align: right;\n",
       "    }\n",
       "</style>\n",
       "<table border=\"1\" class=\"dataframe\">\n",
       "  <thead>\n",
       "    <tr style=\"text-align: right;\">\n",
       "      <th></th>\n",
       "      <th>logFC</th>\n",
       "      <th>logCPM</th>\n",
       "      <th>F</th>\n",
       "      <th>PValue</th>\n",
       "      <th>bonferroni</th>\n",
       "      <th>p_val_adj</th>\n",
       "    </tr>\n",
       "  </thead>\n",
       "  <tbody>\n",
       "    <tr>\n",
       "      <th>ARL14EPL</th>\n",
       "      <td>-0.666450</td>\n",
       "      <td>4.026968</td>\n",
       "      <td>27.065921</td>\n",
       "      <td>0.000022</td>\n",
       "      <td>0.167484</td>\n",
       "      <td>0.007257</td>\n",
       "    </tr>\n",
       "    <tr>\n",
       "      <th>AC105402.3</th>\n",
       "      <td>-0.426549</td>\n",
       "      <td>9.452629</td>\n",
       "      <td>26.862795</td>\n",
       "      <td>0.000023</td>\n",
       "      <td>0.176158</td>\n",
       "      <td>0.007257</td>\n",
       "    </tr>\n",
       "    <tr>\n",
       "      <th>LTV1</th>\n",
       "      <td>-0.523265</td>\n",
       "      <td>4.203525</td>\n",
       "      <td>26.744670</td>\n",
       "      <td>0.000024</td>\n",
       "      <td>0.181424</td>\n",
       "      <td>0.007257</td>\n",
       "    </tr>\n",
       "    <tr>\n",
       "      <th>AGPAT5</th>\n",
       "      <td>-0.628432</td>\n",
       "      <td>7.281049</td>\n",
       "      <td>26.906843</td>\n",
       "      <td>0.000023</td>\n",
       "      <td>0.174236</td>\n",
       "      <td>0.007257</td>\n",
       "    </tr>\n",
       "    <tr>\n",
       "      <th>BAIAP2L1</th>\n",
       "      <td>-0.534624</td>\n",
       "      <td>4.551840</td>\n",
       "      <td>26.047988</td>\n",
       "      <td>0.000028</td>\n",
       "      <td>0.216164</td>\n",
       "      <td>0.007411</td>\n",
       "    </tr>\n",
       "  </tbody>\n",
       "</table>\n",
       "</div>"
      ],
      "text/plain": [
       "               logFC    logCPM          F    PValue  bonferroni  p_val_adj\n",
       "ARL14EPL   -0.666450  4.026968  27.065921  0.000022    0.167484   0.007257\n",
       "AC105402.3 -0.426549  9.452629  26.862795  0.000023    0.176158   0.007257\n",
       "LTV1       -0.523265  4.203525  26.744670  0.000024    0.181424   0.007257\n",
       "AGPAT5     -0.628432  7.281049  26.906843  0.000023    0.174236   0.007257\n",
       "BAIAP2L1   -0.534624  4.551840  26.047988  0.000028    0.216164   0.007411"
      ]
     },
     "execution_count": 29,
     "metadata": {},
     "output_type": "execute_result"
    }
   ],
   "source": [
    "downDEG.head()"
   ]
  },
  {
   "cell_type": "code",
   "execution_count": 30,
   "id": "valid-tolerance",
   "metadata": {},
   "outputs": [
    {
     "data": {
      "text/plain": [
       "(96, 6)"
      ]
     },
     "execution_count": 30,
     "metadata": {},
     "output_type": "execute_result"
    }
   ],
   "source": [
    "downDEG.shape"
   ]
  },
  {
   "cell_type": "code",
   "execution_count": 31,
   "id": "rubber-structure",
   "metadata": {
    "collapsed": true,
    "jupyter": {
     "outputs_hidden": true
    },
    "tags": []
   },
   "outputs": [
    {
     "data": {
      "text/plain": [
       "['ARL14EPL',\n",
       " 'AC105402.3',\n",
       " 'LTV1',\n",
       " 'AGPAT5',\n",
       " 'BAIAP2L1',\n",
       " 'FP236383.3',\n",
       " 'ERICH1',\n",
       " 'PEG10',\n",
       " 'NOP16',\n",
       " 'NOL9',\n",
       " 'CCR7',\n",
       " 'KDM1A',\n",
       " 'GSPT1',\n",
       " 'CCDC144NL-AS1',\n",
       " 'KLHL42',\n",
       " 'NOP14',\n",
       " 'CHST12',\n",
       " 'MT-ND6',\n",
       " 'GLO1',\n",
       " 'PSMG4',\n",
       " 'RRS1',\n",
       " 'PRPF4B',\n",
       " 'FAM107B',\n",
       " 'ATXN7L3B',\n",
       " 'MRPS27',\n",
       " 'SNHG14',\n",
       " 'TMEM120B',\n",
       " 'KPNA2',\n",
       " 'NAF1',\n",
       " 'ZBTB7C',\n",
       " 'DNAH11',\n",
       " 'LINC00513',\n",
       " 'RFC1',\n",
       " 'WDR43',\n",
       " 'S100A13',\n",
       " 'LDHB',\n",
       " 'NSD1',\n",
       " 'BRD9',\n",
       " 'METTL8',\n",
       " 'RUVBL2',\n",
       " 'TNFAIP8L1',\n",
       " 'SNW1',\n",
       " 'MRPS34',\n",
       " 'COCH',\n",
       " 'SPEN',\n",
       " 'KIF5B',\n",
       " 'TBRG4',\n",
       " 'CHD3',\n",
       " 'EMC8',\n",
       " 'PGLS',\n",
       " 'AC005355.1',\n",
       " 'C8orf33',\n",
       " 'ATP5F1A',\n",
       " 'EXOSC6',\n",
       " 'RSL1D1',\n",
       " 'PELP1',\n",
       " 'CCT2',\n",
       " 'AC136431.1',\n",
       " 'PDE5A',\n",
       " 'SOX4',\n",
       " 'EIF3J',\n",
       " 'REXO4',\n",
       " 'ORC4',\n",
       " 'ZMYND19',\n",
       " 'CHODL-AS1',\n",
       " 'PTMA',\n",
       " 'TTI2',\n",
       " 'PITPNM2',\n",
       " 'NCL',\n",
       " 'CDC40',\n",
       " 'TDG',\n",
       " 'LAPTM4B',\n",
       " 'RPS8',\n",
       " 'HSPH1',\n",
       " 'SURF6',\n",
       " 'WDR74',\n",
       " 'SUCLG1',\n",
       " 'SNHG17',\n",
       " 'MRPS12',\n",
       " 'SENP6',\n",
       " 'LINC00665',\n",
       " 'ZMYM4',\n",
       " 'PSMA7',\n",
       " 'NUDCD3',\n",
       " 'LINC01226',\n",
       " 'CNBP',\n",
       " 'HSP90AB1',\n",
       " 'UBTF',\n",
       " 'DNAJC2',\n",
       " 'TMEM70',\n",
       " 'CCDC86',\n",
       " 'PA2G4',\n",
       " 'PHRF1',\n",
       " 'MCPH1',\n",
       " 'SINHCAF',\n",
       " 'LARS']"
      ]
     },
     "execution_count": 31,
     "metadata": {},
     "output_type": "execute_result"
    }
   ],
   "source": [
    "list(downDEG.index)"
   ]
  },
  {
   "cell_type": "markdown",
   "id": "closing-trouble",
   "metadata": {},
   "source": [
    "---"
   ]
  },
  {
   "cell_type": "markdown",
   "id": "prerequisite-needle",
   "metadata": {},
   "source": [
    "#  VCT"
   ]
  },
  {
   "cell_type": "markdown",
   "id": "backed-pennsylvania",
   "metadata": {},
   "source": [
    "### Significant Up reg in VCT"
   ]
  },
  {
   "cell_type": "code",
   "execution_count": 32,
   "id": "later-madison",
   "metadata": {},
   "outputs": [],
   "source": [
    "upDEG= df2[(df2['p_val_adj'] < 0.05) & (df2['logFC'] > 0.1)]"
   ]
  },
  {
   "cell_type": "code",
   "execution_count": 33,
   "id": "earlier-logging",
   "metadata": {},
   "outputs": [],
   "source": [
    "upDEG.to_csv('../results/SC_limma_Trophoblast_TOX_24h/2_DEGs_UP_SC_TOX_24h_VCT.tsv', index=True, sep='\\t')"
   ]
  },
  {
   "cell_type": "code",
   "execution_count": 34,
   "id": "experienced-planet",
   "metadata": {},
   "outputs": [
    {
     "data": {
      "text/html": [
       "<div>\n",
       "<style scoped>\n",
       "    .dataframe tbody tr th:only-of-type {\n",
       "        vertical-align: middle;\n",
       "    }\n",
       "\n",
       "    .dataframe tbody tr th {\n",
       "        vertical-align: top;\n",
       "    }\n",
       "\n",
       "    .dataframe thead th {\n",
       "        text-align: right;\n",
       "    }\n",
       "</style>\n",
       "<table border=\"1\" class=\"dataframe\">\n",
       "  <thead>\n",
       "    <tr style=\"text-align: right;\">\n",
       "      <th></th>\n",
       "      <th>logFC</th>\n",
       "      <th>logCPM</th>\n",
       "      <th>F</th>\n",
       "      <th>PValue</th>\n",
       "      <th>bonferroni</th>\n",
       "      <th>p_val_adj</th>\n",
       "    </tr>\n",
       "  </thead>\n",
       "  <tbody>\n",
       "    <tr>\n",
       "      <th>CXCL8</th>\n",
       "      <td>0.974553</td>\n",
       "      <td>5.553529</td>\n",
       "      <td>118.972231</td>\n",
       "      <td>1.140086e-11</td>\n",
       "      <td>1.082967e-07</td>\n",
       "      <td>1.082967e-07</td>\n",
       "    </tr>\n",
       "    <tr>\n",
       "      <th>TIMP1</th>\n",
       "      <td>0.808608</td>\n",
       "      <td>6.236301</td>\n",
       "      <td>80.224796</td>\n",
       "      <td>9.055197e-10</td>\n",
       "      <td>8.601531e-06</td>\n",
       "      <td>4.300766e-06</td>\n",
       "    </tr>\n",
       "    <tr>\n",
       "      <th>RNF17</th>\n",
       "      <td>1.837875</td>\n",
       "      <td>3.048054</td>\n",
       "      <td>60.373804</td>\n",
       "      <td>1.653236e-08</td>\n",
       "      <td>1.570409e-04</td>\n",
       "      <td>5.234696e-05</td>\n",
       "    </tr>\n",
       "    <tr>\n",
       "      <th>CCL4L2</th>\n",
       "      <td>1.032796</td>\n",
       "      <td>2.540356</td>\n",
       "      <td>57.375081</td>\n",
       "      <td>2.714022e-08</td>\n",
       "      <td>2.578049e-04</td>\n",
       "      <td>6.445124e-05</td>\n",
       "    </tr>\n",
       "    <tr>\n",
       "      <th>IFI6</th>\n",
       "      <td>0.321170</td>\n",
       "      <td>10.736599</td>\n",
       "      <td>55.654252</td>\n",
       "      <td>3.636252e-08</td>\n",
       "      <td>3.454076e-04</td>\n",
       "      <td>6.908152e-05</td>\n",
       "    </tr>\n",
       "  </tbody>\n",
       "</table>\n",
       "</div>"
      ],
      "text/plain": [
       "           logFC     logCPM           F        PValue    bonferroni  \\\n",
       "CXCL8   0.974553   5.553529  118.972231  1.140086e-11  1.082967e-07   \n",
       "TIMP1   0.808608   6.236301   80.224796  9.055197e-10  8.601531e-06   \n",
       "RNF17   1.837875   3.048054   60.373804  1.653236e-08  1.570409e-04   \n",
       "CCL4L2  1.032796   2.540356   57.375081  2.714022e-08  2.578049e-04   \n",
       "IFI6    0.321170  10.736599   55.654252  3.636252e-08  3.454076e-04   \n",
       "\n",
       "           p_val_adj  \n",
       "CXCL8   1.082967e-07  \n",
       "TIMP1   4.300766e-06  \n",
       "RNF17   5.234696e-05  \n",
       "CCL4L2  6.445124e-05  \n",
       "IFI6    6.908152e-05  "
      ]
     },
     "execution_count": 34,
     "metadata": {},
     "output_type": "execute_result"
    }
   ],
   "source": [
    "upDEG.head()"
   ]
  },
  {
   "cell_type": "code",
   "execution_count": 35,
   "id": "balanced-replication",
   "metadata": {},
   "outputs": [
    {
     "data": {
      "text/plain": [
       "(214, 6)"
      ]
     },
     "execution_count": 35,
     "metadata": {},
     "output_type": "execute_result"
    }
   ],
   "source": [
    "upDEG.shape"
   ]
  },
  {
   "cell_type": "code",
   "execution_count": 36,
   "id": "violent-architect",
   "metadata": {
    "collapsed": true,
    "jupyter": {
     "outputs_hidden": true
    },
    "tags": []
   },
   "outputs": [
    {
     "data": {
      "text/plain": [
       "['CXCL8',\n",
       " 'TIMP1',\n",
       " 'RNF17',\n",
       " 'CCL4L2',\n",
       " 'IFI6',\n",
       " 'PLCB1',\n",
       " 'CCL3',\n",
       " 'TINAGL1',\n",
       " 'CCL4',\n",
       " 'DLK1',\n",
       " 'COL1A2',\n",
       " 'DYNLRB1',\n",
       " 'COL3A1',\n",
       " 'HEXB',\n",
       " 'WWC1',\n",
       " 'AC063944.1',\n",
       " 'CPA4',\n",
       " 'IER3',\n",
       " 'SLC7A11',\n",
       " 'GCNT2',\n",
       " 'GNG10',\n",
       " 'LINC00882',\n",
       " 'AC010343.3',\n",
       " 'SEC23A',\n",
       " 'TGFBR1',\n",
       " 'WSB1',\n",
       " 'TFPI2',\n",
       " 'LIPG',\n",
       " 'SCFD1',\n",
       " 'SLC13A3',\n",
       " 'FBN1',\n",
       " 'HULC',\n",
       " 'RBMS3',\n",
       " 'ITGB4',\n",
       " 'CCL20',\n",
       " 'IFIH1',\n",
       " 'TSC22D2',\n",
       " 'CYB5R1',\n",
       " 'OLR1',\n",
       " 'NFAT5',\n",
       " 'DDA1',\n",
       " 'PHLDA1',\n",
       " 'ITFG1',\n",
       " 'CDH1',\n",
       " 'ACTB',\n",
       " 'SOS1',\n",
       " 'CXCL5',\n",
       " 'DENND4A',\n",
       " 'LINC01322',\n",
       " 'TMEM265',\n",
       " 'AMBRA1',\n",
       " 'EPHA2',\n",
       " 'IRF9',\n",
       " 'PRNP',\n",
       " 'PGAM1',\n",
       " 'APOE',\n",
       " 'PLD1',\n",
       " 'B2M',\n",
       " 'TNRC18',\n",
       " 'BHLHE40',\n",
       " 'MEST',\n",
       " 'SEC22A',\n",
       " 'GTSF1',\n",
       " 'DIAPH3',\n",
       " 'FNDC3B',\n",
       " 'CTNNB1',\n",
       " 'TVP23C',\n",
       " 'ITGB6',\n",
       " 'MRC1',\n",
       " 'GOLPH3',\n",
       " 'NAV2',\n",
       " 'ALG10B',\n",
       " 'ALDH4A1',\n",
       " 'GBE1',\n",
       " 'SLC38A9',\n",
       " 'MYO1D',\n",
       " 'PSMA3',\n",
       " 'FAM83B',\n",
       " 'PPP6R3',\n",
       " 'PIK3C2A',\n",
       " 'STT3B',\n",
       " 'PXN',\n",
       " 'FNIP1',\n",
       " 'CCZ1',\n",
       " 'TRA2A',\n",
       " 'N4BP2L2',\n",
       " 'PPP1R14B',\n",
       " 'AC105411.1',\n",
       " 'CXCL3',\n",
       " 'CBWD2',\n",
       " 'OTUD7B',\n",
       " 'OAS1',\n",
       " 'TRIQK',\n",
       " 'CCL2',\n",
       " 'COL6A2',\n",
       " 'DDX60L',\n",
       " 'RNASE1',\n",
       " 'MCOLN3',\n",
       " 'STS',\n",
       " 'DCN',\n",
       " 'COL6A1',\n",
       " 'KANK4',\n",
       " 'MFAP5',\n",
       " 'CCN1',\n",
       " 'TNS4',\n",
       " 'DLG1',\n",
       " 'EIF2AK2',\n",
       " 'TXNDC11',\n",
       " 'PCDH11Y',\n",
       " 'STC2',\n",
       " 'FAM13B',\n",
       " 'CHD2',\n",
       " 'COL6A3',\n",
       " 'CALCOCO1',\n",
       " 'PIP5K1B',\n",
       " 'VIM',\n",
       " 'NEDD4L',\n",
       " 'MBNL2',\n",
       " 'EFEMP1',\n",
       " 'DPM1',\n",
       " 'COL1A1',\n",
       " 'RFX3-AS1',\n",
       " 'EXOC4',\n",
       " 'AP001831.1',\n",
       " 'RNF128',\n",
       " 'SPP1',\n",
       " 'SND1',\n",
       " 'TMEM140',\n",
       " 'ATG9B',\n",
       " 'LEPR',\n",
       " 'GALNT18',\n",
       " 'MBTD1',\n",
       " 'SLC2A1',\n",
       " 'SNTB1',\n",
       " 'ADK',\n",
       " 'PPP1R13L',\n",
       " 'TP53',\n",
       " 'FNBP1L',\n",
       " 'SH3KBP1',\n",
       " 'LYPD3',\n",
       " 'ATF1',\n",
       " 'YAP1',\n",
       " 'PDLIM5',\n",
       " 'ISG15',\n",
       " 'GPR87',\n",
       " 'TMSB4X',\n",
       " 'TENM3',\n",
       " 'MT-ND2',\n",
       " 'ZKSCAN1',\n",
       " 'TMEFF1',\n",
       " 'ADAMTS6',\n",
       " 'MKRN3',\n",
       " 'NF1',\n",
       " 'CDK6',\n",
       " 'PRRC1',\n",
       " 'IGFBP5',\n",
       " 'EFHD1',\n",
       " 'SLC22A11',\n",
       " 'KRT7',\n",
       " 'CD164',\n",
       " 'ARHGDIB',\n",
       " 'EHD4',\n",
       " 'UBE2E1',\n",
       " 'TRIM6',\n",
       " 'FMN1',\n",
       " 'ITCH',\n",
       " 'PIGA',\n",
       " 'NPEPPS',\n",
       " 'AP3B1',\n",
       " 'FEZ2',\n",
       " 'PRKCI',\n",
       " 'IFITM3',\n",
       " 'SH3D19',\n",
       " 'ESRRG',\n",
       " 'CALD1',\n",
       " 'NFATC2',\n",
       " 'WDR26',\n",
       " 'TRIM14',\n",
       " 'PCDH11X',\n",
       " 'ABCA5',\n",
       " 'EXT1',\n",
       " 'RHOQ',\n",
       " 'SLC20A2',\n",
       " 'UBQLN1',\n",
       " 'ADCY7',\n",
       " 'MT2A',\n",
       " 'LAMC1',\n",
       " 'F5',\n",
       " 'PLXNA2',\n",
       " 'CYB5R2',\n",
       " 'GALNT6',\n",
       " 'NOMO1',\n",
       " 'APMAP',\n",
       " 'MMP14',\n",
       " 'TRIM34',\n",
       " 'MLLT10',\n",
       " 'TOX',\n",
       " 'USO1',\n",
       " 'BCAM',\n",
       " 'AC098829.1',\n",
       " 'PDXDC1',\n",
       " 'SFT2D1',\n",
       " 'CAMSAP2',\n",
       " 'APP',\n",
       " 'IQGAP2',\n",
       " 'SEC61A1',\n",
       " 'DDX60',\n",
       " 'TMEM40',\n",
       " 'LPP',\n",
       " 'MAP4K3',\n",
       " 'DOCK9',\n",
       " 'ANXA3',\n",
       " 'WDR20',\n",
       " 'CCDC32']"
      ]
     },
     "execution_count": 36,
     "metadata": {},
     "output_type": "execute_result"
    }
   ],
   "source": [
    "list(upDEG.index)"
   ]
  },
  {
   "cell_type": "code",
   "execution_count": null,
   "id": "modified-illustration",
   "metadata": {
    "tags": []
   },
   "outputs": [],
   "source": []
  },
  {
   "cell_type": "markdown",
   "id": "outside-painting",
   "metadata": {},
   "source": [
    "### Significant Down reg in VCT"
   ]
  },
  {
   "cell_type": "code",
   "execution_count": 37,
   "id": "difficult-atlanta",
   "metadata": {},
   "outputs": [],
   "source": [
    "downDEG= df2[(df2['p_val_adj'] < 0.05) & (df2['logFC'] < -0.1)]"
   ]
  },
  {
   "cell_type": "code",
   "execution_count": 38,
   "id": "least-latin",
   "metadata": {},
   "outputs": [],
   "source": [
    "downDEG.to_csv('../results/SC_limma_Trophoblast_TOX_24h/2_DEGs_DOWN_SC_TOX_24h_VCT.tsv', index=True, sep='\\t')"
   ]
  },
  {
   "cell_type": "code",
   "execution_count": 39,
   "id": "reserved-perry",
   "metadata": {},
   "outputs": [
    {
     "data": {
      "text/html": [
       "<div>\n",
       "<style scoped>\n",
       "    .dataframe tbody tr th:only-of-type {\n",
       "        vertical-align: middle;\n",
       "    }\n",
       "\n",
       "    .dataframe tbody tr th {\n",
       "        vertical-align: top;\n",
       "    }\n",
       "\n",
       "    .dataframe thead th {\n",
       "        text-align: right;\n",
       "    }\n",
       "</style>\n",
       "<table border=\"1\" class=\"dataframe\">\n",
       "  <thead>\n",
       "    <tr style=\"text-align: right;\">\n",
       "      <th></th>\n",
       "      <th>logFC</th>\n",
       "      <th>logCPM</th>\n",
       "      <th>F</th>\n",
       "      <th>PValue</th>\n",
       "      <th>bonferroni</th>\n",
       "      <th>p_val_adj</th>\n",
       "    </tr>\n",
       "  </thead>\n",
       "  <tbody>\n",
       "    <tr>\n",
       "      <th>SYNC</th>\n",
       "      <td>-0.548902</td>\n",
       "      <td>3.868620</td>\n",
       "      <td>42.729645</td>\n",
       "      <td>4.071832e-07</td>\n",
       "      <td>0.003868</td>\n",
       "      <td>0.000430</td>\n",
       "    </tr>\n",
       "    <tr>\n",
       "      <th>PEG10</th>\n",
       "      <td>-0.275492</td>\n",
       "      <td>12.492488</td>\n",
       "      <td>38.534140</td>\n",
       "      <td>9.843580e-07</td>\n",
       "      <td>0.009350</td>\n",
       "      <td>0.000783</td>\n",
       "    </tr>\n",
       "    <tr>\n",
       "      <th>MTRNR2L1</th>\n",
       "      <td>-0.742328</td>\n",
       "      <td>3.606319</td>\n",
       "      <td>34.697469</td>\n",
       "      <td>2.323915e-06</td>\n",
       "      <td>0.022075</td>\n",
       "      <td>0.001226</td>\n",
       "    </tr>\n",
       "    <tr>\n",
       "      <th>FAM136A</th>\n",
       "      <td>-0.255422</td>\n",
       "      <td>6.043076</td>\n",
       "      <td>31.831313</td>\n",
       "      <td>4.578263e-06</td>\n",
       "      <td>0.043489</td>\n",
       "      <td>0.001812</td>\n",
       "    </tr>\n",
       "    <tr>\n",
       "      <th>SNHG14</th>\n",
       "      <td>-0.392368</td>\n",
       "      <td>3.993871</td>\n",
       "      <td>30.533506</td>\n",
       "      <td>6.293734e-06</td>\n",
       "      <td>0.059784</td>\n",
       "      <td>0.002299</td>\n",
       "    </tr>\n",
       "  </tbody>\n",
       "</table>\n",
       "</div>"
      ],
      "text/plain": [
       "             logFC     logCPM          F        PValue  bonferroni  p_val_adj\n",
       "SYNC     -0.548902   3.868620  42.729645  4.071832e-07    0.003868   0.000430\n",
       "PEG10    -0.275492  12.492488  38.534140  9.843580e-07    0.009350   0.000783\n",
       "MTRNR2L1 -0.742328   3.606319  34.697469  2.323915e-06    0.022075   0.001226\n",
       "FAM136A  -0.255422   6.043076  31.831313  4.578263e-06    0.043489   0.001812\n",
       "SNHG14   -0.392368   3.993871  30.533506  6.293734e-06    0.059784   0.002299"
      ]
     },
     "execution_count": 39,
     "metadata": {},
     "output_type": "execute_result"
    }
   ],
   "source": [
    "downDEG.head()"
   ]
  },
  {
   "cell_type": "code",
   "execution_count": 40,
   "id": "obvious-award",
   "metadata": {},
   "outputs": [
    {
     "data": {
      "text/plain": [
       "(153, 6)"
      ]
     },
     "execution_count": 40,
     "metadata": {},
     "output_type": "execute_result"
    }
   ],
   "source": [
    "downDEG.shape"
   ]
  },
  {
   "cell_type": "code",
   "execution_count": 41,
   "id": "entire-titanium",
   "metadata": {
    "collapsed": true,
    "jupyter": {
     "outputs_hidden": true
    },
    "tags": []
   },
   "outputs": [
    {
     "data": {
      "text/plain": [
       "['SYNC',\n",
       " 'PEG10',\n",
       " 'MTRNR2L1',\n",
       " 'FAM136A',\n",
       " 'SNHG14',\n",
       " 'IGSF10',\n",
       " 'SSBP3',\n",
       " 'AADACL2-AS1',\n",
       " 'AC015923.1',\n",
       " 'GAMT',\n",
       " 'RNF111',\n",
       " 'FAIM',\n",
       " 'IFT27',\n",
       " 'EFHD2',\n",
       " 'WDR45B',\n",
       " 'TANC1',\n",
       " 'GPS2',\n",
       " 'HIST1H1C',\n",
       " 'GTF3A',\n",
       " 'ARL14EPL',\n",
       " 'KNOP1',\n",
       " 'CCDC144NL-AS1',\n",
       " 'NKAP',\n",
       " 'ZMYND19',\n",
       " 'HEIH',\n",
       " 'BLOC1S4',\n",
       " 'EIF3J',\n",
       " 'IMP3',\n",
       " 'DECR1',\n",
       " 'C8orf33',\n",
       " 'HIST1H1E',\n",
       " 'DBF4',\n",
       " 'TMA16',\n",
       " 'ZC3H15',\n",
       " 'BPGM',\n",
       " 'SUGT1',\n",
       " 'EMB',\n",
       " 'TEAD4',\n",
       " 'ST13',\n",
       " 'AL161772.1',\n",
       " 'CCDC85B',\n",
       " 'SPAG16',\n",
       " 'FBL',\n",
       " 'MAP7D3',\n",
       " 'SNRNP27',\n",
       " 'AC009107.2',\n",
       " 'MZT2A',\n",
       " 'PHAX',\n",
       " 'AL035446.2',\n",
       " 'GTF2F1',\n",
       " 'RPS8',\n",
       " 'PGF',\n",
       " 'TP53I11',\n",
       " 'PSIP1',\n",
       " 'HELLS',\n",
       " 'AP003086.1',\n",
       " 'AC009275.1',\n",
       " 'KCNQ1',\n",
       " 'MRPS5',\n",
       " 'HSPB1',\n",
       " 'MAP2K2',\n",
       " 'ABHD2',\n",
       " 'AC114956.3',\n",
       " 'NDUFB1',\n",
       " 'RDH14',\n",
       " 'SHOC2',\n",
       " 'SLC9C1',\n",
       " 'BCAT2',\n",
       " 'PSMA7',\n",
       " 'ZCCHC14',\n",
       " 'TMEM97',\n",
       " 'ATP5ME',\n",
       " 'VTCN1',\n",
       " 'CLDN3',\n",
       " 'NRDE2',\n",
       " 'AC092718.6',\n",
       " 'ZBTB7C',\n",
       " 'LHFPL3',\n",
       " 'REEP3',\n",
       " 'P2RY14',\n",
       " 'LAGE3',\n",
       " 'THAP3',\n",
       " 'PWWP3A',\n",
       " 'AFG3L2',\n",
       " 'COPS9',\n",
       " 'C12orf75',\n",
       " 'PTMS',\n",
       " 'TMEM256',\n",
       " 'BOLA3',\n",
       " 'FSTL3',\n",
       " 'REXO4',\n",
       " 'PPIE',\n",
       " 'IMPA2',\n",
       " 'CYB5A',\n",
       " 'THAP7',\n",
       " 'AC105402.3',\n",
       " 'RBM8A',\n",
       " 'TSPAN8',\n",
       " 'METTL9',\n",
       " 'TDG',\n",
       " 'FAM135A',\n",
       " 'ZNF511',\n",
       " 'COX17',\n",
       " 'RABEP1',\n",
       " 'TPTE',\n",
       " 'CNGB3',\n",
       " 'CRLF1',\n",
       " 'KDELR1',\n",
       " 'RPL22',\n",
       " 'SMAD5',\n",
       " 'NPRL2',\n",
       " 'ERVMER34-1',\n",
       " 'RAB13',\n",
       " 'MALSU1',\n",
       " 'RPL13',\n",
       " 'MTLN',\n",
       " 'TIGD5',\n",
       " 'PIP5K1C',\n",
       " 'ZRANB2',\n",
       " 'PNRC2',\n",
       " 'CABIN1',\n",
       " 'FAM92A',\n",
       " 'RNF187',\n",
       " 'TST',\n",
       " 'EIF1B',\n",
       " 'RTF1',\n",
       " 'TLE5',\n",
       " 'NAPRT',\n",
       " 'FAM107B',\n",
       " 'EVA1B',\n",
       " 'DYNC1I2',\n",
       " 'PET117',\n",
       " 'UPF1',\n",
       " 'HIST1H4C',\n",
       " 'BGN',\n",
       " 'GEMIN6',\n",
       " 'MRPL57',\n",
       " 'JAM3',\n",
       " 'CCS',\n",
       " 'PFDN1',\n",
       " 'MRPS34',\n",
       " 'SNAP47',\n",
       " 'BOLA1',\n",
       " 'GAS5',\n",
       " 'LGALS3',\n",
       " 'PET100',\n",
       " 'HBG2',\n",
       " 'TNNI2',\n",
       " 'FAAH2',\n",
       " 'RPS27',\n",
       " 'C9orf78',\n",
       " 'PEBP1',\n",
       " 'PDCD7']"
      ]
     },
     "execution_count": 41,
     "metadata": {},
     "output_type": "execute_result"
    }
   ],
   "source": [
    "list(downDEG.index)"
   ]
  },
  {
   "cell_type": "raw",
   "id": "coordinate-closer",
   "metadata": {
    "jupyter": {
     "outputs_hidden": true
    },
    "tags": []
   },
   "source": [
    "temp= pd.read_table('../results/SC_Trophoblast_TOX_24h/2_DEGs_DOWN_SC_TOX_24h_VCT.tsv', index_col=0)\n",
    "list(temp.index)"
   ]
  },
  {
   "cell_type": "code",
   "execution_count": null,
   "id": "assured-vegetable",
   "metadata": {},
   "outputs": [],
   "source": []
  },
  {
   "cell_type": "code",
   "execution_count": null,
   "id": "arabic-circular",
   "metadata": {},
   "outputs": [],
   "source": []
  }
 ],
 "metadata": {
  "kernelspec": {
   "display_name": "Python 3",
   "language": "python",
   "name": "python3"
  },
  "language_info": {
   "codemirror_mode": {
    "name": "ipython",
    "version": 3
   },
   "file_extension": ".py",
   "mimetype": "text/x-python",
   "name": "python",
   "nbconvert_exporter": "python",
   "pygments_lexer": "ipython3",
   "version": "3.8.8"
  }
 },
 "nbformat": 4,
 "nbformat_minor": 5
}
