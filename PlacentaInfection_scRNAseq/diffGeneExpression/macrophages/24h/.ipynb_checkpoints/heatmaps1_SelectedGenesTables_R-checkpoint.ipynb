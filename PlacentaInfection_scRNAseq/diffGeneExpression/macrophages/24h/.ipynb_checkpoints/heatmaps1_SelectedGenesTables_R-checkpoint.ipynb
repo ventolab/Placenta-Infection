{
 "cells": [
  {
   "cell_type": "markdown",
   "id": "genetic-remedy",
   "metadata": {},
   "source": [
    "**Author:** Elias Rafael Ruiz-Morales\n",
    "\n",
    "**Institution:** Wellcome Sanger institute\n",
    "\n",
    "**July, 2023**"
   ]
  },
  {
   "cell_type": "code",
   "execution_count": null,
   "id": "sudden-phase",
   "metadata": {},
   "outputs": [],
   "source": []
  },
  {
   "cell_type": "markdown",
   "id": "bearing-kinase",
   "metadata": {},
   "source": [
    "---"
   ]
  },
  {
   "cell_type": "markdown",
   "id": "returning-salad",
   "metadata": {},
   "source": [
    "# Creation of tables to generate differential gene expression heatmaps - Macrophages"
   ]
  },
  {
   "cell_type": "code",
   "execution_count": null,
   "id": "amended-rotation",
   "metadata": {},
   "outputs": [],
   "source": []
  },
  {
   "cell_type": "code",
   "execution_count": 3,
   "id": "accurate-dutch",
   "metadata": {},
   "outputs": [],
   "source": [
    "recoverPvalLog2FC <- function(files, columns, genes, outdir, suffix){\n",
    "    # Function to get the Pvalues and log2FC values from the Differential expression results.\n",
    "    # Useful to make plots for downstream analysis.\n",
    "    \n",
    "    # files= files from the differential expression results\n",
    "    # columns= column names, each column name MUST MATCH to a file in the same position\n",
    "    # genes= query genes to recover their values\n",
    "    # outdir= output directory\n",
    "    # suffix= suffix to add to the file names.\n",
    "    #-------------------------------------------\n",
    "    \n",
    "    \n",
    "    ## Building the OUTPUT dataframes\n",
    "    ##\n",
    "\n",
    "    #dimensions= columns * genes\n",
    "    pval= matrix(data = rep(x = NA,(length(columns)*length(genes))),ncol = length(columns) )\n",
    "    rownames(pval)=genes\n",
    "    colnames(pval)=columns\n",
    "\n",
    "    #Same structure for the log2FC datafram\n",
    "    log2FC= pval\n",
    "    \n",
    "    ## Filling up the empty data frames\n",
    "    ##\n",
    "    for(i in 1:length(columns)){\n",
    "\n",
    "        #column and file names that MUST be in the same position in both vectors\n",
    "\n",
    "        file= files[i] #DE file to read\n",
    "        column=columns[i] #column to fill\n",
    "\n",
    "        #reading DE dataframe\n",
    "        df= read.csv(file, sep = '\\t')\n",
    "        rownames(df)=df[,1] #rownames (genes) and deleting extra column with the rownames\n",
    "        df[,1]=NULL\n",
    "\n",
    "\n",
    "        ## Filling up the column, gene by gene\n",
    "        ##\n",
    "        for(gene in genes){  \n",
    "            #checking if a gene is in the DE dataframe \n",
    "            if (gene%in%rownames(df)){\n",
    "\n",
    "                    pval[gene,column]= df[gene,'p_val_adj']\n",
    "                    log2FC[gene,column]= df[gene,'logFC']   \n",
    "\n",
    "   \n",
    "            }\n",
    "            else{\n",
    "                #gene is not in DE dataframe, place a pvalue=1 and log2FC=0\n",
    "                pval[gene,column]= 1\n",
    "                log2FC[gene,column]=0\n",
    "            }\n",
    "        }\n",
    "    }\n",
    "\n",
    "    if(missing(suffix)){\n",
    "        file_name= paste0(outdir,'padj_selectedGenes.csv', collapse = '')\n",
    "        write.csv(pval, file=file_name, quote=FALSE, row.names=TRUE)\n",
    "        \n",
    "        file_name= paste0(outdir,'log2FC_selectedGenes.csv', collapse = '')\n",
    "        write.csv(log2FC, file=file_name, quote=FALSE, row.names=TRUE)\n",
    "    }\n",
    "    else{\n",
    "        file_name= paste0(outdir,'padj_selectedGenes',suffix, collapse = '')\n",
    "        write.csv(pval,file=file_name, quote=FALSE, row.names=TRUE)\n",
    "        \n",
    "        file_name= paste0(outdir,'log2FC_selectedGenes',suffix, collapse = '')\n",
    "        write.csv(log2FC,file=file_name, quote=FALSE, row.names=TRUE)\n",
    "    }\n",
    "  \n",
    "    \n",
    "}\n"
   ]
  },
  {
   "cell_type": "code",
   "execution_count": null,
   "id": "funky-racing",
   "metadata": {},
   "outputs": [],
   "source": []
  },
  {
   "cell_type": "code",
   "execution_count": 4,
   "id": "reverse-parker",
   "metadata": {},
   "outputs": [],
   "source": [
    "#files containing the tables with the DEGs from each cell type per infection\n",
    "files= c('../results/SC_limma_Immune_MAL_24h/1_DEGs_SC_MAL_24h_HBC.tsv',\n",
    "         '../results/SC_limma_Immune_MAL_24h/2_DEGs_SC_MAL_24h_PAMM1.tsv',\n",
    "         \n",
    "         '../results/SC_limma_Immune_LIS_24h/1_DEGs_SC_LIS_24h_HBC.tsv',\n",
    "         '../results/SC_limma_Immune_LIS_24h/2_DEGs_SC_LIS_24h_PAMM1.tsv',\n",
    "                  \n",
    "         '../results/SC_limma_Immune_TOX_24h/1_DEGs_SC_TOX_24h_HBC.tsv',\n",
    "         '../results/SC_limma_Immune_TOX_24h/2_DEGs_SC_TOX_24h_PAMM1.tsv'\n",
    "        )\n",
    "\n",
    "\n",
    "#cell types per infections that will be plot. This MUST match with the files above\n",
    "columns=c(\"PF_HBC\",\"PF_PAMM1\",\n",
    "          \"LM_HBC\",\"LM_PAMM1\",\n",
    "          \"TG_HBC\",\"TG_PAMM1\")\n"
   ]
  },
  {
   "cell_type": "markdown",
   "id": "immune-marble",
   "metadata": {},
   "source": [
    "-----"
   ]
  },
  {
   "cell_type": "code",
   "execution_count": null,
   "id": "efficient-biography",
   "metadata": {},
   "outputs": [],
   "source": []
  },
  {
   "cell_type": "markdown",
   "id": "handmade-penguin",
   "metadata": {},
   "source": [
    "## Inflammation genes shared among compartments, across infections - Figure 2"
   ]
  },
  {
   "cell_type": "code",
   "execution_count": 4,
   "id": "grave-width",
   "metadata": {},
   "outputs": [],
   "source": [
    "genes_input= c(\n",
    "    #--- Inflammation\n",
    "    #\"IL1A\",\"IL1B\",\n",
    "    #\"CCL3\",\"CCL4\",\"CCL20\",\"CXCL8\",\"CXCL3\",\"CCL2\",\"CCL5\",\"CXCL1\",\"CXCL2\",\"CXCL5\",\"IL33\",\"CCL3L1\",\"PTGS2\"\n",
    "    \"IL1B\",\"CCL3\",\"CCL4\",\"CCL20\",\"CXCL8\",\"CXCL3\",\"PTGS2\"\n",
    ")\n",
    "recoverPvalLog2FC(files, columns, genes=genes_input, outdir='../results/tables_limma/', suffix = '_selectedSharedInflammation.csv')"
   ]
  },
  {
   "cell_type": "code",
   "execution_count": null,
   "id": "greenhouse-harrison",
   "metadata": {},
   "outputs": [],
   "source": []
  },
  {
   "cell_type": "markdown",
   "id": "contemporary-classroom",
   "metadata": {},
   "source": [
    "## HMOX1 gene, specific to P. falciparum infection - Figure 3"
   ]
  },
  {
   "cell_type": "code",
   "execution_count": 7,
   "id": "adjacent-friday",
   "metadata": {},
   "outputs": [],
   "source": [
    "genes_input= c(\n",
    "    \"HMOX1\"\n",
    ")\n",
    "recoverPvalLog2FC(files, columns, genes=genes_input, outdir='../results/tables_limma/', suffix = '_HMOX.csv')"
   ]
  },
  {
   "cell_type": "code",
   "execution_count": null,
   "id": "found-window",
   "metadata": {},
   "outputs": [],
   "source": []
  },
  {
   "cell_type": "code",
   "execution_count": null,
   "id": "swiss-nicholas",
   "metadata": {},
   "outputs": [],
   "source": []
  },
  {
   "cell_type": "markdown",
   "id": "realistic-request",
   "metadata": {},
   "source": [
    "## NFkB and TNF pathways, specific to P. falciparum infection - Figure 3"
   ]
  },
  {
   "cell_type": "code",
   "execution_count": null,
   "id": "after-aircraft",
   "metadata": {},
   "outputs": [],
   "source": [
    "genes_input= c(\n",
    "    #-- Pf\n",
    "    #\"NFKB1\",\"NFKB2\",\"NFKBIA\",\"NFKBID\",\"NFKBIZ\",\"RELA\",\"REL\",\"CD40\",\"TRAF3\",\"TRAF1\",\"TAB2\",\n",
    "    #\"TNF\",\"TNFRSF4\",\"TNFRSF14\",\"TNFAIP2\",\"TNFAIP3\",\"TNFAIP8\",\"TNFSF13B\",\"TNFRSF9\"\n",
    "    \n",
    "    \"NFKB2\",\"NFKBID\",\"RELA\",\"REL\",\"CD40\",\"TRAF1\",\"TAB2\", \"TNFRSF4\",\"TNFRSF12A\"\n",
    ")\n",
    "\n",
    "recoverPvalLog2FC(files, columns, genes=genes_input, outdir='../results/tables_limma/', suffix = '_NKFB_Immune.csv')\n"
   ]
  },
  {
   "cell_type": "code",
   "execution_count": 10,
   "id": "yellow-liechtenstein",
   "metadata": {},
   "outputs": [],
   "source": [
    "genes_input= c(\n",
    "    \"TNFRSF13C\",\"TNFRSF8\",\"CD27\",\"LTBR\",\"OX40\",\"TNFRSF11A\",\"TNFRSF1B\",\"TNFRSF12A\",\"TNFSF12\"\n",
    ")\n",
    "recoverPvalLog2FC(files, columns, genes=genes_input, outdir='../results/tables_limma/', suffix = '_NKFBnonCanonical.csv')"
   ]
  },
  {
   "cell_type": "code",
   "execution_count": null,
   "id": "vital-playlist",
   "metadata": {},
   "outputs": [],
   "source": []
  },
  {
   "cell_type": "markdown",
   "id": "palestinian-burke",
   "metadata": {},
   "source": [
    "## Inflammasome, specific to P. falciparum infection - Figure 3"
   ]
  },
  {
   "cell_type": "code",
   "execution_count": 45,
   "id": "light-regression",
   "metadata": {},
   "outputs": [],
   "source": [
    "genes_input= c(\n",
    "    #-- inflammasome\n",
    "    \"IL6\",\"IL18\",\"TNF\"\n",
    "    #\"NLRP1\",\"NLRP3\",\"NLRC4\",\"AIM2\",\"PYCARD\",\"CASP1\"\n",
    ")\n",
    "\n",
    "recoverPvalLog2FC(files, columns, genes=genes_input, outdir='../results/tables_limma/', suffix = '_SelectedInflamasome.csv')\n",
    "\n",
    "\n"
   ]
  },
  {
   "cell_type": "code",
   "execution_count": null,
   "id": "nutritional-transcript",
   "metadata": {},
   "outputs": [],
   "source": []
  },
  {
   "cell_type": "markdown",
   "id": "mediterranean-editor",
   "metadata": {},
   "source": [
    "## CellPhoneDB interaction heatmap, specific to *P. falciparum* - Figure 3"
   ]
  },
  {
   "cell_type": "code",
   "execution_count": null,
   "id": "complicated-dating",
   "metadata": {},
   "outputs": [],
   "source": [
    "genes_input= c(\"CSF3\",\"LGALS3\")\n",
    "    #\n",
    "\n",
    "recoverPvalLog2FC(files, columns, genes=genes_input, outdir='../results/tables_limma/', suffix = '_macrophagesInteractionPanel_Pf.csv')"
   ]
  },
  {
   "cell_type": "code",
   "execution_count": null,
   "id": "identified-employer",
   "metadata": {},
   "outputs": [],
   "source": []
  },
  {
   "cell_type": "code",
   "execution_count": null,
   "id": "smooth-filing",
   "metadata": {},
   "outputs": [],
   "source": []
  },
  {
   "cell_type": "markdown",
   "id": "compound-hobby",
   "metadata": {},
   "source": [
    "---"
   ]
  },
  {
   "cell_type": "markdown",
   "id": "illegal-remainder",
   "metadata": {},
   "source": [
    "## Bacteria defence, specific to *L. monocytogenes* infection - Figure 4"
   ]
  },
  {
   "cell_type": "code",
   "execution_count": null,
   "id": "elegant-cable",
   "metadata": {},
   "outputs": [],
   "source": [
    "genes_input= c(\n",
    "    #-- Lm\n",
    "    \"TLR2\",\"S100A8\",\"SLC11A1\",\"LYN\",\"HMGB1\",\"C5AR1\"\n",
    ")\n",
    "\n",
    "recoverPvalLog2FC(files, columns, genes=genes_input, outdir='../results/tables_limma/', suffix = '_SelectedLm_Immune.csv')\n",
    "\n"
   ]
  },
  {
   "cell_type": "code",
   "execution_count": null,
   "id": "educational-nashville",
   "metadata": {},
   "outputs": [],
   "source": []
  },
  {
   "cell_type": "markdown",
   "id": "respiratory-glasgow",
   "metadata": {},
   "source": [
    "## CellPhoneDB interaction heatmap, specific to *L. monocytogenes* infection - Figure 4"
   ]
  },
  {
   "cell_type": "code",
   "execution_count": null,
   "id": "personalized-lobby",
   "metadata": {},
   "outputs": [],
   "source": [
    "genes_input= c(\"AREG\",\"IL1B\")\n",
    "\n",
    "recoverPvalLog2FC(files, columns, genes=genes_input, outdir='../results/tables_limma/', suffix = '_macrophagesInteractionPanel_Lm.csv')"
   ]
  },
  {
   "cell_type": "code",
   "execution_count": null,
   "id": "continental-conference",
   "metadata": {},
   "outputs": [],
   "source": []
  },
  {
   "cell_type": "code",
   "execution_count": null,
   "id": "meaningful-sarah",
   "metadata": {},
   "outputs": [],
   "source": []
  },
  {
   "cell_type": "markdown",
   "id": "cross-matthew",
   "metadata": {},
   "source": [
    "---"
   ]
  },
  {
   "cell_type": "markdown",
   "id": "close-paint",
   "metadata": {},
   "source": [
    "## Phagocytosis and ROS, specific to *T. gondii* infection - Figure 4"
   ]
  },
  {
   "cell_type": "code",
   "execution_count": 7,
   "id": "marine-influence",
   "metadata": {},
   "outputs": [],
   "source": [
    "genes_input= c(\n",
    "    #-- Tg\n",
    "    #Phagocytosis\n",
    "    \"MSR1\",\"RAB1A\",\"RAB7A\"\n",
    "    #\"SRC\",\"GRN\",\"FCGR3A\",\"CTSL\",\"CD68\",\"STAB1\",,\"MYO1E\",\n",
    "\n",
    "    \n",
    "    # ROS production\n",
    "    \"ARF6\",\"MT-ND1\",\"MT-ND2\",\"MT-ND4\"\n",
    "\n",
    ")\n",
    "\n",
    "recoverPvalLog2FC(files, columns, genes=genes_input, outdir='../results/tables_limma/', suffix = '_SelectedTg_Immune.csv')\n"
   ]
  },
  {
   "cell_type": "code",
   "execution_count": null,
   "id": "tribal-philadelphia",
   "metadata": {},
   "outputs": [],
   "source": []
  },
  {
   "cell_type": "markdown",
   "id": "lesbian-protocol",
   "metadata": {},
   "source": [
    "## AP-1, specific to *T. gondii* infection - Figure 4"
   ]
  },
  {
   "cell_type": "code",
   "execution_count": 27,
   "id": "alert-melbourne",
   "metadata": {},
   "outputs": [],
   "source": [
    "genes_input= c(\n",
    "    #-- AP-1\n",
    "    \"FOS\",\"FOSB\",\"JUN\",\"JUND\"\n",
    ")\n",
    "\n",
    "recoverPvalLog2FC(files, columns, genes=genes_input, outdir='../results/tables_limma/', suffix = '_SelectedAP1.csv')\n",
    "\n"
   ]
  },
  {
   "cell_type": "code",
   "execution_count": null,
   "id": "amino-trust",
   "metadata": {},
   "outputs": [],
   "source": []
  },
  {
   "cell_type": "markdown",
   "id": "otherwise-conducting",
   "metadata": {},
   "source": [
    "## CellPhoneDB interaction heatmap, specific to *T. gondii* infection - Figure 4"
   ]
  },
  {
   "cell_type": "code",
   "execution_count": null,
   "id": "opened-chemical",
   "metadata": {},
   "outputs": [],
   "source": [
    "genes_input= c(\"NECTIN2\",\"ANXA1\",\"CCL2\")\n",
    "\n",
    "recoverPvalLog2FC(files, columns, genes=genes_input, outdir='../results/tables_limma/', suffix = '_macrophagesInteractionPanel_Tg.csv')"
   ]
  },
  {
   "cell_type": "code",
   "execution_count": null,
   "id": "defined-pharmacology",
   "metadata": {},
   "outputs": [],
   "source": []
  },
  {
   "cell_type": "code",
   "execution_count": null,
   "id": "adjustable-navigator",
   "metadata": {},
   "outputs": [],
   "source": []
  },
  {
   "cell_type": "code",
   "execution_count": null,
   "id": "soviet-venice",
   "metadata": {},
   "outputs": [],
   "source": []
  },
  {
   "cell_type": "markdown",
   "id": "worth-compiler",
   "metadata": {},
   "source": [
    "-----"
   ]
  },
  {
   "cell_type": "markdown",
   "id": "separate-thomas",
   "metadata": {},
   "source": [
    "### Other genes tested"
   ]
  },
  {
   "cell_type": "markdown",
   "id": "infrared-virginia",
   "metadata": {},
   "source": [
    "### Genes specific to each infection"
   ]
  },
  {
   "cell_type": "code",
   "execution_count": 35,
   "id": "major-career",
   "metadata": {},
   "outputs": [],
   "source": [
    "genes_input= c(\n",
    "    #-- Tg UP\n",
    "    \"HMOX1\",\"SLC11A1\",\"IRF8\")\n",
    "\n",
    "recoverPvalLog2FC(files, columns, genes=genes_input, outdir='../results/tables_limma/', suffix = '_SelectedPathogenUP.csv')\n"
   ]
  },
  {
   "cell_type": "code",
   "execution_count": null,
   "id": "jewish-spoke",
   "metadata": {},
   "outputs": [],
   "source": []
  },
  {
   "cell_type": "code",
   "execution_count": 21,
   "id": "interesting-kinase",
   "metadata": {},
   "outputs": [],
   "source": [
    "genes_input= c(\n",
    "    #-- Th2\n",
    "    \"IL1B\",\"CCL22\",\"CXCL10\", \"IL4\",\"IL5\",\"IL13\",\"GATA3\" \n",
    ")\n",
    "\n",
    "recoverPvalLog2FC(files, columns, genes=genes_input, outdir='../results/tables_limma/', suffix = '_SelectedTh2.csv')\n",
    "\n"
   ]
  },
  {
   "cell_type": "code",
   "execution_count": 22,
   "id": "known-absorption",
   "metadata": {},
   "outputs": [],
   "source": [
    "genes_input= c(\n",
    "    #-- Sting \n",
    "    \"STING1\",\"CGAS\" \n",
    ")\n",
    "\n",
    "recoverPvalLog2FC(files, columns, genes=genes_input, outdir='../results/tables_limma/', suffix = '_SelectedSting1.csv')\n",
    "\n"
   ]
  },
  {
   "cell_type": "code",
   "execution_count": 23,
   "id": "integral-finnish",
   "metadata": {},
   "outputs": [],
   "source": [
    "genes_input= c(\n",
    "    #-- EPs\n",
    "    \"PTGER2\",\"PTGER4\" \n",
    ")\n",
    "\n",
    "recoverPvalLog2FC(files, columns, genes=genes_input, outdir='../results/tables_limma/', suffix = '_SelectedEps.csv')\n"
   ]
  },
  {
   "cell_type": "markdown",
   "id": "banner-invention",
   "metadata": {},
   "source": [
    "---"
   ]
  }
 ],
 "metadata": {
  "kernelspec": {
   "display_name": "R",
   "language": "R",
   "name": "ir"
  },
  "language_info": {
   "codemirror_mode": "r",
   "file_extension": ".r",
   "mimetype": "text/x-r-source",
   "name": "R",
   "pygments_lexer": "r",
   "version": "4.0.4"
  }
 },
 "nbformat": 4,
 "nbformat_minor": 5
}
