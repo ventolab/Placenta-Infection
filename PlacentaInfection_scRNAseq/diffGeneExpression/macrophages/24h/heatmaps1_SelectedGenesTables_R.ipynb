{
 "cells": [
  {
   "cell_type": "markdown",
   "id": "imperial-correspondence",
   "metadata": {},
   "source": [
    "**Author:** Elias Rafael Ruiz-Morales\n",
    "\n",
    "**Institution:** Wellcome Sanger institute\n",
    "\n",
    "**July, 2023**"
   ]
  },
  {
   "cell_type": "markdown",
   "id": "elementary-sessions",
   "metadata": {},
   "source": [
    "---"
   ]
  },
  {
   "cell_type": "markdown",
   "id": "critical-grocery",
   "metadata": {},
   "source": [
    "# Creation of tables to generate differential gene expression heatmaps - Macrophages"
   ]
  },
  {
   "cell_type": "code",
   "execution_count": null,
   "id": "level-commander",
   "metadata": {},
   "outputs": [],
   "source": []
  },
  {
   "cell_type": "code",
   "execution_count": 3,
   "id": "worthy-matrix",
   "metadata": {},
   "outputs": [],
   "source": [
    "recoverPvalLog2FC <- function(files, columns, genes, outdir, suffix){\n",
    "    # Function to get the Pvalues and log2FC values from the Differential expression results.\n",
    "    # Useful to make plots for downstream analysis.\n",
    "    \n",
    "    # files= files from the differential expression results\n",
    "    # columns= column names, each column name MUST MATCH to a file in the same position\n",
    "    # genes= query genes to recover their values\n",
    "    # outdir= output directory\n",
    "    # suffix= suffix to add to the file names.\n",
    "    #-------------------------------------------\n",
    "    \n",
    "    \n",
    "    ## Building the OUTPUT dataframes\n",
    "    ##\n",
    "\n",
    "    #dimensions= columns * genes\n",
    "    pval= matrix(data = rep(x = NA,(length(columns)*length(genes))),ncol = length(columns) )\n",
    "    rownames(pval)=genes\n",
    "    colnames(pval)=columns\n",
    "\n",
    "    #Same structure for the log2FC datafram\n",
    "    log2FC= pval\n",
    "    \n",
    "    ## Filling up the empty data frames\n",
    "    ##\n",
    "    for(i in 1:length(columns)){\n",
    "\n",
    "        #column and file names that MUST be in the same position in both vectors\n",
    "\n",
    "        file= files[i] #DE file to read\n",
    "        column=columns[i] #column to fill\n",
    "\n",
    "        #reading DE dataframe\n",
    "        df= read.csv(file, sep = '\\t')\n",
    "        rownames(df)=df[,1] #rownames (genes) and deleting extra column with the rownames\n",
    "        df[,1]=NULL\n",
    "\n",
    "\n",
    "        ## Filling up the column, gene by gene\n",
    "        ##\n",
    "        for(gene in genes){  \n",
    "            #checking if a gene is in the DE dataframe \n",
    "            if (gene%in%rownames(df)){\n",
    "\n",
    "                    pval[gene,column]= df[gene,'p_val_adj']\n",
    "                    log2FC[gene,column]= df[gene,'logFC']   \n",
    "\n",
    "   \n",
    "            }\n",
    "            else{\n",
    "                #gene is not in DE dataframe, place a pvalue=1 and log2FC=0\n",
    "                pval[gene,column]= 1\n",
    "                log2FC[gene,column]=0\n",
    "            }\n",
    "        }\n",
    "    }\n",
    "\n",
    "    if(missing(suffix)){\n",
    "        file_name= paste0(outdir,'padj_selectedGenes.csv', collapse = '')\n",
    "        write.csv(pval, file=file_name, quote=FALSE, row.names=TRUE)\n",
    "        \n",
    "        file_name= paste0(outdir,'log2FC_selectedGenes.csv', collapse = '')\n",
    "        write.csv(log2FC, file=file_name, quote=FALSE, row.names=TRUE)\n",
    "    }\n",
    "    else{\n",
    "        file_name= paste0(outdir,'padj_selectedGenes',suffix, collapse = '')\n",
    "        write.csv(pval,file=file_name, quote=FALSE, row.names=TRUE)\n",
    "        \n",
    "        file_name= paste0(outdir,'log2FC_selectedGenes',suffix, collapse = '')\n",
    "        write.csv(log2FC,file=file_name, quote=FALSE, row.names=TRUE)\n",
    "    }\n",
    "  \n",
    "    \n",
    "}\n"
   ]
  },
  {
   "cell_type": "code",
   "execution_count": null,
   "id": "current-charge",
   "metadata": {},
   "outputs": [],
   "source": []
  },
  {
   "cell_type": "code",
   "execution_count": 4,
   "id": "respected-temperature",
   "metadata": {},
   "outputs": [],
   "source": [
    "#files containing the tables with the DEGs from each cell type per infection\n",
    "files= c('../results/SC_limma_Immune_MAL_24h/1_DEGs_SC_MAL_24h_HBC.tsv',\n",
    "         '../results/SC_limma_Immune_MAL_24h/2_DEGs_SC_MAL_24h_PAMM1.tsv',\n",
    "         \n",
    "         '../results/SC_limma_Immune_LIS_24h/1_DEGs_SC_LIS_24h_HBC.tsv',\n",
    "         '../results/SC_limma_Immune_LIS_24h/2_DEGs_SC_LIS_24h_PAMM1.tsv',\n",
    "                  \n",
    "         '../results/SC_limma_Immune_TOX_24h/1_DEGs_SC_TOX_24h_HBC.tsv',\n",
    "         '../results/SC_limma_Immune_TOX_24h/2_DEGs_SC_TOX_24h_PAMM1.tsv'\n",
    "        )\n",
    "\n",
    "\n",
    "#cell types per infections that will be plot. This MUST match with the files above\n",
    "columns=c(\"PF_HBC\",\"PF_PAMM1\",\n",
    "          \"LM_HBC\",\"LM_PAMM1\",\n",
    "          \"TG_HBC\",\"TG_PAMM1\")\n"
   ]
  },
  {
   "cell_type": "markdown",
   "id": "right-desperate",
   "metadata": {},
   "source": [
    "-----"
   ]
  },
  {
   "cell_type": "code",
   "execution_count": null,
   "id": "hairy-description",
   "metadata": {},
   "outputs": [],
   "source": []
  },
  {
   "cell_type": "markdown",
   "id": "complimentary-exhibition",
   "metadata": {},
   "source": [
    "## Inflammation genes shared among compartments, across infections - Figure 2"
   ]
  },
  {
   "cell_type": "code",
   "execution_count": 4,
   "id": "framed-vision",
   "metadata": {},
   "outputs": [],
   "source": [
    "genes_input= c(\n",
    "    #--- Inflammation\n",
    "    \"IL1B\",\"CCL3\",\"CCL4\",\"CCL20\",\"CXCL8\",\"CXCL3\",\"PTGS2\"\n",
    ")\n",
    "recoverPvalLog2FC(files, columns, genes=genes_input, outdir='../results/tables_limma/', suffix = '_selectedSharedInflammation.csv')"
   ]
  },
  {
   "cell_type": "code",
   "execution_count": null,
   "id": "spanish-minutes",
   "metadata": {},
   "outputs": [],
   "source": []
  },
  {
   "cell_type": "markdown",
   "id": "infectious-fabric",
   "metadata": {},
   "source": [
    "## HMOX1 gene, specific to P. falciparum infection - Figure 3"
   ]
  },
  {
   "cell_type": "code",
   "execution_count": 7,
   "id": "lined-disclaimer",
   "metadata": {},
   "outputs": [],
   "source": [
    "genes_input= c(\n",
    "    \"HMOX1\"\n",
    ")\n",
    "recoverPvalLog2FC(files, columns, genes=genes_input, outdir='../results/tables_limma/', suffix = '_HMOX.csv')"
   ]
  },
  {
   "cell_type": "code",
   "execution_count": null,
   "id": "premium-ladder",
   "metadata": {},
   "outputs": [],
   "source": []
  },
  {
   "cell_type": "code",
   "execution_count": null,
   "id": "noble-torture",
   "metadata": {},
   "outputs": [],
   "source": []
  },
  {
   "cell_type": "markdown",
   "id": "clinical-business",
   "metadata": {},
   "source": [
    "## Inflammasome, specific to P. falciparum infection - Figure 3"
   ]
  },
  {
   "cell_type": "code",
   "execution_count": 45,
   "id": "magnetic-shanghai",
   "metadata": {},
   "outputs": [],
   "source": [
    "genes_input= c(\n",
    "    #-- inflammasome\n",
    "    \"IL6\",\"IL18\",\"TNF\"\n",
    ")\n",
    "\n",
    "recoverPvalLog2FC(files, columns, genes=genes_input, outdir='../results/tables_limma/', suffix = '_SelectedInflamasome.csv')\n",
    "\n",
    "\n"
   ]
  },
  {
   "cell_type": "code",
   "execution_count": null,
   "id": "featured-heath",
   "metadata": {},
   "outputs": [],
   "source": []
  },
  {
   "cell_type": "markdown",
   "id": "functional-delicious",
   "metadata": {},
   "source": [
    "## NFkB and TNF pathways, specific to P. falciparum infection - Figure 3"
   ]
  },
  {
   "cell_type": "code",
   "execution_count": null,
   "id": "ranging-stanford",
   "metadata": {},
   "outputs": [],
   "source": [
    "genes_input= c(\n",
    "    #-- Pf    \n",
    "    \"NFKB2\",\"NFKBID\",\"RELA\",\"REL\",\"CD40\",\"TRAF1\",\"TAB2\", \"TNFRSF4\",\"TNFRSF12A\"\n",
    ")\n",
    "\n",
    "recoverPvalLog2FC(files, columns, genes=genes_input, outdir='../results/tables_limma/', suffix = '_NKFB_Immune.csv')\n"
   ]
  },
  {
   "cell_type": "raw",
   "id": "honey-petite",
   "metadata": {},
   "source": [
    "NKFBnonCanonical:\n",
    "\"TNFRSF13C\",\"TNFRSF8\",\"CD27\",\"LTBR\",\"OX40\",\"TNFRSF11A\",\"TNFRSF1B\",\"TNFRSF12A\",\"TNFSF12\"\n"
   ]
  },
  {
   "cell_type": "code",
   "execution_count": null,
   "id": "coated-skill",
   "metadata": {},
   "outputs": [],
   "source": []
  },
  {
   "cell_type": "code",
   "execution_count": null,
   "id": "agricultural-venture",
   "metadata": {},
   "outputs": [],
   "source": []
  },
  {
   "cell_type": "markdown",
   "id": "based-neighborhood",
   "metadata": {},
   "source": [
    "## CellPhoneDB interaction heatmap, specific to *P. falciparum* - Figure 3"
   ]
  },
  {
   "cell_type": "code",
   "execution_count": null,
   "id": "editorial-fairy",
   "metadata": {},
   "outputs": [],
   "source": [
    "genes_input= c(\"CSF3\",\"LGALS3\")\n",
    "    #\n",
    "\n",
    "recoverPvalLog2FC(files, columns, genes=genes_input, outdir='../results/tables_limma/', suffix = '_macrophagesInteractionPanel_Pf.csv')"
   ]
  },
  {
   "cell_type": "code",
   "execution_count": null,
   "id": "pursuant-nutrition",
   "metadata": {},
   "outputs": [],
   "source": []
  },
  {
   "cell_type": "code",
   "execution_count": null,
   "id": "recorded-smile",
   "metadata": {},
   "outputs": [],
   "source": []
  },
  {
   "cell_type": "markdown",
   "id": "unusual-telescope",
   "metadata": {},
   "source": [
    "---"
   ]
  },
  {
   "cell_type": "markdown",
   "id": "legendary-position",
   "metadata": {},
   "source": [
    "## Bacteria defence, specific to *L. monocytogenes* infection - Figure 4"
   ]
  },
  {
   "cell_type": "code",
   "execution_count": null,
   "id": "unexpected-harrison",
   "metadata": {},
   "outputs": [],
   "source": [
    "genes_input= c(\n",
    "    #-- Lm\n",
    "    \"TLR2\",\"S100A8\",\"SLC11A1\",\"LYN\",\"HMGB1\",\"C5AR1\"\n",
    ")\n",
    "\n",
    "recoverPvalLog2FC(files, columns, genes=genes_input, outdir='../results/tables_limma/', suffix = '_SelectedLm_Immune.csv')\n",
    "\n"
   ]
  },
  {
   "cell_type": "code",
   "execution_count": null,
   "id": "instrumental-microphone",
   "metadata": {},
   "outputs": [],
   "source": []
  },
  {
   "cell_type": "markdown",
   "id": "adult-mitchell",
   "metadata": {},
   "source": [
    "## CellPhoneDB interaction heatmap, specific to *L. monocytogenes* infection - Figure 4"
   ]
  },
  {
   "cell_type": "code",
   "execution_count": null,
   "id": "deadly-arkansas",
   "metadata": {},
   "outputs": [],
   "source": [
    "genes_input= c(\"AREG\",\"IL1B\")\n",
    "\n",
    "recoverPvalLog2FC(files, columns, genes=genes_input, outdir='../results/tables_limma/', suffix = '_macrophagesInteractionPanel_Lm.csv')"
   ]
  },
  {
   "cell_type": "code",
   "execution_count": null,
   "id": "mathematical-destruction",
   "metadata": {},
   "outputs": [],
   "source": []
  },
  {
   "cell_type": "code",
   "execution_count": null,
   "id": "exceptional-slope",
   "metadata": {},
   "outputs": [],
   "source": []
  },
  {
   "cell_type": "markdown",
   "id": "indie-shuttle",
   "metadata": {},
   "source": [
    "---"
   ]
  },
  {
   "cell_type": "markdown",
   "id": "settled-bronze",
   "metadata": {},
   "source": [
    "## Phagocytosis and ROS, specific to *T. gondii* infection - Figure 4"
   ]
  },
  {
   "cell_type": "code",
   "execution_count": 7,
   "id": "atomic-imagination",
   "metadata": {},
   "outputs": [],
   "source": [
    "genes_input= c(\n",
    "    #-- Tg\n",
    "    #Phagocytosis\n",
    "    \"MSR1\",\"RAB1A\",\"RAB7A\"\n",
    "    #\"SRC\",\"GRN\",\"FCGR3A\",\"CTSL\",\"CD68\",\"STAB1\",,\"MYO1E\",\n",
    "\n",
    "    \n",
    "    # ROS production\n",
    "    \"ARF6\",\"MT-ND1\",\"MT-ND2\",\"MT-ND4\"\n",
    "\n",
    ")\n",
    "\n",
    "recoverPvalLog2FC(files, columns, genes=genes_input, outdir='../results/tables_limma/', suffix = '_SelectedTg_Immune.csv')\n"
   ]
  },
  {
   "cell_type": "code",
   "execution_count": null,
   "id": "silent-mixture",
   "metadata": {},
   "outputs": [],
   "source": []
  },
  {
   "cell_type": "markdown",
   "id": "cleared-traveler",
   "metadata": {},
   "source": [
    "## AP-1, specific to *T. gondii* infection - Figure 4"
   ]
  },
  {
   "cell_type": "code",
   "execution_count": 27,
   "id": "incredible-berkeley",
   "metadata": {},
   "outputs": [],
   "source": [
    "genes_input= c(\n",
    "    #-- AP-1\n",
    "    \"FOS\",\"FOSB\",\"JUN\",\"JUND\"\n",
    ")\n",
    "\n",
    "recoverPvalLog2FC(files, columns, genes=genes_input, outdir='../results/tables_limma/', suffix = '_SelectedAP1.csv')\n",
    "\n"
   ]
  },
  {
   "cell_type": "code",
   "execution_count": null,
   "id": "impossible-prime",
   "metadata": {},
   "outputs": [],
   "source": []
  },
  {
   "cell_type": "markdown",
   "id": "emotional-enhancement",
   "metadata": {},
   "source": [
    "## CellPhoneDB interaction heatmap, specific to *T. gondii* infection - Figure 4"
   ]
  },
  {
   "cell_type": "code",
   "execution_count": null,
   "id": "proud-treasure",
   "metadata": {},
   "outputs": [],
   "source": [
    "genes_input= c(\"NECTIN2\",\"ANXA1\")\n",
    "\n",
    "recoverPvalLog2FC(files, columns, genes=genes_input, outdir='../results/tables_limma/', suffix = '_macrophagesInteractionPanel_Tg.csv')"
   ]
  },
  {
   "cell_type": "code",
   "execution_count": null,
   "id": "compound-number",
   "metadata": {},
   "outputs": [],
   "source": []
  },
  {
   "cell_type": "code",
   "execution_count": null,
   "id": "considered-hygiene",
   "metadata": {},
   "outputs": [],
   "source": []
  },
  {
   "cell_type": "code",
   "execution_count": null,
   "id": "waiting-welsh",
   "metadata": {},
   "outputs": [],
   "source": []
  },
  {
   "cell_type": "markdown",
   "id": "immediate-customs",
   "metadata": {},
   "source": [
    "-----"
   ]
  },
  {
   "cell_type": "markdown",
   "id": "recognized-acceptance",
   "metadata": {},
   "source": [
    "### Other genes tested"
   ]
  },
  {
   "cell_type": "raw",
   "id": "strategic-limit",
   "metadata": {},
   "source": [
    "#-- Tg UP\n",
    "\"HMOX1\",\"SLC11A1\",\"IRF8\")\n",
    "\n",
    "#-- Th2\n",
    "\"IL1B\",\"CCL22\",\"CXCL10\", \"IL4\",\"IL5\",\"IL13\",\"GATA3\"\n",
    "\n",
    "#-- Sting \n",
    "\"STING1\",\"CGAS\"\n",
    "\n",
    "#-- EPs\n",
    "\"PTGER2\",\"PTGER4\""
   ]
  }
 ],
 "metadata": {
  "kernelspec": {
   "display_name": "R",
   "language": "R",
   "name": "ir"
  },
  "language_info": {
   "codemirror_mode": "r",
   "file_extension": ".r",
   "mimetype": "text/x-r-source",
   "name": "R",
   "pygments_lexer": "r",
   "version": "4.0.4"
  }
 },
 "nbformat": 4,
 "nbformat_minor": 5
}
