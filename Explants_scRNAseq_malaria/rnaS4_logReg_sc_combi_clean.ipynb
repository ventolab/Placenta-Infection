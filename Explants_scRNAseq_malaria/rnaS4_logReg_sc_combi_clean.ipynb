{
 "cells": [
  {
   "cell_type": "markdown",
   "id": "portuguese-express",
   "metadata": {},
   "source": [
    "## Combi rna_S4_cluster_allcells_clean"
   ]
  },
  {
   "cell_type": "code",
   "execution_count": 1,
   "id": "lasting-alignment",
   "metadata": {
    "tags": []
   },
   "outputs": [
    {
     "name": "stderr",
     "output_type": "stream",
     "text": [
      "WARNING: If you miss a compact list, please try `print_header`!\n"
     ]
    },
    {
     "name": "stdout",
     "output_type": "stream",
     "text": [
      "-----\n",
      "anndata     0.7.5\n",
      "scanpy      1.7.1\n",
      "sinfo       0.3.1\n",
      "-----\n",
      "PIL                 8.1.2\n",
      "anndata             0.7.5\n",
      "anyio               NA\n",
      "attr                20.3.0\n",
      "babel               2.9.0\n",
      "backcall            0.2.0\n",
      "brotli              NA\n",
      "cairo               1.20.0\n",
      "certifi             2020.12.05\n",
      "cffi                1.14.5\n",
      "chardet             4.0.0\n",
      "cloudpickle         1.6.0\n",
      "colorama            0.4.4\n",
      "cycler              0.10.0\n",
      "cython_runtime      NA\n",
      "cytoolz             0.11.0\n",
      "dask                2021.03.1\n",
      "dateutil            2.8.1\n",
      "decorator           4.4.2\n",
      "fsspec              0.8.7\n",
      "get_version         2.1\n",
      "google              NA\n",
      "h5py                3.1.0\n",
      "idna                2.10\n",
      "igraph              0.8.3\n",
      "ipykernel           5.5.0\n",
      "ipython_genutils    0.2.0\n",
      "jedi                0.18.0\n",
      "jinja2              2.11.3\n",
      "joblib              1.0.1\n",
      "json5               NA\n",
      "jsonschema          3.2.0\n",
      "jupyter_server      1.4.1\n",
      "jupyterlab_server   2.3.0\n",
      "kiwisolver          1.3.1\n",
      "legacy_api_wrap     0.0.0\n",
      "leidenalg           0.8.3\n",
      "llvmlite            0.34.0\n",
      "louvain             0.7.0\n",
      "markupsafe          1.1.1\n",
      "matplotlib          3.3.4\n",
      "mpl_toolkits        NA\n",
      "natsort             7.1.1\n",
      "nbclassic           NA\n",
      "nbformat            5.1.2\n",
      "numba               0.51.2\n",
      "numexpr             2.7.3\n",
      "numpy               1.20.1\n",
      "packaging           20.9\n",
      "pandas              1.2.3\n",
      "parso               0.8.1\n",
      "pexpect             4.8.0\n",
      "pickleshare         0.7.5\n",
      "pkg_resources       NA\n",
      "prometheus_client   NA\n",
      "prompt_toolkit      3.0.16\n",
      "psutil              5.8.0\n",
      "ptyprocess          0.7.0\n",
      "pvectorc            NA\n",
      "pyarrow             0.16.0\n",
      "pygments            2.8.0\n",
      "pyparsing           2.4.7\n",
      "pyrsistent          NA\n",
      "pytoml              NA\n",
      "pytz                2021.1\n",
      "requests            2.25.1\n",
      "ruamel              NA\n",
      "scanpy              1.7.1\n",
      "scipy               1.6.1\n",
      "send2trash          NA\n",
      "setuptools_scm      NA\n",
      "sinfo               0.3.1\n",
      "six                 1.15.0\n",
      "sklearn             0.24.1\n",
      "sniffio             1.2.0\n",
      "socks               1.7.1\n",
      "sphinxcontrib       NA\n",
      "storemagic          NA\n",
      "tables              3.6.1\n",
      "tblib               1.7.0\n",
      "texttable           1.6.3\n",
      "tlz                 0.11.0\n",
      "toolz               0.11.1\n",
      "tornado             6.1\n",
      "traitlets           5.0.5\n",
      "typing_extensions   NA\n",
      "urllib3             1.26.3\n",
      "wcwidth             0.2.5\n",
      "yaml                5.3.1\n",
      "zmq                 22.0.3\n",
      "-----\n",
      "IPython             7.21.0\n",
      "jupyter_client      6.1.11\n",
      "jupyter_core        4.7.1\n",
      "jupyterlab          3.0.9\n",
      "notebook            6.2.0\n",
      "-----\n",
      "Python 3.8.8 | packaged by conda-forge | (default, Feb 20 2021, 16:22:27) [GCC 9.3.0]\n",
      "Linux-4.15.0-112-generic-x86_64-with-glibc2.10\n",
      "26 logical CPU cores, x86_64\n",
      "-----\n",
      "Session information updated at 2022-04-21 08:25\n",
      "\n"
     ]
    },
    {
     "data": {
      "text/plain": [
       "'/opt/conda/bin/python'"
      ]
     },
     "execution_count": 1,
     "metadata": {},
     "output_type": "execute_result"
    }
   ],
   "source": [
    "import numpy as np\n",
    "import pandas as pd\n",
    "import scanpy as sc\n",
    "import anndata\n",
    "import os\n",
    "import sys\n",
    "from sklearn.linear_model import LogisticRegression\n",
    "\n",
    "def MovePlots(plotpattern, subplotdir):\n",
    "    if not os.path.exists(sc.settings.figdir+subplotdir):\n",
    "        os.makedirs(sc.settings.figdir+subplotdir)\n",
    "    os.system('mv '+sc.settings.figdir+'*'+plotpattern+'*.* '+sc.settings.figdir+'/'+subplotdir)\n",
    "\n",
    "    \n",
    "sc.settings.verbosity = 3  # verbosity: errors (0), warnings (1), info (2), hints (3)\n",
    "sc.settings.figdir = './figures/logregression'\n",
    "\n",
    "sc.logging.print_versions()\n",
    "sc.settings.set_figure_params(dpi=80)  # low dpi (dots per inch) yields small inline figures\n",
    "\n",
    "sys.executable"
   ]
  },
  {
   "cell_type": "markdown",
   "id": "exempt-capitol",
   "metadata": {},
   "source": [
    "## Load test dataset/raw counts"
   ]
  },
  {
   "cell_type": "code",
   "execution_count": 2,
   "id": "painful-immunology",
   "metadata": {},
   "outputs": [],
   "source": [
    "adataTest=sc.read('S3_rna_cluster_annotate_1_clean.h5ad')"
   ]
  },
  {
   "cell_type": "code",
   "execution_count": 3,
   "id": "single-implementation",
   "metadata": {},
   "outputs": [
    {
     "data": {
      "text/plain": [
       "AnnData object with n_obs × n_vars = 37974 × 34830\n",
       "    obs: 'sample', 'stage', 'donor_id', 'percent_mito', 'n_counts', 'n_genes', 'batch', 'low_ncounts', 'high_mito', 'low_ncounts_high_mito', 'n_genes_by_counts', 'total_counts', 'total_counts_hum', 'pct_counts_hum', 'total_counts_pf', 'pct_counts_pf', 'stage_0', 'S_score', 'G2M_score', 'phase', 'scrublet_score', 'scrublet_cluster_score', 'zscore', 'bh_pval', 'bonf_pval', 'is_doublet', 'is_doublet_0.05', 'sample_barcode', 'assignment', 'leiden', 'MFidentity', 'cluster'\n",
       "    var: 'gene_ids', 'feature_types', 'n_cells', 'hum', 'pf', 'n_cells_by_counts', 'mean_counts', 'pct_dropout_by_counts', 'total_counts', 'n_counts', 'highly_variable', 'highly_variable_rank', 'means', 'variances', 'variances_norm', 'highly_variable_nbatches'\n",
       "    uns: 'MFidentity_colors', 'assignment_colors', 'cluster_colors', 'donor_id_colors', 'hvg', 'leiden', 'leiden_colors', 'neighbors', 'phase_colors', 'rank_genes_groups', 'sample_colors', 'stage_0_colors', 'stage_colors', 'umap'\n",
       "    obsm: 'X_scVI', 'X_umap'\n",
       "    obsp: 'connectivities', 'distances'"
      ]
     },
     "execution_count": 3,
     "metadata": {},
     "output_type": "execute_result"
    }
   ],
   "source": [
    "adataTest"
   ]
  },
  {
   "cell_type": "code",
   "execution_count": 5,
   "id": "organized-asthma",
   "metadata": {},
   "outputs": [
    {
     "name": "stderr",
     "output_type": "stream",
     "text": [
      "filtered out 23 genes that are detected in less than 3 cells\n",
      "/opt/conda/lib/python3.8/site-packages/pandas/core/arrays/categorical.py:2487: FutureWarning: The `inplace` parameter in pandas.Categorical.remove_unused_categories is deprecated and will be removed in a future version.\n",
      "  res = method(*args, **kwargs)\n",
      "normalizing by total count per cell\n",
      "    finished (0:00:03): normalized adata.X and added    'n_counts', counts per cell before normalization (adata.obs)\n",
      "extracting highly variable genes\n",
      "    finished (0:00:04)\n",
      "--> added\n",
      "    'highly_variable', boolean vector (adata.var)\n",
      "    'means', float vector (adata.var)\n",
      "    'dispersions', float vector (adata.var)\n",
      "    'dispersions_norm', float vector (adata.var)\n",
      "/opt/conda/lib/python3.8/site-packages/pandas/core/arrays/categorical.py:2487: FutureWarning: The `inplace` parameter in pandas.Categorical.remove_unused_categories is deprecated and will be removed in a future version.\n",
      "  res = method(*args, **kwargs)\n"
     ]
    },
    {
     "data": {
      "text/plain": [
       "(37974, 3697)"
      ]
     },
     "execution_count": 5,
     "metadata": {},
     "output_type": "execute_result"
    }
   ],
   "source": [
    "sc.pp.filter_genes(adataTest, min_cells=3)\n",
    "sc.pp.normalize_per_cell(adataTest, counts_per_cell_after=1e4)\n",
    "sc.pp.log1p(adataTest)\n",
    "sc.pp.highly_variable_genes(adataTest, min_mean=0.0125, min_disp=0.25)\n",
    "highly_variable_genes = adataTest.var[\"highly_variable\"]\n",
    "adataTest = adataTest[:, highly_variable_genes]\n",
    "# sc.pp.scale(adata, max_value=10)\n",
    "adataTest.X.shape"
   ]
  },
  {
   "cell_type": "markdown",
   "id": "twenty-chassis",
   "metadata": {},
   "source": [
    "## Load reference data"
   ]
  },
  {
   "cell_type": "code",
   "execution_count": 6,
   "id": "racial-diameter",
   "metadata": {},
   "outputs": [],
   "source": [
    "adataRef = sc.read('/lustre/scratch117/cellgen/team292/rh26/10_exp_nuclei_temp/nS2_scVIintegrated_adata_latent30_cleanV4_fetal_raw.h5ad')"
   ]
  },
  {
   "cell_type": "code",
   "execution_count": 7,
   "id": "useful-dance",
   "metadata": {},
   "outputs": [
    {
     "data": {
      "text/plain": [
       "AnnData object with n_obs × n_vars = 103716 × 31625\n",
       "    obs: 'n_genes', 'sample', 'donor', 'termination', 'day', 'pcw', 'percent_mito', 'n_counts', 'batch', 'sample_barcode', 'souporcell_id', 'donor_deconv', 'donor_souporcell', 'scrublet_score', 'scrublet_cluster_score', 'zscore', 'bh_pval', 'bonf_pval', 'is_doublet', '_scvi_batch', '_scvi_labels', '_scvi_local_l_mean', '_scvi_local_l_var', 'leiden_pca', 'scrublet_doublet', 'leiden_scvi', 'celltype_predictions', 'probabilities', 'souporcell_MFgenotype', 'identity', 'souporcell_MFidentity'\n",
       "    var: 'gene_ids-0', 'feature_types-0', 'n_cells-0', 'gene_ids-1', 'feature_types-1', 'n_cells-1', 'gene_ids-10', 'feature_types-10', 'n_cells-10', 'gene_ids-11', 'feature_types-11', 'n_cells-11', 'gene_ids-2', 'feature_types-2', 'n_cells-2', 'gene_ids-3', 'feature_types-3', 'n_cells-3', 'gene_ids-4', 'feature_types-4', 'n_cells-4', 'gene_ids-5', 'feature_types-5', 'n_cells-5', 'gene_ids-6', 'feature_types-6', 'n_cells-6', 'gene_ids-7', 'feature_types-7', 'n_cells-7', 'gene_ids-8', 'feature_types-8', 'n_cells-8', 'gene_ids-9', 'feature_types-9', 'n_cells-9'\n",
       "    uns: '_scvi', 'celltype_predictions_colors', 'day_colors', 'donor_souporcell_colors', 'identity_colors', 'leiden', 'neighbors', 'pca', 'pcw_colors', 'sample_colors', 'scrublet_doublet_colors', 'souporcell_MFidentity_colors', 'termination_colors', 'umap'\n",
       "    obsm: 'X_pca', 'X_scVI_n_latent_10', 'X_scVI_n_latent_20', 'X_scVI_n_latent_30', 'X_scVI_n_latent_40', 'X_scVI_n_latent_50', 'X_umap', '_scvi_extra_categoricals'"
      ]
     },
     "execution_count": 7,
     "metadata": {},
     "output_type": "execute_result"
    }
   ],
   "source": [
    "adataRef"
   ]
  },
  {
   "cell_type": "code",
   "execution_count": 9,
   "id": "theoretical-making",
   "metadata": {},
   "outputs": [
    {
     "name": "stderr",
     "output_type": "stream",
     "text": [
      "filtered out 368 genes that are detected in less than 3 cells\n",
      "normalizing by total count per cell\n",
      "    finished (0:00:05): normalized adata.X and added    'n_counts', counts per cell before normalization (adata.obs)\n",
      "extracting highly variable genes\n",
      "    finished (0:00:10)\n",
      "--> added\n",
      "    'highly_variable', boolean vector (adata.var)\n",
      "    'means', float vector (adata.var)\n",
      "    'dispersions', float vector (adata.var)\n",
      "    'dispersions_norm', float vector (adata.var)\n",
      "/opt/conda/lib/python3.8/site-packages/pandas/core/arrays/categorical.py:2487: FutureWarning: The `inplace` parameter in pandas.Categorical.remove_unused_categories is deprecated and will be removed in a future version.\n",
      "  res = method(*args, **kwargs)\n"
     ]
    },
    {
     "data": {
      "text/plain": [
       "(103716, 5714)"
      ]
     },
     "execution_count": 9,
     "metadata": {},
     "output_type": "execute_result"
    }
   ],
   "source": [
    "#adataRef = anndata.AnnData(X=np.expm1(adataRef.raw.X), var=adataRef.raw.var, obs=adataRef.obs, asview=False)\n",
    "sc.pp.filter_genes(adataRef, min_cells=3)\n",
    "sc.pp.normalize_per_cell(adataRef, counts_per_cell_after=1e4)\n",
    "sc.pp.log1p(adataRef)\n",
    "sc.pp.highly_variable_genes(adataRef, min_mean=0.0125, min_disp=0.25)\n",
    "highly_variable_genes = adataRef.var[\"highly_variable\"]\n",
    "adataRef = adataRef[:, highly_variable_genes]\n",
    "# sc.pp.scale(adata, max_value=10)\n",
    "adataRef.X.shape"
   ]
  },
  {
   "cell_type": "markdown",
   "id": "christian-grain",
   "metadata": {},
   "source": [
    "### Add annotation"
   ]
  },
  {
   "cell_type": "code",
   "execution_count": 10,
   "id": "optimum-effort",
   "metadata": {},
   "outputs": [
    {
     "data": {
      "text/plain": [
       "Index(['B cells', 'DC1', 'EVT', 'Endo f', 'Endo m', 'Epi 1', 'Epi 2', 'Ery',\n",
       "       'F1', 'F2', 'GR', 'HBs', 'M3', 'M3_b', 'MO', 'PV', 'Ret', 'SCT',\n",
       "       'T cells', 'Tregs', 'VCT', 'dM1', 'dM2', 'dNK1', 'dNK3', 'dS1', 'dS2',\n",
       "       'dS3'],\n",
       "      dtype='object')"
      ]
     },
     "execution_count": 10,
     "metadata": {},
     "output_type": "execute_result"
    }
   ],
   "source": [
    "adataRef.obs['identity'].cat.categories"
   ]
  },
  {
   "cell_type": "code",
   "execution_count": 11,
   "id": "resistant-fields",
   "metadata": {},
   "outputs": [
    {
     "name": "stderr",
     "output_type": "stream",
     "text": [
      "Trying to set attribute `.obs` of view, copying.\n"
     ]
    }
   ],
   "source": [
    "adataRef.obs['identity_LR'] = adataRef.obs['identity']"
   ]
  },
  {
   "cell_type": "markdown",
   "id": "precious-consideration",
   "metadata": {},
   "source": [
    "### Filter common genes,  using either HVG overlap or non-HVG overlap"
   ]
  },
  {
   "cell_type": "code",
   "execution_count": 12,
   "id": "fiscal-norman",
   "metadata": {},
   "outputs": [
    {
     "name": "stdout",
     "output_type": "stream",
     "text": [
      "common genes:  2659\n",
      "(103716, 2659)\n",
      "(37974, 2659)\n"
     ]
    }
   ],
   "source": [
    "common_genes = list(set(adataRef.var.index.values).intersection(adataTest.var.index.values))\n",
    "print('common genes: ', len(common_genes))\n",
    "adataTest = adataTest[:,common_genes]\n",
    "adataRef = adataRef[:,common_genes]\n",
    "print(adataRef.X.shape)\n",
    "print(adataTest.X.shape)"
   ]
  },
  {
   "cell_type": "code",
   "execution_count": 13,
   "id": "suburban-beatles",
   "metadata": {},
   "outputs": [
    {
     "name": "stdout",
     "output_type": "stream",
     "text": [
      "2659 genes are shared between annotated train and our joint data \n",
      " 2659 genes in training data \n",
      " 2659 genes in test joint data \n",
      "\n"
     ]
    }
   ],
   "source": [
    "# list of genes shared data\n",
    "# doing sorted on the overall list is VERY important for consistent ordering of the genes\n",
    "common_genes = sorted(list(set(adataRef.var_names) & set(adataTest.var_names)))\n",
    "print(len(common_genes),\"genes are shared between annotated train and our joint data \\n\",\n",
    "      len(set(adataRef.var_names)), 'genes in training data \\n',\n",
    "      len((set(adataTest.var_names))), 'genes in test joint data \\n')"
   ]
  },
  {
   "cell_type": "markdown",
   "id": "aware-racing",
   "metadata": {},
   "source": [
    "### Build a regression classifier from EXPLANT-ELIAS annotated ref dataset"
   ]
  },
  {
   "cell_type": "code",
   "execution_count": null,
   "id": "attended-status",
   "metadata": {},
   "outputs": [],
   "source": [
    "logisticRegr = LogisticRegression(max_iter = 2000, n_jobs = -1, random_state = 0, C=0.2)\n",
    "logisticRegr.fit(adataRef.X, [str(i) for i in adataRef.obs['identity_LR'].values])"
   ]
  },
  {
   "cell_type": "markdown",
   "id": "saved-prague",
   "metadata": {},
   "source": [
    "### Classify predictions in test samples"
   ]
  },
  {
   "cell_type": "code",
   "execution_count": null,
   "id": "excellent-norfolk",
   "metadata": {},
   "outputs": [],
   "source": [
    "predictions = logisticRegr.predict(adataTest.X)\n",
    "adataTest.obs['predictions'] = predictions\n",
    "probabilities = logisticRegr.predict_proba(adataTest.X)\n",
    "probs_adataTest = []\n",
    "for i,clus in enumerate(adataTest.obs['predictions']):\n",
    "    probs_adataTest.append(probabilities[i,logisticRegr.classes_==clus][0])"
   ]
  },
  {
   "cell_type": "code",
   "execution_count": null,
   "id": "maritime-senate",
   "metadata": {},
   "outputs": [],
   "source": [
    "adataTest"
   ]
  },
  {
   "cell_type": "code",
   "execution_count": null,
   "id": "radio-delhi",
   "metadata": {},
   "outputs": [],
   "source": [
    "adataTest.obs['probabilities'] = probs_adataTest\n",
    "#pf_adata.obsm[\"X_umap\"] = pf_adataP.obsm[\"X_umap_noDiff\"]\n",
    "adataTest.obsm[\"X_umap\"] =adataTest.obsm[\"X_umap\"]\n",
    "sc.pl.umap(adataTest, color=['probabilities', 'predictions' ])"
   ]
  },
  {
   "cell_type": "code",
   "execution_count": null,
   "id": "therapeutic-packaging",
   "metadata": {},
   "outputs": [],
   "source": [
    "adataTest.raw = adataTest.copy()"
   ]
  },
  {
   "cell_type": "code",
   "execution_count": null,
   "id": "aquatic-atlas",
   "metadata": {},
   "outputs": [],
   "source": [
    "adataTest.X.shape"
   ]
  },
  {
   "cell_type": "code",
   "execution_count": null,
   "id": "historic-register",
   "metadata": {},
   "outputs": [],
   "source": [
    "sc.pl.umap(adataTest, color='predictions', legend_fontoutline=2,save='_logreg_from_explants_elias.pdf')"
   ]
  },
  {
   "cell_type": "code",
   "execution_count": null,
   "id": "wireless-lighting",
   "metadata": {},
   "outputs": [],
   "source": [
    "sc.pl.umap(adataTest, color=['probabilities'],save='_logreg_probabilities_from_explants_elias.pdf')"
   ]
  },
  {
   "cell_type": "code",
   "execution_count": null,
   "id": "automotive-cream",
   "metadata": {},
   "outputs": [],
   "source": [
    "adataTest.write('S4_rna_logregression_annotate_1_clean.h5ad')\n",
    "adataTest.X.shape"
   ]
  },
  {
   "cell_type": "code",
   "execution_count": null,
   "id": "fifteen-point",
   "metadata": {},
   "outputs": [],
   "source": [
    "sc.pl.umap(adataTest[[ i > 0.5 for i in adataTest.obs['probabilities']  ]], color=['stage', 'probabilities', 'predictions' ])"
   ]
  },
  {
   "cell_type": "code",
   "execution_count": null,
   "id": "weekly-capitol",
   "metadata": {},
   "outputs": [],
   "source": [
    "sc.pl.umap(adataTest[[ i > 0.8 for i in adataTest.obs['probabilities']  ]], color=['stage', 'probabilities', 'predictions' ])"
   ]
  },
  {
   "cell_type": "code",
   "execution_count": null,
   "id": "unusual-spectrum",
   "metadata": {},
   "outputs": [],
   "source": [
    "sc.pl.umap(adataTest[[ i > 0.9 for i in adataTest.obs['probabilities']  ]], color=['stage', 'probabilities', 'predictions' ])"
   ]
  },
  {
   "cell_type": "markdown",
   "id": "surprising-ordinance",
   "metadata": {},
   "source": [
    "## "
   ]
  },
  {
   "cell_type": "code",
   "execution_count": null,
   "id": "registered-excitement",
   "metadata": {},
   "outputs": [],
   "source": []
  },
  {
   "cell_type": "code",
   "execution_count": null,
   "id": "economic-encounter",
   "metadata": {},
   "outputs": [],
   "source": []
  }
 ],
 "metadata": {
  "kernelspec": {
   "display_name": "Python 3",
   "language": "python",
   "name": "python3"
  },
  "language_info": {
   "codemirror_mode": {
    "name": "ipython",
    "version": 3
   },
   "file_extension": ".py",
   "mimetype": "text/x-python",
   "name": "python",
   "nbconvert_exporter": "python",
   "pygments_lexer": "ipython3",
   "version": "3.8.8"
  }
 },
 "nbformat": 4,
 "nbformat_minor": 5
}
